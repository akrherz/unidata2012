{
 "metadata": {
  "name": "watch2shapefile"
 },
 "nbformat": 3,
 "nbformat_minor": 0,
 "worksheets": [
  {
   "cells": [
    {
     "cell_type": "markdown",
     "metadata": {},
     "source": [
      "# Storm Prediction Center Watch Outline to ESRI Shapefile\n",
      "\n",
      "ESRI Shapefile is a popular format for Geographic Information Systems (GIS),\n",
      "including ESRI's flagship product: ArcGIS.  It would sure be nice to get\n",
      "some of the meteorological data into a format readable by ArcGIS.  So let us\n",
      "parse a Storm Prediction Center watch outline into an ESRI shapefile!\n",
      "\n",
      "### Knowledge Requirements\n",
      "\n",
      "You should be somewhat familiar with the shapefile \"format\".  There are always\n",
      "at least three files:\n",
      "\n",
      "* one `.shp` suffixed file containing the raw shapes\n",
      "* one `.dbf` suffixed file, which is in dbase IV format.\n",
      "* one `.shx` suffixed file, containing some shape index stuff.\n",
      "\n",
      "Typically, these are combined into one zip file for distribution.  A more \n",
      "robust implementation would also include a metadata file and a file that\n",
      "contains projection information.  The example hard codes the projection information into a .prj file.\n",
      "\n",
      "### Python Requirements\n",
      "\n",
      "We are going to use [pyshapelib](http://code.google.com/p/polipoly/wiki/ShapeLib)\n",
      "to accomplish this task.  There are many other libraries out there\n",
      "that generate shapefiles, but this one works as well.\n",
      "\n",
      "### Goals\n",
      "\n",
      "1. Show simple parsing of a NWS text file\n",
      "2. Create a shapefile and write this information to it.\n",
      "3. Bundle this information into a zipfile for distribution"
     ]
    },
    {
     "cell_type": "code",
     "collapsed": true,
     "input": [
      "# Python standard modules\n",
      "import re\n",
      "import zipfile\n",
      "\n",
      "# Python 3rd Party imports\n",
      "import shapelib\n",
      "import dbflib"
     ],
     "language": "python",
     "metadata": {},
     "outputs": [],
     "prompt_number": 1
    },
    {
     "cell_type": "code",
     "collapsed": true,
     "input": [
      "SAW2 = \"\"\"257 \n",
      "WWUS30 KWNS 282128\n",
      "SAW2  \n",
      "\n",
      "SPC AWW 282128\n",
      "WW 9992 TEST SEVERE TSTM CA NV CW 282130Z - 282200Z\n",
      "AXIS..95 STATUTE MILES EITHER SIDE OF LINE..\n",
      "75SW TRM/THERMAL CA/ - 75NNE DRA/DESERT ROCK NV/\n",
      "..AVIATION COORDS.. 85NM EITHER SIDE /9ENE MZB - 62WSW ILC/\n",
      "WIND GUSTS..0 KNOTS. \n",
      "MAX TOPS TO 0.MEAN STORM MOTION VECTOR 1900.\n",
      "\n",
      "LAT...LON 33311862 38131712 37181384 32381555\n",
      "\n",
      "THIS IS AN APPROXIMATION TO THE WATCH AREA.  FOR A\n",
      "COMPLETE DEPICTION OF THE WATCH SEE WOUS64 KWNS\n",
      "FOR WOU2.\"\"\""
     ],
     "language": "python",
     "metadata": {},
     "outputs": [],
     "prompt_number": 2
    },
    {
     "cell_type": "code",
     "collapsed": false,
     "input": [
      "# Lets parse this SAW2 string\n",
      "regex = \"([0-9]{8}) ([0-9]{8}) ([0-9]{8}) ([0-9]{8})\"\n",
      "tokens = re.findall(regex, SAW2)\n",
      "\n",
      "# Create a list to store our pairs!\n",
      "pairs = []\n",
      "for token in tokens[0]:\n",
      "    latstr = token[:4] # First four chars\n",
      "    lonstr = token[4:] # Last four chars\n",
      "    lat = float(latstr) / 100.0 # Convert to float\n",
      "    lon = 0 - float(lonstr) / 100.0 \n",
      "    # NWS suckage here, values less than -50 are actually\n",
      "    # on the left side of 100W meridian\n",
      "    if lon > -50:\n",
      "        lon -= 100.0\n",
      "    pairs.append( (lon, lat) )\n",
      "\n",
      "# Need to close the loop by repeating the first point\n",
      "pairs.append( pairs[0] )\n",
      "print pairs"
     ],
     "language": "python",
     "metadata": {},
     "outputs": [
      {
       "output_type": "stream",
       "stream": "stdout",
       "text": [
        "[(-118.62, 33.310000000000002), (-117.12, 38.130000000000003), (-113.84, 37.18), (-115.55, 32.380000000000003), (-118.62, 33.310000000000002)]\n"
       ]
      }
     ],
     "prompt_number": 3
    },
    {
     "cell_type": "code",
     "collapsed": true,
     "input": [
      "shp = shapelib.create(\"watch\", shapelib.SHPT_POLYGON)\n",
      "dbf = dbflib.create(\"watch\")\n",
      "dbf.add_field(\"TYPE\", dbflib.FTString, 3, 0)\n",
      "\n",
      "d = {}\n",
      "d[\"TYPE\"] = 'SVR'\n",
      "\t\n",
      "obj = shapelib.SHPObject(shapelib.SHPT_POLYGON, 1, [pairs])\n",
      "shp.write_object(-1, obj)\n",
      "dbf.write_record(0, d)\n",
      "\n",
      "# Important, this closes the filescriptors\n",
      "del(dbf)\n",
      "del(shp)"
     ],
     "language": "python",
     "metadata": {},
     "outputs": [],
     "prompt_number": 4
    },
    {
     "cell_type": "code",
     "collapsed": false,
     "input": [
      "EPSG4326 = \"\"\"GEOGCS[\"GCS_North_American_1983\",DATUM[\"D_North_American_1983\",SPHEROID[\"GRS_1980\",6378137,298.257222101]],PRIMEM[\"Greenwich\",0],UNIT[\"Degree\",0.0174532925199433]]\"\"\"\n",
      "prj = open('watch.prj', 'w')\n",
      "prj.write(EPSG4326)\n",
      "prj.close()"
     ],
     "language": "python",
     "metadata": {},
     "outputs": [],
     "prompt_number": 5
    },
    {
     "cell_type": "code",
     "collapsed": false,
     "input": [
      "zip = zipfile.ZipFile(\"watch.zip\", 'w', zipfile.ZIP_DEFLATED)\n",
      "zip.write(\"watch.shp\")\n",
      "zip.write(\"watch.shx\")\n",
      "zip.write(\"watch.dbf\")\n",
      "zip.write(\"watch.prj\")\n",
      "zip.close()"
     ],
     "language": "python",
     "metadata": {},
     "outputs": [],
     "prompt_number": 6
    },
    {
     "cell_type": "code",
     "collapsed": true,
     "input": [],
     "language": "python",
     "metadata": {},
     "outputs": []
    }
   ],
   "metadata": {}
  }
 ]
}