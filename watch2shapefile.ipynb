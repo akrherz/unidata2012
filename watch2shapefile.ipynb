{
 "metadata": {
  "name": "watch2shapefile"
 }, 
 "nbformat": 2, 
 "worksheets": [
  {
   "cells": [
    {
     "cell_type": "markdown", 
     "source": [
      "# Storm Prediction Center Watch Outline to ESRI Shapefile", 
      "", 
      "ESRI Shapefile is a popular format for Geographic Information Systems (GIS),", 
      "including ESRI's flagship product: ArcGIS.  It would sure be nice to get", 
      "some of the meteorological data into a format readable by ArcGIS.  So let us", 
      "parse a Storm Prediction Center watch outline into an ESRI shapefile!", 
      "", 
      "### Knowledge Requirements", 
      "", 
      "You should be somewhat familiar with the shapefile \"format\".  There are always", 
      "at least three files:", 
      "", 
      "* one `.shp` suffixed file containing the raw shapes", 
      "* one `.dbf` suffixed file, which is in dbase IV format.", 
      "* one `.shx` suffixed file, containing some shape index stuff.", 
      "", 
      "Typically, these are combined into one zip file for distribution.  A more ", 
      "robust implementation would also include a metadata file and a file that", 
      "contains projection information.", 
      "", 
      "### Python Requirements", 
      "", 
      "We are going to use [pyshapelib](http://code.google.com/p/polipoly/wiki/ShapeLib)", 
      "to accomplish this task.  There are many other libraries out there, but this", 
      "one works as well.", 
      "", 
      "### Goals", 
      "", 
      "1. Show simple parsing of a NWS text file", 
      "2. Create a shapefile and write this information to it.", 
      "3. Bundle this information into a zipfile for distribution"
     ]
    }, 
    {
     "cell_type": "code", 
     "collapsed": true, 
     "input": [
      "# Python standard modules", 
      "import re", 
      "import zipfile", 
      "", 
      "# Python 3rd Party imports", 
      "import shapelib", 
      "import dbflib"
     ], 
     "language": "python", 
     "outputs": [], 
     "prompt_number": 13
    }, 
    {
     "cell_type": "code", 
     "collapsed": true, 
     "input": [
      "SAW2 = \"\"\"257 ", 
      "WWUS30 KWNS 282128", 
      "SAW2  ", 
      "", 
      "SPC AWW 282128", 
      "WW 9992 TEST SEVERE TSTM CA NV CW 282130Z - 282200Z", 
      "AXIS..95 STATUTE MILES EITHER SIDE OF LINE..", 
      "75SW TRM/THERMAL CA/ - 75NNE DRA/DESERT ROCK NV/", 
      "..AVIATION COORDS.. 85NM EITHER SIDE /9ENE MZB - 62WSW ILC/", 
      "WIND GUSTS..0 KNOTS. ", 
      "MAX TOPS TO 0.MEAN STORM MOTION VECTOR 1900.", 
      "", 
      "LAT...LON 33311862 38131712 37181384 32381555", 
      "", 
      "THIS IS AN APPROXIMATION TO THE WATCH AREA.  FOR A", 
      "COMPLETE DEPICTION OF THE WATCH SEE WOUS64 KWNS", 
      "FOR WOU2.\"\"\""
     ], 
     "language": "python", 
     "outputs": [], 
     "prompt_number": 2
    }, 
    {
     "cell_type": "code", 
     "collapsed": false, 
     "input": [
      "# Lets parse this SAW2 string", 
      "regex = \"([0-9]{8}) ([0-9]{8}) ([0-9]{8}) ([0-9]{8})\"", 
      "tokens = re.findall(regex, SAW2)", 
      "", 
      "# Create a list to store our pairs!", 
      "pairs = []", 
      "for token in tokens[0]:", 
      "    latstr = token[:4] # First four chars", 
      "    lonstr = token[4:] # Last four chars", 
      "    lat = float(latstr) / 100.0 # Convert to float", 
      "    lon = 0 - float(lonstr) / 100.0 # Step 1 of lon conversion", 
      "    if lon > -50:", 
      "        lon -= 100.0", 
      "    pairs.append( (lon, lat) )", 
      "", 
      "# Need to close the loop by repeating the first point", 
      "pairs.append( pairs[0] )", 
      "print pairs"
     ], 
     "language": "python", 
     "outputs": [
      {
       "output_type": "stream", 
       "stream": "stdout", 
       "text": [
        "[(-118.62, 33.310000000000002), (-117.12, 38.130000000000003), (-113.84, 37.18), (-115.55, 32.380000000000003), (-118.62, 33.310000000000002)]"
       ]
      }
     ], 
     "prompt_number": 10
    }, 
    {
     "cell_type": "code", 
     "collapsed": true, 
     "input": [
      "shp = shapelib.create(\"watch\", shapelib.SHPT_POLYGON)", 
      "dbf = dbflib.create(\"watch\")", 
      "dbf.add_field(\"TYPE\", dbflib.FTString, 3, 0)", 
      "", 
      "d = {}", 
      "d[\"TYPE\"] = 'SVR'", 
      "\t", 
      "obj = shapelib.SHPObject(shapelib.SHPT_POLYGON, 1, [pairs])", 
      "shp.write_object(-1, obj)", 
      "dbf.write_record(0, d)", 
      "", 
      "del(dbf)", 
      "del(obj)"
     ], 
     "language": "python", 
     "outputs": [], 
     "prompt_number": 11
    }, 
    {
     "cell_type": "code", 
     "collapsed": false, 
     "input": [
      "zip = zipfile.ZipFile(\"watch.zip\", 'w', zipfile.ZIP_DEFLATED)", 
      "zip.write(\"watch.shp\")", 
      "zip.write(\"watch.shx\")", 
      "zip.write(\"watch.dbf\")", 
      "zip.close()"
     ], 
     "language": "python", 
     "outputs": [], 
     "prompt_number": 15
    }, 
    {
     "cell_type": "code", 
     "collapsed": true, 
     "input": [], 
     "language": "python", 
     "outputs": []
    }
   ]
  }
 ]
}