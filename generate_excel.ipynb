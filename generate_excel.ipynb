{
 "metadata": {
  "name": "generate_excel"
 },
 "nbformat": 3,
 "nbformat_minor": 0,
 "worksheets": [
  {
   "cells": [
    {
     "cell_type": "markdown",
     "metadata": {},
     "source": [
      "# Generating Excel Files from Python\n",
      "\n",
      "Like it or not, Excel is the dominate format for interchanging data between\n",
      "collaborators.  Wouldn't it be cool if we could read and write Excel files\n",
      "programatically from python?  Then when we get annoying emails for our \n",
      "data in \"Excel format\" or somebody provides us an Excel file, \n",
      "we can run a script and be done with it!\n",
      "\n",
      "### Knowledge Requirements\n",
      "\n",
      "Basic understanding of object oriented programming in Python would help, but\n",
      "you can probably hack this script enough to make it work for you. You should \n",
      "also know what Microsoft Excel is!\n",
      "\n",
      "### Python Requirements\n",
      "\n",
      "This example uses the [xlrd and xlwt](http://www.python-excel.org/) packages\n",
      "for python.  They can be installed via automated tools, like PyPi.\n",
      "\n",
      "### Goals\n",
      "\n",
      "1. Show simple parsing of string data into arrays\n",
      "2. Show how you can write Excel formatted data files\n",
      "3. Then read this data back for a test"
     ]
    },
    {
     "cell_type": "code",
     "collapsed": true,
     "input": [
      "# Third Party Python Imports\n",
      "import xlwt \n",
      "import xlrd"
     ],
     "language": "python",
     "metadata": {},
     "outputs": [],
     "prompt_number": 1
    },
    {
     "cell_type": "code",
     "collapsed": true,
     "input": [
      "# Dew Point Temperatures [F] for today, we present a typical output \n",
      "# from a database query textual presentation\n",
      "MYDATA = \"\"\" 2012-06-29 00:54:00-05 | 62.96\n",
      " 2012-06-29 01:54:00-05 | 62.96\n",
      " 2012-06-29 02:54:00-05 | 62.96\n",
      " 2012-06-29 03:54:00-05 | 62.96\n",
      " 2012-06-29 04:54:00-05 | 60.98\n",
      " 2012-06-29 05:17:00-05 |  60.8\n",
      " 2012-06-29 05:54:00-05 | 62.06\n",
      " 2012-06-29 06:54:00-05 |    68\n",
      " 2012-06-29 07:17:00-05 |  69.8\n",
      " 2012-06-29 07:54:00-05 | 69.08\n",
      " 2012-06-29 08:54:00-05 | 69.98\"\"\""
     ],
     "language": "python",
     "metadata": {},
     "outputs": [],
     "prompt_number": 2
    },
    {
     "cell_type": "code",
     "collapsed": false,
     "input": [
      "# Create lists (arrays) to hold our data\n",
      "times = []\n",
      "dwpfs = []\n",
      "# Split the MYDATA variable by the line feed\n",
      "for line in MYDATA.split(\"\\n\"):\n",
      "    # Split the line by the |, return into tuple\n",
      "    (datestring, dwpfstring) = line.split(\"|\")\n",
      "    # Append to our arrays above\n",
      "    times.append( datestring )\n",
      "    dwpfs.append( dwpfstring )\n",
      "# Debug a bit\n",
      "print 'I parsed %s rows from MYDATA' % (len(times),)"
     ],
     "language": "python",
     "metadata": {},
     "outputs": [
      {
       "output_type": "stream",
       "stream": "stdout",
       "text": [
        "I parsed 11 rows from MYDATA\n"
       ]
      }
     ],
     "prompt_number": 3
    },
    {
     "cell_type": "code",
     "collapsed": true,
     "input": [
      "# Create Excel Workbook object\n",
      "wb = xlwt.Workbook()\n",
      "# Add a sheet labeled 'Excel Drules'\n",
      "sheet = wb.add_sheet(\"Excel Drules\")\n",
      "# Get the first row, zero-based counting here!\n",
      "row1 = sheet.row(0)\n",
      "# Write strings into columns, zero-based again\n",
      "row1.write(0, 'Time')\n",
      "row1.write(1, 'Dew Point [F]')\n",
      "\n",
      "# Loop over our data, writing it into a row\n",
      "counter = 1\n",
      "for time,dwpf in zip(times,dwpfs):\n",
      "    row = sheet.row(counter)\n",
      "    row.write(0, time)\n",
      "    row.write(1, dwpf)\n",
      "    counter += 1"
     ],
     "language": "python",
     "metadata": {},
     "outputs": [],
     "prompt_number": 4
    },
    {
     "cell_type": "code",
     "collapsed": true,
     "input": [
      "# Call save method on our object to write data to a file\n",
      "wb.save('unidata.xlsx')"
     ],
     "language": "python",
     "metadata": {},
     "outputs": [],
     "prompt_number": 5
    },
    {
     "cell_type": "code",
     "collapsed": false,
     "input": [
      "# Okay, now we are going to read this Excel file back\n",
      "wb = xlrd.open_workbook('unidata.xlsx')\n",
      "# Get the first sheet\n",
      "sheet = wb.sheets()[0]\n",
      "# Iterate over each row in the sheet\n",
      "for i in range(sheet.nrows):\n",
      "    row = sheet.row(i)\n",
      "    print i, row[0], row[1]"
     ],
     "language": "python",
     "metadata": {},
     "outputs": [
      {
       "output_type": "stream",
       "stream": "stdout",
       "text": [
        "0 text:u'Time' text:u'Dew Point [F]'\n",
        "1 text:u' 2012-06-29 00:54:00-05 ' text:u' 62.96'\n",
        "2 text:u' 2012-06-29 01:54:00-05 ' text:u' 62.96'\n",
        "3 text:u' 2012-06-29 02:54:00-05 ' text:u' 62.96'\n",
        "4 text:u' 2012-06-29 03:54:00-05 ' text:u' 62.96'\n",
        "5 text:u' 2012-06-29 04:54:00-05 ' text:u' 60.98'\n",
        "6 text:u' 2012-06-29 05:17:00-05 ' text:u'  60.8'\n",
        "7 text:u' 2012-06-29 05:54:00-05 ' text:u' 62.06'\n",
        "8 text:u' 2012-06-29 06:54:00-05 ' text:u'    68'\n",
        "9 text:u' 2012-06-29 07:17:00-05 ' text:u'  69.8'\n",
        "10 text:u' 2012-06-29 07:54:00-05 ' text:u' 69.08'\n",
        "11 text:u' 2012-06-29 08:54:00-05 ' text:u' 69.98'\n"
       ]
      }
     ],
     "prompt_number": 6
    },
    {
     "cell_type": "markdown",
     "metadata": {},
     "source": [
      "## And we are done.  Exciting!"
     ]
    }
   ],
   "metadata": {}
  }
 ]
}