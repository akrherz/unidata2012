{
 "metadata": {
  "name": "generate_excel"
 }, 
 "nbformat": 2, 
 "worksheets": [
  {
   "cells": [
    {
     "cell_type": "markdown", 
     "source": [
      "# Generating Excel Files from Python", 
      "", 
      "Like it or not, Excel is the dominate format for interchanging data between", 
      "collaborators.  Wouldn't it be cool if we could read and write Excel files", 
      "programatically from python?  Then when we get annoying emails for our ", 
      "data in \"Excel format\" or somebody provides us an Excel file, ", 
      "we can run a script and be done with it!", 
      "", 
      "### Knowledge Requirements", 
      "", 
      "Basic understanding of object oriented programming in Python would help, but", 
      "you can probably hack this script enough to make it work for you.", 
      "", 
      "### Python Requirements", 
      "", 
      "This example uses the [xlrd and xlwt](http://www.python-excel.org/) packages", 
      "for python.  They can be installed via automated tools, like PyPi.", 
      "", 
      "### Goals", 
      "", 
      "1. Show simple parsing of string data into arrays", 
      "2. Show how you can write Excel formatted data files", 
      "3. Then read this data back for a test"
     ]
    }, 
    {
     "cell_type": "code", 
     "collapsed": false, 
     "input": [
      "# Third Party Python Imports", 
      "import xlwt ", 
      "import xlrd"
     ], 
     "language": "python", 
     "outputs": [], 
     "prompt_number": 2
    }, 
    {
     "cell_type": "code", 
     "collapsed": true, 
     "input": [
      "# Dew Point Temperatures [F] for today", 
      "MYDATA = \"\"\" 2012-06-29 00:54:00-05 | 62.96", 
      " 2012-06-29 01:54:00-05 | 62.96", 
      " 2012-06-29 02:54:00-05 | 62.96", 
      " 2012-06-29 03:54:00-05 | 62.96", 
      " 2012-06-29 04:54:00-05 | 60.98", 
      " 2012-06-29 05:17:00-05 |  60.8", 
      " 2012-06-29 05:54:00-05 | 62.06", 
      " 2012-06-29 06:54:00-05 |    68", 
      " 2012-06-29 07:17:00-05 |  69.8", 
      " 2012-06-29 07:54:00-05 | 69.08", 
      " 2012-06-29 08:54:00-05 | 69.98\"\"\""
     ], 
     "language": "python", 
     "outputs": [], 
     "prompt_number": 3
    }, 
    {
     "cell_type": "code", 
     "collapsed": false, 
     "input": [
      "# Create lists (arrays) to hold our data", 
      "times = []", 
      "dwpfs = []", 
      "# Split the MYDATA variable by the line feed", 
      "for line in MYDATA.split(\"\\n\"):", 
      "    # Split the line by the |, return into tuple", 
      "    (datestring, dwpfstring) = line.split(\"|\")", 
      "    # Append to our arrays above", 
      "    times.append( datestring )", 
      "    dwpfs.append( dwpfstring )", 
      "# Debug a bit", 
      "print 'I parsed %s rows from MYDATA' % (len(times),)"
     ], 
     "language": "python", 
     "outputs": [
      {
       "output_type": "stream", 
       "stream": "stdout", 
       "text": [
        "I parsed 11 rows from MYDATA"
       ]
      }
     ], 
     "prompt_number": 20
    }, 
    {
     "cell_type": "code", 
     "collapsed": false, 
     "input": [
      "# Create Excel Workbook object", 
      "wb = xlwt.Workbook()", 
      "# Add a sheet labeled 'Excel Drules'", 
      "sheet = wb.add_sheet(\"Excel Drules\")", 
      "# Get the first row, zero-based counting here!", 
      "row1 = sheet.row(0)", 
      "# Write strings into columns, zero-based again", 
      "row1.write(0, 'Time')", 
      "row1.write(1, 'Dew Point [F]')", 
      "", 
      "# Loop over our data, writing it into a row", 
      "counter = 1", 
      "for time,dwpf in zip(times,dwpfs):", 
      "    row = sheet.row(counter)", 
      "    row.write(0, time)", 
      "    row.write(1, dwpf)", 
      "    counter += 1"
     ], 
     "language": "python", 
     "outputs": [], 
     "prompt_number": 21
    }, 
    {
     "cell_type": "code", 
     "collapsed": true, 
     "input": [
      "# Call save method on our object to write data to a file", 
      "wb.save('unidata.xlsx')"
     ], 
     "language": "python", 
     "outputs": [], 
     "prompt_number": 6
    }, 
    {
     "cell_type": "code", 
     "collapsed": false, 
     "input": [
      "# Okay, now we are going to read this Excel file back", 
      "wb = xlrd.open_workbook('unidata.xlsx')", 
      "# Get the first sheet", 
      "sheet = wb.sheets()[0]", 
      "# Iterate over each row in the sheet", 
      "for i in range(sheet.nrows):", 
      "    row = sheet.row(i)", 
      "    print i, row[0], row[1]"
     ], 
     "language": "python", 
     "outputs": [
      {
       "output_type": "stream", 
       "stream": "stdout", 
       "text": [
        "0 text:u'Time' text:u'Dew Point [F]'", 
        "1 text:u' 2012-06-29 00:54:00-05 ' text:u' 62.96'", 
        "2 text:u' 2012-06-29 01:54:00-05 ' text:u' 62.96'", 
        "3 text:u' 2012-06-29 02:54:00-05 ' text:u' 62.96'", 
        "4 text:u' 2012-06-29 03:54:00-05 ' text:u' 62.96'", 
        "5 text:u' 2012-06-29 04:54:00-05 ' text:u' 60.98'", 
        "6 text:u' 2012-06-29 05:17:00-05 ' text:u'  60.8'", 
        "7 text:u' 2012-06-29 05:54:00-05 ' text:u' 62.06'", 
        "8 text:u' 2012-06-29 06:54:00-05 ' text:u'    68'", 
        "9 text:u' 2012-06-29 07:17:00-05 ' text:u'  69.8'", 
        "10 text:u' 2012-06-29 07:54:00-05 ' text:u' 69.08'", 
        "11 text:u' 2012-06-29 08:54:00-05 ' text:u' 69.98'"
       ]
      }
     ], 
     "prompt_number": 22
    }, 
    {
     "cell_type": "markdown", 
     "source": [
      "## And we are done.  Exciting!"
     ]
    }
   ]
  }
 ]
}