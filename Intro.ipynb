{
 "metadata": {
  "name": "Intro"
 },
 "nbformat": 3,
 "nbformat_minor": 0,
 "worksheets": [
  {
   "cells": [
    {
     "cell_type": "code",
     "collapsed": false,
     "input": [
      "# This is a python \"cell\", I can do this\n",
      "a = [1,2,3]\n",
      "print a.count(2)\n",
      "\n",
      "# I can do system commands\n",
      "data = !cat /etc/passwd\n",
      "print data"
     ],
     "language": "python",
     "metadata": {},
     "outputs": [
      {
       "output_type": "stream",
       "stream": "stdout",
       "text": [
        "1\n"
       ]
      },
      {
       "output_type": "stream",
       "stream": "stdout",
       "text": [
        "['root:x:0:0:root:/root:/bin/bash', 'bin:x:1:1:bin:/bin:/sbin/nologin', 'daemon:x:2:2:daemon:/sbin:/sbin/nologin', 'adm:x:3:4:adm:/var/adm:/sbin/nologin', 'lp:x:4:7:lp:/var/spool/lpd:/sbin/nologin', 'sync:x:5:0:sync:/sbin:/bin/sync', 'shutdown:x:6:0:shutdown:/sbin:/sbin/shutdown', 'halt:x:7:0:halt:/sbin:/sbin/halt', 'mail:x:8:12:mail:/var/spool/mail:/sbin/nologin', 'uucp:x:10:14:uucp:/var/spool/uucp:/sbin/nologin', 'operator:x:11:0:operator:/root:/sbin/nologin', 'games:x:12:100:games:/usr/games:/sbin/nologin', 'gopher:x:13:30:gopher:/var/gopher:/sbin/nologin', 'ftp:x:14:50:FTP User:/var/ftp:/sbin/nologin', 'nobody:x:99:99:Nobody:/:/sbin/nologin', 'dbus:x:81:81:System message bus:/:/sbin/nologin', 'usbmuxd:x:113:113:usbmuxd user:/:/sbin/nologin', 'avahi-autoipd:x:170:170:Avahi IPv4LL Stack:/var/lib/avahi-autoipd:/sbin/nologin', 'vcsa:x:69:69:virtual console memory owner:/dev:/sbin/nologin', 'rpc:x:32:32:Rpcbind Daemon:/var/cache/rpcbind:/sbin/nologin', 'rtkit:x:499:497:RealtimeKit:/proc:/sbin/nologin', 'abrt:x:173:173::/etc/abrt:/sbin/nologin', 'saslauth:x:498:76:\"Saslauthd user\":/var/empty/saslauth:/sbin/nologin', 'postfix:x:89:89::/var/spool/postfix:/sbin/nologin', 'qpidd:x:497:496:Owner of Qpidd Daemons:/var/lib/qpidd:/sbin/nologin', 'haldaemon:x:68:68:HAL daemon:/:/sbin/nologin', 'ntp:x:38:38::/etc/ntp:/sbin/nologin', 'apache:x:48:48:Apache:/var/www:/sbin/nologin', 'avahi:x:70:70:Avahi mDNS/DNS-SD Stack:/var/run/avahi-daemon:/sbin/nologin', 'rpcuser:x:29:29:RPC Service User:/var/lib/nfs:/sbin/nologin', 'nfsnobody:x:65534:65534:Anonymous NFS User:/var/lib/nfs:/sbin/nologin', 'pulse:x:496:495:PulseAudio System Daemon:/var/run/pulse:/sbin/nologin', 'gdm:x:42:42::/var/lib/gdm:/sbin/nologin', 'sshd:x:74:74:Privilege-separated SSH:/var/empty/sshd:/sbin/nologin', 'tcpdump:x:72:72::/:/sbin/nologin', 'akrherz:x:500:500:daryl herzmann:/home/akrherz:/bin/bash', 'qemu:x:107:107:qemu user:/:/sbin/nologin', 'radvd:x:75:75:radvd user:/:/sbin/nologin', 'postgres:x:26:26:PostgreSQL Server:/var/lib/pgsql:/bin/bash', 'ldm:x:501:501::/home/ldm:/bin/bash', 'memcached:x:495:489:Memcached daemon:/var/run/memcached:/sbin/nologin', 'nwschat:x:502:502::/home/nwschat:/sbin/nologin', 'xfs:x:43:43:X Font Server:/etc/X11/fs:/sbin/nologin']\n"
       ]
      }
     ],
     "prompt_number": 8
    },
    {
     "cell_type": "markdown",
     "metadata": {},
     "source": [
      "This is a markdown cell, I am doing markdown stuff!\n",
      "\n",
      "# Heading\n",
      "\n",
      "## Heading\n",
      "\n",
      "1. list\n",
      "2. more\n",
      "3. more more"
     ]
    },
    {
     "cell_type": "markdown",
     "metadata": {},
     "source": [
      "# Look how cool I am!\n",
      "\n",
      "I am embedding latex within markdown.\n",
      "\n",
      "$x=sin(x)$\n",
      "\n",
      "I'll act like I know what this is\n",
      "\n",
      "$\\frac{\\delta u}{\\delta t}\n",
      " + \\frac{u}{a\\cos{\\phi}} \\frac{\\delta u}{\\delta \\lambda}+ \n",
      "\\frac{v}{a} \\frac{\\delta u}{\\delta \\phi} + \n",
      "\\omega \\frac{\\delta u}{\\delta p} - \n",
      "\\frac{uv}{a} \\tan{\\phi} - fv + \n",
      "\\frac{g}{a \\cos{\\phi}} \\frac{\\delta z}{\\delta \\lambda} - \n",
      "F_\\lambda = 0$"
     ]
    },
    {
     "cell_type": "code",
     "collapsed": false,
     "input": [
      "# Matplotlib already imported\n",
      "plt.plot(range(5), range(5,10))"
     ],
     "language": "python",
     "metadata": {},
     "outputs": [
      {
       "output_type": "pyout",
       "prompt_number": 10,
       "text": [
        "[<matplotlib.lines.Line2D at 0x341e950>]"
       ]
      },
      {
       "output_type": "display_data",
       "png": "[encoded data removed]"
      }
     ],
     "prompt_number": 10
    },
    {
     "cell_type": "code",
     "collapsed": false,
     "input": [],
     "language": "python",
     "metadata": {},
     "outputs": []
    }
   ],
   "metadata": {}
  }
 ]
}