{
 "metadata": {
  "name": "isaac"
 },
 "nbformat": 3,
 "nbformat_minor": 0,
 "worksheets": [
  {
   "cells": [
    {
     "cell_type": "markdown",
     "metadata": {},
     "source": [
      "# NEXRAD animation (movie) using IEM Web Image + Metadata Services\n",
      "\n",
      "Python is a very powerful language that makes binding a workflow fun\n",
      "and inituitive.  Generating eye-candy for presentations is often one of\n",
      "the most time consuming components.  Some folks will take 10s or 100s of\n",
      "screen captures and then use an arcaine method to generate a timelapse movie.\n",
      "Have you done this?!?\n",
      "In this example, we will build a timelapse of the 29 June 2012 Derecho.\n",
      "\n",
      "This example also demonstrates how to query a [metadata service](http://mesonet.agron.iastate.edu/GIS/ridge.phtml) emitting JSON\n",
      "and a simple [web service](http://mesonet.agron.iastate.edu/GIS/radmap_api.phtml) generating images. \n",
      "\n",
      "### Knowledge Requirements\n",
      "\n",
      "This example uses Python dictionaries and some object oriented features\n",
      "related to *datetime* objects.  The user should understand some of these, but\n",
      "manually hacking this script is not that hard either.\n",
      "\n",
      "### Python and System Requirements\n",
      "\n",
      "This example requires python 2.6 and higher for built in JSON support.  We also make\n",
      "use of the [PIL](http://www.pythonware.com/products/pil/) library.  At the end of the \n",
      "script, we combine the individual images into a movie using [ffmpeg](http://ffmpeg.org/).\n",
      "\n",
      "\n",
      "### Goals\n",
      "\n",
      "1. Illustrate an example of intelligent looping over time \n",
      "2. Query an IEM provided web service for metadata and imagery\n",
      "3. Make operating system calls to other applications."
     ]
    },
    {
     "cell_type": "code",
     "collapsed": true,
     "input": [
      "# Python Standard Lib\n",
      "import datetime\n",
      "import subprocess\n",
      "import os\n",
      "import urllib2\n",
      "import json # python2.6 and higher\n",
      "# Third party\n",
      "from PIL import Image, ImageDraw, ImageFont\n",
      "\n",
      "# Make sure we have a directory to dump temporary images to...\n",
      "if not os.path.isdir(\"images\"):\n",
      "    os.mkdir(\"images\")\n"
     ],
     "language": "python",
     "metadata": {},
     "outputs": [],
     "prompt_number": 1
    },
    {
     "cell_type": "code",
     "collapsed": false,
     "input": [
      "WSURL = \"http://mesonet.agron.iastate.edu/json/radar?\"\n",
      "RADMAPURL = \"http://mesonet.agron.iastate.edu/GIS/radmap.php?\"\n",
      "# Define waypoints\n",
      "time0 = datetime.datetime(2012,8,28,17,0) # UTC\n",
      "time1 = datetime.datetime(2012,8,29,23,0) # UTC\n",
      "time2 = datetime.datetime(2012,8,31,4,0) # UTC\n",
      "time3 = datetime.datetime(2012,9,1,0,0) # UTC\n",
      "(lon0, lat0) = (-90.12, 30.33) \n",
      "(lon1, lat1) = (-90.12, 30.33) \n",
      "(lon2, lat2) = (-92.75, 34.10)\n",
      "(lon3, lat3) = (-93.0, 37.80)\n",
      "scale0 = 3.0 # units are roughly decimal degrees\n",
      "scale1 = 3.0\n",
      "scale2 = 3.0\n",
      "scale3 = 3.0\n",
      "# Compute dxdt and dydt (in deg/sec)\n",
      "deltat = (time1 - time0).seconds + (time1 - time0).days * 86400.\n",
      "dxdt = (lon1 - lon0) / deltat\n",
      "dydt = (lat1 - lat0) / deltat \n",
      "dt = 5 * 60  # seconds\n",
      "dscaledt = (scale1 - scale0) / deltat\n",
      "\n",
      "deltat = (time2 - time1).seconds + (time2 - time1).days * 86400.\n",
      "dxdt2 = (lon2 - lon1) / deltat\n",
      "dydt2 = (lat2 - lat1) / deltat \n",
      "dt2 = 5 * 60  # seconds\n",
      "dscaledt2 = (scale2 - scale1) / deltat\n",
      "\n",
      "deltat = (time3 - time2).seconds + (time3 - time2).days * 86400.\n",
      "dxdt3 = (lon3 - lon2) / deltat\n",
      "dydt3 = (lat3 - lat2) / deltat\n",
      "dt3 = 5 * 60  # seconds\n",
      "dscaledt3 = (scale3 - scale2) / deltat\n"
     ],
     "language": "python",
     "metadata": {},
     "outputs": [],
     "prompt_number": 29
    },
    {
     "cell_type": "code",
     "collapsed": false,
     "input": [
      "# We are ready to loop!\n",
      "start_time = datetime.datetime(2012,8,28,14,0)\n",
      "end_time = datetime.datetime(2012,9,1,2,0)\n",
      "\n",
      "# Compute our start point\n",
      "lat = lat0 + (dydt * (start_time - time0).seconds)\n",
      "lon = lon0 + (dxdt * (start_time - time0).seconds)\n",
      "scale = scale0 + (dscaledt * (start_time - time0).seconds)\n",
      "\n",
      "counter = 0\n",
      "now = start_time\n",
      "while now <= end_time:\n",
      "    if now == time1:\n",
      "        dxdt = dxdt2\n",
      "        dydt = dydt2\n",
      "        dt = dt2\n",
      "        dscaledt = dscaledt2\n",
      "    if now == time2:\n",
      "        dxdt = dxdt3\n",
      "        dydt = dydt3\n",
      "        dt = dt3\n",
      "        dscaledt = dscaledt3\n",
      "    lat += (dydt * dt)\n",
      "    lon += (dxdt * dt)\n",
      "    print lat, lon, dydt, dxdt\n",
      "    scale += (dscaledt * dt)\n",
      "    # Step 1: Get an *estimate* of NEXRADs available \n",
      "    # at this location, time \n",
      "    uri = \"%soperation=available&lat=%s&lon=%s&start=%s\" % (\n",
      "            WSURL, lat, lon, now.strftime(\"%Y-%m-%dT%H:%MZ\"))\n",
      "    print uri\n",
      "    res = urllib2.urlopen(uri)\n",
      "    jdict = json.loads( res.read() )\n",
      "    nexrad = None\n",
      "    # Step 2: Assume N0Q is available\n",
      "    # Step 3: Get available scans\n",
      "    jdict3 = {}\n",
      "    jdict3['scans'] = []\n",
      "    while len(jdict3['scans']) == 0:\n",
      "        # If we have only one option\n",
      "        if len(jdict['radars']) == 1:\n",
      "            nexrad = 'DMX'\n",
      "        else:\n",
      "            # Find next NEXRAD\n",
      "            for entry in jdict['radars']:\n",
      "                if entry['type'] == 'NEXRAD':\n",
      "                    nexrad = entry['id']\n",
      "                    jdict['radars'].remove(entry)\n",
      "                    break\n",
      "   \n",
      "        uri = \"%soperation=list&radar=%s&product=N0Q&start=%s&end=%s\" % (\n",
      "            WSURL, nexrad, now.strftime(\"%Y-%m-%dT%H:%MZ\"),\n",
      "            (now + datetime.timedelta(minutes=10)).strftime(\"%Y-%m-%dT%H:%MZ\")) \n",
      "        print uri\n",
      "        res = urllib2.urlopen(uri)\n",
      "        jdict3 = json.loads( res.read() )\n",
      "        \n",
      "    nexrad_valid = datetime.datetime.strptime(jdict3['scans'][0]['ts'] , \"%Y-%m-%dT%H:%MZ\" )\n",
      "    \n",
      "    # We are now ready to call the Radmap API!, \n",
      "    # we will create one image per Level III product\n",
      "    for prod in ['N0Q',]:\n",
      "        uri = \"%s&layers[]=cbw&layers[]=ridge&ridge_product=%s&\" % (RADMAPURL, prod)\n",
      "        uri += \"bbox=%.3f,%.3f,%.3f,%.3f&\" % (lon - scale, lat - scale, lon + scale, lat + scale)\n",
      "        uri += \"ridge_radar=%s&ts=%s&width=800&height=600\" % (nexrad, nexrad_valid.strftime(\"%Y%m%d%H%M\") )\n",
      "        res = urllib2.urlopen( uri )\n",
      "        # Write to a temporary file\n",
      "        image = open('images/%05i%s.png' % (\n",
      "                       counter, prod), 'w')\n",
      "        image.write( res.read() )\n",
      "        image.close()\n",
      "    \n",
      "    # Switch together into one larger image\n",
      "    #image = Image.new('RGB', (720,480))\n",
      "    #n0q = Image.open('images/%05iN0Q.png' % (counter,))\n",
      "    #image.paste(n0q, (0,0))\n",
      "    #n0u = Image.open('images/%05iN0U.png' % (counter,))\n",
      "    #image.paste(n0u, (362,0))\n",
      "    #image.save('images/%05i.png' % (counter,))\n",
      "    #del image, n0u, n0q\n",
      "    \n",
      "    print '%s RADAR: %s RADAR TIME: %s' % (now.strftime(\"%H%M\"), nexrad, nexrad_valid.strftime(\"%H%M\"))\n",
      "    # Increment our counters\n",
      "    counter += 1\n",
      "    now += datetime.timedelta(seconds=dt)"
     ],
     "language": "python",
     "metadata": {},
     "outputs": [
      {
       "output_type": "stream",
       "stream": "stdout",
       "text": [
        "30.33 -90.12 0.0 0.0\n",
        "http://mesonet.agron.iastate.edu/json/radar?operation=available&lat=30.33&lon=-90.12&start=2012-08-28T14:00Z\n",
        "http://mesonet.agron.iastate.edu/json/radar?operation=list&radar=LIX&product=N0Q&start=2012-08-28T14:00Z&end=2012-08-28T14:10Z"
       ]
      },
      {
       "output_type": "stream",
       "stream": "stdout",
       "text": [
        "\n",
        "1400 RADAR: LIX RADAR TIME: 1404"
       ]
      },
      {
       "output_type": "stream",
       "stream": "stdout",
       "text": [
        "\n",
        "30.33 -90.12 0.0 0.0\n",
        "http://mesonet.agron.iastate.edu/json/radar?operation=available&lat=30.33&lon=-90.12&start=2012-08-28T14:05Z\n",
        "http://mesonet.agron.iastate.edu/json/radar?operation=list&radar=LIX&product=N0Q&start=2012-08-28T14:05Z&end=2012-08-28T14:15Z"
       ]
      },
      {
       "output_type": "stream",
       "stream": "stdout",
       "text": [
        "\n",
        "1405 RADAR: LIX RADAR TIME: 1412"
       ]
      },
      {
       "output_type": "stream",
       "stream": "stdout",
       "text": [
        "\n",
        "30.33 -90.12 0.0 0.0\n",
        "http://mesonet.agron.iastate.edu/json/radar?operation=available&lat=30.33&lon=-90.12&start=2012-08-28T14:10Z\n",
        "http://mesonet.agron.iastate.edu/json/radar?operation=list&radar=LIX&product=N0Q&start=2012-08-28T14:10Z&end=2012-08-28T14:20Z"
       ]
      },
      {
       "output_type": "stream",
       "stream": "stdout",
       "text": [
        "\n",
        "1410 RADAR: LIX RADAR TIME: 1412"
       ]
      },
      {
       "output_type": "stream",
       "stream": "stdout",
       "text": [
        "\n",
        "30.33 -90.12 0.0 0.0\n",
        "http://mesonet.agron.iastate.edu/json/radar?operation=available&lat=30.33&lon=-90.12&start=2012-08-28T14:15Z\n",
        "http://mesonet.agron.iastate.edu/json/radar?operation=list&radar=LIX&product=N0Q&start=2012-08-28T14:15Z&end=2012-08-28T14:25Z"
       ]
      },
      {
       "output_type": "stream",
       "stream": "stdout",
       "text": [
        "\n",
        "1415 RADAR: LIX RADAR TIME: 1418"
       ]
      },
      {
       "output_type": "stream",
       "stream": "stdout",
       "text": [
        "\n",
        "30.33 -90.12 0.0 0.0\n",
        "http://mesonet.agron.iastate.edu/json/radar?operation=available&lat=30.33&lon=-90.12&start=2012-08-28T14:20Z\n",
        "http://mesonet.agron.iastate.edu/json/radar?operation=list&radar=LIX&product=N0Q&start=2012-08-28T14:20Z&end=2012-08-28T14:30Z"
       ]
      },
      {
       "output_type": "stream",
       "stream": "stdout",
       "text": [
        "\n",
        "1420 RADAR: LIX RADAR TIME: 1424"
       ]
      },
      {
       "output_type": "stream",
       "stream": "stdout",
       "text": [
        "\n",
        "30.33 -90.12 0.0 0.0\n",
        "http://mesonet.agron.iastate.edu/json/radar?operation=available&lat=30.33&lon=-90.12&start=2012-08-28T14:25Z\n",
        "http://mesonet.agron.iastate.edu/json/radar?operation=list&radar=LIX&product=N0Q&start=2012-08-28T14:25Z&end=2012-08-28T14:35Z"
       ]
      },
      {
       "output_type": "stream",
       "stream": "stdout",
       "text": [
        "\n",
        "1425 RADAR: LIX RADAR TIME: 1431"
       ]
      },
      {
       "output_type": "stream",
       "stream": "stdout",
       "text": [
        "\n",
        "30.33 -90.12 0.0 0.0\n",
        "http://mesonet.agron.iastate.edu/json/radar?operation=available&lat=30.33&lon=-90.12&start=2012-08-28T14:30Z\n",
        "http://mesonet.agron.iastate.edu/json/radar?operation=list&radar=LIX&product=N0Q&start=2012-08-28T14:30Z&end=2012-08-28T14:40Z"
       ]
      },
      {
       "output_type": "stream",
       "stream": "stdout",
       "text": [
        "\n",
        "1430 RADAR: LIX RADAR TIME: 1431"
       ]
      },
      {
       "output_type": "stream",
       "stream": "stdout",
       "text": [
        "\n",
        "30.33 -90.12 0.0 0.0\n",
        "http://mesonet.agron.iastate.edu/json/radar?operation=available&lat=30.33&lon=-90.12&start=2012-08-28T14:35Z\n",
        "http://mesonet.agron.iastate.edu/json/radar?operation=list&radar=LIX&product=N0Q&start=2012-08-28T14:35Z&end=2012-08-28T14:45Z"
       ]
      },
      {
       "output_type": "stream",
       "stream": "stdout",
       "text": [
        "\n",
        "1435 RADAR: LIX RADAR TIME: 1437"
       ]
      },
      {
       "output_type": "stream",
       "stream": "stdout",
       "text": [
        "\n",
        "30.33 -90.12 0.0 0.0\n",
        "http://mesonet.agron.iastate.edu/json/radar?operation=available&lat=30.33&lon=-90.12&start=2012-08-28T14:40Z\n",
        "http://mesonet.agron.iastate.edu/json/radar?operation=list&radar=LIX&product=N0Q&start=2012-08-28T14:40Z&end=2012-08-28T14:50Z"
       ]
      },
      {
       "output_type": "stream",
       "stream": "stdout",
       "text": [
        "\n",
        "1440 RADAR: LIX RADAR TIME: 1443"
       ]
      },
      {
       "output_type": "stream",
       "stream": "stdout",
       "text": [
        "\n",
        "30.33 -90.12 0.0 0.0\n",
        "http://mesonet.agron.iastate.edu/json/radar?operation=available&lat=30.33&lon=-90.12&start=2012-08-28T14:45Z\n",
        "http://mesonet.agron.iastate.edu/json/radar?operation=list&radar=LIX&product=N0Q&start=2012-08-28T14:45Z&end=2012-08-28T14:55Z"
       ]
      },
      {
       "output_type": "stream",
       "stream": "stdout",
       "text": [
        "\n",
        "1445 RADAR: LIX RADAR TIME: 1450"
       ]
      },
      {
       "output_type": "stream",
       "stream": "stdout",
       "text": [
        "\n",
        "30.33 -90.12 0.0 0.0\n",
        "http://mesonet.agron.iastate.edu/json/radar?operation=available&lat=30.33&lon=-90.12&start=2012-08-28T14:50Z\n",
        "http://mesonet.agron.iastate.edu/json/radar?operation=list&radar=LIX&product=N0Q&start=2012-08-28T14:50Z&end=2012-08-28T15:00Z"
       ]
      },
      {
       "output_type": "stream",
       "stream": "stdout",
       "text": [
        "\n",
        "1450 RADAR: LIX RADAR TIME: 1450"
       ]
      },
      {
       "output_type": "stream",
       "stream": "stdout",
       "text": [
        "\n",
        "30.33 -90.12 0.0 0.0\n",
        "http://mesonet.agron.iastate.edu/json/radar?operation=available&lat=30.33&lon=-90.12&start=2012-08-28T14:55Z\n",
        "http://mesonet.agron.iastate.edu/json/radar?operation=list&radar=LIX&product=N0Q&start=2012-08-28T14:55Z&end=2012-08-28T15:05Z"
       ]
      },
      {
       "output_type": "stream",
       "stream": "stdout",
       "text": [
        "\n",
        "1455 RADAR: LIX RADAR TIME: 1456"
       ]
      },
      {
       "output_type": "stream",
       "stream": "stdout",
       "text": [
        "\n",
        "30.33 -90.12 0.0 0.0\n",
        "http://mesonet.agron.iastate.edu/json/radar?operation=available&lat=30.33&lon=-90.12&start=2012-08-28T15:00Z\n",
        "http://mesonet.agron.iastate.edu/json/radar?operation=list&radar=LIX&product=N0Q&start=2012-08-28T15:00Z&end=2012-08-28T15:10Z"
       ]
      },
      {
       "output_type": "stream",
       "stream": "stdout",
       "text": [
        "\n",
        "1500 RADAR: LIX RADAR TIME: 1502"
       ]
      },
      {
       "output_type": "stream",
       "stream": "stdout",
       "text": [
        "\n",
        "30.33 -90.12 0.0 0.0\n",
        "http://mesonet.agron.iastate.edu/json/radar?operation=available&lat=30.33&lon=-90.12&start=2012-08-28T15:05Z\n",
        "http://mesonet.agron.iastate.edu/json/radar?operation=list&radar=LIX&product=N0Q&start=2012-08-28T15:05Z&end=2012-08-28T15:15Z"
       ]
      },
      {
       "output_type": "stream",
       "stream": "stdout",
       "text": [
        "\n",
        "1505 RADAR: LIX RADAR TIME: 1509"
       ]
      },
      {
       "output_type": "stream",
       "stream": "stdout",
       "text": [
        "\n",
        "30.33 -90.12 0.0 0.0\n",
        "http://mesonet.agron.iastate.edu/json/radar?operation=available&lat=30.33&lon=-90.12&start=2012-08-28T15:10Z\n",
        "http://mesonet.agron.iastate.edu/json/radar?operation=list&radar=LIX&product=N0Q&start=2012-08-28T15:10Z&end=2012-08-28T15:20Z"
       ]
      },
      {
       "output_type": "stream",
       "stream": "stdout",
       "text": [
        "\n",
        "1510 RADAR: LIX RADAR TIME: 1515"
       ]
      },
      {
       "output_type": "stream",
       "stream": "stdout",
       "text": [
        "\n",
        "30.33 -90.12 0.0 0.0\n",
        "http://mesonet.agron.iastate.edu/json/radar?operation=available&lat=30.33&lon=-90.12&start=2012-08-28T15:15Z\n",
        "http://mesonet.agron.iastate.edu/json/radar?operation=list&radar=LIX&product=N0Q&start=2012-08-28T15:15Z&end=2012-08-28T15:25Z"
       ]
      },
      {
       "output_type": "stream",
       "stream": "stdout",
       "text": [
        "\n",
        "1515 RADAR: LIX RADAR TIME: 1515"
       ]
      },
      {
       "output_type": "stream",
       "stream": "stdout",
       "text": [
        "\n",
        "30.33 -90.12 0.0 0.0\n",
        "http://mesonet.agron.iastate.edu/json/radar?operation=available&lat=30.33&lon=-90.12&start=2012-08-28T15:20Z\n",
        "http://mesonet.agron.iastate.edu/json/radar?operation=list&radar=LIX&product=N0Q&start=2012-08-28T15:20Z&end=2012-08-28T15:30Z"
       ]
      },
      {
       "output_type": "stream",
       "stream": "stdout",
       "text": [
        "\n",
        "1520 RADAR: LIX RADAR TIME: 1521"
       ]
      },
      {
       "output_type": "stream",
       "stream": "stdout",
       "text": [
        "\n",
        "30.33 -90.12 0.0 0.0\n",
        "http://mesonet.agron.iastate.edu/json/radar?operation=available&lat=30.33&lon=-90.12&start=2012-08-28T15:25Z\n",
        "http://mesonet.agron.iastate.edu/json/radar?operation=list&radar=LIX&product=N0Q&start=2012-08-28T15:25Z&end=2012-08-28T15:35Z"
       ]
      },
      {
       "output_type": "stream",
       "stream": "stdout",
       "text": [
        "\n",
        "1525 RADAR: LIX RADAR TIME: 1527"
       ]
      },
      {
       "output_type": "stream",
       "stream": "stdout",
       "text": [
        "\n",
        "30.33 -90.12 0.0 0.0\n",
        "http://mesonet.agron.iastate.edu/json/radar?operation=available&lat=30.33&lon=-90.12&start=2012-08-28T15:30Z\n",
        "http://mesonet.agron.iastate.edu/json/radar?operation=list&radar=LIX&product=N0Q&start=2012-08-28T15:30Z&end=2012-08-28T15:40Z"
       ]
      },
      {
       "output_type": "stream",
       "stream": "stdout",
       "text": [
        "\n",
        "1530 RADAR: LIX RADAR TIME: 1534"
       ]
      },
      {
       "output_type": "stream",
       "stream": "stdout",
       "text": [
        "\n",
        "30.33 -90.12 0.0 0.0\n",
        "http://mesonet.agron.iastate.edu/json/radar?operation=available&lat=30.33&lon=-90.12&start=2012-08-28T15:35Z\n",
        "http://mesonet.agron.iastate.edu/json/radar?operation=list&radar=LIX&product=N0Q&start=2012-08-28T15:35Z&end=2012-08-28T15:45Z"
       ]
      },
      {
       "output_type": "stream",
       "stream": "stdout",
       "text": [
        "\n",
        "1535 RADAR: LIX RADAR TIME: 1540"
       ]
      },
      {
       "output_type": "stream",
       "stream": "stdout",
       "text": [
        "\n",
        "30.33 -90.12 0.0 0.0\n",
        "http://mesonet.agron.iastate.edu/json/radar?operation=available&lat=30.33&lon=-90.12&start=2012-08-28T15:40Z\n",
        "http://mesonet.agron.iastate.edu/json/radar?operation=list&radar=LIX&product=N0Q&start=2012-08-28T15:40Z&end=2012-08-28T15:50Z"
       ]
      },
      {
       "output_type": "stream",
       "stream": "stdout",
       "text": [
        "\n",
        "1540 RADAR: LIX RADAR TIME: 1540"
       ]
      },
      {
       "output_type": "stream",
       "stream": "stdout",
       "text": [
        "\n",
        "30.33 -90.12 0.0 0.0\n",
        "http://mesonet.agron.iastate.edu/json/radar?operation=available&lat=30.33&lon=-90.12&start=2012-08-28T15:45Z\n",
        "http://mesonet.agron.iastate.edu/json/radar?operation=list&radar=LIX&product=N0Q&start=2012-08-28T15:45Z&end=2012-08-28T15:55Z"
       ]
      },
      {
       "output_type": "stream",
       "stream": "stdout",
       "text": [
        "\n",
        "1545 RADAR: LIX RADAR TIME: 1546"
       ]
      },
      {
       "output_type": "stream",
       "stream": "stdout",
       "text": [
        "\n",
        "30.33 -90.12 0.0 0.0\n",
        "http://mesonet.agron.iastate.edu/json/radar?operation=available&lat=30.33&lon=-90.12&start=2012-08-28T15:50Z\n",
        "http://mesonet.agron.iastate.edu/json/radar?operation=list&radar=LIX&product=N0Q&start=2012-08-28T15:50Z&end=2012-08-28T16:00Z"
       ]
      },
      {
       "output_type": "stream",
       "stream": "stdout",
       "text": [
        "\n",
        "1550 RADAR: LIX RADAR TIME: 1553"
       ]
      },
      {
       "output_type": "stream",
       "stream": "stdout",
       "text": [
        "\n",
        "30.33 -90.12 0.0 0.0\n",
        "http://mesonet.agron.iastate.edu/json/radar?operation=available&lat=30.33&lon=-90.12&start=2012-08-28T15:55Z\n",
        "http://mesonet.agron.iastate.edu/json/radar?operation=list&radar=LIX&product=N0Q&start=2012-08-28T15:55Z&end=2012-08-28T16:05Z"
       ]
      },
      {
       "output_type": "stream",
       "stream": "stdout",
       "text": [
        "\n",
        "1555 RADAR: LIX RADAR TIME: 1559"
       ]
      },
      {
       "output_type": "stream",
       "stream": "stdout",
       "text": [
        "\n",
        "30.33 -90.12 0.0 0.0\n",
        "http://mesonet.agron.iastate.edu/json/radar?operation=available&lat=30.33&lon=-90.12&start=2012-08-28T16:00Z\n",
        "http://mesonet.agron.iastate.edu/json/radar?operation=list&radar=LIX&product=N0Q&start=2012-08-28T16:00Z&end=2012-08-28T16:10Z"
       ]
      },
      {
       "output_type": "stream",
       "stream": "stdout",
       "text": [
        "\n",
        "1600 RADAR: LIX RADAR TIME: 1605"
       ]
      },
      {
       "output_type": "stream",
       "stream": "stdout",
       "text": [
        "\n",
        "30.33 -90.12 0.0 0.0\n",
        "http://mesonet.agron.iastate.edu/json/radar?operation=available&lat=30.33&lon=-90.12&start=2012-08-28T16:05Z\n",
        "http://mesonet.agron.iastate.edu/json/radar?operation=list&radar=LIX&product=N0Q&start=2012-08-28T16:05Z&end=2012-08-28T16:15Z"
       ]
      },
      {
       "output_type": "stream",
       "stream": "stdout",
       "text": [
        "\n",
        "1605 RADAR: LIX RADAR TIME: 1605"
       ]
      },
      {
       "output_type": "stream",
       "stream": "stdout",
       "text": [
        "\n",
        "30.33 -90.12 0.0 0.0\n",
        "http://mesonet.agron.iastate.edu/json/radar?operation=available&lat=30.33&lon=-90.12&start=2012-08-28T16:10Z\n",
        "http://mesonet.agron.iastate.edu/json/radar?operation=list&radar=LIX&product=N0Q&start=2012-08-28T16:10Z&end=2012-08-28T16:20Z"
       ]
      },
      {
       "output_type": "stream",
       "stream": "stdout",
       "text": [
        "\n",
        "1610 RADAR: LIX RADAR TIME: 1612"
       ]
      },
      {
       "output_type": "stream",
       "stream": "stdout",
       "text": [
        "\n",
        "30.33 -90.12 0.0 0.0\n",
        "http://mesonet.agron.iastate.edu/json/radar?operation=available&lat=30.33&lon=-90.12&start=2012-08-28T16:15Z\n",
        "http://mesonet.agron.iastate.edu/json/radar?operation=list&radar=LIX&product=N0Q&start=2012-08-28T16:15Z&end=2012-08-28T16:25Z"
       ]
      },
      {
       "output_type": "stream",
       "stream": "stdout",
       "text": [
        "\n",
        "1615 RADAR: LIX RADAR TIME: 1618"
       ]
      },
      {
       "output_type": "stream",
       "stream": "stdout",
       "text": [
        "\n",
        "30.33 -90.12 0.0 0.0\n",
        "http://mesonet.agron.iastate.edu/json/radar?operation=available&lat=30.33&lon=-90.12&start=2012-08-28T16:20Z\n",
        "http://mesonet.agron.iastate.edu/json/radar?operation=list&radar=LIX&product=N0Q&start=2012-08-28T16:20Z&end=2012-08-28T16:30Z"
       ]
      },
      {
       "output_type": "stream",
       "stream": "stdout",
       "text": [
        "\n",
        "1620 RADAR: LIX RADAR TIME: 1624"
       ]
      },
      {
       "output_type": "stream",
       "stream": "stdout",
       "text": [
        "\n",
        "30.33 -90.12 0.0 0.0\n",
        "http://mesonet.agron.iastate.edu/json/radar?operation=available&lat=30.33&lon=-90.12&start=2012-08-28T16:25Z\n",
        "http://mesonet.agron.iastate.edu/json/radar?operation=list&radar=LIX&product=N0Q&start=2012-08-28T16:25Z&end=2012-08-28T16:35Z"
       ]
      },
      {
       "output_type": "stream",
       "stream": "stdout",
       "text": [
        "\n",
        "1625 RADAR: LIX RADAR TIME: 1631"
       ]
      },
      {
       "output_type": "stream",
       "stream": "stdout",
       "text": [
        "\n",
        "30.33 -90.12 0.0 0.0\n",
        "http://mesonet.agron.iastate.edu/json/radar?operation=available&lat=30.33&lon=-90.12&start=2012-08-28T16:30Z\n",
        "http://mesonet.agron.iastate.edu/json/radar?operation=list&radar=LIX&product=N0Q&start=2012-08-28T16:30Z&end=2012-08-28T16:40Z"
       ]
      },
      {
       "output_type": "stream",
       "stream": "stdout",
       "text": [
        "\n",
        "1630 RADAR: LIX RADAR TIME: 1631"
       ]
      },
      {
       "output_type": "stream",
       "stream": "stdout",
       "text": [
        "\n",
        "30.33 -90.12 0.0 0.0\n",
        "http://mesonet.agron.iastate.edu/json/radar?operation=available&lat=30.33&lon=-90.12&start=2012-08-28T16:35Z\n",
        "http://mesonet.agron.iastate.edu/json/radar?operation=list&radar=LIX&product=N0Q&start=2012-08-28T16:35Z&end=2012-08-28T16:45Z"
       ]
      },
      {
       "output_type": "stream",
       "stream": "stdout",
       "text": [
        "\n",
        "1635 RADAR: LIX RADAR TIME: 1637"
       ]
      },
      {
       "output_type": "stream",
       "stream": "stdout",
       "text": [
        "\n",
        "30.33 -90.12 0.0 0.0\n",
        "http://mesonet.agron.iastate.edu/json/radar?operation=available&lat=30.33&lon=-90.12&start=2012-08-28T16:40Z\n",
        "http://mesonet.agron.iastate.edu/json/radar?operation=list&radar=LIX&product=N0Q&start=2012-08-28T16:40Z&end=2012-08-28T16:50Z"
       ]
      },
      {
       "output_type": "stream",
       "stream": "stdout",
       "text": [
        "\n",
        "1640 RADAR: LIX RADAR TIME: 1643"
       ]
      },
      {
       "output_type": "stream",
       "stream": "stdout",
       "text": [
        "\n",
        "30.33 -90.12 0.0 0.0\n",
        "http://mesonet.agron.iastate.edu/json/radar?operation=available&lat=30.33&lon=-90.12&start=2012-08-28T16:45Z\n",
        "http://mesonet.agron.iastate.edu/json/radar?operation=list&radar=LIX&product=N0Q&start=2012-08-28T16:45Z&end=2012-08-28T16:55Z"
       ]
      },
      {
       "output_type": "stream",
       "stream": "stdout",
       "text": [
        "\n",
        "1645 RADAR: LIX RADAR TIME: 1650"
       ]
      },
      {
       "output_type": "stream",
       "stream": "stdout",
       "text": [
        "\n",
        "30.33 -90.12 0.0 0.0\n",
        "http://mesonet.agron.iastate.edu/json/radar?operation=available&lat=30.33&lon=-90.12&start=2012-08-28T16:50Z\n",
        "http://mesonet.agron.iastate.edu/json/radar?operation=list&radar=LIX&product=N0Q&start=2012-08-28T16:50Z&end=2012-08-28T17:00Z"
       ]
      },
      {
       "output_type": "stream",
       "stream": "stdout",
       "text": [
        "\n",
        "1650 RADAR: LIX RADAR TIME: 1650"
       ]
      },
      {
       "output_type": "stream",
       "stream": "stdout",
       "text": [
        "\n",
        "30.33 -90.12 0.0 0.0\n",
        "http://mesonet.agron.iastate.edu/json/radar?operation=available&lat=30.33&lon=-90.12&start=2012-08-28T16:55Z\n",
        "http://mesonet.agron.iastate.edu/json/radar?operation=list&radar=LIX&product=N0Q&start=2012-08-28T16:55Z&end=2012-08-28T17:05Z"
       ]
      },
      {
       "output_type": "stream",
       "stream": "stdout",
       "text": [
        "\n",
        "1655 RADAR: LIX RADAR TIME: 1656"
       ]
      },
      {
       "output_type": "stream",
       "stream": "stdout",
       "text": [
        "\n",
        "30.33 -90.12 0.0 0.0\n",
        "http://mesonet.agron.iastate.edu/json/radar?operation=available&lat=30.33&lon=-90.12&start=2012-08-28T17:00Z\n",
        "http://mesonet.agron.iastate.edu/json/radar?operation=list&radar=LIX&product=N0Q&start=2012-08-28T17:00Z&end=2012-08-28T17:10Z"
       ]
      },
      {
       "output_type": "stream",
       "stream": "stdout",
       "text": [
        "\n",
        "1700 RADAR: LIX RADAR TIME: 1702"
       ]
      },
      {
       "output_type": "stream",
       "stream": "stdout",
       "text": [
        "\n",
        "30.33 -90.12 0.0 0.0\n",
        "http://mesonet.agron.iastate.edu/json/radar?operation=available&lat=30.33&lon=-90.12&start=2012-08-28T17:05Z\n",
        "http://mesonet.agron.iastate.edu/json/radar?operation=list&radar=LIX&product=N0Q&start=2012-08-28T17:05Z&end=2012-08-28T17:15Z"
       ]
      },
      {
       "output_type": "stream",
       "stream": "stdout",
       "text": [
        "\n",
        "1705 RADAR: LIX RADAR TIME: 1709"
       ]
      },
      {
       "output_type": "stream",
       "stream": "stdout",
       "text": [
        "\n",
        "30.33 -90.12 0.0 0.0\n",
        "http://mesonet.agron.iastate.edu/json/radar?operation=available&lat=30.33&lon=-90.12&start=2012-08-28T17:10Z\n",
        "http://mesonet.agron.iastate.edu/json/radar?operation=list&radar=LIX&product=N0Q&start=2012-08-28T17:10Z&end=2012-08-28T17:20Z"
       ]
      },
      {
       "output_type": "stream",
       "stream": "stdout",
       "text": [
        "\n",
        "1710 RADAR: LIX RADAR TIME: 1715"
       ]
      },
      {
       "output_type": "stream",
       "stream": "stdout",
       "text": [
        "\n",
        "30.33 -90.12 0.0 0.0\n",
        "http://mesonet.agron.iastate.edu/json/radar?operation=available&lat=30.33&lon=-90.12&start=2012-08-28T17:15Z\n",
        "http://mesonet.agron.iastate.edu/json/radar?operation=list&radar=LIX&product=N0Q&start=2012-08-28T17:15Z&end=2012-08-28T17:25Z"
       ]
      },
      {
       "output_type": "stream",
       "stream": "stdout",
       "text": [
        "\n",
        "1715 RADAR: LIX RADAR TIME: 1715"
       ]
      },
      {
       "output_type": "stream",
       "stream": "stdout",
       "text": [
        "\n",
        "30.33 -90.12 0.0 0.0\n",
        "http://mesonet.agron.iastate.edu/json/radar?operation=available&lat=30.33&lon=-90.12&start=2012-08-28T17:20Z\n",
        "http://mesonet.agron.iastate.edu/json/radar?operation=list&radar=LIX&product=N0Q&start=2012-08-28T17:20Z&end=2012-08-28T17:30Z"
       ]
      },
      {
       "output_type": "stream",
       "stream": "stdout",
       "text": [
        "\n",
        "1720 RADAR: LIX RADAR TIME: 1721"
       ]
      },
      {
       "output_type": "stream",
       "stream": "stdout",
       "text": [
        "\n",
        "30.33 -90.12 0.0 0.0\n",
        "http://mesonet.agron.iastate.edu/json/radar?operation=available&lat=30.33&lon=-90.12&start=2012-08-28T17:25Z\n",
        "http://mesonet.agron.iastate.edu/json/radar?operation=list&radar=LIX&product=N0Q&start=2012-08-28T17:25Z&end=2012-08-28T17:35Z"
       ]
      },
      {
       "output_type": "stream",
       "stream": "stdout",
       "text": [
        "\n",
        "1725 RADAR: LIX RADAR TIME: 1728"
       ]
      },
      {
       "output_type": "stream",
       "stream": "stdout",
       "text": [
        "\n",
        "30.33 -90.12 0.0 0.0\n",
        "http://mesonet.agron.iastate.edu/json/radar?operation=available&lat=30.33&lon=-90.12&start=2012-08-28T17:30Z\n",
        "http://mesonet.agron.iastate.edu/json/radar?operation=list&radar=LIX&product=N0Q&start=2012-08-28T17:30Z&end=2012-08-28T17:40Z"
       ]
      },
      {
       "output_type": "stream",
       "stream": "stdout",
       "text": [
        "\n",
        "1730 RADAR: LIX RADAR TIME: 1734"
       ]
      },
      {
       "output_type": "stream",
       "stream": "stdout",
       "text": [
        "\n",
        "30.33 -90.12 0.0 0.0\n",
        "http://mesonet.agron.iastate.edu/json/radar?operation=available&lat=30.33&lon=-90.12&start=2012-08-28T17:35Z\n",
        "http://mesonet.agron.iastate.edu/json/radar?operation=list&radar=LIX&product=N0Q&start=2012-08-28T17:35Z&end=2012-08-28T17:45Z"
       ]
      },
      {
       "output_type": "stream",
       "stream": "stdout",
       "text": [
        "\n",
        "1735 RADAR: LIX RADAR TIME: 1740"
       ]
      },
      {
       "output_type": "stream",
       "stream": "stdout",
       "text": [
        "\n",
        "30.33 -90.12 0.0 0.0\n",
        "http://mesonet.agron.iastate.edu/json/radar?operation=available&lat=30.33&lon=-90.12&start=2012-08-28T17:40Z\n",
        "http://mesonet.agron.iastate.edu/json/radar?operation=list&radar=LIX&product=N0Q&start=2012-08-28T17:40Z&end=2012-08-28T17:50Z"
       ]
      },
      {
       "output_type": "stream",
       "stream": "stdout",
       "text": [
        "\n",
        "1740 RADAR: LIX RADAR TIME: 1740"
       ]
      },
      {
       "output_type": "stream",
       "stream": "stdout",
       "text": [
        "\n",
        "30.33 -90.12 0.0 0.0\n",
        "http://mesonet.agron.iastate.edu/json/radar?operation=available&lat=30.33&lon=-90.12&start=2012-08-28T17:45Z\n",
        "http://mesonet.agron.iastate.edu/json/radar?operation=list&radar=LIX&product=N0Q&start=2012-08-28T17:45Z&end=2012-08-28T17:55Z"
       ]
      },
      {
       "output_type": "stream",
       "stream": "stdout",
       "text": [
        "\n",
        "1745 RADAR: LIX RADAR TIME: 1747"
       ]
      },
      {
       "output_type": "stream",
       "stream": "stdout",
       "text": [
        "\n",
        "30.33 -90.12 0.0 0.0\n",
        "http://mesonet.agron.iastate.edu/json/radar?operation=available&lat=30.33&lon=-90.12&start=2012-08-28T17:50Z\n",
        "http://mesonet.agron.iastate.edu/json/radar?operation=list&radar=LIX&product=N0Q&start=2012-08-28T17:50Z&end=2012-08-28T18:00Z"
       ]
      },
      {
       "output_type": "stream",
       "stream": "stdout",
       "text": [
        "\n",
        "1750 RADAR: LIX RADAR TIME: 1753"
       ]
      },
      {
       "output_type": "stream",
       "stream": "stdout",
       "text": [
        "\n",
        "30.33 -90.12 0.0 0.0\n",
        "http://mesonet.agron.iastate.edu/json/radar?operation=available&lat=30.33&lon=-90.12&start=2012-08-28T17:55Z\n",
        "http://mesonet.agron.iastate.edu/json/radar?operation=list&radar=LIX&product=N0Q&start=2012-08-28T17:55Z&end=2012-08-28T18:05Z"
       ]
      },
      {
       "output_type": "stream",
       "stream": "stdout",
       "text": [
        "\n",
        "1755 RADAR: LIX RADAR TIME: 1759"
       ]
      },
      {
       "output_type": "stream",
       "stream": "stdout",
       "text": [
        "\n",
        "30.33 -90.12 0.0 0.0\n",
        "http://mesonet.agron.iastate.edu/json/radar?operation=available&lat=30.33&lon=-90.12&start=2012-08-28T18:00Z\n",
        "http://mesonet.agron.iastate.edu/json/radar?operation=list&radar=LIX&product=N0Q&start=2012-08-28T18:00Z&end=2012-08-28T18:10Z"
       ]
      },
      {
       "output_type": "stream",
       "stream": "stdout",
       "text": [
        "\n",
        "1800 RADAR: LIX RADAR TIME: 1806"
       ]
      },
      {
       "output_type": "stream",
       "stream": "stdout",
       "text": [
        "\n",
        "30.33 -90.12 0.0 0.0\n",
        "http://mesonet.agron.iastate.edu/json/radar?operation=available&lat=30.33&lon=-90.12&start=2012-08-28T18:05Z\n",
        "http://mesonet.agron.iastate.edu/json/radar?operation=list&radar=LIX&product=N0Q&start=2012-08-28T18:05Z&end=2012-08-28T18:15Z"
       ]
      },
      {
       "output_type": "stream",
       "stream": "stdout",
       "text": [
        "\n",
        "1805 RADAR: LIX RADAR TIME: 1806"
       ]
      },
      {
       "output_type": "stream",
       "stream": "stdout",
       "text": [
        "\n",
        "30.33 -90.12 0.0 0.0\n",
        "http://mesonet.agron.iastate.edu/json/radar?operation=available&lat=30.33&lon=-90.12&start=2012-08-28T18:10Z\n",
        "http://mesonet.agron.iastate.edu/json/radar?operation=list&radar=LIX&product=N0Q&start=2012-08-28T18:10Z&end=2012-08-28T18:20Z"
       ]
      },
      {
       "output_type": "stream",
       "stream": "stdout",
       "text": [
        "\n",
        "1810 RADAR: LIX RADAR TIME: 1812"
       ]
      },
      {
       "output_type": "stream",
       "stream": "stdout",
       "text": [
        "\n",
        "30.33 -90.12 0.0 0.0\n",
        "http://mesonet.agron.iastate.edu/json/radar?operation=available&lat=30.33&lon=-90.12&start=2012-08-28T18:15Z\n",
        "http://mesonet.agron.iastate.edu/json/radar?operation=list&radar=LIX&product=N0Q&start=2012-08-28T18:15Z&end=2012-08-28T18:25Z"
       ]
      },
      {
       "output_type": "stream",
       "stream": "stdout",
       "text": [
        "\n",
        "1815 RADAR: LIX RADAR TIME: 1818"
       ]
      },
      {
       "output_type": "stream",
       "stream": "stdout",
       "text": [
        "\n",
        "30.33 -90.12 0.0 0.0\n",
        "http://mesonet.agron.iastate.edu/json/radar?operation=available&lat=30.33&lon=-90.12&start=2012-08-28T18:20Z\n",
        "http://mesonet.agron.iastate.edu/json/radar?operation=list&radar=LIX&product=N0Q&start=2012-08-28T18:20Z&end=2012-08-28T18:30Z"
       ]
      },
      {
       "output_type": "stream",
       "stream": "stdout",
       "text": [
        "\n",
        "1820 RADAR: LIX RADAR TIME: 1825"
       ]
      },
      {
       "output_type": "stream",
       "stream": "stdout",
       "text": [
        "\n",
        "30.33 -90.12 0.0 0.0\n",
        "http://mesonet.agron.iastate.edu/json/radar?operation=available&lat=30.33&lon=-90.12&start=2012-08-28T18:25Z\n",
        "http://mesonet.agron.iastate.edu/json/radar?operation=list&radar=LIX&product=N0Q&start=2012-08-28T18:25Z&end=2012-08-28T18:35Z"
       ]
      },
      {
       "output_type": "stream",
       "stream": "stdout",
       "text": [
        "\n",
        "1825 RADAR: LIX RADAR TIME: 1825"
       ]
      },
      {
       "output_type": "stream",
       "stream": "stdout",
       "text": [
        "\n",
        "30.33 -90.12 0.0 0.0\n",
        "http://mesonet.agron.iastate.edu/json/radar?operation=available&lat=30.33&lon=-90.12&start=2012-08-28T18:30Z\n",
        "http://mesonet.agron.iastate.edu/json/radar?operation=list&radar=LIX&product=N0Q&start=2012-08-28T18:30Z&end=2012-08-28T18:40Z"
       ]
      },
      {
       "output_type": "stream",
       "stream": "stdout",
       "text": [
        "\n",
        "1830 RADAR: LIX RADAR TIME: 1831"
       ]
      },
      {
       "output_type": "stream",
       "stream": "stdout",
       "text": [
        "\n",
        "30.33 -90.12 0.0 0.0\n",
        "http://mesonet.agron.iastate.edu/json/radar?operation=available&lat=30.33&lon=-90.12&start=2012-08-28T18:35Z\n",
        "http://mesonet.agron.iastate.edu/json/radar?operation=list&radar=LIX&product=N0Q&start=2012-08-28T18:35Z&end=2012-08-28T18:45Z"
       ]
      },
      {
       "output_type": "stream",
       "stream": "stdout",
       "text": [
        "\n",
        "1835 RADAR: LIX RADAR TIME: 1837"
       ]
      },
      {
       "output_type": "stream",
       "stream": "stdout",
       "text": [
        "\n",
        "30.33 -90.12 0.0 0.0\n",
        "http://mesonet.agron.iastate.edu/json/radar?operation=available&lat=30.33&lon=-90.12&start=2012-08-28T18:40Z\n",
        "http://mesonet.agron.iastate.edu/json/radar?operation=list&radar=LIX&product=N0Q&start=2012-08-28T18:40Z&end=2012-08-28T18:50Z"
       ]
      },
      {
       "output_type": "stream",
       "stream": "stdout",
       "text": [
        "\n",
        "1840 RADAR: LIX RADAR TIME: 1843"
       ]
      },
      {
       "output_type": "stream",
       "stream": "stdout",
       "text": [
        "\n",
        "30.33 -90.12 0.0 0.0\n",
        "http://mesonet.agron.iastate.edu/json/radar?operation=available&lat=30.33&lon=-90.12&start=2012-08-28T18:45Z\n",
        "http://mesonet.agron.iastate.edu/json/radar?operation=list&radar=LIX&product=N0Q&start=2012-08-28T18:45Z&end=2012-08-28T18:55Z"
       ]
      },
      {
       "output_type": "stream",
       "stream": "stdout",
       "text": [
        "\n",
        "1845 RADAR: LIX RADAR TIME: 1850"
       ]
      },
      {
       "output_type": "stream",
       "stream": "stdout",
       "text": [
        "\n",
        "30.33 -90.12 0.0 0.0\n",
        "http://mesonet.agron.iastate.edu/json/radar?operation=available&lat=30.33&lon=-90.12&start=2012-08-28T18:50Z\n",
        "http://mesonet.agron.iastate.edu/json/radar?operation=list&radar=LIX&product=N0Q&start=2012-08-28T18:50Z&end=2012-08-28T19:00Z"
       ]
      },
      {
       "output_type": "stream",
       "stream": "stdout",
       "text": [
        "\n",
        "1850 RADAR: LIX RADAR TIME: 1850"
       ]
      },
      {
       "output_type": "stream",
       "stream": "stdout",
       "text": [
        "\n",
        "30.33 -90.12 0.0 0.0\n",
        "http://mesonet.agron.iastate.edu/json/radar?operation=available&lat=30.33&lon=-90.12&start=2012-08-28T18:55Z\n",
        "http://mesonet.agron.iastate.edu/json/radar?operation=list&radar=LIX&product=N0Q&start=2012-08-28T18:55Z&end=2012-08-28T19:05Z"
       ]
      },
      {
       "output_type": "stream",
       "stream": "stdout",
       "text": [
        "\n",
        "1855 RADAR: LIX RADAR TIME: 1856"
       ]
      },
      {
       "output_type": "stream",
       "stream": "stdout",
       "text": [
        "\n",
        "30.33 -90.12 0.0 0.0\n",
        "http://mesonet.agron.iastate.edu/json/radar?operation=available&lat=30.33&lon=-90.12&start=2012-08-28T19:00Z\n",
        "http://mesonet.agron.iastate.edu/json/radar?operation=list&radar=LIX&product=N0Q&start=2012-08-28T19:00Z&end=2012-08-28T19:10Z"
       ]
      },
      {
       "output_type": "stream",
       "stream": "stdout",
       "text": [
        "\n",
        "1900 RADAR: LIX RADAR TIME: 1902"
       ]
      },
      {
       "output_type": "stream",
       "stream": "stdout",
       "text": [
        "\n",
        "30.33 -90.12 0.0 0.0\n",
        "http://mesonet.agron.iastate.edu/json/radar?operation=available&lat=30.33&lon=-90.12&start=2012-08-28T19:05Z\n",
        "http://mesonet.agron.iastate.edu/json/radar?operation=list&radar=LIX&product=N0Q&start=2012-08-28T19:05Z&end=2012-08-28T19:15Z"
       ]
      },
      {
       "output_type": "stream",
       "stream": "stdout",
       "text": [
        "\n",
        "1905 RADAR: LIX RADAR TIME: 1909"
       ]
      },
      {
       "output_type": "stream",
       "stream": "stdout",
       "text": [
        "\n",
        "30.33 -90.12 0.0 0.0\n",
        "http://mesonet.agron.iastate.edu/json/radar?operation=available&lat=30.33&lon=-90.12&start=2012-08-28T19:10Z\n",
        "http://mesonet.agron.iastate.edu/json/radar?operation=list&radar=LIX&product=N0Q&start=2012-08-28T19:10Z&end=2012-08-28T19:20Z"
       ]
      },
      {
       "output_type": "stream",
       "stream": "stdout",
       "text": [
        "\n",
        "1910 RADAR: LIX RADAR TIME: 1915"
       ]
      },
      {
       "output_type": "stream",
       "stream": "stdout",
       "text": [
        "\n",
        "30.33 -90.12 0.0 0.0\n",
        "http://mesonet.agron.iastate.edu/json/radar?operation=available&lat=30.33&lon=-90.12&start=2012-08-28T19:15Z\n",
        "http://mesonet.agron.iastate.edu/json/radar?operation=list&radar=LIX&product=N0Q&start=2012-08-28T19:15Z&end=2012-08-28T19:25Z"
       ]
      },
      {
       "output_type": "stream",
       "stream": "stdout",
       "text": [
        "\n",
        "1915 RADAR: LIX RADAR TIME: 1915"
       ]
      },
      {
       "output_type": "stream",
       "stream": "stdout",
       "text": [
        "\n",
        "30.33 -90.12 0.0 0.0\n",
        "http://mesonet.agron.iastate.edu/json/radar?operation=available&lat=30.33&lon=-90.12&start=2012-08-28T19:20Z\n",
        "http://mesonet.agron.iastate.edu/json/radar?operation=list&radar=LIX&product=N0Q&start=2012-08-28T19:20Z&end=2012-08-28T19:30Z"
       ]
      },
      {
       "output_type": "stream",
       "stream": "stdout",
       "text": [
        "\n",
        "1920 RADAR: LIX RADAR TIME: 1921"
       ]
      },
      {
       "output_type": "stream",
       "stream": "stdout",
       "text": [
        "\n",
        "30.33 -90.12 0.0 0.0\n",
        "http://mesonet.agron.iastate.edu/json/radar?operation=available&lat=30.33&lon=-90.12&start=2012-08-28T19:25Z\n",
        "http://mesonet.agron.iastate.edu/json/radar?operation=list&radar=LIX&product=N0Q&start=2012-08-28T19:25Z&end=2012-08-28T19:35Z"
       ]
      },
      {
       "output_type": "stream",
       "stream": "stdout",
       "text": [
        "\n",
        "1925 RADAR: LIX RADAR TIME: 1928"
       ]
      },
      {
       "output_type": "stream",
       "stream": "stdout",
       "text": [
        "\n",
        "30.33 -90.12 0.0 0.0\n",
        "http://mesonet.agron.iastate.edu/json/radar?operation=available&lat=30.33&lon=-90.12&start=2012-08-28T19:30Z\n",
        "http://mesonet.agron.iastate.edu/json/radar?operation=list&radar=LIX&product=N0Q&start=2012-08-28T19:30Z&end=2012-08-28T19:40Z"
       ]
      },
      {
       "output_type": "stream",
       "stream": "stdout",
       "text": [
        "\n",
        "1930 RADAR: LIX RADAR TIME: 1934"
       ]
      },
      {
       "output_type": "stream",
       "stream": "stdout",
       "text": [
        "\n",
        "30.33 -90.12 0.0 0.0\n",
        "http://mesonet.agron.iastate.edu/json/radar?operation=available&lat=30.33&lon=-90.12&start=2012-08-28T19:35Z\n",
        "http://mesonet.agron.iastate.edu/json/radar?operation=list&radar=LIX&product=N0Q&start=2012-08-28T19:35Z&end=2012-08-28T19:45Z"
       ]
      },
      {
       "output_type": "stream",
       "stream": "stdout",
       "text": [
        "\n",
        "1935 RADAR: LIX RADAR TIME: 1940"
       ]
      },
      {
       "output_type": "stream",
       "stream": "stdout",
       "text": [
        "\n",
        "30.33 -90.12 0.0 0.0\n",
        "http://mesonet.agron.iastate.edu/json/radar?operation=available&lat=30.33&lon=-90.12&start=2012-08-28T19:40Z\n",
        "http://mesonet.agron.iastate.edu/json/radar?operation=list&radar=LIX&product=N0Q&start=2012-08-28T19:40Z&end=2012-08-28T19:50Z"
       ]
      },
      {
       "output_type": "stream",
       "stream": "stdout",
       "text": [
        "\n",
        "1940 RADAR: LIX RADAR TIME: 1940"
       ]
      },
      {
       "output_type": "stream",
       "stream": "stdout",
       "text": [
        "\n",
        "30.33 -90.12 0.0 0.0\n",
        "http://mesonet.agron.iastate.edu/json/radar?operation=available&lat=30.33&lon=-90.12&start=2012-08-28T19:45Z\n",
        "http://mesonet.agron.iastate.edu/json/radar?operation=list&radar=LIX&product=N0Q&start=2012-08-28T19:45Z&end=2012-08-28T19:55Z"
       ]
      },
      {
       "output_type": "stream",
       "stream": "stdout",
       "text": [
        "\n",
        "1945 RADAR: LIX RADAR TIME: 1947"
       ]
      },
      {
       "output_type": "stream",
       "stream": "stdout",
       "text": [
        "\n",
        "30.33 -90.12 0.0 0.0\n",
        "http://mesonet.agron.iastate.edu/json/radar?operation=available&lat=30.33&lon=-90.12&start=2012-08-28T19:50Z\n",
        "http://mesonet.agron.iastate.edu/json/radar?operation=list&radar=LIX&product=N0Q&start=2012-08-28T19:50Z&end=2012-08-28T20:00Z"
       ]
      },
      {
       "output_type": "stream",
       "stream": "stdout",
       "text": [
        "\n",
        "1950 RADAR: LIX RADAR TIME: 1953"
       ]
      },
      {
       "output_type": "stream",
       "stream": "stdout",
       "text": [
        "\n",
        "30.33 -90.12 0.0 0.0\n",
        "http://mesonet.agron.iastate.edu/json/radar?operation=available&lat=30.33&lon=-90.12&start=2012-08-28T19:55Z\n",
        "http://mesonet.agron.iastate.edu/json/radar?operation=list&radar=LIX&product=N0Q&start=2012-08-28T19:55Z&end=2012-08-28T20:05Z"
       ]
      },
      {
       "output_type": "stream",
       "stream": "stdout",
       "text": [
        "\n",
        "1955 RADAR: LIX RADAR TIME: 1959"
       ]
      },
      {
       "output_type": "stream",
       "stream": "stdout",
       "text": [
        "\n",
        "30.33 -90.12 0.0 0.0\n",
        "http://mesonet.agron.iastate.edu/json/radar?operation=available&lat=30.33&lon=-90.12&start=2012-08-28T20:00Z\n",
        "http://mesonet.agron.iastate.edu/json/radar?operation=list&radar=LIX&product=N0Q&start=2012-08-28T20:00Z&end=2012-08-28T20:10Z"
       ]
      },
      {
       "output_type": "stream",
       "stream": "stdout",
       "text": [
        "\n",
        "2000 RADAR: LIX RADAR TIME: 2006"
       ]
      },
      {
       "output_type": "stream",
       "stream": "stdout",
       "text": [
        "\n",
        "30.33 -90.12 0.0 0.0\n",
        "http://mesonet.agron.iastate.edu/json/radar?operation=available&lat=30.33&lon=-90.12&start=2012-08-28T20:05Z\n",
        "http://mesonet.agron.iastate.edu/json/radar?operation=list&radar=LIX&product=N0Q&start=2012-08-28T20:05Z&end=2012-08-28T20:15Z"
       ]
      },
      {
       "output_type": "stream",
       "stream": "stdout",
       "text": [
        "\n",
        "2005 RADAR: LIX RADAR TIME: 2006"
       ]
      },
      {
       "output_type": "stream",
       "stream": "stdout",
       "text": [
        "\n",
        "30.33 -90.12 0.0 0.0\n",
        "http://mesonet.agron.iastate.edu/json/radar?operation=available&lat=30.33&lon=-90.12&start=2012-08-28T20:10Z\n",
        "http://mesonet.agron.iastate.edu/json/radar?operation=list&radar=LIX&product=N0Q&start=2012-08-28T20:10Z&end=2012-08-28T20:20Z"
       ]
      },
      {
       "output_type": "stream",
       "stream": "stdout",
       "text": [
        "\n",
        "2010 RADAR: LIX RADAR TIME: 2012"
       ]
      },
      {
       "output_type": "stream",
       "stream": "stdout",
       "text": [
        "\n",
        "30.33 -90.12 0.0 0.0\n",
        "http://mesonet.agron.iastate.edu/json/radar?operation=available&lat=30.33&lon=-90.12&start=2012-08-28T20:15Z\n",
        "http://mesonet.agron.iastate.edu/json/radar?operation=list&radar=LIX&product=N0Q&start=2012-08-28T20:15Z&end=2012-08-28T20:25Z"
       ]
      },
      {
       "output_type": "stream",
       "stream": "stdout",
       "text": [
        "\n",
        "2015 RADAR: LIX RADAR TIME: 2018"
       ]
      },
      {
       "output_type": "stream",
       "stream": "stdout",
       "text": [
        "\n",
        "30.33 -90.12 0.0 0.0\n",
        "http://mesonet.agron.iastate.edu/json/radar?operation=available&lat=30.33&lon=-90.12&start=2012-08-28T20:20Z\n",
        "http://mesonet.agron.iastate.edu/json/radar?operation=list&radar=LIX&product=N0Q&start=2012-08-28T20:20Z&end=2012-08-28T20:30Z"
       ]
      },
      {
       "output_type": "stream",
       "stream": "stdout",
       "text": [
        "\n",
        "2020 RADAR: LIX RADAR TIME: 2025"
       ]
      },
      {
       "output_type": "stream",
       "stream": "stdout",
       "text": [
        "\n",
        "30.33 -90.12 0.0 0.0\n",
        "http://mesonet.agron.iastate.edu/json/radar?operation=available&lat=30.33&lon=-90.12&start=2012-08-28T20:25Z\n",
        "http://mesonet.agron.iastate.edu/json/radar?operation=list&radar=LIX&product=N0Q&start=2012-08-28T20:25Z&end=2012-08-28T20:35Z"
       ]
      },
      {
       "output_type": "stream",
       "stream": "stdout",
       "text": [
        "\n",
        "2025 RADAR: LIX RADAR TIME: 2025"
       ]
      },
      {
       "output_type": "stream",
       "stream": "stdout",
       "text": [
        "\n",
        "30.33 -90.12 0.0 0.0\n",
        "http://mesonet.agron.iastate.edu/json/radar?operation=available&lat=30.33&lon=-90.12&start=2012-08-28T20:30Z\n",
        "http://mesonet.agron.iastate.edu/json/radar?operation=list&radar=LIX&product=N0Q&start=2012-08-28T20:30Z&end=2012-08-28T20:40Z"
       ]
      },
      {
       "output_type": "stream",
       "stream": "stdout",
       "text": [
        "\n",
        "2030 RADAR: LIX RADAR TIME: 2031"
       ]
      },
      {
       "output_type": "stream",
       "stream": "stdout",
       "text": [
        "\n",
        "30.33 -90.12 0.0 0.0\n",
        "http://mesonet.agron.iastate.edu/json/radar?operation=available&lat=30.33&lon=-90.12&start=2012-08-28T20:35Z\n",
        "http://mesonet.agron.iastate.edu/json/radar?operation=list&radar=LIX&product=N0Q&start=2012-08-28T20:35Z&end=2012-08-28T20:45Z"
       ]
      },
      {
       "output_type": "stream",
       "stream": "stdout",
       "text": [
        "\n",
        "2035 RADAR: LIX RADAR TIME: 2037"
       ]
      },
      {
       "output_type": "stream",
       "stream": "stdout",
       "text": [
        "\n",
        "30.33 -90.12 0.0 0.0\n",
        "http://mesonet.agron.iastate.edu/json/radar?operation=available&lat=30.33&lon=-90.12&start=2012-08-28T20:40Z\n",
        "http://mesonet.agron.iastate.edu/json/radar?operation=list&radar=LIX&product=N0Q&start=2012-08-28T20:40Z&end=2012-08-28T20:50Z"
       ]
      },
      {
       "output_type": "stream",
       "stream": "stdout",
       "text": [
        "\n",
        "2040 RADAR: LIX RADAR TIME: 2044"
       ]
      },
      {
       "output_type": "stream",
       "stream": "stdout",
       "text": [
        "\n",
        "30.33 -90.12 0.0 0.0\n",
        "http://mesonet.agron.iastate.edu/json/radar?operation=available&lat=30.33&lon=-90.12&start=2012-08-28T20:45Z\n",
        "http://mesonet.agron.iastate.edu/json/radar?operation=list&radar=LIX&product=N0Q&start=2012-08-28T20:45Z&end=2012-08-28T20:55Z"
       ]
      },
      {
       "output_type": "stream",
       "stream": "stdout",
       "text": [
        "\n",
        "2045 RADAR: LIX RADAR TIME: 2050"
       ]
      },
      {
       "output_type": "stream",
       "stream": "stdout",
       "text": [
        "\n",
        "30.33 -90.12 0.0 0.0\n",
        "http://mesonet.agron.iastate.edu/json/radar?operation=available&lat=30.33&lon=-90.12&start=2012-08-28T20:50Z\n",
        "http://mesonet.agron.iastate.edu/json/radar?operation=list&radar=LIX&product=N0Q&start=2012-08-28T20:50Z&end=2012-08-28T21:00Z"
       ]
      },
      {
       "output_type": "stream",
       "stream": "stdout",
       "text": [
        "\n",
        "2050 RADAR: LIX RADAR TIME: 2050"
       ]
      },
      {
       "output_type": "stream",
       "stream": "stdout",
       "text": [
        "\n",
        "30.33 -90.12 0.0 0.0\n",
        "http://mesonet.agron.iastate.edu/json/radar?operation=available&lat=30.33&lon=-90.12&start=2012-08-28T20:55Z\n",
        "http://mesonet.agron.iastate.edu/json/radar?operation=list&radar=LIX&product=N0Q&start=2012-08-28T20:55Z&end=2012-08-28T21:05Z"
       ]
      },
      {
       "output_type": "stream",
       "stream": "stdout",
       "text": [
        "\n",
        "2055 RADAR: LIX RADAR TIME: 2056"
       ]
      },
      {
       "output_type": "stream",
       "stream": "stdout",
       "text": [
        "\n",
        "30.33 -90.12 0.0 0.0\n",
        "http://mesonet.agron.iastate.edu/json/radar?operation=available&lat=30.33&lon=-90.12&start=2012-08-28T21:00Z\n",
        "http://mesonet.agron.iastate.edu/json/radar?operation=list&radar=LIX&product=N0Q&start=2012-08-28T21:00Z&end=2012-08-28T21:10Z"
       ]
      },
      {
       "output_type": "stream",
       "stream": "stdout",
       "text": [
        "\n",
        "2100 RADAR: LIX RADAR TIME: 2103"
       ]
      },
      {
       "output_type": "stream",
       "stream": "stdout",
       "text": [
        "\n",
        "30.33 -90.12 0.0 0.0\n",
        "http://mesonet.agron.iastate.edu/json/radar?operation=available&lat=30.33&lon=-90.12&start=2012-08-28T21:05Z\n",
        "http://mesonet.agron.iastate.edu/json/radar?operation=list&radar=LIX&product=N0Q&start=2012-08-28T21:05Z&end=2012-08-28T21:15Z"
       ]
      },
      {
       "output_type": "stream",
       "stream": "stdout",
       "text": [
        "\n",
        "2105 RADAR: LIX RADAR TIME: 2109"
       ]
      },
      {
       "output_type": "stream",
       "stream": "stdout",
       "text": [
        "\n",
        "30.33 -90.12 0.0 0.0\n",
        "http://mesonet.agron.iastate.edu/json/radar?operation=available&lat=30.33&lon=-90.12&start=2012-08-28T21:10Z\n",
        "http://mesonet.agron.iastate.edu/json/radar?operation=list&radar=LIX&product=N0Q&start=2012-08-28T21:10Z&end=2012-08-28T21:20Z"
       ]
      },
      {
       "output_type": "stream",
       "stream": "stdout",
       "text": [
        "\n",
        "2110 RADAR: LIX RADAR TIME: 2115"
       ]
      },
      {
       "output_type": "stream",
       "stream": "stdout",
       "text": [
        "\n",
        "30.33 -90.12 0.0 0.0\n",
        "http://mesonet.agron.iastate.edu/json/radar?operation=available&lat=30.33&lon=-90.12&start=2012-08-28T21:15Z\n",
        "http://mesonet.agron.iastate.edu/json/radar?operation=list&radar=LIX&product=N0Q&start=2012-08-28T21:15Z&end=2012-08-28T21:25Z"
       ]
      },
      {
       "output_type": "stream",
       "stream": "stdout",
       "text": [
        "\n",
        "2115 RADAR: LIX RADAR TIME: 2115"
       ]
      },
      {
       "output_type": "stream",
       "stream": "stdout",
       "text": [
        "\n",
        "30.33 -90.12 0.0 0.0\n",
        "http://mesonet.agron.iastate.edu/json/radar?operation=available&lat=30.33&lon=-90.12&start=2012-08-28T21:20Z\n",
        "http://mesonet.agron.iastate.edu/json/radar?operation=list&radar=LIX&product=N0Q&start=2012-08-28T21:20Z&end=2012-08-28T21:30Z"
       ]
      },
      {
       "output_type": "stream",
       "stream": "stdout",
       "text": [
        "\n",
        "2120 RADAR: LIX RADAR TIME: 2121"
       ]
      },
      {
       "output_type": "stream",
       "stream": "stdout",
       "text": [
        "\n",
        "30.33 -90.12 0.0 0.0\n",
        "http://mesonet.agron.iastate.edu/json/radar?operation=available&lat=30.33&lon=-90.12&start=2012-08-28T21:25Z\n",
        "http://mesonet.agron.iastate.edu/json/radar?operation=list&radar=LIX&product=N0Q&start=2012-08-28T21:25Z&end=2012-08-28T21:35Z"
       ]
      },
      {
       "output_type": "stream",
       "stream": "stdout",
       "text": [
        "\n",
        "2125 RADAR: LIX RADAR TIME: 2128"
       ]
      },
      {
       "output_type": "stream",
       "stream": "stdout",
       "text": [
        "\n",
        "30.33 -90.12 0.0 0.0\n",
        "http://mesonet.agron.iastate.edu/json/radar?operation=available&lat=30.33&lon=-90.12&start=2012-08-28T21:30Z\n",
        "http://mesonet.agron.iastate.edu/json/radar?operation=list&radar=LIX&product=N0Q&start=2012-08-28T21:30Z&end=2012-08-28T21:40Z"
       ]
      },
      {
       "output_type": "stream",
       "stream": "stdout",
       "text": [
        "\n",
        "2130 RADAR: LIX RADAR TIME: 2134"
       ]
      },
      {
       "output_type": "stream",
       "stream": "stdout",
       "text": [
        "\n",
        "30.33 -90.12 0.0 0.0\n",
        "http://mesonet.agron.iastate.edu/json/radar?operation=available&lat=30.33&lon=-90.12&start=2012-08-28T21:35Z\n",
        "http://mesonet.agron.iastate.edu/json/radar?operation=list&radar=LIX&product=N0Q&start=2012-08-28T21:35Z&end=2012-08-28T21:45Z"
       ]
      },
      {
       "output_type": "stream",
       "stream": "stdout",
       "text": [
        "\n",
        "2135 RADAR: LIX RADAR TIME: 2140"
       ]
      },
      {
       "output_type": "stream",
       "stream": "stdout",
       "text": [
        "\n",
        "30.33 -90.12 0.0 0.0\n",
        "http://mesonet.agron.iastate.edu/json/radar?operation=available&lat=30.33&lon=-90.12&start=2012-08-28T21:40Z\n",
        "http://mesonet.agron.iastate.edu/json/radar?operation=list&radar=LIX&product=N0Q&start=2012-08-28T21:40Z&end=2012-08-28T21:50Z"
       ]
      },
      {
       "output_type": "stream",
       "stream": "stdout",
       "text": [
        "\n",
        "2140 RADAR: LIX RADAR TIME: 2140"
       ]
      },
      {
       "output_type": "stream",
       "stream": "stdout",
       "text": [
        "\n",
        "30.33 -90.12 0.0 0.0\n",
        "http://mesonet.agron.iastate.edu/json/radar?operation=available&lat=30.33&lon=-90.12&start=2012-08-28T21:45Z\n",
        "http://mesonet.agron.iastate.edu/json/radar?operation=list&radar=LIX&product=N0Q&start=2012-08-28T21:45Z&end=2012-08-28T21:55Z"
       ]
      },
      {
       "output_type": "stream",
       "stream": "stdout",
       "text": [
        "\n",
        "2145 RADAR: LIX RADAR TIME: 2147"
       ]
      },
      {
       "output_type": "stream",
       "stream": "stdout",
       "text": [
        "\n",
        "30.33 -90.12 0.0 0.0\n",
        "http://mesonet.agron.iastate.edu/json/radar?operation=available&lat=30.33&lon=-90.12&start=2012-08-28T21:50Z\n",
        "http://mesonet.agron.iastate.edu/json/radar?operation=list&radar=LIX&product=N0Q&start=2012-08-28T21:50Z&end=2012-08-28T22:00Z"
       ]
      },
      {
       "output_type": "stream",
       "stream": "stdout",
       "text": [
        "\n",
        "2150 RADAR: LIX RADAR TIME: 2153"
       ]
      },
      {
       "output_type": "stream",
       "stream": "stdout",
       "text": [
        "\n",
        "30.33 -90.12 0.0 0.0\n",
        "http://mesonet.agron.iastate.edu/json/radar?operation=available&lat=30.33&lon=-90.12&start=2012-08-28T21:55Z\n",
        "http://mesonet.agron.iastate.edu/json/radar?operation=list&radar=LIX&product=N0Q&start=2012-08-28T21:55Z&end=2012-08-28T22:05Z"
       ]
      },
      {
       "output_type": "stream",
       "stream": "stdout",
       "text": [
        "\n",
        "2155 RADAR: LIX RADAR TIME: 2159"
       ]
      },
      {
       "output_type": "stream",
       "stream": "stdout",
       "text": [
        "\n",
        "30.33 -90.12 0.0 0.0\n",
        "http://mesonet.agron.iastate.edu/json/radar?operation=available&lat=30.33&lon=-90.12&start=2012-08-28T22:00Z\n",
        "http://mesonet.agron.iastate.edu/json/radar?operation=list&radar=LIX&product=N0Q&start=2012-08-28T22:00Z&end=2012-08-28T22:10Z"
       ]
      },
      {
       "output_type": "stream",
       "stream": "stdout",
       "text": [
        "\n",
        "2200 RADAR: LIX RADAR TIME: 2206"
       ]
      },
      {
       "output_type": "stream",
       "stream": "stdout",
       "text": [
        "\n",
        "30.33 -90.12 0.0 0.0\n",
        "http://mesonet.agron.iastate.edu/json/radar?operation=available&lat=30.33&lon=-90.12&start=2012-08-28T22:05Z\n",
        "http://mesonet.agron.iastate.edu/json/radar?operation=list&radar=LIX&product=N0Q&start=2012-08-28T22:05Z&end=2012-08-28T22:15Z"
       ]
      },
      {
       "output_type": "stream",
       "stream": "stdout",
       "text": [
        "\n",
        "2205 RADAR: LIX RADAR TIME: 2206"
       ]
      },
      {
       "output_type": "stream",
       "stream": "stdout",
       "text": [
        "\n",
        "30.33 -90.12 0.0 0.0\n",
        "http://mesonet.agron.iastate.edu/json/radar?operation=available&lat=30.33&lon=-90.12&start=2012-08-28T22:10Z\n",
        "http://mesonet.agron.iastate.edu/json/radar?operation=list&radar=LIX&product=N0Q&start=2012-08-28T22:10Z&end=2012-08-28T22:20Z"
       ]
      },
      {
       "output_type": "stream",
       "stream": "stdout",
       "text": [
        "\n",
        "2210 RADAR: LIX RADAR TIME: 2213"
       ]
      },
      {
       "output_type": "stream",
       "stream": "stdout",
       "text": [
        "\n",
        "30.33 -90.12 0.0 0.0\n",
        "http://mesonet.agron.iastate.edu/json/radar?operation=available&lat=30.33&lon=-90.12&start=2012-08-28T22:15Z\n",
        "http://mesonet.agron.iastate.edu/json/radar?operation=list&radar=LIX&product=N0Q&start=2012-08-28T22:15Z&end=2012-08-28T22:25Z"
       ]
      },
      {
       "output_type": "stream",
       "stream": "stdout",
       "text": [
        "\n",
        "2215 RADAR: LIX RADAR TIME: 2219"
       ]
      },
      {
       "output_type": "stream",
       "stream": "stdout",
       "text": [
        "\n",
        "30.33 -90.12 0.0 0.0\n",
        "http://mesonet.agron.iastate.edu/json/radar?operation=available&lat=30.33&lon=-90.12&start=2012-08-28T22:20Z\n",
        "http://mesonet.agron.iastate.edu/json/radar?operation=list&radar=LIX&product=N0Q&start=2012-08-28T22:20Z&end=2012-08-28T22:30Z"
       ]
      },
      {
       "output_type": "stream",
       "stream": "stdout",
       "text": [
        "\n",
        "2220 RADAR: LIX RADAR TIME: 2226"
       ]
      },
      {
       "output_type": "stream",
       "stream": "stdout",
       "text": [
        "\n",
        "30.33 -90.12 0.0 0.0\n",
        "http://mesonet.agron.iastate.edu/json/radar?operation=available&lat=30.33&lon=-90.12&start=2012-08-28T22:25Z\n",
        "http://mesonet.agron.iastate.edu/json/radar?operation=list&radar=LIX&product=N0Q&start=2012-08-28T22:25Z&end=2012-08-28T22:35Z"
       ]
      },
      {
       "output_type": "stream",
       "stream": "stdout",
       "text": [
        "\n",
        "2225 RADAR: LIX RADAR TIME: 2226"
       ]
      },
      {
       "output_type": "stream",
       "stream": "stdout",
       "text": [
        "\n",
        "30.33 -90.12 0.0 0.0\n",
        "http://mesonet.agron.iastate.edu/json/radar?operation=available&lat=30.33&lon=-90.12&start=2012-08-28T22:30Z\n",
        "http://mesonet.agron.iastate.edu/json/radar?operation=list&radar=LIX&product=N0Q&start=2012-08-28T22:30Z&end=2012-08-28T22:40Z"
       ]
      },
      {
       "output_type": "stream",
       "stream": "stdout",
       "text": [
        "\n",
        "2230 RADAR: LIX RADAR TIME: 2232"
       ]
      },
      {
       "output_type": "stream",
       "stream": "stdout",
       "text": [
        "\n",
        "30.33 -90.12 0.0 0.0\n",
        "http://mesonet.agron.iastate.edu/json/radar?operation=available&lat=30.33&lon=-90.12&start=2012-08-28T22:35Z\n",
        "http://mesonet.agron.iastate.edu/json/radar?operation=list&radar=LIX&product=N0Q&start=2012-08-28T22:35Z&end=2012-08-28T22:45Z"
       ]
      },
      {
       "output_type": "stream",
       "stream": "stdout",
       "text": [
        "\n",
        "2235 RADAR: LIX RADAR TIME: 2238"
       ]
      },
      {
       "output_type": "stream",
       "stream": "stdout",
       "text": [
        "\n",
        "30.33 -90.12 0.0 0.0\n",
        "http://mesonet.agron.iastate.edu/json/radar?operation=available&lat=30.33&lon=-90.12&start=2012-08-28T22:40Z\n",
        "http://mesonet.agron.iastate.edu/json/radar?operation=list&radar=LIX&product=N0Q&start=2012-08-28T22:40Z&end=2012-08-28T22:50Z"
       ]
      },
      {
       "output_type": "stream",
       "stream": "stdout",
       "text": [
        "\n",
        "2240 RADAR: LIX RADAR TIME: 2245"
       ]
      },
      {
       "output_type": "stream",
       "stream": "stdout",
       "text": [
        "\n",
        "30.33 -90.12 0.0 0.0\n",
        "http://mesonet.agron.iastate.edu/json/radar?operation=available&lat=30.33&lon=-90.12&start=2012-08-28T22:45Z\n",
        "http://mesonet.agron.iastate.edu/json/radar?operation=list&radar=LIX&product=N0Q&start=2012-08-28T22:45Z&end=2012-08-28T22:55Z"
       ]
      },
      {
       "output_type": "stream",
       "stream": "stdout",
       "text": [
        "\n",
        "2245 RADAR: LIX RADAR TIME: 2245"
       ]
      },
      {
       "output_type": "stream",
       "stream": "stdout",
       "text": [
        "\n",
        "30.33 -90.12 0.0 0.0\n",
        "http://mesonet.agron.iastate.edu/json/radar?operation=available&lat=30.33&lon=-90.12&start=2012-08-28T22:50Z\n",
        "http://mesonet.agron.iastate.edu/json/radar?operation=list&radar=LIX&product=N0Q&start=2012-08-28T22:50Z&end=2012-08-28T23:00Z"
       ]
      },
      {
       "output_type": "stream",
       "stream": "stdout",
       "text": [
        "\n",
        "2250 RADAR: LIX RADAR TIME: 2251"
       ]
      },
      {
       "output_type": "stream",
       "stream": "stdout",
       "text": [
        "\n",
        "30.33 -90.12 0.0 0.0\n",
        "http://mesonet.agron.iastate.edu/json/radar?operation=available&lat=30.33&lon=-90.12&start=2012-08-28T22:55Z\n",
        "http://mesonet.agron.iastate.edu/json/radar?operation=list&radar=LIX&product=N0Q&start=2012-08-28T22:55Z&end=2012-08-28T23:05Z"
       ]
      },
      {
       "output_type": "stream",
       "stream": "stdout",
       "text": [
        "\n",
        "2255 RADAR: LIX RADAR TIME: 2257"
       ]
      },
      {
       "output_type": "stream",
       "stream": "stdout",
       "text": [
        "\n",
        "30.33 -90.12 0.0 0.0\n",
        "http://mesonet.agron.iastate.edu/json/radar?operation=available&lat=30.33&lon=-90.12&start=2012-08-28T23:00Z\n",
        "http://mesonet.agron.iastate.edu/json/radar?operation=list&radar=LIX&product=N0Q&start=2012-08-28T23:00Z&end=2012-08-28T23:10Z"
       ]
      },
      {
       "output_type": "stream",
       "stream": "stdout",
       "text": [
        "\n",
        "2300 RADAR: LIX RADAR TIME: 2304"
       ]
      },
      {
       "output_type": "stream",
       "stream": "stdout",
       "text": [
        "\n",
        "30.33 -90.12 0.0 0.0\n",
        "http://mesonet.agron.iastate.edu/json/radar?operation=available&lat=30.33&lon=-90.12&start=2012-08-28T23:05Z\n",
        "http://mesonet.agron.iastate.edu/json/radar?operation=list&radar=LIX&product=N0Q&start=2012-08-28T23:05Z&end=2012-08-28T23:15Z"
       ]
      },
      {
       "output_type": "stream",
       "stream": "stdout",
       "text": [
        "\n",
        "2305 RADAR: LIX RADAR TIME: 2310"
       ]
      },
      {
       "output_type": "stream",
       "stream": "stdout",
       "text": [
        "\n",
        "30.33 -90.12 0.0 0.0\n",
        "http://mesonet.agron.iastate.edu/json/radar?operation=available&lat=30.33&lon=-90.12&start=2012-08-28T23:10Z\n",
        "http://mesonet.agron.iastate.edu/json/radar?operation=list&radar=LIX&product=N0Q&start=2012-08-28T23:10Z&end=2012-08-28T23:20Z"
       ]
      },
      {
       "output_type": "stream",
       "stream": "stdout",
       "text": [
        "\n",
        "2310 RADAR: LIX RADAR TIME: 2310"
       ]
      },
      {
       "output_type": "stream",
       "stream": "stdout",
       "text": [
        "\n",
        "30.33 -90.12 0.0 0.0\n",
        "http://mesonet.agron.iastate.edu/json/radar?operation=available&lat=30.33&lon=-90.12&start=2012-08-28T23:15Z\n",
        "http://mesonet.agron.iastate.edu/json/radar?operation=list&radar=LIX&product=N0Q&start=2012-08-28T23:15Z&end=2012-08-28T23:25Z"
       ]
      },
      {
       "output_type": "stream",
       "stream": "stdout",
       "text": [
        "\n",
        "2315 RADAR: LIX RADAR TIME: 2316"
       ]
      },
      {
       "output_type": "stream",
       "stream": "stdout",
       "text": [
        "\n",
        "30.33 -90.12 0.0 0.0\n",
        "http://mesonet.agron.iastate.edu/json/radar?operation=available&lat=30.33&lon=-90.12&start=2012-08-28T23:20Z\n",
        "http://mesonet.agron.iastate.edu/json/radar?operation=list&radar=LIX&product=N0Q&start=2012-08-28T23:20Z&end=2012-08-28T23:30Z"
       ]
      },
      {
       "output_type": "stream",
       "stream": "stdout",
       "text": [
        "\n",
        "2320 RADAR: LIX RADAR TIME: 2323"
       ]
      },
      {
       "output_type": "stream",
       "stream": "stdout",
       "text": [
        "\n",
        "30.33 -90.12 0.0 0.0\n",
        "http://mesonet.agron.iastate.edu/json/radar?operation=available&lat=30.33&lon=-90.12&start=2012-08-28T23:25Z\n",
        "http://mesonet.agron.iastate.edu/json/radar?operation=list&radar=LIX&product=N0Q&start=2012-08-28T23:25Z&end=2012-08-28T23:35Z"
       ]
      },
      {
       "output_type": "stream",
       "stream": "stdout",
       "text": [
        "\n",
        "2325 RADAR: LIX RADAR TIME: 2329"
       ]
      },
      {
       "output_type": "stream",
       "stream": "stdout",
       "text": [
        "\n",
        "30.33 -90.12 0.0 0.0\n",
        "http://mesonet.agron.iastate.edu/json/radar?operation=available&lat=30.33&lon=-90.12&start=2012-08-28T23:30Z\n",
        "http://mesonet.agron.iastate.edu/json/radar?operation=list&radar=LIX&product=N0Q&start=2012-08-28T23:30Z&end=2012-08-28T23:40Z"
       ]
      },
      {
       "output_type": "stream",
       "stream": "stdout",
       "text": [
        "\n",
        "2330 RADAR: LIX RADAR TIME: 2335"
       ]
      },
      {
       "output_type": "stream",
       "stream": "stdout",
       "text": [
        "\n",
        "30.33 -90.12 0.0 0.0\n",
        "http://mesonet.agron.iastate.edu/json/radar?operation=available&lat=30.33&lon=-90.12&start=2012-08-28T23:35Z\n",
        "http://mesonet.agron.iastate.edu/json/radar?operation=list&radar=LIX&product=N0Q&start=2012-08-28T23:35Z&end=2012-08-28T23:45Z"
       ]
      },
      {
       "output_type": "stream",
       "stream": "stdout",
       "text": [
        "\n",
        "2335 RADAR: LIX RADAR TIME: 2335"
       ]
      },
      {
       "output_type": "stream",
       "stream": "stdout",
       "text": [
        "\n",
        "30.33 -90.12 0.0 0.0\n",
        "http://mesonet.agron.iastate.edu/json/radar?operation=available&lat=30.33&lon=-90.12&start=2012-08-28T23:40Z\n",
        "http://mesonet.agron.iastate.edu/json/radar?operation=list&radar=LIX&product=N0Q&start=2012-08-28T23:40Z&end=2012-08-28T23:50Z"
       ]
      },
      {
       "output_type": "stream",
       "stream": "stdout",
       "text": [
        "\n",
        "2340 RADAR: LIX RADAR TIME: 2342"
       ]
      },
      {
       "output_type": "stream",
       "stream": "stdout",
       "text": [
        "\n",
        "30.33 -90.12 0.0 0.0\n",
        "http://mesonet.agron.iastate.edu/json/radar?operation=available&lat=30.33&lon=-90.12&start=2012-08-28T23:45Z\n",
        "http://mesonet.agron.iastate.edu/json/radar?operation=list&radar=LIX&product=N0Q&start=2012-08-28T23:45Z&end=2012-08-28T23:55Z"
       ]
      },
      {
       "output_type": "stream",
       "stream": "stdout",
       "text": [
        "\n",
        "2345 RADAR: LIX RADAR TIME: 2348"
       ]
      },
      {
       "output_type": "stream",
       "stream": "stdout",
       "text": [
        "\n",
        "30.33 -90.12 0.0 0.0\n",
        "http://mesonet.agron.iastate.edu/json/radar?operation=available&lat=30.33&lon=-90.12&start=2012-08-28T23:50Z\n",
        "http://mesonet.agron.iastate.edu/json/radar?operation=list&radar=LIX&product=N0Q&start=2012-08-28T23:50Z&end=2012-08-29T00:00Z"
       ]
      },
      {
       "output_type": "stream",
       "stream": "stdout",
       "text": [
        "\n",
        "2350 RADAR: LIX RADAR TIME: 2354"
       ]
      },
      {
       "output_type": "stream",
       "stream": "stdout",
       "text": [
        "\n",
        "30.33 -90.12 0.0 0.0\n",
        "http://mesonet.agron.iastate.edu/json/radar?operation=available&lat=30.33&lon=-90.12&start=2012-08-28T23:55Z\n",
        "http://mesonet.agron.iastate.edu/json/radar?operation=list&radar=LIX&product=N0Q&start=2012-08-28T23:55Z&end=2012-08-29T00:05Z"
       ]
      },
      {
       "output_type": "stream",
       "stream": "stdout",
       "text": [
        "\n",
        "2355 RADAR: LIX RADAR TIME: 0001"
       ]
      },
      {
       "output_type": "stream",
       "stream": "stdout",
       "text": [
        "\n",
        "30.33 -90.12 0.0 0.0\n",
        "http://mesonet.agron.iastate.edu/json/radar?operation=available&lat=30.33&lon=-90.12&start=2012-08-29T00:00Z\n",
        "http://mesonet.agron.iastate.edu/json/radar?operation=list&radar=LIX&product=N0Q&start=2012-08-29T00:00Z&end=2012-08-29T00:10Z"
       ]
      },
      {
       "output_type": "stream",
       "stream": "stdout",
       "text": [
        "\n",
        "0000 RADAR: LIX RADAR TIME: 0001"
       ]
      },
      {
       "output_type": "stream",
       "stream": "stdout",
       "text": [
        "\n",
        "30.33 -90.12 0.0 0.0\n",
        "http://mesonet.agron.iastate.edu/json/radar?operation=available&lat=30.33&lon=-90.12&start=2012-08-29T00:05Z\n",
        "http://mesonet.agron.iastate.edu/json/radar?operation=list&radar=LIX&product=N0Q&start=2012-08-29T00:05Z&end=2012-08-29T00:15Z"
       ]
      },
      {
       "output_type": "stream",
       "stream": "stdout",
       "text": [
        "\n",
        "0005 RADAR: LIX RADAR TIME: 0007"
       ]
      },
      {
       "output_type": "stream",
       "stream": "stdout",
       "text": [
        "\n",
        "30.33 -90.12 0.0 0.0\n",
        "http://mesonet.agron.iastate.edu/json/radar?operation=available&lat=30.33&lon=-90.12&start=2012-08-29T00:10Z\n",
        "http://mesonet.agron.iastate.edu/json/radar?operation=list&radar=LIX&product=N0Q&start=2012-08-29T00:10Z&end=2012-08-29T00:20Z"
       ]
      },
      {
       "output_type": "stream",
       "stream": "stdout",
       "text": [
        "\n",
        "0010 RADAR: LIX RADAR TIME: 0013"
       ]
      },
      {
       "output_type": "stream",
       "stream": "stdout",
       "text": [
        "\n",
        "30.33 -90.12 0.0 0.0\n",
        "http://mesonet.agron.iastate.edu/json/radar?operation=available&lat=30.33&lon=-90.12&start=2012-08-29T00:15Z\n",
        "http://mesonet.agron.iastate.edu/json/radar?operation=list&radar=LIX&product=N0Q&start=2012-08-29T00:15Z&end=2012-08-29T00:25Z"
       ]
      },
      {
       "output_type": "stream",
       "stream": "stdout",
       "text": [
        "\n",
        "0015 RADAR: LIX RADAR TIME: 0019"
       ]
      },
      {
       "output_type": "stream",
       "stream": "stdout",
       "text": [
        "\n",
        "30.33 -90.12 0.0 0.0\n",
        "http://mesonet.agron.iastate.edu/json/radar?operation=available&lat=30.33&lon=-90.12&start=2012-08-29T00:20Z\n",
        "http://mesonet.agron.iastate.edu/json/radar?operation=list&radar=LIX&product=N0Q&start=2012-08-29T00:20Z&end=2012-08-29T00:30Z"
       ]
      },
      {
       "output_type": "stream",
       "stream": "stdout",
       "text": [
        "\n",
        "0020 RADAR: LIX RADAR TIME: 0026"
       ]
      },
      {
       "output_type": "stream",
       "stream": "stdout",
       "text": [
        "\n",
        "30.33 -90.12 0.0 0.0\n",
        "http://mesonet.agron.iastate.edu/json/radar?operation=available&lat=30.33&lon=-90.12&start=2012-08-29T00:25Z\n",
        "http://mesonet.agron.iastate.edu/json/radar?operation=list&radar=LIX&product=N0Q&start=2012-08-29T00:25Z&end=2012-08-29T00:35Z"
       ]
      },
      {
       "output_type": "stream",
       "stream": "stdout",
       "text": [
        "\n",
        "0025 RADAR: LIX RADAR TIME: 0026"
       ]
      },
      {
       "output_type": "stream",
       "stream": "stdout",
       "text": [
        "\n",
        "30.33 -90.12 0.0 0.0\n",
        "http://mesonet.agron.iastate.edu/json/radar?operation=available&lat=30.33&lon=-90.12&start=2012-08-29T00:30Z\n",
        "http://mesonet.agron.iastate.edu/json/radar?operation=list&radar=LIX&product=N0Q&start=2012-08-29T00:30Z&end=2012-08-29T00:40Z"
       ]
      },
      {
       "output_type": "stream",
       "stream": "stdout",
       "text": [
        "\n",
        "0030 RADAR: LIX RADAR TIME: 0032"
       ]
      },
      {
       "output_type": "stream",
       "stream": "stdout",
       "text": [
        "\n",
        "30.33 -90.12 0.0 0.0\n",
        "http://mesonet.agron.iastate.edu/json/radar?operation=available&lat=30.33&lon=-90.12&start=2012-08-29T00:35Z\n",
        "http://mesonet.agron.iastate.edu/json/radar?operation=list&radar=LIX&product=N0Q&start=2012-08-29T00:35Z&end=2012-08-29T00:45Z"
       ]
      },
      {
       "output_type": "stream",
       "stream": "stdout",
       "text": [
        "\n",
        "0035 RADAR: LIX RADAR TIME: 0038"
       ]
      },
      {
       "output_type": "stream",
       "stream": "stdout",
       "text": [
        "\n",
        "30.33 -90.12 0.0 0.0\n",
        "http://mesonet.agron.iastate.edu/json/radar?operation=available&lat=30.33&lon=-90.12&start=2012-08-29T00:40Z\n",
        "http://mesonet.agron.iastate.edu/json/radar?operation=list&radar=LIX&product=N0Q&start=2012-08-29T00:40Z&end=2012-08-29T00:50Z"
       ]
      },
      {
       "output_type": "stream",
       "stream": "stdout",
       "text": [
        "\n",
        "0040 RADAR: LIX RADAR TIME: 0045"
       ]
      },
      {
       "output_type": "stream",
       "stream": "stdout",
       "text": [
        "\n",
        "30.33 -90.12 0.0 0.0\n",
        "http://mesonet.agron.iastate.edu/json/radar?operation=available&lat=30.33&lon=-90.12&start=2012-08-29T00:45Z\n",
        "http://mesonet.agron.iastate.edu/json/radar?operation=list&radar=LIX&product=N0Q&start=2012-08-29T00:45Z&end=2012-08-29T00:55Z"
       ]
      },
      {
       "output_type": "stream",
       "stream": "stdout",
       "text": [
        "\n",
        "0045 RADAR: LIX RADAR TIME: 0045"
       ]
      },
      {
       "output_type": "stream",
       "stream": "stdout",
       "text": [
        "\n",
        "30.33 -90.12 0.0 0.0\n",
        "http://mesonet.agron.iastate.edu/json/radar?operation=available&lat=30.33&lon=-90.12&start=2012-08-29T00:50Z\n",
        "http://mesonet.agron.iastate.edu/json/radar?operation=list&radar=LIX&product=N0Q&start=2012-08-29T00:50Z&end=2012-08-29T01:00Z"
       ]
      },
      {
       "output_type": "stream",
       "stream": "stdout",
       "text": [
        "\n",
        "0050 RADAR: LIX RADAR TIME: 0051"
       ]
      },
      {
       "output_type": "stream",
       "stream": "stdout",
       "text": [
        "\n",
        "30.33 -90.12 0.0 0.0\n",
        "http://mesonet.agron.iastate.edu/json/radar?operation=available&lat=30.33&lon=-90.12&start=2012-08-29T00:55Z\n",
        "http://mesonet.agron.iastate.edu/json/radar?operation=list&radar=LIX&product=N0Q&start=2012-08-29T00:55Z&end=2012-08-29T01:05Z"
       ]
      },
      {
       "output_type": "stream",
       "stream": "stdout",
       "text": [
        "\n",
        "0055 RADAR: LIX RADAR TIME: 0057"
       ]
      },
      {
       "output_type": "stream",
       "stream": "stdout",
       "text": [
        "\n",
        "30.33 -90.12 0.0 0.0\n",
        "http://mesonet.agron.iastate.edu/json/radar?operation=available&lat=30.33&lon=-90.12&start=2012-08-29T01:00Z\n",
        "http://mesonet.agron.iastate.edu/json/radar?operation=list&radar=LIX&product=N0Q&start=2012-08-29T01:00Z&end=2012-08-29T01:10Z"
       ]
      },
      {
       "output_type": "stream",
       "stream": "stdout",
       "text": [
        "\n",
        "0100 RADAR: LIX RADAR TIME: 0104"
       ]
      },
      {
       "output_type": "stream",
       "stream": "stdout",
       "text": [
        "\n",
        "30.33 -90.12 0.0 0.0\n",
        "http://mesonet.agron.iastate.edu/json/radar?operation=available&lat=30.33&lon=-90.12&start=2012-08-29T01:05Z\n",
        "http://mesonet.agron.iastate.edu/json/radar?operation=list&radar=LIX&product=N0Q&start=2012-08-29T01:05Z&end=2012-08-29T01:15Z"
       ]
      },
      {
       "output_type": "stream",
       "stream": "stdout",
       "text": [
        "\n",
        "0105 RADAR: LIX RADAR TIME: 0110"
       ]
      },
      {
       "output_type": "stream",
       "stream": "stdout",
       "text": [
        "\n",
        "30.33 -90.12 0.0 0.0\n",
        "http://mesonet.agron.iastate.edu/json/radar?operation=available&lat=30.33&lon=-90.12&start=2012-08-29T01:10Z\n",
        "http://mesonet.agron.iastate.edu/json/radar?operation=list&radar=LIX&product=N0Q&start=2012-08-29T01:10Z&end=2012-08-29T01:20Z"
       ]
      },
      {
       "output_type": "stream",
       "stream": "stdout",
       "text": [
        "\n",
        "0110 RADAR: LIX RADAR TIME: 0110"
       ]
      },
      {
       "output_type": "stream",
       "stream": "stdout",
       "text": [
        "\n",
        "30.33 -90.12 0.0 0.0\n",
        "http://mesonet.agron.iastate.edu/json/radar?operation=available&lat=30.33&lon=-90.12&start=2012-08-29T01:15Z\n",
        "http://mesonet.agron.iastate.edu/json/radar?operation=list&radar=LIX&product=N0Q&start=2012-08-29T01:15Z&end=2012-08-29T01:25Z"
       ]
      },
      {
       "output_type": "stream",
       "stream": "stdout",
       "text": [
        "\n",
        "0115 RADAR: LIX RADAR TIME: 0116"
       ]
      },
      {
       "output_type": "stream",
       "stream": "stdout",
       "text": [
        "\n",
        "30.33 -90.12 0.0 0.0\n",
        "http://mesonet.agron.iastate.edu/json/radar?operation=available&lat=30.33&lon=-90.12&start=2012-08-29T01:20Z\n",
        "http://mesonet.agron.iastate.edu/json/radar?operation=list&radar=LIX&product=N0Q&start=2012-08-29T01:20Z&end=2012-08-29T01:30Z"
       ]
      },
      {
       "output_type": "stream",
       "stream": "stdout",
       "text": [
        "\n",
        "0120 RADAR: LIX RADAR TIME: 0123"
       ]
      },
      {
       "output_type": "stream",
       "stream": "stdout",
       "text": [
        "\n",
        "30.33 -90.12 0.0 0.0\n",
        "http://mesonet.agron.iastate.edu/json/radar?operation=available&lat=30.33&lon=-90.12&start=2012-08-29T01:25Z\n",
        "http://mesonet.agron.iastate.edu/json/radar?operation=list&radar=LIX&product=N0Q&start=2012-08-29T01:25Z&end=2012-08-29T01:35Z"
       ]
      },
      {
       "output_type": "stream",
       "stream": "stdout",
       "text": [
        "\n",
        "0125 RADAR: LIX RADAR TIME: 0129"
       ]
      },
      {
       "output_type": "stream",
       "stream": "stdout",
       "text": [
        "\n",
        "30.33 -90.12 0.0 0.0\n",
        "http://mesonet.agron.iastate.edu/json/radar?operation=available&lat=30.33&lon=-90.12&start=2012-08-29T01:30Z\n",
        "http://mesonet.agron.iastate.edu/json/radar?operation=list&radar=LIX&product=N0Q&start=2012-08-29T01:30Z&end=2012-08-29T01:40Z"
       ]
      },
      {
       "output_type": "stream",
       "stream": "stdout",
       "text": [
        "\n",
        "0130 RADAR: LIX RADAR TIME: 0135"
       ]
      },
      {
       "output_type": "stream",
       "stream": "stdout",
       "text": [
        "\n",
        "30.33 -90.12 0.0 0.0\n",
        "http://mesonet.agron.iastate.edu/json/radar?operation=available&lat=30.33&lon=-90.12&start=2012-08-29T01:35Z\n",
        "http://mesonet.agron.iastate.edu/json/radar?operation=list&radar=LIX&product=N0Q&start=2012-08-29T01:35Z&end=2012-08-29T01:45Z"
       ]
      },
      {
       "output_type": "stream",
       "stream": "stdout",
       "text": [
        "\n",
        "0135 RADAR: LIX RADAR TIME: 0135"
       ]
      },
      {
       "output_type": "stream",
       "stream": "stdout",
       "text": [
        "\n",
        "30.33 -90.12 0.0 0.0\n",
        "http://mesonet.agron.iastate.edu/json/radar?operation=available&lat=30.33&lon=-90.12&start=2012-08-29T01:40Z\n",
        "http://mesonet.agron.iastate.edu/json/radar?operation=list&radar=LIX&product=N0Q&start=2012-08-29T01:40Z&end=2012-08-29T01:50Z"
       ]
      },
      {
       "output_type": "stream",
       "stream": "stdout",
       "text": [
        "\n",
        "0140 RADAR: LIX RADAR TIME: 0142"
       ]
      },
      {
       "output_type": "stream",
       "stream": "stdout",
       "text": [
        "\n",
        "30.33 -90.12 0.0 0.0\n",
        "http://mesonet.agron.iastate.edu/json/radar?operation=available&lat=30.33&lon=-90.12&start=2012-08-29T01:45Z\n",
        "http://mesonet.agron.iastate.edu/json/radar?operation=list&radar=LIX&product=N0Q&start=2012-08-29T01:45Z&end=2012-08-29T01:55Z"
       ]
      },
      {
       "output_type": "stream",
       "stream": "stdout",
       "text": [
        "\n",
        "0145 RADAR: LIX RADAR TIME: 0148"
       ]
      },
      {
       "output_type": "stream",
       "stream": "stdout",
       "text": [
        "\n",
        "30.33 -90.12 0.0 0.0\n",
        "http://mesonet.agron.iastate.edu/json/radar?operation=available&lat=30.33&lon=-90.12&start=2012-08-29T01:50Z\n",
        "http://mesonet.agron.iastate.edu/json/radar?operation=list&radar=LIX&product=N0Q&start=2012-08-29T01:50Z&end=2012-08-29T02:00Z"
       ]
      },
      {
       "output_type": "stream",
       "stream": "stdout",
       "text": [
        "\n",
        "0150 RADAR: LIX RADAR TIME: 0154"
       ]
      },
      {
       "output_type": "stream",
       "stream": "stdout",
       "text": [
        "\n",
        "30.33 -90.12 0.0 0.0\n",
        "http://mesonet.agron.iastate.edu/json/radar?operation=available&lat=30.33&lon=-90.12&start=2012-08-29T01:55Z\n",
        "http://mesonet.agron.iastate.edu/json/radar?operation=list&radar=LIX&product=N0Q&start=2012-08-29T01:55Z&end=2012-08-29T02:05Z"
       ]
      },
      {
       "output_type": "stream",
       "stream": "stdout",
       "text": [
        "\n",
        "0155 RADAR: LIX RADAR TIME: 0201"
       ]
      },
      {
       "output_type": "stream",
       "stream": "stdout",
       "text": [
        "\n",
        "30.33 -90.12 0.0 0.0\n",
        "http://mesonet.agron.iastate.edu/json/radar?operation=available&lat=30.33&lon=-90.12&start=2012-08-29T02:00Z\n",
        "http://mesonet.agron.iastate.edu/json/radar?operation=list&radar=LIX&product=N0Q&start=2012-08-29T02:00Z&end=2012-08-29T02:10Z"
       ]
      },
      {
       "output_type": "stream",
       "stream": "stdout",
       "text": [
        "\n",
        "0200 RADAR: LIX RADAR TIME: 0201"
       ]
      },
      {
       "output_type": "stream",
       "stream": "stdout",
       "text": [
        "\n",
        "30.33 -90.12 0.0 0.0\n",
        "http://mesonet.agron.iastate.edu/json/radar?operation=available&lat=30.33&lon=-90.12&start=2012-08-29T02:05Z\n",
        "http://mesonet.agron.iastate.edu/json/radar?operation=list&radar=LIX&product=N0Q&start=2012-08-29T02:05Z&end=2012-08-29T02:15Z"
       ]
      },
      {
       "output_type": "stream",
       "stream": "stdout",
       "text": [
        "\n",
        "0205 RADAR: LIX RADAR TIME: 0207"
       ]
      },
      {
       "output_type": "stream",
       "stream": "stdout",
       "text": [
        "\n",
        "30.33 -90.12 0.0 0.0\n",
        "http://mesonet.agron.iastate.edu/json/radar?operation=available&lat=30.33&lon=-90.12&start=2012-08-29T02:10Z\n",
        "http://mesonet.agron.iastate.edu/json/radar?operation=list&radar=LIX&product=N0Q&start=2012-08-29T02:10Z&end=2012-08-29T02:20Z"
       ]
      },
      {
       "output_type": "stream",
       "stream": "stdout",
       "text": [
        "\n",
        "0210 RADAR: LIX RADAR TIME: 0213"
       ]
      },
      {
       "output_type": "stream",
       "stream": "stdout",
       "text": [
        "\n",
        "30.33 -90.12 0.0 0.0\n",
        "http://mesonet.agron.iastate.edu/json/radar?operation=available&lat=30.33&lon=-90.12&start=2012-08-29T02:15Z\n",
        "http://mesonet.agron.iastate.edu/json/radar?operation=list&radar=LIX&product=N0Q&start=2012-08-29T02:15Z&end=2012-08-29T02:25Z"
       ]
      },
      {
       "output_type": "stream",
       "stream": "stdout",
       "text": [
        "\n",
        "0215 RADAR: LIX RADAR TIME: 0220"
       ]
      },
      {
       "output_type": "stream",
       "stream": "stdout",
       "text": [
        "\n",
        "30.33 -90.12 0.0 0.0\n",
        "http://mesonet.agron.iastate.edu/json/radar?operation=available&lat=30.33&lon=-90.12&start=2012-08-29T02:20Z\n",
        "http://mesonet.agron.iastate.edu/json/radar?operation=list&radar=LIX&product=N0Q&start=2012-08-29T02:20Z&end=2012-08-29T02:30Z"
       ]
      },
      {
       "output_type": "stream",
       "stream": "stdout",
       "text": [
        "\n",
        "0220 RADAR: LIX RADAR TIME: 0220"
       ]
      },
      {
       "output_type": "stream",
       "stream": "stdout",
       "text": [
        "\n",
        "30.33 -90.12 0.0 0.0\n",
        "http://mesonet.agron.iastate.edu/json/radar?operation=available&lat=30.33&lon=-90.12&start=2012-08-29T02:25Z\n",
        "http://mesonet.agron.iastate.edu/json/radar?operation=list&radar=LIX&product=N0Q&start=2012-08-29T02:25Z&end=2012-08-29T02:35Z"
       ]
      },
      {
       "output_type": "stream",
       "stream": "stdout",
       "text": [
        "\n",
        "0225 RADAR: LIX RADAR TIME: 0226"
       ]
      },
      {
       "output_type": "stream",
       "stream": "stdout",
       "text": [
        "\n",
        "30.33 -90.12 0.0 0.0\n",
        "http://mesonet.agron.iastate.edu/json/radar?operation=available&lat=30.33&lon=-90.12&start=2012-08-29T02:30Z\n",
        "http://mesonet.agron.iastate.edu/json/radar?operation=list&radar=LIX&product=N0Q&start=2012-08-29T02:30Z&end=2012-08-29T02:40Z"
       ]
      },
      {
       "output_type": "stream",
       "stream": "stdout",
       "text": [
        "\n",
        "0230 RADAR: LIX RADAR TIME: 0232"
       ]
      },
      {
       "output_type": "stream",
       "stream": "stdout",
       "text": [
        "\n",
        "30.33 -90.12 0.0 0.0\n",
        "http://mesonet.agron.iastate.edu/json/radar?operation=available&lat=30.33&lon=-90.12&start=2012-08-29T02:35Z\n",
        "http://mesonet.agron.iastate.edu/json/radar?operation=list&radar=LIX&product=N0Q&start=2012-08-29T02:35Z&end=2012-08-29T02:45Z"
       ]
      },
      {
       "output_type": "stream",
       "stream": "stdout",
       "text": [
        "\n",
        "0235 RADAR: LIX RADAR TIME: 0239"
       ]
      },
      {
       "output_type": "stream",
       "stream": "stdout",
       "text": [
        "\n",
        "30.33 -90.12 0.0 0.0\n",
        "http://mesonet.agron.iastate.edu/json/radar?operation=available&lat=30.33&lon=-90.12&start=2012-08-29T02:40Z\n",
        "http://mesonet.agron.iastate.edu/json/radar?operation=list&radar=LIX&product=N0Q&start=2012-08-29T02:40Z&end=2012-08-29T02:50Z"
       ]
      },
      {
       "output_type": "stream",
       "stream": "stdout",
       "text": [
        "\n",
        "0240 RADAR: LIX RADAR TIME: 0245"
       ]
      },
      {
       "output_type": "stream",
       "stream": "stdout",
       "text": [
        "\n",
        "30.33 -90.12 0.0 0.0\n",
        "http://mesonet.agron.iastate.edu/json/radar?operation=available&lat=30.33&lon=-90.12&start=2012-08-29T02:45Z\n",
        "http://mesonet.agron.iastate.edu/json/radar?operation=list&radar=LIX&product=N0Q&start=2012-08-29T02:45Z&end=2012-08-29T02:55Z"
       ]
      },
      {
       "output_type": "stream",
       "stream": "stdout",
       "text": [
        "\n",
        "0245 RADAR: LIX RADAR TIME: 0245"
       ]
      },
      {
       "output_type": "stream",
       "stream": "stdout",
       "text": [
        "\n",
        "30.33 -90.12 0.0 0.0\n",
        "http://mesonet.agron.iastate.edu/json/radar?operation=available&lat=30.33&lon=-90.12&start=2012-08-29T02:50Z\n",
        "http://mesonet.agron.iastate.edu/json/radar?operation=list&radar=LIX&product=N0Q&start=2012-08-29T02:50Z&end=2012-08-29T03:00Z"
       ]
      },
      {
       "output_type": "stream",
       "stream": "stdout",
       "text": [
        "\n",
        "0250 RADAR: LIX RADAR TIME: 0251"
       ]
      },
      {
       "output_type": "stream",
       "stream": "stdout",
       "text": [
        "\n",
        "30.33 -90.12 0.0 0.0\n",
        "http://mesonet.agron.iastate.edu/json/radar?operation=available&lat=30.33&lon=-90.12&start=2012-08-29T02:55Z\n",
        "http://mesonet.agron.iastate.edu/json/radar?operation=list&radar=LIX&product=N0Q&start=2012-08-29T02:55Z&end=2012-08-29T03:05Z"
       ]
      },
      {
       "output_type": "stream",
       "stream": "stdout",
       "text": [
        "\n",
        "0255 RADAR: LIX RADAR TIME: 0258"
       ]
      },
      {
       "output_type": "stream",
       "stream": "stdout",
       "text": [
        "\n",
        "30.33 -90.12 0.0 0.0\n",
        "http://mesonet.agron.iastate.edu/json/radar?operation=available&lat=30.33&lon=-90.12&start=2012-08-29T03:00Z\n",
        "http://mesonet.agron.iastate.edu/json/radar?operation=list&radar=LIX&product=N0Q&start=2012-08-29T03:00Z&end=2012-08-29T03:10Z"
       ]
      },
      {
       "output_type": "stream",
       "stream": "stdout",
       "text": [
        "\n",
        "0300 RADAR: LIX RADAR TIME: 0304"
       ]
      },
      {
       "output_type": "stream",
       "stream": "stdout",
       "text": [
        "\n",
        "30.33 -90.12 0.0 0.0\n",
        "http://mesonet.agron.iastate.edu/json/radar?operation=available&lat=30.33&lon=-90.12&start=2012-08-29T03:05Z\n",
        "http://mesonet.agron.iastate.edu/json/radar?operation=list&radar=LIX&product=N0Q&start=2012-08-29T03:05Z&end=2012-08-29T03:15Z"
       ]
      },
      {
       "output_type": "stream",
       "stream": "stdout",
       "text": [
        "\n",
        "0305 RADAR: LIX RADAR TIME: 0310"
       ]
      },
      {
       "output_type": "stream",
       "stream": "stdout",
       "text": [
        "\n",
        "30.33 -90.12 0.0 0.0\n",
        "http://mesonet.agron.iastate.edu/json/radar?operation=available&lat=30.33&lon=-90.12&start=2012-08-29T03:10Z\n",
        "http://mesonet.agron.iastate.edu/json/radar?operation=list&radar=LIX&product=N0Q&start=2012-08-29T03:10Z&end=2012-08-29T03:20Z"
       ]
      },
      {
       "output_type": "stream",
       "stream": "stdout",
       "text": [
        "\n",
        "0310 RADAR: LIX RADAR TIME: 0310"
       ]
      },
      {
       "output_type": "stream",
       "stream": "stdout",
       "text": [
        "\n",
        "30.33 -90.12 0.0 0.0\n",
        "http://mesonet.agron.iastate.edu/json/radar?operation=available&lat=30.33&lon=-90.12&start=2012-08-29T03:15Z\n",
        "http://mesonet.agron.iastate.edu/json/radar?operation=list&radar=LIX&product=N0Q&start=2012-08-29T03:15Z&end=2012-08-29T03:25Z"
       ]
      },
      {
       "output_type": "stream",
       "stream": "stdout",
       "text": [
        "\n",
        "0315 RADAR: LIX RADAR TIME: 0317"
       ]
      },
      {
       "output_type": "stream",
       "stream": "stdout",
       "text": [
        "\n",
        "30.33 -90.12 0.0 0.0\n",
        "http://mesonet.agron.iastate.edu/json/radar?operation=available&lat=30.33&lon=-90.12&start=2012-08-29T03:20Z\n",
        "http://mesonet.agron.iastate.edu/json/radar?operation=list&radar=LIX&product=N0Q&start=2012-08-29T03:20Z&end=2012-08-29T03:30Z"
       ]
      },
      {
       "output_type": "stream",
       "stream": "stdout",
       "text": [
        "\n",
        "0320 RADAR: LIX RADAR TIME: 0323"
       ]
      },
      {
       "output_type": "stream",
       "stream": "stdout",
       "text": [
        "\n",
        "30.33 -90.12 0.0 0.0\n",
        "http://mesonet.agron.iastate.edu/json/radar?operation=available&lat=30.33&lon=-90.12&start=2012-08-29T03:25Z\n",
        "http://mesonet.agron.iastate.edu/json/radar?operation=list&radar=LIX&product=N0Q&start=2012-08-29T03:25Z&end=2012-08-29T03:35Z"
       ]
      },
      {
       "output_type": "stream",
       "stream": "stdout",
       "text": [
        "\n",
        "0325 RADAR: LIX RADAR TIME: 0329"
       ]
      },
      {
       "output_type": "stream",
       "stream": "stdout",
       "text": [
        "\n",
        "30.33 -90.12 0.0 0.0\n",
        "http://mesonet.agron.iastate.edu/json/radar?operation=available&lat=30.33&lon=-90.12&start=2012-08-29T03:30Z\n",
        "http://mesonet.agron.iastate.edu/json/radar?operation=list&radar=LIX&product=N0Q&start=2012-08-29T03:30Z&end=2012-08-29T03:40Z"
       ]
      },
      {
       "output_type": "stream",
       "stream": "stdout",
       "text": [
        "\n",
        "0330 RADAR: LIX RADAR TIME: 0336"
       ]
      },
      {
       "output_type": "stream",
       "stream": "stdout",
       "text": [
        "\n",
        "30.33 -90.12 0.0 0.0\n",
        "http://mesonet.agron.iastate.edu/json/radar?operation=available&lat=30.33&lon=-90.12&start=2012-08-29T03:35Z\n",
        "http://mesonet.agron.iastate.edu/json/radar?operation=list&radar=LIX&product=N0Q&start=2012-08-29T03:35Z&end=2012-08-29T03:45Z"
       ]
      },
      {
       "output_type": "stream",
       "stream": "stdout",
       "text": [
        "\n",
        "0335 RADAR: LIX RADAR TIME: 0336"
       ]
      },
      {
       "output_type": "stream",
       "stream": "stdout",
       "text": [
        "\n",
        "30.33 -90.12 0.0 0.0\n",
        "http://mesonet.agron.iastate.edu/json/radar?operation=available&lat=30.33&lon=-90.12&start=2012-08-29T03:40Z\n",
        "http://mesonet.agron.iastate.edu/json/radar?operation=list&radar=LIX&product=N0Q&start=2012-08-29T03:40Z&end=2012-08-29T03:50Z"
       ]
      },
      {
       "output_type": "stream",
       "stream": "stdout",
       "text": [
        "\n",
        "0340 RADAR: LIX RADAR TIME: 0342"
       ]
      },
      {
       "output_type": "stream",
       "stream": "stdout",
       "text": [
        "\n",
        "30.33 -90.12 0.0 0.0\n",
        "http://mesonet.agron.iastate.edu/json/radar?operation=available&lat=30.33&lon=-90.12&start=2012-08-29T03:45Z\n",
        "http://mesonet.agron.iastate.edu/json/radar?operation=list&radar=LIX&product=N0Q&start=2012-08-29T03:45Z&end=2012-08-29T03:55Z"
       ]
      },
      {
       "output_type": "stream",
       "stream": "stdout",
       "text": [
        "\n",
        "0345 RADAR: LIX RADAR TIME: 0348"
       ]
      },
      {
       "output_type": "stream",
       "stream": "stdout",
       "text": [
        "\n",
        "30.33 -90.12 0.0 0.0\n",
        "http://mesonet.agron.iastate.edu/json/radar?operation=available&lat=30.33&lon=-90.12&start=2012-08-29T03:50Z\n",
        "http://mesonet.agron.iastate.edu/json/radar?operation=list&radar=LIX&product=N0Q&start=2012-08-29T03:50Z&end=2012-08-29T04:00Z"
       ]
      },
      {
       "output_type": "stream",
       "stream": "stdout",
       "text": [
        "\n",
        "0350 RADAR: LIX RADAR TIME: 0355"
       ]
      },
      {
       "output_type": "stream",
       "stream": "stdout",
       "text": [
        "\n",
        "30.33 -90.12 0.0 0.0\n",
        "http://mesonet.agron.iastate.edu/json/radar?operation=available&lat=30.33&lon=-90.12&start=2012-08-29T03:55Z\n",
        "http://mesonet.agron.iastate.edu/json/radar?operation=list&radar=LIX&product=N0Q&start=2012-08-29T03:55Z&end=2012-08-29T04:05Z"
       ]
      },
      {
       "output_type": "stream",
       "stream": "stdout",
       "text": [
        "\n",
        "0355 RADAR: LIX RADAR TIME: 0355"
       ]
      },
      {
       "output_type": "stream",
       "stream": "stdout",
       "text": [
        "\n",
        "30.33 -90.12 0.0 0.0\n",
        "http://mesonet.agron.iastate.edu/json/radar?operation=available&lat=30.33&lon=-90.12&start=2012-08-29T04:00Z\n",
        "http://mesonet.agron.iastate.edu/json/radar?operation=list&radar=LIX&product=N0Q&start=2012-08-29T04:00Z&end=2012-08-29T04:10Z"
       ]
      },
      {
       "output_type": "stream",
       "stream": "stdout",
       "text": [
        "\n",
        "0400 RADAR: LIX RADAR TIME: 0401"
       ]
      },
      {
       "output_type": "stream",
       "stream": "stdout",
       "text": [
        "\n",
        "30.33 -90.12 0.0 0.0\n",
        "http://mesonet.agron.iastate.edu/json/radar?operation=available&lat=30.33&lon=-90.12&start=2012-08-29T04:05Z\n",
        "http://mesonet.agron.iastate.edu/json/radar?operation=list&radar=LIX&product=N0Q&start=2012-08-29T04:05Z&end=2012-08-29T04:15Z"
       ]
      },
      {
       "output_type": "stream",
       "stream": "stdout",
       "text": [
        "\n",
        "0405 RADAR: LIX RADAR TIME: 0407"
       ]
      },
      {
       "output_type": "stream",
       "stream": "stdout",
       "text": [
        "\n",
        "30.33 -90.12 0.0 0.0\n",
        "http://mesonet.agron.iastate.edu/json/radar?operation=available&lat=30.33&lon=-90.12&start=2012-08-29T04:10Z\n",
        "http://mesonet.agron.iastate.edu/json/radar?operation=list&radar=LIX&product=N0Q&start=2012-08-29T04:10Z&end=2012-08-29T04:20Z"
       ]
      },
      {
       "output_type": "stream",
       "stream": "stdout",
       "text": [
        "\n",
        "0410 RADAR: LIX RADAR TIME: 0413"
       ]
      },
      {
       "output_type": "stream",
       "stream": "stdout",
       "text": [
        "\n",
        "30.33 -90.12 0.0 0.0\n",
        "http://mesonet.agron.iastate.edu/json/radar?operation=available&lat=30.33&lon=-90.12&start=2012-08-29T04:15Z\n",
        "http://mesonet.agron.iastate.edu/json/radar?operation=list&radar=LIX&product=N0Q&start=2012-08-29T04:15Z&end=2012-08-29T04:25Z"
       ]
      },
      {
       "output_type": "stream",
       "stream": "stdout",
       "text": [
        "\n",
        "0415 RADAR: LIX RADAR TIME: 0420"
       ]
      },
      {
       "output_type": "stream",
       "stream": "stdout",
       "text": [
        "\n",
        "30.33 -90.12 0.0 0.0\n",
        "http://mesonet.agron.iastate.edu/json/radar?operation=available&lat=30.33&lon=-90.12&start=2012-08-29T04:20Z\n",
        "http://mesonet.agron.iastate.edu/json/radar?operation=list&radar=LIX&product=N0Q&start=2012-08-29T04:20Z&end=2012-08-29T04:30Z"
       ]
      },
      {
       "output_type": "stream",
       "stream": "stdout",
       "text": [
        "\n",
        "0420 RADAR: LIX RADAR TIME: 0420"
       ]
      },
      {
       "output_type": "stream",
       "stream": "stdout",
       "text": [
        "\n",
        "30.33 -90.12 0.0 0.0\n",
        "http://mesonet.agron.iastate.edu/json/radar?operation=available&lat=30.33&lon=-90.12&start=2012-08-29T04:25Z\n",
        "http://mesonet.agron.iastate.edu/json/radar?operation=list&radar=LIX&product=N0Q&start=2012-08-29T04:25Z&end=2012-08-29T04:35Z"
       ]
      },
      {
       "output_type": "stream",
       "stream": "stdout",
       "text": [
        "\n",
        "0425 RADAR: LIX RADAR TIME: 0426"
       ]
      },
      {
       "output_type": "stream",
       "stream": "stdout",
       "text": [
        "\n",
        "30.33 -90.12 0.0 0.0\n",
        "http://mesonet.agron.iastate.edu/json/radar?operation=available&lat=30.33&lon=-90.12&start=2012-08-29T04:30Z\n",
        "http://mesonet.agron.iastate.edu/json/radar?operation=list&radar=LIX&product=N0Q&start=2012-08-29T04:30Z&end=2012-08-29T04:40Z"
       ]
      },
      {
       "output_type": "stream",
       "stream": "stdout",
       "text": [
        "\n",
        "0430 RADAR: LIX RADAR TIME: 0432"
       ]
      },
      {
       "output_type": "stream",
       "stream": "stdout",
       "text": [
        "\n",
        "30.33 -90.12 0.0 0.0\n",
        "http://mesonet.agron.iastate.edu/json/radar?operation=available&lat=30.33&lon=-90.12&start=2012-08-29T04:35Z\n",
        "http://mesonet.agron.iastate.edu/json/radar?operation=list&radar=LIX&product=N0Q&start=2012-08-29T04:35Z&end=2012-08-29T04:45Z"
       ]
      },
      {
       "output_type": "stream",
       "stream": "stdout",
       "text": [
        "\n",
        "0435 RADAR: LIX RADAR TIME: 0439"
       ]
      },
      {
       "output_type": "stream",
       "stream": "stdout",
       "text": [
        "\n",
        "30.33 -90.12 0.0 0.0\n",
        "http://mesonet.agron.iastate.edu/json/radar?operation=available&lat=30.33&lon=-90.12&start=2012-08-29T04:40Z\n",
        "http://mesonet.agron.iastate.edu/json/radar?operation=list&radar=LIX&product=N0Q&start=2012-08-29T04:40Z&end=2012-08-29T04:50Z"
       ]
      },
      {
       "output_type": "stream",
       "stream": "stdout",
       "text": [
        "\n",
        "0440 RADAR: LIX RADAR TIME: 0445"
       ]
      },
      {
       "output_type": "stream",
       "stream": "stdout",
       "text": [
        "\n",
        "30.33 -90.12 0.0 0.0\n",
        "http://mesonet.agron.iastate.edu/json/radar?operation=available&lat=30.33&lon=-90.12&start=2012-08-29T04:45Z\n",
        "http://mesonet.agron.iastate.edu/json/radar?operation=list&radar=LIX&product=N0Q&start=2012-08-29T04:45Z&end=2012-08-29T04:55Z"
       ]
      },
      {
       "output_type": "stream",
       "stream": "stdout",
       "text": [
        "\n",
        "0445 RADAR: LIX RADAR TIME: 0445"
       ]
      },
      {
       "output_type": "stream",
       "stream": "stdout",
       "text": [
        "\n",
        "30.33 -90.12 0.0 0.0\n",
        "http://mesonet.agron.iastate.edu/json/radar?operation=available&lat=30.33&lon=-90.12&start=2012-08-29T04:50Z\n",
        "http://mesonet.agron.iastate.edu/json/radar?operation=list&radar=LIX&product=N0Q&start=2012-08-29T04:50Z&end=2012-08-29T05:00Z"
       ]
      },
      {
       "output_type": "stream",
       "stream": "stdout",
       "text": [
        "\n",
        "0450 RADAR: LIX RADAR TIME: 0451"
       ]
      },
      {
       "output_type": "stream",
       "stream": "stdout",
       "text": [
        "\n",
        "30.33 -90.12 0.0 0.0\n",
        "http://mesonet.agron.iastate.edu/json/radar?operation=available&lat=30.33&lon=-90.12&start=2012-08-29T04:55Z\n",
        "http://mesonet.agron.iastate.edu/json/radar?operation=list&radar=LIX&product=N0Q&start=2012-08-29T04:55Z&end=2012-08-29T05:05Z"
       ]
      },
      {
       "output_type": "stream",
       "stream": "stdout",
       "text": [
        "\n",
        "0455 RADAR: LIX RADAR TIME: 0458"
       ]
      },
      {
       "output_type": "stream",
       "stream": "stdout",
       "text": [
        "\n",
        "30.33 -90.12 0.0 0.0\n",
        "http://mesonet.agron.iastate.edu/json/radar?operation=available&lat=30.33&lon=-90.12&start=2012-08-29T05:00Z\n",
        "http://mesonet.agron.iastate.edu/json/radar?operation=list&radar=LIX&product=N0Q&start=2012-08-29T05:00Z&end=2012-08-29T05:10Z"
       ]
      },
      {
       "output_type": "stream",
       "stream": "stdout",
       "text": [
        "\n",
        "0500 RADAR: LIX RADAR TIME: 0504"
       ]
      },
      {
       "output_type": "stream",
       "stream": "stdout",
       "text": [
        "\n",
        "30.33 -90.12 0.0 0.0\n",
        "http://mesonet.agron.iastate.edu/json/radar?operation=available&lat=30.33&lon=-90.12&start=2012-08-29T05:05Z\n",
        "http://mesonet.agron.iastate.edu/json/radar?operation=list&radar=LIX&product=N0Q&start=2012-08-29T05:05Z&end=2012-08-29T05:15Z"
       ]
      },
      {
       "output_type": "stream",
       "stream": "stdout",
       "text": [
        "\n",
        "0505 RADAR: LIX RADAR TIME: 0510"
       ]
      },
      {
       "output_type": "stream",
       "stream": "stdout",
       "text": [
        "\n",
        "30.33 -90.12 0.0 0.0\n",
        "http://mesonet.agron.iastate.edu/json/radar?operation=available&lat=30.33&lon=-90.12&start=2012-08-29T05:10Z\n",
        "http://mesonet.agron.iastate.edu/json/radar?operation=list&radar=LIX&product=N0Q&start=2012-08-29T05:10Z&end=2012-08-29T05:20Z"
       ]
      },
      {
       "output_type": "stream",
       "stream": "stdout",
       "text": [
        "\n",
        "0510 RADAR: LIX RADAR TIME: 0510"
       ]
      },
      {
       "output_type": "stream",
       "stream": "stdout",
       "text": [
        "\n",
        "30.33 -90.12 0.0 0.0\n",
        "http://mesonet.agron.iastate.edu/json/radar?operation=available&lat=30.33&lon=-90.12&start=2012-08-29T05:15Z\n",
        "http://mesonet.agron.iastate.edu/json/radar?operation=list&radar=LIX&product=N0Q&start=2012-08-29T05:15Z&end=2012-08-29T05:25Z"
       ]
      },
      {
       "output_type": "stream",
       "stream": "stdout",
       "text": [
        "\n",
        "0515 RADAR: LIX RADAR TIME: 0517"
       ]
      },
      {
       "output_type": "stream",
       "stream": "stdout",
       "text": [
        "\n",
        "30.33 -90.12 0.0 0.0\n",
        "http://mesonet.agron.iastate.edu/json/radar?operation=available&lat=30.33&lon=-90.12&start=2012-08-29T05:20Z\n",
        "http://mesonet.agron.iastate.edu/json/radar?operation=list&radar=LIX&product=N0Q&start=2012-08-29T05:20Z&end=2012-08-29T05:30Z"
       ]
      },
      {
       "output_type": "stream",
       "stream": "stdout",
       "text": [
        "\n",
        "0520 RADAR: LIX RADAR TIME: 0523"
       ]
      },
      {
       "output_type": "stream",
       "stream": "stdout",
       "text": [
        "\n",
        "30.33 -90.12 0.0 0.0\n",
        "http://mesonet.agron.iastate.edu/json/radar?operation=available&lat=30.33&lon=-90.12&start=2012-08-29T05:25Z\n",
        "http://mesonet.agron.iastate.edu/json/radar?operation=list&radar=LIX&product=N0Q&start=2012-08-29T05:25Z&end=2012-08-29T05:35Z"
       ]
      },
      {
       "output_type": "stream",
       "stream": "stdout",
       "text": [
        "\n",
        "0525 RADAR: LIX RADAR TIME: 0529"
       ]
      },
      {
       "output_type": "stream",
       "stream": "stdout",
       "text": [
        "\n",
        "30.33 -90.12 0.0 0.0\n",
        "http://mesonet.agron.iastate.edu/json/radar?operation=available&lat=30.33&lon=-90.12&start=2012-08-29T05:30Z\n",
        "http://mesonet.agron.iastate.edu/json/radar?operation=list&radar=LIX&product=N0Q&start=2012-08-29T05:30Z&end=2012-08-29T05:40Z"
       ]
      },
      {
       "output_type": "stream",
       "stream": "stdout",
       "text": [
        "\n",
        "0530 RADAR: LIX RADAR TIME: 0536"
       ]
      },
      {
       "output_type": "stream",
       "stream": "stdout",
       "text": [
        "\n",
        "30.33 -90.12 0.0 0.0\n",
        "http://mesonet.agron.iastate.edu/json/radar?operation=available&lat=30.33&lon=-90.12&start=2012-08-29T05:35Z\n",
        "http://mesonet.agron.iastate.edu/json/radar?operation=list&radar=LIX&product=N0Q&start=2012-08-29T05:35Z&end=2012-08-29T05:45Z"
       ]
      },
      {
       "output_type": "stream",
       "stream": "stdout",
       "text": [
        "\n",
        "0535 RADAR: LIX RADAR TIME: 0536"
       ]
      },
      {
       "output_type": "stream",
       "stream": "stdout",
       "text": [
        "\n",
        "30.33 -90.12 0.0 0.0\n",
        "http://mesonet.agron.iastate.edu/json/radar?operation=available&lat=30.33&lon=-90.12&start=2012-08-29T05:40Z\n",
        "http://mesonet.agron.iastate.edu/json/radar?operation=list&radar=LIX&product=N0Q&start=2012-08-29T05:40Z&end=2012-08-29T05:50Z"
       ]
      },
      {
       "output_type": "stream",
       "stream": "stdout",
       "text": [
        "\n",
        "0540 RADAR: LIX RADAR TIME: 0542"
       ]
      },
      {
       "output_type": "stream",
       "stream": "stdout",
       "text": [
        "\n",
        "30.33 -90.12 0.0 0.0\n",
        "http://mesonet.agron.iastate.edu/json/radar?operation=available&lat=30.33&lon=-90.12&start=2012-08-29T05:45Z\n",
        "http://mesonet.agron.iastate.edu/json/radar?operation=list&radar=LIX&product=N0Q&start=2012-08-29T05:45Z&end=2012-08-29T05:55Z"
       ]
      },
      {
       "output_type": "stream",
       "stream": "stdout",
       "text": [
        "\n",
        "0545 RADAR: LIX RADAR TIME: 0548"
       ]
      },
      {
       "output_type": "stream",
       "stream": "stdout",
       "text": [
        "\n",
        "30.33 -90.12 0.0 0.0\n",
        "http://mesonet.agron.iastate.edu/json/radar?operation=available&lat=30.33&lon=-90.12&start=2012-08-29T05:50Z\n",
        "http://mesonet.agron.iastate.edu/json/radar?operation=list&radar=LIX&product=N0Q&start=2012-08-29T05:50Z&end=2012-08-29T06:00Z"
       ]
      },
      {
       "output_type": "stream",
       "stream": "stdout",
       "text": [
        "\n",
        "0550 RADAR: LIX RADAR TIME: 0555"
       ]
      },
      {
       "output_type": "stream",
       "stream": "stdout",
       "text": [
        "\n",
        "30.33 -90.12 0.0 0.0\n",
        "http://mesonet.agron.iastate.edu/json/radar?operation=available&lat=30.33&lon=-90.12&start=2012-08-29T05:55Z\n",
        "http://mesonet.agron.iastate.edu/json/radar?operation=list&radar=LIX&product=N0Q&start=2012-08-29T05:55Z&end=2012-08-29T06:05Z"
       ]
      },
      {
       "output_type": "stream",
       "stream": "stdout",
       "text": [
        "\n",
        "0555 RADAR: LIX RADAR TIME: 0555"
       ]
      },
      {
       "output_type": "stream",
       "stream": "stdout",
       "text": [
        "\n",
        "30.33 -90.12 0.0 0.0\n",
        "http://mesonet.agron.iastate.edu/json/radar?operation=available&lat=30.33&lon=-90.12&start=2012-08-29T06:00Z\n",
        "http://mesonet.agron.iastate.edu/json/radar?operation=list&radar=LIX&product=N0Q&start=2012-08-29T06:00Z&end=2012-08-29T06:10Z"
       ]
      },
      {
       "output_type": "stream",
       "stream": "stdout",
       "text": [
        "\n",
        "0600 RADAR: LIX RADAR TIME: 0601"
       ]
      },
      {
       "output_type": "stream",
       "stream": "stdout",
       "text": [
        "\n",
        "30.33 -90.12 0.0 0.0\n",
        "http://mesonet.agron.iastate.edu/json/radar?operation=available&lat=30.33&lon=-90.12&start=2012-08-29T06:05Z\n",
        "http://mesonet.agron.iastate.edu/json/radar?operation=list&radar=LIX&product=N0Q&start=2012-08-29T06:05Z&end=2012-08-29T06:15Z"
       ]
      },
      {
       "output_type": "stream",
       "stream": "stdout",
       "text": [
        "\n",
        "0605 RADAR: LIX RADAR TIME: 0607"
       ]
      },
      {
       "output_type": "stream",
       "stream": "stdout",
       "text": [
        "\n",
        "30.33 -90.12 0.0 0.0\n",
        "http://mesonet.agron.iastate.edu/json/radar?operation=available&lat=30.33&lon=-90.12&start=2012-08-29T06:10Z\n",
        "http://mesonet.agron.iastate.edu/json/radar?operation=list&radar=LIX&product=N0Q&start=2012-08-29T06:10Z&end=2012-08-29T06:20Z"
       ]
      },
      {
       "output_type": "stream",
       "stream": "stdout",
       "text": [
        "\n",
        "0610 RADAR: LIX RADAR TIME: 0615"
       ]
      },
      {
       "output_type": "stream",
       "stream": "stdout",
       "text": [
        "\n",
        "30.33 -90.12 0.0 0.0\n",
        "http://mesonet.agron.iastate.edu/json/radar?operation=available&lat=30.33&lon=-90.12&start=2012-08-29T06:15Z\n",
        "http://mesonet.agron.iastate.edu/json/radar?operation=list&radar=LIX&product=N0Q&start=2012-08-29T06:15Z&end=2012-08-29T06:25Z"
       ]
      },
      {
       "output_type": "stream",
       "stream": "stdout",
       "text": [
        "\n",
        "0615 RADAR: LIX RADAR TIME: 0615"
       ]
      },
      {
       "output_type": "stream",
       "stream": "stdout",
       "text": [
        "\n",
        "30.33 -90.12 0.0 0.0\n",
        "http://mesonet.agron.iastate.edu/json/radar?operation=available&lat=30.33&lon=-90.12&start=2012-08-29T06:20Z\n",
        "http://mesonet.agron.iastate.edu/json/radar?operation=list&radar=LIX&product=N0Q&start=2012-08-29T06:20Z&end=2012-08-29T06:30Z"
       ]
      },
      {
       "output_type": "stream",
       "stream": "stdout",
       "text": [
        "\n",
        "0620 RADAR: LIX RADAR TIME: 0621"
       ]
      },
      {
       "output_type": "stream",
       "stream": "stdout",
       "text": [
        "\n",
        "30.33 -90.12 0.0 0.0\n",
        "http://mesonet.agron.iastate.edu/json/radar?operation=available&lat=30.33&lon=-90.12&start=2012-08-29T06:25Z\n",
        "http://mesonet.agron.iastate.edu/json/radar?operation=list&radar=LIX&product=N0Q&start=2012-08-29T06:25Z&end=2012-08-29T06:35Z"
       ]
      },
      {
       "output_type": "stream",
       "stream": "stdout",
       "text": [
        "\n",
        "0625 RADAR: LIX RADAR TIME: 0627"
       ]
      },
      {
       "output_type": "stream",
       "stream": "stdout",
       "text": [
        "\n",
        "30.33 -90.12 0.0 0.0\n",
        "http://mesonet.agron.iastate.edu/json/radar?operation=available&lat=30.33&lon=-90.12&start=2012-08-29T06:30Z\n",
        "http://mesonet.agron.iastate.edu/json/radar?operation=list&radar=LIX&product=N0Q&start=2012-08-29T06:30Z&end=2012-08-29T06:40Z"
       ]
      },
      {
       "output_type": "stream",
       "stream": "stdout",
       "text": [
        "\n",
        "0630 RADAR: LIX RADAR TIME: 0634"
       ]
      },
      {
       "output_type": "stream",
       "stream": "stdout",
       "text": [
        "\n",
        "30.33 -90.12 0.0 0.0\n",
        "http://mesonet.agron.iastate.edu/json/radar?operation=available&lat=30.33&lon=-90.12&start=2012-08-29T06:35Z\n",
        "http://mesonet.agron.iastate.edu/json/radar?operation=list&radar=LIX&product=N0Q&start=2012-08-29T06:35Z&end=2012-08-29T06:45Z"
       ]
      },
      {
       "output_type": "stream",
       "stream": "stdout",
       "text": [
        "\n",
        "0635 RADAR: LIX RADAR TIME: 0640"
       ]
      },
      {
       "output_type": "stream",
       "stream": "stdout",
       "text": [
        "\n",
        "30.33 -90.12 0.0 0.0\n",
        "http://mesonet.agron.iastate.edu/json/radar?operation=available&lat=30.33&lon=-90.12&start=2012-08-29T06:40Z\n",
        "http://mesonet.agron.iastate.edu/json/radar?operation=list&radar=LIX&product=N0Q&start=2012-08-29T06:40Z&end=2012-08-29T06:50Z"
       ]
      },
      {
       "output_type": "stream",
       "stream": "stdout",
       "text": [
        "\n",
        "0640 RADAR: LIX RADAR TIME: 0640"
       ]
      },
      {
       "output_type": "stream",
       "stream": "stdout",
       "text": [
        "\n",
        "30.33 -90.12 0.0 0.0\n",
        "http://mesonet.agron.iastate.edu/json/radar?operation=available&lat=30.33&lon=-90.12&start=2012-08-29T06:45Z\n",
        "http://mesonet.agron.iastate.edu/json/radar?operation=list&radar=LIX&product=N0Q&start=2012-08-29T06:45Z&end=2012-08-29T06:55Z"
       ]
      },
      {
       "output_type": "stream",
       "stream": "stdout",
       "text": [
        "\n",
        "0645 RADAR: LIX RADAR TIME: 0646"
       ]
      },
      {
       "output_type": "stream",
       "stream": "stdout",
       "text": [
        "\n",
        "30.33 -90.12 0.0 0.0\n",
        "http://mesonet.agron.iastate.edu/json/radar?operation=available&lat=30.33&lon=-90.12&start=2012-08-29T06:50Z\n",
        "http://mesonet.agron.iastate.edu/json/radar?operation=list&radar=LIX&product=N0Q&start=2012-08-29T06:50Z&end=2012-08-29T07:00Z"
       ]
      },
      {
       "output_type": "stream",
       "stream": "stdout",
       "text": [
        "\n",
        "0650 RADAR: LIX RADAR TIME: 0653"
       ]
      },
      {
       "output_type": "stream",
       "stream": "stdout",
       "text": [
        "\n",
        "30.33 -90.12 0.0 0.0\n",
        "http://mesonet.agron.iastate.edu/json/radar?operation=available&lat=30.33&lon=-90.12&start=2012-08-29T06:55Z\n",
        "http://mesonet.agron.iastate.edu/json/radar?operation=list&radar=LIX&product=N0Q&start=2012-08-29T06:55Z&end=2012-08-29T07:05Z"
       ]
      },
      {
       "output_type": "stream",
       "stream": "stdout",
       "text": [
        "\n",
        "0655 RADAR: LIX RADAR TIME: 0659"
       ]
      },
      {
       "output_type": "stream",
       "stream": "stdout",
       "text": [
        "\n",
        "30.33 -90.12 0.0 0.0\n",
        "http://mesonet.agron.iastate.edu/json/radar?operation=available&lat=30.33&lon=-90.12&start=2012-08-29T07:00Z\n",
        "http://mesonet.agron.iastate.edu/json/radar?operation=list&radar=LIX&product=N0Q&start=2012-08-29T07:00Z&end=2012-08-29T07:10Z"
       ]
      },
      {
       "output_type": "stream",
       "stream": "stdout",
       "text": [
        "\n",
        "0700 RADAR: LIX RADAR TIME: 0705"
       ]
      },
      {
       "output_type": "stream",
       "stream": "stdout",
       "text": [
        "\n",
        "30.33 -90.12 0.0 0.0\n",
        "http://mesonet.agron.iastate.edu/json/radar?operation=available&lat=30.33&lon=-90.12&start=2012-08-29T07:05Z\n",
        "http://mesonet.agron.iastate.edu/json/radar?operation=list&radar=LIX&product=N0Q&start=2012-08-29T07:05Z&end=2012-08-29T07:15Z"
       ]
      },
      {
       "output_type": "stream",
       "stream": "stdout",
       "text": [
        "\n",
        "0705 RADAR: LIX RADAR TIME: 0705"
       ]
      },
      {
       "output_type": "stream",
       "stream": "stdout",
       "text": [
        "\n",
        "30.33 -90.12 0.0 0.0\n",
        "http://mesonet.agron.iastate.edu/json/radar?operation=available&lat=30.33&lon=-90.12&start=2012-08-29T07:10Z\n",
        "http://mesonet.agron.iastate.edu/json/radar?operation=list&radar=LIX&product=N0Q&start=2012-08-29T07:10Z&end=2012-08-29T07:20Z"
       ]
      },
      {
       "output_type": "stream",
       "stream": "stdout",
       "text": [
        "\n",
        "0710 RADAR: LIX RADAR TIME: 0712"
       ]
      },
      {
       "output_type": "stream",
       "stream": "stdout",
       "text": [
        "\n",
        "30.33 -90.12 0.0 0.0\n",
        "http://mesonet.agron.iastate.edu/json/radar?operation=available&lat=30.33&lon=-90.12&start=2012-08-29T07:15Z\n",
        "http://mesonet.agron.iastate.edu/json/radar?operation=list&radar=LIX&product=N0Q&start=2012-08-29T07:15Z&end=2012-08-29T07:25Z"
       ]
      },
      {
       "output_type": "stream",
       "stream": "stdout",
       "text": [
        "\n",
        "0715 RADAR: LIX RADAR TIME: 0718"
       ]
      },
      {
       "output_type": "stream",
       "stream": "stdout",
       "text": [
        "\n",
        "30.33 -90.12 0.0 0.0\n",
        "http://mesonet.agron.iastate.edu/json/radar?operation=available&lat=30.33&lon=-90.12&start=2012-08-29T07:20Z\n",
        "http://mesonet.agron.iastate.edu/json/radar?operation=list&radar=LIX&product=N0Q&start=2012-08-29T07:20Z&end=2012-08-29T07:30Z"
       ]
      },
      {
       "output_type": "stream",
       "stream": "stdout",
       "text": [
        "\n",
        "0720 RADAR: LIX RADAR TIME: 0724"
       ]
      },
      {
       "output_type": "stream",
       "stream": "stdout",
       "text": [
        "\n",
        "30.33 -90.12 0.0 0.0\n",
        "http://mesonet.agron.iastate.edu/json/radar?operation=available&lat=30.33&lon=-90.12&start=2012-08-29T07:25Z\n",
        "http://mesonet.agron.iastate.edu/json/radar?operation=list&radar=LIX&product=N0Q&start=2012-08-29T07:25Z&end=2012-08-29T07:35Z"
       ]
      },
      {
       "output_type": "stream",
       "stream": "stdout",
       "text": [
        "\n",
        "0725 RADAR: LIX RADAR TIME: 0731"
       ]
      },
      {
       "output_type": "stream",
       "stream": "stdout",
       "text": [
        "\n",
        "30.33 -90.12 0.0 0.0\n",
        "http://mesonet.agron.iastate.edu/json/radar?operation=available&lat=30.33&lon=-90.12&start=2012-08-29T07:30Z\n",
        "http://mesonet.agron.iastate.edu/json/radar?operation=list&radar=LIX&product=N0Q&start=2012-08-29T07:30Z&end=2012-08-29T07:40Z"
       ]
      },
      {
       "output_type": "stream",
       "stream": "stdout",
       "text": [
        "\n",
        "0730 RADAR: LIX RADAR TIME: 0731"
       ]
      },
      {
       "output_type": "stream",
       "stream": "stdout",
       "text": [
        "\n",
        "30.33 -90.12 0.0 0.0\n",
        "http://mesonet.agron.iastate.edu/json/radar?operation=available&lat=30.33&lon=-90.12&start=2012-08-29T07:35Z\n",
        "http://mesonet.agron.iastate.edu/json/radar?operation=list&radar=LIX&product=N0Q&start=2012-08-29T07:35Z&end=2012-08-29T07:45Z"
       ]
      },
      {
       "output_type": "stream",
       "stream": "stdout",
       "text": [
        "\n",
        "0735 RADAR: LIX RADAR TIME: 0737"
       ]
      },
      {
       "output_type": "stream",
       "stream": "stdout",
       "text": [
        "\n",
        "30.33 -90.12 0.0 0.0\n",
        "http://mesonet.agron.iastate.edu/json/radar?operation=available&lat=30.33&lon=-90.12&start=2012-08-29T07:40Z\n",
        "http://mesonet.agron.iastate.edu/json/radar?operation=list&radar=LIX&product=N0Q&start=2012-08-29T07:40Z&end=2012-08-29T07:50Z"
       ]
      },
      {
       "output_type": "stream",
       "stream": "stdout",
       "text": [
        "\n",
        "0740 RADAR: LIX RADAR TIME: 0743"
       ]
      },
      {
       "output_type": "stream",
       "stream": "stdout",
       "text": [
        "\n",
        "30.33 -90.12 0.0 0.0\n",
        "http://mesonet.agron.iastate.edu/json/radar?operation=available&lat=30.33&lon=-90.12&start=2012-08-29T07:45Z\n",
        "http://mesonet.agron.iastate.edu/json/radar?operation=list&radar=LIX&product=N0Q&start=2012-08-29T07:45Z&end=2012-08-29T07:55Z"
       ]
      },
      {
       "output_type": "stream",
       "stream": "stdout",
       "text": [
        "\n",
        "0745 RADAR: LIX RADAR TIME: 0750"
       ]
      },
      {
       "output_type": "stream",
       "stream": "stdout",
       "text": [
        "\n",
        "30.33 -90.12 0.0 0.0\n",
        "http://mesonet.agron.iastate.edu/json/radar?operation=available&lat=30.33&lon=-90.12&start=2012-08-29T07:50Z\n",
        "http://mesonet.agron.iastate.edu/json/radar?operation=list&radar=LIX&product=N0Q&start=2012-08-29T07:50Z&end=2012-08-29T08:00Z"
       ]
      },
      {
       "output_type": "stream",
       "stream": "stdout",
       "text": [
        "\n",
        "0750 RADAR: LIX RADAR TIME: 0750"
       ]
      },
      {
       "output_type": "stream",
       "stream": "stdout",
       "text": [
        "\n",
        "30.33 -90.12 0.0 0.0\n",
        "http://mesonet.agron.iastate.edu/json/radar?operation=available&lat=30.33&lon=-90.12&start=2012-08-29T07:55Z\n",
        "http://mesonet.agron.iastate.edu/json/radar?operation=list&radar=LIX&product=N0Q&start=2012-08-29T07:55Z&end=2012-08-29T08:05Z"
       ]
      },
      {
       "output_type": "stream",
       "stream": "stdout",
       "text": [
        "\n",
        "0755 RADAR: LIX RADAR TIME: 0756"
       ]
      },
      {
       "output_type": "stream",
       "stream": "stdout",
       "text": [
        "\n",
        "30.33 -90.12 0.0 0.0\n",
        "http://mesonet.agron.iastate.edu/json/radar?operation=available&lat=30.33&lon=-90.12&start=2012-08-29T08:00Z\n",
        "http://mesonet.agron.iastate.edu/json/radar?operation=list&radar=LIX&product=N0Q&start=2012-08-29T08:00Z&end=2012-08-29T08:10Z"
       ]
      },
      {
       "output_type": "stream",
       "stream": "stdout",
       "text": [
        "\n",
        "0800 RADAR: LIX RADAR TIME: 0802"
       ]
      },
      {
       "output_type": "stream",
       "stream": "stdout",
       "text": [
        "\n",
        "30.33 -90.12 0.0 0.0\n",
        "http://mesonet.agron.iastate.edu/json/radar?operation=available&lat=30.33&lon=-90.12&start=2012-08-29T08:05Z\n",
        "http://mesonet.agron.iastate.edu/json/radar?operation=list&radar=LIX&product=N0Q&start=2012-08-29T08:05Z&end=2012-08-29T08:15Z"
       ]
      },
      {
       "output_type": "stream",
       "stream": "stdout",
       "text": [
        "\n",
        "0805 RADAR: LIX RADAR TIME: 0808"
       ]
      },
      {
       "output_type": "stream",
       "stream": "stdout",
       "text": [
        "\n",
        "30.33 -90.12 0.0 0.0\n",
        "http://mesonet.agron.iastate.edu/json/radar?operation=available&lat=30.33&lon=-90.12&start=2012-08-29T08:10Z\n",
        "http://mesonet.agron.iastate.edu/json/radar?operation=list&radar=LIX&product=N0Q&start=2012-08-29T08:10Z&end=2012-08-29T08:20Z"
       ]
      },
      {
       "output_type": "stream",
       "stream": "stdout",
       "text": [
        "\n",
        "0810 RADAR: LIX RADAR TIME: 0815"
       ]
      },
      {
       "output_type": "stream",
       "stream": "stdout",
       "text": [
        "\n",
        "30.33 -90.12 0.0 0.0\n",
        "http://mesonet.agron.iastate.edu/json/radar?operation=available&lat=30.33&lon=-90.12&start=2012-08-29T08:15Z\n",
        "http://mesonet.agron.iastate.edu/json/radar?operation=list&radar=LIX&product=N0Q&start=2012-08-29T08:15Z&end=2012-08-29T08:25Z"
       ]
      },
      {
       "output_type": "stream",
       "stream": "stdout",
       "text": [
        "\n",
        "0815 RADAR: LIX RADAR TIME: 0815"
       ]
      },
      {
       "output_type": "stream",
       "stream": "stdout",
       "text": [
        "\n",
        "30.33 -90.12 0.0 0.0\n",
        "http://mesonet.agron.iastate.edu/json/radar?operation=available&lat=30.33&lon=-90.12&start=2012-08-29T08:20Z\n",
        "http://mesonet.agron.iastate.edu/json/radar?operation=list&radar=LIX&product=N0Q&start=2012-08-29T08:20Z&end=2012-08-29T08:30Z"
       ]
      },
      {
       "output_type": "stream",
       "stream": "stdout",
       "text": [
        "\n",
        "0820 RADAR: LIX RADAR TIME: 0821"
       ]
      },
      {
       "output_type": "stream",
       "stream": "stdout",
       "text": [
        "\n",
        "30.33 -90.12 0.0 0.0\n",
        "http://mesonet.agron.iastate.edu/json/radar?operation=available&lat=30.33&lon=-90.12&start=2012-08-29T08:25Z\n",
        "http://mesonet.agron.iastate.edu/json/radar?operation=list&radar=LIX&product=N0Q&start=2012-08-29T08:25Z&end=2012-08-29T08:35Z"
       ]
      },
      {
       "output_type": "stream",
       "stream": "stdout",
       "text": [
        "\n",
        "0825 RADAR: LIX RADAR TIME: 0827"
       ]
      },
      {
       "output_type": "stream",
       "stream": "stdout",
       "text": [
        "\n",
        "30.33 -90.12 0.0 0.0\n",
        "http://mesonet.agron.iastate.edu/json/radar?operation=available&lat=30.33&lon=-90.12&start=2012-08-29T08:30Z\n",
        "http://mesonet.agron.iastate.edu/json/radar?operation=list&radar=LIX&product=N0Q&start=2012-08-29T08:30Z&end=2012-08-29T08:40Z"
       ]
      },
      {
       "output_type": "stream",
       "stream": "stdout",
       "text": [
        "\n",
        "0830 RADAR: LIX RADAR TIME: 0834"
       ]
      },
      {
       "output_type": "stream",
       "stream": "stdout",
       "text": [
        "\n",
        "30.33 -90.12 0.0 0.0\n",
        "http://mesonet.agron.iastate.edu/json/radar?operation=available&lat=30.33&lon=-90.12&start=2012-08-29T08:35Z\n",
        "http://mesonet.agron.iastate.edu/json/radar?operation=list&radar=LIX&product=N0Q&start=2012-08-29T08:35Z&end=2012-08-29T08:45Z"
       ]
      },
      {
       "output_type": "stream",
       "stream": "stdout",
       "text": [
        "\n",
        "0835 RADAR: LIX RADAR TIME: 0840"
       ]
      },
      {
       "output_type": "stream",
       "stream": "stdout",
       "text": [
        "\n",
        "30.33 -90.12 0.0 0.0\n",
        "http://mesonet.agron.iastate.edu/json/radar?operation=available&lat=30.33&lon=-90.12&start=2012-08-29T08:40Z\n",
        "http://mesonet.agron.iastate.edu/json/radar?operation=list&radar=LIX&product=N0Q&start=2012-08-29T08:40Z&end=2012-08-29T08:50Z"
       ]
      },
      {
       "output_type": "stream",
       "stream": "stdout",
       "text": [
        "\n",
        "0840 RADAR: LIX RADAR TIME: 0840"
       ]
      },
      {
       "output_type": "stream",
       "stream": "stdout",
       "text": [
        "\n",
        "30.33 -90.12 0.0 0.0\n",
        "http://mesonet.agron.iastate.edu/json/radar?operation=available&lat=30.33&lon=-90.12&start=2012-08-29T08:45Z\n",
        "http://mesonet.agron.iastate.edu/json/radar?operation=list&radar=LIX&product=N0Q&start=2012-08-29T08:45Z&end=2012-08-29T08:55Z"
       ]
      },
      {
       "output_type": "stream",
       "stream": "stdout",
       "text": [
        "\n",
        "0845 RADAR: LIX RADAR TIME: 0846"
       ]
      },
      {
       "output_type": "stream",
       "stream": "stdout",
       "text": [
        "\n",
        "30.33 -90.12 0.0 0.0\n",
        "http://mesonet.agron.iastate.edu/json/radar?operation=available&lat=30.33&lon=-90.12&start=2012-08-29T08:50Z\n",
        "http://mesonet.agron.iastate.edu/json/radar?operation=list&radar=LIX&product=N0Q&start=2012-08-29T08:50Z&end=2012-08-29T09:00Z"
       ]
      },
      {
       "output_type": "stream",
       "stream": "stdout",
       "text": [
        "\n",
        "0850 RADAR: LIX RADAR TIME: 0853"
       ]
      },
      {
       "output_type": "stream",
       "stream": "stdout",
       "text": [
        "\n",
        "30.33 -90.12 0.0 0.0\n",
        "http://mesonet.agron.iastate.edu/json/radar?operation=available&lat=30.33&lon=-90.12&start=2012-08-29T08:55Z\n",
        "http://mesonet.agron.iastate.edu/json/radar?operation=list&radar=LIX&product=N0Q&start=2012-08-29T08:55Z&end=2012-08-29T09:05Z"
       ]
      },
      {
       "output_type": "stream",
       "stream": "stdout",
       "text": [
        "\n",
        "0855 RADAR: LIX RADAR TIME: 0859"
       ]
      },
      {
       "output_type": "stream",
       "stream": "stdout",
       "text": [
        "\n",
        "30.33 -90.12 0.0 0.0\n",
        "http://mesonet.agron.iastate.edu/json/radar?operation=available&lat=30.33&lon=-90.12&start=2012-08-29T09:00Z\n",
        "http://mesonet.agron.iastate.edu/json/radar?operation=list&radar=LIX&product=N0Q&start=2012-08-29T09:00Z&end=2012-08-29T09:10Z"
       ]
      },
      {
       "output_type": "stream",
       "stream": "stdout",
       "text": [
        "\n",
        "0900 RADAR: LIX RADAR TIME: 0905"
       ]
      },
      {
       "output_type": "stream",
       "stream": "stdout",
       "text": [
        "\n",
        "30.33 -90.12 0.0 0.0\n",
        "http://mesonet.agron.iastate.edu/json/radar?operation=available&lat=30.33&lon=-90.12&start=2012-08-29T09:05Z\n",
        "http://mesonet.agron.iastate.edu/json/radar?operation=list&radar=LIX&product=N0Q&start=2012-08-29T09:05Z&end=2012-08-29T09:15Z"
       ]
      },
      {
       "output_type": "stream",
       "stream": "stdout",
       "text": [
        "\n",
        "0905 RADAR: LIX RADAR TIME: 0905"
       ]
      },
      {
       "output_type": "stream",
       "stream": "stdout",
       "text": [
        "\n",
        "30.33 -90.12 0.0 0.0\n",
        "http://mesonet.agron.iastate.edu/json/radar?operation=available&lat=30.33&lon=-90.12&start=2012-08-29T09:10Z\n",
        "http://mesonet.agron.iastate.edu/json/radar?operation=list&radar=LIX&product=N0Q&start=2012-08-29T09:10Z&end=2012-08-29T09:20Z"
       ]
      },
      {
       "output_type": "stream",
       "stream": "stdout",
       "text": [
        "\n",
        "0910 RADAR: LIX RADAR TIME: 0912"
       ]
      },
      {
       "output_type": "stream",
       "stream": "stdout",
       "text": [
        "\n",
        "30.33 -90.12 0.0 0.0\n",
        "http://mesonet.agron.iastate.edu/json/radar?operation=available&lat=30.33&lon=-90.12&start=2012-08-29T09:15Z\n",
        "http://mesonet.agron.iastate.edu/json/radar?operation=list&radar=LIX&product=N0Q&start=2012-08-29T09:15Z&end=2012-08-29T09:25Z"
       ]
      },
      {
       "output_type": "stream",
       "stream": "stdout",
       "text": [
        "\n",
        "0915 RADAR: LIX RADAR TIME: 0918"
       ]
      },
      {
       "output_type": "stream",
       "stream": "stdout",
       "text": [
        "\n",
        "30.33 -90.12 0.0 0.0\n",
        "http://mesonet.agron.iastate.edu/json/radar?operation=available&lat=30.33&lon=-90.12&start=2012-08-29T09:20Z\n",
        "http://mesonet.agron.iastate.edu/json/radar?operation=list&radar=LIX&product=N0Q&start=2012-08-29T09:20Z&end=2012-08-29T09:30Z"
       ]
      },
      {
       "output_type": "stream",
       "stream": "stdout",
       "text": [
        "\n",
        "0920 RADAR: LIX RADAR TIME: 0924"
       ]
      },
      {
       "output_type": "stream",
       "stream": "stdout",
       "text": [
        "\n",
        "30.33 -90.12 0.0 0.0\n",
        "http://mesonet.agron.iastate.edu/json/radar?operation=available&lat=30.33&lon=-90.12&start=2012-08-29T09:25Z\n",
        "http://mesonet.agron.iastate.edu/json/radar?operation=list&radar=LIX&product=N0Q&start=2012-08-29T09:25Z&end=2012-08-29T09:35Z"
       ]
      },
      {
       "output_type": "stream",
       "stream": "stdout",
       "text": [
        "\n",
        "0925 RADAR: LIX RADAR TIME: 0931"
       ]
      },
      {
       "output_type": "stream",
       "stream": "stdout",
       "text": [
        "\n",
        "30.33 -90.12 0.0 0.0\n",
        "http://mesonet.agron.iastate.edu/json/radar?operation=available&lat=30.33&lon=-90.12&start=2012-08-29T09:30Z\n",
        "http://mesonet.agron.iastate.edu/json/radar?operation=list&radar=LIX&product=N0Q&start=2012-08-29T09:30Z&end=2012-08-29T09:40Z"
       ]
      },
      {
       "output_type": "stream",
       "stream": "stdout",
       "text": [
        "\n",
        "0930 RADAR: LIX RADAR TIME: 0931"
       ]
      },
      {
       "output_type": "stream",
       "stream": "stdout",
       "text": [
        "\n",
        "30.33 -90.12 0.0 0.0\n",
        "http://mesonet.agron.iastate.edu/json/radar?operation=available&lat=30.33&lon=-90.12&start=2012-08-29T09:35Z\n",
        "http://mesonet.agron.iastate.edu/json/radar?operation=list&radar=LIX&product=N0Q&start=2012-08-29T09:35Z&end=2012-08-29T09:45Z"
       ]
      },
      {
       "output_type": "stream",
       "stream": "stdout",
       "text": [
        "\n",
        "0935 RADAR: LIX RADAR TIME: 0937"
       ]
      },
      {
       "output_type": "stream",
       "stream": "stdout",
       "text": [
        "\n",
        "30.33 -90.12 0.0 0.0\n",
        "http://mesonet.agron.iastate.edu/json/radar?operation=available&lat=30.33&lon=-90.12&start=2012-08-29T09:40Z\n",
        "http://mesonet.agron.iastate.edu/json/radar?operation=list&radar=LIX&product=N0Q&start=2012-08-29T09:40Z&end=2012-08-29T09:50Z"
       ]
      },
      {
       "output_type": "stream",
       "stream": "stdout",
       "text": [
        "\n",
        "0940 RADAR: LIX RADAR TIME: 0943"
       ]
      },
      {
       "output_type": "stream",
       "stream": "stdout",
       "text": [
        "\n",
        "30.33 -90.12 0.0 0.0\n",
        "http://mesonet.agron.iastate.edu/json/radar?operation=available&lat=30.33&lon=-90.12&start=2012-08-29T09:45Z\n",
        "http://mesonet.agron.iastate.edu/json/radar?operation=list&radar=LIX&product=N0Q&start=2012-08-29T09:45Z&end=2012-08-29T09:55Z"
       ]
      },
      {
       "output_type": "stream",
       "stream": "stdout",
       "text": [
        "\n",
        "0945 RADAR: LIX RADAR TIME: 0950"
       ]
      },
      {
       "output_type": "stream",
       "stream": "stdout",
       "text": [
        "\n",
        "30.33 -90.12 0.0 0.0\n",
        "http://mesonet.agron.iastate.edu/json/radar?operation=available&lat=30.33&lon=-90.12&start=2012-08-29T09:50Z\n",
        "http://mesonet.agron.iastate.edu/json/radar?operation=list&radar=LIX&product=N0Q&start=2012-08-29T09:50Z&end=2012-08-29T10:00Z"
       ]
      },
      {
       "output_type": "stream",
       "stream": "stdout",
       "text": [
        "\n",
        "0950 RADAR: LIX RADAR TIME: 0950"
       ]
      },
      {
       "output_type": "stream",
       "stream": "stdout",
       "text": [
        "\n",
        "30.33 -90.12 0.0 0.0\n",
        "http://mesonet.agron.iastate.edu/json/radar?operation=available&lat=30.33&lon=-90.12&start=2012-08-29T09:55Z\n",
        "http://mesonet.agron.iastate.edu/json/radar?operation=list&radar=LIX&product=N0Q&start=2012-08-29T09:55Z&end=2012-08-29T10:05Z"
       ]
      },
      {
       "output_type": "stream",
       "stream": "stdout",
       "text": [
        "\n",
        "0955 RADAR: LIX RADAR TIME: 0956"
       ]
      },
      {
       "output_type": "stream",
       "stream": "stdout",
       "text": [
        "\n",
        "30.33 -90.12 0.0 0.0\n",
        "http://mesonet.agron.iastate.edu/json/radar?operation=available&lat=30.33&lon=-90.12&start=2012-08-29T10:00Z\n",
        "http://mesonet.agron.iastate.edu/json/radar?operation=list&radar=LIX&product=N0Q&start=2012-08-29T10:00Z&end=2012-08-29T10:10Z"
       ]
      },
      {
       "output_type": "stream",
       "stream": "stdout",
       "text": [
        "\n",
        "1000 RADAR: LIX RADAR TIME: 1002"
       ]
      },
      {
       "output_type": "stream",
       "stream": "stdout",
       "text": [
        "\n",
        "30.33 -90.12 0.0 0.0\n",
        "http://mesonet.agron.iastate.edu/json/radar?operation=available&lat=30.33&lon=-90.12&start=2012-08-29T10:05Z\n",
        "http://mesonet.agron.iastate.edu/json/radar?operation=list&radar=LIX&product=N0Q&start=2012-08-29T10:05Z&end=2012-08-29T10:15Z"
       ]
      },
      {
       "output_type": "stream",
       "stream": "stdout",
       "text": [
        "\n",
        "1005 RADAR: LIX RADAR TIME: 1009"
       ]
      },
      {
       "output_type": "stream",
       "stream": "stdout",
       "text": [
        "\n",
        "30.33 -90.12 0.0 0.0\n",
        "http://mesonet.agron.iastate.edu/json/radar?operation=available&lat=30.33&lon=-90.12&start=2012-08-29T10:10Z\n",
        "http://mesonet.agron.iastate.edu/json/radar?operation=list&radar=LIX&product=N0Q&start=2012-08-29T10:10Z&end=2012-08-29T10:20Z"
       ]
      },
      {
       "output_type": "stream",
       "stream": "stdout",
       "text": [
        "\n",
        "1010 RADAR: LIX RADAR TIME: 1015"
       ]
      },
      {
       "output_type": "stream",
       "stream": "stdout",
       "text": [
        "\n",
        "30.33 -90.12 0.0 0.0\n",
        "http://mesonet.agron.iastate.edu/json/radar?operation=available&lat=30.33&lon=-90.12&start=2012-08-29T10:15Z\n",
        "http://mesonet.agron.iastate.edu/json/radar?operation=list&radar=LIX&product=N0Q&start=2012-08-29T10:15Z&end=2012-08-29T10:25Z"
       ]
      },
      {
       "output_type": "stream",
       "stream": "stdout",
       "text": [
        "\n",
        "1015 RADAR: LIX RADAR TIME: 1015"
       ]
      },
      {
       "output_type": "stream",
       "stream": "stdout",
       "text": [
        "\n",
        "30.33 -90.12 0.0 0.0\n",
        "http://mesonet.agron.iastate.edu/json/radar?operation=available&lat=30.33&lon=-90.12&start=2012-08-29T10:20Z\n",
        "http://mesonet.agron.iastate.edu/json/radar?operation=list&radar=LIX&product=N0Q&start=2012-08-29T10:20Z&end=2012-08-29T10:30Z"
       ]
      },
      {
       "output_type": "stream",
       "stream": "stdout",
       "text": [
        "\n",
        "1020 RADAR: LIX RADAR TIME: 1021"
       ]
      },
      {
       "output_type": "stream",
       "stream": "stdout",
       "text": [
        "\n",
        "30.33 -90.12 0.0 0.0\n",
        "http://mesonet.agron.iastate.edu/json/radar?operation=available&lat=30.33&lon=-90.12&start=2012-08-29T10:25Z\n",
        "http://mesonet.agron.iastate.edu/json/radar?operation=list&radar=LIX&product=N0Q&start=2012-08-29T10:25Z&end=2012-08-29T10:35Z"
       ]
      },
      {
       "output_type": "stream",
       "stream": "stdout",
       "text": [
        "\n",
        "1025 RADAR: LIX RADAR TIME: 1028"
       ]
      },
      {
       "output_type": "stream",
       "stream": "stdout",
       "text": [
        "\n",
        "30.33 -90.12 0.0 0.0\n",
        "http://mesonet.agron.iastate.edu/json/radar?operation=available&lat=30.33&lon=-90.12&start=2012-08-29T10:30Z\n",
        "http://mesonet.agron.iastate.edu/json/radar?operation=list&radar=LIX&product=N0Q&start=2012-08-29T10:30Z&end=2012-08-29T10:40Z"
       ]
      },
      {
       "output_type": "stream",
       "stream": "stdout",
       "text": [
        "\n",
        "1030 RADAR: LIX RADAR TIME: 1034"
       ]
      },
      {
       "output_type": "stream",
       "stream": "stdout",
       "text": [
        "\n",
        "30.33 -90.12 0.0 0.0\n",
        "http://mesonet.agron.iastate.edu/json/radar?operation=available&lat=30.33&lon=-90.12&start=2012-08-29T10:35Z\n",
        "http://mesonet.agron.iastate.edu/json/radar?operation=list&radar=LIX&product=N0Q&start=2012-08-29T10:35Z&end=2012-08-29T10:45Z"
       ]
      },
      {
       "output_type": "stream",
       "stream": "stdout",
       "text": [
        "\n",
        "1035 RADAR: LIX RADAR TIME: 1040"
       ]
      },
      {
       "output_type": "stream",
       "stream": "stdout",
       "text": [
        "\n",
        "30.33 -90.12 0.0 0.0\n",
        "http://mesonet.agron.iastate.edu/json/radar?operation=available&lat=30.33&lon=-90.12&start=2012-08-29T10:40Z\n",
        "http://mesonet.agron.iastate.edu/json/radar?operation=list&radar=LIX&product=N0Q&start=2012-08-29T10:40Z&end=2012-08-29T10:50Z"
       ]
      },
      {
       "output_type": "stream",
       "stream": "stdout",
       "text": [
        "\n",
        "1040 RADAR: LIX RADAR TIME: 1040"
       ]
      },
      {
       "output_type": "stream",
       "stream": "stdout",
       "text": [
        "\n",
        "30.33 -90.12 0.0 0.0\n",
        "http://mesonet.agron.iastate.edu/json/radar?operation=available&lat=30.33&lon=-90.12&start=2012-08-29T10:45Z\n",
        "http://mesonet.agron.iastate.edu/json/radar?operation=list&radar=LIX&product=N0Q&start=2012-08-29T10:45Z&end=2012-08-29T10:55Z"
       ]
      },
      {
       "output_type": "stream",
       "stream": "stdout",
       "text": [
        "\n",
        "1045 RADAR: LIX RADAR TIME: 1047"
       ]
      },
      {
       "output_type": "stream",
       "stream": "stdout",
       "text": [
        "\n",
        "30.33 -90.12 0.0 0.0\n",
        "http://mesonet.agron.iastate.edu/json/radar?operation=available&lat=30.33&lon=-90.12&start=2012-08-29T10:50Z\n",
        "http://mesonet.agron.iastate.edu/json/radar?operation=list&radar=LIX&product=N0Q&start=2012-08-29T10:50Z&end=2012-08-29T11:00Z"
       ]
      },
      {
       "output_type": "stream",
       "stream": "stdout",
       "text": [
        "\n",
        "1050 RADAR: LIX RADAR TIME: 1053"
       ]
      },
      {
       "output_type": "stream",
       "stream": "stdout",
       "text": [
        "\n",
        "30.33 -90.12 0.0 0.0\n",
        "http://mesonet.agron.iastate.edu/json/radar?operation=available&lat=30.33&lon=-90.12&start=2012-08-29T10:55Z\n",
        "http://mesonet.agron.iastate.edu/json/radar?operation=list&radar=LIX&product=N0Q&start=2012-08-29T10:55Z&end=2012-08-29T11:05Z"
       ]
      },
      {
       "output_type": "stream",
       "stream": "stdout",
       "text": [
        "\n",
        "1055 RADAR: LIX RADAR TIME: 1059"
       ]
      },
      {
       "output_type": "stream",
       "stream": "stdout",
       "text": [
        "\n",
        "30.33 -90.12 0.0 0.0\n",
        "http://mesonet.agron.iastate.edu/json/radar?operation=available&lat=30.33&lon=-90.12&start=2012-08-29T11:00Z\n",
        "http://mesonet.agron.iastate.edu/json/radar?operation=list&radar=LIX&product=N0Q&start=2012-08-29T11:00Z&end=2012-08-29T11:10Z"
       ]
      },
      {
       "output_type": "stream",
       "stream": "stdout",
       "text": [
        "\n",
        "1100 RADAR: LIX RADAR TIME: 1106"
       ]
      },
      {
       "output_type": "stream",
       "stream": "stdout",
       "text": [
        "\n",
        "30.33 -90.12 0.0 0.0\n",
        "http://mesonet.agron.iastate.edu/json/radar?operation=available&lat=30.33&lon=-90.12&start=2012-08-29T11:05Z\n",
        "http://mesonet.agron.iastate.edu/json/radar?operation=list&radar=LIX&product=N0Q&start=2012-08-29T11:05Z&end=2012-08-29T11:15Z"
       ]
      },
      {
       "output_type": "stream",
       "stream": "stdout",
       "text": [
        "\n",
        "1105 RADAR: LIX RADAR TIME: 1106"
       ]
      },
      {
       "output_type": "stream",
       "stream": "stdout",
       "text": [
        "\n",
        "30.33 -90.12 0.0 0.0\n",
        "http://mesonet.agron.iastate.edu/json/radar?operation=available&lat=30.33&lon=-90.12&start=2012-08-29T11:10Z\n",
        "http://mesonet.agron.iastate.edu/json/radar?operation=list&radar=LIX&product=N0Q&start=2012-08-29T11:10Z&end=2012-08-29T11:20Z"
       ]
      },
      {
       "output_type": "stream",
       "stream": "stdout",
       "text": [
        "\n",
        "1110 RADAR: LIX RADAR TIME: 1112"
       ]
      },
      {
       "output_type": "stream",
       "stream": "stdout",
       "text": [
        "\n",
        "30.33 -90.12 0.0 0.0\n",
        "http://mesonet.agron.iastate.edu/json/radar?operation=available&lat=30.33&lon=-90.12&start=2012-08-29T11:15Z\n",
        "http://mesonet.agron.iastate.edu/json/radar?operation=list&radar=LIX&product=N0Q&start=2012-08-29T11:15Z&end=2012-08-29T11:25Z"
       ]
      },
      {
       "output_type": "stream",
       "stream": "stdout",
       "text": [
        "\n",
        "1115 RADAR: LIX RADAR TIME: 1118"
       ]
      },
      {
       "output_type": "stream",
       "stream": "stdout",
       "text": [
        "\n",
        "30.33 -90.12 0.0 0.0\n",
        "http://mesonet.agron.iastate.edu/json/radar?operation=available&lat=30.33&lon=-90.12&start=2012-08-29T11:20Z\n",
        "http://mesonet.agron.iastate.edu/json/radar?operation=list&radar=LIX&product=N0Q&start=2012-08-29T11:20Z&end=2012-08-29T11:30Z"
       ]
      },
      {
       "output_type": "stream",
       "stream": "stdout",
       "text": [
        "\n",
        "1120 RADAR: LIX RADAR TIME: 1125"
       ]
      },
      {
       "output_type": "stream",
       "stream": "stdout",
       "text": [
        "\n",
        "30.33 -90.12 0.0 0.0\n",
        "http://mesonet.agron.iastate.edu/json/radar?operation=available&lat=30.33&lon=-90.12&start=2012-08-29T11:25Z\n",
        "http://mesonet.agron.iastate.edu/json/radar?operation=list&radar=LIX&product=N0Q&start=2012-08-29T11:25Z&end=2012-08-29T11:35Z"
       ]
      },
      {
       "output_type": "stream",
       "stream": "stdout",
       "text": [
        "\n",
        "1125 RADAR: LIX RADAR TIME: 1125"
       ]
      },
      {
       "output_type": "stream",
       "stream": "stdout",
       "text": [
        "\n",
        "30.33 -90.12 0.0 0.0\n",
        "http://mesonet.agron.iastate.edu/json/radar?operation=available&lat=30.33&lon=-90.12&start=2012-08-29T11:30Z\n",
        "http://mesonet.agron.iastate.edu/json/radar?operation=list&radar=LIX&product=N0Q&start=2012-08-29T11:30Z&end=2012-08-29T11:40Z"
       ]
      },
      {
       "output_type": "stream",
       "stream": "stdout",
       "text": [
        "\n",
        "1130 RADAR: LIX RADAR TIME: 1131"
       ]
      },
      {
       "output_type": "stream",
       "stream": "stdout",
       "text": [
        "\n",
        "30.33 -90.12 0.0 0.0\n",
        "http://mesonet.agron.iastate.edu/json/radar?operation=available&lat=30.33&lon=-90.12&start=2012-08-29T11:35Z\n",
        "http://mesonet.agron.iastate.edu/json/radar?operation=list&radar=LIX&product=N0Q&start=2012-08-29T11:35Z&end=2012-08-29T11:45Z"
       ]
      },
      {
       "output_type": "stream",
       "stream": "stdout",
       "text": [
        "\n",
        "1135 RADAR: LIX RADAR TIME: 1137"
       ]
      },
      {
       "output_type": "stream",
       "stream": "stdout",
       "text": [
        "\n",
        "30.33 -90.12 0.0 0.0\n",
        "http://mesonet.agron.iastate.edu/json/radar?operation=available&lat=30.33&lon=-90.12&start=2012-08-29T11:40Z\n",
        "http://mesonet.agron.iastate.edu/json/radar?operation=list&radar=LIX&product=N0Q&start=2012-08-29T11:40Z&end=2012-08-29T11:50Z"
       ]
      },
      {
       "output_type": "stream",
       "stream": "stdout",
       "text": [
        "\n",
        "1140 RADAR: LIX RADAR TIME: 1144"
       ]
      },
      {
       "output_type": "stream",
       "stream": "stdout",
       "text": [
        "\n",
        "30.33 -90.12 0.0 0.0\n",
        "http://mesonet.agron.iastate.edu/json/radar?operation=available&lat=30.33&lon=-90.12&start=2012-08-29T11:45Z\n",
        "http://mesonet.agron.iastate.edu/json/radar?operation=list&radar=LIX&product=N0Q&start=2012-08-29T11:45Z&end=2012-08-29T11:55Z"
       ]
      },
      {
       "output_type": "stream",
       "stream": "stdout",
       "text": [
        "\n",
        "1145 RADAR: LIX RADAR TIME: 1150"
       ]
      },
      {
       "output_type": "stream",
       "stream": "stdout",
       "text": [
        "\n",
        "30.33 -90.12 0.0 0.0\n",
        "http://mesonet.agron.iastate.edu/json/radar?operation=available&lat=30.33&lon=-90.12&start=2012-08-29T11:50Z\n",
        "http://mesonet.agron.iastate.edu/json/radar?operation=list&radar=LIX&product=N0Q&start=2012-08-29T11:50Z&end=2012-08-29T12:00Z"
       ]
      },
      {
       "output_type": "stream",
       "stream": "stdout",
       "text": [
        "\n",
        "1150 RADAR: LIX RADAR TIME: 1150"
       ]
      },
      {
       "output_type": "stream",
       "stream": "stdout",
       "text": [
        "\n",
        "30.33 -90.12 0.0 0.0\n",
        "http://mesonet.agron.iastate.edu/json/radar?operation=available&lat=30.33&lon=-90.12&start=2012-08-29T11:55Z\n",
        "http://mesonet.agron.iastate.edu/json/radar?operation=list&radar=LIX&product=N0Q&start=2012-08-29T11:55Z&end=2012-08-29T12:05Z"
       ]
      },
      {
       "output_type": "stream",
       "stream": "stdout",
       "text": [
        "\n",
        "1155 RADAR: LIX RADAR TIME: 1156"
       ]
      },
      {
       "output_type": "stream",
       "stream": "stdout",
       "text": [
        "\n",
        "30.33 -90.12 0.0 0.0\n",
        "http://mesonet.agron.iastate.edu/json/radar?operation=available&lat=30.33&lon=-90.12&start=2012-08-29T12:00Z\n",
        "http://mesonet.agron.iastate.edu/json/radar?operation=list&radar=LIX&product=N0Q&start=2012-08-29T12:00Z&end=2012-08-29T12:10Z"
       ]
      },
      {
       "output_type": "stream",
       "stream": "stdout",
       "text": [
        "\n",
        "1200 RADAR: LIX RADAR TIME: 1203"
       ]
      },
      {
       "output_type": "stream",
       "stream": "stdout",
       "text": [
        "\n",
        "30.33 -90.12 0.0 0.0\n",
        "http://mesonet.agron.iastate.edu/json/radar?operation=available&lat=30.33&lon=-90.12&start=2012-08-29T12:05Z\n",
        "http://mesonet.agron.iastate.edu/json/radar?operation=list&radar=LIX&product=N0Q&start=2012-08-29T12:05Z&end=2012-08-29T12:15Z"
       ]
      },
      {
       "output_type": "stream",
       "stream": "stdout",
       "text": [
        "\n",
        "1205 RADAR: LIX RADAR TIME: 1209"
       ]
      },
      {
       "output_type": "stream",
       "stream": "stdout",
       "text": [
        "\n",
        "30.33 -90.12 0.0 0.0\n",
        "http://mesonet.agron.iastate.edu/json/radar?operation=available&lat=30.33&lon=-90.12&start=2012-08-29T12:10Z\n",
        "http://mesonet.agron.iastate.edu/json/radar?operation=list&radar=LIX&product=N0Q&start=2012-08-29T12:10Z&end=2012-08-29T12:20Z"
       ]
      },
      {
       "output_type": "stream",
       "stream": "stdout",
       "text": [
        "\n",
        "1210 RADAR: LIX RADAR TIME: 1215"
       ]
      },
      {
       "output_type": "stream",
       "stream": "stdout",
       "text": [
        "\n",
        "30.33 -90.12 0.0 0.0\n",
        "http://mesonet.agron.iastate.edu/json/radar?operation=available&lat=30.33&lon=-90.12&start=2012-08-29T12:15Z\n",
        "http://mesonet.agron.iastate.edu/json/radar?operation=list&radar=LIX&product=N0Q&start=2012-08-29T12:15Z&end=2012-08-29T12:25Z"
       ]
      },
      {
       "output_type": "stream",
       "stream": "stdout",
       "text": [
        "\n",
        "1215 RADAR: LIX RADAR TIME: 1215"
       ]
      },
      {
       "output_type": "stream",
       "stream": "stdout",
       "text": [
        "\n",
        "30.33 -90.12 0.0 0.0\n",
        "http://mesonet.agron.iastate.edu/json/radar?operation=available&lat=30.33&lon=-90.12&start=2012-08-29T12:20Z\n",
        "http://mesonet.agron.iastate.edu/json/radar?operation=list&radar=LIX&product=N0Q&start=2012-08-29T12:20Z&end=2012-08-29T12:30Z"
       ]
      },
      {
       "output_type": "stream",
       "stream": "stdout",
       "text": [
        "\n",
        "1220 RADAR: LIX RADAR TIME: 1222"
       ]
      },
      {
       "output_type": "stream",
       "stream": "stdout",
       "text": [
        "\n",
        "30.33 -90.12 0.0 0.0\n",
        "http://mesonet.agron.iastate.edu/json/radar?operation=available&lat=30.33&lon=-90.12&start=2012-08-29T12:25Z\n",
        "http://mesonet.agron.iastate.edu/json/radar?operation=list&radar=LIX&product=N0Q&start=2012-08-29T12:25Z&end=2012-08-29T12:35Z"
       ]
      },
      {
       "output_type": "stream",
       "stream": "stdout",
       "text": [
        "\n",
        "1225 RADAR: LIX RADAR TIME: 1228"
       ]
      },
      {
       "output_type": "stream",
       "stream": "stdout",
       "text": [
        "\n",
        "30.33 -90.12 0.0 0.0\n",
        "http://mesonet.agron.iastate.edu/json/radar?operation=available&lat=30.33&lon=-90.12&start=2012-08-29T12:30Z\n",
        "http://mesonet.agron.iastate.edu/json/radar?operation=list&radar=LIX&product=N0Q&start=2012-08-29T12:30Z&end=2012-08-29T12:40Z"
       ]
      },
      {
       "output_type": "stream",
       "stream": "stdout",
       "text": [
        "\n",
        "1230 RADAR: LIX RADAR TIME: 1234"
       ]
      },
      {
       "output_type": "stream",
       "stream": "stdout",
       "text": [
        "\n",
        "30.33 -90.12 0.0 0.0\n",
        "http://mesonet.agron.iastate.edu/json/radar?operation=available&lat=30.33&lon=-90.12&start=2012-08-29T12:35Z\n",
        "http://mesonet.agron.iastate.edu/json/radar?operation=list&radar=LIX&product=N0Q&start=2012-08-29T12:35Z&end=2012-08-29T12:45Z"
       ]
      },
      {
       "output_type": "stream",
       "stream": "stdout",
       "text": [
        "\n",
        "1235 RADAR: LIX RADAR TIME: 1240"
       ]
      },
      {
       "output_type": "stream",
       "stream": "stdout",
       "text": [
        "\n",
        "30.33 -90.12 0.0 0.0\n",
        "http://mesonet.agron.iastate.edu/json/radar?operation=available&lat=30.33&lon=-90.12&start=2012-08-29T12:40Z\n",
        "http://mesonet.agron.iastate.edu/json/radar?operation=list&radar=LIX&product=N0Q&start=2012-08-29T12:40Z&end=2012-08-29T12:50Z"
       ]
      },
      {
       "output_type": "stream",
       "stream": "stdout",
       "text": [
        "\n",
        "1240 RADAR: LIX RADAR TIME: 1240"
       ]
      },
      {
       "output_type": "stream",
       "stream": "stdout",
       "text": [
        "\n",
        "30.33 -90.12 0.0 0.0\n",
        "http://mesonet.agron.iastate.edu/json/radar?operation=available&lat=30.33&lon=-90.12&start=2012-08-29T12:45Z\n",
        "http://mesonet.agron.iastate.edu/json/radar?operation=list&radar=LIX&product=N0Q&start=2012-08-29T12:45Z&end=2012-08-29T12:55Z"
       ]
      },
      {
       "output_type": "stream",
       "stream": "stdout",
       "text": [
        "\n",
        "1245 RADAR: LIX RADAR TIME: 1247"
       ]
      },
      {
       "output_type": "stream",
       "stream": "stdout",
       "text": [
        "\n",
        "30.33 -90.12 0.0 0.0\n",
        "http://mesonet.agron.iastate.edu/json/radar?operation=available&lat=30.33&lon=-90.12&start=2012-08-29T12:50Z\n",
        "http://mesonet.agron.iastate.edu/json/radar?operation=list&radar=LIX&product=N0Q&start=2012-08-29T12:50Z&end=2012-08-29T13:00Z"
       ]
      },
      {
       "output_type": "stream",
       "stream": "stdout",
       "text": [
        "\n",
        "1250 RADAR: LIX RADAR TIME: 1253"
       ]
      },
      {
       "output_type": "stream",
       "stream": "stdout",
       "text": [
        "\n",
        "30.33 -90.12 0.0 0.0\n",
        "http://mesonet.agron.iastate.edu/json/radar?operation=available&lat=30.33&lon=-90.12&start=2012-08-29T12:55Z\n",
        "http://mesonet.agron.iastate.edu/json/radar?operation=list&radar=LIX&product=N0Q&start=2012-08-29T12:55Z&end=2012-08-29T13:05Z"
       ]
      },
      {
       "output_type": "stream",
       "stream": "stdout",
       "text": [
        "\n",
        "1255 RADAR: LIX RADAR TIME: 1259"
       ]
      },
      {
       "output_type": "stream",
       "stream": "stdout",
       "text": [
        "\n",
        "30.33 -90.12 0.0 0.0\n",
        "http://mesonet.agron.iastate.edu/json/radar?operation=available&lat=30.33&lon=-90.12&start=2012-08-29T13:00Z\n",
        "http://mesonet.agron.iastate.edu/json/radar?operation=list&radar=LIX&product=N0Q&start=2012-08-29T13:00Z&end=2012-08-29T13:10Z"
       ]
      },
      {
       "output_type": "stream",
       "stream": "stdout",
       "text": [
        "\n",
        "1300 RADAR: LIX RADAR TIME: 1306"
       ]
      },
      {
       "output_type": "stream",
       "stream": "stdout",
       "text": [
        "\n",
        "30.33 -90.12 0.0 0.0\n",
        "http://mesonet.agron.iastate.edu/json/radar?operation=available&lat=30.33&lon=-90.12&start=2012-08-29T13:05Z\n",
        "http://mesonet.agron.iastate.edu/json/radar?operation=list&radar=LIX&product=N0Q&start=2012-08-29T13:05Z&end=2012-08-29T13:15Z"
       ]
      },
      {
       "output_type": "stream",
       "stream": "stdout",
       "text": [
        "\n",
        "1305 RADAR: LIX RADAR TIME: 1306"
       ]
      },
      {
       "output_type": "stream",
       "stream": "stdout",
       "text": [
        "\n",
        "30.33 -90.12 0.0 0.0\n",
        "http://mesonet.agron.iastate.edu/json/radar?operation=available&lat=30.33&lon=-90.12&start=2012-08-29T13:10Z\n",
        "http://mesonet.agron.iastate.edu/json/radar?operation=list&radar=LIX&product=N0Q&start=2012-08-29T13:10Z&end=2012-08-29T13:20Z"
       ]
      },
      {
       "output_type": "stream",
       "stream": "stdout",
       "text": [
        "\n",
        "1310 RADAR: LIX RADAR TIME: 1312"
       ]
      },
      {
       "output_type": "stream",
       "stream": "stdout",
       "text": [
        "\n",
        "30.33 -90.12 0.0 0.0\n",
        "http://mesonet.agron.iastate.edu/json/radar?operation=available&lat=30.33&lon=-90.12&start=2012-08-29T13:15Z\n",
        "http://mesonet.agron.iastate.edu/json/radar?operation=list&radar=LIX&product=N0Q&start=2012-08-29T13:15Z&end=2012-08-29T13:25Z"
       ]
      },
      {
       "output_type": "stream",
       "stream": "stdout",
       "text": [
        "\n",
        "1315 RADAR: LIX RADAR TIME: 1318"
       ]
      },
      {
       "output_type": "stream",
       "stream": "stdout",
       "text": [
        "\n",
        "30.33 -90.12 0.0 0.0\n",
        "http://mesonet.agron.iastate.edu/json/radar?operation=available&lat=30.33&lon=-90.12&start=2012-08-29T13:20Z\n",
        "http://mesonet.agron.iastate.edu/json/radar?operation=list&radar=LIX&product=N0Q&start=2012-08-29T13:20Z&end=2012-08-29T13:30Z"
       ]
      },
      {
       "output_type": "stream",
       "stream": "stdout",
       "text": [
        "\n",
        "1320 RADAR: LIX RADAR TIME: 1325"
       ]
      },
      {
       "output_type": "stream",
       "stream": "stdout",
       "text": [
        "\n",
        "30.33 -90.12 0.0 0.0\n",
        "http://mesonet.agron.iastate.edu/json/radar?operation=available&lat=30.33&lon=-90.12&start=2012-08-29T13:25Z\n",
        "http://mesonet.agron.iastate.edu/json/radar?operation=list&radar=LIX&product=N0Q&start=2012-08-29T13:25Z&end=2012-08-29T13:35Z"
       ]
      },
      {
       "output_type": "stream",
       "stream": "stdout",
       "text": [
        "\n",
        "1325 RADAR: LIX RADAR TIME: 1325"
       ]
      },
      {
       "output_type": "stream",
       "stream": "stdout",
       "text": [
        "\n",
        "30.33 -90.12 0.0 0.0\n",
        "http://mesonet.agron.iastate.edu/json/radar?operation=available&lat=30.33&lon=-90.12&start=2012-08-29T13:30Z\n",
        "http://mesonet.agron.iastate.edu/json/radar?operation=list&radar=LIX&product=N0Q&start=2012-08-29T13:30Z&end=2012-08-29T13:40Z"
       ]
      },
      {
       "output_type": "stream",
       "stream": "stdout",
       "text": [
        "\n",
        "1330 RADAR: LIX RADAR TIME: 1331"
       ]
      },
      {
       "output_type": "stream",
       "stream": "stdout",
       "text": [
        "\n",
        "30.33 -90.12 0.0 0.0\n",
        "http://mesonet.agron.iastate.edu/json/radar?operation=available&lat=30.33&lon=-90.12&start=2012-08-29T13:35Z\n",
        "http://mesonet.agron.iastate.edu/json/radar?operation=list&radar=LIX&product=N0Q&start=2012-08-29T13:35Z&end=2012-08-29T13:45Z"
       ]
      },
      {
       "output_type": "stream",
       "stream": "stdout",
       "text": [
        "\n",
        "1335 RADAR: LIX RADAR TIME: 1337"
       ]
      },
      {
       "output_type": "stream",
       "stream": "stdout",
       "text": [
        "\n",
        "30.33 -90.12 0.0 0.0\n",
        "http://mesonet.agron.iastate.edu/json/radar?operation=available&lat=30.33&lon=-90.12&start=2012-08-29T13:40Z\n",
        "http://mesonet.agron.iastate.edu/json/radar?operation=list&radar=LIX&product=N0Q&start=2012-08-29T13:40Z&end=2012-08-29T13:50Z"
       ]
      },
      {
       "output_type": "stream",
       "stream": "stdout",
       "text": [
        "\n",
        "1340 RADAR: LIX RADAR TIME: 1344"
       ]
      },
      {
       "output_type": "stream",
       "stream": "stdout",
       "text": [
        "\n",
        "30.33 -90.12 0.0 0.0\n",
        "http://mesonet.agron.iastate.edu/json/radar?operation=available&lat=30.33&lon=-90.12&start=2012-08-29T13:45Z\n",
        "http://mesonet.agron.iastate.edu/json/radar?operation=list&radar=LIX&product=N0Q&start=2012-08-29T13:45Z&end=2012-08-29T13:55Z"
       ]
      },
      {
       "output_type": "stream",
       "stream": "stdout",
       "text": [
        "\n",
        "1345 RADAR: LIX RADAR TIME: 1350"
       ]
      },
      {
       "output_type": "stream",
       "stream": "stdout",
       "text": [
        "\n",
        "30.33 -90.12 0.0 0.0\n",
        "http://mesonet.agron.iastate.edu/json/radar?operation=available&lat=30.33&lon=-90.12&start=2012-08-29T13:50Z\n",
        "http://mesonet.agron.iastate.edu/json/radar?operation=list&radar=LIX&product=N0Q&start=2012-08-29T13:50Z&end=2012-08-29T14:00Z"
       ]
      },
      {
       "output_type": "stream",
       "stream": "stdout",
       "text": [
        "\n",
        "1350 RADAR: LIX RADAR TIME: 1350"
       ]
      },
      {
       "output_type": "stream",
       "stream": "stdout",
       "text": [
        "\n",
        "30.33 -90.12 0.0 0.0\n",
        "http://mesonet.agron.iastate.edu/json/radar?operation=available&lat=30.33&lon=-90.12&start=2012-08-29T13:55Z\n",
        "http://mesonet.agron.iastate.edu/json/radar?operation=list&radar=LIX&product=N0Q&start=2012-08-29T13:55Z&end=2012-08-29T14:05Z"
       ]
      },
      {
       "output_type": "stream",
       "stream": "stdout",
       "text": [
        "\n",
        "1355 RADAR: LIX RADAR TIME: 1356"
       ]
      },
      {
       "output_type": "stream",
       "stream": "stdout",
       "text": [
        "\n",
        "30.33 -90.12 0.0 0.0\n",
        "http://mesonet.agron.iastate.edu/json/radar?operation=available&lat=30.33&lon=-90.12&start=2012-08-29T14:00Z\n",
        "http://mesonet.agron.iastate.edu/json/radar?operation=list&radar=LIX&product=N0Q&start=2012-08-29T14:00Z&end=2012-08-29T14:10Z"
       ]
      },
      {
       "output_type": "stream",
       "stream": "stdout",
       "text": [
        "\n",
        "1400 RADAR: LIX RADAR TIME: 1403"
       ]
      },
      {
       "output_type": "stream",
       "stream": "stdout",
       "text": [
        "\n",
        "30.33 -90.12 0.0 0.0\n",
        "http://mesonet.agron.iastate.edu/json/radar?operation=available&lat=30.33&lon=-90.12&start=2012-08-29T14:05Z\n",
        "http://mesonet.agron.iastate.edu/json/radar?operation=list&radar=LIX&product=N0Q&start=2012-08-29T14:05Z&end=2012-08-29T14:15Z"
       ]
      },
      {
       "output_type": "stream",
       "stream": "stdout",
       "text": [
        "\n",
        "1405 RADAR: LIX RADAR TIME: 1409"
       ]
      },
      {
       "output_type": "stream",
       "stream": "stdout",
       "text": [
        "\n",
        "30.33 -90.12 0.0 0.0\n",
        "http://mesonet.agron.iastate.edu/json/radar?operation=available&lat=30.33&lon=-90.12&start=2012-08-29T14:10Z\n",
        "http://mesonet.agron.iastate.edu/json/radar?operation=list&radar=LIX&product=N0Q&start=2012-08-29T14:10Z&end=2012-08-29T14:20Z"
       ]
      },
      {
       "output_type": "stream",
       "stream": "stdout",
       "text": [
        "\n",
        "1410 RADAR: LIX RADAR TIME: 1416"
       ]
      },
      {
       "output_type": "stream",
       "stream": "stdout",
       "text": [
        "\n",
        "30.33 -90.12 0.0 0.0\n",
        "http://mesonet.agron.iastate.edu/json/radar?operation=available&lat=30.33&lon=-90.12&start=2012-08-29T14:15Z\n",
        "http://mesonet.agron.iastate.edu/json/radar?operation=list&radar=LIX&product=N0Q&start=2012-08-29T14:15Z&end=2012-08-29T14:25Z"
       ]
      },
      {
       "output_type": "stream",
       "stream": "stdout",
       "text": [
        "\n",
        "1415 RADAR: LIX RADAR TIME: 1416"
       ]
      },
      {
       "output_type": "stream",
       "stream": "stdout",
       "text": [
        "\n",
        "30.33 -90.12 0.0 0.0\n",
        "http://mesonet.agron.iastate.edu/json/radar?operation=available&lat=30.33&lon=-90.12&start=2012-08-29T14:20Z\n",
        "http://mesonet.agron.iastate.edu/json/radar?operation=list&radar=LIX&product=N0Q&start=2012-08-29T14:20Z&end=2012-08-29T14:30Z"
       ]
      },
      {
       "output_type": "stream",
       "stream": "stdout",
       "text": [
        "\n",
        "1420 RADAR: LIX RADAR TIME: 1423"
       ]
      },
      {
       "output_type": "stream",
       "stream": "stdout",
       "text": [
        "\n",
        "30.33 -90.12 0.0 0.0\n",
        "http://mesonet.agron.iastate.edu/json/radar?operation=available&lat=30.33&lon=-90.12&start=2012-08-29T14:25Z\n",
        "http://mesonet.agron.iastate.edu/json/radar?operation=list&radar=LIX&product=N0Q&start=2012-08-29T14:25Z&end=2012-08-29T14:35Z"
       ]
      },
      {
       "output_type": "stream",
       "stream": "stdout",
       "text": [
        "\n",
        "1425 RADAR: LIX RADAR TIME: 1429"
       ]
      },
      {
       "output_type": "stream",
       "stream": "stdout",
       "text": [
        "\n",
        "30.33 -90.12 0.0 0.0\n",
        "http://mesonet.agron.iastate.edu/json/radar?operation=available&lat=30.33&lon=-90.12&start=2012-08-29T14:30Z\n",
        "http://mesonet.agron.iastate.edu/json/radar?operation=list&radar=LIX&product=N0Q&start=2012-08-29T14:30Z&end=2012-08-29T14:40Z"
       ]
      },
      {
       "output_type": "stream",
       "stream": "stdout",
       "text": [
        "\n",
        "1430 RADAR: LIX RADAR TIME: 1435"
       ]
      },
      {
       "output_type": "stream",
       "stream": "stdout",
       "text": [
        "\n",
        "30.33 -90.12 0.0 0.0\n",
        "http://mesonet.agron.iastate.edu/json/radar?operation=available&lat=30.33&lon=-90.12&start=2012-08-29T14:35Z\n",
        "http://mesonet.agron.iastate.edu/json/radar?operation=list&radar=LIX&product=N0Q&start=2012-08-29T14:35Z&end=2012-08-29T14:45Z"
       ]
      },
      {
       "output_type": "stream",
       "stream": "stdout",
       "text": [
        "\n",
        "1435 RADAR: LIX RADAR TIME: 1435"
       ]
      },
      {
       "output_type": "stream",
       "stream": "stdout",
       "text": [
        "\n",
        "30.33 -90.12 0.0 0.0\n",
        "http://mesonet.agron.iastate.edu/json/radar?operation=available&lat=30.33&lon=-90.12&start=2012-08-29T14:40Z\n",
        "http://mesonet.agron.iastate.edu/json/radar?operation=list&radar=LIX&product=N0Q&start=2012-08-29T14:40Z&end=2012-08-29T14:50Z"
       ]
      },
      {
       "output_type": "stream",
       "stream": "stdout",
       "text": [
        "\n",
        "1440 RADAR: LIX RADAR TIME: 1442"
       ]
      },
      {
       "output_type": "stream",
       "stream": "stdout",
       "text": [
        "\n",
        "30.33 -90.12 0.0 0.0\n",
        "http://mesonet.agron.iastate.edu/json/radar?operation=available&lat=30.33&lon=-90.12&start=2012-08-29T14:45Z\n",
        "http://mesonet.agron.iastate.edu/json/radar?operation=list&radar=LIX&product=N0Q&start=2012-08-29T14:45Z&end=2012-08-29T14:55Z"
       ]
      },
      {
       "output_type": "stream",
       "stream": "stdout",
       "text": [
        "\n",
        "1445 RADAR: LIX RADAR TIME: 1448"
       ]
      },
      {
       "output_type": "stream",
       "stream": "stdout",
       "text": [
        "\n",
        "30.33 -90.12 0.0 0.0\n",
        "http://mesonet.agron.iastate.edu/json/radar?operation=available&lat=30.33&lon=-90.12&start=2012-08-29T14:50Z\n",
        "http://mesonet.agron.iastate.edu/json/radar?operation=list&radar=LIX&product=N0Q&start=2012-08-29T14:50Z&end=2012-08-29T15:00Z"
       ]
      },
      {
       "output_type": "stream",
       "stream": "stdout",
       "text": [
        "\n",
        "1450 RADAR: LIX RADAR TIME: 1454"
       ]
      },
      {
       "output_type": "stream",
       "stream": "stdout",
       "text": [
        "\n",
        "30.33 -90.12 0.0 0.0\n",
        "http://mesonet.agron.iastate.edu/json/radar?operation=available&lat=30.33&lon=-90.12&start=2012-08-29T14:55Z\n",
        "http://mesonet.agron.iastate.edu/json/radar?operation=list&radar=LIX&product=N0Q&start=2012-08-29T14:55Z&end=2012-08-29T15:05Z"
       ]
      },
      {
       "output_type": "stream",
       "stream": "stdout",
       "text": [
        "\n",
        "1455 RADAR: LIX RADAR TIME: 1501"
       ]
      },
      {
       "output_type": "stream",
       "stream": "stdout",
       "text": [
        "\n",
        "30.33 -90.12 0.0 0.0\n",
        "http://mesonet.agron.iastate.edu/json/radar?operation=available&lat=30.33&lon=-90.12&start=2012-08-29T15:00Z\n",
        "http://mesonet.agron.iastate.edu/json/radar?operation=list&radar=LIX&product=N0Q&start=2012-08-29T15:00Z&end=2012-08-29T15:10Z"
       ]
      },
      {
       "output_type": "stream",
       "stream": "stdout",
       "text": [
        "\n",
        "1500 RADAR: LIX RADAR TIME: 1501"
       ]
      },
      {
       "output_type": "stream",
       "stream": "stdout",
       "text": [
        "\n",
        "30.33 -90.12 0.0 0.0\n",
        "http://mesonet.agron.iastate.edu/json/radar?operation=available&lat=30.33&lon=-90.12&start=2012-08-29T15:05Z\n",
        "http://mesonet.agron.iastate.edu/json/radar?operation=list&radar=LIX&product=N0Q&start=2012-08-29T15:05Z&end=2012-08-29T15:15Z"
       ]
      },
      {
       "output_type": "stream",
       "stream": "stdout",
       "text": [
        "\n",
        "1505 RADAR: LIX RADAR TIME: 1507"
       ]
      },
      {
       "output_type": "stream",
       "stream": "stdout",
       "text": [
        "\n",
        "30.33 -90.12 0.0 0.0\n",
        "http://mesonet.agron.iastate.edu/json/radar?operation=available&lat=30.33&lon=-90.12&start=2012-08-29T15:10Z\n",
        "http://mesonet.agron.iastate.edu/json/radar?operation=list&radar=LIX&product=N0Q&start=2012-08-29T15:10Z&end=2012-08-29T15:20Z"
       ]
      },
      {
       "output_type": "stream",
       "stream": "stdout",
       "text": [
        "\n",
        "1510 RADAR: LIX RADAR TIME: 1513"
       ]
      },
      {
       "output_type": "stream",
       "stream": "stdout",
       "text": [
        "\n",
        "30.33 -90.12 0.0 0.0\n",
        "http://mesonet.agron.iastate.edu/json/radar?operation=available&lat=30.33&lon=-90.12&start=2012-08-29T15:15Z\n",
        "http://mesonet.agron.iastate.edu/json/radar?operation=list&radar=LIX&product=N0Q&start=2012-08-29T15:15Z&end=2012-08-29T15:25Z"
       ]
      },
      {
       "output_type": "stream",
       "stream": "stdout",
       "text": [
        "\n",
        "1515 RADAR: LIX RADAR TIME: 1520"
       ]
      },
      {
       "output_type": "stream",
       "stream": "stdout",
       "text": [
        "\n",
        "30.33 -90.12 0.0 0.0\n",
        "http://mesonet.agron.iastate.edu/json/radar?operation=available&lat=30.33&lon=-90.12&start=2012-08-29T15:20Z\n",
        "http://mesonet.agron.iastate.edu/json/radar?operation=list&radar=LIX&product=N0Q&start=2012-08-29T15:20Z&end=2012-08-29T15:30Z"
       ]
      },
      {
       "output_type": "stream",
       "stream": "stdout",
       "text": [
        "\n",
        "1520 RADAR: LIX RADAR TIME: 1520"
       ]
      },
      {
       "output_type": "stream",
       "stream": "stdout",
       "text": [
        "\n",
        "30.33 -90.12 0.0 0.0\n",
        "http://mesonet.agron.iastate.edu/json/radar?operation=available&lat=30.33&lon=-90.12&start=2012-08-29T15:25Z\n",
        "http://mesonet.agron.iastate.edu/json/radar?operation=list&radar=LIX&product=N0Q&start=2012-08-29T15:25Z&end=2012-08-29T15:35Z"
       ]
      },
      {
       "output_type": "stream",
       "stream": "stdout",
       "text": [
        "\n",
        "1525 RADAR: LIX RADAR TIME: 1526"
       ]
      },
      {
       "output_type": "stream",
       "stream": "stdout",
       "text": [
        "\n",
        "30.33 -90.12 0.0 0.0\n",
        "http://mesonet.agron.iastate.edu/json/radar?operation=available&lat=30.33&lon=-90.12&start=2012-08-29T15:30Z\n",
        "http://mesonet.agron.iastate.edu/json/radar?operation=list&radar=LIX&product=N0Q&start=2012-08-29T15:30Z&end=2012-08-29T15:40Z"
       ]
      },
      {
       "output_type": "stream",
       "stream": "stdout",
       "text": [
        "\n",
        "1530 RADAR: LIX RADAR TIME: 1532"
       ]
      },
      {
       "output_type": "stream",
       "stream": "stdout",
       "text": [
        "\n",
        "30.33 -90.12 0.0 0.0\n",
        "http://mesonet.agron.iastate.edu/json/radar?operation=available&lat=30.33&lon=-90.12&start=2012-08-29T15:35Z\n",
        "http://mesonet.agron.iastate.edu/json/radar?operation=list&radar=LIX&product=N0Q&start=2012-08-29T15:35Z&end=2012-08-29T15:45Z"
       ]
      },
      {
       "output_type": "stream",
       "stream": "stdout",
       "text": [
        "\n",
        "1535 RADAR: LIX RADAR TIME: 1539"
       ]
      },
      {
       "output_type": "stream",
       "stream": "stdout",
       "text": [
        "\n",
        "30.33 -90.12 0.0 0.0\n",
        "http://mesonet.agron.iastate.edu/json/radar?operation=available&lat=30.33&lon=-90.12&start=2012-08-29T15:40Z\n",
        "http://mesonet.agron.iastate.edu/json/radar?operation=list&radar=LIX&product=N0Q&start=2012-08-29T15:40Z&end=2012-08-29T15:50Z"
       ]
      },
      {
       "output_type": "stream",
       "stream": "stdout",
       "text": [
        "\n",
        "1540 RADAR: LIX RADAR TIME: 1545"
       ]
      },
      {
       "output_type": "stream",
       "stream": "stdout",
       "text": [
        "\n",
        "30.33 -90.12 0.0 0.0\n",
        "http://mesonet.agron.iastate.edu/json/radar?operation=available&lat=30.33&lon=-90.12&start=2012-08-29T15:45Z\n",
        "http://mesonet.agron.iastate.edu/json/radar?operation=list&radar=LIX&product=N0Q&start=2012-08-29T15:45Z&end=2012-08-29T15:55Z"
       ]
      },
      {
       "output_type": "stream",
       "stream": "stdout",
       "text": [
        "\n",
        "1545 RADAR: LIX RADAR TIME: 1545"
       ]
      },
      {
       "output_type": "stream",
       "stream": "stdout",
       "text": [
        "\n",
        "30.33 -90.12 0.0 0.0\n",
        "http://mesonet.agron.iastate.edu/json/radar?operation=available&lat=30.33&lon=-90.12&start=2012-08-29T15:50Z\n",
        "http://mesonet.agron.iastate.edu/json/radar?operation=list&radar=LIX&product=N0Q&start=2012-08-29T15:50Z&end=2012-08-29T16:00Z"
       ]
      },
      {
       "output_type": "stream",
       "stream": "stdout",
       "text": [
        "\n",
        "1550 RADAR: LIX RADAR TIME: 1551"
       ]
      },
      {
       "output_type": "stream",
       "stream": "stdout",
       "text": [
        "\n",
        "30.33 -90.12 0.0 0.0\n",
        "http://mesonet.agron.iastate.edu/json/radar?operation=available&lat=30.33&lon=-90.12&start=2012-08-29T15:55Z\n",
        "http://mesonet.agron.iastate.edu/json/radar?operation=list&radar=LIX&product=N0Q&start=2012-08-29T15:55Z&end=2012-08-29T16:05Z"
       ]
      },
      {
       "output_type": "stream",
       "stream": "stdout",
       "text": [
        "\n",
        "1555 RADAR: LIX RADAR TIME: 1558"
       ]
      },
      {
       "output_type": "stream",
       "stream": "stdout",
       "text": [
        "\n",
        "30.33 -90.12 0.0 0.0\n",
        "http://mesonet.agron.iastate.edu/json/radar?operation=available&lat=30.33&lon=-90.12&start=2012-08-29T16:00Z\n",
        "http://mesonet.agron.iastate.edu/json/radar?operation=list&radar=LIX&product=N0Q&start=2012-08-29T16:00Z&end=2012-08-29T16:10Z"
       ]
      },
      {
       "output_type": "stream",
       "stream": "stdout",
       "text": [
        "\n",
        "1600 RADAR: LIX RADAR TIME: 1604"
       ]
      },
      {
       "output_type": "stream",
       "stream": "stdout",
       "text": [
        "\n",
        "30.33 -90.12 0.0 0.0\n",
        "http://mesonet.agron.iastate.edu/json/radar?operation=available&lat=30.33&lon=-90.12&start=2012-08-29T16:05Z\n",
        "http://mesonet.agron.iastate.edu/json/radar?operation=list&radar=LIX&product=N0Q&start=2012-08-29T16:05Z&end=2012-08-29T16:15Z"
       ]
      },
      {
       "output_type": "stream",
       "stream": "stdout",
       "text": [
        "\n",
        "1605 RADAR: LIX RADAR TIME: 1610"
       ]
      },
      {
       "output_type": "stream",
       "stream": "stdout",
       "text": [
        "\n",
        "30.33 -90.12 0.0 0.0\n",
        "http://mesonet.agron.iastate.edu/json/radar?operation=available&lat=30.33&lon=-90.12&start=2012-08-29T16:10Z\n",
        "http://mesonet.agron.iastate.edu/json/radar?operation=list&radar=LIX&product=N0Q&start=2012-08-29T16:10Z&end=2012-08-29T16:20Z"
       ]
      },
      {
       "output_type": "stream",
       "stream": "stdout",
       "text": [
        "\n",
        "1610 RADAR: LIX RADAR TIME: 1610"
       ]
      },
      {
       "output_type": "stream",
       "stream": "stdout",
       "text": [
        "\n",
        "30.33 -90.12 0.0 0.0\n",
        "http://mesonet.agron.iastate.edu/json/radar?operation=available&lat=30.33&lon=-90.12&start=2012-08-29T16:15Z\n",
        "http://mesonet.agron.iastate.edu/json/radar?operation=list&radar=LIX&product=N0Q&start=2012-08-29T16:15Z&end=2012-08-29T16:25Z"
       ]
      },
      {
       "output_type": "stream",
       "stream": "stdout",
       "text": [
        "\n",
        "1615 RADAR: LIX RADAR TIME: 1617"
       ]
      },
      {
       "output_type": "stream",
       "stream": "stdout",
       "text": [
        "\n",
        "30.33 -90.12 0.0 0.0\n",
        "http://mesonet.agron.iastate.edu/json/radar?operation=available&lat=30.33&lon=-90.12&start=2012-08-29T16:20Z\n",
        "http://mesonet.agron.iastate.edu/json/radar?operation=list&radar=LIX&product=N0Q&start=2012-08-29T16:20Z&end=2012-08-29T16:30Z"
       ]
      },
      {
       "output_type": "stream",
       "stream": "stdout",
       "text": [
        "\n",
        "1620 RADAR: LIX RADAR TIME: 1623"
       ]
      },
      {
       "output_type": "stream",
       "stream": "stdout",
       "text": [
        "\n",
        "30.33 -90.12 0.0 0.0\n",
        "http://mesonet.agron.iastate.edu/json/radar?operation=available&lat=30.33&lon=-90.12&start=2012-08-29T16:25Z\n",
        "http://mesonet.agron.iastate.edu/json/radar?operation=list&radar=LIX&product=N0Q&start=2012-08-29T16:25Z&end=2012-08-29T16:35Z"
       ]
      },
      {
       "output_type": "stream",
       "stream": "stdout",
       "text": [
        "\n",
        "1625 RADAR: LIX RADAR TIME: 1629"
       ]
      },
      {
       "output_type": "stream",
       "stream": "stdout",
       "text": [
        "\n",
        "30.33 -90.12 0.0 0.0\n",
        "http://mesonet.agron.iastate.edu/json/radar?operation=available&lat=30.33&lon=-90.12&start=2012-08-29T16:30Z\n",
        "http://mesonet.agron.iastate.edu/json/radar?operation=list&radar=LIX&product=N0Q&start=2012-08-29T16:30Z&end=2012-08-29T16:40Z"
       ]
      },
      {
       "output_type": "stream",
       "stream": "stdout",
       "text": [
        "\n",
        "1630 RADAR: LIX RADAR TIME: 1636"
       ]
      },
      {
       "output_type": "stream",
       "stream": "stdout",
       "text": [
        "\n",
        "30.33 -90.12 0.0 0.0\n",
        "http://mesonet.agron.iastate.edu/json/radar?operation=available&lat=30.33&lon=-90.12&start=2012-08-29T16:35Z\n",
        "http://mesonet.agron.iastate.edu/json/radar?operation=list&radar=LIX&product=N0Q&start=2012-08-29T16:35Z&end=2012-08-29T16:45Z"
       ]
      },
      {
       "output_type": "stream",
       "stream": "stdout",
       "text": [
        "\n",
        "1635 RADAR: LIX RADAR TIME: 1636"
       ]
      },
      {
       "output_type": "stream",
       "stream": "stdout",
       "text": [
        "\n",
        "30.33 -90.12 0.0 0.0\n",
        "http://mesonet.agron.iastate.edu/json/radar?operation=available&lat=30.33&lon=-90.12&start=2012-08-29T16:40Z\n",
        "http://mesonet.agron.iastate.edu/json/radar?operation=list&radar=LIX&product=N0Q&start=2012-08-29T16:40Z&end=2012-08-29T16:50Z"
       ]
      },
      {
       "output_type": "stream",
       "stream": "stdout",
       "text": [
        "\n",
        "1640 RADAR: LIX RADAR TIME: 1642"
       ]
      },
      {
       "output_type": "stream",
       "stream": "stdout",
       "text": [
        "\n",
        "30.33 -90.12 0.0 0.0\n",
        "http://mesonet.agron.iastate.edu/json/radar?operation=available&lat=30.33&lon=-90.12&start=2012-08-29T16:45Z\n",
        "http://mesonet.agron.iastate.edu/json/radar?operation=list&radar=LIX&product=N0Q&start=2012-08-29T16:45Z&end=2012-08-29T16:55Z"
       ]
      },
      {
       "output_type": "stream",
       "stream": "stdout",
       "text": [
        "\n",
        "1645 RADAR: LIX RADAR TIME: 1648"
       ]
      },
      {
       "output_type": "stream",
       "stream": "stdout",
       "text": [
        "\n",
        "30.33 -90.12 0.0 0.0\n",
        "http://mesonet.agron.iastate.edu/json/radar?operation=available&lat=30.33&lon=-90.12&start=2012-08-29T16:50Z\n",
        "http://mesonet.agron.iastate.edu/json/radar?operation=list&radar=LIX&product=N0Q&start=2012-08-29T16:50Z&end=2012-08-29T17:00Z"
       ]
      },
      {
       "output_type": "stream",
       "stream": "stdout",
       "text": [
        "\n",
        "1650 RADAR: LIX RADAR TIME: 1655"
       ]
      },
      {
       "output_type": "stream",
       "stream": "stdout",
       "text": [
        "\n",
        "30.33 -90.12 0.0 0.0\n",
        "http://mesonet.agron.iastate.edu/json/radar?operation=available&lat=30.33&lon=-90.12&start=2012-08-29T16:55Z\n",
        "http://mesonet.agron.iastate.edu/json/radar?operation=list&radar=LIX&product=N0Q&start=2012-08-29T16:55Z&end=2012-08-29T17:05Z"
       ]
      },
      {
       "output_type": "stream",
       "stream": "stdout",
       "text": [
        "\n",
        "1655 RADAR: LIX RADAR TIME: 1655"
       ]
      },
      {
       "output_type": "stream",
       "stream": "stdout",
       "text": [
        "\n",
        "30.33 -90.12 0.0 0.0\n",
        "http://mesonet.agron.iastate.edu/json/radar?operation=available&lat=30.33&lon=-90.12&start=2012-08-29T17:00Z\n",
        "http://mesonet.agron.iastate.edu/json/radar?operation=list&radar=LIX&product=N0Q&start=2012-08-29T17:00Z&end=2012-08-29T17:10Z"
       ]
      },
      {
       "output_type": "stream",
       "stream": "stdout",
       "text": [
        "\n",
        "1700 RADAR: LIX RADAR TIME: 1701"
       ]
      },
      {
       "output_type": "stream",
       "stream": "stdout",
       "text": [
        "\n",
        "30.33 -90.12 0.0 0.0\n",
        "http://mesonet.agron.iastate.edu/json/radar?operation=available&lat=30.33&lon=-90.12&start=2012-08-29T17:05Z\n",
        "http://mesonet.agron.iastate.edu/json/radar?operation=list&radar=LIX&product=N0Q&start=2012-08-29T17:05Z&end=2012-08-29T17:15Z"
       ]
      },
      {
       "output_type": "stream",
       "stream": "stdout",
       "text": [
        "\n",
        "1705 RADAR: LIX RADAR TIME: 1707"
       ]
      },
      {
       "output_type": "stream",
       "stream": "stdout",
       "text": [
        "\n",
        "30.33 -90.12 0.0 0.0\n",
        "http://mesonet.agron.iastate.edu/json/radar?operation=available&lat=30.33&lon=-90.12&start=2012-08-29T17:10Z\n",
        "http://mesonet.agron.iastate.edu/json/radar?operation=list&radar=LIX&product=N0Q&start=2012-08-29T17:10Z&end=2012-08-29T17:20Z"
       ]
      },
      {
       "output_type": "stream",
       "stream": "stdout",
       "text": [
        "\n",
        "1710 RADAR: LIX RADAR TIME: 1713"
       ]
      },
      {
       "output_type": "stream",
       "stream": "stdout",
       "text": [
        "\n",
        "30.33 -90.12 0.0 0.0\n",
        "http://mesonet.agron.iastate.edu/json/radar?operation=available&lat=30.33&lon=-90.12&start=2012-08-29T17:15Z\n",
        "http://mesonet.agron.iastate.edu/json/radar?operation=list&radar=LIX&product=N0Q&start=2012-08-29T17:15Z&end=2012-08-29T17:25Z"
       ]
      },
      {
       "output_type": "stream",
       "stream": "stdout",
       "text": [
        "\n",
        "1715 RADAR: LIX RADAR TIME: 1720"
       ]
      },
      {
       "output_type": "stream",
       "stream": "stdout",
       "text": [
        "\n",
        "30.33 -90.12 0.0 0.0\n",
        "http://mesonet.agron.iastate.edu/json/radar?operation=available&lat=30.33&lon=-90.12&start=2012-08-29T17:20Z\n",
        "http://mesonet.agron.iastate.edu/json/radar?operation=list&radar=LIX&product=N0Q&start=2012-08-29T17:20Z&end=2012-08-29T17:30Z"
       ]
      },
      {
       "output_type": "stream",
       "stream": "stdout",
       "text": [
        "\n",
        "1720 RADAR: LIX RADAR TIME: 1720"
       ]
      },
      {
       "output_type": "stream",
       "stream": "stdout",
       "text": [
        "\n",
        "30.33 -90.12 0.0 0.0\n",
        "http://mesonet.agron.iastate.edu/json/radar?operation=available&lat=30.33&lon=-90.12&start=2012-08-29T17:25Z\n",
        "http://mesonet.agron.iastate.edu/json/radar?operation=list&radar=LIX&product=N0Q&start=2012-08-29T17:25Z&end=2012-08-29T17:35Z"
       ]
      },
      {
       "output_type": "stream",
       "stream": "stdout",
       "text": [
        "\n",
        "1725 RADAR: LIX RADAR TIME: 1726"
       ]
      },
      {
       "output_type": "stream",
       "stream": "stdout",
       "text": [
        "\n",
        "30.33 -90.12 0.0 0.0\n",
        "http://mesonet.agron.iastate.edu/json/radar?operation=available&lat=30.33&lon=-90.12&start=2012-08-29T17:30Z\n",
        "http://mesonet.agron.iastate.edu/json/radar?operation=list&radar=LIX&product=N0Q&start=2012-08-29T17:30Z&end=2012-08-29T17:40Z"
       ]
      },
      {
       "output_type": "stream",
       "stream": "stdout",
       "text": [
        "\n",
        "1730 RADAR: LIX RADAR TIME: 1732"
       ]
      },
      {
       "output_type": "stream",
       "stream": "stdout",
       "text": [
        "\n",
        "30.33 -90.12 0.0 0.0\n",
        "http://mesonet.agron.iastate.edu/json/radar?operation=available&lat=30.33&lon=-90.12&start=2012-08-29T17:35Z\n",
        "http://mesonet.agron.iastate.edu/json/radar?operation=list&radar=LIX&product=N0Q&start=2012-08-29T17:35Z&end=2012-08-29T17:45Z"
       ]
      },
      {
       "output_type": "stream",
       "stream": "stdout",
       "text": [
        "\n",
        "1735 RADAR: LIX RADAR TIME: 1739"
       ]
      },
      {
       "output_type": "stream",
       "stream": "stdout",
       "text": [
        "\n",
        "30.33 -90.12 0.0 0.0\n",
        "http://mesonet.agron.iastate.edu/json/radar?operation=available&lat=30.33&lon=-90.12&start=2012-08-29T17:40Z\n",
        "http://mesonet.agron.iastate.edu/json/radar?operation=list&radar=LIX&product=N0Q&start=2012-08-29T17:40Z&end=2012-08-29T17:50Z"
       ]
      },
      {
       "output_type": "stream",
       "stream": "stdout",
       "text": [
        "\n",
        "1740 RADAR: LIX RADAR TIME: 1745"
       ]
      },
      {
       "output_type": "stream",
       "stream": "stdout",
       "text": [
        "\n",
        "30.33 -90.12 0.0 0.0\n",
        "http://mesonet.agron.iastate.edu/json/radar?operation=available&lat=30.33&lon=-90.12&start=2012-08-29T17:45Z\n",
        "http://mesonet.agron.iastate.edu/json/radar?operation=list&radar=LIX&product=N0Q&start=2012-08-29T17:45Z&end=2012-08-29T17:55Z"
       ]
      },
      {
       "output_type": "stream",
       "stream": "stdout",
       "text": [
        "\n",
        "1745 RADAR: LIX RADAR TIME: 1745"
       ]
      },
      {
       "output_type": "stream",
       "stream": "stdout",
       "text": [
        "\n",
        "30.33 -90.12 0.0 0.0\n",
        "http://mesonet.agron.iastate.edu/json/radar?operation=available&lat=30.33&lon=-90.12&start=2012-08-29T17:50Z\n",
        "http://mesonet.agron.iastate.edu/json/radar?operation=list&radar=LIX&product=N0Q&start=2012-08-29T17:50Z&end=2012-08-29T18:00Z"
       ]
      },
      {
       "output_type": "stream",
       "stream": "stdout",
       "text": [
        "\n",
        "1750 RADAR: LIX RADAR TIME: 1751"
       ]
      },
      {
       "output_type": "stream",
       "stream": "stdout",
       "text": [
        "\n",
        "30.33 -90.12 0.0 0.0\n",
        "http://mesonet.agron.iastate.edu/json/radar?operation=available&lat=30.33&lon=-90.12&start=2012-08-29T17:55Z\n",
        "http://mesonet.agron.iastate.edu/json/radar?operation=list&radar=LIX&product=N0Q&start=2012-08-29T17:55Z&end=2012-08-29T18:05Z"
       ]
      },
      {
       "output_type": "stream",
       "stream": "stdout",
       "text": [
        "\n",
        "1755 RADAR: LIX RADAR TIME: 1758"
       ]
      },
      {
       "output_type": "stream",
       "stream": "stdout",
       "text": [
        "\n",
        "30.33 -90.12 0.0 0.0\n",
        "http://mesonet.agron.iastate.edu/json/radar?operation=available&lat=30.33&lon=-90.12&start=2012-08-29T18:00Z\n",
        "http://mesonet.agron.iastate.edu/json/radar?operation=list&radar=LIX&product=N0Q&start=2012-08-29T18:00Z&end=2012-08-29T18:10Z"
       ]
      },
      {
       "output_type": "stream",
       "stream": "stdout",
       "text": [
        "\n",
        "1800 RADAR: LIX RADAR TIME: 1804"
       ]
      },
      {
       "output_type": "stream",
       "stream": "stdout",
       "text": [
        "\n",
        "30.33 -90.12 0.0 0.0\n",
        "http://mesonet.agron.iastate.edu/json/radar?operation=available&lat=30.33&lon=-90.12&start=2012-08-29T18:05Z\n",
        "http://mesonet.agron.iastate.edu/json/radar?operation=list&radar=LIX&product=N0Q&start=2012-08-29T18:05Z&end=2012-08-29T18:15Z"
       ]
      },
      {
       "output_type": "stream",
       "stream": "stdout",
       "text": [
        "\n",
        "1805 RADAR: LIX RADAR TIME: 1810"
       ]
      },
      {
       "output_type": "stream",
       "stream": "stdout",
       "text": [
        "\n",
        "30.33 -90.12 0.0 0.0\n",
        "http://mesonet.agron.iastate.edu/json/radar?operation=available&lat=30.33&lon=-90.12&start=2012-08-29T18:10Z\n",
        "http://mesonet.agron.iastate.edu/json/radar?operation=list&radar=LIX&product=N0Q&start=2012-08-29T18:10Z&end=2012-08-29T18:20Z"
       ]
      },
      {
       "output_type": "stream",
       "stream": "stdout",
       "text": [
        "\n",
        "1810 RADAR: LIX RADAR TIME: 1810"
       ]
      },
      {
       "output_type": "stream",
       "stream": "stdout",
       "text": [
        "\n",
        "30.33 -90.12 0.0 0.0\n",
        "http://mesonet.agron.iastate.edu/json/radar?operation=available&lat=30.33&lon=-90.12&start=2012-08-29T18:15Z\n",
        "http://mesonet.agron.iastate.edu/json/radar?operation=list&radar=LIX&product=N0Q&start=2012-08-29T18:15Z&end=2012-08-29T18:25Z"
       ]
      },
      {
       "output_type": "stream",
       "stream": "stdout",
       "text": [
        "\n",
        "1815 RADAR: LIX RADAR TIME: 1817"
       ]
      },
      {
       "output_type": "stream",
       "stream": "stdout",
       "text": [
        "\n",
        "30.33 -90.12 0.0 0.0\n",
        "http://mesonet.agron.iastate.edu/json/radar?operation=available&lat=30.33&lon=-90.12&start=2012-08-29T18:20Z\n",
        "http://mesonet.agron.iastate.edu/json/radar?operation=list&radar=LIX&product=N0Q&start=2012-08-29T18:20Z&end=2012-08-29T18:30Z"
       ]
      },
      {
       "output_type": "stream",
       "stream": "stdout",
       "text": [
        "\n",
        "1820 RADAR: LIX RADAR TIME: 1823"
       ]
      },
      {
       "output_type": "stream",
       "stream": "stdout",
       "text": [
        "\n",
        "30.33 -90.12 0.0 0.0\n",
        "http://mesonet.agron.iastate.edu/json/radar?operation=available&lat=30.33&lon=-90.12&start=2012-08-29T18:25Z\n",
        "http://mesonet.agron.iastate.edu/json/radar?operation=list&radar=LIX&product=N0Q&start=2012-08-29T18:25Z&end=2012-08-29T18:35Z"
       ]
      },
      {
       "output_type": "stream",
       "stream": "stdout",
       "text": [
        "\n",
        "1825 RADAR: LIX RADAR TIME: 1829"
       ]
      },
      {
       "output_type": "stream",
       "stream": "stdout",
       "text": [
        "\n",
        "30.33 -90.12 0.0 0.0\n",
        "http://mesonet.agron.iastate.edu/json/radar?operation=available&lat=30.33&lon=-90.12&start=2012-08-29T18:30Z\n",
        "http://mesonet.agron.iastate.edu/json/radar?operation=list&radar=LIX&product=N0Q&start=2012-08-29T18:30Z&end=2012-08-29T18:40Z"
       ]
      },
      {
       "output_type": "stream",
       "stream": "stdout",
       "text": [
        "\n",
        "1830 RADAR: LIX RADAR TIME: 1836"
       ]
      },
      {
       "output_type": "stream",
       "stream": "stdout",
       "text": [
        "\n",
        "30.33 -90.12 0.0 0.0\n",
        "http://mesonet.agron.iastate.edu/json/radar?operation=available&lat=30.33&lon=-90.12&start=2012-08-29T18:35Z\n",
        "http://mesonet.agron.iastate.edu/json/radar?operation=list&radar=LIX&product=N0Q&start=2012-08-29T18:35Z&end=2012-08-29T18:45Z"
       ]
      },
      {
       "output_type": "stream",
       "stream": "stdout",
       "text": [
        "\n",
        "1835 RADAR: LIX RADAR TIME: 1836"
       ]
      },
      {
       "output_type": "stream",
       "stream": "stdout",
       "text": [
        "\n",
        "30.33 -90.12 0.0 0.0\n",
        "http://mesonet.agron.iastate.edu/json/radar?operation=available&lat=30.33&lon=-90.12&start=2012-08-29T18:40Z\n",
        "http://mesonet.agron.iastate.edu/json/radar?operation=list&radar=LIX&product=N0Q&start=2012-08-29T18:40Z&end=2012-08-29T18:50Z"
       ]
      },
      {
       "output_type": "stream",
       "stream": "stdout",
       "text": [
        "\n",
        "1840 RADAR: LIX RADAR TIME: 1842"
       ]
      },
      {
       "output_type": "stream",
       "stream": "stdout",
       "text": [
        "\n",
        "30.33 -90.12 0.0 0.0\n",
        "http://mesonet.agron.iastate.edu/json/radar?operation=available&lat=30.33&lon=-90.12&start=2012-08-29T18:45Z\n",
        "http://mesonet.agron.iastate.edu/json/radar?operation=list&radar=LIX&product=N0Q&start=2012-08-29T18:45Z&end=2012-08-29T18:55Z"
       ]
      },
      {
       "output_type": "stream",
       "stream": "stdout",
       "text": [
        "\n",
        "1845 RADAR: LIX RADAR TIME: 1848"
       ]
      },
      {
       "output_type": "stream",
       "stream": "stdout",
       "text": [
        "\n",
        "30.33 -90.12 0.0 0.0\n",
        "http://mesonet.agron.iastate.edu/json/radar?operation=available&lat=30.33&lon=-90.12&start=2012-08-29T18:50Z\n",
        "http://mesonet.agron.iastate.edu/json/radar?operation=list&radar=LIX&product=N0Q&start=2012-08-29T18:50Z&end=2012-08-29T19:00Z"
       ]
      },
      {
       "output_type": "stream",
       "stream": "stdout",
       "text": [
        "\n",
        "1850 RADAR: LIX RADAR TIME: 1855"
       ]
      },
      {
       "output_type": "stream",
       "stream": "stdout",
       "text": [
        "\n",
        "30.33 -90.12 0.0 0.0\n",
        "http://mesonet.agron.iastate.edu/json/radar?operation=available&lat=30.33&lon=-90.12&start=2012-08-29T18:55Z\n",
        "http://mesonet.agron.iastate.edu/json/radar?operation=list&radar=LIX&product=N0Q&start=2012-08-29T18:55Z&end=2012-08-29T19:05Z"
       ]
      },
      {
       "output_type": "stream",
       "stream": "stdout",
       "text": [
        "\n",
        "1855 RADAR: LIX RADAR TIME: 1855"
       ]
      },
      {
       "output_type": "stream",
       "stream": "stdout",
       "text": [
        "\n",
        "30.33 -90.12 0.0 0.0\n",
        "http://mesonet.agron.iastate.edu/json/radar?operation=available&lat=30.33&lon=-90.12&start=2012-08-29T19:00Z\n",
        "http://mesonet.agron.iastate.edu/json/radar?operation=list&radar=LIX&product=N0Q&start=2012-08-29T19:00Z&end=2012-08-29T19:10Z"
       ]
      },
      {
       "output_type": "stream",
       "stream": "stdout",
       "text": [
        "\n",
        "1900 RADAR: LIX RADAR TIME: 1901"
       ]
      },
      {
       "output_type": "stream",
       "stream": "stdout",
       "text": [
        "\n",
        "30.33 -90.12 0.0 0.0\n",
        "http://mesonet.agron.iastate.edu/json/radar?operation=available&lat=30.33&lon=-90.12&start=2012-08-29T19:05Z\n",
        "http://mesonet.agron.iastate.edu/json/radar?operation=list&radar=LIX&product=N0Q&start=2012-08-29T19:05Z&end=2012-08-29T19:15Z"
       ]
      },
      {
       "output_type": "stream",
       "stream": "stdout",
       "text": [
        "\n",
        "1905 RADAR: LIX RADAR TIME: 1907"
       ]
      },
      {
       "output_type": "stream",
       "stream": "stdout",
       "text": [
        "\n",
        "30.33 -90.12 0.0 0.0\n",
        "http://mesonet.agron.iastate.edu/json/radar?operation=available&lat=30.33&lon=-90.12&start=2012-08-29T19:10Z\n",
        "http://mesonet.agron.iastate.edu/json/radar?operation=list&radar=LIX&product=N0Q&start=2012-08-29T19:10Z&end=2012-08-29T19:20Z"
       ]
      },
      {
       "output_type": "stream",
       "stream": "stdout",
       "text": [
        "\n",
        "1910 RADAR: LIX RADAR TIME: 1914"
       ]
      },
      {
       "output_type": "stream",
       "stream": "stdout",
       "text": [
        "\n",
        "30.33 -90.12 0.0 0.0\n",
        "http://mesonet.agron.iastate.edu/json/radar?operation=available&lat=30.33&lon=-90.12&start=2012-08-29T19:15Z\n",
        "http://mesonet.agron.iastate.edu/json/radar?operation=list&radar=LIX&product=N0Q&start=2012-08-29T19:15Z&end=2012-08-29T19:25Z"
       ]
      },
      {
       "output_type": "stream",
       "stream": "stdout",
       "text": [
        "\n",
        "1915 RADAR: LIX RADAR TIME: 1920"
       ]
      },
      {
       "output_type": "stream",
       "stream": "stdout",
       "text": [
        "\n",
        "30.33 -90.12 0.0 0.0\n",
        "http://mesonet.agron.iastate.edu/json/radar?operation=available&lat=30.33&lon=-90.12&start=2012-08-29T19:20Z\n",
        "http://mesonet.agron.iastate.edu/json/radar?operation=list&radar=LIX&product=N0Q&start=2012-08-29T19:20Z&end=2012-08-29T19:30Z"
       ]
      },
      {
       "output_type": "stream",
       "stream": "stdout",
       "text": [
        "\n",
        "1920 RADAR: LIX RADAR TIME: 1920"
       ]
      },
      {
       "output_type": "stream",
       "stream": "stdout",
       "text": [
        "\n",
        "30.33 -90.12 0.0 0.0\n",
        "http://mesonet.agron.iastate.edu/json/radar?operation=available&lat=30.33&lon=-90.12&start=2012-08-29T19:25Z\n",
        "http://mesonet.agron.iastate.edu/json/radar?operation=list&radar=LIX&product=N0Q&start=2012-08-29T19:25Z&end=2012-08-29T19:35Z"
       ]
      },
      {
       "output_type": "stream",
       "stream": "stdout",
       "text": [
        "\n",
        "1925 RADAR: LIX RADAR TIME: 1926"
       ]
      },
      {
       "output_type": "stream",
       "stream": "stdout",
       "text": [
        "\n",
        "30.33 -90.12 0.0 0.0\n",
        "http://mesonet.agron.iastate.edu/json/radar?operation=available&lat=30.33&lon=-90.12&start=2012-08-29T19:30Z\n",
        "http://mesonet.agron.iastate.edu/json/radar?operation=list&radar=LIX&product=N0Q&start=2012-08-29T19:30Z&end=2012-08-29T19:40Z"
       ]
      },
      {
       "output_type": "stream",
       "stream": "stdout",
       "text": [
        "\n",
        "1930 RADAR: LIX RADAR TIME: 1933"
       ]
      },
      {
       "output_type": "stream",
       "stream": "stdout",
       "text": [
        "\n",
        "30.33 -90.12 0.0 0.0\n",
        "http://mesonet.agron.iastate.edu/json/radar?operation=available&lat=30.33&lon=-90.12&start=2012-08-29T19:35Z\n",
        "http://mesonet.agron.iastate.edu/json/radar?operation=list&radar=LIX&product=N0Q&start=2012-08-29T19:35Z&end=2012-08-29T19:45Z"
       ]
      },
      {
       "output_type": "stream",
       "stream": "stdout",
       "text": [
        "\n",
        "1935 RADAR: LIX RADAR TIME: 1939"
       ]
      },
      {
       "output_type": "stream",
       "stream": "stdout",
       "text": [
        "\n",
        "30.33 -90.12 0.0 0.0\n",
        "http://mesonet.agron.iastate.edu/json/radar?operation=available&lat=30.33&lon=-90.12&start=2012-08-29T19:40Z\n",
        "http://mesonet.agron.iastate.edu/json/radar?operation=list&radar=LIX&product=N0Q&start=2012-08-29T19:40Z&end=2012-08-29T19:50Z"
       ]
      },
      {
       "output_type": "stream",
       "stream": "stdout",
       "text": [
        "\n",
        "1940 RADAR: LIX RADAR TIME: 1945"
       ]
      },
      {
       "output_type": "stream",
       "stream": "stdout",
       "text": [
        "\n",
        "30.33 -90.12 0.0 0.0\n",
        "http://mesonet.agron.iastate.edu/json/radar?operation=available&lat=30.33&lon=-90.12&start=2012-08-29T19:45Z\n",
        "http://mesonet.agron.iastate.edu/json/radar?operation=list&radar=LIX&product=N0Q&start=2012-08-29T19:45Z&end=2012-08-29T19:55Z"
       ]
      },
      {
       "output_type": "stream",
       "stream": "stdout",
       "text": [
        "\n",
        "1945 RADAR: LIX RADAR TIME: 1945"
       ]
      },
      {
       "output_type": "stream",
       "stream": "stdout",
       "text": [
        "\n",
        "30.33 -90.12 0.0 0.0\n",
        "http://mesonet.agron.iastate.edu/json/radar?operation=available&lat=30.33&lon=-90.12&start=2012-08-29T19:50Z\n",
        "http://mesonet.agron.iastate.edu/json/radar?operation=list&radar=LIX&product=N0Q&start=2012-08-29T19:50Z&end=2012-08-29T20:00Z"
       ]
      },
      {
       "output_type": "stream",
       "stream": "stdout",
       "text": [
        "\n",
        "1950 RADAR: LIX RADAR TIME: 1952"
       ]
      },
      {
       "output_type": "stream",
       "stream": "stdout",
       "text": [
        "\n",
        "30.33 -90.12 0.0 0.0\n",
        "http://mesonet.agron.iastate.edu/json/radar?operation=available&lat=30.33&lon=-90.12&start=2012-08-29T19:55Z\n",
        "http://mesonet.agron.iastate.edu/json/radar?operation=list&radar=LIX&product=N0Q&start=2012-08-29T19:55Z&end=2012-08-29T20:05Z"
       ]
      },
      {
       "output_type": "stream",
       "stream": "stdout",
       "text": [
        "\n",
        "1955 RADAR: LIX RADAR TIME: 1958"
       ]
      },
      {
       "output_type": "stream",
       "stream": "stdout",
       "text": [
        "\n",
        "30.33 -90.12 0.0 0.0\n",
        "http://mesonet.agron.iastate.edu/json/radar?operation=available&lat=30.33&lon=-90.12&start=2012-08-29T20:00Z\n",
        "http://mesonet.agron.iastate.edu/json/radar?operation=list&radar=LIX&product=N0Q&start=2012-08-29T20:00Z&end=2012-08-29T20:10Z"
       ]
      },
      {
       "output_type": "stream",
       "stream": "stdout",
       "text": [
        "\n",
        "2000 RADAR: LIX RADAR TIME: 2004"
       ]
      },
      {
       "output_type": "stream",
       "stream": "stdout",
       "text": [
        "\n",
        "30.33 -90.12 0.0 0.0\n",
        "http://mesonet.agron.iastate.edu/json/radar?operation=available&lat=30.33&lon=-90.12&start=2012-08-29T20:05Z\n",
        "http://mesonet.agron.iastate.edu/json/radar?operation=list&radar=LIX&product=N0Q&start=2012-08-29T20:05Z&end=2012-08-29T20:15Z"
       ]
      },
      {
       "output_type": "stream",
       "stream": "stdout",
       "text": [
        "\n",
        "2005 RADAR: LIX RADAR TIME: 2011"
       ]
      },
      {
       "output_type": "stream",
       "stream": "stdout",
       "text": [
        "\n",
        "30.33 -90.12 0.0 0.0\n",
        "http://mesonet.agron.iastate.edu/json/radar?operation=available&lat=30.33&lon=-90.12&start=2012-08-29T20:10Z\n",
        "http://mesonet.agron.iastate.edu/json/radar?operation=list&radar=LIX&product=N0Q&start=2012-08-29T20:10Z&end=2012-08-29T20:20Z"
       ]
      },
      {
       "output_type": "stream",
       "stream": "stdout",
       "text": [
        "\n",
        "2010 RADAR: LIX RADAR TIME: 2011"
       ]
      },
      {
       "output_type": "stream",
       "stream": "stdout",
       "text": [
        "\n",
        "30.33 -90.12 0.0 0.0\n",
        "http://mesonet.agron.iastate.edu/json/radar?operation=available&lat=30.33&lon=-90.12&start=2012-08-29T20:15Z\n",
        "http://mesonet.agron.iastate.edu/json/radar?operation=list&radar=LIX&product=N0Q&start=2012-08-29T20:15Z&end=2012-08-29T20:25Z"
       ]
      },
      {
       "output_type": "stream",
       "stream": "stdout",
       "text": [
        "\n",
        "2015 RADAR: LIX RADAR TIME: 2017"
       ]
      },
      {
       "output_type": "stream",
       "stream": "stdout",
       "text": [
        "\n",
        "30.33 -90.12 0.0 0.0\n",
        "http://mesonet.agron.iastate.edu/json/radar?operation=available&lat=30.33&lon=-90.12&start=2012-08-29T20:20Z\n",
        "http://mesonet.agron.iastate.edu/json/radar?operation=list&radar=LIX&product=N0Q&start=2012-08-29T20:20Z&end=2012-08-29T20:30Z"
       ]
      },
      {
       "output_type": "stream",
       "stream": "stdout",
       "text": [
        "\n",
        "2020 RADAR: LIX RADAR TIME: 2023"
       ]
      },
      {
       "output_type": "stream",
       "stream": "stdout",
       "text": [
        "\n",
        "30.33 -90.12 0.0 0.0\n",
        "http://mesonet.agron.iastate.edu/json/radar?operation=available&lat=30.33&lon=-90.12&start=2012-08-29T20:25Z\n",
        "http://mesonet.agron.iastate.edu/json/radar?operation=list&radar=LIX&product=N0Q&start=2012-08-29T20:25Z&end=2012-08-29T20:35Z"
       ]
      },
      {
       "output_type": "stream",
       "stream": "stdout",
       "text": [
        "\n",
        "2025 RADAR: LIX RADAR TIME: 2030"
       ]
      },
      {
       "output_type": "stream",
       "stream": "stdout",
       "text": [
        "\n",
        "30.33 -90.12 0.0 0.0\n",
        "http://mesonet.agron.iastate.edu/json/radar?operation=available&lat=30.33&lon=-90.12&start=2012-08-29T20:30Z\n",
        "http://mesonet.agron.iastate.edu/json/radar?operation=list&radar=LIX&product=N0Q&start=2012-08-29T20:30Z&end=2012-08-29T20:40Z"
       ]
      },
      {
       "output_type": "stream",
       "stream": "stdout",
       "text": [
        "\n",
        "2030 RADAR: LIX RADAR TIME: 2030"
       ]
      },
      {
       "output_type": "stream",
       "stream": "stdout",
       "text": [
        "\n",
        "30.33 -90.12 0.0 0.0\n",
        "http://mesonet.agron.iastate.edu/json/radar?operation=available&lat=30.33&lon=-90.12&start=2012-08-29T20:35Z\n",
        "http://mesonet.agron.iastate.edu/json/radar?operation=list&radar=LIX&product=N0Q&start=2012-08-29T20:35Z&end=2012-08-29T20:45Z"
       ]
      },
      {
       "output_type": "stream",
       "stream": "stdout",
       "text": [
        "\n",
        "2035 RADAR: LIX RADAR TIME: 2036"
       ]
      },
      {
       "output_type": "stream",
       "stream": "stdout",
       "text": [
        "\n",
        "30.33 -90.12 0.0 0.0\n",
        "http://mesonet.agron.iastate.edu/json/radar?operation=available&lat=30.33&lon=-90.12&start=2012-08-29T20:40Z\n",
        "http://mesonet.agron.iastate.edu/json/radar?operation=list&radar=LIX&product=N0Q&start=2012-08-29T20:40Z&end=2012-08-29T20:50Z"
       ]
      },
      {
       "output_type": "stream",
       "stream": "stdout",
       "text": [
        "\n",
        "2040 RADAR: LIX RADAR TIME: 2042"
       ]
      },
      {
       "output_type": "stream",
       "stream": "stdout",
       "text": [
        "\n",
        "30.33 -90.12 0.0 0.0\n",
        "http://mesonet.agron.iastate.edu/json/radar?operation=available&lat=30.33&lon=-90.12&start=2012-08-29T20:45Z\n",
        "http://mesonet.agron.iastate.edu/json/radar?operation=list&radar=LIX&product=N0Q&start=2012-08-29T20:45Z&end=2012-08-29T20:55Z"
       ]
      },
      {
       "output_type": "stream",
       "stream": "stdout",
       "text": [
        "\n",
        "2045 RADAR: LIX RADAR TIME: 2049"
       ]
      },
      {
       "output_type": "stream",
       "stream": "stdout",
       "text": [
        "\n",
        "30.33 -90.12 0.0 0.0\n",
        "http://mesonet.agron.iastate.edu/json/radar?operation=available&lat=30.33&lon=-90.12&start=2012-08-29T20:50Z\n",
        "http://mesonet.agron.iastate.edu/json/radar?operation=list&radar=LIX&product=N0Q&start=2012-08-29T20:50Z&end=2012-08-29T21:00Z"
       ]
      },
      {
       "output_type": "stream",
       "stream": "stdout",
       "text": [
        "\n",
        "2050 RADAR: LIX RADAR TIME: 2055"
       ]
      },
      {
       "output_type": "stream",
       "stream": "stdout",
       "text": [
        "\n",
        "30.33 -90.12 0.0 0.0\n",
        "http://mesonet.agron.iastate.edu/json/radar?operation=available&lat=30.33&lon=-90.12&start=2012-08-29T20:55Z\n",
        "http://mesonet.agron.iastate.edu/json/radar?operation=list&radar=LIX&product=N0Q&start=2012-08-29T20:55Z&end=2012-08-29T21:05Z"
       ]
      },
      {
       "output_type": "stream",
       "stream": "stdout",
       "text": [
        "\n",
        "2055 RADAR: LIX RADAR TIME: 2055"
       ]
      },
      {
       "output_type": "stream",
       "stream": "stdout",
       "text": [
        "\n",
        "30.33 -90.12 0.0 0.0\n",
        "http://mesonet.agron.iastate.edu/json/radar?operation=available&lat=30.33&lon=-90.12&start=2012-08-29T21:00Z\n",
        "http://mesonet.agron.iastate.edu/json/radar?operation=list&radar=LIX&product=N0Q&start=2012-08-29T21:00Z&end=2012-08-29T21:10Z"
       ]
      },
      {
       "output_type": "stream",
       "stream": "stdout",
       "text": [
        "\n",
        "2100 RADAR: LIX RADAR TIME: 2101"
       ]
      },
      {
       "output_type": "stream",
       "stream": "stdout",
       "text": [
        "\n",
        "30.33 -90.12 0.0 0.0\n",
        "http://mesonet.agron.iastate.edu/json/radar?operation=available&lat=30.33&lon=-90.12&start=2012-08-29T21:05Z\n",
        "http://mesonet.agron.iastate.edu/json/radar?operation=list&radar=LIX&product=N0Q&start=2012-08-29T21:05Z&end=2012-08-29T21:15Z"
       ]
      },
      {
       "output_type": "stream",
       "stream": "stdout",
       "text": [
        "\n",
        "2105 RADAR: LIX RADAR TIME: 2108"
       ]
      },
      {
       "output_type": "stream",
       "stream": "stdout",
       "text": [
        "\n",
        "30.33 -90.12 0.0 0.0\n",
        "http://mesonet.agron.iastate.edu/json/radar?operation=available&lat=30.33&lon=-90.12&start=2012-08-29T21:10Z\n",
        "http://mesonet.agron.iastate.edu/json/radar?operation=list&radar=LIX&product=N0Q&start=2012-08-29T21:10Z&end=2012-08-29T21:20Z"
       ]
      },
      {
       "output_type": "stream",
       "stream": "stdout",
       "text": [
        "\n",
        "2110 RADAR: LIX RADAR TIME: 2114"
       ]
      },
      {
       "output_type": "stream",
       "stream": "stdout",
       "text": [
        "\n",
        "30.33 -90.12 0.0 0.0\n",
        "http://mesonet.agron.iastate.edu/json/radar?operation=available&lat=30.33&lon=-90.12&start=2012-08-29T21:15Z\n",
        "http://mesonet.agron.iastate.edu/json/radar?operation=list&radar=LIX&product=N0Q&start=2012-08-29T21:15Z&end=2012-08-29T21:25Z"
       ]
      },
      {
       "output_type": "stream",
       "stream": "stdout",
       "text": [
        "\n",
        "2115 RADAR: LIX RADAR TIME: 2120"
       ]
      },
      {
       "output_type": "stream",
       "stream": "stdout",
       "text": [
        "\n",
        "30.33 -90.12 0.0 0.0\n",
        "http://mesonet.agron.iastate.edu/json/radar?operation=available&lat=30.33&lon=-90.12&start=2012-08-29T21:20Z\n",
        "http://mesonet.agron.iastate.edu/json/radar?operation=list&radar=LIX&product=N0Q&start=2012-08-29T21:20Z&end=2012-08-29T21:30Z"
       ]
      },
      {
       "output_type": "stream",
       "stream": "stdout",
       "text": [
        "\n",
        "2120 RADAR: LIX RADAR TIME: 2120"
       ]
      },
      {
       "output_type": "stream",
       "stream": "stdout",
       "text": [
        "\n",
        "30.33 -90.12 0.0 0.0\n",
        "http://mesonet.agron.iastate.edu/json/radar?operation=available&lat=30.33&lon=-90.12&start=2012-08-29T21:25Z\n",
        "http://mesonet.agron.iastate.edu/json/radar?operation=list&radar=LIX&product=N0Q&start=2012-08-29T21:25Z&end=2012-08-29T21:35Z"
       ]
      },
      {
       "output_type": "stream",
       "stream": "stdout",
       "text": [
        "\n",
        "2125 RADAR: LIX RADAR TIME: 2127"
       ]
      },
      {
       "output_type": "stream",
       "stream": "stdout",
       "text": [
        "\n",
        "30.33 -90.12 0.0 0.0\n",
        "http://mesonet.agron.iastate.edu/json/radar?operation=available&lat=30.33&lon=-90.12&start=2012-08-29T21:30Z\n",
        "http://mesonet.agron.iastate.edu/json/radar?operation=list&radar=LIX&product=N0Q&start=2012-08-29T21:30Z&end=2012-08-29T21:40Z"
       ]
      },
      {
       "output_type": "stream",
       "stream": "stdout",
       "text": [
        "\n",
        "2130 RADAR: LIX RADAR TIME: 2133"
       ]
      },
      {
       "output_type": "stream",
       "stream": "stdout",
       "text": [
        "\n",
        "30.33 -90.12 0.0 0.0\n",
        "http://mesonet.agron.iastate.edu/json/radar?operation=available&lat=30.33&lon=-90.12&start=2012-08-29T21:35Z\n",
        "http://mesonet.agron.iastate.edu/json/radar?operation=list&radar=LIX&product=N0Q&start=2012-08-29T21:35Z&end=2012-08-29T21:45Z"
       ]
      },
      {
       "output_type": "stream",
       "stream": "stdout",
       "text": [
        "\n",
        "2135 RADAR: LIX RADAR TIME: 2139"
       ]
      },
      {
       "output_type": "stream",
       "stream": "stdout",
       "text": [
        "\n",
        "30.33 -90.12 0.0 0.0\n",
        "http://mesonet.agron.iastate.edu/json/radar?operation=available&lat=30.33&lon=-90.12&start=2012-08-29T21:40Z\n",
        "http://mesonet.agron.iastate.edu/json/radar?operation=list&radar=LIX&product=N0Q&start=2012-08-29T21:40Z&end=2012-08-29T21:50Z"
       ]
      },
      {
       "output_type": "stream",
       "stream": "stdout",
       "text": [
        "\n",
        "2140 RADAR: LIX RADAR TIME: 2145"
       ]
      },
      {
       "output_type": "stream",
       "stream": "stdout",
       "text": [
        "\n",
        "30.33 -90.12 0.0 0.0\n",
        "http://mesonet.agron.iastate.edu/json/radar?operation=available&lat=30.33&lon=-90.12&start=2012-08-29T21:45Z\n",
        "http://mesonet.agron.iastate.edu/json/radar?operation=list&radar=LIX&product=N0Q&start=2012-08-29T21:45Z&end=2012-08-29T21:55Z"
       ]
      },
      {
       "output_type": "stream",
       "stream": "stdout",
       "text": [
        "\n",
        "2145 RADAR: LIX RADAR TIME: 2145"
       ]
      },
      {
       "output_type": "stream",
       "stream": "stdout",
       "text": [
        "\n",
        "30.33 -90.12 0.0 0.0\n",
        "http://mesonet.agron.iastate.edu/json/radar?operation=available&lat=30.33&lon=-90.12&start=2012-08-29T21:50Z\n",
        "http://mesonet.agron.iastate.edu/json/radar?operation=list&radar=LIX&product=N0Q&start=2012-08-29T21:50Z&end=2012-08-29T22:00Z"
       ]
      },
      {
       "output_type": "stream",
       "stream": "stdout",
       "text": [
        "\n",
        "2150 RADAR: LIX RADAR TIME: 2152"
       ]
      },
      {
       "output_type": "stream",
       "stream": "stdout",
       "text": [
        "\n",
        "30.33 -90.12 0.0 0.0\n",
        "http://mesonet.agron.iastate.edu/json/radar?operation=available&lat=30.33&lon=-90.12&start=2012-08-29T21:55Z\n",
        "http://mesonet.agron.iastate.edu/json/radar?operation=list&radar=LIX&product=N0Q&start=2012-08-29T21:55Z&end=2012-08-29T22:05Z"
       ]
      },
      {
       "output_type": "stream",
       "stream": "stdout",
       "text": [
        "\n",
        "2155 RADAR: LIX RADAR TIME: 2158"
       ]
      },
      {
       "output_type": "stream",
       "stream": "stdout",
       "text": [
        "\n",
        "30.33 -90.12 0.0 0.0\n",
        "http://mesonet.agron.iastate.edu/json/radar?operation=available&lat=30.33&lon=-90.12&start=2012-08-29T22:00Z\n",
        "http://mesonet.agron.iastate.edu/json/radar?operation=list&radar=LIX&product=N0Q&start=2012-08-29T22:00Z&end=2012-08-29T22:10Z"
       ]
      },
      {
       "output_type": "stream",
       "stream": "stdout",
       "text": [
        "\n",
        "2200 RADAR: LIX RADAR TIME: 2204"
       ]
      },
      {
       "output_type": "stream",
       "stream": "stdout",
       "text": [
        "\n",
        "30.33 -90.12 0.0 0.0\n",
        "http://mesonet.agron.iastate.edu/json/radar?operation=available&lat=30.33&lon=-90.12&start=2012-08-29T22:05Z\n",
        "http://mesonet.agron.iastate.edu/json/radar?operation=list&radar=LIX&product=N0Q&start=2012-08-29T22:05Z&end=2012-08-29T22:15Z"
       ]
      },
      {
       "output_type": "stream",
       "stream": "stdout",
       "text": [
        "\n",
        "2205 RADAR: LIX RADAR TIME: 2211"
       ]
      },
      {
       "output_type": "stream",
       "stream": "stdout",
       "text": [
        "\n",
        "30.33 -90.12 0.0 0.0\n",
        "http://mesonet.agron.iastate.edu/json/radar?operation=available&lat=30.33&lon=-90.12&start=2012-08-29T22:10Z\n",
        "http://mesonet.agron.iastate.edu/json/radar?operation=list&radar=LIX&product=N0Q&start=2012-08-29T22:10Z&end=2012-08-29T22:20Z"
       ]
      },
      {
       "output_type": "stream",
       "stream": "stdout",
       "text": [
        "\n",
        "2210 RADAR: LIX RADAR TIME: 2211"
       ]
      },
      {
       "output_type": "stream",
       "stream": "stdout",
       "text": [
        "\n",
        "30.33 -90.12 0.0 0.0\n",
        "http://mesonet.agron.iastate.edu/json/radar?operation=available&lat=30.33&lon=-90.12&start=2012-08-29T22:15Z\n",
        "http://mesonet.agron.iastate.edu/json/radar?operation=list&radar=LIX&product=N0Q&start=2012-08-29T22:15Z&end=2012-08-29T22:25Z"
       ]
      },
      {
       "output_type": "stream",
       "stream": "stdout",
       "text": [
        "\n",
        "2215 RADAR: LIX RADAR TIME: 2218"
       ]
      },
      {
       "output_type": "stream",
       "stream": "stdout",
       "text": [
        "\n",
        "30.33 -90.12 0.0 0.0\n",
        "http://mesonet.agron.iastate.edu/json/radar?operation=available&lat=30.33&lon=-90.12&start=2012-08-29T22:20Z\n",
        "http://mesonet.agron.iastate.edu/json/radar?operation=list&radar=LIX&product=N0Q&start=2012-08-29T22:20Z&end=2012-08-29T22:30Z"
       ]
      },
      {
       "output_type": "stream",
       "stream": "stdout",
       "text": [
        "\n",
        "2220 RADAR: LIX RADAR TIME: 2223"
       ]
      },
      {
       "output_type": "stream",
       "stream": "stdout",
       "text": [
        "\n",
        "30.33 -90.12 0.0 0.0\n",
        "http://mesonet.agron.iastate.edu/json/radar?operation=available&lat=30.33&lon=-90.12&start=2012-08-29T22:25Z\n",
        "http://mesonet.agron.iastate.edu/json/radar?operation=list&radar=LIX&product=N0Q&start=2012-08-29T22:25Z&end=2012-08-29T22:35Z"
       ]
      },
      {
       "output_type": "stream",
       "stream": "stdout",
       "text": [
        "\n",
        "2225 RADAR: LIX RADAR TIME: 2229"
       ]
      },
      {
       "output_type": "stream",
       "stream": "stdout",
       "text": [
        "\n",
        "30.33 -90.12 0.0 0.0\n",
        "http://mesonet.agron.iastate.edu/json/radar?operation=available&lat=30.33&lon=-90.12&start=2012-08-29T22:30Z\n",
        "http://mesonet.agron.iastate.edu/json/radar?operation=list&radar=LIX&product=N0Q&start=2012-08-29T22:30Z&end=2012-08-29T22:40Z"
       ]
      },
      {
       "output_type": "stream",
       "stream": "stdout",
       "text": [
        "\n",
        "2230 RADAR: LIX RADAR TIME: 2234"
       ]
      },
      {
       "output_type": "stream",
       "stream": "stdout",
       "text": [
        "\n",
        "30.33 -90.12 0.0 0.0\n",
        "http://mesonet.agron.iastate.edu/json/radar?operation=available&lat=30.33&lon=-90.12&start=2012-08-29T22:35Z\n",
        "http://mesonet.agron.iastate.edu/json/radar?operation=list&radar=LIX&product=N0Q&start=2012-08-29T22:35Z&end=2012-08-29T22:45Z"
       ]
      },
      {
       "output_type": "stream",
       "stream": "stdout",
       "text": [
        "\n",
        "2235 RADAR: LIX RADAR TIME: 2240"
       ]
      },
      {
       "output_type": "stream",
       "stream": "stdout",
       "text": [
        "\n",
        "30.33 -90.12 0.0 0.0\n",
        "http://mesonet.agron.iastate.edu/json/radar?operation=available&lat=30.33&lon=-90.12&start=2012-08-29T22:40Z\n",
        "http://mesonet.agron.iastate.edu/json/radar?operation=list&radar=LIX&product=N0Q&start=2012-08-29T22:40Z&end=2012-08-29T22:50Z"
       ]
      },
      {
       "output_type": "stream",
       "stream": "stdout",
       "text": [
        "\n",
        "2240 RADAR: LIX RADAR TIME: 2240"
       ]
      },
      {
       "output_type": "stream",
       "stream": "stdout",
       "text": [
        "\n",
        "30.33 -90.12 0.0 0.0\n",
        "http://mesonet.agron.iastate.edu/json/radar?operation=available&lat=30.33&lon=-90.12&start=2012-08-29T22:45Z\n",
        "http://mesonet.agron.iastate.edu/json/radar?operation=list&radar=LIX&product=N0Q&start=2012-08-29T22:45Z&end=2012-08-29T22:55Z"
       ]
      },
      {
       "output_type": "stream",
       "stream": "stdout",
       "text": [
        "\n",
        "2245 RADAR: LIX RADAR TIME: 2245"
       ]
      },
      {
       "output_type": "stream",
       "stream": "stdout",
       "text": [
        "\n",
        "30.33 -90.12 0.0 0.0\n",
        "http://mesonet.agron.iastate.edu/json/radar?operation=available&lat=30.33&lon=-90.12&start=2012-08-29T22:50Z\n",
        "http://mesonet.agron.iastate.edu/json/radar?operation=list&radar=LIX&product=N0Q&start=2012-08-29T22:50Z&end=2012-08-29T23:00Z"
       ]
      },
      {
       "output_type": "stream",
       "stream": "stdout",
       "text": [
        "\n",
        "2250 RADAR: LIX RADAR TIME: 2250"
       ]
      },
      {
       "output_type": "stream",
       "stream": "stdout",
       "text": [
        "\n",
        "30.33 -90.12 0.0 0.0\n",
        "http://mesonet.agron.iastate.edu/json/radar?operation=available&lat=30.33&lon=-90.12&start=2012-08-29T22:55Z\n",
        "http://mesonet.agron.iastate.edu/json/radar?operation=list&radar=LIX&product=N0Q&start=2012-08-29T22:55Z&end=2012-08-29T23:05Z"
       ]
      },
      {
       "output_type": "stream",
       "stream": "stdout",
       "text": [
        "\n",
        "2255 RADAR: LIX RADAR TIME: 2256"
       ]
      },
      {
       "output_type": "stream",
       "stream": "stdout",
       "text": [
        "\n",
        "30.3408333333 -90.1275574713 3.61111111111e-05 -2.51915708812e-05\n",
        "http://mesonet.agron.iastate.edu/json/radar?operation=available&lat=30.3408333333&lon=-90.1275574713&start=2012-08-29T23:00Z\n",
        "http://mesonet.agron.iastate.edu/json/radar?operation=list&radar=LIX&product=N0Q&start=2012-08-29T23:00Z&end=2012-08-29T23:10Z"
       ]
      },
      {
       "output_type": "stream",
       "stream": "stdout",
       "text": [
        "\n",
        "2300 RADAR: LIX RADAR TIME: 2301"
       ]
      },
      {
       "output_type": "stream",
       "stream": "stdout",
       "text": [
        "\n",
        "30.3516666667 -90.1351149425 3.61111111111e-05 -2.51915708812e-05\n",
        "http://mesonet.agron.iastate.edu/json/radar?operation=available&lat=30.3516666667&lon=-90.1351149425&start=2012-08-29T23:05Z\n",
        "http://mesonet.agron.iastate.edu/json/radar?operation=list&radar=LIX&product=N0Q&start=2012-08-29T23:05Z&end=2012-08-29T23:15Z"
       ]
      },
      {
       "output_type": "stream",
       "stream": "stdout",
       "text": [
        "\n",
        "2305 RADAR: LIX RADAR TIME: 2306"
       ]
      },
      {
       "output_type": "stream",
       "stream": "stdout",
       "text": [
        "\n",
        "30.3625 -90.1426724138 3.61111111111e-05 -2.51915708812e-05\n",
        "http://mesonet.agron.iastate.edu/json/radar?operation=available&lat=30.3625&lon=-90.1426724138&start=2012-08-29T23:10Z\n",
        "http://mesonet.agron.iastate.edu/json/radar?operation=list&radar=LIX&product=N0Q&start=2012-08-29T23:10Z&end=2012-08-29T23:20Z"
       ]
      },
      {
       "output_type": "stream",
       "stream": "stdout",
       "text": [
        "\n",
        "2310 RADAR: LIX RADAR TIME: 2312"
       ]
      },
      {
       "output_type": "stream",
       "stream": "stdout",
       "text": [
        "\n",
        "30.3733333333 -90.1502298851 3.61111111111e-05 -2.51915708812e-05\n",
        "http://mesonet.agron.iastate.edu/json/radar?operation=available&lat=30.3733333333&lon=-90.1502298851&start=2012-08-29T23:15Z\n",
        "http://mesonet.agron.iastate.edu/json/radar?operation=list&radar=LIX&product=N0Q&start=2012-08-29T23:15Z&end=2012-08-29T23:25Z"
       ]
      },
      {
       "output_type": "stream",
       "stream": "stdout",
       "text": [
        "\n",
        "2315 RADAR: LIX RADAR TIME: 2317"
       ]
      },
      {
       "output_type": "stream",
       "stream": "stdout",
       "text": [
        "\n",
        "30.3841666667 -90.1577873563 3.61111111111e-05 -2.51915708812e-05\n",
        "http://mesonet.agron.iastate.edu/json/radar?operation=available&lat=30.3841666667&lon=-90.1577873563&start=2012-08-29T23:20Z\n",
        "http://mesonet.agron.iastate.edu/json/radar?operation=list&radar=LIX&product=N0Q&start=2012-08-29T23:20Z&end=2012-08-29T23:30Z"
       ]
      },
      {
       "output_type": "stream",
       "stream": "stdout",
       "text": [
        "\n",
        "2320 RADAR: LIX RADAR TIME: 2322"
       ]
      },
      {
       "output_type": "stream",
       "stream": "stdout",
       "text": [
        "\n",
        "30.395 -90.1653448276 3.61111111111e-05 -2.51915708812e-05\n",
        "http://mesonet.agron.iastate.edu/json/radar?operation=available&lat=30.395&lon=-90.1653448276&start=2012-08-29T23:25Z\n",
        "http://mesonet.agron.iastate.edu/json/radar?operation=list&radar=LIX&product=N0Q&start=2012-08-29T23:25Z&end=2012-08-29T23:35Z"
       ]
      },
      {
       "output_type": "stream",
       "stream": "stdout",
       "text": [
        "\n",
        "2325 RADAR: LIX RADAR TIME: 2328"
       ]
      },
      {
       "output_type": "stream",
       "stream": "stdout",
       "text": [
        "\n",
        "30.4058333333 -90.1729022989 3.61111111111e-05 -2.51915708812e-05\n",
        "http://mesonet.agron.iastate.edu/json/radar?operation=available&lat=30.4058333333&lon=-90.1729022989&start=2012-08-29T23:30Z\n",
        "http://mesonet.agron.iastate.edu/json/radar?operation=list&radar=LIX&product=N0Q&start=2012-08-29T23:30Z&end=2012-08-29T23:40Z"
       ]
      },
      {
       "output_type": "stream",
       "stream": "stdout",
       "text": [
        "\n",
        "2330 RADAR: LIX RADAR TIME: 2333"
       ]
      },
      {
       "output_type": "stream",
       "stream": "stdout",
       "text": [
        "\n",
        "30.4166666667 -90.1804597701 3.61111111111e-05 -2.51915708812e-05\n",
        "http://mesonet.agron.iastate.edu/json/radar?operation=available&lat=30.4166666667&lon=-90.1804597701&start=2012-08-29T23:35Z\n",
        "http://mesonet.agron.iastate.edu/json/radar?operation=list&radar=LIX&product=N0Q&start=2012-08-29T23:35Z&end=2012-08-29T23:45Z"
       ]
      },
      {
       "output_type": "stream",
       "stream": "stdout",
       "text": [
        "\n",
        "2335 RADAR: LIX RADAR TIME: 2339"
       ]
      },
      {
       "output_type": "stream",
       "stream": "stdout",
       "text": [
        "\n",
        "30.4275 -90.1880172414 3.61111111111e-05 -2.51915708812e-05\n",
        "http://mesonet.agron.iastate.edu/json/radar?operation=available&lat=30.4275&lon=-90.1880172414&start=2012-08-29T23:40Z\n",
        "http://mesonet.agron.iastate.edu/json/radar?operation=list&radar=LIX&product=N0Q&start=2012-08-29T23:40Z&end=2012-08-29T23:50Z"
       ]
      },
      {
       "output_type": "stream",
       "stream": "stdout",
       "text": [
        "\n",
        "2340 RADAR: LIX RADAR TIME: 2344"
       ]
      },
      {
       "output_type": "stream",
       "stream": "stdout",
       "text": [
        "\n",
        "30.4383333333 -90.1955747126 3.61111111111e-05 -2.51915708812e-05\n",
        "http://mesonet.agron.iastate.edu/json/radar?operation=available&lat=30.4383333333&lon=-90.1955747126&start=2012-08-29T23:45Z\n",
        "http://mesonet.agron.iastate.edu/json/radar?operation=list&radar=LIX&product=N0Q&start=2012-08-29T23:45Z&end=2012-08-29T23:55Z"
       ]
      },
      {
       "output_type": "stream",
       "stream": "stdout",
       "text": [
        "\n",
        "2345 RADAR: LIX RADAR TIME: 2349"
       ]
      },
      {
       "output_type": "stream",
       "stream": "stdout",
       "text": [
        "\n",
        "30.4491666667 -90.2031321839 3.61111111111e-05 -2.51915708812e-05\n",
        "http://mesonet.agron.iastate.edu/json/radar?operation=available&lat=30.4491666667&lon=-90.2031321839&start=2012-08-29T23:50Z\n",
        "http://mesonet.agron.iastate.edu/json/radar?operation=list&radar=LIX&product=N0Q&start=2012-08-29T23:50Z&end=2012-08-30T00:00Z"
       ]
      },
      {
       "output_type": "stream",
       "stream": "stdout",
       "text": [
        "\n",
        "2350 RADAR: LIX RADAR TIME: 2355"
       ]
      },
      {
       "output_type": "stream",
       "stream": "stdout",
       "text": [
        "\n",
        "30.46 -90.2106896552 3.61111111111e-05 -2.51915708812e-05\n",
        "http://mesonet.agron.iastate.edu/json/radar?operation=available&lat=30.46&lon=-90.2106896552&start=2012-08-29T23:55Z\n",
        "http://mesonet.agron.iastate.edu/json/radar?operation=list&radar=LIX&product=N0Q&start=2012-08-29T23:55Z&end=2012-08-30T00:05Z"
       ]
      },
      {
       "output_type": "stream",
       "stream": "stdout",
       "text": [
        "\n",
        "2355 RADAR: LIX RADAR TIME: 2355"
       ]
      },
      {
       "output_type": "stream",
       "stream": "stdout",
       "text": [
        "\n",
        "30.4708333333 -90.2182471264 3.61111111111e-05 -2.51915708812e-05\n",
        "http://mesonet.agron.iastate.edu/json/radar?operation=available&lat=30.4708333333&lon=-90.2182471264&start=2012-08-30T00:00Z\n",
        "http://mesonet.agron.iastate.edu/json/radar?operation=list&radar=LIX&product=N0Q&start=2012-08-30T00:00Z&end=2012-08-30T00:10Z"
       ]
      },
      {
       "output_type": "stream",
       "stream": "stdout",
       "text": [
        "\n",
        "0000 RADAR: LIX RADAR TIME: 0000"
       ]
      },
      {
       "output_type": "stream",
       "stream": "stdout",
       "text": [
        "\n",
        "30.4816666667 -90.2258045977 3.61111111111e-05 -2.51915708812e-05\n",
        "http://mesonet.agron.iastate.edu/json/radar?operation=available&lat=30.4816666667&lon=-90.2258045977&start=2012-08-30T00:05Z\n",
        "http://mesonet.agron.iastate.edu/json/radar?operation=list&radar=LIX&product=N0Q&start=2012-08-30T00:05Z&end=2012-08-30T00:15Z"
       ]
      },
      {
       "output_type": "stream",
       "stream": "stdout",
       "text": [
        "\n",
        "0005 RADAR: LIX RADAR TIME: 0005"
       ]
      },
      {
       "output_type": "stream",
       "stream": "stdout",
       "text": [
        "\n",
        "30.4925 -90.233362069 3.61111111111e-05 -2.51915708812e-05\n",
        "http://mesonet.agron.iastate.edu/json/radar?operation=available&lat=30.4925&lon=-90.233362069&start=2012-08-30T00:10Z\n",
        "http://mesonet.agron.iastate.edu/json/radar?operation=list&radar=LIX&product=N0Q&start=2012-08-30T00:10Z&end=2012-08-30T00:20Z"
       ]
      },
      {
       "output_type": "stream",
       "stream": "stdout",
       "text": [
        "\n",
        "0010 RADAR: LIX RADAR TIME: 0011"
       ]
      },
      {
       "output_type": "stream",
       "stream": "stdout",
       "text": [
        "\n",
        "30.5033333333 -90.2409195402 3.61111111111e-05 -2.51915708812e-05\n",
        "http://mesonet.agron.iastate.edu/json/radar?operation=available&lat=30.5033333333&lon=-90.2409195402&start=2012-08-30T00:15Z\n",
        "http://mesonet.agron.iastate.edu/json/radar?operation=list&radar=LIX&product=N0Q&start=2012-08-30T00:15Z&end=2012-08-30T00:25Z"
       ]
      },
      {
       "output_type": "stream",
       "stream": "stdout",
       "text": [
        "\n",
        "0015 RADAR: LIX RADAR TIME: 0016"
       ]
      },
      {
       "output_type": "stream",
       "stream": "stdout",
       "text": [
        "\n",
        "30.5141666667 -90.2484770115 3.61111111111e-05 -2.51915708812e-05\n",
        "http://mesonet.agron.iastate.edu/json/radar?operation=available&lat=30.5141666667&lon=-90.2484770115&start=2012-08-30T00:20Z\n",
        "http://mesonet.agron.iastate.edu/json/radar?operation=list&radar=LIX&product=N0Q&start=2012-08-30T00:20Z&end=2012-08-30T00:30Z"
       ]
      },
      {
       "output_type": "stream",
       "stream": "stdout",
       "text": [
        "\n",
        "0020 RADAR: LIX RADAR TIME: 0021"
       ]
      },
      {
       "output_type": "stream",
       "stream": "stdout",
       "text": [
        "\n",
        "30.525 -90.2560344828 3.61111111111e-05 -2.51915708812e-05\n",
        "http://mesonet.agron.iastate.edu/json/radar?operation=available&lat=30.525&lon=-90.2560344828&start=2012-08-30T00:25Z\n",
        "http://mesonet.agron.iastate.edu/json/radar?operation=list&radar=LIX&product=N0Q&start=2012-08-30T00:25Z&end=2012-08-30T00:35Z"
       ]
      },
      {
       "output_type": "stream",
       "stream": "stdout",
       "text": [
        "\n",
        "0025 RADAR: LIX RADAR TIME: 0027"
       ]
      },
      {
       "output_type": "stream",
       "stream": "stdout",
       "text": [
        "\n",
        "30.5358333333 -90.263591954 3.61111111111e-05 -2.51915708812e-05\n",
        "http://mesonet.agron.iastate.edu/json/radar?operation=available&lat=30.5358333333&lon=-90.263591954&start=2012-08-30T00:30Z\n",
        "http://mesonet.agron.iastate.edu/json/radar?operation=list&radar=LIX&product=N0Q&start=2012-08-30T00:30Z&end=2012-08-30T00:40Z"
       ]
      },
      {
       "output_type": "stream",
       "stream": "stdout",
       "text": [
        "\n",
        "0030 RADAR: LIX RADAR TIME: 0032"
       ]
      },
      {
       "output_type": "stream",
       "stream": "stdout",
       "text": [
        "\n",
        "30.5466666667 -90.2711494253 3.61111111111e-05 -2.51915708812e-05\n",
        "http://mesonet.agron.iastate.edu/json/radar?operation=available&lat=30.5466666667&lon=-90.2711494253&start=2012-08-30T00:35Z\n",
        "http://mesonet.agron.iastate.edu/json/radar?operation=list&radar=LIX&product=N0Q&start=2012-08-30T00:35Z&end=2012-08-30T00:45Z"
       ]
      },
      {
       "output_type": "stream",
       "stream": "stdout",
       "text": [
        "\n",
        "0035 RADAR: LIX RADAR TIME: 0037"
       ]
      },
      {
       "output_type": "stream",
       "stream": "stdout",
       "text": [
        "\n",
        "30.5575 -90.2787068966 3.61111111111e-05 -2.51915708812e-05\n",
        "http://mesonet.agron.iastate.edu/json/radar?operation=available&lat=30.5575&lon=-90.2787068966&start=2012-08-30T00:40Z\n",
        "http://mesonet.agron.iastate.edu/json/radar?operation=list&radar=LIX&product=N0Q&start=2012-08-30T00:40Z&end=2012-08-30T00:50Z"
       ]
      },
      {
       "output_type": "stream",
       "stream": "stdout",
       "text": [
        "\n",
        "0040 RADAR: LIX RADAR TIME: 0043"
       ]
      },
      {
       "output_type": "stream",
       "stream": "stdout",
       "text": [
        "\n",
        "30.5683333333 -90.2862643678 3.61111111111e-05 -2.51915708812e-05\n",
        "http://mesonet.agron.iastate.edu/json/radar?operation=available&lat=30.5683333333&lon=-90.2862643678&start=2012-08-30T00:45Z\n",
        "http://mesonet.agron.iastate.edu/json/radar?operation=list&radar=LIX&product=N0Q&start=2012-08-30T00:45Z&end=2012-08-30T00:55Z"
       ]
      },
      {
       "output_type": "stream",
       "stream": "stdout",
       "text": [
        "\n",
        "0045 RADAR: LIX RADAR TIME: 0048"
       ]
      },
      {
       "output_type": "stream",
       "stream": "stdout",
       "text": [
        "\n",
        "30.5791666667 -90.2938218391 3.61111111111e-05 -2.51915708812e-05\n",
        "http://mesonet.agron.iastate.edu/json/radar?operation=available&lat=30.5791666667&lon=-90.2938218391&start=2012-08-30T00:50Z\n",
        "http://mesonet.agron.iastate.edu/json/radar?operation=list&radar=LIX&product=N0Q&start=2012-08-30T00:50Z&end=2012-08-30T01:00Z"
       ]
      },
      {
       "output_type": "stream",
       "stream": "stdout",
       "text": [
        "\n",
        "0050 RADAR: LIX RADAR TIME: 0054"
       ]
      },
      {
       "output_type": "stream",
       "stream": "stdout",
       "text": [
        "\n",
        "30.59 -90.3013793103 3.61111111111e-05 -2.51915708812e-05\n",
        "http://mesonet.agron.iastate.edu/json/radar?operation=available&lat=30.59&lon=-90.3013793103&start=2012-08-30T00:55Z\n",
        "http://mesonet.agron.iastate.edu/json/radar?operation=list&radar=LIX&product=N0Q&start=2012-08-30T00:55Z&end=2012-08-30T01:05Z"
       ]
      },
      {
       "output_type": "stream",
       "stream": "stdout",
       "text": [
        "\n",
        "0055 RADAR: LIX RADAR TIME: 0059"
       ]
      },
      {
       "output_type": "stream",
       "stream": "stdout",
       "text": [
        "\n",
        "30.6008333333 -90.3089367816 3.61111111111e-05 -2.51915708812e-05\n",
        "http://mesonet.agron.iastate.edu/json/radar?operation=available&lat=30.6008333333&lon=-90.3089367816&start=2012-08-30T01:00Z\n",
        "http://mesonet.agron.iastate.edu/json/radar?operation=list&radar=LIX&product=N0Q&start=2012-08-30T01:00Z&end=2012-08-30T01:10Z"
       ]
      },
      {
       "output_type": "stream",
       "stream": "stdout",
       "text": [
        "\n",
        "0100 RADAR: LIX RADAR TIME: 0104"
       ]
      },
      {
       "output_type": "stream",
       "stream": "stdout",
       "text": [
        "\n",
        "30.6116666667 -90.3164942529 3.61111111111e-05 -2.51915708812e-05\n",
        "http://mesonet.agron.iastate.edu/json/radar?operation=available&lat=30.6116666667&lon=-90.3164942529&start=2012-08-30T01:05Z\n",
        "http://mesonet.agron.iastate.edu/json/radar?operation=list&radar=LIX&product=N0Q&start=2012-08-30T01:05Z&end=2012-08-30T01:15Z"
       ]
      },
      {
       "output_type": "stream",
       "stream": "stdout",
       "text": [
        "\n",
        "0105 RADAR: LIX RADAR TIME: 0110"
       ]
      },
      {
       "output_type": "stream",
       "stream": "stdout",
       "text": [
        "\n",
        "30.6225 -90.3240517241 3.61111111111e-05 -2.51915708812e-05\n",
        "http://mesonet.agron.iastate.edu/json/radar?operation=available&lat=30.6225&lon=-90.3240517241&start=2012-08-30T01:10Z\n",
        "http://mesonet.agron.iastate.edu/json/radar?operation=list&radar=LIX&product=N0Q&start=2012-08-30T01:10Z&end=2012-08-30T01:20Z"
       ]
      },
      {
       "output_type": "stream",
       "stream": "stdout",
       "text": [
        "\n",
        "0110 RADAR: LIX RADAR TIME: 0110"
       ]
      },
      {
       "output_type": "stream",
       "stream": "stdout",
       "text": [
        "\n",
        "30.6333333333 -90.3316091954 3.61111111111e-05 -2.51915708812e-05\n",
        "http://mesonet.agron.iastate.edu/json/radar?operation=available&lat=30.6333333333&lon=-90.3316091954&start=2012-08-30T01:15Z\n",
        "http://mesonet.agron.iastate.edu/json/radar?operation=list&radar=LIX&product=N0Q&start=2012-08-30T01:15Z&end=2012-08-30T01:25Z"
       ]
      },
      {
       "output_type": "stream",
       "stream": "stdout",
       "text": [
        "\n",
        "0115 RADAR: LIX RADAR TIME: 0115"
       ]
      },
      {
       "output_type": "stream",
       "stream": "stdout",
       "text": [
        "\n",
        "30.6441666667 -90.3391666667 3.61111111111e-05 -2.51915708812e-05\n",
        "http://mesonet.agron.iastate.edu/json/radar?operation=available&lat=30.6441666667&lon=-90.3391666667&start=2012-08-30T01:20Z\n",
        "http://mesonet.agron.iastate.edu/json/radar?operation=list&radar=LIX&product=N0Q&start=2012-08-30T01:20Z&end=2012-08-30T01:30Z"
       ]
      },
      {
       "output_type": "stream",
       "stream": "stdout",
       "text": [
        "\n",
        "0120 RADAR: LIX RADAR TIME: 0120"
       ]
      },
      {
       "output_type": "stream",
       "stream": "stdout",
       "text": [
        "\n",
        "30.655 -90.3467241379 3.61111111111e-05 -2.51915708812e-05\n",
        "http://mesonet.agron.iastate.edu/json/radar?operation=available&lat=30.655&lon=-90.3467241379&start=2012-08-30T01:25Z\n",
        "http://mesonet.agron.iastate.edu/json/radar?operation=list&radar=LIX&product=N0Q&start=2012-08-30T01:25Z&end=2012-08-30T01:35Z"
       ]
      },
      {
       "output_type": "stream",
       "stream": "stdout",
       "text": [
        "\n",
        "0125 RADAR: LIX RADAR TIME: 0126"
       ]
      },
      {
       "output_type": "stream",
       "stream": "stdout",
       "text": [
        "\n",
        "30.6658333333 -90.3542816092 3.61111111111e-05 -2.51915708812e-05\n",
        "http://mesonet.agron.iastate.edu/json/radar?operation=available&lat=30.6658333333&lon=-90.3542816092&start=2012-08-30T01:30Z\n",
        "http://mesonet.agron.iastate.edu/json/radar?operation=list&radar=LIX&product=N0Q&start=2012-08-30T01:30Z&end=2012-08-30T01:40Z"
       ]
      },
      {
       "output_type": "stream",
       "stream": "stdout",
       "text": [
        "\n",
        "0130 RADAR: LIX RADAR TIME: 0131"
       ]
      },
      {
       "output_type": "stream",
       "stream": "stdout",
       "text": [
        "\n",
        "30.6766666667 -90.3618390805 3.61111111111e-05 -2.51915708812e-05\n",
        "http://mesonet.agron.iastate.edu/json/radar?operation=available&lat=30.6766666667&lon=-90.3618390805&start=2012-08-30T01:35Z\n",
        "http://mesonet.agron.iastate.edu/json/radar?operation=list&radar=LIX&product=N0Q&start=2012-08-30T01:35Z&end=2012-08-30T01:45Z"
       ]
      },
      {
       "output_type": "stream",
       "stream": "stdout",
       "text": [
        "\n",
        "0135 RADAR: LIX RADAR TIME: 0136"
       ]
      },
      {
       "output_type": "stream",
       "stream": "stdout",
       "text": [
        "\n",
        "30.6875 -90.3693965517 3.61111111111e-05 -2.51915708812e-05\n",
        "http://mesonet.agron.iastate.edu/json/radar?operation=available&lat=30.6875&lon=-90.3693965517&start=2012-08-30T01:40Z\n",
        "http://mesonet.agron.iastate.edu/json/radar?operation=list&radar=LIX&product=N0Q&start=2012-08-30T01:40Z&end=2012-08-30T01:50Z"
       ]
      },
      {
       "output_type": "stream",
       "stream": "stdout",
       "text": [
        "\n",
        "0140 RADAR: LIX RADAR TIME: 0142"
       ]
      },
      {
       "output_type": "stream",
       "stream": "stdout",
       "text": [
        "\n",
        "30.6983333333 -90.376954023 3.61111111111e-05 -2.51915708812e-05\n",
        "http://mesonet.agron.iastate.edu/json/radar?operation=available&lat=30.6983333333&lon=-90.376954023&start=2012-08-30T01:45Z\n",
        "http://mesonet.agron.iastate.edu/json/radar?operation=list&radar=LIX&product=N0Q&start=2012-08-30T01:45Z&end=2012-08-30T01:55Z"
       ]
      },
      {
       "output_type": "stream",
       "stream": "stdout",
       "text": [
        "\n",
        "0145 RADAR: LIX RADAR TIME: 0147"
       ]
      },
      {
       "output_type": "stream",
       "stream": "stdout",
       "text": [
        "\n",
        "30.7091666667 -90.3845114943 3.61111111111e-05 -2.51915708812e-05\n",
        "http://mesonet.agron.iastate.edu/json/radar?operation=available&lat=30.7091666667&lon=-90.3845114943&start=2012-08-30T01:50Z\n",
        "http://mesonet.agron.iastate.edu/json/radar?operation=list&radar=LIX&product=N0Q&start=2012-08-30T01:50Z&end=2012-08-30T02:00Z"
       ]
      },
      {
       "output_type": "stream",
       "stream": "stdout",
       "text": [
        "\n",
        "0150 RADAR: LIX RADAR TIME: 0152"
       ]
      },
      {
       "output_type": "stream",
       "stream": "stdout",
       "text": [
        "\n",
        "30.72 -90.3920689655 3.61111111111e-05 -2.51915708812e-05\n",
        "http://mesonet.agron.iastate.edu/json/radar?operation=available&lat=30.72&lon=-90.3920689655&start=2012-08-30T01:55Z\n",
        "http://mesonet.agron.iastate.edu/json/radar?operation=list&radar=LIX&product=N0Q&start=2012-08-30T01:55Z&end=2012-08-30T02:05Z"
       ]
      },
      {
       "output_type": "stream",
       "stream": "stdout",
       "text": [
        "\n",
        "0155 RADAR: LIX RADAR TIME: 0158"
       ]
      },
      {
       "output_type": "stream",
       "stream": "stdout",
       "text": [
        "\n",
        "30.7308333333 -90.3996264368 3.61111111111e-05 -2.51915708812e-05\n",
        "http://mesonet.agron.iastate.edu/json/radar?operation=available&lat=30.7308333333&lon=-90.3996264368&start=2012-08-30T02:00Z\n",
        "http://mesonet.agron.iastate.edu/json/radar?operation=list&radar=LIX&product=N0Q&start=2012-08-30T02:00Z&end=2012-08-30T02:10Z"
       ]
      },
      {
       "output_type": "stream",
       "stream": "stdout",
       "text": [
        "\n",
        "0200 RADAR: LIX RADAR TIME: 0203"
       ]
      },
      {
       "output_type": "stream",
       "stream": "stdout",
       "text": [
        "\n",
        "30.7416666667 -90.407183908 3.61111111111e-05 -2.51915708812e-05\n",
        "http://mesonet.agron.iastate.edu/json/radar?operation=available&lat=30.7416666667&lon=-90.407183908&start=2012-08-30T02:05Z\n",
        "http://mesonet.agron.iastate.edu/json/radar?operation=list&radar=LIX&product=N0Q&start=2012-08-30T02:05Z&end=2012-08-30T02:15Z"
       ]
      },
      {
       "output_type": "stream",
       "stream": "stdout",
       "text": [
        "\n",
        "0205 RADAR: LIX RADAR TIME: 0209"
       ]
      },
      {
       "output_type": "stream",
       "stream": "stdout",
       "text": [
        "\n",
        "30.7525 -90.4147413793 3.61111111111e-05 -2.51915708812e-05\n",
        "http://mesonet.agron.iastate.edu/json/radar?operation=available&lat=30.7525&lon=-90.4147413793&start=2012-08-30T02:10Z\n",
        "http://mesonet.agron.iastate.edu/json/radar?operation=list&radar=LIX&product=N0Q&start=2012-08-30T02:10Z&end=2012-08-30T02:20Z"
       ]
      },
      {
       "output_type": "stream",
       "stream": "stdout",
       "text": [
        "\n",
        "0210 RADAR: LIX RADAR TIME: 0214"
       ]
      },
      {
       "output_type": "stream",
       "stream": "stdout",
       "text": [
        "\n",
        "30.7633333333 -90.4222988506 3.61111111111e-05 -2.51915708812e-05\n",
        "http://mesonet.agron.iastate.edu/json/radar?operation=available&lat=30.7633333333&lon=-90.4222988506&start=2012-08-30T02:15Z\n",
        "http://mesonet.agron.iastate.edu/json/radar?operation=list&radar=LIX&product=N0Q&start=2012-08-30T02:15Z&end=2012-08-30T02:25Z"
       ]
      },
      {
       "output_type": "stream",
       "stream": "stdout",
       "text": [
        "\n",
        "0215 RADAR: LIX RADAR TIME: 0219"
       ]
      },
      {
       "output_type": "stream",
       "stream": "stdout",
       "text": [
        "\n",
        "30.7741666667 -90.4298563218 3.61111111111e-05 -2.51915708812e-05\n",
        "http://mesonet.agron.iastate.edu/json/radar?operation=available&lat=30.7741666667&lon=-90.4298563218&start=2012-08-30T02:20Z\n",
        "http://mesonet.agron.iastate.edu/json/radar?operation=list&radar=LIX&product=N0Q&start=2012-08-30T02:20Z&end=2012-08-30T02:30Z"
       ]
      },
      {
       "output_type": "stream",
       "stream": "stdout",
       "text": [
        "\n",
        "0220 RADAR: LIX RADAR TIME: 0225"
       ]
      },
      {
       "output_type": "stream",
       "stream": "stdout",
       "text": [
        "\n",
        "30.785 -90.4374137931 3.61111111111e-05 -2.51915708812e-05\n",
        "http://mesonet.agron.iastate.edu/json/radar?operation=available&lat=30.785&lon=-90.4374137931&start=2012-08-30T02:25Z\n",
        "http://mesonet.agron.iastate.edu/json/radar?operation=list&radar=LIX&product=N0Q&start=2012-08-30T02:25Z&end=2012-08-30T02:35Z"
       ]
      },
      {
       "output_type": "stream",
       "stream": "stdout",
       "text": [
        "\n",
        "0225 RADAR: LIX RADAR TIME: 0225"
       ]
      },
      {
       "output_type": "stream",
       "stream": "stdout",
       "text": [
        "\n",
        "30.7958333333 -90.4449712644 3.61111111111e-05 -2.51915708812e-05\n",
        "http://mesonet.agron.iastate.edu/json/radar?operation=available&lat=30.7958333333&lon=-90.4449712644&start=2012-08-30T02:30Z\n",
        "http://mesonet.agron.iastate.edu/json/radar?operation=list&radar=LIX&product=N0Q&start=2012-08-30T02:30Z&end=2012-08-30T02:40Z"
       ]
      },
      {
       "output_type": "stream",
       "stream": "stdout",
       "text": [
        "\n",
        "0230 RADAR: LIX RADAR TIME: 0230"
       ]
      },
      {
       "output_type": "stream",
       "stream": "stdout",
       "text": [
        "\n",
        "30.8066666667 -90.4525287356 3.61111111111e-05 -2.51915708812e-05\n",
        "http://mesonet.agron.iastate.edu/json/radar?operation=available&lat=30.8066666667&lon=-90.4525287356&start=2012-08-30T02:35Z\n",
        "http://mesonet.agron.iastate.edu/json/radar?operation=list&radar=LIX&product=N0Q&start=2012-08-30T02:35Z&end=2012-08-30T02:45Z"
       ]
      },
      {
       "output_type": "stream",
       "stream": "stdout",
       "text": [
        "\n",
        "0235 RADAR: LIX RADAR TIME: 0235"
       ]
      },
      {
       "output_type": "stream",
       "stream": "stdout",
       "text": [
        "\n",
        "30.8175 -90.4600862069 3.61111111111e-05 -2.51915708812e-05\n",
        "http://mesonet.agron.iastate.edu/json/radar?operation=available&lat=30.8175&lon=-90.4600862069&start=2012-08-30T02:40Z\n",
        "http://mesonet.agron.iastate.edu/json/radar?operation=list&radar=LIX&product=N0Q&start=2012-08-30T02:40Z&end=2012-08-30T02:50Z"
       ]
      },
      {
       "output_type": "stream",
       "stream": "stdout",
       "text": [
        "\n",
        "0240 RADAR: LIX RADAR TIME: 0241"
       ]
      },
      {
       "output_type": "stream",
       "stream": "stdout",
       "text": [
        "\n",
        "30.8283333333 -90.4676436782 3.61111111111e-05 -2.51915708812e-05\n",
        "http://mesonet.agron.iastate.edu/json/radar?operation=available&lat=30.8283333333&lon=-90.4676436782&start=2012-08-30T02:45Z\n",
        "http://mesonet.agron.iastate.edu/json/radar?operation=list&radar=LIX&product=N0Q&start=2012-08-30T02:45Z&end=2012-08-30T02:55Z"
       ]
      },
      {
       "output_type": "stream",
       "stream": "stdout",
       "text": [
        "\n",
        "0245 RADAR: LIX RADAR TIME: 0246"
       ]
      },
      {
       "output_type": "stream",
       "stream": "stdout",
       "text": [
        "\n",
        "30.8391666667 -90.4752011494 3.61111111111e-05 -2.51915708812e-05\n",
        "http://mesonet.agron.iastate.edu/json/radar?operation=available&lat=30.8391666667&lon=-90.4752011494&start=2012-08-30T02:50Z\n",
        "http://mesonet.agron.iastate.edu/json/radar?operation=list&radar=LIX&product=N0Q&start=2012-08-30T02:50Z&end=2012-08-30T03:00Z"
       ]
      },
      {
       "output_type": "stream",
       "stream": "stdout",
       "text": [
        "\n",
        "0250 RADAR: LIX RADAR TIME: 0251"
       ]
      },
      {
       "output_type": "stream",
       "stream": "stdout",
       "text": [
        "\n",
        "30.85 -90.4827586207 3.61111111111e-05 -2.51915708812e-05\n",
        "http://mesonet.agron.iastate.edu/json/radar?operation=available&lat=30.85&lon=-90.4827586207&start=2012-08-30T02:55Z\n",
        "http://mesonet.agron.iastate.edu/json/radar?operation=list&radar=LIX&product=N0Q&start=2012-08-30T02:55Z&end=2012-08-30T03:05Z"
       ]
      },
      {
       "output_type": "stream",
       "stream": "stdout",
       "text": [
        "\n",
        "0255 RADAR: LIX RADAR TIME: 0257"
       ]
      },
      {
       "output_type": "stream",
       "stream": "stdout",
       "text": [
        "\n",
        "30.8608333333 -90.490316092 3.61111111111e-05 -2.51915708812e-05\n",
        "http://mesonet.agron.iastate.edu/json/radar?operation=available&lat=30.8608333333&lon=-90.490316092&start=2012-08-30T03:00Z\n",
        "http://mesonet.agron.iastate.edu/json/radar?operation=list&radar=LIX&product=N0Q&start=2012-08-30T03:00Z&end=2012-08-30T03:10Z"
       ]
      },
      {
       "output_type": "stream",
       "stream": "stdout",
       "text": [
        "\n",
        "0300 RADAR: LIX RADAR TIME: 0302"
       ]
      },
      {
       "output_type": "stream",
       "stream": "stdout",
       "text": [
        "\n",
        "30.8716666667 -90.4978735632 3.61111111111e-05 -2.51915708812e-05\n",
        "http://mesonet.agron.iastate.edu/json/radar?operation=available&lat=30.8716666667&lon=-90.4978735632&start=2012-08-30T03:05Z\n",
        "http://mesonet.agron.iastate.edu/json/radar?operation=list&radar=LIX&product=N0Q&start=2012-08-30T03:05Z&end=2012-08-30T03:15Z"
       ]
      },
      {
       "output_type": "stream",
       "stream": "stdout",
       "text": [
        "\n",
        "0305 RADAR: LIX RADAR TIME: 0307"
       ]
      },
      {
       "output_type": "stream",
       "stream": "stdout",
       "text": [
        "\n",
        "30.8825 -90.5054310345 3.61111111111e-05 -2.51915708812e-05\n",
        "http://mesonet.agron.iastate.edu/json/radar?operation=available&lat=30.8825&lon=-90.5054310345&start=2012-08-30T03:10Z\n",
        "http://mesonet.agron.iastate.edu/json/radar?operation=list&radar=LIX&product=N0Q&start=2012-08-30T03:10Z&end=2012-08-30T03:20Z"
       ]
      },
      {
       "output_type": "stream",
       "stream": "stdout",
       "text": [
        "\n",
        "0310 RADAR: LIX RADAR TIME: 0313"
       ]
      },
      {
       "output_type": "stream",
       "stream": "stdout",
       "text": [
        "\n",
        "30.8933333333 -90.5129885057 3.61111111111e-05 -2.51915708812e-05\n",
        "http://mesonet.agron.iastate.edu/json/radar?operation=available&lat=30.8933333333&lon=-90.5129885057&start=2012-08-30T03:15Z\n",
        "http://mesonet.agron.iastate.edu/json/radar?operation=list&radar=LIX&product=N0Q&start=2012-08-30T03:15Z&end=2012-08-30T03:25Z"
       ]
      },
      {
       "output_type": "stream",
       "stream": "stdout",
       "text": [
        "\n",
        "0315 RADAR: LIX RADAR TIME: 0318"
       ]
      },
      {
       "output_type": "stream",
       "stream": "stdout",
       "text": [
        "\n",
        "30.9041666667 -90.520545977 3.61111111111e-05 -2.51915708812e-05\n",
        "http://mesonet.agron.iastate.edu/json/radar?operation=available&lat=30.9041666667&lon=-90.520545977&start=2012-08-30T03:20Z\n",
        "http://mesonet.agron.iastate.edu/json/radar?operation=list&radar=LIX&product=N0Q&start=2012-08-30T03:20Z&end=2012-08-30T03:30Z"
       ]
      },
      {
       "output_type": "stream",
       "stream": "stdout",
       "text": [
        "\n",
        "0320 RADAR: LIX RADAR TIME: 0324"
       ]
      },
      {
       "output_type": "stream",
       "stream": "stdout",
       "text": [
        "\n",
        "30.915 -90.5281034483 3.61111111111e-05 -2.51915708812e-05\n",
        "http://mesonet.agron.iastate.edu/json/radar?operation=available&lat=30.915&lon=-90.5281034483&start=2012-08-30T03:25Z\n",
        "http://mesonet.agron.iastate.edu/json/radar?operation=list&radar=LIX&product=N0Q&start=2012-08-30T03:25Z&end=2012-08-30T03:35Z"
       ]
      },
      {
       "output_type": "stream",
       "stream": "stdout",
       "text": [
        "\n",
        "0325 RADAR: LIX RADAR TIME: 0329"
       ]
      },
      {
       "output_type": "stream",
       "stream": "stdout",
       "text": [
        "\n",
        "30.9258333333 -90.5356609195 3.61111111111e-05 -2.51915708812e-05\n",
        "http://mesonet.agron.iastate.edu/json/radar?operation=available&lat=30.9258333333&lon=-90.5356609195&start=2012-08-30T03:30Z\n",
        "http://mesonet.agron.iastate.edu/json/radar?operation=list&radar=LIX&product=N0Q&start=2012-08-30T03:30Z&end=2012-08-30T03:40Z"
       ]
      },
      {
       "output_type": "stream",
       "stream": "stdout",
       "text": [
        "\n",
        "0330 RADAR: LIX RADAR TIME: 0334"
       ]
      },
      {
       "output_type": "stream",
       "stream": "stdout",
       "text": [
        "\n",
        "30.9366666667 -90.5432183908 3.61111111111e-05 -2.51915708812e-05\n",
        "http://mesonet.agron.iastate.edu/json/radar?operation=available&lat=30.9366666667&lon=-90.5432183908&start=2012-08-30T03:35Z\n",
        "http://mesonet.agron.iastate.edu/json/radar?operation=list&radar=LIX&product=N0Q&start=2012-08-30T03:35Z&end=2012-08-30T03:45Z"
       ]
      },
      {
       "output_type": "stream",
       "stream": "stdout",
       "text": [
        "\n",
        "0335 RADAR: LIX RADAR TIME: 0340"
       ]
      },
      {
       "output_type": "stream",
       "stream": "stdout",
       "text": [
        "\n",
        "30.9475 -90.5507758621 3.61111111111e-05 -2.51915708812e-05\n",
        "http://mesonet.agron.iastate.edu/json/radar?operation=available&lat=30.9475&lon=-90.5507758621&start=2012-08-30T03:40Z\n",
        "http://mesonet.agron.iastate.edu/json/radar?operation=list&radar=LIX&product=N0Q&start=2012-08-30T03:40Z&end=2012-08-30T03:50Z"
       ]
      },
      {
       "output_type": "stream",
       "stream": "stdout",
       "text": [
        "\n",
        "0340 RADAR: LIX RADAR TIME: 0340"
       ]
      },
      {
       "output_type": "stream",
       "stream": "stdout",
       "text": [
        "\n",
        "30.9583333333 -90.5583333333 3.61111111111e-05 -2.51915708812e-05\n",
        "http://mesonet.agron.iastate.edu/json/radar?operation=available&lat=30.9583333333&lon=-90.5583333333&start=2012-08-30T03:45Z\n",
        "http://mesonet.agron.iastate.edu/json/radar?operation=list&radar=LIX&product=N0Q&start=2012-08-30T03:45Z&end=2012-08-30T03:55Z"
       ]
      },
      {
       "output_type": "stream",
       "stream": "stdout",
       "text": [
        "\n",
        "0345 RADAR: LIX RADAR TIME: 0345"
       ]
      },
      {
       "output_type": "stream",
       "stream": "stdout",
       "text": [
        "\n",
        "30.9691666667 -90.5658908046 3.61111111111e-05 -2.51915708812e-05\n",
        "http://mesonet.agron.iastate.edu/json/radar?operation=available&lat=30.9691666667&lon=-90.5658908046&start=2012-08-30T03:50Z\n",
        "http://mesonet.agron.iastate.edu/json/radar?operation=list&radar=LIX&product=N0Q&start=2012-08-30T03:50Z&end=2012-08-30T04:00Z"
       ]
      },
      {
       "output_type": "stream",
       "stream": "stdout",
       "text": [
        "\n",
        "0350 RADAR: LIX RADAR TIME: 0350"
       ]
      },
      {
       "output_type": "stream",
       "stream": "stdout",
       "text": [
        "\n",
        "30.98 -90.5734482759 3.61111111111e-05 -2.51915708812e-05\n",
        "http://mesonet.agron.iastate.edu/json/radar?operation=available&lat=30.98&lon=-90.5734482759&start=2012-08-30T03:55Z\n",
        "http://mesonet.agron.iastate.edu/json/radar?operation=list&radar=LIX&product=N0Q&start=2012-08-30T03:55Z&end=2012-08-30T04:05Z"
       ]
      },
      {
       "output_type": "stream",
       "stream": "stdout",
       "text": [
        "\n",
        "0355 RADAR: LIX RADAR TIME: 0356"
       ]
      },
      {
       "output_type": "stream",
       "stream": "stdout",
       "text": [
        "\n",
        "30.9908333333 -90.5810057471 3.61111111111e-05 -2.51915708812e-05\n",
        "http://mesonet.agron.iastate.edu/json/radar?operation=available&lat=30.9908333333&lon=-90.5810057471&start=2012-08-30T04:00Z\n",
        "http://mesonet.agron.iastate.edu/json/radar?operation=list&radar=LIX&product=N0Q&start=2012-08-30T04:00Z&end=2012-08-30T04:10Z"
       ]
      },
      {
       "output_type": "stream",
       "stream": "stdout",
       "text": [
        "\n",
        "0400 RADAR: LIX RADAR TIME: 0401"
       ]
      },
      {
       "output_type": "stream",
       "stream": "stdout",
       "text": [
        "\n",
        "31.0016666667 -90.5885632184 3.61111111111e-05 -2.51915708812e-05\n",
        "http://mesonet.agron.iastate.edu/json/radar?operation=available&lat=31.0016666667&lon=-90.5885632184&start=2012-08-30T04:05Z\n",
        "http://mesonet.agron.iastate.edu/json/radar?operation=list&radar=LIX&product=N0Q&start=2012-08-30T04:05Z&end=2012-08-30T04:15Z"
       ]
      },
      {
       "output_type": "stream",
       "stream": "stdout",
       "text": [
        "\n",
        "0405 RADAR: LIX RADAR TIME: 0406"
       ]
      },
      {
       "output_type": "stream",
       "stream": "stdout",
       "text": [
        "\n",
        "31.0125 -90.5961206897 3.61111111111e-05 -2.51915708812e-05\n",
        "http://mesonet.agron.iastate.edu/json/radar?operation=available&lat=31.0125&lon=-90.5961206897&start=2012-08-30T04:10Z\n",
        "http://mesonet.agron.iastate.edu/json/radar?operation=list&radar=LIX&product=N0Q&start=2012-08-30T04:10Z&end=2012-08-30T04:20Z"
       ]
      },
      {
       "output_type": "stream",
       "stream": "stdout",
       "text": [
        "\n",
        "0410 RADAR: LIX RADAR TIME: 0412"
       ]
      },
      {
       "output_type": "stream",
       "stream": "stdout",
       "text": [
        "\n",
        "31.0233333333 -90.6036781609 3.61111111111e-05 -2.51915708812e-05\n",
        "http://mesonet.agron.iastate.edu/json/radar?operation=available&lat=31.0233333333&lon=-90.6036781609&start=2012-08-30T04:15Z\n",
        "http://mesonet.agron.iastate.edu/json/radar?operation=list&radar=LIX&product=N0Q&start=2012-08-30T04:15Z&end=2012-08-30T04:25Z"
       ]
      },
      {
       "output_type": "stream",
       "stream": "stdout",
       "text": [
        "\n",
        "0415 RADAR: LIX RADAR TIME: 0417"
       ]
      },
      {
       "output_type": "stream",
       "stream": "stdout",
       "text": [
        "\n",
        "31.0341666667 -90.6112356322 3.61111111111e-05 -2.51915708812e-05\n",
        "http://mesonet.agron.iastate.edu/json/radar?operation=available&lat=31.0341666667&lon=-90.6112356322&start=2012-08-30T04:20Z\n",
        "http://mesonet.agron.iastate.edu/json/radar?operation=list&radar=LIX&product=N0Q&start=2012-08-30T04:20Z&end=2012-08-30T04:30Z"
       ]
      },
      {
       "output_type": "stream",
       "stream": "stdout",
       "text": [
        "\n",
        "0420 RADAR: LIX RADAR TIME: 0422"
       ]
      },
      {
       "output_type": "stream",
       "stream": "stdout",
       "text": [
        "\n",
        "31.045 -90.6187931034 3.61111111111e-05 -2.51915708812e-05\n",
        "http://mesonet.agron.iastate.edu/json/radar?operation=available&lat=31.045&lon=-90.6187931034&start=2012-08-30T04:25Z\n",
        "http://mesonet.agron.iastate.edu/json/radar?operation=list&radar=LIX&product=N0Q&start=2012-08-30T04:25Z&end=2012-08-30T04:35Z"
       ]
      },
      {
       "output_type": "stream",
       "stream": "stdout",
       "text": [
        "\n",
        "0425 RADAR: LIX RADAR TIME: 0428"
       ]
      },
      {
       "output_type": "stream",
       "stream": "stdout",
       "text": [
        "\n",
        "31.0558333333 -90.6263505747 3.61111111111e-05 -2.51915708812e-05\n",
        "http://mesonet.agron.iastate.edu/json/radar?operation=available&lat=31.0558333333&lon=-90.6263505747&start=2012-08-30T04:30Z\n",
        "http://mesonet.agron.iastate.edu/json/radar?operation=list&radar=LIX&product=N0Q&start=2012-08-30T04:30Z&end=2012-08-30T04:40Z"
       ]
      },
      {
       "output_type": "stream",
       "stream": "stdout",
       "text": [
        "\n",
        "0430 RADAR: LIX RADAR TIME: 0433"
       ]
      },
      {
       "output_type": "stream",
       "stream": "stdout",
       "text": [
        "\n",
        "31.0666666667 -90.633908046 3.61111111111e-05 -2.51915708812e-05\n",
        "http://mesonet.agron.iastate.edu/json/radar?operation=available&lat=31.0666666667&lon=-90.633908046&start=2012-08-30T04:35Z\n",
        "http://mesonet.agron.iastate.edu/json/radar?operation=list&radar=LIX&product=N0Q&start=2012-08-30T04:35Z&end=2012-08-30T04:45Z"
       ]
      },
      {
       "output_type": "stream",
       "stream": "stdout",
       "text": [
        "\n",
        "0435 RADAR: LIX RADAR TIME: 0439"
       ]
      },
      {
       "output_type": "stream",
       "stream": "stdout",
       "text": [
        "\n",
        "31.0775 -90.6414655172 3.61111111111e-05 -2.51915708812e-05\n",
        "http://mesonet.agron.iastate.edu/json/radar?operation=available&lat=31.0775&lon=-90.6414655172&start=2012-08-30T04:40Z\n",
        "http://mesonet.agron.iastate.edu/json/radar?operation=list&radar=LIX&product=N0Q&start=2012-08-30T04:40Z&end=2012-08-30T04:50Z"
       ]
      },
      {
       "output_type": "stream",
       "stream": "stdout",
       "text": [
        "\n",
        "0440 RADAR: LIX RADAR TIME: 0444"
       ]
      },
      {
       "output_type": "stream",
       "stream": "stdout",
       "text": [
        "\n",
        "31.0883333333 -90.6490229885 3.61111111111e-05 -2.51915708812e-05\n",
        "http://mesonet.agron.iastate.edu/json/radar?operation=available&lat=31.0883333333&lon=-90.6490229885&start=2012-08-30T04:45Z\n",
        "http://mesonet.agron.iastate.edu/json/radar?operation=list&radar=LIX&product=N0Q&start=2012-08-30T04:45Z&end=2012-08-30T04:55Z"
       ]
      },
      {
       "output_type": "stream",
       "stream": "stdout",
       "text": [
        "\n",
        "0445 RADAR: LIX RADAR TIME: 0449"
       ]
      },
      {
       "output_type": "stream",
       "stream": "stdout",
       "text": [
        "\n",
        "31.0991666667 -90.6565804598 3.61111111111e-05 -2.51915708812e-05\n",
        "http://mesonet.agron.iastate.edu/json/radar?operation=available&lat=31.0991666667&lon=-90.6565804598&start=2012-08-30T04:50Z\n",
        "http://mesonet.agron.iastate.edu/json/radar?operation=list&radar=LIX&product=N0Q&start=2012-08-30T04:50Z&end=2012-08-30T05:00Z"
       ]
      },
      {
       "output_type": "stream",
       "stream": "stdout",
       "text": [
        "\n",
        "0450 RADAR: LIX RADAR TIME: 0455"
       ]
      },
      {
       "output_type": "stream",
       "stream": "stdout",
       "text": [
        "\n",
        "31.11 -90.664137931 3.61111111111e-05 -2.51915708812e-05\n",
        "http://mesonet.agron.iastate.edu/json/radar?operation=available&lat=31.11&lon=-90.664137931&start=2012-08-30T04:55Z\n",
        "http://mesonet.agron.iastate.edu/json/radar?operation=list&radar=LIX&product=N0Q&start=2012-08-30T04:55Z&end=2012-08-30T05:05Z"
       ]
      },
      {
       "output_type": "stream",
       "stream": "stdout",
       "text": [
        "\n",
        "0455 RADAR: LIX RADAR TIME: 0455"
       ]
      },
      {
       "output_type": "stream",
       "stream": "stdout",
       "text": [
        "\n",
        "31.1208333333 -90.6716954023 3.61111111111e-05 -2.51915708812e-05\n",
        "http://mesonet.agron.iastate.edu/json/radar?operation=available&lat=31.1208333333&lon=-90.6716954023&start=2012-08-30T05:00Z\n",
        "http://mesonet.agron.iastate.edu/json/radar?operation=list&radar=LIX&product=N0Q&start=2012-08-30T05:00Z&end=2012-08-30T05:10Z"
       ]
      },
      {
       "output_type": "stream",
       "stream": "stdout",
       "text": [
        "\n",
        "0500 RADAR: LIX RADAR TIME: 0500"
       ]
      },
      {
       "output_type": "stream",
       "stream": "stdout",
       "text": [
        "\n",
        "31.1316666667 -90.6792528736 3.61111111111e-05 -2.51915708812e-05\n",
        "http://mesonet.agron.iastate.edu/json/radar?operation=available&lat=31.1316666667&lon=-90.6792528736&start=2012-08-30T05:05Z\n",
        "http://mesonet.agron.iastate.edu/json/radar?operation=list&radar=LIX&product=N0Q&start=2012-08-30T05:05Z&end=2012-08-30T05:15Z"
       ]
      },
      {
       "output_type": "stream",
       "stream": "stdout",
       "text": [
        "\n",
        "0505 RADAR: LIX RADAR TIME: 0505"
       ]
      },
      {
       "output_type": "stream",
       "stream": "stdout",
       "text": [
        "\n",
        "31.1425 -90.6868103448 3.61111111111e-05 -2.51915708812e-05\n",
        "http://mesonet.agron.iastate.edu/json/radar?operation=available&lat=31.1425&lon=-90.6868103448&start=2012-08-30T05:10Z\n",
        "http://mesonet.agron.iastate.edu/json/radar?operation=list&radar=LIX&product=N0Q&start=2012-08-30T05:10Z&end=2012-08-30T05:20Z"
       ]
      },
      {
       "output_type": "stream",
       "stream": "stdout",
       "text": [
        "\n",
        "0510 RADAR: LIX RADAR TIME: 0511"
       ]
      },
      {
       "output_type": "stream",
       "stream": "stdout",
       "text": [
        "\n",
        "31.1533333333 -90.6943678161 3.61111111111e-05 -2.51915708812e-05\n",
        "http://mesonet.agron.iastate.edu/json/radar?operation=available&lat=31.1533333333&lon=-90.6943678161&start=2012-08-30T05:15Z\n",
        "http://mesonet.agron.iastate.edu/json/radar?operation=list&radar=LIX&product=N0Q&start=2012-08-30T05:15Z&end=2012-08-30T05:25Z"
       ]
      },
      {
       "output_type": "stream",
       "stream": "stdout",
       "text": [
        "\n",
        "0515 RADAR: LIX RADAR TIME: 0516"
       ]
      },
      {
       "output_type": "stream",
       "stream": "stdout",
       "text": [
        "\n",
        "31.1641666667 -90.7019252874 3.61111111111e-05 -2.51915708812e-05\n",
        "http://mesonet.agron.iastate.edu/json/radar?operation=available&lat=31.1641666667&lon=-90.7019252874&start=2012-08-30T05:20Z\n",
        "http://mesonet.agron.iastate.edu/json/radar?operation=list&radar=LIX&product=N0Q&start=2012-08-30T05:20Z&end=2012-08-30T05:30Z"
       ]
      },
      {
       "output_type": "stream",
       "stream": "stdout",
       "text": [
        "\n",
        "0520 RADAR: LIX RADAR TIME: 0521"
       ]
      },
      {
       "output_type": "stream",
       "stream": "stdout",
       "text": [
        "\n",
        "31.175 -90.7094827586 3.61111111111e-05 -2.51915708812e-05\n",
        "http://mesonet.agron.iastate.edu/json/radar?operation=available&lat=31.175&lon=-90.7094827586&start=2012-08-30T05:25Z\n",
        "http://mesonet.agron.iastate.edu/json/radar?operation=list&radar=LIX&product=N0Q&start=2012-08-30T05:25Z&end=2012-08-30T05:35Z"
       ]
      },
      {
       "output_type": "stream",
       "stream": "stdout",
       "text": [
        "\n",
        "0525 RADAR: LIX RADAR TIME: 0527"
       ]
      },
      {
       "output_type": "stream",
       "stream": "stdout",
       "text": [
        "\n",
        "31.1858333333 -90.7170402299 3.61111111111e-05 -2.51915708812e-05\n",
        "http://mesonet.agron.iastate.edu/json/radar?operation=available&lat=31.1858333333&lon=-90.7170402299&start=2012-08-30T05:30Z\n",
        "http://mesonet.agron.iastate.edu/json/radar?operation=list&radar=LIX&product=N0Q&start=2012-08-30T05:30Z&end=2012-08-30T05:40Z"
       ]
      },
      {
       "output_type": "stream",
       "stream": "stdout",
       "text": [
        "\n",
        "0530 RADAR: LIX RADAR TIME: 0532"
       ]
      },
      {
       "output_type": "stream",
       "stream": "stdout",
       "text": [
        "\n",
        "31.1966666667 -90.7245977011 3.61111111111e-05 -2.51915708812e-05\n",
        "http://mesonet.agron.iastate.edu/json/radar?operation=available&lat=31.1966666667&lon=-90.7245977011&start=2012-08-30T05:35Z\n",
        "http://mesonet.agron.iastate.edu/json/radar?operation=list&radar=LIX&product=N0Q&start=2012-08-30T05:35Z&end=2012-08-30T05:45Z"
       ]
      },
      {
       "output_type": "stream",
       "stream": "stdout",
       "text": [
        "\n",
        "0535 RADAR: LIX RADAR TIME: 0537"
       ]
      },
      {
       "output_type": "stream",
       "stream": "stdout",
       "text": [
        "\n",
        "31.2075 -90.7321551724 3.61111111111e-05 -2.51915708812e-05\n",
        "http://mesonet.agron.iastate.edu/json/radar?operation=available&lat=31.2075&lon=-90.7321551724&start=2012-08-30T05:40Z\n",
        "http://mesonet.agron.iastate.edu/json/radar?operation=list&radar=LIX&product=N0Q&start=2012-08-30T05:40Z&end=2012-08-30T05:50Z"
       ]
      },
      {
       "output_type": "stream",
       "stream": "stdout",
       "text": [
        "\n",
        "0540 RADAR: LIX RADAR TIME: 0543"
       ]
      },
      {
       "output_type": "stream",
       "stream": "stdout",
       "text": [
        "\n",
        "31.2183333333 -90.7397126437 3.61111111111e-05 -2.51915708812e-05\n",
        "http://mesonet.agron.iastate.edu/json/radar?operation=available&lat=31.2183333333&lon=-90.7397126437&start=2012-08-30T05:45Z\n",
        "http://mesonet.agron.iastate.edu/json/radar?operation=list&radar=LIX&product=N0Q&start=2012-08-30T05:45Z&end=2012-08-30T05:55Z"
       ]
      },
      {
       "output_type": "stream",
       "stream": "stdout",
       "text": [
        "\n",
        "0545 RADAR: LIX RADAR TIME: 0548"
       ]
      },
      {
       "output_type": "stream",
       "stream": "stdout",
       "text": [
        "\n",
        "31.2291666667 -90.7472701149 3.61111111111e-05 -2.51915708812e-05\n",
        "http://mesonet.agron.iastate.edu/json/radar?operation=available&lat=31.2291666667&lon=-90.7472701149&start=2012-08-30T05:50Z\n",
        "http://mesonet.agron.iastate.edu/json/radar?operation=list&radar=LIX&product=N0Q&start=2012-08-30T05:50Z&end=2012-08-30T06:00Z"
       ]
      },
      {
       "output_type": "stream",
       "stream": "stdout",
       "text": [
        "\n",
        "0550 RADAR: LIX RADAR TIME: 0554"
       ]
      },
      {
       "output_type": "stream",
       "stream": "stdout",
       "text": [
        "\n",
        "31.24 -90.7548275862 3.61111111111e-05 -2.51915708812e-05\n",
        "http://mesonet.agron.iastate.edu/json/radar?operation=available&lat=31.24&lon=-90.7548275862&start=2012-08-30T05:55Z\n",
        "http://mesonet.agron.iastate.edu/json/radar?operation=list&radar=DGX&product=N0Q&start=2012-08-30T05:55Z&end=2012-08-30T06:05Z"
       ]
      },
      {
       "output_type": "stream",
       "stream": "stdout",
       "text": [
        "\n",
        "0555 RADAR: DGX RADAR TIME: 0555"
       ]
      },
      {
       "output_type": "stream",
       "stream": "stdout",
       "text": [
        "\n",
        "31.2508333333 -90.7623850575 3.61111111111e-05 -2.51915708812e-05\n",
        "http://mesonet.agron.iastate.edu/json/radar?operation=available&lat=31.2508333333&lon=-90.7623850575&start=2012-08-30T06:00Z\n",
        "http://mesonet.agron.iastate.edu/json/radar?operation=list&radar=DGX&product=N0Q&start=2012-08-30T06:00Z&end=2012-08-30T06:10Z"
       ]
      },
      {
       "output_type": "stream",
       "stream": "stdout",
       "text": [
        "\n",
        "0600 RADAR: DGX RADAR TIME: 0600"
       ]
      },
      {
       "output_type": "stream",
       "stream": "stdout",
       "text": [
        "\n",
        "31.2616666667 -90.7699425287 3.61111111111e-05 -2.51915708812e-05\n",
        "http://mesonet.agron.iastate.edu/json/radar?operation=available&lat=31.2616666667&lon=-90.7699425287&start=2012-08-30T06:05Z\n",
        "http://mesonet.agron.iastate.edu/json/radar?operation=list&radar=DGX&product=N0Q&start=2012-08-30T06:05Z&end=2012-08-30T06:15Z"
       ]
      },
      {
       "output_type": "stream",
       "stream": "stdout",
       "text": [
        "\n",
        "0605 RADAR: DGX RADAR TIME: 0609"
       ]
      },
      {
       "output_type": "stream",
       "stream": "stdout",
       "text": [
        "\n",
        "31.2725 -90.7775 3.61111111111e-05 -2.51915708812e-05\n",
        "http://mesonet.agron.iastate.edu/json/radar?operation=available&lat=31.2725&lon=-90.7775&start=2012-08-30T06:10Z\n",
        "http://mesonet.agron.iastate.edu/json/radar?operation=list&radar=DGX&product=N0Q&start=2012-08-30T06:10Z&end=2012-08-30T06:20Z"
       ]
      },
      {
       "output_type": "stream",
       "stream": "stdout",
       "text": [
        "\n",
        "0610 RADAR: DGX RADAR TIME: 0614"
       ]
      },
      {
       "output_type": "stream",
       "stream": "stdout",
       "text": [
        "\n",
        "31.2833333333 -90.7850574713 3.61111111111e-05 -2.51915708812e-05\n",
        "http://mesonet.agron.iastate.edu/json/radar?operation=available&lat=31.2833333333&lon=-90.7850574713&start=2012-08-30T06:15Z\n",
        "http://mesonet.agron.iastate.edu/json/radar?operation=list&radar=DGX&product=N0Q&start=2012-08-30T06:15Z&end=2012-08-30T06:25Z"
       ]
      },
      {
       "output_type": "stream",
       "stream": "stdout",
       "text": [
        "\n",
        "0615 RADAR: DGX RADAR TIME: 0618"
       ]
      },
      {
       "output_type": "stream",
       "stream": "stdout",
       "text": [
        "\n",
        "31.2941666667 -90.7926149425 3.61111111111e-05 -2.51915708812e-05\n",
        "http://mesonet.agron.iastate.edu/json/radar?operation=available&lat=31.2941666667&lon=-90.7926149425&start=2012-08-30T06:20Z\n",
        "http://mesonet.agron.iastate.edu/json/radar?operation=list&radar=DGX&product=N0Q&start=2012-08-30T06:20Z&end=2012-08-30T06:30Z"
       ]
      },
      {
       "output_type": "stream",
       "stream": "stdout",
       "text": [
        "\n",
        "0620 RADAR: DGX RADAR TIME: 0623"
       ]
      },
      {
       "output_type": "stream",
       "stream": "stdout",
       "text": [
        "\n",
        "31.305 -90.8001724138 3.61111111111e-05 -2.51915708812e-05\n",
        "http://mesonet.agron.iastate.edu/json/radar?operation=available&lat=31.305&lon=-90.8001724138&start=2012-08-30T06:25Z\n",
        "http://mesonet.agron.iastate.edu/json/radar?operation=list&radar=DGX&product=N0Q&start=2012-08-30T06:25Z&end=2012-08-30T06:35Z"
       ]
      },
      {
       "output_type": "stream",
       "stream": "stdout",
       "text": [
        "\n",
        "0625 RADAR: DGX RADAR TIME: 0628"
       ]
      },
      {
       "output_type": "stream",
       "stream": "stdout",
       "text": [
        "\n",
        "31.3158333333 -90.8077298851 3.61111111111e-05 -2.51915708812e-05\n",
        "http://mesonet.agron.iastate.edu/json/radar?operation=available&lat=31.3158333333&lon=-90.8077298851&start=2012-08-30T06:30Z\n",
        "http://mesonet.agron.iastate.edu/json/radar?operation=list&radar=DGX&product=N0Q&start=2012-08-30T06:30Z&end=2012-08-30T06:40Z"
       ]
      },
      {
       "output_type": "stream",
       "stream": "stdout",
       "text": [
        "\n",
        "0630 RADAR: DGX RADAR TIME: 0632"
       ]
      },
      {
       "output_type": "stream",
       "stream": "stdout",
       "text": [
        "\n",
        "31.3266666667 -90.8152873563 3.61111111111e-05 -2.51915708812e-05\n",
        "http://mesonet.agron.iastate.edu/json/radar?operation=available&lat=31.3266666667&lon=-90.8152873563&start=2012-08-30T06:35Z\n",
        "http://mesonet.agron.iastate.edu/json/radar?operation=list&radar=DGX&product=N0Q&start=2012-08-30T06:35Z&end=2012-08-30T06:45Z"
       ]
      },
      {
       "output_type": "stream",
       "stream": "stdout",
       "text": [
        "\n",
        "0635 RADAR: DGX RADAR TIME: 0637"
       ]
      },
      {
       "output_type": "stream",
       "stream": "stdout",
       "text": [
        "\n",
        "31.3375 -90.8228448276 3.61111111111e-05 -2.51915708812e-05\n",
        "http://mesonet.agron.iastate.edu/json/radar?operation=available&lat=31.3375&lon=-90.8228448276&start=2012-08-30T06:40Z\n",
        "http://mesonet.agron.iastate.edu/json/radar?operation=list&radar=DGX&product=N0Q&start=2012-08-30T06:40Z&end=2012-08-30T06:50Z"
       ]
      },
      {
       "output_type": "stream",
       "stream": "stdout",
       "text": [
        "\n",
        "0640 RADAR: DGX RADAR TIME: 0641"
       ]
      },
      {
       "output_type": "stream",
       "stream": "stdout",
       "text": [
        "\n",
        "31.3483333333 -90.8304022989 3.61111111111e-05 -2.51915708812e-05\n",
        "http://mesonet.agron.iastate.edu/json/radar?operation=available&lat=31.3483333333&lon=-90.8304022989&start=2012-08-30T06:45Z\n",
        "http://mesonet.agron.iastate.edu/json/radar?operation=list&radar=DGX&product=N0Q&start=2012-08-30T06:45Z&end=2012-08-30T06:55Z"
       ]
      },
      {
       "output_type": "stream",
       "stream": "stdout",
       "text": [
        "\n",
        "0645 RADAR: DGX RADAR TIME: 0646"
       ]
      },
      {
       "output_type": "stream",
       "stream": "stdout",
       "text": [
        "\n",
        "31.3591666667 -90.8379597701 3.61111111111e-05 -2.51915708812e-05\n",
        "http://mesonet.agron.iastate.edu/json/radar?operation=available&lat=31.3591666667&lon=-90.8379597701&start=2012-08-30T06:50Z\n",
        "http://mesonet.agron.iastate.edu/json/radar?operation=list&radar=DGX&product=N0Q&start=2012-08-30T06:50Z&end=2012-08-30T07:00Z"
       ]
      },
      {
       "output_type": "stream",
       "stream": "stdout",
       "text": [
        "\n",
        "0650 RADAR: DGX RADAR TIME: 0651"
       ]
      },
      {
       "output_type": "stream",
       "stream": "stdout",
       "text": [
        "\n",
        "31.37 -90.8455172414 3.61111111111e-05 -2.51915708812e-05\n",
        "http://mesonet.agron.iastate.edu/json/radar?operation=available&lat=31.37&lon=-90.8455172414&start=2012-08-30T06:55Z\n",
        "http://mesonet.agron.iastate.edu/json/radar?operation=list&radar=DGX&product=N0Q&start=2012-08-30T06:55Z&end=2012-08-30T07:05Z"
       ]
      },
      {
       "output_type": "stream",
       "stream": "stdout",
       "text": [
        "\n",
        "0655 RADAR: DGX RADAR TIME: 0655"
       ]
      },
      {
       "output_type": "stream",
       "stream": "stdout",
       "text": [
        "\n",
        "31.3808333333 -90.8530747126 3.61111111111e-05 -2.51915708812e-05\n",
        "http://mesonet.agron.iastate.edu/json/radar?operation=available&lat=31.3808333333&lon=-90.8530747126&start=2012-08-30T07:00Z\n",
        "http://mesonet.agron.iastate.edu/json/radar?operation=list&radar=DGX&product=N0Q&start=2012-08-30T07:00Z&end=2012-08-30T07:10Z"
       ]
      },
      {
       "output_type": "stream",
       "stream": "stdout",
       "text": [
        "\n",
        "0700 RADAR: DGX RADAR TIME: 0700"
       ]
      },
      {
       "output_type": "stream",
       "stream": "stdout",
       "text": [
        "\n",
        "31.3916666667 -90.8606321839 3.61111111111e-05 -2.51915708812e-05\n",
        "http://mesonet.agron.iastate.edu/json/radar?operation=available&lat=31.3916666667&lon=-90.8606321839&start=2012-08-30T07:05Z\n",
        "http://mesonet.agron.iastate.edu/json/radar?operation=list&radar=DGX&product=N0Q&start=2012-08-30T07:05Z&end=2012-08-30T07:15Z"
       ]
      },
      {
       "output_type": "stream",
       "stream": "stdout",
       "text": [
        "\n",
        "0705 RADAR: DGX RADAR TIME: 0705"
       ]
      },
      {
       "output_type": "stream",
       "stream": "stdout",
       "text": [
        "\n",
        "31.4025 -90.8681896552 3.61111111111e-05 -2.51915708812e-05\n",
        "http://mesonet.agron.iastate.edu/json/radar?operation=available&lat=31.4025&lon=-90.8681896552&start=2012-08-30T07:10Z\n",
        "http://mesonet.agron.iastate.edu/json/radar?operation=list&radar=DGX&product=N0Q&start=2012-08-30T07:10Z&end=2012-08-30T07:20Z"
       ]
      },
      {
       "output_type": "stream",
       "stream": "stdout",
       "text": [
        "\n",
        "0710 RADAR: DGX RADAR TIME: 0714"
       ]
      },
      {
       "output_type": "stream",
       "stream": "stdout",
       "text": [
        "\n",
        "31.4133333333 -90.8757471264 3.61111111111e-05 -2.51915708812e-05\n",
        "http://mesonet.agron.iastate.edu/json/radar?operation=available&lat=31.4133333333&lon=-90.8757471264&start=2012-08-30T07:15Z\n",
        "http://mesonet.agron.iastate.edu/json/radar?operation=list&radar=DGX&product=N0Q&start=2012-08-30T07:15Z&end=2012-08-30T07:25Z"
       ]
      },
      {
       "output_type": "stream",
       "stream": "stdout",
       "text": [
        "\n",
        "0715 RADAR: DGX RADAR TIME: 0718"
       ]
      },
      {
       "output_type": "stream",
       "stream": "stdout",
       "text": [
        "\n",
        "31.4241666667 -90.8833045977 3.61111111111e-05 -2.51915708812e-05\n",
        "http://mesonet.agron.iastate.edu/json/radar?operation=available&lat=31.4241666667&lon=-90.8833045977&start=2012-08-30T07:20Z\n",
        "http://mesonet.agron.iastate.edu/json/radar?operation=list&radar=DGX&product=N0Q&start=2012-08-30T07:20Z&end=2012-08-30T07:30Z"
       ]
      },
      {
       "output_type": "stream",
       "stream": "stdout",
       "text": [
        "\n",
        "0720 RADAR: DGX RADAR TIME: 0723"
       ]
      },
      {
       "output_type": "stream",
       "stream": "stdout",
       "text": [
        "\n",
        "31.435 -90.890862069 3.61111111111e-05 -2.51915708812e-05\n",
        "http://mesonet.agron.iastate.edu/json/radar?operation=available&lat=31.435&lon=-90.890862069&start=2012-08-30T07:25Z\n",
        "http://mesonet.agron.iastate.edu/json/radar?operation=list&radar=DGX&product=N0Q&start=2012-08-30T07:25Z&end=2012-08-30T07:35Z"
       ]
      },
      {
       "output_type": "stream",
       "stream": "stdout",
       "text": [
        "\n",
        "0725 RADAR: DGX RADAR TIME: 0728"
       ]
      },
      {
       "output_type": "stream",
       "stream": "stdout",
       "text": [
        "\n",
        "31.4458333333 -90.8984195402 3.61111111111e-05 -2.51915708812e-05\n",
        "http://mesonet.agron.iastate.edu/json/radar?operation=available&lat=31.4458333333&lon=-90.8984195402&start=2012-08-30T07:30Z\n",
        "http://mesonet.agron.iastate.edu/json/radar?operation=list&radar=DGX&product=N0Q&start=2012-08-30T07:30Z&end=2012-08-30T07:40Z"
       ]
      },
      {
       "output_type": "stream",
       "stream": "stdout",
       "text": [
        "\n",
        "0730 RADAR: DGX RADAR TIME: 0732"
       ]
      },
      {
       "output_type": "stream",
       "stream": "stdout",
       "text": [
        "\n",
        "31.4566666667 -90.9059770115 3.61111111111e-05 -2.51915708812e-05\n",
        "http://mesonet.agron.iastate.edu/json/radar?operation=available&lat=31.4566666667&lon=-90.9059770115&start=2012-08-30T07:35Z\n",
        "http://mesonet.agron.iastate.edu/json/radar?operation=list&radar=DGX&product=N0Q&start=2012-08-30T07:35Z&end=2012-08-30T07:45Z"
       ]
      },
      {
       "output_type": "stream",
       "stream": "stdout",
       "text": [
        "\n",
        "0735 RADAR: DGX RADAR TIME: 0737"
       ]
      },
      {
       "output_type": "stream",
       "stream": "stdout",
       "text": [
        "\n",
        "31.4675 -90.9135344828 3.61111111111e-05 -2.51915708812e-05\n",
        "http://mesonet.agron.iastate.edu/json/radar?operation=available&lat=31.4675&lon=-90.9135344828&start=2012-08-30T07:40Z\n",
        "http://mesonet.agron.iastate.edu/json/radar?operation=list&radar=DGX&product=N0Q&start=2012-08-30T07:40Z&end=2012-08-30T07:50Z"
       ]
      },
      {
       "output_type": "stream",
       "stream": "stdout",
       "text": [
        "\n",
        "0740 RADAR: DGX RADAR TIME: 0742"
       ]
      },
      {
       "output_type": "stream",
       "stream": "stdout",
       "text": [
        "\n",
        "31.4783333333 -90.921091954 3.61111111111e-05 -2.51915708812e-05\n",
        "http://mesonet.agron.iastate.edu/json/radar?operation=available&lat=31.4783333333&lon=-90.921091954&start=2012-08-30T07:45Z\n",
        "http://mesonet.agron.iastate.edu/json/radar?operation=list&radar=DGX&product=N0Q&start=2012-08-30T07:45Z&end=2012-08-30T07:55Z"
       ]
      },
      {
       "output_type": "stream",
       "stream": "stdout",
       "text": [
        "\n",
        "0745 RADAR: DGX RADAR TIME: 0746"
       ]
      },
      {
       "output_type": "stream",
       "stream": "stdout",
       "text": [
        "\n",
        "31.4891666667 -90.9286494253 3.61111111111e-05 -2.51915708812e-05\n",
        "http://mesonet.agron.iastate.edu/json/radar?operation=available&lat=31.4891666667&lon=-90.9286494253&start=2012-08-30T07:50Z\n",
        "http://mesonet.agron.iastate.edu/json/radar?operation=list&radar=DGX&product=N0Q&start=2012-08-30T07:50Z&end=2012-08-30T08:00Z"
       ]
      },
      {
       "output_type": "stream",
       "stream": "stdout",
       "text": [
        "\n",
        "0750 RADAR: DGX RADAR TIME: 0751"
       ]
      },
      {
       "output_type": "stream",
       "stream": "stdout",
       "text": [
        "\n",
        "31.5 -90.9362068966 3.61111111111e-05 -2.51915708812e-05\n",
        "http://mesonet.agron.iastate.edu/json/radar?operation=available&lat=31.5&lon=-90.9362068966&start=2012-08-30T07:55Z\n",
        "http://mesonet.agron.iastate.edu/json/radar?operation=list&radar=DGX&product=N0Q&start=2012-08-30T07:55Z&end=2012-08-30T08:05Z"
       ]
      },
      {
       "output_type": "stream",
       "stream": "stdout",
       "text": [
        "\n",
        "0755 RADAR: DGX RADAR TIME: 0755"
       ]
      },
      {
       "output_type": "stream",
       "stream": "stdout",
       "text": [
        "\n",
        "31.5108333333 -90.9437643678 3.61111111111e-05 -2.51915708812e-05\n",
        "http://mesonet.agron.iastate.edu/json/radar?operation=available&lat=31.5108333333&lon=-90.9437643678&start=2012-08-30T08:00Z\n",
        "http://mesonet.agron.iastate.edu/json/radar?operation=list&radar=DGX&product=N0Q&start=2012-08-30T08:00Z&end=2012-08-30T08:10Z"
       ]
      },
      {
       "output_type": "stream",
       "stream": "stdout",
       "text": [
        "\n",
        "0800 RADAR: DGX RADAR TIME: 0800"
       ]
      },
      {
       "output_type": "stream",
       "stream": "stdout",
       "text": [
        "\n",
        "31.5216666667 -90.9513218391 3.61111111111e-05 -2.51915708812e-05\n",
        "http://mesonet.agron.iastate.edu/json/radar?operation=available&lat=31.5216666667&lon=-90.9513218391&start=2012-08-30T08:05Z\n",
        "http://mesonet.agron.iastate.edu/json/radar?operation=list&radar=DGX&product=N0Q&start=2012-08-30T08:05Z&end=2012-08-30T08:15Z"
       ]
      },
      {
       "output_type": "stream",
       "stream": "stdout",
       "text": [
        "\n",
        "0805 RADAR: DGX RADAR TIME: 0805"
       ]
      },
      {
       "output_type": "stream",
       "stream": "stdout",
       "text": [
        "\n",
        "31.5325 -90.9588793103 3.61111111111e-05 -2.51915708812e-05\n",
        "http://mesonet.agron.iastate.edu/json/radar?operation=available&lat=31.5325&lon=-90.9588793103&start=2012-08-30T08:10Z\n",
        "http://mesonet.agron.iastate.edu/json/radar?operation=list&radar=DGX&product=N0Q&start=2012-08-30T08:10Z&end=2012-08-30T08:20Z"
       ]
      },
      {
       "output_type": "stream",
       "stream": "stdout",
       "text": [
        "\n",
        "0810 RADAR: DGX RADAR TIME: 0814"
       ]
      },
      {
       "output_type": "stream",
       "stream": "stdout",
       "text": [
        "\n",
        "31.5433333333 -90.9664367816 3.61111111111e-05 -2.51915708812e-05\n",
        "http://mesonet.agron.iastate.edu/json/radar?operation=available&lat=31.5433333333&lon=-90.9664367816&start=2012-08-30T08:15Z\n",
        "http://mesonet.agron.iastate.edu/json/radar?operation=list&radar=DGX&product=N0Q&start=2012-08-30T08:15Z&end=2012-08-30T08:25Z"
       ]
      },
      {
       "output_type": "stream",
       "stream": "stdout",
       "text": [
        "\n",
        "0815 RADAR: DGX RADAR TIME: 0818"
       ]
      },
      {
       "output_type": "stream",
       "stream": "stdout",
       "text": [
        "\n",
        "31.5541666667 -90.9739942529 3.61111111111e-05 -2.51915708812e-05\n",
        "http://mesonet.agron.iastate.edu/json/radar?operation=available&lat=31.5541666667&lon=-90.9739942529&start=2012-08-30T08:20Z\n",
        "http://mesonet.agron.iastate.edu/json/radar?operation=list&radar=DGX&product=N0Q&start=2012-08-30T08:20Z&end=2012-08-30T08:30Z"
       ]
      },
      {
       "output_type": "stream",
       "stream": "stdout",
       "text": [
        "\n",
        "0820 RADAR: DGX RADAR TIME: 0823"
       ]
      },
      {
       "output_type": "stream",
       "stream": "stdout",
       "text": [
        "\n",
        "31.565 -90.9815517241 3.61111111111e-05 -2.51915708812e-05\n",
        "http://mesonet.agron.iastate.edu/json/radar?operation=available&lat=31.565&lon=-90.9815517241&start=2012-08-30T08:25Z\n",
        "http://mesonet.agron.iastate.edu/json/radar?operation=list&radar=DGX&product=N0Q&start=2012-08-30T08:25Z&end=2012-08-30T08:35Z"
       ]
      },
      {
       "output_type": "stream",
       "stream": "stdout",
       "text": [
        "\n",
        "0825 RADAR: DGX RADAR TIME: 0828"
       ]
      },
      {
       "output_type": "stream",
       "stream": "stdout",
       "text": [
        "\n",
        "31.5758333333 -90.9891091954 3.61111111111e-05 -2.51915708812e-05\n",
        "http://mesonet.agron.iastate.edu/json/radar?operation=available&lat=31.5758333333&lon=-90.9891091954&start=2012-08-30T08:30Z\n",
        "http://mesonet.agron.iastate.edu/json/radar?operation=list&radar=DGX&product=N0Q&start=2012-08-30T08:30Z&end=2012-08-30T08:40Z"
       ]
      },
      {
       "output_type": "stream",
       "stream": "stdout",
       "text": [
        "\n",
        "0830 RADAR: DGX RADAR TIME: 0832"
       ]
      },
      {
       "output_type": "stream",
       "stream": "stdout",
       "text": [
        "\n",
        "31.5866666667 -90.9966666667 3.61111111111e-05 -2.51915708812e-05\n",
        "http://mesonet.agron.iastate.edu/json/radar?operation=available&lat=31.5866666667&lon=-90.9966666667&start=2012-08-30T08:35Z\n",
        "http://mesonet.agron.iastate.edu/json/radar?operation=list&radar=DGX&product=N0Q&start=2012-08-30T08:35Z&end=2012-08-30T08:45Z"
       ]
      },
      {
       "output_type": "stream",
       "stream": "stdout",
       "text": [
        "\n",
        "0835 RADAR: DGX RADAR TIME: 0837"
       ]
      },
      {
       "output_type": "stream",
       "stream": "stdout",
       "text": [
        "\n",
        "31.5975 -91.0042241379 3.61111111111e-05 -2.51915708812e-05\n",
        "http://mesonet.agron.iastate.edu/json/radar?operation=available&lat=31.5975&lon=-91.0042241379&start=2012-08-30T08:40Z\n",
        "http://mesonet.agron.iastate.edu/json/radar?operation=list&radar=DGX&product=N0Q&start=2012-08-30T08:40Z&end=2012-08-30T08:50Z"
       ]
      },
      {
       "output_type": "stream",
       "stream": "stdout",
       "text": [
        "\n",
        "0840 RADAR: DGX RADAR TIME: 0842"
       ]
      },
      {
       "output_type": "stream",
       "stream": "stdout",
       "text": [
        "\n",
        "31.6083333333 -91.0117816092 3.61111111111e-05 -2.51915708812e-05\n",
        "http://mesonet.agron.iastate.edu/json/radar?operation=available&lat=31.6083333333&lon=-91.0117816092&start=2012-08-30T08:45Z\n",
        "http://mesonet.agron.iastate.edu/json/radar?operation=list&radar=DGX&product=N0Q&start=2012-08-30T08:45Z&end=2012-08-30T08:55Z"
       ]
      },
      {
       "output_type": "stream",
       "stream": "stdout",
       "text": [
        "\n",
        "0845 RADAR: DGX RADAR TIME: 0846"
       ]
      },
      {
       "output_type": "stream",
       "stream": "stdout",
       "text": [
        "\n",
        "31.6191666667 -91.0193390805 3.61111111111e-05 -2.51915708812e-05\n",
        "http://mesonet.agron.iastate.edu/json/radar?operation=available&lat=31.6191666667&lon=-91.0193390805&start=2012-08-30T08:50Z\n",
        "http://mesonet.agron.iastate.edu/json/radar?operation=list&radar=DGX&product=N0Q&start=2012-08-30T08:50Z&end=2012-08-30T09:00Z"
       ]
      },
      {
       "output_type": "stream",
       "stream": "stdout",
       "text": [
        "\n",
        "0850 RADAR: DGX RADAR TIME: 0851"
       ]
      },
      {
       "output_type": "stream",
       "stream": "stdout",
       "text": [
        "\n",
        "31.63 -91.0268965517 3.61111111111e-05 -2.51915708812e-05\n",
        "http://mesonet.agron.iastate.edu/json/radar?operation=available&lat=31.63&lon=-91.0268965517&start=2012-08-30T08:55Z\n",
        "http://mesonet.agron.iastate.edu/json/radar?operation=list&radar=DGX&product=N0Q&start=2012-08-30T08:55Z&end=2012-08-30T09:05Z"
       ]
      },
      {
       "output_type": "stream",
       "stream": "stdout",
       "text": [
        "\n",
        "0855 RADAR: DGX RADAR TIME: 0855"
       ]
      },
      {
       "output_type": "stream",
       "stream": "stdout",
       "text": [
        "\n",
        "31.6408333333 -91.034454023 3.61111111111e-05 -2.51915708812e-05\n",
        "http://mesonet.agron.iastate.edu/json/radar?operation=available&lat=31.6408333333&lon=-91.034454023&start=2012-08-30T09:00Z\n",
        "http://mesonet.agron.iastate.edu/json/radar?operation=list&radar=DGX&product=N0Q&start=2012-08-30T09:00Z&end=2012-08-30T09:10Z"
       ]
      },
      {
       "output_type": "stream",
       "stream": "stdout",
       "text": [
        "\n",
        "0900 RADAR: DGX RADAR TIME: 0900"
       ]
      },
      {
       "output_type": "stream",
       "stream": "stdout",
       "text": [
        "\n",
        "31.6516666667 -91.0420114943 3.61111111111e-05 -2.51915708812e-05\n",
        "http://mesonet.agron.iastate.edu/json/radar?operation=available&lat=31.6516666667&lon=-91.0420114943&start=2012-08-30T09:05Z\n",
        "http://mesonet.agron.iastate.edu/json/radar?operation=list&radar=DGX&product=N0Q&start=2012-08-30T09:05Z&end=2012-08-30T09:15Z"
       ]
      },
      {
       "output_type": "stream",
       "stream": "stdout",
       "text": [
        "\n",
        "0905 RADAR: DGX RADAR TIME: 0905"
       ]
      },
      {
       "output_type": "stream",
       "stream": "stdout",
       "text": [
        "\n",
        "31.6625 -91.0495689655 3.61111111111e-05 -2.51915708812e-05\n",
        "http://mesonet.agron.iastate.edu/json/radar?operation=available&lat=31.6625&lon=-91.0495689655&start=2012-08-30T09:10Z\n",
        "http://mesonet.agron.iastate.edu/json/radar?operation=list&radar=DGX&product=N0Q&start=2012-08-30T09:10Z&end=2012-08-30T09:20Z"
       ]
      },
      {
       "output_type": "stream",
       "stream": "stdout",
       "text": [
        "\n",
        "0910 RADAR: DGX RADAR TIME: 0914"
       ]
      },
      {
       "output_type": "stream",
       "stream": "stdout",
       "text": [
        "\n",
        "31.6733333333 -91.0571264368 3.61111111111e-05 -2.51915708812e-05\n",
        "http://mesonet.agron.iastate.edu/json/radar?operation=available&lat=31.6733333333&lon=-91.0571264368&start=2012-08-30T09:15Z\n",
        "http://mesonet.agron.iastate.edu/json/radar?operation=list&radar=DGX&product=N0Q&start=2012-08-30T09:15Z&end=2012-08-30T09:25Z"
       ]
      },
      {
       "output_type": "stream",
       "stream": "stdout",
       "text": [
        "\n",
        "0915 RADAR: DGX RADAR TIME: 0919"
       ]
      },
      {
       "output_type": "stream",
       "stream": "stdout",
       "text": [
        "\n",
        "31.6841666667 -91.064683908 3.61111111111e-05 -2.51915708812e-05\n",
        "http://mesonet.agron.iastate.edu/json/radar?operation=available&lat=31.6841666667&lon=-91.064683908&start=2012-08-30T09:20Z\n",
        "http://mesonet.agron.iastate.edu/json/radar?operation=list&radar=DGX&product=N0Q&start=2012-08-30T09:20Z&end=2012-08-30T09:30Z"
       ]
      },
      {
       "output_type": "stream",
       "stream": "stdout",
       "text": [
        "\n",
        "0920 RADAR: DGX RADAR TIME: 0923"
       ]
      },
      {
       "output_type": "stream",
       "stream": "stdout",
       "text": [
        "\n",
        "31.695 -91.0722413793 3.61111111111e-05 -2.51915708812e-05\n",
        "http://mesonet.agron.iastate.edu/json/radar?operation=available&lat=31.695&lon=-91.0722413793&start=2012-08-30T09:25Z\n",
        "http://mesonet.agron.iastate.edu/json/radar?operation=list&radar=DGX&product=N0Q&start=2012-08-30T09:25Z&end=2012-08-30T09:35Z"
       ]
      },
      {
       "output_type": "stream",
       "stream": "stdout",
       "text": [
        "\n",
        "0925 RADAR: DGX RADAR TIME: 0928"
       ]
      },
      {
       "output_type": "stream",
       "stream": "stdout",
       "text": [
        "\n",
        "31.7058333333 -91.0797988506 3.61111111111e-05 -2.51915708812e-05\n",
        "http://mesonet.agron.iastate.edu/json/radar?operation=available&lat=31.7058333333&lon=-91.0797988506&start=2012-08-30T09:30Z\n",
        "http://mesonet.agron.iastate.edu/json/radar?operation=list&radar=DGX&product=N0Q&start=2012-08-30T09:30Z&end=2012-08-30T09:40Z"
       ]
      },
      {
       "output_type": "stream",
       "stream": "stdout",
       "text": [
        "\n",
        "0930 RADAR: DGX RADAR TIME: 0932"
       ]
      },
      {
       "output_type": "stream",
       "stream": "stdout",
       "text": [
        "\n",
        "31.7166666667 -91.0873563218 3.61111111111e-05 -2.51915708812e-05\n",
        "http://mesonet.agron.iastate.edu/json/radar?operation=available&lat=31.7166666667&lon=-91.0873563218&start=2012-08-30T09:35Z\n",
        "http://mesonet.agron.iastate.edu/json/radar?operation=list&radar=DGX&product=N0Q&start=2012-08-30T09:35Z&end=2012-08-30T09:45Z"
       ]
      },
      {
       "output_type": "stream",
       "stream": "stdout",
       "text": [
        "\n",
        "0935 RADAR: DGX RADAR TIME: 0937"
       ]
      },
      {
       "output_type": "stream",
       "stream": "stdout",
       "text": [
        "\n",
        "31.7275 -91.0949137931 3.61111111111e-05 -2.51915708812e-05\n",
        "http://mesonet.agron.iastate.edu/json/radar?operation=available&lat=31.7275&lon=-91.0949137931&start=2012-08-30T09:40Z\n",
        "http://mesonet.agron.iastate.edu/json/radar?operation=list&radar=DGX&product=N0Q&start=2012-08-30T09:40Z&end=2012-08-30T09:50Z"
       ]
      },
      {
       "output_type": "stream",
       "stream": "stdout",
       "text": [
        "\n",
        "0940 RADAR: DGX RADAR TIME: 0942"
       ]
      },
      {
       "output_type": "stream",
       "stream": "stdout",
       "text": [
        "\n",
        "31.7383333333 -91.1024712644 3.61111111111e-05 -2.51915708812e-05\n",
        "http://mesonet.agron.iastate.edu/json/radar?operation=available&lat=31.7383333333&lon=-91.1024712644&start=2012-08-30T09:45Z\n",
        "http://mesonet.agron.iastate.edu/json/radar?operation=list&radar=DGX&product=N0Q&start=2012-08-30T09:45Z&end=2012-08-30T09:55Z"
       ]
      },
      {
       "output_type": "stream",
       "stream": "stdout",
       "text": [
        "\n",
        "0945 RADAR: DGX RADAR TIME: 0946"
       ]
      },
      {
       "output_type": "stream",
       "stream": "stdout",
       "text": [
        "\n",
        "31.7491666667 -91.1100287356 3.61111111111e-05 -2.51915708812e-05\n",
        "http://mesonet.agron.iastate.edu/json/radar?operation=available&lat=31.7491666667&lon=-91.1100287356&start=2012-08-30T09:50Z\n",
        "http://mesonet.agron.iastate.edu/json/radar?operation=list&radar=DGX&product=N0Q&start=2012-08-30T09:50Z&end=2012-08-30T10:00Z"
       ]
      },
      {
       "output_type": "stream",
       "stream": "stdout",
       "text": [
        "\n",
        "0950 RADAR: DGX RADAR TIME: 0951"
       ]
      },
      {
       "output_type": "stream",
       "stream": "stdout",
       "text": [
        "\n",
        "31.76 -91.1175862069 3.61111111111e-05 -2.51915708812e-05\n",
        "http://mesonet.agron.iastate.edu/json/radar?operation=available&lat=31.76&lon=-91.1175862069&start=2012-08-30T09:55Z\n",
        "http://mesonet.agron.iastate.edu/json/radar?operation=list&radar=DGX&product=N0Q&start=2012-08-30T09:55Z&end=2012-08-30T10:05Z"
       ]
      },
      {
       "output_type": "stream",
       "stream": "stdout",
       "text": [
        "\n",
        "0955 RADAR: DGX RADAR TIME: 0956"
       ]
      },
      {
       "output_type": "stream",
       "stream": "stdout",
       "text": [
        "\n",
        "31.7708333333 -91.1251436782 3.61111111111e-05 -2.51915708812e-05\n",
        "http://mesonet.agron.iastate.edu/json/radar?operation=available&lat=31.7708333333&lon=-91.1251436782&start=2012-08-30T10:00Z\n",
        "http://mesonet.agron.iastate.edu/json/radar?operation=list&radar=DGX&product=N0Q&start=2012-08-30T10:00Z&end=2012-08-30T10:10Z"
       ]
      },
      {
       "output_type": "stream",
       "stream": "stdout",
       "text": [
        "\n",
        "1000 RADAR: DGX RADAR TIME: 1000"
       ]
      },
      {
       "output_type": "stream",
       "stream": "stdout",
       "text": [
        "\n",
        "31.7816666667 -91.1327011494 3.61111111111e-05 -2.51915708812e-05\n",
        "http://mesonet.agron.iastate.edu/json/radar?operation=available&lat=31.7816666667&lon=-91.1327011494&start=2012-08-30T10:05Z\n",
        "http://mesonet.agron.iastate.edu/json/radar?operation=list&radar=DGX&product=N0Q&start=2012-08-30T10:05Z&end=2012-08-30T10:15Z"
       ]
      },
      {
       "output_type": "stream",
       "stream": "stdout",
       "text": [
        "\n",
        "1005 RADAR: DGX RADAR TIME: 1005"
       ]
      },
      {
       "output_type": "stream",
       "stream": "stdout",
       "text": [
        "\n",
        "31.7925 -91.1402586207 3.61111111111e-05 -2.51915708812e-05\n",
        "http://mesonet.agron.iastate.edu/json/radar?operation=available&lat=31.7925&lon=-91.1402586207&start=2012-08-30T10:10Z\n",
        "http://mesonet.agron.iastate.edu/json/radar?operation=list&radar=DGX&product=N0Q&start=2012-08-30T10:10Z&end=2012-08-30T10:20Z"
       ]
      },
      {
       "output_type": "stream",
       "stream": "stdout",
       "text": [
        "\n",
        "1010 RADAR: DGX RADAR TIME: 1014"
       ]
      },
      {
       "output_type": "stream",
       "stream": "stdout",
       "text": [
        "\n",
        "31.8033333333 -91.147816092 3.61111111111e-05 -2.51915708812e-05\n",
        "http://mesonet.agron.iastate.edu/json/radar?operation=available&lat=31.8033333333&lon=-91.147816092&start=2012-08-30T10:15Z\n",
        "http://mesonet.agron.iastate.edu/json/radar?operation=list&radar=DGX&product=N0Q&start=2012-08-30T10:15Z&end=2012-08-30T10:25Z"
       ]
      },
      {
       "output_type": "stream",
       "stream": "stdout",
       "text": [
        "\n",
        "1015 RADAR: DGX RADAR TIME: 1019"
       ]
      },
      {
       "output_type": "stream",
       "stream": "stdout",
       "text": [
        "\n",
        "31.8141666667 -91.1553735632 3.61111111111e-05 -2.51915708812e-05\n",
        "http://mesonet.agron.iastate.edu/json/radar?operation=available&lat=31.8141666667&lon=-91.1553735632&start=2012-08-30T10:20Z\n",
        "http://mesonet.agron.iastate.edu/json/radar?operation=list&radar=DGX&product=N0Q&start=2012-08-30T10:20Z&end=2012-08-30T10:30Z"
       ]
      },
      {
       "output_type": "stream",
       "stream": "stdout",
       "text": [
        "\n",
        "1020 RADAR: DGX RADAR TIME: 1023"
       ]
      },
      {
       "output_type": "stream",
       "stream": "stdout",
       "text": [
        "\n",
        "31.825 -91.1629310345 3.61111111111e-05 -2.51915708812e-05\n",
        "http://mesonet.agron.iastate.edu/json/radar?operation=available&lat=31.825&lon=-91.1629310345&start=2012-08-30T10:25Z\n",
        "http://mesonet.agron.iastate.edu/json/radar?operation=list&radar=DGX&product=N0Q&start=2012-08-30T10:25Z&end=2012-08-30T10:35Z"
       ]
      },
      {
       "output_type": "stream",
       "stream": "stdout",
       "text": [
        "\n",
        "1025 RADAR: DGX RADAR TIME: 1028"
       ]
      },
      {
       "output_type": "stream",
       "stream": "stdout",
       "text": [
        "\n",
        "31.8358333333 -91.1704885057 3.61111111111e-05 -2.51915708812e-05\n",
        "http://mesonet.agron.iastate.edu/json/radar?operation=available&lat=31.8358333333&lon=-91.1704885057&start=2012-08-30T10:30Z\n",
        "http://mesonet.agron.iastate.edu/json/radar?operation=list&radar=DGX&product=N0Q&start=2012-08-30T10:30Z&end=2012-08-30T10:40Z"
       ]
      },
      {
       "output_type": "stream",
       "stream": "stdout",
       "text": [
        "\n",
        "1030 RADAR: DGX RADAR TIME: 1032"
       ]
      },
      {
       "output_type": "stream",
       "stream": "stdout",
       "text": [
        "\n",
        "31.8466666667 -91.178045977 3.61111111111e-05 -2.51915708812e-05\n",
        "http://mesonet.agron.iastate.edu/json/radar?operation=available&lat=31.8466666667&lon=-91.178045977&start=2012-08-30T10:35Z\n",
        "http://mesonet.agron.iastate.edu/json/radar?operation=list&radar=DGX&product=N0Q&start=2012-08-30T10:35Z&end=2012-08-30T10:45Z"
       ]
      },
      {
       "output_type": "stream",
       "stream": "stdout",
       "text": [
        "\n",
        "1035 RADAR: DGX RADAR TIME: 1037"
       ]
      },
      {
       "output_type": "stream",
       "stream": "stdout",
       "text": [
        "\n",
        "31.8575 -91.1856034483 3.61111111111e-05 -2.51915708812e-05\n",
        "http://mesonet.agron.iastate.edu/json/radar?operation=available&lat=31.8575&lon=-91.1856034483&start=2012-08-30T10:40Z\n",
        "http://mesonet.agron.iastate.edu/json/radar?operation=list&radar=DGX&product=N0Q&start=2012-08-30T10:40Z&end=2012-08-30T10:50Z"
       ]
      },
      {
       "output_type": "stream",
       "stream": "stdout",
       "text": [
        "\n",
        "1040 RADAR: DGX RADAR TIME: 1042"
       ]
      },
      {
       "output_type": "stream",
       "stream": "stdout",
       "text": [
        "\n",
        "31.8683333333 -91.1931609195 3.61111111111e-05 -2.51915708812e-05\n",
        "http://mesonet.agron.iastate.edu/json/radar?operation=available&lat=31.8683333333&lon=-91.1931609195&start=2012-08-30T10:45Z\n",
        "http://mesonet.agron.iastate.edu/json/radar?operation=list&radar=DGX&product=N0Q&start=2012-08-30T10:45Z&end=2012-08-30T10:55Z"
       ]
      },
      {
       "output_type": "stream",
       "stream": "stdout",
       "text": [
        "\n",
        "1045 RADAR: DGX RADAR TIME: 1046"
       ]
      },
      {
       "output_type": "stream",
       "stream": "stdout",
       "text": [
        "\n",
        "31.8791666667 -91.2007183908 3.61111111111e-05 -2.51915708812e-05\n",
        "http://mesonet.agron.iastate.edu/json/radar?operation=available&lat=31.8791666667&lon=-91.2007183908&start=2012-08-30T10:50Z\n",
        "http://mesonet.agron.iastate.edu/json/radar?operation=list&radar=DGX&product=N0Q&start=2012-08-30T10:50Z&end=2012-08-30T11:00Z"
       ]
      },
      {
       "output_type": "stream",
       "stream": "stdout",
       "text": [
        "\n",
        "1050 RADAR: DGX RADAR TIME: 1051"
       ]
      },
      {
       "output_type": "stream",
       "stream": "stdout",
       "text": [
        "\n",
        "31.89 -91.2082758621 3.61111111111e-05 -2.51915708812e-05\n",
        "http://mesonet.agron.iastate.edu/json/radar?operation=available&lat=31.89&lon=-91.2082758621&start=2012-08-30T10:55Z\n",
        "http://mesonet.agron.iastate.edu/json/radar?operation=list&radar=DGX&product=N0Q&start=2012-08-30T10:55Z&end=2012-08-30T11:05Z"
       ]
      },
      {
       "output_type": "stream",
       "stream": "stdout",
       "text": [
        "\n",
        "1055 RADAR: DGX RADAR TIME: 1056"
       ]
      },
      {
       "output_type": "stream",
       "stream": "stdout",
       "text": [
        "\n",
        "31.9008333333 -91.2158333333 3.61111111111e-05 -2.51915708812e-05\n",
        "http://mesonet.agron.iastate.edu/json/radar?operation=available&lat=31.9008333333&lon=-91.2158333333&start=2012-08-30T11:00Z\n",
        "http://mesonet.agron.iastate.edu/json/radar?operation=list&radar=DGX&product=N0Q&start=2012-08-30T11:00Z&end=2012-08-30T11:10Z"
       ]
      },
      {
       "output_type": "stream",
       "stream": "stdout",
       "text": [
        "\n",
        "1100 RADAR: DGX RADAR TIME: 1100"
       ]
      },
      {
       "output_type": "stream",
       "stream": "stdout",
       "text": [
        "\n",
        "31.9116666667 -91.2233908046 3.61111111111e-05 -2.51915708812e-05\n",
        "http://mesonet.agron.iastate.edu/json/radar?operation=available&lat=31.9116666667&lon=-91.2233908046&start=2012-08-30T11:05Z\n",
        "http://mesonet.agron.iastate.edu/json/radar?operation=list&radar=DGX&product=N0Q&start=2012-08-30T11:05Z&end=2012-08-30T11:15Z"
       ]
      },
      {
       "output_type": "stream",
       "stream": "stdout",
       "text": [
        "\n",
        "1105 RADAR: DGX RADAR TIME: 1105"
       ]
      },
      {
       "output_type": "stream",
       "stream": "stdout",
       "text": [
        "\n",
        "31.9225 -91.2309482759 3.61111111111e-05 -2.51915708812e-05\n",
        "http://mesonet.agron.iastate.edu/json/radar?operation=available&lat=31.9225&lon=-91.2309482759&start=2012-08-30T11:10Z\n",
        "http://mesonet.agron.iastate.edu/json/radar?operation=list&radar=DGX&product=N0Q&start=2012-08-30T11:10Z&end=2012-08-30T11:20Z"
       ]
      },
      {
       "output_type": "stream",
       "stream": "stdout",
       "text": [
        "\n",
        "1110 RADAR: DGX RADAR TIME: 1110"
       ]
      },
      {
       "output_type": "stream",
       "stream": "stdout",
       "text": [
        "\n",
        "31.9333333333 -91.2385057471 3.61111111111e-05 -2.51915708812e-05\n",
        "http://mesonet.agron.iastate.edu/json/radar?operation=available&lat=31.9333333333&lon=-91.2385057471&start=2012-08-30T11:15Z\n",
        "http://mesonet.agron.iastate.edu/json/radar?operation=list&radar=DGX&product=N0Q&start=2012-08-30T11:15Z&end=2012-08-30T11:25Z"
       ]
      },
      {
       "output_type": "stream",
       "stream": "stdout",
       "text": [
        "\n",
        "1115 RADAR: DGX RADAR TIME: 1119"
       ]
      },
      {
       "output_type": "stream",
       "stream": "stdout",
       "text": [
        "\n",
        "31.9441666667 -91.2460632184 3.61111111111e-05 -2.51915708812e-05\n",
        "http://mesonet.agron.iastate.edu/json/radar?operation=available&lat=31.9441666667&lon=-91.2460632184&start=2012-08-30T11:20Z\n",
        "http://mesonet.agron.iastate.edu/json/radar?operation=list&radar=DGX&product=N0Q&start=2012-08-30T11:20Z&end=2012-08-30T11:30Z"
       ]
      },
      {
       "output_type": "stream",
       "stream": "stdout",
       "text": [
        "\n",
        "1120 RADAR: DGX RADAR TIME: 1123"
       ]
      },
      {
       "output_type": "stream",
       "stream": "stdout",
       "text": [
        "\n",
        "31.955 -91.2536206897 3.61111111111e-05 -2.51915708812e-05\n",
        "http://mesonet.agron.iastate.edu/json/radar?operation=available&lat=31.955&lon=-91.2536206897&start=2012-08-30T11:25Z\n",
        "http://mesonet.agron.iastate.edu/json/radar?operation=list&radar=DGX&product=N0Q&start=2012-08-30T11:25Z&end=2012-08-30T11:35Z"
       ]
      },
      {
       "output_type": "stream",
       "stream": "stdout",
       "text": [
        "\n",
        "1125 RADAR: DGX RADAR TIME: 1128"
       ]
      },
      {
       "output_type": "stream",
       "stream": "stdout",
       "text": [
        "\n",
        "31.9658333333 -91.2611781609 3.61111111111e-05 -2.51915708812e-05\n",
        "http://mesonet.agron.iastate.edu/json/radar?operation=available&lat=31.9658333333&lon=-91.2611781609&start=2012-08-30T11:30Z\n",
        "http://mesonet.agron.iastate.edu/json/radar?operation=list&radar=DGX&product=N0Q&start=2012-08-30T11:30Z&end=2012-08-30T11:40Z"
       ]
      },
      {
       "output_type": "stream",
       "stream": "stdout",
       "text": [
        "\n",
        "1130 RADAR: DGX RADAR TIME: 1133"
       ]
      },
      {
       "output_type": "stream",
       "stream": "stdout",
       "text": [
        "\n",
        "31.9766666667 -91.2687356322 3.61111111111e-05 -2.51915708812e-05\n",
        "http://mesonet.agron.iastate.edu/json/radar?operation=available&lat=31.9766666667&lon=-91.2687356322&start=2012-08-30T11:35Z\n",
        "http://mesonet.agron.iastate.edu/json/radar?operation=list&radar=DGX&product=N0Q&start=2012-08-30T11:35Z&end=2012-08-30T11:45Z"
       ]
      },
      {
       "output_type": "stream",
       "stream": "stdout",
       "text": [
        "\n",
        "1135 RADAR: DGX RADAR TIME: 1137"
       ]
      },
      {
       "output_type": "stream",
       "stream": "stdout",
       "text": [
        "\n",
        "31.9875 -91.2762931034 3.61111111111e-05 -2.51915708812e-05\n",
        "http://mesonet.agron.iastate.edu/json/radar?operation=available&lat=31.9875&lon=-91.2762931034&start=2012-08-30T11:40Z\n",
        "http://mesonet.agron.iastate.edu/json/radar?operation=list&radar=DGX&product=N0Q&start=2012-08-30T11:40Z&end=2012-08-30T11:50Z"
       ]
      },
      {
       "output_type": "stream",
       "stream": "stdout",
       "text": [
        "\n",
        "1140 RADAR: DGX RADAR TIME: 1142"
       ]
      },
      {
       "output_type": "stream",
       "stream": "stdout",
       "text": [
        "\n",
        "31.9983333333 -91.2838505747 3.61111111111e-05 -2.51915708812e-05\n",
        "http://mesonet.agron.iastate.edu/json/radar?operation=available&lat=31.9983333333&lon=-91.2838505747&start=2012-08-30T11:45Z\n",
        "http://mesonet.agron.iastate.edu/json/radar?operation=list&radar=DGX&product=N0Q&start=2012-08-30T11:45Z&end=2012-08-30T11:55Z"
       ]
      },
      {
       "output_type": "stream",
       "stream": "stdout",
       "text": [
        "\n",
        "1145 RADAR: DGX RADAR TIME: 1147"
       ]
      },
      {
       "output_type": "stream",
       "stream": "stdout",
       "text": [
        "\n",
        "32.0091666667 -91.291408046 3.61111111111e-05 -2.51915708812e-05\n",
        "http://mesonet.agron.iastate.edu/json/radar?operation=available&lat=32.0091666667&lon=-91.291408046&start=2012-08-30T11:50Z\n",
        "http://mesonet.agron.iastate.edu/json/radar?operation=list&radar=DGX&product=N0Q&start=2012-08-30T11:50Z&end=2012-08-30T12:00Z"
       ]
      },
      {
       "output_type": "stream",
       "stream": "stdout",
       "text": [
        "\n",
        "1150 RADAR: DGX RADAR TIME: 1151"
       ]
      },
      {
       "output_type": "stream",
       "stream": "stdout",
       "text": [
        "\n",
        "32.02 -91.2989655172 3.61111111111e-05 -2.51915708812e-05\n",
        "http://mesonet.agron.iastate.edu/json/radar?operation=available&lat=32.02&lon=-91.2989655172&start=2012-08-30T11:55Z\n",
        "http://mesonet.agron.iastate.edu/json/radar?operation=list&radar=DGX&product=N0Q&start=2012-08-30T11:55Z&end=2012-08-30T12:05Z"
       ]
      },
      {
       "output_type": "stream",
       "stream": "stdout",
       "text": [
        "\n",
        "1155 RADAR: DGX RADAR TIME: 1157"
       ]
      },
      {
       "output_type": "stream",
       "stream": "stdout",
       "text": [
        "\n",
        "32.0308333333 -91.3065229885 3.61111111111e-05 -2.51915708812e-05\n",
        "http://mesonet.agron.iastate.edu/json/radar?operation=available&lat=32.0308333333&lon=-91.3065229885&start=2012-08-30T12:00Z\n",
        "http://mesonet.agron.iastate.edu/json/radar?operation=list&radar=DGX&product=N0Q&start=2012-08-30T12:00Z&end=2012-08-30T12:10Z"
       ]
      },
      {
       "output_type": "stream",
       "stream": "stdout",
       "text": [
        "\n",
        "1200 RADAR: DGX RADAR TIME: 1201"
       ]
      },
      {
       "output_type": "stream",
       "stream": "stdout",
       "text": [
        "\n",
        "32.0416666667 -91.3140804598 3.61111111111e-05 -2.51915708812e-05\n",
        "http://mesonet.agron.iastate.edu/json/radar?operation=available&lat=32.0416666667&lon=-91.3140804598&start=2012-08-30T12:05Z\n",
        "http://mesonet.agron.iastate.edu/json/radar?operation=list&radar=DGX&product=N0Q&start=2012-08-30T12:05Z&end=2012-08-30T12:15Z"
       ]
      },
      {
       "output_type": "stream",
       "stream": "stdout",
       "text": [
        "\n",
        "1205 RADAR: DGX RADAR TIME: 1206"
       ]
      },
      {
       "output_type": "stream",
       "stream": "stdout",
       "text": [
        "\n",
        "32.0525 -91.321637931 3.61111111111e-05 -2.51915708812e-05\n",
        "http://mesonet.agron.iastate.edu/json/radar?operation=available&lat=32.0525&lon=-91.321637931&start=2012-08-30T12:10Z\n",
        "http://mesonet.agron.iastate.edu/json/radar?operation=list&radar=DGX&product=N0Q&start=2012-08-30T12:10Z&end=2012-08-30T12:20Z"
       ]
      },
      {
       "output_type": "stream",
       "stream": "stdout",
       "text": [
        "\n",
        "1210 RADAR: DGX RADAR TIME: 1211"
       ]
      },
      {
       "output_type": "stream",
       "stream": "stdout",
       "text": [
        "\n",
        "32.0633333333 -91.3291954023 3.61111111111e-05 -2.51915708812e-05\n",
        "http://mesonet.agron.iastate.edu/json/radar?operation=available&lat=32.0633333333&lon=-91.3291954023&start=2012-08-30T12:15Z\n",
        "http://mesonet.agron.iastate.edu/json/radar?operation=list&radar=DGX&product=N0Q&start=2012-08-30T12:15Z&end=2012-08-30T12:25Z"
       ]
      },
      {
       "output_type": "stream",
       "stream": "stdout",
       "text": [
        "\n",
        "1215 RADAR: DGX RADAR TIME: 1215"
       ]
      },
      {
       "output_type": "stream",
       "stream": "stdout",
       "text": [
        "\n",
        "32.0741666667 -91.3367528736 3.61111111111e-05 -2.51915708812e-05\n",
        "http://mesonet.agron.iastate.edu/json/radar?operation=available&lat=32.0741666667&lon=-91.3367528736&start=2012-08-30T12:20Z\n",
        "http://mesonet.agron.iastate.edu/json/radar?operation=list&radar=DGX&product=N0Q&start=2012-08-30T12:20Z&end=2012-08-30T12:30Z"
       ]
      },
      {
       "output_type": "stream",
       "stream": "stdout",
       "text": [
        "\n",
        "1220 RADAR: DGX RADAR TIME: 1220"
       ]
      },
      {
       "output_type": "stream",
       "stream": "stdout",
       "text": [
        "\n",
        "32.085 -91.3443103448 3.61111111111e-05 -2.51915708812e-05\n",
        "http://mesonet.agron.iastate.edu/json/radar?operation=available&lat=32.085&lon=-91.3443103448&start=2012-08-30T12:25Z\n",
        "http://mesonet.agron.iastate.edu/json/radar?operation=list&radar=DGX&product=N0Q&start=2012-08-30T12:25Z&end=2012-08-30T12:35Z"
       ]
      },
      {
       "output_type": "stream",
       "stream": "stdout",
       "text": [
        "\n",
        "1225 RADAR: DGX RADAR TIME: 1229"
       ]
      },
      {
       "output_type": "stream",
       "stream": "stdout",
       "text": [
        "\n",
        "32.0958333333 -91.3518678161 3.61111111111e-05 -2.51915708812e-05\n",
        "http://mesonet.agron.iastate.edu/json/radar?operation=available&lat=32.0958333333&lon=-91.3518678161&start=2012-08-30T12:30Z\n",
        "http://mesonet.agron.iastate.edu/json/radar?operation=list&radar=DGX&product=N0Q&start=2012-08-30T12:30Z&end=2012-08-30T12:40Z"
       ]
      },
      {
       "output_type": "stream",
       "stream": "stdout",
       "text": [
        "\n",
        "1230 RADAR: DGX RADAR TIME: 1234"
       ]
      },
      {
       "output_type": "stream",
       "stream": "stdout",
       "text": [
        "\n",
        "32.1066666667 -91.3594252874 3.61111111111e-05 -2.51915708812e-05\n",
        "http://mesonet.agron.iastate.edu/json/radar?operation=available&lat=32.1066666667&lon=-91.3594252874&start=2012-08-30T12:35Z\n",
        "http://mesonet.agron.iastate.edu/json/radar?operation=list&radar=DGX&product=N0Q&start=2012-08-30T12:35Z&end=2012-08-30T12:45Z"
       ]
      },
      {
       "output_type": "stream",
       "stream": "stdout",
       "text": [
        "\n",
        "1235 RADAR: DGX RADAR TIME: 1238"
       ]
      },
      {
       "output_type": "stream",
       "stream": "stdout",
       "text": [
        "\n",
        "32.1175 -91.3669827586 3.61111111111e-05 -2.51915708812e-05\n",
        "http://mesonet.agron.iastate.edu/json/radar?operation=available&lat=32.1175&lon=-91.3669827586&start=2012-08-30T12:40Z\n",
        "http://mesonet.agron.iastate.edu/json/radar?operation=list&radar=DGX&product=N0Q&start=2012-08-30T12:40Z&end=2012-08-30T12:50Z"
       ]
      },
      {
       "output_type": "stream",
       "stream": "stdout",
       "text": [
        "\n",
        "1240 RADAR: DGX RADAR TIME: 1243"
       ]
      },
      {
       "output_type": "stream",
       "stream": "stdout",
       "text": [
        "\n",
        "32.1283333333 -91.3745402299 3.61111111111e-05 -2.51915708812e-05\n",
        "http://mesonet.agron.iastate.edu/json/radar?operation=available&lat=32.1283333333&lon=-91.3745402299&start=2012-08-30T12:45Z\n",
        "http://mesonet.agron.iastate.edu/json/radar?operation=list&radar=DGX&product=N0Q&start=2012-08-30T12:45Z&end=2012-08-30T12:55Z"
       ]
      },
      {
       "output_type": "stream",
       "stream": "stdout",
       "text": [
        "\n",
        "1245 RADAR: DGX RADAR TIME: 1248"
       ]
      },
      {
       "output_type": "stream",
       "stream": "stdout",
       "text": [
        "\n",
        "32.1391666667 -91.3820977011 3.61111111111e-05 -2.51915708812e-05\n",
        "http://mesonet.agron.iastate.edu/json/radar?operation=available&lat=32.1391666667&lon=-91.3820977011&start=2012-08-30T12:50Z\n",
        "http://mesonet.agron.iastate.edu/json/radar?operation=list&radar=DGX&product=N0Q&start=2012-08-30T12:50Z&end=2012-08-30T13:00Z"
       ]
      },
      {
       "output_type": "stream",
       "stream": "stdout",
       "text": [
        "\n",
        "1250 RADAR: DGX RADAR TIME: 1252"
       ]
      },
      {
       "output_type": "stream",
       "stream": "stdout",
       "text": [
        "\n",
        "32.15 -91.3896551724 3.61111111111e-05 -2.51915708812e-05\n",
        "http://mesonet.agron.iastate.edu/json/radar?operation=available&lat=32.15&lon=-91.3896551724&start=2012-08-30T12:55Z\n",
        "http://mesonet.agron.iastate.edu/json/radar?operation=list&radar=DGX&product=N0Q&start=2012-08-30T12:55Z&end=2012-08-30T13:05Z"
       ]
      },
      {
       "output_type": "stream",
       "stream": "stdout",
       "text": [
        "\n",
        "1255 RADAR: DGX RADAR TIME: 1257"
       ]
      },
      {
       "output_type": "stream",
       "stream": "stdout",
       "text": [
        "\n",
        "32.1608333333 -91.3972126437 3.61111111111e-05 -2.51915708812e-05\n",
        "http://mesonet.agron.iastate.edu/json/radar?operation=available&lat=32.1608333333&lon=-91.3972126437&start=2012-08-30T13:00Z\n",
        "http://mesonet.agron.iastate.edu/json/radar?operation=list&radar=DGX&product=N0Q&start=2012-08-30T13:00Z&end=2012-08-30T13:10Z"
       ]
      },
      {
       "output_type": "stream",
       "stream": "stdout",
       "text": [
        "\n",
        "1300 RADAR: DGX RADAR TIME: 1301"
       ]
      },
      {
       "output_type": "stream",
       "stream": "stdout",
       "text": [
        "\n",
        "32.1716666667 -91.4047701149 3.61111111111e-05 -2.51915708812e-05\n",
        "http://mesonet.agron.iastate.edu/json/radar?operation=available&lat=32.1716666667&lon=-91.4047701149&start=2012-08-30T13:05Z\n",
        "http://mesonet.agron.iastate.edu/json/radar?operation=list&radar=DGX&product=N0Q&start=2012-08-30T13:05Z&end=2012-08-30T13:15Z"
       ]
      },
      {
       "output_type": "stream",
       "stream": "stdout",
       "text": [
        "\n",
        "1305 RADAR: DGX RADAR TIME: 1306"
       ]
      },
      {
       "output_type": "stream",
       "stream": "stdout",
       "text": [
        "\n",
        "32.1825 -91.4123275862 3.61111111111e-05 -2.51915708812e-05\n",
        "http://mesonet.agron.iastate.edu/json/radar?operation=available&lat=32.1825&lon=-91.4123275862&start=2012-08-30T13:10Z\n",
        "http://mesonet.agron.iastate.edu/json/radar?operation=list&radar=DGX&product=N0Q&start=2012-08-30T13:10Z&end=2012-08-30T13:20Z"
       ]
      },
      {
       "output_type": "stream",
       "stream": "stdout",
       "text": [
        "\n",
        "1310 RADAR: DGX RADAR TIME: 1311"
       ]
      },
      {
       "output_type": "stream",
       "stream": "stdout",
       "text": [
        "\n",
        "32.1933333333 -91.4198850575 3.61111111111e-05 -2.51915708812e-05\n",
        "http://mesonet.agron.iastate.edu/json/radar?operation=available&lat=32.1933333333&lon=-91.4198850575&start=2012-08-30T13:15Z\n",
        "http://mesonet.agron.iastate.edu/json/radar?operation=list&radar=DGX&product=N0Q&start=2012-08-30T13:15Z&end=2012-08-30T13:25Z"
       ]
      },
      {
       "output_type": "stream",
       "stream": "stdout",
       "text": [
        "\n",
        "1315 RADAR: DGX RADAR TIME: 1315"
       ]
      },
      {
       "output_type": "stream",
       "stream": "stdout",
       "text": [
        "\n",
        "32.2041666667 -91.4274425287 3.61111111111e-05 -2.51915708812e-05\n",
        "http://mesonet.agron.iastate.edu/json/radar?operation=available&lat=32.2041666667&lon=-91.4274425287&start=2012-08-30T13:20Z\n",
        "http://mesonet.agron.iastate.edu/json/radar?operation=list&radar=DGX&product=N0Q&start=2012-08-30T13:20Z&end=2012-08-30T13:30Z"
       ]
      },
      {
       "output_type": "stream",
       "stream": "stdout",
       "text": [
        "\n",
        "1320 RADAR: DGX RADAR TIME: 1320"
       ]
      },
      {
       "output_type": "stream",
       "stream": "stdout",
       "text": [
        "\n",
        "32.215 -91.435 3.61111111111e-05 -2.51915708812e-05\n",
        "http://mesonet.agron.iastate.edu/json/radar?operation=available&lat=32.215&lon=-91.435&start=2012-08-30T13:25Z\n",
        "http://mesonet.agron.iastate.edu/json/radar?operation=list&radar=DGX&product=N0Q&start=2012-08-30T13:25Z&end=2012-08-30T13:35Z"
       ]
      },
      {
       "output_type": "stream",
       "stream": "stdout",
       "text": [
        "\n",
        "1325 RADAR: DGX RADAR TIME: 1329"
       ]
      },
      {
       "output_type": "stream",
       "stream": "stdout",
       "text": [
        "\n",
        "32.2258333333 -91.4425574713 3.61111111111e-05 -2.51915708812e-05\n",
        "http://mesonet.agron.iastate.edu/json/radar?operation=available&lat=32.2258333333&lon=-91.4425574713&start=2012-08-30T13:30Z\n",
        "http://mesonet.agron.iastate.edu/json/radar?operation=list&radar=DGX&product=N0Q&start=2012-08-30T13:30Z&end=2012-08-30T13:40Z"
       ]
      },
      {
       "output_type": "stream",
       "stream": "stdout",
       "text": [
        "\n",
        "1330 RADAR: DGX RADAR TIME: 1334"
       ]
      },
      {
       "output_type": "stream",
       "stream": "stdout",
       "text": [
        "\n",
        "32.2366666667 -91.4501149425 3.61111111111e-05 -2.51915708812e-05\n",
        "http://mesonet.agron.iastate.edu/json/radar?operation=available&lat=32.2366666667&lon=-91.4501149425&start=2012-08-30T13:35Z\n",
        "http://mesonet.agron.iastate.edu/json/radar?operation=list&radar=DGX&product=N0Q&start=2012-08-30T13:35Z&end=2012-08-30T13:45Z"
       ]
      },
      {
       "output_type": "stream",
       "stream": "stdout",
       "text": [
        "\n",
        "1335 RADAR: DGX RADAR TIME: 1338"
       ]
      },
      {
       "output_type": "stream",
       "stream": "stdout",
       "text": [
        "\n",
        "32.2475 -91.4576724138 3.61111111111e-05 -2.51915708812e-05\n",
        "http://mesonet.agron.iastate.edu/json/radar?operation=available&lat=32.2475&lon=-91.4576724138&start=2012-08-30T13:40Z\n",
        "http://mesonet.agron.iastate.edu/json/radar?operation=list&radar=DGX&product=N0Q&start=2012-08-30T13:40Z&end=2012-08-30T13:50Z"
       ]
      },
      {
       "output_type": "stream",
       "stream": "stdout",
       "text": [
        "\n",
        "1340 RADAR: DGX RADAR TIME: 1343"
       ]
      },
      {
       "output_type": "stream",
       "stream": "stdout",
       "text": [
        "\n",
        "32.2583333333 -91.4652298851 3.61111111111e-05 -2.51915708812e-05\n",
        "http://mesonet.agron.iastate.edu/json/radar?operation=available&lat=32.2583333333&lon=-91.4652298851&start=2012-08-30T13:45Z\n",
        "http://mesonet.agron.iastate.edu/json/radar?operation=list&radar=DGX&product=N0Q&start=2012-08-30T13:45Z&end=2012-08-30T13:55Z"
       ]
      },
      {
       "output_type": "stream",
       "stream": "stdout",
       "text": [
        "\n",
        "1345 RADAR: DGX RADAR TIME: 1348"
       ]
      },
      {
       "output_type": "stream",
       "stream": "stdout",
       "text": [
        "\n",
        "32.2691666667 -91.4727873563 3.61111111111e-05 -2.51915708812e-05\n",
        "http://mesonet.agron.iastate.edu/json/radar?operation=available&lat=32.2691666667&lon=-91.4727873563&start=2012-08-30T13:50Z\n",
        "http://mesonet.agron.iastate.edu/json/radar?operation=list&radar=DGX&product=N0Q&start=2012-08-30T13:50Z&end=2012-08-30T14:00Z"
       ]
      },
      {
       "output_type": "stream",
       "stream": "stdout",
       "text": [
        "\n",
        "1350 RADAR: DGX RADAR TIME: 1352"
       ]
      },
      {
       "output_type": "stream",
       "stream": "stdout",
       "text": [
        "\n",
        "32.28 -91.4803448276 3.61111111111e-05 -2.51915708812e-05\n",
        "http://mesonet.agron.iastate.edu/json/radar?operation=available&lat=32.28&lon=-91.4803448276&start=2012-08-30T13:55Z\n",
        "http://mesonet.agron.iastate.edu/json/radar?operation=list&radar=DGX&product=N0Q&start=2012-08-30T13:55Z&end=2012-08-30T14:05Z"
       ]
      },
      {
       "output_type": "stream",
       "stream": "stdout",
       "text": [
        "\n",
        "1355 RADAR: DGX RADAR TIME: 1357"
       ]
      },
      {
       "output_type": "stream",
       "stream": "stdout",
       "text": [
        "\n",
        "32.2908333333 -91.4879022988 3.61111111111e-05 -2.51915708812e-05\n",
        "http://mesonet.agron.iastate.edu/json/radar?operation=available&lat=32.2908333333&lon=-91.4879022988&start=2012-08-30T14:00Z\n",
        "http://mesonet.agron.iastate.edu/json/radar?operation=list&radar=DGX&product=N0Q&start=2012-08-30T14:00Z&end=2012-08-30T14:10Z"
       ]
      },
      {
       "output_type": "stream",
       "stream": "stdout",
       "text": [
        "\n",
        "1400 RADAR: DGX RADAR TIME: 1401"
       ]
      },
      {
       "output_type": "stream",
       "stream": "stdout",
       "text": [
        "\n",
        "32.3016666667 -91.4954597701 3.61111111111e-05 -2.51915708812e-05\n",
        "http://mesonet.agron.iastate.edu/json/radar?operation=available&lat=32.3016666667&lon=-91.4954597701&start=2012-08-30T14:05Z\n",
        "http://mesonet.agron.iastate.edu/json/radar?operation=list&radar=DGX&product=N0Q&start=2012-08-30T14:05Z&end=2012-08-30T14:15Z"
       ]
      },
      {
       "output_type": "stream",
       "stream": "stdout",
       "text": [
        "\n",
        "1405 RADAR: DGX RADAR TIME: 1406"
       ]
      },
      {
       "output_type": "stream",
       "stream": "stdout",
       "text": [
        "\n",
        "32.3125 -91.5030172414 3.61111111111e-05 -2.51915708812e-05\n",
        "http://mesonet.agron.iastate.edu/json/radar?operation=available&lat=32.3125&lon=-91.5030172414&start=2012-08-30T14:10Z\n",
        "http://mesonet.agron.iastate.edu/json/radar?operation=list&radar=DGX&product=N0Q&start=2012-08-30T14:10Z&end=2012-08-30T14:20Z"
       ]
      },
      {
       "output_type": "stream",
       "stream": "stdout",
       "text": [
        "\n",
        "1410 RADAR: DGX RADAR TIME: 1411"
       ]
      },
      {
       "output_type": "stream",
       "stream": "stdout",
       "text": [
        "\n",
        "32.3233333333 -91.5105747126 3.61111111111e-05 -2.51915708812e-05\n",
        "http://mesonet.agron.iastate.edu/json/radar?operation=available&lat=32.3233333333&lon=-91.5105747126&start=2012-08-30T14:15Z\n",
        "http://mesonet.agron.iastate.edu/json/radar?operation=list&radar=DGX&product=N0Q&start=2012-08-30T14:15Z&end=2012-08-30T14:25Z"
       ]
      },
      {
       "output_type": "stream",
       "stream": "stdout",
       "text": [
        "\n",
        "1415 RADAR: DGX RADAR TIME: 1415"
       ]
      },
      {
       "output_type": "stream",
       "stream": "stdout",
       "text": [
        "\n",
        "32.3341666667 -91.5181321839 3.61111111111e-05 -2.51915708812e-05\n",
        "http://mesonet.agron.iastate.edu/json/radar?operation=available&lat=32.3341666667&lon=-91.5181321839&start=2012-08-30T14:20Z\n",
        "http://mesonet.agron.iastate.edu/json/radar?operation=list&radar=DGX&product=N0Q&start=2012-08-30T14:20Z&end=2012-08-30T14:30Z"
       ]
      },
      {
       "output_type": "stream",
       "stream": "stdout",
       "text": [
        "\n",
        "1420 RADAR: DGX RADAR TIME: 1420"
       ]
      },
      {
       "output_type": "stream",
       "stream": "stdout",
       "text": [
        "\n",
        "32.345 -91.5256896552 3.61111111111e-05 -2.51915708812e-05\n",
        "http://mesonet.agron.iastate.edu/json/radar?operation=available&lat=32.345&lon=-91.5256896552&start=2012-08-30T14:25Z\n",
        "http://mesonet.agron.iastate.edu/json/radar?operation=list&radar=DGX&product=N0Q&start=2012-08-30T14:25Z&end=2012-08-30T14:35Z"
       ]
      },
      {
       "output_type": "stream",
       "stream": "stdout",
       "text": [
        "\n",
        "1425 RADAR: DGX RADAR TIME: 1425"
       ]
      },
      {
       "output_type": "stream",
       "stream": "stdout",
       "text": [
        "\n",
        "32.3558333333 -91.5332471264 3.61111111111e-05 -2.51915708812e-05\n",
        "http://mesonet.agron.iastate.edu/json/radar?operation=available&lat=32.3558333333&lon=-91.5332471264&start=2012-08-30T14:30Z\n",
        "http://mesonet.agron.iastate.edu/json/radar?operation=list&radar=DGX&product=N0Q&start=2012-08-30T14:30Z&end=2012-08-30T14:40Z"
       ]
      },
      {
       "output_type": "stream",
       "stream": "stdout",
       "text": [
        "\n",
        "1430 RADAR: DGX RADAR TIME: 1434"
       ]
      },
      {
       "output_type": "stream",
       "stream": "stdout",
       "text": [
        "\n",
        "32.3666666667 -91.5408045977 3.61111111111e-05 -2.51915708812e-05\n",
        "http://mesonet.agron.iastate.edu/json/radar?operation=available&lat=32.3666666667&lon=-91.5408045977&start=2012-08-30T14:35Z\n",
        "http://mesonet.agron.iastate.edu/json/radar?operation=list&radar=DGX&product=N0Q&start=2012-08-30T14:35Z&end=2012-08-30T14:45Z"
       ]
      },
      {
       "output_type": "stream",
       "stream": "stdout",
       "text": [
        "\n",
        "1435 RADAR: DGX RADAR TIME: 1438"
       ]
      },
      {
       "output_type": "stream",
       "stream": "stdout",
       "text": [
        "\n",
        "32.3775 -91.548362069 3.61111111111e-05 -2.51915708812e-05\n",
        "http://mesonet.agron.iastate.edu/json/radar?operation=available&lat=32.3775&lon=-91.548362069&start=2012-08-30T14:40Z\n",
        "http://mesonet.agron.iastate.edu/json/radar?operation=list&radar=DGX&product=N0Q&start=2012-08-30T14:40Z&end=2012-08-30T14:50Z"
       ]
      },
      {
       "output_type": "stream",
       "stream": "stdout",
       "text": [
        "\n",
        "1440 RADAR: DGX RADAR TIME: 1443"
       ]
      },
      {
       "output_type": "stream",
       "stream": "stdout",
       "text": [
        "\n",
        "32.3883333333 -91.5559195402 3.61111111111e-05 -2.51915708812e-05\n",
        "http://mesonet.agron.iastate.edu/json/radar?operation=available&lat=32.3883333333&lon=-91.5559195402&start=2012-08-30T14:45Z\n",
        "http://mesonet.agron.iastate.edu/json/radar?operation=list&radar=DGX&product=N0Q&start=2012-08-30T14:45Z&end=2012-08-30T14:55Z"
       ]
      },
      {
       "output_type": "stream",
       "stream": "stdout",
       "text": [
        "\n",
        "1445 RADAR: DGX RADAR TIME: 1448"
       ]
      },
      {
       "output_type": "stream",
       "stream": "stdout",
       "text": [
        "\n",
        "32.3991666667 -91.5634770115 3.61111111111e-05 -2.51915708812e-05\n",
        "http://mesonet.agron.iastate.edu/json/radar?operation=available&lat=32.3991666667&lon=-91.5634770115&start=2012-08-30T14:50Z\n",
        "http://mesonet.agron.iastate.edu/json/radar?operation=list&radar=DGX&product=N0Q&start=2012-08-30T14:50Z&end=2012-08-30T15:00Z"
       ]
      },
      {
       "output_type": "stream",
       "stream": "stdout",
       "text": [
        "\n",
        "1450 RADAR: DGX RADAR TIME: 1452"
       ]
      },
      {
       "output_type": "stream",
       "stream": "stdout",
       "text": [
        "\n",
        "32.41 -91.5710344828 3.61111111111e-05 -2.51915708812e-05\n",
        "http://mesonet.agron.iastate.edu/json/radar?operation=available&lat=32.41&lon=-91.5710344828&start=2012-08-30T14:55Z\n",
        "http://mesonet.agron.iastate.edu/json/radar?operation=list&radar=DGX&product=N0Q&start=2012-08-30T14:55Z&end=2012-08-30T15:05Z"
       ]
      },
      {
       "output_type": "stream",
       "stream": "stdout",
       "text": [
        "\n",
        "1455 RADAR: DGX RADAR TIME: 1457"
       ]
      },
      {
       "output_type": "stream",
       "stream": "stdout",
       "text": [
        "\n",
        "32.4208333333 -91.578591954 3.61111111111e-05 -2.51915708812e-05\n",
        "http://mesonet.agron.iastate.edu/json/radar?operation=available&lat=32.4208333333&lon=-91.578591954&start=2012-08-30T15:00Z\n",
        "http://mesonet.agron.iastate.edu/json/radar?operation=list&radar=DGX&product=N0Q&start=2012-08-30T15:00Z&end=2012-08-30T15:10Z"
       ]
      },
      {
       "output_type": "stream",
       "stream": "stdout",
       "text": [
        "\n",
        "1500 RADAR: DGX RADAR TIME: 1502"
       ]
      },
      {
       "output_type": "stream",
       "stream": "stdout",
       "text": [
        "\n",
        "32.4316666667 -91.5861494253 3.61111111111e-05 -2.51915708812e-05\n",
        "http://mesonet.agron.iastate.edu/json/radar?operation=available&lat=32.4316666667&lon=-91.5861494253&start=2012-08-30T15:05Z\n",
        "http://mesonet.agron.iastate.edu/json/radar?operation=list&radar=DGX&product=N0Q&start=2012-08-30T15:05Z&end=2012-08-30T15:15Z"
       ]
      },
      {
       "output_type": "stream",
       "stream": "stdout",
       "text": [
        "\n",
        "1505 RADAR: DGX RADAR TIME: 1506"
       ]
      },
      {
       "output_type": "stream",
       "stream": "stdout",
       "text": [
        "\n",
        "32.4425 -91.5937068966 3.61111111111e-05 -2.51915708812e-05\n",
        "http://mesonet.agron.iastate.edu/json/radar?operation=available&lat=32.4425&lon=-91.5937068966&start=2012-08-30T15:10Z\n",
        "http://mesonet.agron.iastate.edu/json/radar?operation=list&radar=DGX&product=N0Q&start=2012-08-30T15:10Z&end=2012-08-30T15:20Z"
       ]
      },
      {
       "output_type": "stream",
       "stream": "stdout",
       "text": [
        "\n",
        "1510 RADAR: DGX RADAR TIME: 1511"
       ]
      },
      {
       "output_type": "stream",
       "stream": "stdout",
       "text": [
        "\n",
        "32.4533333333 -91.6012643678 3.61111111111e-05 -2.51915708812e-05\n",
        "http://mesonet.agron.iastate.edu/json/radar?operation=available&lat=32.4533333333&lon=-91.6012643678&start=2012-08-30T15:15Z\n",
        "http://mesonet.agron.iastate.edu/json/radar?operation=list&radar=DGX&product=N0Q&start=2012-08-30T15:15Z&end=2012-08-30T15:25Z"
       ]
      },
      {
       "output_type": "stream",
       "stream": "stdout",
       "text": [
        "\n",
        "1515 RADAR: DGX RADAR TIME: 1515"
       ]
      },
      {
       "output_type": "stream",
       "stream": "stdout",
       "text": [
        "\n",
        "32.4641666667 -91.6088218391 3.61111111111e-05 -2.51915708812e-05\n",
        "http://mesonet.agron.iastate.edu/json/radar?operation=available&lat=32.4641666667&lon=-91.6088218391&start=2012-08-30T15:20Z\n",
        "http://mesonet.agron.iastate.edu/json/radar?operation=list&radar=DGX&product=N0Q&start=2012-08-30T15:20Z&end=2012-08-30T15:30Z"
       ]
      },
      {
       "output_type": "stream",
       "stream": "stdout",
       "text": [
        "\n",
        "1520 RADAR: DGX RADAR TIME: 1520"
       ]
      },
      {
       "output_type": "stream",
       "stream": "stdout",
       "text": [
        "\n",
        "32.475 -91.6163793103 3.61111111111e-05 -2.51915708812e-05\n",
        "http://mesonet.agron.iastate.edu/json/radar?operation=available&lat=32.475&lon=-91.6163793103&start=2012-08-30T15:25Z\n",
        "http://mesonet.agron.iastate.edu/json/radar?operation=list&radar=DGX&product=N0Q&start=2012-08-30T15:25Z&end=2012-08-30T15:35Z"
       ]
      },
      {
       "output_type": "stream",
       "stream": "stdout",
       "text": [
        "\n",
        "1525 RADAR: DGX RADAR TIME: 1525"
       ]
      },
      {
       "output_type": "stream",
       "stream": "stdout",
       "text": [
        "\n",
        "32.4858333333 -91.6239367816 3.61111111111e-05 -2.51915708812e-05\n",
        "http://mesonet.agron.iastate.edu/json/radar?operation=available&lat=32.4858333333&lon=-91.6239367816&start=2012-08-30T15:30Z\n",
        "http://mesonet.agron.iastate.edu/json/radar?operation=list&radar=DGX&product=N0Q&start=2012-08-30T15:30Z&end=2012-08-30T15:40Z"
       ]
      },
      {
       "output_type": "stream",
       "stream": "stdout",
       "text": [
        "\n",
        "1530 RADAR: DGX RADAR TIME: 1534"
       ]
      },
      {
       "output_type": "stream",
       "stream": "stdout",
       "text": [
        "\n",
        "32.4966666667 -91.6314942529 3.61111111111e-05 -2.51915708812e-05\n",
        "http://mesonet.agron.iastate.edu/json/radar?operation=available&lat=32.4966666667&lon=-91.6314942529&start=2012-08-30T15:35Z\n",
        "http://mesonet.agron.iastate.edu/json/radar?operation=list&radar=DGX&product=N0Q&start=2012-08-30T15:35Z&end=2012-08-30T15:45Z"
       ]
      },
      {
       "output_type": "stream",
       "stream": "stdout",
       "text": [
        "\n",
        "1535 RADAR: DGX RADAR TIME: 1539"
       ]
      },
      {
       "output_type": "stream",
       "stream": "stdout",
       "text": [
        "\n",
        "32.5075 -91.6390517241 3.61111111111e-05 -2.51915708812e-05\n",
        "http://mesonet.agron.iastate.edu/json/radar?operation=available&lat=32.5075&lon=-91.6390517241&start=2012-08-30T15:40Z\n",
        "http://mesonet.agron.iastate.edu/json/radar?operation=list&radar=DGX&product=N0Q&start=2012-08-30T15:40Z&end=2012-08-30T15:50Z"
       ]
      },
      {
       "output_type": "stream",
       "stream": "stdout",
       "text": [
        "\n",
        "1540 RADAR: DGX RADAR TIME: 1543"
       ]
      },
      {
       "output_type": "stream",
       "stream": "stdout",
       "text": [
        "\n",
        "32.5183333333 -91.6466091954 3.61111111111e-05 -2.51915708812e-05\n",
        "http://mesonet.agron.iastate.edu/json/radar?operation=available&lat=32.5183333333&lon=-91.6466091954&start=2012-08-30T15:45Z\n",
        "http://mesonet.agron.iastate.edu/json/radar?operation=list&radar=DGX&product=N0Q&start=2012-08-30T15:45Z&end=2012-08-30T15:55Z"
       ]
      },
      {
       "output_type": "stream",
       "stream": "stdout",
       "text": [
        "\n",
        "1545 RADAR: DGX RADAR TIME: 1548"
       ]
      },
      {
       "output_type": "stream",
       "stream": "stdout",
       "text": [
        "\n",
        "32.5291666667 -91.6541666667 3.61111111111e-05 -2.51915708812e-05\n",
        "http://mesonet.agron.iastate.edu/json/radar?operation=available&lat=32.5291666667&lon=-91.6541666667&start=2012-08-30T15:50Z\n",
        "http://mesonet.agron.iastate.edu/json/radar?operation=list&radar=DGX&product=N0Q&start=2012-08-30T15:50Z&end=2012-08-30T16:00Z"
       ]
      },
      {
       "output_type": "stream",
       "stream": "stdout",
       "text": [
        "\n",
        "1550 RADAR: DGX RADAR TIME: 1552"
       ]
      },
      {
       "output_type": "stream",
       "stream": "stdout",
       "text": [
        "\n",
        "32.54 -91.6617241379 3.61111111111e-05 -2.51915708812e-05\n",
        "http://mesonet.agron.iastate.edu/json/radar?operation=available&lat=32.54&lon=-91.6617241379&start=2012-08-30T15:55Z\n",
        "http://mesonet.agron.iastate.edu/json/radar?operation=list&radar=DGX&product=N0Q&start=2012-08-30T15:55Z&end=2012-08-30T16:05Z"
       ]
      },
      {
       "output_type": "stream",
       "stream": "stdout",
       "text": [
        "\n",
        "1555 RADAR: DGX RADAR TIME: 1557"
       ]
      },
      {
       "output_type": "stream",
       "stream": "stdout",
       "text": [
        "\n",
        "32.5508333333 -91.6692816092 3.61111111111e-05 -2.51915708812e-05\n",
        "http://mesonet.agron.iastate.edu/json/radar?operation=available&lat=32.5508333333&lon=-91.6692816092&start=2012-08-30T16:00Z\n",
        "http://mesonet.agron.iastate.edu/json/radar?operation=list&radar=DGX&product=N0Q&start=2012-08-30T16:00Z&end=2012-08-30T16:10Z"
       ]
      },
      {
       "output_type": "stream",
       "stream": "stdout",
       "text": [
        "\n",
        "1600 RADAR: DGX RADAR TIME: 1602"
       ]
      },
      {
       "output_type": "stream",
       "stream": "stdout",
       "text": [
        "\n",
        "32.5616666667 -91.6768390805 3.61111111111e-05 -2.51915708812e-05\n",
        "http://mesonet.agron.iastate.edu/json/radar?operation=available&lat=32.5616666667&lon=-91.6768390805&start=2012-08-30T16:05Z\n",
        "http://mesonet.agron.iastate.edu/json/radar?operation=list&radar=DGX&product=N0Q&start=2012-08-30T16:05Z&end=2012-08-30T16:15Z"
       ]
      },
      {
       "output_type": "stream",
       "stream": "stdout",
       "text": [
        "\n",
        "1605 RADAR: DGX RADAR TIME: 1606"
       ]
      },
      {
       "output_type": "stream",
       "stream": "stdout",
       "text": [
        "\n",
        "32.5725 -91.6843965517 3.61111111111e-05 -2.51915708812e-05\n",
        "http://mesonet.agron.iastate.edu/json/radar?operation=available&lat=32.5725&lon=-91.6843965517&start=2012-08-30T16:10Z\n",
        "http://mesonet.agron.iastate.edu/json/radar?operation=list&radar=DGX&product=N0Q&start=2012-08-30T16:10Z&end=2012-08-30T16:20Z"
       ]
      },
      {
       "output_type": "stream",
       "stream": "stdout",
       "text": [
        "\n",
        "1610 RADAR: DGX RADAR TIME: 1611"
       ]
      },
      {
       "output_type": "stream",
       "stream": "stdout",
       "text": [
        "\n",
        "32.5833333333 -91.691954023 3.61111111111e-05 -2.51915708812e-05\n",
        "http://mesonet.agron.iastate.edu/json/radar?operation=available&lat=32.5833333333&lon=-91.691954023&start=2012-08-30T16:15Z\n",
        "http://mesonet.agron.iastate.edu/json/radar?operation=list&radar=DGX&product=N0Q&start=2012-08-30T16:15Z&end=2012-08-30T16:25Z"
       ]
      },
      {
       "output_type": "stream",
       "stream": "stdout",
       "text": [
        "\n",
        "1615 RADAR: DGX RADAR TIME: 1616"
       ]
      },
      {
       "output_type": "stream",
       "stream": "stdout",
       "text": [
        "\n",
        "32.5941666667 -91.6995114943 3.61111111111e-05 -2.51915708812e-05\n",
        "http://mesonet.agron.iastate.edu/json/radar?operation=available&lat=32.5941666667&lon=-91.6995114943&start=2012-08-30T16:20Z\n",
        "http://mesonet.agron.iastate.edu/json/radar?operation=list&radar=DGX&product=N0Q&start=2012-08-30T16:20Z&end=2012-08-30T16:30Z"
       ]
      },
      {
       "output_type": "stream",
       "stream": "stdout",
       "text": [
        "\n",
        "1620 RADAR: DGX RADAR TIME: 1620"
       ]
      },
      {
       "output_type": "stream",
       "stream": "stdout",
       "text": [
        "\n",
        "32.605 -91.7070689655 3.61111111111e-05 -2.51915708812e-05\n",
        "http://mesonet.agron.iastate.edu/json/radar?operation=available&lat=32.605&lon=-91.7070689655&start=2012-08-30T16:25Z\n",
        "http://mesonet.agron.iastate.edu/json/radar?operation=list&radar=DGX&product=N0Q&start=2012-08-30T16:25Z&end=2012-08-30T16:35Z"
       ]
      },
      {
       "output_type": "stream",
       "stream": "stdout",
       "text": [
        "\n",
        "1625 RADAR: DGX RADAR TIME: 1625"
       ]
      },
      {
       "output_type": "stream",
       "stream": "stdout",
       "text": [
        "\n",
        "32.6158333333 -91.7146264368 3.61111111111e-05 -2.51915708812e-05\n",
        "http://mesonet.agron.iastate.edu/json/radar?operation=available&lat=32.6158333333&lon=-91.7146264368&start=2012-08-30T16:30Z\n",
        "http://mesonet.agron.iastate.edu/json/radar?operation=list&radar=DGX&product=N0Q&start=2012-08-30T16:30Z&end=2012-08-30T16:40Z"
       ]
      },
      {
       "output_type": "stream",
       "stream": "stdout",
       "text": [
        "\n",
        "1630 RADAR: DGX RADAR TIME: 1634"
       ]
      },
      {
       "output_type": "stream",
       "stream": "stdout",
       "text": [
        "\n",
        "32.6266666667 -91.722183908 3.61111111111e-05 -2.51915708812e-05\n",
        "http://mesonet.agron.iastate.edu/json/radar?operation=available&lat=32.6266666667&lon=-91.722183908&start=2012-08-30T16:35Z\n",
        "http://mesonet.agron.iastate.edu/json/radar?operation=list&radar=DGX&product=N0Q&start=2012-08-30T16:35Z&end=2012-08-30T16:45Z"
       ]
      },
      {
       "output_type": "stream",
       "stream": "stdout",
       "text": [
        "\n",
        "1635 RADAR: DGX RADAR TIME: 1639"
       ]
      },
      {
       "output_type": "stream",
       "stream": "stdout",
       "text": [
        "\n",
        "32.6375 -91.7297413793 3.61111111111e-05 -2.51915708812e-05\n",
        "http://mesonet.agron.iastate.edu/json/radar?operation=available&lat=32.6375&lon=-91.7297413793&start=2012-08-30T16:40Z\n",
        "http://mesonet.agron.iastate.edu/json/radar?operation=list&radar=DGX&product=N0Q&start=2012-08-30T16:40Z&end=2012-08-30T16:50Z"
       ]
      },
      {
       "output_type": "stream",
       "stream": "stdout",
       "text": [
        "\n",
        "1640 RADAR: DGX RADAR TIME: 1643"
       ]
      },
      {
       "output_type": "stream",
       "stream": "stdout",
       "text": [
        "\n",
        "32.6483333333 -91.7372988506 3.61111111111e-05 -2.51915708812e-05\n",
        "http://mesonet.agron.iastate.edu/json/radar?operation=available&lat=32.6483333333&lon=-91.7372988506&start=2012-08-30T16:45Z\n",
        "http://mesonet.agron.iastate.edu/json/radar?operation=list&radar=DGX&product=N0Q&start=2012-08-30T16:45Z&end=2012-08-30T16:55Z"
       ]
      },
      {
       "output_type": "stream",
       "stream": "stdout",
       "text": [
        "\n",
        "1645 RADAR: DGX RADAR TIME: 1648"
       ]
      },
      {
       "output_type": "stream",
       "stream": "stdout",
       "text": [
        "\n",
        "32.6591666667 -91.7448563218 3.61111111111e-05 -2.51915708812e-05\n",
        "http://mesonet.agron.iastate.edu/json/radar?operation=available&lat=32.6591666667&lon=-91.7448563218&start=2012-08-30T16:50Z\n",
        "http://mesonet.agron.iastate.edu/json/radar?operation=list&radar=DGX&product=N0Q&start=2012-08-30T16:50Z&end=2012-08-30T17:00Z"
       ]
      },
      {
       "output_type": "stream",
       "stream": "stdout",
       "text": [
        "\n",
        "1650 RADAR: DGX RADAR TIME: 1653"
       ]
      },
      {
       "output_type": "stream",
       "stream": "stdout",
       "text": [
        "\n",
        "32.67 -91.7524137931 3.61111111111e-05 -2.51915708812e-05\n",
        "http://mesonet.agron.iastate.edu/json/radar?operation=available&lat=32.67&lon=-91.7524137931&start=2012-08-30T16:55Z\n",
        "http://mesonet.agron.iastate.edu/json/radar?operation=list&radar=DGX&product=N0Q&start=2012-08-30T16:55Z&end=2012-08-30T17:05Z"
       ]
      },
      {
       "output_type": "stream",
       "stream": "stdout",
       "text": [
        "\n",
        "1655 RADAR: DGX RADAR TIME: 1657"
       ]
      },
      {
       "output_type": "stream",
       "stream": "stdout",
       "text": [
        "\n",
        "32.6808333333 -91.7599712644 3.61111111111e-05 -2.51915708812e-05\n",
        "http://mesonet.agron.iastate.edu/json/radar?operation=available&lat=32.6808333333&lon=-91.7599712644&start=2012-08-30T17:00Z\n",
        "http://mesonet.agron.iastate.edu/json/radar?operation=list&radar=DGX&product=N0Q&start=2012-08-30T17:00Z&end=2012-08-30T17:10Z"
       ]
      },
      {
       "output_type": "stream",
       "stream": "stdout",
       "text": [
        "\n",
        "1700 RADAR: DGX RADAR TIME: 1702"
       ]
      },
      {
       "output_type": "stream",
       "stream": "stdout",
       "text": [
        "\n",
        "32.6916666667 -91.7675287356 3.61111111111e-05 -2.51915708812e-05\n",
        "http://mesonet.agron.iastate.edu/json/radar?operation=available&lat=32.6916666667&lon=-91.7675287356&start=2012-08-30T17:05Z\n",
        "http://mesonet.agron.iastate.edu/json/radar?operation=list&radar=DGX&product=N0Q&start=2012-08-30T17:05Z&end=2012-08-30T17:15Z"
       ]
      },
      {
       "output_type": "stream",
       "stream": "stdout",
       "text": [
        "\n",
        "1705 RADAR: DGX RADAR TIME: 1706"
       ]
      },
      {
       "output_type": "stream",
       "stream": "stdout",
       "text": [
        "\n",
        "32.7025 -91.7750862069 3.61111111111e-05 -2.51915708812e-05\n",
        "http://mesonet.agron.iastate.edu/json/radar?operation=available&lat=32.7025&lon=-91.7750862069&start=2012-08-30T17:10Z\n",
        "http://mesonet.agron.iastate.edu/json/radar?operation=list&radar=DGX&product=N0Q&start=2012-08-30T17:10Z&end=2012-08-30T17:20Z"
       ]
      },
      {
       "output_type": "stream",
       "stream": "stdout",
       "text": [
        "\n",
        "1710 RADAR: DGX RADAR TIME: 1711"
       ]
      },
      {
       "output_type": "stream",
       "stream": "stdout",
       "text": [
        "\n",
        "32.7133333333 -91.7826436782 3.61111111111e-05 -2.51915708812e-05\n",
        "http://mesonet.agron.iastate.edu/json/radar?operation=available&lat=32.7133333333&lon=-91.7826436782&start=2012-08-30T17:15Z\n",
        "http://mesonet.agron.iastate.edu/json/radar?operation=list&radar=DGX&product=N0Q&start=2012-08-30T17:15Z&end=2012-08-30T17:25Z"
       ]
      },
      {
       "output_type": "stream",
       "stream": "stdout",
       "text": [
        "\n",
        "1715 RADAR: DGX RADAR TIME: 1716"
       ]
      },
      {
       "output_type": "stream",
       "stream": "stdout",
       "text": [
        "\n",
        "32.7241666667 -91.7902011494 3.61111111111e-05 -2.51915708812e-05\n",
        "http://mesonet.agron.iastate.edu/json/radar?operation=available&lat=32.7241666667&lon=-91.7902011494&start=2012-08-30T17:20Z\n",
        "http://mesonet.agron.iastate.edu/json/radar?operation=list&radar=DGX&product=N0Q&start=2012-08-30T17:20Z&end=2012-08-30T17:30Z"
       ]
      },
      {
       "output_type": "stream",
       "stream": "stdout",
       "text": [
        "\n",
        "1720 RADAR: DGX RADAR TIME: 1720"
       ]
      },
      {
       "output_type": "stream",
       "stream": "stdout",
       "text": [
        "\n",
        "32.735 -91.7977586207 3.61111111111e-05 -2.51915708812e-05\n",
        "http://mesonet.agron.iastate.edu/json/radar?operation=available&lat=32.735&lon=-91.7977586207&start=2012-08-30T17:25Z\n",
        "http://mesonet.agron.iastate.edu/json/radar?operation=list&radar=DGX&product=N0Q&start=2012-08-30T17:25Z&end=2012-08-30T17:35Z"
       ]
      },
      {
       "output_type": "stream",
       "stream": "stdout",
       "text": [
        "\n",
        "1725 RADAR: DGX RADAR TIME: 1725"
       ]
      },
      {
       "output_type": "stream",
       "stream": "stdout",
       "text": [
        "\n",
        "32.7458333333 -91.805316092 3.61111111111e-05 -2.51915708812e-05\n",
        "http://mesonet.agron.iastate.edu/json/radar?operation=available&lat=32.7458333333&lon=-91.805316092&start=2012-08-30T17:30Z\n",
        "http://mesonet.agron.iastate.edu/json/radar?operation=list&radar=DGX&product=N0Q&start=2012-08-30T17:30Z&end=2012-08-30T17:40Z"
       ]
      },
      {
       "output_type": "stream",
       "stream": "stdout",
       "text": [
        "\n",
        "1730 RADAR: DGX RADAR TIME: 1734"
       ]
      },
      {
       "output_type": "stream",
       "stream": "stdout",
       "text": [
        "\n",
        "32.7566666667 -91.8128735632 3.61111111111e-05 -2.51915708812e-05\n",
        "http://mesonet.agron.iastate.edu/json/radar?operation=available&lat=32.7566666667&lon=-91.8128735632&start=2012-08-30T17:35Z\n",
        "http://mesonet.agron.iastate.edu/json/radar?operation=list&radar=DGX&product=N0Q&start=2012-08-30T17:35Z&end=2012-08-30T17:45Z"
       ]
      },
      {
       "output_type": "stream",
       "stream": "stdout",
       "text": [
        "\n",
        "1735 RADAR: DGX RADAR TIME: 1739"
       ]
      },
      {
       "output_type": "stream",
       "stream": "stdout",
       "text": [
        "\n",
        "32.7675 -91.8204310345 3.61111111111e-05 -2.51915708812e-05\n",
        "http://mesonet.agron.iastate.edu/json/radar?operation=available&lat=32.7675&lon=-91.8204310345&start=2012-08-30T17:40Z\n",
        "http://mesonet.agron.iastate.edu/json/radar?operation=list&radar=DGX&product=N0Q&start=2012-08-30T17:40Z&end=2012-08-30T17:50Z"
       ]
      },
      {
       "output_type": "stream",
       "stream": "stdout",
       "text": [
        "\n",
        "1740 RADAR: DGX RADAR TIME: 1743"
       ]
      },
      {
       "output_type": "stream",
       "stream": "stdout",
       "text": [
        "\n",
        "32.7783333333 -91.8279885057 3.61111111111e-05 -2.51915708812e-05\n",
        "http://mesonet.agron.iastate.edu/json/radar?operation=available&lat=32.7783333333&lon=-91.8279885057&start=2012-08-30T17:45Z\n",
        "http://mesonet.agron.iastate.edu/json/radar?operation=list&radar=DGX&product=N0Q&start=2012-08-30T17:45Z&end=2012-08-30T17:55Z"
       ]
      },
      {
       "output_type": "stream",
       "stream": "stdout",
       "text": [
        "\n",
        "1745 RADAR: DGX RADAR TIME: 1748"
       ]
      },
      {
       "output_type": "stream",
       "stream": "stdout",
       "text": [
        "\n",
        "32.7891666667 -91.835545977 3.61111111111e-05 -2.51915708812e-05\n",
        "http://mesonet.agron.iastate.edu/json/radar?operation=available&lat=32.7891666667&lon=-91.835545977&start=2012-08-30T17:50Z\n",
        "http://mesonet.agron.iastate.edu/json/radar?operation=list&radar=DGX&product=N0Q&start=2012-08-30T17:50Z&end=2012-08-30T18:00Z"
       ]
      },
      {
       "output_type": "stream",
       "stream": "stdout",
       "text": [
        "\n",
        "1750 RADAR: DGX RADAR TIME: 1753"
       ]
      },
      {
       "output_type": "stream",
       "stream": "stdout",
       "text": [
        "\n",
        "32.8 -91.8431034483 3.61111111111e-05 -2.51915708812e-05\n",
        "http://mesonet.agron.iastate.edu/json/radar?operation=available&lat=32.8&lon=-91.8431034483&start=2012-08-30T17:55Z\n",
        "http://mesonet.agron.iastate.edu/json/radar?operation=list&radar=DGX&product=N0Q&start=2012-08-30T17:55Z&end=2012-08-30T18:05Z"
       ]
      },
      {
       "output_type": "stream",
       "stream": "stdout",
       "text": [
        "\n",
        "1755 RADAR: DGX RADAR TIME: 1757"
       ]
      },
      {
       "output_type": "stream",
       "stream": "stdout",
       "text": [
        "\n",
        "32.8108333333 -91.8506609195 3.61111111111e-05 -2.51915708812e-05\n",
        "http://mesonet.agron.iastate.edu/json/radar?operation=available&lat=32.8108333333&lon=-91.8506609195&start=2012-08-30T18:00Z\n",
        "http://mesonet.agron.iastate.edu/json/radar?operation=list&radar=DGX&product=N0Q&start=2012-08-30T18:00Z&end=2012-08-30T18:10Z"
       ]
      },
      {
       "output_type": "stream",
       "stream": "stdout",
       "text": [
        "\n",
        "1800 RADAR: DGX RADAR TIME: 1802"
       ]
      },
      {
       "output_type": "stream",
       "stream": "stdout",
       "text": [
        "\n",
        "32.8216666667 -91.8582183908 3.61111111111e-05 -2.51915708812e-05\n",
        "http://mesonet.agron.iastate.edu/json/radar?operation=available&lat=32.8216666667&lon=-91.8582183908&start=2012-08-30T18:05Z\n",
        "http://mesonet.agron.iastate.edu/json/radar?operation=list&radar=DGX&product=N0Q&start=2012-08-30T18:05Z&end=2012-08-30T18:15Z"
       ]
      },
      {
       "output_type": "stream",
       "stream": "stdout",
       "text": [
        "\n",
        "1805 RADAR: DGX RADAR TIME: 1806"
       ]
      },
      {
       "output_type": "stream",
       "stream": "stdout",
       "text": [
        "\n",
        "32.8325 -91.8657758621 3.61111111111e-05 -2.51915708812e-05\n",
        "http://mesonet.agron.iastate.edu/json/radar?operation=available&lat=32.8325&lon=-91.8657758621&start=2012-08-30T18:10Z\n",
        "http://mesonet.agron.iastate.edu/json/radar?operation=list&radar=DGX&product=N0Q&start=2012-08-30T18:10Z&end=2012-08-30T18:20Z"
       ]
      },
      {
       "output_type": "stream",
       "stream": "stdout",
       "text": [
        "\n",
        "1810 RADAR: DGX RADAR TIME: 1811"
       ]
      },
      {
       "output_type": "stream",
       "stream": "stdout",
       "text": [
        "\n",
        "32.8433333333 -91.8733333333 3.61111111111e-05 -2.51915708812e-05\n",
        "http://mesonet.agron.iastate.edu/json/radar?operation=available&lat=32.8433333333&lon=-91.8733333333&start=2012-08-30T18:15Z\n",
        "http://mesonet.agron.iastate.edu/json/radar?operation=list&radar=DGX&product=N0Q&start=2012-08-30T18:15Z&end=2012-08-30T18:25Z"
       ]
      },
      {
       "output_type": "stream",
       "stream": "stdout",
       "text": [
        "\n",
        "1815 RADAR: DGX RADAR TIME: 1816"
       ]
      },
      {
       "output_type": "stream",
       "stream": "stdout",
       "text": [
        "\n",
        "32.8541666667 -91.8808908046 3.61111111111e-05 -2.51915708812e-05\n",
        "http://mesonet.agron.iastate.edu/json/radar?operation=available&lat=32.8541666667&lon=-91.8808908046&start=2012-08-30T18:20Z\n",
        "http://mesonet.agron.iastate.edu/json/radar?operation=list&radar=DGX&product=N0Q&start=2012-08-30T18:20Z&end=2012-08-30T18:30Z"
       ]
      },
      {
       "output_type": "stream",
       "stream": "stdout",
       "text": [
        "\n",
        "1820 RADAR: DGX RADAR TIME: 1820"
       ]
      },
      {
       "output_type": "stream",
       "stream": "stdout",
       "text": [
        "\n",
        "32.865 -91.8884482759 3.61111111111e-05 -2.51915708812e-05\n",
        "http://mesonet.agron.iastate.edu/json/radar?operation=available&lat=32.865&lon=-91.8884482759&start=2012-08-30T18:25Z\n",
        "http://mesonet.agron.iastate.edu/json/radar?operation=list&radar=SHV&product=N0Q&start=2012-08-30T18:25Z&end=2012-08-30T18:35Z"
       ]
      },
      {
       "output_type": "stream",
       "stream": "stdout",
       "text": [
        "\n",
        "1825 RADAR: SHV RADAR TIME: 1827"
       ]
      },
      {
       "output_type": "stream",
       "stream": "stdout",
       "text": [
        "\n",
        "32.8758333333 -91.8960057471 3.61111111111e-05 -2.51915708812e-05\n",
        "http://mesonet.agron.iastate.edu/json/radar?operation=available&lat=32.8758333333&lon=-91.8960057471&start=2012-08-30T18:30Z\n",
        "http://mesonet.agron.iastate.edu/json/radar?operation=list&radar=SHV&product=N0Q&start=2012-08-30T18:30Z&end=2012-08-30T18:40Z"
       ]
      },
      {
       "output_type": "stream",
       "stream": "stdout",
       "text": [
        "\n",
        "1830 RADAR: SHV RADAR TIME: 1832"
       ]
      },
      {
       "output_type": "stream",
       "stream": "stdout",
       "text": [
        "\n",
        "32.8866666667 -91.9035632184 3.61111111111e-05 -2.51915708812e-05\n",
        "http://mesonet.agron.iastate.edu/json/radar?operation=available&lat=32.8866666667&lon=-91.9035632184&start=2012-08-30T18:35Z\n",
        "http://mesonet.agron.iastate.edu/json/radar?operation=list&radar=LZK&product=N0Q&start=2012-08-30T18:35Z&end=2012-08-30T18:45Z"
       ]
      },
      {
       "output_type": "stream",
       "stream": "stdout",
       "text": [
        "\n",
        "1835 RADAR: LZK RADAR TIME: 1836"
       ]
      },
      {
       "output_type": "stream",
       "stream": "stdout",
       "text": [
        "\n",
        "32.8975 -91.9111206897 3.61111111111e-05 -2.51915708812e-05\n",
        "http://mesonet.agron.iastate.edu/json/radar?operation=available&lat=32.8975&lon=-91.9111206897&start=2012-08-30T18:40Z\n",
        "http://mesonet.agron.iastate.edu/json/radar?operation=list&radar=LZK&product=N0Q&start=2012-08-30T18:40Z&end=2012-08-30T18:50Z"
       ]
      },
      {
       "output_type": "stream",
       "stream": "stdout",
       "text": [
        "\n",
        "1840 RADAR: LZK RADAR TIME: 1840"
       ]
      },
      {
       "output_type": "stream",
       "stream": "stdout",
       "text": [
        "\n",
        "32.9083333333 -91.9186781609 3.61111111111e-05 -2.51915708812e-05\n",
        "http://mesonet.agron.iastate.edu/json/radar?operation=available&lat=32.9083333333&lon=-91.9186781609&start=2012-08-30T18:45Z\n",
        "http://mesonet.agron.iastate.edu/json/radar?operation=list&radar=LZK&product=N0Q&start=2012-08-30T18:45Z&end=2012-08-30T18:55Z"
       ]
      },
      {
       "output_type": "stream",
       "stream": "stdout",
       "text": [
        "\n",
        "1845 RADAR: LZK RADAR TIME: 1845"
       ]
      },
      {
       "output_type": "stream",
       "stream": "stdout",
       "text": [
        "\n",
        "32.9191666667 -91.9262356322 3.61111111111e-05 -2.51915708812e-05\n",
        "http://mesonet.agron.iastate.edu/json/radar?operation=available&lat=32.9191666667&lon=-91.9262356322&start=2012-08-30T18:50Z\n",
        "http://mesonet.agron.iastate.edu/json/radar?operation=list&radar=LZK&product=N0Q&start=2012-08-30T18:50Z&end=2012-08-30T19:00Z"
       ]
      },
      {
       "output_type": "stream",
       "stream": "stdout",
       "text": [
        "\n",
        "1850 RADAR: LZK RADAR TIME: 1853"
       ]
      },
      {
       "output_type": "stream",
       "stream": "stdout",
       "text": [
        "\n",
        "32.93 -91.9337931034 3.61111111111e-05 -2.51915708812e-05\n",
        "http://mesonet.agron.iastate.edu/json/radar?operation=available&lat=32.93&lon=-91.9337931034&start=2012-08-30T18:55Z\n",
        "http://mesonet.agron.iastate.edu/json/radar?operation=list&radar=LZK&product=N0Q&start=2012-08-30T18:55Z&end=2012-08-30T19:05Z"
       ]
      },
      {
       "output_type": "stream",
       "stream": "stdout",
       "text": [
        "\n",
        "1855 RADAR: LZK RADAR TIME: 1858"
       ]
      },
      {
       "output_type": "stream",
       "stream": "stdout",
       "text": [
        "\n",
        "32.9408333333 -91.9413505747 3.61111111111e-05 -2.51915708812e-05\n",
        "http://mesonet.agron.iastate.edu/json/radar?operation=available&lat=32.9408333333&lon=-91.9413505747&start=2012-08-30T19:00Z\n",
        "http://mesonet.agron.iastate.edu/json/radar?operation=list&radar=LZK&product=N0Q&start=2012-08-30T19:00Z&end=2012-08-30T19:10Z"
       ]
      },
      {
       "output_type": "stream",
       "stream": "stdout",
       "text": [
        "\n",
        "1900 RADAR: LZK RADAR TIME: 1902"
       ]
      },
      {
       "output_type": "stream",
       "stream": "stdout",
       "text": [
        "\n",
        "32.9516666667 -91.948908046 3.61111111111e-05 -2.51915708812e-05\n",
        "http://mesonet.agron.iastate.edu/json/radar?operation=available&lat=32.9516666667&lon=-91.948908046&start=2012-08-30T19:05Z\n",
        "http://mesonet.agron.iastate.edu/json/radar?operation=list&radar=LZK&product=N0Q&start=2012-08-30T19:05Z&end=2012-08-30T19:15Z"
       ]
      },
      {
       "output_type": "stream",
       "stream": "stdout",
       "text": [
        "\n",
        "1905 RADAR: LZK RADAR TIME: 1906"
       ]
      },
      {
       "output_type": "stream",
       "stream": "stdout",
       "text": [
        "\n",
        "32.9625 -91.9564655172 3.61111111111e-05 -2.51915708812e-05\n",
        "http://mesonet.agron.iastate.edu/json/radar?operation=available&lat=32.9625&lon=-91.9564655172&start=2012-08-30T19:10Z\n",
        "http://mesonet.agron.iastate.edu/json/radar?operation=list&radar=LZK&product=N0Q&start=2012-08-30T19:10Z&end=2012-08-30T19:20Z"
       ]
      },
      {
       "output_type": "stream",
       "stream": "stdout",
       "text": [
        "\n",
        "1910 RADAR: LZK RADAR TIME: 1911"
       ]
      },
      {
       "output_type": "stream",
       "stream": "stdout",
       "text": [
        "\n",
        "32.9733333333 -91.9640229885 3.61111111111e-05 -2.51915708812e-05\n",
        "http://mesonet.agron.iastate.edu/json/radar?operation=available&lat=32.9733333333&lon=-91.9640229885&start=2012-08-30T19:15Z\n",
        "http://mesonet.agron.iastate.edu/json/radar?operation=list&radar=LZK&product=N0Q&start=2012-08-30T19:15Z&end=2012-08-30T19:25Z"
       ]
      },
      {
       "output_type": "stream",
       "stream": "stdout",
       "text": [
        "\n",
        "1915 RADAR: LZK RADAR TIME: 1915"
       ]
      },
      {
       "output_type": "stream",
       "stream": "stdout",
       "text": [
        "\n",
        "32.9841666667 -91.9715804598 3.61111111111e-05 -2.51915708812e-05\n",
        "http://mesonet.agron.iastate.edu/json/radar?operation=available&lat=32.9841666667&lon=-91.9715804598&start=2012-08-30T19:20Z\n",
        "http://mesonet.agron.iastate.edu/json/radar?operation=list&radar=LZK&product=N0Q&start=2012-08-30T19:20Z&end=2012-08-30T19:30Z"
       ]
      },
      {
       "output_type": "stream",
       "stream": "stdout",
       "text": [
        "\n",
        "1920 RADAR: LZK RADAR TIME: 1923"
       ]
      },
      {
       "output_type": "stream",
       "stream": "stdout",
       "text": [
        "\n",
        "32.995 -91.979137931 3.61111111111e-05 -2.51915708812e-05\n",
        "http://mesonet.agron.iastate.edu/json/radar?operation=available&lat=32.995&lon=-91.979137931&start=2012-08-30T19:25Z\n",
        "http://mesonet.agron.iastate.edu/json/radar?operation=list&radar=LZK&product=N0Q&start=2012-08-30T19:25Z&end=2012-08-30T19:35Z"
       ]
      },
      {
       "output_type": "stream",
       "stream": "stdout",
       "text": [
        "\n",
        "1925 RADAR: LZK RADAR TIME: 1928"
       ]
      },
      {
       "output_type": "stream",
       "stream": "stdout",
       "text": [
        "\n",
        "33.0058333333 -91.9866954023 3.61111111111e-05 -2.51915708812e-05\n",
        "http://mesonet.agron.iastate.edu/json/radar?operation=available&lat=33.0058333333&lon=-91.9866954023&start=2012-08-30T19:30Z\n",
        "http://mesonet.agron.iastate.edu/json/radar?operation=list&radar=LZK&product=N0Q&start=2012-08-30T19:30Z&end=2012-08-30T19:40Z"
       ]
      },
      {
       "output_type": "stream",
       "stream": "stdout",
       "text": [
        "\n",
        "1930 RADAR: LZK RADAR TIME: 1932"
       ]
      },
      {
       "output_type": "stream",
       "stream": "stdout",
       "text": [
        "\n",
        "33.0166666667 -91.9942528736 3.61111111111e-05 -2.51915708812e-05\n",
        "http://mesonet.agron.iastate.edu/json/radar?operation=available&lat=33.0166666667&lon=-91.9942528736&start=2012-08-30T19:35Z\n",
        "http://mesonet.agron.iastate.edu/json/radar?operation=list&radar=LZK&product=N0Q&start=2012-08-30T19:35Z&end=2012-08-30T19:45Z"
       ]
      },
      {
       "output_type": "stream",
       "stream": "stdout",
       "text": [
        "\n",
        "1935 RADAR: LZK RADAR TIME: 1936"
       ]
      },
      {
       "output_type": "stream",
       "stream": "stdout",
       "text": [
        "\n",
        "33.0275 -92.0018103448 3.61111111111e-05 -2.51915708812e-05\n",
        "http://mesonet.agron.iastate.edu/json/radar?operation=available&lat=33.0275&lon=-92.0018103448&start=2012-08-30T19:40Z\n",
        "http://mesonet.agron.iastate.edu/json/radar?operation=list&radar=LZK&product=N0Q&start=2012-08-30T19:40Z&end=2012-08-30T19:50Z"
       ]
      },
      {
       "output_type": "stream",
       "stream": "stdout",
       "text": [
        "\n",
        "1940 RADAR: LZK RADAR TIME: 1941"
       ]
      },
      {
       "output_type": "stream",
       "stream": "stdout",
       "text": [
        "\n",
        "33.0383333333 -92.0093678161 3.61111111111e-05 -2.51915708812e-05\n",
        "http://mesonet.agron.iastate.edu/json/radar?operation=available&lat=33.0383333333&lon=-92.0093678161&start=2012-08-30T19:45Z\n",
        "http://mesonet.agron.iastate.edu/json/radar?operation=list&radar=LZK&product=N0Q&start=2012-08-30T19:45Z&end=2012-08-30T19:55Z"
       ]
      },
      {
       "output_type": "stream",
       "stream": "stdout",
       "text": [
        "\n",
        "1945 RADAR: LZK RADAR TIME: 1945"
       ]
      },
      {
       "output_type": "stream",
       "stream": "stdout",
       "text": [
        "\n",
        "33.0491666667 -92.0169252874 3.61111111111e-05 -2.51915708812e-05\n",
        "http://mesonet.agron.iastate.edu/json/radar?operation=available&lat=33.0491666667&lon=-92.0169252874&start=2012-08-30T19:50Z\n",
        "http://mesonet.agron.iastate.edu/json/radar?operation=list&radar=LZK&product=N0Q&start=2012-08-30T19:50Z&end=2012-08-30T20:00Z"
       ]
      },
      {
       "output_type": "stream",
       "stream": "stdout",
       "text": [
        "\n",
        "1950 RADAR: LZK RADAR TIME: 1954"
       ]
      },
      {
       "output_type": "stream",
       "stream": "stdout",
       "text": [
        "\n",
        "33.06 -92.0244827586 3.61111111111e-05 -2.51915708812e-05\n",
        "http://mesonet.agron.iastate.edu/json/radar?operation=available&lat=33.06&lon=-92.0244827586&start=2012-08-30T19:55Z\n",
        "http://mesonet.agron.iastate.edu/json/radar?operation=list&radar=LZK&product=N0Q&start=2012-08-30T19:55Z&end=2012-08-30T20:05Z"
       ]
      },
      {
       "output_type": "stream",
       "stream": "stdout",
       "text": [
        "\n",
        "1955 RADAR: LZK RADAR TIME: 1958"
       ]
      },
      {
       "output_type": "stream",
       "stream": "stdout",
       "text": [
        "\n",
        "33.0708333333 -92.0320402299 3.61111111111e-05 -2.51915708812e-05\n",
        "http://mesonet.agron.iastate.edu/json/radar?operation=available&lat=33.0708333333&lon=-92.0320402299&start=2012-08-30T20:00Z\n",
        "http://mesonet.agron.iastate.edu/json/radar?operation=list&radar=LZK&product=N0Q&start=2012-08-30T20:00Z&end=2012-08-30T20:10Z"
       ]
      },
      {
       "output_type": "stream",
       "stream": "stdout",
       "text": [
        "\n",
        "2000 RADAR: LZK RADAR TIME: 2002"
       ]
      },
      {
       "output_type": "stream",
       "stream": "stdout",
       "text": [
        "\n",
        "33.0816666667 -92.0395977011 3.61111111111e-05 -2.51915708812e-05\n",
        "http://mesonet.agron.iastate.edu/json/radar?operation=available&lat=33.0816666667&lon=-92.0395977011&start=2012-08-30T20:05Z\n",
        "http://mesonet.agron.iastate.edu/json/radar?operation=list&radar=LZK&product=N0Q&start=2012-08-30T20:05Z&end=2012-08-30T20:15Z"
       ]
      },
      {
       "output_type": "stream",
       "stream": "stdout",
       "text": [
        "\n",
        "2005 RADAR: LZK RADAR TIME: 2007"
       ]
      },
      {
       "output_type": "stream",
       "stream": "stdout",
       "text": [
        "\n",
        "33.0925 -92.0471551724 3.61111111111e-05 -2.51915708812e-05\n",
        "http://mesonet.agron.iastate.edu/json/radar?operation=available&lat=33.0925&lon=-92.0471551724&start=2012-08-30T20:10Z\n",
        "http://mesonet.agron.iastate.edu/json/radar?operation=list&radar=LZK&product=N0Q&start=2012-08-30T20:10Z&end=2012-08-30T20:20Z"
       ]
      },
      {
       "output_type": "stream",
       "stream": "stdout",
       "text": [
        "\n",
        "2010 RADAR: LZK RADAR TIME: 2011"
       ]
      },
      {
       "output_type": "stream",
       "stream": "stdout",
       "text": [
        "\n",
        "33.1033333333 -92.0547126437 3.61111111111e-05 -2.51915708812e-05\n",
        "http://mesonet.agron.iastate.edu/json/radar?operation=available&lat=33.1033333333&lon=-92.0547126437&start=2012-08-30T20:15Z\n",
        "http://mesonet.agron.iastate.edu/json/radar?operation=list&radar=LZK&product=N0Q&start=2012-08-30T20:15Z&end=2012-08-30T20:25Z"
       ]
      },
      {
       "output_type": "stream",
       "stream": "stdout",
       "text": [
        "\n",
        "2015 RADAR: LZK RADAR TIME: 2015"
       ]
      },
      {
       "output_type": "stream",
       "stream": "stdout",
       "text": [
        "\n",
        "33.1141666667 -92.0622701149 3.61111111111e-05 -2.51915708812e-05\n",
        "http://mesonet.agron.iastate.edu/json/radar?operation=available&lat=33.1141666667&lon=-92.0622701149&start=2012-08-30T20:20Z\n",
        "http://mesonet.agron.iastate.edu/json/radar?operation=list&radar=LZK&product=N0Q&start=2012-08-30T20:20Z&end=2012-08-30T20:30Z"
       ]
      },
      {
       "output_type": "stream",
       "stream": "stdout",
       "text": [
        "\n",
        "2020 RADAR: LZK RADAR TIME: 2024"
       ]
      },
      {
       "output_type": "stream",
       "stream": "stdout",
       "text": [
        "\n",
        "33.125 -92.0698275862 3.61111111111e-05 -2.51915708812e-05\n",
        "http://mesonet.agron.iastate.edu/json/radar?operation=available&lat=33.125&lon=-92.0698275862&start=2012-08-30T20:25Z\n",
        "http://mesonet.agron.iastate.edu/json/radar?operation=list&radar=LZK&product=N0Q&start=2012-08-30T20:25Z&end=2012-08-30T20:35Z"
       ]
      },
      {
       "output_type": "stream",
       "stream": "stdout",
       "text": [
        "\n",
        "2025 RADAR: LZK RADAR TIME: 2028"
       ]
      },
      {
       "output_type": "stream",
       "stream": "stdout",
       "text": [
        "\n",
        "33.1358333333 -92.0773850575 3.61111111111e-05 -2.51915708812e-05\n",
        "http://mesonet.agron.iastate.edu/json/radar?operation=available&lat=33.1358333333&lon=-92.0773850575&start=2012-08-30T20:30Z\n",
        "http://mesonet.agron.iastate.edu/json/radar?operation=list&radar=LZK&product=N0Q&start=2012-08-30T20:30Z&end=2012-08-30T20:40Z"
       ]
      },
      {
       "output_type": "stream",
       "stream": "stdout",
       "text": [
        "\n",
        "2030 RADAR: LZK RADAR TIME: 2032"
       ]
      },
      {
       "output_type": "stream",
       "stream": "stdout",
       "text": [
        "\n",
        "33.1466666667 -92.0849425287 3.61111111111e-05 -2.51915708812e-05\n",
        "http://mesonet.agron.iastate.edu/json/radar?operation=available&lat=33.1466666667&lon=-92.0849425287&start=2012-08-30T20:35Z\n",
        "http://mesonet.agron.iastate.edu/json/radar?operation=list&radar=LZK&product=N0Q&start=2012-08-30T20:35Z&end=2012-08-30T20:45Z"
       ]
      },
      {
       "output_type": "stream",
       "stream": "stdout",
       "text": [
        "\n",
        "2035 RADAR: LZK RADAR TIME: 2037"
       ]
      },
      {
       "output_type": "stream",
       "stream": "stdout",
       "text": [
        "\n",
        "33.1575 -92.0925 3.61111111111e-05 -2.51915708812e-05\n",
        "http://mesonet.agron.iastate.edu/json/radar?operation=available&lat=33.1575&lon=-92.0925&start=2012-08-30T20:40Z\n",
        "http://mesonet.agron.iastate.edu/json/radar?operation=list&radar=LZK&product=N0Q&start=2012-08-30T20:40Z&end=2012-08-30T20:50Z"
       ]
      },
      {
       "output_type": "stream",
       "stream": "stdout",
       "text": [
        "\n",
        "2040 RADAR: LZK RADAR TIME: 2041"
       ]
      },
      {
       "output_type": "stream",
       "stream": "stdout",
       "text": [
        "\n",
        "33.1683333333 -92.1000574713 3.61111111111e-05 -2.51915708812e-05\n",
        "http://mesonet.agron.iastate.edu/json/radar?operation=available&lat=33.1683333333&lon=-92.1000574713&start=2012-08-30T20:45Z\n",
        "http://mesonet.agron.iastate.edu/json/radar?operation=list&radar=LZK&product=N0Q&start=2012-08-30T20:45Z&end=2012-08-30T20:55Z"
       ]
      },
      {
       "output_type": "stream",
       "stream": "stdout",
       "text": [
        "\n",
        "2045 RADAR: LZK RADAR TIME: 2045"
       ]
      },
      {
       "output_type": "stream",
       "stream": "stdout",
       "text": [
        "\n",
        "33.1791666667 -92.1076149425 3.61111111111e-05 -2.51915708812e-05\n",
        "http://mesonet.agron.iastate.edu/json/radar?operation=available&lat=33.1791666667&lon=-92.1076149425&start=2012-08-30T20:50Z\n",
        "http://mesonet.agron.iastate.edu/json/radar?operation=list&radar=LZK&product=N0Q&start=2012-08-30T20:50Z&end=2012-08-30T21:00Z"
       ]
      },
      {
       "output_type": "stream",
       "stream": "stdout",
       "text": [
        "\n",
        "2050 RADAR: LZK RADAR TIME: 2050"
       ]
      },
      {
       "output_type": "stream",
       "stream": "stdout",
       "text": [
        "\n",
        "33.19 -92.1151724138 3.61111111111e-05 -2.51915708812e-05\n",
        "http://mesonet.agron.iastate.edu/json/radar?operation=available&lat=33.19&lon=-92.1151724138&start=2012-08-30T20:55Z\n",
        "http://mesonet.agron.iastate.edu/json/radar?operation=list&radar=LZK&product=N0Q&start=2012-08-30T20:55Z&end=2012-08-30T21:05Z"
       ]
      },
      {
       "output_type": "stream",
       "stream": "stdout",
       "text": [
        "\n",
        "2055 RADAR: LZK RADAR TIME: 2058"
       ]
      },
      {
       "output_type": "stream",
       "stream": "stdout",
       "text": [
        "\n",
        "33.2008333333 -92.1227298851 3.61111111111e-05 -2.51915708812e-05\n",
        "http://mesonet.agron.iastate.edu/json/radar?operation=available&lat=33.2008333333&lon=-92.1227298851&start=2012-08-30T21:00Z\n",
        "http://mesonet.agron.iastate.edu/json/radar?operation=list&radar=LZK&product=N0Q&start=2012-08-30T21:00Z&end=2012-08-30T21:10Z"
       ]
      },
      {
       "output_type": "stream",
       "stream": "stdout",
       "text": [
        "\n",
        "2100 RADAR: LZK RADAR TIME: 2103"
       ]
      },
      {
       "output_type": "stream",
       "stream": "stdout",
       "text": [
        "\n",
        "33.2116666667 -92.1302873563 3.61111111111e-05 -2.51915708812e-05\n",
        "http://mesonet.agron.iastate.edu/json/radar?operation=available&lat=33.2116666667&lon=-92.1302873563&start=2012-08-30T21:05Z\n",
        "http://mesonet.agron.iastate.edu/json/radar?operation=list&radar=LZK&product=N0Q&start=2012-08-30T21:05Z&end=2012-08-30T21:15Z"
       ]
      },
      {
       "output_type": "stream",
       "stream": "stdout",
       "text": [
        "\n",
        "2105 RADAR: LZK RADAR TIME: 2107"
       ]
      },
      {
       "output_type": "stream",
       "stream": "stdout",
       "text": [
        "\n",
        "33.2225 -92.1378448276 3.61111111111e-05 -2.51915708812e-05\n",
        "http://mesonet.agron.iastate.edu/json/radar?operation=available&lat=33.2225&lon=-92.1378448276&start=2012-08-30T21:10Z\n",
        "http://mesonet.agron.iastate.edu/json/radar?operation=list&radar=LZK&product=N0Q&start=2012-08-30T21:10Z&end=2012-08-30T21:20Z"
       ]
      },
      {
       "output_type": "stream",
       "stream": "stdout",
       "text": [
        "\n",
        "2110 RADAR: LZK RADAR TIME: 2111"
       ]
      },
      {
       "output_type": "stream",
       "stream": "stdout",
       "text": [
        "\n",
        "33.2333333333 -92.1454022988 3.61111111111e-05 -2.51915708812e-05\n",
        "http://mesonet.agron.iastate.edu/json/radar?operation=available&lat=33.2333333333&lon=-92.1454022988&start=2012-08-30T21:15Z\n",
        "http://mesonet.agron.iastate.edu/json/radar?operation=list&radar=LZK&product=N0Q&start=2012-08-30T21:15Z&end=2012-08-30T21:25Z"
       ]
      },
      {
       "output_type": "stream",
       "stream": "stdout",
       "text": [
        "\n",
        "2115 RADAR: LZK RADAR TIME: 2116"
       ]
      },
      {
       "output_type": "stream",
       "stream": "stdout",
       "text": [
        "\n",
        "33.2441666667 -92.1529597701 3.61111111111e-05 -2.51915708812e-05\n",
        "http://mesonet.agron.iastate.edu/json/radar?operation=available&lat=33.2441666667&lon=-92.1529597701&start=2012-08-30T21:20Z\n",
        "http://mesonet.agron.iastate.edu/json/radar?operation=list&radar=LZK&product=N0Q&start=2012-08-30T21:20Z&end=2012-08-30T21:30Z"
       ]
      },
      {
       "output_type": "stream",
       "stream": "stdout",
       "text": [
        "\n",
        "2120 RADAR: LZK RADAR TIME: 2120"
       ]
      },
      {
       "output_type": "stream",
       "stream": "stdout",
       "text": [
        "\n",
        "33.255 -92.1605172414 3.61111111111e-05 -2.51915708812e-05\n",
        "http://mesonet.agron.iastate.edu/json/radar?operation=available&lat=33.255&lon=-92.1605172414&start=2012-08-30T21:25Z\n",
        "http://mesonet.agron.iastate.edu/json/radar?operation=list&radar=LZK&product=N0Q&start=2012-08-30T21:25Z&end=2012-08-30T21:35Z"
       ]
      },
      {
       "output_type": "stream",
       "stream": "stdout",
       "text": [
        "\n",
        "2125 RADAR: LZK RADAR TIME: 2129"
       ]
      },
      {
       "output_type": "stream",
       "stream": "stdout",
       "text": [
        "\n",
        "33.2658333333 -92.1680747126 3.61111111111e-05 -2.51915708812e-05\n",
        "http://mesonet.agron.iastate.edu/json/radar?operation=available&lat=33.2658333333&lon=-92.1680747126&start=2012-08-30T21:30Z\n",
        "http://mesonet.agron.iastate.edu/json/radar?operation=list&radar=LZK&product=N0Q&start=2012-08-30T21:30Z&end=2012-08-30T21:40Z"
       ]
      },
      {
       "output_type": "stream",
       "stream": "stdout",
       "text": [
        "\n",
        "2130 RADAR: LZK RADAR TIME: 2133"
       ]
      },
      {
       "output_type": "stream",
       "stream": "stdout",
       "text": [
        "\n",
        "33.2766666667 -92.1756321839 3.61111111111e-05 -2.51915708812e-05\n",
        "http://mesonet.agron.iastate.edu/json/radar?operation=available&lat=33.2766666667&lon=-92.1756321839&start=2012-08-30T21:35Z\n",
        "http://mesonet.agron.iastate.edu/json/radar?operation=list&radar=LZK&product=N0Q&start=2012-08-30T21:35Z&end=2012-08-30T21:45Z"
       ]
      },
      {
       "output_type": "stream",
       "stream": "stdout",
       "text": [
        "\n",
        "2135 RADAR: LZK RADAR TIME: 2137"
       ]
      },
      {
       "output_type": "stream",
       "stream": "stdout",
       "text": [
        "\n",
        "33.2875 -92.1831896552 3.61111111111e-05 -2.51915708812e-05\n",
        "http://mesonet.agron.iastate.edu/json/radar?operation=available&lat=33.2875&lon=-92.1831896552&start=2012-08-30T21:40Z\n",
        "http://mesonet.agron.iastate.edu/json/radar?operation=list&radar=LZK&product=N0Q&start=2012-08-30T21:40Z&end=2012-08-30T21:50Z"
       ]
      },
      {
       "output_type": "stream",
       "stream": "stdout",
       "text": [
        "\n",
        "2140 RADAR: LZK RADAR TIME: 2142"
       ]
      },
      {
       "output_type": "stream",
       "stream": "stdout",
       "text": [
        "\n",
        "33.2983333333 -92.1907471264 3.61111111111e-05 -2.51915708812e-05\n",
        "http://mesonet.agron.iastate.edu/json/radar?operation=available&lat=33.2983333333&lon=-92.1907471264&start=2012-08-30T21:45Z\n",
        "http://mesonet.agron.iastate.edu/json/radar?operation=list&radar=LZK&product=N0Q&start=2012-08-30T21:45Z&end=2012-08-30T21:55Z"
       ]
      },
      {
       "output_type": "stream",
       "stream": "stdout",
       "text": [
        "\n",
        "2145 RADAR: LZK RADAR TIME: 2146"
       ]
      },
      {
       "output_type": "stream",
       "stream": "stdout",
       "text": [
        "\n",
        "33.3091666667 -92.1983045977 3.61111111111e-05 -2.51915708812e-05\n",
        "http://mesonet.agron.iastate.edu/json/radar?operation=available&lat=33.3091666667&lon=-92.1983045977&start=2012-08-30T21:50Z\n",
        "http://mesonet.agron.iastate.edu/json/radar?operation=list&radar=LZK&product=N0Q&start=2012-08-30T21:50Z&end=2012-08-30T22:00Z"
       ]
      },
      {
       "output_type": "stream",
       "stream": "stdout",
       "text": [
        "\n",
        "2150 RADAR: LZK RADAR TIME: 2150"
       ]
      },
      {
       "output_type": "stream",
       "stream": "stdout",
       "text": [
        "\n",
        "33.32 -92.205862069 3.61111111111e-05 -2.51915708812e-05\n",
        "http://mesonet.agron.iastate.edu/json/radar?operation=available&lat=33.32&lon=-92.205862069&start=2012-08-30T21:55Z\n",
        "http://mesonet.agron.iastate.edu/json/radar?operation=list&radar=LZK&product=N0Q&start=2012-08-30T21:55Z&end=2012-08-30T22:05Z"
       ]
      },
      {
       "output_type": "stream",
       "stream": "stdout",
       "text": [
        "\n",
        "2155 RADAR: LZK RADAR TIME: 2159"
       ]
      },
      {
       "output_type": "stream",
       "stream": "stdout",
       "text": [
        "\n",
        "33.3308333333 -92.2134195402 3.61111111111e-05 -2.51915708812e-05\n",
        "http://mesonet.agron.iastate.edu/json/radar?operation=available&lat=33.3308333333&lon=-92.2134195402&start=2012-08-30T22:00Z\n",
        "http://mesonet.agron.iastate.edu/json/radar?operation=list&radar=LZK&product=N0Q&start=2012-08-30T22:00Z&end=2012-08-30T22:10Z"
       ]
      },
      {
       "output_type": "stream",
       "stream": "stdout",
       "text": [
        "\n",
        "2200 RADAR: LZK RADAR TIME: 2203"
       ]
      },
      {
       "output_type": "stream",
       "stream": "stdout",
       "text": [
        "\n",
        "33.3416666667 -92.2209770115 3.61111111111e-05 -2.51915708812e-05\n",
        "http://mesonet.agron.iastate.edu/json/radar?operation=available&lat=33.3416666667&lon=-92.2209770115&start=2012-08-30T22:05Z\n",
        "http://mesonet.agron.iastate.edu/json/radar?operation=list&radar=LZK&product=N0Q&start=2012-08-30T22:05Z&end=2012-08-30T22:15Z"
       ]
      },
      {
       "output_type": "stream",
       "stream": "stdout",
       "text": [
        "\n",
        "2205 RADAR: LZK RADAR TIME: 2207"
       ]
      },
      {
       "output_type": "stream",
       "stream": "stdout",
       "text": [
        "\n",
        "33.3525 -92.2285344828 3.61111111111e-05 -2.51915708812e-05\n",
        "http://mesonet.agron.iastate.edu/json/radar?operation=available&lat=33.3525&lon=-92.2285344828&start=2012-08-30T22:10Z\n",
        "http://mesonet.agron.iastate.edu/json/radar?operation=list&radar=LZK&product=N0Q&start=2012-08-30T22:10Z&end=2012-08-30T22:20Z"
       ]
      },
      {
       "output_type": "stream",
       "stream": "stdout",
       "text": [
        "\n",
        "2210 RADAR: LZK RADAR TIME: 2212"
       ]
      },
      {
       "output_type": "stream",
       "stream": "stdout",
       "text": [
        "\n",
        "33.3633333333 -92.236091954 3.61111111111e-05 -2.51915708812e-05\n",
        "http://mesonet.agron.iastate.edu/json/radar?operation=available&lat=33.3633333333&lon=-92.236091954&start=2012-08-30T22:15Z\n",
        "http://mesonet.agron.iastate.edu/json/radar?operation=list&radar=LZK&product=N0Q&start=2012-08-30T22:15Z&end=2012-08-30T22:25Z"
       ]
      },
      {
       "output_type": "stream",
       "stream": "stdout",
       "text": [
        "\n",
        "2215 RADAR: LZK RADAR TIME: 2216"
       ]
      },
      {
       "output_type": "stream",
       "stream": "stdout",
       "text": [
        "\n",
        "33.3741666667 -92.2436494253 3.61111111111e-05 -2.51915708812e-05\n",
        "http://mesonet.agron.iastate.edu/json/radar?operation=available&lat=33.3741666667&lon=-92.2436494253&start=2012-08-30T22:20Z\n",
        "http://mesonet.agron.iastate.edu/json/radar?operation=list&radar=LZK&product=N0Q&start=2012-08-30T22:20Z&end=2012-08-30T22:30Z"
       ]
      },
      {
       "output_type": "stream",
       "stream": "stdout",
       "text": [
        "\n",
        "2220 RADAR: LZK RADAR TIME: 2220"
       ]
      },
      {
       "output_type": "stream",
       "stream": "stdout",
       "text": [
        "\n",
        "33.385 -92.2512068966 3.61111111111e-05 -2.51915708812e-05\n",
        "http://mesonet.agron.iastate.edu/json/radar?operation=available&lat=33.385&lon=-92.2512068966&start=2012-08-30T22:25Z\n",
        "http://mesonet.agron.iastate.edu/json/radar?operation=list&radar=LZK&product=N0Q&start=2012-08-30T22:25Z&end=2012-08-30T22:35Z"
       ]
      },
      {
       "output_type": "stream",
       "stream": "stdout",
       "text": [
        "\n",
        "2225 RADAR: LZK RADAR TIME: 2225"
       ]
      },
      {
       "output_type": "stream",
       "stream": "stdout",
       "text": [
        "\n",
        "33.3958333333 -92.2587643678 3.61111111111e-05 -2.51915708812e-05\n",
        "http://mesonet.agron.iastate.edu/json/radar?operation=available&lat=33.3958333333&lon=-92.2587643678&start=2012-08-30T22:30Z\n",
        "http://mesonet.agron.iastate.edu/json/radar?operation=list&radar=LZK&product=N0Q&start=2012-08-30T22:30Z&end=2012-08-30T22:40Z"
       ]
      },
      {
       "output_type": "stream",
       "stream": "stdout",
       "text": [
        "\n",
        "2230 RADAR: LZK RADAR TIME: 2233"
       ]
      },
      {
       "output_type": "stream",
       "stream": "stdout",
       "text": [
        "\n",
        "33.4066666667 -92.2663218391 3.61111111111e-05 -2.51915708812e-05\n",
        "http://mesonet.agron.iastate.edu/json/radar?operation=available&lat=33.4066666667&lon=-92.2663218391&start=2012-08-30T22:35Z\n",
        "http://mesonet.agron.iastate.edu/json/radar?operation=list&radar=LZK&product=N0Q&start=2012-08-30T22:35Z&end=2012-08-30T22:45Z"
       ]
      },
      {
       "output_type": "stream",
       "stream": "stdout",
       "text": [
        "\n",
        "2235 RADAR: LZK RADAR TIME: 2237"
       ]
      },
      {
       "output_type": "stream",
       "stream": "stdout",
       "text": [
        "\n",
        "33.4175 -92.2738793103 3.61111111111e-05 -2.51915708812e-05\n",
        "http://mesonet.agron.iastate.edu/json/radar?operation=available&lat=33.4175&lon=-92.2738793103&start=2012-08-30T22:40Z\n",
        "http://mesonet.agron.iastate.edu/json/radar?operation=list&radar=LZK&product=N0Q&start=2012-08-30T22:40Z&end=2012-08-30T22:50Z"
       ]
      },
      {
       "output_type": "stream",
       "stream": "stdout",
       "text": [
        "\n",
        "2240 RADAR: LZK RADAR TIME: 2242"
       ]
      },
      {
       "output_type": "stream",
       "stream": "stdout",
       "text": [
        "\n",
        "33.4283333333 -92.2814367816 3.61111111111e-05 -2.51915708812e-05\n",
        "http://mesonet.agron.iastate.edu/json/radar?operation=available&lat=33.4283333333&lon=-92.2814367816&start=2012-08-30T22:45Z\n",
        "http://mesonet.agron.iastate.edu/json/radar?operation=list&radar=LZK&product=N0Q&start=2012-08-30T22:45Z&end=2012-08-30T22:55Z"
       ]
      },
      {
       "output_type": "stream",
       "stream": "stdout",
       "text": [
        "\n",
        "2245 RADAR: LZK RADAR TIME: 2246"
       ]
      },
      {
       "output_type": "stream",
       "stream": "stdout",
       "text": [
        "\n",
        "33.4391666667 -92.2889942529 3.61111111111e-05 -2.51915708812e-05\n",
        "http://mesonet.agron.iastate.edu/json/radar?operation=available&lat=33.4391666667&lon=-92.2889942529&start=2012-08-30T22:50Z\n",
        "http://mesonet.agron.iastate.edu/json/radar?operation=list&radar=LZK&product=N0Q&start=2012-08-30T22:50Z&end=2012-08-30T23:00Z"
       ]
      },
      {
       "output_type": "stream",
       "stream": "stdout",
       "text": [
        "\n",
        "2250 RADAR: LZK RADAR TIME: 2250"
       ]
      },
      {
       "output_type": "stream",
       "stream": "stdout",
       "text": [
        "\n",
        "33.45 -92.2965517241 3.61111111111e-05 -2.51915708812e-05\n",
        "http://mesonet.agron.iastate.edu/json/radar?operation=available&lat=33.45&lon=-92.2965517241&start=2012-08-30T22:55Z\n",
        "http://mesonet.agron.iastate.edu/json/radar?operation=list&radar=LZK&product=N0Q&start=2012-08-30T22:55Z&end=2012-08-30T23:05Z"
       ]
      },
      {
       "output_type": "stream",
       "stream": "stdout",
       "text": [
        "\n",
        "2255 RADAR: LZK RADAR TIME: 2255"
       ]
      },
      {
       "output_type": "stream",
       "stream": "stdout",
       "text": [
        "\n",
        "33.4608333333 -92.3041091954 3.61111111111e-05 -2.51915708812e-05\n",
        "http://mesonet.agron.iastate.edu/json/radar?operation=available&lat=33.4608333333&lon=-92.3041091954&start=2012-08-30T23:00Z\n",
        "http://mesonet.agron.iastate.edu/json/radar?operation=list&radar=LZK&product=N0Q&start=2012-08-30T23:00Z&end=2012-08-30T23:10Z"
       ]
      },
      {
       "output_type": "stream",
       "stream": "stdout",
       "text": [
        "\n",
        "2300 RADAR: LZK RADAR TIME: 2303"
       ]
      },
      {
       "output_type": "stream",
       "stream": "stdout",
       "text": [
        "\n",
        "33.4716666667 -92.3116666667 3.61111111111e-05 -2.51915708812e-05\n",
        "http://mesonet.agron.iastate.edu/json/radar?operation=available&lat=33.4716666667&lon=-92.3116666667&start=2012-08-30T23:05Z\n",
        "http://mesonet.agron.iastate.edu/json/radar?operation=list&radar=LZK&product=N0Q&start=2012-08-30T23:05Z&end=2012-08-30T23:15Z"
       ]
      },
      {
       "output_type": "stream",
       "stream": "stdout",
       "text": [
        "\n",
        "2305 RADAR: LZK RADAR TIME: 2308"
       ]
      },
      {
       "output_type": "stream",
       "stream": "stdout",
       "text": [
        "\n",
        "33.4825 -92.3192241379 3.61111111111e-05 -2.51915708812e-05\n",
        "http://mesonet.agron.iastate.edu/json/radar?operation=available&lat=33.4825&lon=-92.3192241379&start=2012-08-30T23:10Z\n",
        "http://mesonet.agron.iastate.edu/json/radar?operation=list&radar=LZK&product=N0Q&start=2012-08-30T23:10Z&end=2012-08-30T23:20Z"
       ]
      },
      {
       "output_type": "stream",
       "stream": "stdout",
       "text": [
        "\n",
        "2310 RADAR: LZK RADAR TIME: 2312"
       ]
      },
      {
       "output_type": "stream",
       "stream": "stdout",
       "text": [
        "\n",
        "33.4933333333 -92.3267816092 3.61111111111e-05 -2.51915708812e-05\n",
        "http://mesonet.agron.iastate.edu/json/radar?operation=available&lat=33.4933333333&lon=-92.3267816092&start=2012-08-30T23:15Z\n",
        "http://mesonet.agron.iastate.edu/json/radar?operation=list&radar=LZK&product=N0Q&start=2012-08-30T23:15Z&end=2012-08-30T23:25Z"
       ]
      },
      {
       "output_type": "stream",
       "stream": "stdout",
       "text": [
        "\n",
        "2315 RADAR: LZK RADAR TIME: 2316"
       ]
      },
      {
       "output_type": "stream",
       "stream": "stdout",
       "text": [
        "\n",
        "33.5041666667 -92.3343390805 3.61111111111e-05 -2.51915708812e-05\n",
        "http://mesonet.agron.iastate.edu/json/radar?operation=available&lat=33.5041666667&lon=-92.3343390805&start=2012-08-30T23:20Z\n",
        "http://mesonet.agron.iastate.edu/json/radar?operation=list&radar=LZK&product=N0Q&start=2012-08-30T23:20Z&end=2012-08-30T23:30Z"
       ]
      },
      {
       "output_type": "stream",
       "stream": "stdout",
       "text": [
        "\n",
        "2320 RADAR: LZK RADAR TIME: 2320"
       ]
      },
      {
       "output_type": "stream",
       "stream": "stdout",
       "text": [
        "\n",
        "33.515 -92.3418965517 3.61111111111e-05 -2.51915708812e-05\n",
        "http://mesonet.agron.iastate.edu/json/radar?operation=available&lat=33.515&lon=-92.3418965517&start=2012-08-30T23:25Z\n",
        "http://mesonet.agron.iastate.edu/json/radar?operation=list&radar=LZK&product=N0Q&start=2012-08-30T23:25Z&end=2012-08-30T23:35Z"
       ]
      },
      {
       "output_type": "stream",
       "stream": "stdout",
       "text": [
        "\n",
        "2325 RADAR: LZK RADAR TIME: 2325"
       ]
      },
      {
       "output_type": "stream",
       "stream": "stdout",
       "text": [
        "\n",
        "33.5258333333 -92.349454023 3.61111111111e-05 -2.51915708812e-05\n",
        "http://mesonet.agron.iastate.edu/json/radar?operation=available&lat=33.5258333333&lon=-92.349454023&start=2012-08-30T23:30Z\n",
        "http://mesonet.agron.iastate.edu/json/radar?operation=list&radar=LZK&product=N0Q&start=2012-08-30T23:30Z&end=2012-08-30T23:40Z"
       ]
      },
      {
       "output_type": "stream",
       "stream": "stdout",
       "text": [
        "\n",
        "2330 RADAR: LZK RADAR TIME: 2333"
       ]
      },
      {
       "output_type": "stream",
       "stream": "stdout",
       "text": [
        "\n",
        "33.5366666667 -92.3570114943 3.61111111111e-05 -2.51915708812e-05\n",
        "http://mesonet.agron.iastate.edu/json/radar?operation=available&lat=33.5366666667&lon=-92.3570114943&start=2012-08-30T23:35Z\n",
        "http://mesonet.agron.iastate.edu/json/radar?operation=list&radar=LZK&product=N0Q&start=2012-08-30T23:35Z&end=2012-08-30T23:45Z"
       ]
      },
      {
       "output_type": "stream",
       "stream": "stdout",
       "text": [
        "\n",
        "2335 RADAR: LZK RADAR TIME: 2338"
       ]
      },
      {
       "output_type": "stream",
       "stream": "stdout",
       "text": [
        "\n",
        "33.5475 -92.3645689655 3.61111111111e-05 -2.51915708812e-05\n",
        "http://mesonet.agron.iastate.edu/json/radar?operation=available&lat=33.5475&lon=-92.3645689655&start=2012-08-30T23:40Z\n",
        "http://mesonet.agron.iastate.edu/json/radar?operation=list&radar=LZK&product=N0Q&start=2012-08-30T23:40Z&end=2012-08-30T23:50Z"
       ]
      },
      {
       "output_type": "stream",
       "stream": "stdout",
       "text": [
        "\n",
        "2340 RADAR: LZK RADAR TIME: 2342"
       ]
      },
      {
       "output_type": "stream",
       "stream": "stdout",
       "text": [
        "\n",
        "33.5583333333 -92.3721264368 3.61111111111e-05 -2.51915708812e-05\n",
        "http://mesonet.agron.iastate.edu/json/radar?operation=available&lat=33.5583333333&lon=-92.3721264368&start=2012-08-30T23:45Z\n",
        "http://mesonet.agron.iastate.edu/json/radar?operation=list&radar=LZK&product=N0Q&start=2012-08-30T23:45Z&end=2012-08-30T23:55Z"
       ]
      },
      {
       "output_type": "stream",
       "stream": "stdout",
       "text": [
        "\n",
        "2345 RADAR: LZK RADAR TIME: 2346"
       ]
      },
      {
       "output_type": "stream",
       "stream": "stdout",
       "text": [
        "\n",
        "33.5691666667 -92.379683908 3.61111111111e-05 -2.51915708812e-05\n",
        "http://mesonet.agron.iastate.edu/json/radar?operation=available&lat=33.5691666667&lon=-92.379683908&start=2012-08-30T23:50Z\n",
        "http://mesonet.agron.iastate.edu/json/radar?operation=list&radar=LZK&product=N0Q&start=2012-08-30T23:50Z&end=2012-08-31T00:00Z"
       ]
      },
      {
       "output_type": "stream",
       "stream": "stdout",
       "text": [
        "\n",
        "2350 RADAR: LZK RADAR TIME: 2351"
       ]
      },
      {
       "output_type": "stream",
       "stream": "stdout",
       "text": [
        "\n",
        "33.58 -92.3872413793 3.61111111111e-05 -2.51915708812e-05\n",
        "http://mesonet.agron.iastate.edu/json/radar?operation=available&lat=33.58&lon=-92.3872413793&start=2012-08-30T23:55Z\n",
        "http://mesonet.agron.iastate.edu/json/radar?operation=list&radar=LZK&product=N0Q&start=2012-08-30T23:55Z&end=2012-08-31T00:05Z"
       ]
      },
      {
       "output_type": "stream",
       "stream": "stdout",
       "text": [
        "\n",
        "2355 RADAR: LZK RADAR TIME: 2355"
       ]
      },
      {
       "output_type": "stream",
       "stream": "stdout",
       "text": [
        "\n",
        "33.5908333333 -92.3947988506 3.61111111111e-05 -2.51915708812e-05\n",
        "http://mesonet.agron.iastate.edu/json/radar?operation=available&lat=33.5908333333&lon=-92.3947988506&start=2012-08-31T00:00Z\n",
        "http://mesonet.agron.iastate.edu/json/radar?operation=list&radar=LZK&product=N0Q&start=2012-08-31T00:00Z&end=2012-08-31T00:10Z"
       ]
      },
      {
       "output_type": "stream",
       "stream": "stdout",
       "text": [
        "\n",
        "0000 RADAR: LZK RADAR TIME: 0003"
       ]
      },
      {
       "output_type": "stream",
       "stream": "stdout",
       "text": [
        "\n",
        "33.6016666667 -92.4023563218 3.61111111111e-05 -2.51915708812e-05\n",
        "http://mesonet.agron.iastate.edu/json/radar?operation=available&lat=33.6016666667&lon=-92.4023563218&start=2012-08-31T00:05Z\n",
        "http://mesonet.agron.iastate.edu/json/radar?operation=list&radar=LZK&product=N0Q&start=2012-08-31T00:05Z&end=2012-08-31T00:15Z"
       ]
      },
      {
       "output_type": "stream",
       "stream": "stdout",
       "text": [
        "\n",
        "0005 RADAR: LZK RADAR TIME: 0008"
       ]
      },
      {
       "output_type": "stream",
       "stream": "stdout",
       "text": [
        "\n",
        "33.6125 -92.4099137931 3.61111111111e-05 -2.51915708812e-05\n",
        "http://mesonet.agron.iastate.edu/json/radar?operation=available&lat=33.6125&lon=-92.4099137931&start=2012-08-31T00:10Z\n",
        "http://mesonet.agron.iastate.edu/json/radar?operation=list&radar=LZK&product=N0Q&start=2012-08-31T00:10Z&end=2012-08-31T00:20Z"
       ]
      },
      {
       "output_type": "stream",
       "stream": "stdout",
       "text": [
        "\n",
        "0010 RADAR: LZK RADAR TIME: 0012"
       ]
      },
      {
       "output_type": "stream",
       "stream": "stdout",
       "text": [
        "\n",
        "33.6233333333 -92.4174712644 3.61111111111e-05 -2.51915708812e-05\n",
        "http://mesonet.agron.iastate.edu/json/radar?operation=available&lat=33.6233333333&lon=-92.4174712644&start=2012-08-31T00:15Z\n",
        "http://mesonet.agron.iastate.edu/json/radar?operation=list&radar=LZK&product=N0Q&start=2012-08-31T00:15Z&end=2012-08-31T00:25Z"
       ]
      },
      {
       "output_type": "stream",
       "stream": "stdout",
       "text": [
        "\n",
        "0015 RADAR: LZK RADAR TIME: 0016"
       ]
      },
      {
       "output_type": "stream",
       "stream": "stdout",
       "text": [
        "\n",
        "33.6341666667 -92.4250287356 3.61111111111e-05 -2.51915708812e-05\n",
        "http://mesonet.agron.iastate.edu/json/radar?operation=available&lat=33.6341666667&lon=-92.4250287356&start=2012-08-31T00:20Z\n",
        "http://mesonet.agron.iastate.edu/json/radar?operation=list&radar=LZK&product=N0Q&start=2012-08-31T00:20Z&end=2012-08-31T00:30Z"
       ]
      },
      {
       "output_type": "stream",
       "stream": "stdout",
       "text": [
        "\n",
        "0020 RADAR: LZK RADAR TIME: 0021"
       ]
      },
      {
       "output_type": "stream",
       "stream": "stdout",
       "text": [
        "\n",
        "33.645 -92.4325862069 3.61111111111e-05 -2.51915708812e-05\n",
        "http://mesonet.agron.iastate.edu/json/radar?operation=available&lat=33.645&lon=-92.4325862069&start=2012-08-31T00:25Z\n",
        "http://mesonet.agron.iastate.edu/json/radar?operation=list&radar=LZK&product=N0Q&start=2012-08-31T00:25Z&end=2012-08-31T00:35Z"
       ]
      },
      {
       "output_type": "stream",
       "stream": "stdout",
       "text": [
        "\n",
        "0025 RADAR: LZK RADAR TIME: 0025"
       ]
      },
      {
       "output_type": "stream",
       "stream": "stdout",
       "text": [
        "\n",
        "33.6558333333 -92.4401436782 3.61111111111e-05 -2.51915708812e-05\n",
        "http://mesonet.agron.iastate.edu/json/radar?operation=available&lat=33.6558333333&lon=-92.4401436782&start=2012-08-31T00:30Z\n",
        "http://mesonet.agron.iastate.edu/json/radar?operation=list&radar=LZK&product=N0Q&start=2012-08-31T00:30Z&end=2012-08-31T00:40Z"
       ]
      },
      {
       "output_type": "stream",
       "stream": "stdout",
       "text": [
        "\n",
        "0030 RADAR: LZK RADAR TIME: 0034"
       ]
      },
      {
       "output_type": "stream",
       "stream": "stdout",
       "text": [
        "\n",
        "33.6666666667 -92.4477011494 3.61111111111e-05 -2.51915708812e-05\n",
        "http://mesonet.agron.iastate.edu/json/radar?operation=available&lat=33.6666666667&lon=-92.4477011494&start=2012-08-31T00:35Z\n",
        "http://mesonet.agron.iastate.edu/json/radar?operation=list&radar=LZK&product=N0Q&start=2012-08-31T00:35Z&end=2012-08-31T00:45Z"
       ]
      },
      {
       "output_type": "stream",
       "stream": "stdout",
       "text": [
        "\n",
        "0035 RADAR: LZK RADAR TIME: 0038"
       ]
      },
      {
       "output_type": "stream",
       "stream": "stdout",
       "text": [
        "\n",
        "33.6775 -92.4552586207 3.61111111111e-05 -2.51915708812e-05\n",
        "http://mesonet.agron.iastate.edu/json/radar?operation=available&lat=33.6775&lon=-92.4552586207&start=2012-08-31T00:40Z\n",
        "http://mesonet.agron.iastate.edu/json/radar?operation=list&radar=LZK&product=N0Q&start=2012-08-31T00:40Z&end=2012-08-31T00:50Z"
       ]
      },
      {
       "output_type": "stream",
       "stream": "stdout",
       "text": [
        "\n",
        "0040 RADAR: LZK RADAR TIME: 0042"
       ]
      },
      {
       "output_type": "stream",
       "stream": "stdout",
       "text": [
        "\n",
        "33.6883333333 -92.462816092 3.61111111111e-05 -2.51915708812e-05\n",
        "http://mesonet.agron.iastate.edu/json/radar?operation=available&lat=33.6883333333&lon=-92.462816092&start=2012-08-31T00:45Z\n",
        "http://mesonet.agron.iastate.edu/json/radar?operation=list&radar=LZK&product=N0Q&start=2012-08-31T00:45Z&end=2012-08-31T00:55Z"
       ]
      },
      {
       "output_type": "stream",
       "stream": "stdout",
       "text": [
        "\n",
        "0045 RADAR: LZK RADAR TIME: 0047"
       ]
      },
      {
       "output_type": "stream",
       "stream": "stdout",
       "text": [
        "\n",
        "33.6991666667 -92.4703735632 3.61111111111e-05 -2.51915708812e-05\n",
        "http://mesonet.agron.iastate.edu/json/radar?operation=available&lat=33.6991666667&lon=-92.4703735632&start=2012-08-31T00:50Z\n",
        "http://mesonet.agron.iastate.edu/json/radar?operation=list&radar=LZK&product=N0Q&start=2012-08-31T00:50Z&end=2012-08-31T01:00Z"
       ]
      },
      {
       "output_type": "stream",
       "stream": "stdout",
       "text": [
        "\n",
        "0050 RADAR: LZK RADAR TIME: 0051"
       ]
      },
      {
       "output_type": "stream",
       "stream": "stdout",
       "text": [
        "\n",
        "33.71 -92.4779310345 3.61111111111e-05 -2.51915708812e-05\n",
        "http://mesonet.agron.iastate.edu/json/radar?operation=available&lat=33.71&lon=-92.4779310345&start=2012-08-31T00:55Z\n",
        "http://mesonet.agron.iastate.edu/json/radar?operation=list&radar=LZK&product=N0Q&start=2012-08-31T00:55Z&end=2012-08-31T01:05Z"
       ]
      },
      {
       "output_type": "stream",
       "stream": "stdout",
       "text": [
        "\n",
        "0055 RADAR: LZK RADAR TIME: 0055"
       ]
      },
      {
       "output_type": "stream",
       "stream": "stdout",
       "text": [
        "\n",
        "33.7208333333 -92.4854885057 3.61111111111e-05 -2.51915708812e-05\n",
        "http://mesonet.agron.iastate.edu/json/radar?operation=available&lat=33.7208333333&lon=-92.4854885057&start=2012-08-31T01:00Z\n",
        "http://mesonet.agron.iastate.edu/json/radar?operation=list&radar=LZK&product=N0Q&start=2012-08-31T01:00Z&end=2012-08-31T01:10Z"
       ]
      },
      {
       "output_type": "stream",
       "stream": "stdout",
       "text": [
        "\n",
        "0100 RADAR: LZK RADAR TIME: 0100"
       ]
      },
      {
       "output_type": "stream",
       "stream": "stdout",
       "text": [
        "\n",
        "33.7316666667 -92.493045977 3.61111111111e-05 -2.51915708812e-05\n",
        "http://mesonet.agron.iastate.edu/json/radar?operation=available&lat=33.7316666667&lon=-92.493045977&start=2012-08-31T01:05Z\n",
        "http://mesonet.agron.iastate.edu/json/radar?operation=list&radar=LZK&product=N0Q&start=2012-08-31T01:05Z&end=2012-08-31T01:15Z"
       ]
      },
      {
       "output_type": "stream",
       "stream": "stdout",
       "text": [
        "\n",
        "0105 RADAR: LZK RADAR TIME: 0108"
       ]
      },
      {
       "output_type": "stream",
       "stream": "stdout",
       "text": [
        "\n",
        "33.7425 -92.5006034483 3.61111111111e-05 -2.51915708812e-05\n",
        "http://mesonet.agron.iastate.edu/json/radar?operation=available&lat=33.7425&lon=-92.5006034483&start=2012-08-31T01:10Z\n",
        "http://mesonet.agron.iastate.edu/json/radar?operation=list&radar=LZK&product=N0Q&start=2012-08-31T01:10Z&end=2012-08-31T01:20Z"
       ]
      },
      {
       "output_type": "stream",
       "stream": "stdout",
       "text": [
        "\n",
        "0110 RADAR: LZK RADAR TIME: 0112"
       ]
      },
      {
       "output_type": "stream",
       "stream": "stdout",
       "text": [
        "\n",
        "33.7533333333 -92.5081609195 3.61111111111e-05 -2.51915708812e-05\n",
        "http://mesonet.agron.iastate.edu/json/radar?operation=available&lat=33.7533333333&lon=-92.5081609195&start=2012-08-31T01:15Z\n",
        "http://mesonet.agron.iastate.edu/json/radar?operation=list&radar=LZK&product=N0Q&start=2012-08-31T01:15Z&end=2012-08-31T01:25Z"
       ]
      },
      {
       "output_type": "stream",
       "stream": "stdout",
       "text": [
        "\n",
        "0115 RADAR: LZK RADAR TIME: 0117"
       ]
      },
      {
       "output_type": "stream",
       "stream": "stdout",
       "text": [
        "\n",
        "33.7641666667 -92.5157183908 3.61111111111e-05 -2.51915708812e-05\n",
        "http://mesonet.agron.iastate.edu/json/radar?operation=available&lat=33.7641666667&lon=-92.5157183908&start=2012-08-31T01:20Z\n",
        "http://mesonet.agron.iastate.edu/json/radar?operation=list&radar=LZK&product=N0Q&start=2012-08-31T01:20Z&end=2012-08-31T01:30Z"
       ]
      },
      {
       "output_type": "stream",
       "stream": "stdout",
       "text": [
        "\n",
        "0120 RADAR: LZK RADAR TIME: 0121"
       ]
      },
      {
       "output_type": "stream",
       "stream": "stdout",
       "text": [
        "\n",
        "33.775 -92.5232758621 3.61111111111e-05 -2.51915708812e-05\n",
        "http://mesonet.agron.iastate.edu/json/radar?operation=available&lat=33.775&lon=-92.5232758621&start=2012-08-31T01:25Z\n",
        "http://mesonet.agron.iastate.edu/json/radar?operation=list&radar=LZK&product=N0Q&start=2012-08-31T01:25Z&end=2012-08-31T01:35Z"
       ]
      },
      {
       "output_type": "stream",
       "stream": "stdout",
       "text": [
        "\n",
        "0125 RADAR: LZK RADAR TIME: 0125"
       ]
      },
      {
       "output_type": "stream",
       "stream": "stdout",
       "text": [
        "\n",
        "33.7858333333 -92.5308333333 3.61111111111e-05 -2.51915708812e-05\n",
        "http://mesonet.agron.iastate.edu/json/radar?operation=available&lat=33.7858333333&lon=-92.5308333333&start=2012-08-31T01:30Z\n",
        "http://mesonet.agron.iastate.edu/json/radar?operation=list&radar=LZK&product=N0Q&start=2012-08-31T01:30Z&end=2012-08-31T01:40Z"
       ]
      },
      {
       "output_type": "stream",
       "stream": "stdout",
       "text": [
        "\n",
        "0130 RADAR: LZK RADAR TIME: 0130"
       ]
      },
      {
       "output_type": "stream",
       "stream": "stdout",
       "text": [
        "\n",
        "33.7966666667 -92.5383908046 3.61111111111e-05 -2.51915708812e-05\n",
        "http://mesonet.agron.iastate.edu/json/radar?operation=available&lat=33.7966666667&lon=-92.5383908046&start=2012-08-31T01:35Z\n",
        "http://mesonet.agron.iastate.edu/json/radar?operation=list&radar=LZK&product=N0Q&start=2012-08-31T01:35Z&end=2012-08-31T01:45Z"
       ]
      },
      {
       "output_type": "stream",
       "stream": "stdout",
       "text": [
        "\n",
        "0135 RADAR: LZK RADAR TIME: 0138"
       ]
      },
      {
       "output_type": "stream",
       "stream": "stdout",
       "text": [
        "\n",
        "33.8075 -92.5459482759 3.61111111111e-05 -2.51915708812e-05\n",
        "http://mesonet.agron.iastate.edu/json/radar?operation=available&lat=33.8075&lon=-92.5459482759&start=2012-08-31T01:40Z\n",
        "http://mesonet.agron.iastate.edu/json/radar?operation=list&radar=LZK&product=N0Q&start=2012-08-31T01:40Z&end=2012-08-31T01:50Z"
       ]
      },
      {
       "output_type": "stream",
       "stream": "stdout",
       "text": [
        "\n",
        "0140 RADAR: LZK RADAR TIME: 0143"
       ]
      },
      {
       "output_type": "stream",
       "stream": "stdout",
       "text": [
        "\n",
        "33.8183333333 -92.5535057471 3.61111111111e-05 -2.51915708812e-05\n",
        "http://mesonet.agron.iastate.edu/json/radar?operation=available&lat=33.8183333333&lon=-92.5535057471&start=2012-08-31T01:45Z\n",
        "http://mesonet.agron.iastate.edu/json/radar?operation=list&radar=LZK&product=N0Q&start=2012-08-31T01:45Z&end=2012-08-31T01:55Z"
       ]
      },
      {
       "output_type": "stream",
       "stream": "stdout",
       "text": [
        "\n",
        "0145 RADAR: LZK RADAR TIME: 0147"
       ]
      },
      {
       "output_type": "stream",
       "stream": "stdout",
       "text": [
        "\n",
        "33.8291666667 -92.5610632184 3.61111111111e-05 -2.51915708812e-05\n",
        "http://mesonet.agron.iastate.edu/json/radar?operation=available&lat=33.8291666667&lon=-92.5610632184&start=2012-08-31T01:50Z\n",
        "http://mesonet.agron.iastate.edu/json/radar?operation=list&radar=LZK&product=N0Q&start=2012-08-31T01:50Z&end=2012-08-31T02:00Z"
       ]
      },
      {
       "output_type": "stream",
       "stream": "stdout",
       "text": [
        "\n",
        "0150 RADAR: LZK RADAR TIME: 0151"
       ]
      },
      {
       "output_type": "stream",
       "stream": "stdout",
       "text": [
        "\n",
        "33.84 -92.5686206897 3.61111111111e-05 -2.51915708812e-05\n",
        "http://mesonet.agron.iastate.edu/json/radar?operation=available&lat=33.84&lon=-92.5686206897&start=2012-08-31T01:55Z\n",
        "http://mesonet.agron.iastate.edu/json/radar?operation=list&radar=LZK&product=N0Q&start=2012-08-31T01:55Z&end=2012-08-31T02:05Z"
       ]
      },
      {
       "output_type": "stream",
       "stream": "stdout",
       "text": [
        "\n",
        "0155 RADAR: LZK RADAR TIME: 0155"
       ]
      },
      {
       "output_type": "stream",
       "stream": "stdout",
       "text": [
        "\n",
        "33.8508333333 -92.5761781609 3.61111111111e-05 -2.51915708812e-05\n",
        "http://mesonet.agron.iastate.edu/json/radar?operation=available&lat=33.8508333333&lon=-92.5761781609&start=2012-08-31T02:00Z\n",
        "http://mesonet.agron.iastate.edu/json/radar?operation=list&radar=LZK&product=N0Q&start=2012-08-31T02:00Z&end=2012-08-31T02:10Z"
       ]
      },
      {
       "output_type": "stream",
       "stream": "stdout",
       "text": [
        "\n",
        "0200 RADAR: LZK RADAR TIME: 0200"
       ]
      },
      {
       "output_type": "stream",
       "stream": "stdout",
       "text": [
        "\n",
        "33.8616666667 -92.5837356322 3.61111111111e-05 -2.51915708812e-05\n",
        "http://mesonet.agron.iastate.edu/json/radar?operation=available&lat=33.8616666667&lon=-92.5837356322&start=2012-08-31T02:05Z\n",
        "http://mesonet.agron.iastate.edu/json/radar?operation=list&radar=LZK&product=N0Q&start=2012-08-31T02:05Z&end=2012-08-31T02:15Z"
       ]
      },
      {
       "output_type": "stream",
       "stream": "stdout",
       "text": [
        "\n",
        "0205 RADAR: LZK RADAR TIME: 0208"
       ]
      },
      {
       "output_type": "stream",
       "stream": "stdout",
       "text": [
        "\n",
        "33.8725 -92.5912931034 3.61111111111e-05 -2.51915708812e-05\n",
        "http://mesonet.agron.iastate.edu/json/radar?operation=available&lat=33.8725&lon=-92.5912931034&start=2012-08-31T02:10Z\n",
        "http://mesonet.agron.iastate.edu/json/radar?operation=list&radar=LZK&product=N0Q&start=2012-08-31T02:10Z&end=2012-08-31T02:20Z"
       ]
      },
      {
       "output_type": "stream",
       "stream": "stdout",
       "text": [
        "\n",
        "0210 RADAR: LZK RADAR TIME: 0213"
       ]
      },
      {
       "output_type": "stream",
       "stream": "stdout",
       "text": [
        "\n",
        "33.8833333333 -92.5988505747 3.61111111111e-05 -2.51915708812e-05\n",
        "http://mesonet.agron.iastate.edu/json/radar?operation=available&lat=33.8833333333&lon=-92.5988505747&start=2012-08-31T02:15Z\n",
        "http://mesonet.agron.iastate.edu/json/radar?operation=list&radar=LZK&product=N0Q&start=2012-08-31T02:15Z&end=2012-08-31T02:25Z"
       ]
      },
      {
       "output_type": "stream",
       "stream": "stdout",
       "text": [
        "\n",
        "0215 RADAR: LZK RADAR TIME: 0217"
       ]
      },
      {
       "output_type": "stream",
       "stream": "stdout",
       "text": [
        "\n",
        "33.8941666667 -92.606408046 3.61111111111e-05 -2.51915708812e-05\n",
        "http://mesonet.agron.iastate.edu/json/radar?operation=available&lat=33.8941666667&lon=-92.606408046&start=2012-08-31T02:20Z\n",
        "http://mesonet.agron.iastate.edu/json/radar?operation=list&radar=LZK&product=N0Q&start=2012-08-31T02:20Z&end=2012-08-31T02:30Z"
       ]
      },
      {
       "output_type": "stream",
       "stream": "stdout",
       "text": [
        "\n",
        "0220 RADAR: LZK RADAR TIME: 0221"
       ]
      },
      {
       "output_type": "stream",
       "stream": "stdout",
       "text": [
        "\n",
        "33.905 -92.6139655172 3.61111111111e-05 -2.51915708812e-05\n",
        "http://mesonet.agron.iastate.edu/json/radar?operation=available&lat=33.905&lon=-92.6139655172&start=2012-08-31T02:25Z\n",
        "http://mesonet.agron.iastate.edu/json/radar?operation=list&radar=LZK&product=N0Q&start=2012-08-31T02:25Z&end=2012-08-31T02:35Z"
       ]
      },
      {
       "output_type": "stream",
       "stream": "stdout",
       "text": [
        "\n",
        "0225 RADAR: LZK RADAR TIME: 0226"
       ]
      },
      {
       "output_type": "stream",
       "stream": "stdout",
       "text": [
        "\n",
        "33.9158333333 -92.6215229885 3.61111111111e-05 -2.51915708812e-05\n",
        "http://mesonet.agron.iastate.edu/json/radar?operation=available&lat=33.9158333333&lon=-92.6215229885&start=2012-08-31T02:30Z\n",
        "http://mesonet.agron.iastate.edu/json/radar?operation=list&radar=LZK&product=N0Q&start=2012-08-31T02:30Z&end=2012-08-31T02:40Z"
       ]
      },
      {
       "output_type": "stream",
       "stream": "stdout",
       "text": [
        "\n",
        "0230 RADAR: LZK RADAR TIME: 0230"
       ]
      },
      {
       "output_type": "stream",
       "stream": "stdout",
       "text": [
        "\n",
        "33.9266666667 -92.6290804598 3.61111111111e-05 -2.51915708812e-05\n",
        "http://mesonet.agron.iastate.edu/json/radar?operation=available&lat=33.9266666667&lon=-92.6290804598&start=2012-08-31T02:35Z\n",
        "http://mesonet.agron.iastate.edu/json/radar?operation=list&radar=LZK&product=N0Q&start=2012-08-31T02:35Z&end=2012-08-31T02:45Z"
       ]
      },
      {
       "output_type": "stream",
       "stream": "stdout",
       "text": [
        "\n",
        "0235 RADAR: LZK RADAR TIME: 0238"
       ]
      },
      {
       "output_type": "stream",
       "stream": "stdout",
       "text": [
        "\n",
        "33.9375 -92.636637931 3.61111111111e-05 -2.51915708812e-05\n",
        "http://mesonet.agron.iastate.edu/json/radar?operation=available&lat=33.9375&lon=-92.636637931&start=2012-08-31T02:40Z\n",
        "http://mesonet.agron.iastate.edu/json/radar?operation=list&radar=LZK&product=N0Q&start=2012-08-31T02:40Z&end=2012-08-31T02:50Z"
       ]
      },
      {
       "output_type": "stream",
       "stream": "stdout",
       "text": [
        "\n",
        "0240 RADAR: LZK RADAR TIME: 0243"
       ]
      },
      {
       "output_type": "stream",
       "stream": "stdout",
       "text": [
        "\n",
        "33.9483333333 -92.6441954023 3.61111111111e-05 -2.51915708812e-05\n",
        "http://mesonet.agron.iastate.edu/json/radar?operation=available&lat=33.9483333333&lon=-92.6441954023&start=2012-08-31T02:45Z\n",
        "http://mesonet.agron.iastate.edu/json/radar?operation=list&radar=LZK&product=N0Q&start=2012-08-31T02:45Z&end=2012-08-31T02:55Z"
       ]
      },
      {
       "output_type": "stream",
       "stream": "stdout",
       "text": [
        "\n",
        "0245 RADAR: LZK RADAR TIME: 0247"
       ]
      },
      {
       "output_type": "stream",
       "stream": "stdout",
       "text": [
        "\n",
        "33.9591666667 -92.6517528736 3.61111111111e-05 -2.51915708812e-05\n",
        "http://mesonet.agron.iastate.edu/json/radar?operation=available&lat=33.9591666667&lon=-92.6517528736&start=2012-08-31T02:50Z\n",
        "http://mesonet.agron.iastate.edu/json/radar?operation=list&radar=LZK&product=N0Q&start=2012-08-31T02:50Z&end=2012-08-31T03:00Z"
       ]
      },
      {
       "output_type": "stream",
       "stream": "stdout",
       "text": [
        "\n",
        "0250 RADAR: LZK RADAR TIME: 0251"
       ]
      },
      {
       "output_type": "stream",
       "stream": "stdout",
       "text": [
        "\n",
        "33.97 -92.6593103448 3.61111111111e-05 -2.51915708812e-05\n",
        "http://mesonet.agron.iastate.edu/json/radar?operation=available&lat=33.97&lon=-92.6593103448&start=2012-08-31T02:55Z\n",
        "http://mesonet.agron.iastate.edu/json/radar?operation=list&radar=LZK&product=N0Q&start=2012-08-31T02:55Z&end=2012-08-31T03:05Z"
       ]
      },
      {
       "output_type": "stream",
       "stream": "stdout",
       "text": [
        "\n",
        "0255 RADAR: LZK RADAR TIME: 0256"
       ]
      },
      {
       "output_type": "stream",
       "stream": "stdout",
       "text": [
        "\n",
        "33.9808333333 -92.6668678161 3.61111111111e-05 -2.51915708812e-05\n",
        "http://mesonet.agron.iastate.edu/json/radar?operation=available&lat=33.9808333333&lon=-92.6668678161&start=2012-08-31T03:00Z\n",
        "http://mesonet.agron.iastate.edu/json/radar?operation=list&radar=LZK&product=N0Q&start=2012-08-31T03:00Z&end=2012-08-31T03:10Z"
       ]
      },
      {
       "output_type": "stream",
       "stream": "stdout",
       "text": [
        "\n",
        "0300 RADAR: LZK RADAR TIME: 0300"
       ]
      },
      {
       "output_type": "stream",
       "stream": "stdout",
       "text": [
        "\n",
        "33.9916666667 -92.6744252874 3.61111111111e-05 -2.51915708812e-05\n",
        "http://mesonet.agron.iastate.edu/json/radar?operation=available&lat=33.9916666667&lon=-92.6744252874&start=2012-08-31T03:05Z\n",
        "http://mesonet.agron.iastate.edu/json/radar?operation=list&radar=LZK&product=N0Q&start=2012-08-31T03:05Z&end=2012-08-31T03:15Z"
       ]
      },
      {
       "output_type": "stream",
       "stream": "stdout",
       "text": [
        "\n",
        "0305 RADAR: LZK RADAR TIME: 0308"
       ]
      },
      {
       "output_type": "stream",
       "stream": "stdout",
       "text": [
        "\n",
        "34.0025 -92.6819827586 3.61111111111e-05 -2.51915708812e-05\n",
        "http://mesonet.agron.iastate.edu/json/radar?operation=available&lat=34.0025&lon=-92.6819827586&start=2012-08-31T03:10Z\n",
        "http://mesonet.agron.iastate.edu/json/radar?operation=list&radar=LZK&product=N0Q&start=2012-08-31T03:10Z&end=2012-08-31T03:20Z"
       ]
      },
      {
       "output_type": "stream",
       "stream": "stdout",
       "text": [
        "\n",
        "0310 RADAR: LZK RADAR TIME: 0313"
       ]
      },
      {
       "output_type": "stream",
       "stream": "stdout",
       "text": [
        "\n",
        "34.0133333333 -92.6895402299 3.61111111111e-05 -2.51915708812e-05\n",
        "http://mesonet.agron.iastate.edu/json/radar?operation=available&lat=34.0133333333&lon=-92.6895402299&start=2012-08-31T03:15Z\n",
        "http://mesonet.agron.iastate.edu/json/radar?operation=list&radar=LZK&product=N0Q&start=2012-08-31T03:15Z&end=2012-08-31T03:25Z"
       ]
      },
      {
       "output_type": "stream",
       "stream": "stdout",
       "text": [
        "\n",
        "0315 RADAR: LZK RADAR TIME: 0317"
       ]
      },
      {
       "output_type": "stream",
       "stream": "stdout",
       "text": [
        "\n",
        "34.0241666667 -92.6970977011 3.61111111111e-05 -2.51915708812e-05\n",
        "http://mesonet.agron.iastate.edu/json/radar?operation=available&lat=34.0241666667&lon=-92.6970977011&start=2012-08-31T03:20Z\n",
        "http://mesonet.agron.iastate.edu/json/radar?operation=list&radar=LZK&product=N0Q&start=2012-08-31T03:20Z&end=2012-08-31T03:30Z"
       ]
      },
      {
       "output_type": "stream",
       "stream": "stdout",
       "text": [
        "\n",
        "0320 RADAR: LZK RADAR TIME: 0321"
       ]
      },
      {
       "output_type": "stream",
       "stream": "stdout",
       "text": [
        "\n",
        "34.035 -92.7046551724 3.61111111111e-05 -2.51915708812e-05\n",
        "http://mesonet.agron.iastate.edu/json/radar?operation=available&lat=34.035&lon=-92.7046551724&start=2012-08-31T03:25Z\n",
        "http://mesonet.agron.iastate.edu/json/radar?operation=list&radar=LZK&product=N0Q&start=2012-08-31T03:25Z&end=2012-08-31T03:35Z"
       ]
      },
      {
       "output_type": "stream",
       "stream": "stdout",
       "text": [
        "\n",
        "0325 RADAR: LZK RADAR TIME: 0326"
       ]
      },
      {
       "output_type": "stream",
       "stream": "stdout",
       "text": [
        "\n",
        "34.0458333333 -92.7122126437 3.61111111111e-05 -2.51915708812e-05\n",
        "http://mesonet.agron.iastate.edu/json/radar?operation=available&lat=34.0458333333&lon=-92.7122126437&start=2012-08-31T03:30Z\n",
        "http://mesonet.agron.iastate.edu/json/radar?operation=list&radar=LZK&product=N0Q&start=2012-08-31T03:30Z&end=2012-08-31T03:40Z"
       ]
      },
      {
       "output_type": "stream",
       "stream": "stdout",
       "text": [
        "\n",
        "0330 RADAR: LZK RADAR TIME: 0330"
       ]
      },
      {
       "output_type": "stream",
       "stream": "stdout",
       "text": [
        "\n",
        "34.0566666667 -92.7197701149 3.61111111111e-05 -2.51915708812e-05\n",
        "http://mesonet.agron.iastate.edu/json/radar?operation=available&lat=34.0566666667&lon=-92.7197701149&start=2012-08-31T03:35Z\n",
        "http://mesonet.agron.iastate.edu/json/radar?operation=list&radar=LZK&product=N0Q&start=2012-08-31T03:35Z&end=2012-08-31T03:45Z"
       ]
      },
      {
       "output_type": "stream",
       "stream": "stdout",
       "text": [
        "\n",
        "0335 RADAR: LZK RADAR TIME: 0339"
       ]
      },
      {
       "output_type": "stream",
       "stream": "stdout",
       "text": [
        "\n",
        "34.0675 -92.7273275862 3.61111111111e-05 -2.51915708812e-05\n",
        "http://mesonet.agron.iastate.edu/json/radar?operation=available&lat=34.0675&lon=-92.7273275862&start=2012-08-31T03:40Z\n",
        "http://mesonet.agron.iastate.edu/json/radar?operation=list&radar=LZK&product=N0Q&start=2012-08-31T03:40Z&end=2012-08-31T03:50Z"
       ]
      },
      {
       "output_type": "stream",
       "stream": "stdout",
       "text": [
        "\n",
        "0340 RADAR: LZK RADAR TIME: 0343"
       ]
      },
      {
       "output_type": "stream",
       "stream": "stdout",
       "text": [
        "\n",
        "34.0783333333 -92.7348850575 3.61111111111e-05 -2.51915708812e-05\n",
        "http://mesonet.agron.iastate.edu/json/radar?operation=available&lat=34.0783333333&lon=-92.7348850575&start=2012-08-31T03:45Z\n",
        "http://mesonet.agron.iastate.edu/json/radar?operation=list&radar=LZK&product=N0Q&start=2012-08-31T03:45Z&end=2012-08-31T03:55Z"
       ]
      },
      {
       "output_type": "stream",
       "stream": "stdout",
       "text": [
        "\n",
        "0345 RADAR: LZK RADAR TIME: 0347"
       ]
      },
      {
       "output_type": "stream",
       "stream": "stdout",
       "text": [
        "\n",
        "34.0891666667 -92.7424425287 3.61111111111e-05 -2.51915708812e-05\n",
        "http://mesonet.agron.iastate.edu/json/radar?operation=available&lat=34.0891666667&lon=-92.7424425287&start=2012-08-31T03:50Z\n",
        "http://mesonet.agron.iastate.edu/json/radar?operation=list&radar=LZK&product=N0Q&start=2012-08-31T03:50Z&end=2012-08-31T04:00Z"
       ]
      },
      {
       "output_type": "stream",
       "stream": "stdout",
       "text": [
        "\n",
        "0350 RADAR: LZK RADAR TIME: 0352"
       ]
      },
      {
       "output_type": "stream",
       "stream": "stdout",
       "text": [
        "\n",
        "34.1 -92.75 3.61111111111e-05 -2.51915708812e-05\n",
        "http://mesonet.agron.iastate.edu/json/radar?operation=available&lat=34.1&lon=-92.75&start=2012-08-31T03:55Z\n",
        "http://mesonet.agron.iastate.edu/json/radar?operation=list&radar=LZK&product=N0Q&start=2012-08-31T03:55Z&end=2012-08-31T04:05Z"
       ]
      },
      {
       "output_type": "stream",
       "stream": "stdout",
       "text": [
        "\n",
        "0355 RADAR: LZK RADAR TIME: 0356"
       ]
      },
      {
       "output_type": "stream",
       "stream": "stdout",
       "text": [
        "\n",
        "34.1154166667 -92.7510416667 5.13888888889e-05 -3.47222222222e-06\n",
        "http://mesonet.agron.iastate.edu/json/radar?operation=available&lat=34.1154166667&lon=-92.7510416667&start=2012-08-31T04:00Z\n",
        "http://mesonet.agron.iastate.edu/json/radar?operation=list&radar=LZK&product=N0Q&start=2012-08-31T04:00Z&end=2012-08-31T04:10Z"
       ]
      },
      {
       "output_type": "stream",
       "stream": "stdout",
       "text": [
        "\n",
        "0400 RADAR: LZK RADAR TIME: 0400"
       ]
      },
      {
       "output_type": "stream",
       "stream": "stdout",
       "text": [
        "\n",
        "34.1308333333 -92.7520833333 5.13888888889e-05 -3.47222222222e-06\n",
        "http://mesonet.agron.iastate.edu/json/radar?operation=available&lat=34.1308333333&lon=-92.7520833333&start=2012-08-31T04:05Z\n",
        "http://mesonet.agron.iastate.edu/json/radar?operation=list&radar=LZK&product=N0Q&start=2012-08-31T04:05Z&end=2012-08-31T04:15Z"
       ]
      },
      {
       "output_type": "stream",
       "stream": "stdout",
       "text": [
        "\n",
        "0405 RADAR: LZK RADAR TIME: 0409"
       ]
      },
      {
       "output_type": "stream",
       "stream": "stdout",
       "text": [
        "\n",
        "34.14625 -92.753125 5.13888888889e-05 -3.47222222222e-06\n",
        "http://mesonet.agron.iastate.edu/json/radar?operation=available&lat=34.14625&lon=-92.753125&start=2012-08-31T04:10Z\n",
        "http://mesonet.agron.iastate.edu/json/radar?operation=list&radar=LZK&product=N0Q&start=2012-08-31T04:10Z&end=2012-08-31T04:20Z"
       ]
      },
      {
       "output_type": "stream",
       "stream": "stdout",
       "text": [
        "\n",
        "0410 RADAR: LZK RADAR TIME: 0413"
       ]
      },
      {
       "output_type": "stream",
       "stream": "stdout",
       "text": [
        "\n",
        "34.1616666667 -92.7541666667 5.13888888889e-05 -3.47222222222e-06\n",
        "http://mesonet.agron.iastate.edu/json/radar?operation=available&lat=34.1616666667&lon=-92.7541666667&start=2012-08-31T04:15Z\n",
        "http://mesonet.agron.iastate.edu/json/radar?operation=list&radar=LZK&product=N0Q&start=2012-08-31T04:15Z&end=2012-08-31T04:25Z"
       ]
      },
      {
       "output_type": "stream",
       "stream": "stdout",
       "text": [
        "\n",
        "0415 RADAR: LZK RADAR TIME: 0417"
       ]
      },
      {
       "output_type": "stream",
       "stream": "stdout",
       "text": [
        "\n",
        "34.1770833333 -92.7552083333 5.13888888889e-05 -3.47222222222e-06\n",
        "http://mesonet.agron.iastate.edu/json/radar?operation=available&lat=34.1770833333&lon=-92.7552083333&start=2012-08-31T04:20Z\n",
        "http://mesonet.agron.iastate.edu/json/radar?operation=list&radar=LZK&product=N0Q&start=2012-08-31T04:20Z&end=2012-08-31T04:30Z"
       ]
      },
      {
       "output_type": "stream",
       "stream": "stdout",
       "text": [
        "\n",
        "0420 RADAR: LZK RADAR TIME: 0422"
       ]
      },
      {
       "output_type": "stream",
       "stream": "stdout",
       "text": [
        "\n",
        "34.1925 -92.75625 5.13888888889e-05 -3.47222222222e-06\n",
        "http://mesonet.agron.iastate.edu/json/radar?operation=available&lat=34.1925&lon=-92.75625&start=2012-08-31T04:25Z\n",
        "http://mesonet.agron.iastate.edu/json/radar?operation=list&radar=LZK&product=N0Q&start=2012-08-31T04:25Z&end=2012-08-31T04:35Z"
       ]
      },
      {
       "output_type": "stream",
       "stream": "stdout",
       "text": [
        "\n",
        "0425 RADAR: LZK RADAR TIME: 0426"
       ]
      },
      {
       "output_type": "stream",
       "stream": "stdout",
       "text": [
        "\n",
        "34.2079166667 -92.7572916667 5.13888888889e-05 -3.47222222222e-06\n",
        "http://mesonet.agron.iastate.edu/json/radar?operation=available&lat=34.2079166667&lon=-92.7572916667&start=2012-08-31T04:30Z\n",
        "http://mesonet.agron.iastate.edu/json/radar?operation=list&radar=LZK&product=N0Q&start=2012-08-31T04:30Z&end=2012-08-31T04:40Z"
       ]
      },
      {
       "output_type": "stream",
       "stream": "stdout",
       "text": [
        "\n",
        "0430 RADAR: LZK RADAR TIME: 0430"
       ]
      },
      {
       "output_type": "stream",
       "stream": "stdout",
       "text": [
        "\n",
        "34.2233333333 -92.7583333333 5.13888888889e-05 -3.47222222222e-06\n",
        "http://mesonet.agron.iastate.edu/json/radar?operation=available&lat=34.2233333333&lon=-92.7583333333&start=2012-08-31T04:35Z\n",
        "http://mesonet.agron.iastate.edu/json/radar?operation=list&radar=LZK&product=N0Q&start=2012-08-31T04:35Z&end=2012-08-31T04:45Z"
       ]
      },
      {
       "output_type": "stream",
       "stream": "stdout",
       "text": [
        "\n",
        "0435 RADAR: LZK RADAR TIME: 0435"
       ]
      },
      {
       "output_type": "stream",
       "stream": "stdout",
       "text": [
        "\n",
        "34.23875 -92.759375 5.13888888889e-05 -3.47222222222e-06\n",
        "http://mesonet.agron.iastate.edu/json/radar?operation=available&lat=34.23875&lon=-92.759375&start=2012-08-31T04:40Z\n",
        "http://mesonet.agron.iastate.edu/json/radar?operation=list&radar=LZK&product=N0Q&start=2012-08-31T04:40Z&end=2012-08-31T04:50Z"
       ]
      },
      {
       "output_type": "stream",
       "stream": "stdout",
       "text": [
        "\n",
        "0440 RADAR: LZK RADAR TIME: 0443"
       ]
      },
      {
       "output_type": "stream",
       "stream": "stdout",
       "text": [
        "\n",
        "34.2541666667 -92.7604166667 5.13888888889e-05 -3.47222222222e-06\n",
        "http://mesonet.agron.iastate.edu/json/radar?operation=available&lat=34.2541666667&lon=-92.7604166667&start=2012-08-31T04:45Z\n",
        "http://mesonet.agron.iastate.edu/json/radar?operation=list&radar=LZK&product=N0Q&start=2012-08-31T04:45Z&end=2012-08-31T04:55Z"
       ]
      },
      {
       "output_type": "stream",
       "stream": "stdout",
       "text": [
        "\n",
        "0445 RADAR: LZK RADAR TIME: 0448"
       ]
      },
      {
       "output_type": "stream",
       "stream": "stdout",
       "text": [
        "\n",
        "34.2695833333 -92.7614583333 5.13888888889e-05 -3.47222222222e-06\n",
        "http://mesonet.agron.iastate.edu/json/radar?operation=available&lat=34.2695833333&lon=-92.7614583333&start=2012-08-31T04:50Z\n",
        "http://mesonet.agron.iastate.edu/json/radar?operation=list&radar=LZK&product=N0Q&start=2012-08-31T04:50Z&end=2012-08-31T05:00Z"
       ]
      },
      {
       "output_type": "stream",
       "stream": "stdout",
       "text": [
        "\n",
        "0450 RADAR: LZK RADAR TIME: 0452"
       ]
      },
      {
       "output_type": "stream",
       "stream": "stdout",
       "text": [
        "\n",
        "34.285 -92.7625 5.13888888889e-05 -3.47222222222e-06\n",
        "http://mesonet.agron.iastate.edu/json/radar?operation=available&lat=34.285&lon=-92.7625&start=2012-08-31T04:55Z\n",
        "http://mesonet.agron.iastate.edu/json/radar?operation=list&radar=LZK&product=N0Q&start=2012-08-31T04:55Z&end=2012-08-31T05:05Z"
       ]
      },
      {
       "output_type": "stream",
       "stream": "stdout",
       "text": [
        "\n",
        "0455 RADAR: LZK RADAR TIME: 0456"
       ]
      },
      {
       "output_type": "stream",
       "stream": "stdout",
       "text": [
        "\n",
        "34.3004166667 -92.7635416667 5.13888888889e-05 -3.47222222222e-06\n",
        "http://mesonet.agron.iastate.edu/json/radar?operation=available&lat=34.3004166667&lon=-92.7635416667&start=2012-08-31T05:00Z\n",
        "http://mesonet.agron.iastate.edu/json/radar?operation=list&radar=LZK&product=N0Q&start=2012-08-31T05:00Z&end=2012-08-31T05:10Z"
       ]
      },
      {
       "output_type": "stream",
       "stream": "stdout",
       "text": [
        "\n",
        "0500 RADAR: LZK RADAR TIME: 0500"
       ]
      },
      {
       "output_type": "stream",
       "stream": "stdout",
       "text": [
        "\n",
        "34.3158333333 -92.7645833333 5.13888888889e-05 -3.47222222222e-06\n",
        "http://mesonet.agron.iastate.edu/json/radar?operation=available&lat=34.3158333333&lon=-92.7645833333&start=2012-08-31T05:05Z\n",
        "http://mesonet.agron.iastate.edu/json/radar?operation=list&radar=LZK&product=N0Q&start=2012-08-31T05:05Z&end=2012-08-31T05:15Z"
       ]
      },
      {
       "output_type": "stream",
       "stream": "stdout",
       "text": [
        "\n",
        "0505 RADAR: LZK RADAR TIME: 0505"
       ]
      },
      {
       "output_type": "stream",
       "stream": "stdout",
       "text": [
        "\n",
        "34.33125 -92.765625 5.13888888889e-05 -3.47222222222e-06\n",
        "http://mesonet.agron.iastate.edu/json/radar?operation=available&lat=34.33125&lon=-92.765625&start=2012-08-31T05:10Z\n",
        "http://mesonet.agron.iastate.edu/json/radar?operation=list&radar=LZK&product=N0Q&start=2012-08-31T05:10Z&end=2012-08-31T05:20Z"
       ]
      },
      {
       "output_type": "stream",
       "stream": "stdout",
       "text": [
        "\n",
        "0510 RADAR: LZK RADAR TIME: 0513"
       ]
      },
      {
       "output_type": "stream",
       "stream": "stdout",
       "text": [
        "\n",
        "34.3466666667 -92.7666666667 5.13888888889e-05 -3.47222222222e-06\n",
        "http://mesonet.agron.iastate.edu/json/radar?operation=available&lat=34.3466666667&lon=-92.7666666667&start=2012-08-31T05:15Z\n",
        "http://mesonet.agron.iastate.edu/json/radar?operation=list&radar=LZK&product=N0Q&start=2012-08-31T05:15Z&end=2012-08-31T05:25Z"
       ]
      },
      {
       "output_type": "stream",
       "stream": "stdout",
       "text": [
        "\n",
        "0515 RADAR: LZK RADAR TIME: 0518"
       ]
      },
      {
       "output_type": "stream",
       "stream": "stdout",
       "text": [
        "\n",
        "34.3620833333 -92.7677083333 5.13888888889e-05 -3.47222222222e-06\n",
        "http://mesonet.agron.iastate.edu/json/radar?operation=available&lat=34.3620833333&lon=-92.7677083333&start=2012-08-31T05:20Z\n",
        "http://mesonet.agron.iastate.edu/json/radar?operation=list&radar=LZK&product=N0Q&start=2012-08-31T05:20Z&end=2012-08-31T05:30Z"
       ]
      },
      {
       "output_type": "stream",
       "stream": "stdout",
       "text": [
        "\n",
        "0520 RADAR: LZK RADAR TIME: 0522"
       ]
      },
      {
       "output_type": "stream",
       "stream": "stdout",
       "text": [
        "\n",
        "34.3775 -92.76875 5.13888888889e-05 -3.47222222222e-06\n",
        "http://mesonet.agron.iastate.edu/json/radar?operation=available&lat=34.3775&lon=-92.76875&start=2012-08-31T05:25Z\n",
        "http://mesonet.agron.iastate.edu/json/radar?operation=list&radar=LZK&product=N0Q&start=2012-08-31T05:25Z&end=2012-08-31T05:35Z"
       ]
      },
      {
       "output_type": "stream",
       "stream": "stdout",
       "text": [
        "\n",
        "0525 RADAR: LZK RADAR TIME: 0526"
       ]
      },
      {
       "output_type": "stream",
       "stream": "stdout",
       "text": [
        "\n",
        "34.3929166667 -92.7697916667 5.13888888889e-05 -3.47222222222e-06\n",
        "http://mesonet.agron.iastate.edu/json/radar?operation=available&lat=34.3929166667&lon=-92.7697916667&start=2012-08-31T05:30Z\n",
        "http://mesonet.agron.iastate.edu/json/radar?operation=list&radar=LZK&product=N0Q&start=2012-08-31T05:30Z&end=2012-08-31T05:40Z"
       ]
      },
      {
       "output_type": "stream",
       "stream": "stdout",
       "text": [
        "\n",
        "0530 RADAR: LZK RADAR TIME: 0531"
       ]
      },
      {
       "output_type": "stream",
       "stream": "stdout",
       "text": [
        "\n",
        "34.4083333333 -92.7708333333 5.13888888889e-05 -3.47222222222e-06\n",
        "http://mesonet.agron.iastate.edu/json/radar?operation=available&lat=34.4083333333&lon=-92.7708333333&start=2012-08-31T05:35Z\n",
        "http://mesonet.agron.iastate.edu/json/radar?operation=list&radar=LZK&product=N0Q&start=2012-08-31T05:35Z&end=2012-08-31T05:45Z"
       ]
      },
      {
       "output_type": "stream",
       "stream": "stdout",
       "text": [
        "\n",
        "0535 RADAR: LZK RADAR TIME: 0535"
       ]
      },
      {
       "output_type": "stream",
       "stream": "stdout",
       "text": [
        "\n",
        "34.42375 -92.771875 5.13888888889e-05 -3.47222222222e-06\n",
        "http://mesonet.agron.iastate.edu/json/radar?operation=available&lat=34.42375&lon=-92.771875&start=2012-08-31T05:40Z\n",
        "http://mesonet.agron.iastate.edu/json/radar?operation=list&radar=LZK&product=N0Q&start=2012-08-31T05:40Z&end=2012-08-31T05:50Z"
       ]
      },
      {
       "output_type": "stream",
       "stream": "stdout",
       "text": [
        "\n",
        "0540 RADAR: LZK RADAR TIME: 0544"
       ]
      },
      {
       "output_type": "stream",
       "stream": "stdout",
       "text": [
        "\n",
        "34.4391666667 -92.7729166667 5.13888888889e-05 -3.47222222222e-06\n",
        "http://mesonet.agron.iastate.edu/json/radar?operation=available&lat=34.4391666667&lon=-92.7729166667&start=2012-08-31T05:45Z\n",
        "http://mesonet.agron.iastate.edu/json/radar?operation=list&radar=LZK&product=N0Q&start=2012-08-31T05:45Z&end=2012-08-31T05:55Z"
       ]
      },
      {
       "output_type": "stream",
       "stream": "stdout",
       "text": [
        "\n",
        "0545 RADAR: LZK RADAR TIME: 0548"
       ]
      },
      {
       "output_type": "stream",
       "stream": "stdout",
       "text": [
        "\n",
        "34.4545833333 -92.7739583333 5.13888888889e-05 -3.47222222222e-06\n",
        "http://mesonet.agron.iastate.edu/json/radar?operation=available&lat=34.4545833333&lon=-92.7739583333&start=2012-08-31T05:50Z\n",
        "http://mesonet.agron.iastate.edu/json/radar?operation=list&radar=LZK&product=N0Q&start=2012-08-31T05:50Z&end=2012-08-31T06:00Z"
       ]
      },
      {
       "output_type": "stream",
       "stream": "stdout",
       "text": [
        "\n",
        "0550 RADAR: LZK RADAR TIME: 0552"
       ]
      },
      {
       "output_type": "stream",
       "stream": "stdout",
       "text": [
        "\n",
        "34.47 -92.775 5.13888888889e-05 -3.47222222222e-06\n",
        "http://mesonet.agron.iastate.edu/json/radar?operation=available&lat=34.47&lon=-92.775&start=2012-08-31T05:55Z\n",
        "http://mesonet.agron.iastate.edu/json/radar?operation=list&radar=LZK&product=N0Q&start=2012-08-31T05:55Z&end=2012-08-31T06:05Z"
       ]
      },
      {
       "output_type": "stream",
       "stream": "stdout",
       "text": [
        "\n",
        "0555 RADAR: LZK RADAR TIME: 0556"
       ]
      },
      {
       "output_type": "stream",
       "stream": "stdout",
       "text": [
        "\n",
        "34.4854166667 -92.7760416667 5.13888888889e-05 -3.47222222222e-06\n",
        "http://mesonet.agron.iastate.edu/json/radar?operation=available&lat=34.4854166667&lon=-92.7760416667&start=2012-08-31T06:00Z\n",
        "http://mesonet.agron.iastate.edu/json/radar?operation=list&radar=LZK&product=N0Q&start=2012-08-31T06:00Z&end=2012-08-31T06:10Z"
       ]
      },
      {
       "output_type": "stream",
       "stream": "stdout",
       "text": [
        "\n",
        "0600 RADAR: LZK RADAR TIME: 0601"
       ]
      },
      {
       "output_type": "stream",
       "stream": "stdout",
       "text": [
        "\n",
        "34.5008333333 -92.7770833333 5.13888888889e-05 -3.47222222222e-06\n",
        "http://mesonet.agron.iastate.edu/json/radar?operation=available&lat=34.5008333333&lon=-92.7770833333&start=2012-08-31T06:05Z\n",
        "http://mesonet.agron.iastate.edu/json/radar?operation=list&radar=LZK&product=N0Q&start=2012-08-31T06:05Z&end=2012-08-31T06:15Z"
       ]
      },
      {
       "output_type": "stream",
       "stream": "stdout",
       "text": [
        "\n",
        "0605 RADAR: LZK RADAR TIME: 0605"
       ]
      },
      {
       "output_type": "stream",
       "stream": "stdout",
       "text": [
        "\n",
        "34.51625 -92.778125 5.13888888889e-05 -3.47222222222e-06\n",
        "http://mesonet.agron.iastate.edu/json/radar?operation=available&lat=34.51625&lon=-92.778125&start=2012-08-31T06:10Z\n",
        "http://mesonet.agron.iastate.edu/json/radar?operation=list&radar=LZK&product=N0Q&start=2012-08-31T06:10Z&end=2012-08-31T06:20Z"
       ]
      },
      {
       "output_type": "stream",
       "stream": "stdout",
       "text": [
        "\n",
        "0610 RADAR: LZK RADAR TIME: 0614"
       ]
      },
      {
       "output_type": "stream",
       "stream": "stdout",
       "text": [
        "\n",
        "34.5316666667 -92.7791666667 5.13888888889e-05 -3.47222222222e-06\n",
        "http://mesonet.agron.iastate.edu/json/radar?operation=available&lat=34.5316666667&lon=-92.7791666667&start=2012-08-31T06:15Z\n",
        "http://mesonet.agron.iastate.edu/json/radar?operation=list&radar=LZK&product=N0Q&start=2012-08-31T06:15Z&end=2012-08-31T06:25Z"
       ]
      },
      {
       "output_type": "stream",
       "stream": "stdout",
       "text": [
        "\n",
        "0615 RADAR: LZK RADAR TIME: 0618"
       ]
      },
      {
       "output_type": "stream",
       "stream": "stdout",
       "text": [
        "\n",
        "34.5470833333 -92.7802083333 5.13888888889e-05 -3.47222222222e-06\n",
        "http://mesonet.agron.iastate.edu/json/radar?operation=available&lat=34.5470833333&lon=-92.7802083333&start=2012-08-31T06:20Z\n",
        "http://mesonet.agron.iastate.edu/json/radar?operation=list&radar=LZK&product=N0Q&start=2012-08-31T06:20Z&end=2012-08-31T06:30Z"
       ]
      },
      {
       "output_type": "stream",
       "stream": "stdout",
       "text": [
        "\n",
        "0620 RADAR: LZK RADAR TIME: 0622"
       ]
      },
      {
       "output_type": "stream",
       "stream": "stdout",
       "text": [
        "\n",
        "34.5625 -92.78125 5.13888888889e-05 -3.47222222222e-06\n",
        "http://mesonet.agron.iastate.edu/json/radar?operation=available&lat=34.5625&lon=-92.78125&start=2012-08-31T06:25Z\n",
        "http://mesonet.agron.iastate.edu/json/radar?operation=list&radar=LZK&product=N0Q&start=2012-08-31T06:25Z&end=2012-08-31T06:35Z"
       ]
      },
      {
       "output_type": "stream",
       "stream": "stdout",
       "text": [
        "\n",
        "0625 RADAR: LZK RADAR TIME: 0627"
       ]
      },
      {
       "output_type": "stream",
       "stream": "stdout",
       "text": [
        "\n",
        "34.5779166667 -92.7822916667 5.13888888889e-05 -3.47222222222e-06\n",
        "http://mesonet.agron.iastate.edu/json/radar?operation=available&lat=34.5779166667&lon=-92.7822916667&start=2012-08-31T06:30Z\n",
        "http://mesonet.agron.iastate.edu/json/radar?operation=list&radar=LZK&product=N0Q&start=2012-08-31T06:30Z&end=2012-08-31T06:40Z"
       ]
      },
      {
       "output_type": "stream",
       "stream": "stdout",
       "text": [
        "\n",
        "0630 RADAR: LZK RADAR TIME: 0631"
       ]
      },
      {
       "output_type": "stream",
       "stream": "stdout",
       "text": [
        "\n",
        "34.5933333333 -92.7833333333 5.13888888889e-05 -3.47222222222e-06\n",
        "http://mesonet.agron.iastate.edu/json/radar?operation=available&lat=34.5933333333&lon=-92.7833333333&start=2012-08-31T06:35Z\n",
        "http://mesonet.agron.iastate.edu/json/radar?operation=list&radar=LZK&product=N0Q&start=2012-08-31T06:35Z&end=2012-08-31T06:45Z"
       ]
      },
      {
       "output_type": "stream",
       "stream": "stdout",
       "text": [
        "\n",
        "0635 RADAR: LZK RADAR TIME: 0635"
       ]
      },
      {
       "output_type": "stream",
       "stream": "stdout",
       "text": [
        "\n",
        "34.60875 -92.784375 5.13888888889e-05 -3.47222222222e-06\n",
        "http://mesonet.agron.iastate.edu/json/radar?operation=available&lat=34.60875&lon=-92.784375&start=2012-08-31T06:40Z\n",
        "http://mesonet.agron.iastate.edu/json/radar?operation=list&radar=LZK&product=N0Q&start=2012-08-31T06:40Z&end=2012-08-31T06:50Z"
       ]
      },
      {
       "output_type": "stream",
       "stream": "stdout",
       "text": [
        "\n",
        "0640 RADAR: LZK RADAR TIME: 0644"
       ]
      },
      {
       "output_type": "stream",
       "stream": "stdout",
       "text": [
        "\n",
        "34.6241666667 -92.7854166667 5.13888888889e-05 -3.47222222222e-06\n",
        "http://mesonet.agron.iastate.edu/json/radar?operation=available&lat=34.6241666667&lon=-92.7854166667&start=2012-08-31T06:45Z\n",
        "http://mesonet.agron.iastate.edu/json/radar?operation=list&radar=LZK&product=N0Q&start=2012-08-31T06:45Z&end=2012-08-31T06:55Z"
       ]
      },
      {
       "output_type": "stream",
       "stream": "stdout",
       "text": [
        "\n",
        "0645 RADAR: LZK RADAR TIME: 0648"
       ]
      },
      {
       "output_type": "stream",
       "stream": "stdout",
       "text": [
        "\n",
        "34.6395833333 -92.7864583333 5.13888888889e-05 -3.47222222222e-06\n",
        "http://mesonet.agron.iastate.edu/json/radar?operation=available&lat=34.6395833333&lon=-92.7864583333&start=2012-08-31T06:50Z\n",
        "http://mesonet.agron.iastate.edu/json/radar?operation=list&radar=LZK&product=N0Q&start=2012-08-31T06:50Z&end=2012-08-31T07:00Z"
       ]
      },
      {
       "output_type": "stream",
       "stream": "stdout",
       "text": [
        "\n",
        "0650 RADAR: LZK RADAR TIME: 0652"
       ]
      },
      {
       "output_type": "stream",
       "stream": "stdout",
       "text": [
        "\n",
        "34.655 -92.7875 5.13888888889e-05 -3.47222222222e-06\n",
        "http://mesonet.agron.iastate.edu/json/radar?operation=available&lat=34.655&lon=-92.7875&start=2012-08-31T06:55Z\n",
        "http://mesonet.agron.iastate.edu/json/radar?operation=list&radar=LZK&product=N0Q&start=2012-08-31T06:55Z&end=2012-08-31T07:05Z"
       ]
      },
      {
       "output_type": "stream",
       "stream": "stdout",
       "text": [
        "\n",
        "0655 RADAR: LZK RADAR TIME: 0657"
       ]
      },
      {
       "output_type": "stream",
       "stream": "stdout",
       "text": [
        "\n",
        "34.6704166667 -92.7885416667 5.13888888889e-05 -3.47222222222e-06\n",
        "http://mesonet.agron.iastate.edu/json/radar?operation=available&lat=34.6704166667&lon=-92.7885416667&start=2012-08-31T07:00Z\n",
        "http://mesonet.agron.iastate.edu/json/radar?operation=list&radar=LZK&product=N0Q&start=2012-08-31T07:00Z&end=2012-08-31T07:10Z"
       ]
      },
      {
       "output_type": "stream",
       "stream": "stdout",
       "text": [
        "\n",
        "0700 RADAR: LZK RADAR TIME: 0701"
       ]
      },
      {
       "output_type": "stream",
       "stream": "stdout",
       "text": [
        "\n",
        "34.6858333333 -92.7895833333 5.13888888889e-05 -3.47222222222e-06\n",
        "http://mesonet.agron.iastate.edu/json/radar?operation=available&lat=34.6858333333&lon=-92.7895833333&start=2012-08-31T07:05Z\n",
        "http://mesonet.agron.iastate.edu/json/radar?operation=list&radar=LZK&product=N0Q&start=2012-08-31T07:05Z&end=2012-08-31T07:15Z"
       ]
      },
      {
       "output_type": "stream",
       "stream": "stdout",
       "text": [
        "\n",
        "0705 RADAR: LZK RADAR TIME: 0705"
       ]
      },
      {
       "output_type": "stream",
       "stream": "stdout",
       "text": [
        "\n",
        "34.70125 -92.790625 5.13888888889e-05 -3.47222222222e-06\n",
        "http://mesonet.agron.iastate.edu/json/radar?operation=available&lat=34.70125&lon=-92.790625&start=2012-08-31T07:10Z\n",
        "http://mesonet.agron.iastate.edu/json/radar?operation=list&radar=LZK&product=N0Q&start=2012-08-31T07:10Z&end=2012-08-31T07:20Z"
       ]
      },
      {
       "output_type": "stream",
       "stream": "stdout",
       "text": [
        "\n",
        "0710 RADAR: LZK RADAR TIME: 0710"
       ]
      },
      {
       "output_type": "stream",
       "stream": "stdout",
       "text": [
        "\n",
        "34.7166666667 -92.7916666667 5.13888888889e-05 -3.47222222222e-06\n",
        "http://mesonet.agron.iastate.edu/json/radar?operation=available&lat=34.7166666667&lon=-92.7916666667&start=2012-08-31T07:15Z\n",
        "http://mesonet.agron.iastate.edu/json/radar?operation=list&radar=LZK&product=N0Q&start=2012-08-31T07:15Z&end=2012-08-31T07:25Z"
       ]
      },
      {
       "output_type": "stream",
       "stream": "stdout",
       "text": [
        "\n",
        "0715 RADAR: LZK RADAR TIME: 0718"
       ]
      },
      {
       "output_type": "stream",
       "stream": "stdout",
       "text": [
        "\n",
        "34.7320833333 -92.7927083333 5.13888888889e-05 -3.47222222222e-06\n",
        "http://mesonet.agron.iastate.edu/json/radar?operation=available&lat=34.7320833333&lon=-92.7927083333&start=2012-08-31T07:20Z\n",
        "http://mesonet.agron.iastate.edu/json/radar?operation=list&radar=LZK&product=N0Q&start=2012-08-31T07:20Z&end=2012-08-31T07:30Z"
       ]
      },
      {
       "output_type": "stream",
       "stream": "stdout",
       "text": [
        "\n",
        "0720 RADAR: LZK RADAR TIME: 0723"
       ]
      },
      {
       "output_type": "stream",
       "stream": "stdout",
       "text": [
        "\n",
        "34.7475 -92.79375 5.13888888889e-05 -3.47222222222e-06\n",
        "http://mesonet.agron.iastate.edu/json/radar?operation=available&lat=34.7475&lon=-92.79375&start=2012-08-31T07:25Z\n",
        "http://mesonet.agron.iastate.edu/json/radar?operation=list&radar=LZK&product=N0Q&start=2012-08-31T07:25Z&end=2012-08-31T07:35Z"
       ]
      },
      {
       "output_type": "stream",
       "stream": "stdout",
       "text": [
        "\n",
        "0725 RADAR: LZK RADAR TIME: 0727"
       ]
      },
      {
       "output_type": "stream",
       "stream": "stdout",
       "text": [
        "\n",
        "34.7629166667 -92.7947916667 5.13888888889e-05 -3.47222222222e-06\n",
        "http://mesonet.agron.iastate.edu/json/radar?operation=available&lat=34.7629166667&lon=-92.7947916667&start=2012-08-31T07:30Z\n",
        "http://mesonet.agron.iastate.edu/json/radar?operation=list&radar=LZK&product=N0Q&start=2012-08-31T07:30Z&end=2012-08-31T07:40Z"
       ]
      },
      {
       "output_type": "stream",
       "stream": "stdout",
       "text": [
        "\n",
        "0730 RADAR: LZK RADAR TIME: 0731"
       ]
      },
      {
       "output_type": "stream",
       "stream": "stdout",
       "text": [
        "\n",
        "34.7783333333 -92.7958333333 5.13888888889e-05 -3.47222222222e-06\n",
        "http://mesonet.agron.iastate.edu/json/radar?operation=available&lat=34.7783333333&lon=-92.7958333333&start=2012-08-31T07:35Z\n",
        "http://mesonet.agron.iastate.edu/json/radar?operation=list&radar=LZK&product=N0Q&start=2012-08-31T07:35Z&end=2012-08-31T07:45Z"
       ]
      },
      {
       "output_type": "stream",
       "stream": "stdout",
       "text": [
        "\n",
        "0735 RADAR: LZK RADAR TIME: 0735"
       ]
      },
      {
       "output_type": "stream",
       "stream": "stdout",
       "text": [
        "\n",
        "34.79375 -92.796875 5.13888888889e-05 -3.47222222222e-06\n",
        "http://mesonet.agron.iastate.edu/json/radar?operation=available&lat=34.79375&lon=-92.796875&start=2012-08-31T07:40Z\n",
        "http://mesonet.agron.iastate.edu/json/radar?operation=list&radar=LZK&product=N0Q&start=2012-08-31T07:40Z&end=2012-08-31T07:50Z"
       ]
      },
      {
       "output_type": "stream",
       "stream": "stdout",
       "text": [
        "\n",
        "0740 RADAR: LZK RADAR TIME: 0740"
       ]
      },
      {
       "output_type": "stream",
       "stream": "stdout",
       "text": [
        "\n",
        "34.8091666667 -92.7979166667 5.13888888889e-05 -3.47222222222e-06\n",
        "http://mesonet.agron.iastate.edu/json/radar?operation=available&lat=34.8091666667&lon=-92.7979166667&start=2012-08-31T07:45Z\n",
        "http://mesonet.agron.iastate.edu/json/radar?operation=list&radar=LZK&product=N0Q&start=2012-08-31T07:45Z&end=2012-08-31T07:55Z"
       ]
      },
      {
       "output_type": "stream",
       "stream": "stdout",
       "text": [
        "\n",
        "0745 RADAR: LZK RADAR TIME: 0748"
       ]
      },
      {
       "output_type": "stream",
       "stream": "stdout",
       "text": [
        "\n",
        "34.8245833333 -92.7989583333 5.13888888889e-05 -3.47222222222e-06\n",
        "http://mesonet.agron.iastate.edu/json/radar?operation=available&lat=34.8245833333&lon=-92.7989583333&start=2012-08-31T07:50Z\n",
        "http://mesonet.agron.iastate.edu/json/radar?operation=list&radar=LZK&product=N0Q&start=2012-08-31T07:50Z&end=2012-08-31T08:00Z"
       ]
      },
      {
       "output_type": "stream",
       "stream": "stdout",
       "text": [
        "\n",
        "0750 RADAR: LZK RADAR TIME: 0753"
       ]
      },
      {
       "output_type": "stream",
       "stream": "stdout",
       "text": [
        "\n",
        "34.84 -92.8 5.13888888889e-05 -3.47222222222e-06\n",
        "http://mesonet.agron.iastate.edu/json/radar?operation=available&lat=34.84&lon=-92.8&start=2012-08-31T07:55Z\n",
        "http://mesonet.agron.iastate.edu/json/radar?operation=list&radar=LZK&product=N0Q&start=2012-08-31T07:55Z&end=2012-08-31T08:05Z"
       ]
      },
      {
       "output_type": "stream",
       "stream": "stdout",
       "text": [
        "\n",
        "0755 RADAR: LZK RADAR TIME: 0757"
       ]
      },
      {
       "output_type": "stream",
       "stream": "stdout",
       "text": [
        "\n",
        "34.8554166667 -92.8010416667 5.13888888889e-05 -3.47222222222e-06\n",
        "http://mesonet.agron.iastate.edu/json/radar?operation=available&lat=34.8554166667&lon=-92.8010416667&start=2012-08-31T08:00Z\n",
        "http://mesonet.agron.iastate.edu/json/radar?operation=list&radar=LZK&product=N0Q&start=2012-08-31T08:00Z&end=2012-08-31T08:10Z"
       ]
      },
      {
       "output_type": "stream",
       "stream": "stdout",
       "text": [
        "\n",
        "0800 RADAR: LZK RADAR TIME: 0801"
       ]
      },
      {
       "output_type": "stream",
       "stream": "stdout",
       "text": [
        "\n",
        "34.8708333333 -92.8020833333 5.13888888889e-05 -3.47222222222e-06\n",
        "http://mesonet.agron.iastate.edu/json/radar?operation=available&lat=34.8708333333&lon=-92.8020833333&start=2012-08-31T08:05Z\n",
        "http://mesonet.agron.iastate.edu/json/radar?operation=list&radar=LZK&product=N0Q&start=2012-08-31T08:05Z&end=2012-08-31T08:15Z"
       ]
      },
      {
       "output_type": "stream",
       "stream": "stdout",
       "text": [
        "\n",
        "0805 RADAR: LZK RADAR TIME: 0806"
       ]
      },
      {
       "output_type": "stream",
       "stream": "stdout",
       "text": [
        "\n",
        "34.88625 -92.803125 5.13888888889e-05 -3.47222222222e-06\n",
        "http://mesonet.agron.iastate.edu/json/radar?operation=available&lat=34.88625&lon=-92.803125&start=2012-08-31T08:10Z\n",
        "http://mesonet.agron.iastate.edu/json/radar?operation=list&radar=LZK&product=N0Q&start=2012-08-31T08:10Z&end=2012-08-31T08:20Z"
       ]
      },
      {
       "output_type": "stream",
       "stream": "stdout",
       "text": [
        "\n",
        "0810 RADAR: LZK RADAR TIME: 0810"
       ]
      },
      {
       "output_type": "stream",
       "stream": "stdout",
       "text": [
        "\n",
        "34.9016666667 -92.8041666667 5.13888888889e-05 -3.47222222222e-06\n",
        "http://mesonet.agron.iastate.edu/json/radar?operation=available&lat=34.9016666667&lon=-92.8041666667&start=2012-08-31T08:15Z\n",
        "http://mesonet.agron.iastate.edu/json/radar?operation=list&radar=LZK&product=N0Q&start=2012-08-31T08:15Z&end=2012-08-31T08:25Z"
       ]
      },
      {
       "output_type": "stream",
       "stream": "stdout",
       "text": [
        "\n",
        "0815 RADAR: LZK RADAR TIME: 0818"
       ]
      },
      {
       "output_type": "stream",
       "stream": "stdout",
       "text": [
        "\n",
        "34.9170833333 -92.8052083333 5.13888888889e-05 -3.47222222222e-06\n",
        "http://mesonet.agron.iastate.edu/json/radar?operation=available&lat=34.9170833333&lon=-92.8052083333&start=2012-08-31T08:20Z\n",
        "http://mesonet.agron.iastate.edu/json/radar?operation=list&radar=LZK&product=N0Q&start=2012-08-31T08:20Z&end=2012-08-31T08:30Z"
       ]
      },
      {
       "output_type": "stream",
       "stream": "stdout",
       "text": [
        "\n",
        "0820 RADAR: LZK RADAR TIME: 0823"
       ]
      },
      {
       "output_type": "stream",
       "stream": "stdout",
       "text": [
        "\n",
        "34.9325 -92.80625 5.13888888889e-05 -3.47222222222e-06\n",
        "http://mesonet.agron.iastate.edu/json/radar?operation=available&lat=34.9325&lon=-92.80625&start=2012-08-31T08:25Z\n",
        "http://mesonet.agron.iastate.edu/json/radar?operation=list&radar=LZK&product=N0Q&start=2012-08-31T08:25Z&end=2012-08-31T08:35Z"
       ]
      },
      {
       "output_type": "stream",
       "stream": "stdout",
       "text": [
        "\n",
        "0825 RADAR: LZK RADAR TIME: 0827"
       ]
      },
      {
       "output_type": "stream",
       "stream": "stdout",
       "text": [
        "\n",
        "34.9479166667 -92.8072916667 5.13888888889e-05 -3.47222222222e-06\n",
        "http://mesonet.agron.iastate.edu/json/radar?operation=available&lat=34.9479166667&lon=-92.8072916667&start=2012-08-31T08:30Z\n",
        "http://mesonet.agron.iastate.edu/json/radar?operation=list&radar=LZK&product=N0Q&start=2012-08-31T08:30Z&end=2012-08-31T08:40Z"
       ]
      },
      {
       "output_type": "stream",
       "stream": "stdout",
       "text": [
        "\n",
        "0830 RADAR: LZK RADAR TIME: 0831"
       ]
      },
      {
       "output_type": "stream",
       "stream": "stdout",
       "text": [
        "\n",
        "34.9633333333 -92.8083333333 5.13888888889e-05 -3.47222222222e-06\n",
        "http://mesonet.agron.iastate.edu/json/radar?operation=available&lat=34.9633333333&lon=-92.8083333333&start=2012-08-31T08:35Z\n",
        "http://mesonet.agron.iastate.edu/json/radar?operation=list&radar=LZK&product=N0Q&start=2012-08-31T08:35Z&end=2012-08-31T08:45Z"
       ]
      },
      {
       "output_type": "stream",
       "stream": "stdout",
       "text": [
        "\n",
        "0835 RADAR: LZK RADAR TIME: 0836"
       ]
      },
      {
       "output_type": "stream",
       "stream": "stdout",
       "text": [
        "\n",
        "34.97875 -92.809375 5.13888888889e-05 -3.47222222222e-06\n",
        "http://mesonet.agron.iastate.edu/json/radar?operation=available&lat=34.97875&lon=-92.809375&start=2012-08-31T08:40Z\n",
        "http://mesonet.agron.iastate.edu/json/radar?operation=list&radar=LZK&product=N0Q&start=2012-08-31T08:40Z&end=2012-08-31T08:50Z"
       ]
      },
      {
       "output_type": "stream",
       "stream": "stdout",
       "text": [
        "\n",
        "0840 RADAR: LZK RADAR TIME: 0840"
       ]
      },
      {
       "output_type": "stream",
       "stream": "stdout",
       "text": [
        "\n",
        "34.9941666667 -92.8104166667 5.13888888889e-05 -3.47222222222e-06\n",
        "http://mesonet.agron.iastate.edu/json/radar?operation=available&lat=34.9941666667&lon=-92.8104166667&start=2012-08-31T08:45Z\n",
        "http://mesonet.agron.iastate.edu/json/radar?operation=list&radar=LZK&product=N0Q&start=2012-08-31T08:45Z&end=2012-08-31T08:55Z"
       ]
      },
      {
       "output_type": "stream",
       "stream": "stdout",
       "text": [
        "\n",
        "0845 RADAR: LZK RADAR TIME: 0849"
       ]
      },
      {
       "output_type": "stream",
       "stream": "stdout",
       "text": [
        "\n",
        "35.0095833333 -92.8114583333 5.13888888889e-05 -3.47222222222e-06\n",
        "http://mesonet.agron.iastate.edu/json/radar?operation=available&lat=35.0095833333&lon=-92.8114583333&start=2012-08-31T08:50Z\n",
        "http://mesonet.agron.iastate.edu/json/radar?operation=list&radar=LZK&product=N0Q&start=2012-08-31T08:50Z&end=2012-08-31T09:00Z"
       ]
      },
      {
       "output_type": "stream",
       "stream": "stdout",
       "text": [
        "\n",
        "0850 RADAR: LZK RADAR TIME: 0853"
       ]
      },
      {
       "output_type": "stream",
       "stream": "stdout",
       "text": [
        "\n",
        "35.025 -92.8125 5.13888888889e-05 -3.47222222222e-06\n",
        "http://mesonet.agron.iastate.edu/json/radar?operation=available&lat=35.025&lon=-92.8125&start=2012-08-31T08:55Z\n",
        "http://mesonet.agron.iastate.edu/json/radar?operation=list&radar=LZK&product=N0Q&start=2012-08-31T08:55Z&end=2012-08-31T09:05Z"
       ]
      },
      {
       "output_type": "stream",
       "stream": "stdout",
       "text": [
        "\n",
        "0855 RADAR: LZK RADAR TIME: 0857"
       ]
      },
      {
       "output_type": "stream",
       "stream": "stdout",
       "text": [
        "\n",
        "35.0404166667 -92.8135416667 5.13888888889e-05 -3.47222222222e-06\n",
        "http://mesonet.agron.iastate.edu/json/radar?operation=available&lat=35.0404166667&lon=-92.8135416667&start=2012-08-31T09:00Z\n",
        "http://mesonet.agron.iastate.edu/json/radar?operation=list&radar=LZK&product=N0Q&start=2012-08-31T09:00Z&end=2012-08-31T09:10Z"
       ]
      },
      {
       "output_type": "stream",
       "stream": "stdout",
       "text": [
        "\n",
        "0900 RADAR: LZK RADAR TIME: 0901"
       ]
      },
      {
       "output_type": "stream",
       "stream": "stdout",
       "text": [
        "\n",
        "35.0558333333 -92.8145833333 5.13888888889e-05 -3.47222222222e-06\n",
        "http://mesonet.agron.iastate.edu/json/radar?operation=available&lat=35.0558333333&lon=-92.8145833333&start=2012-08-31T09:05Z\n",
        "http://mesonet.agron.iastate.edu/json/radar?operation=list&radar=LZK&product=N0Q&start=2012-08-31T09:05Z&end=2012-08-31T09:15Z"
       ]
      },
      {
       "output_type": "stream",
       "stream": "stdout",
       "text": [
        "\n",
        "0905 RADAR: LZK RADAR TIME: 0906"
       ]
      },
      {
       "output_type": "stream",
       "stream": "stdout",
       "text": [
        "\n",
        "35.07125 -92.815625 5.13888888889e-05 -3.47222222222e-06\n",
        "http://mesonet.agron.iastate.edu/json/radar?operation=available&lat=35.07125&lon=-92.815625&start=2012-08-31T09:10Z\n",
        "http://mesonet.agron.iastate.edu/json/radar?operation=list&radar=LZK&product=N0Q&start=2012-08-31T09:10Z&end=2012-08-31T09:20Z"
       ]
      },
      {
       "output_type": "stream",
       "stream": "stdout",
       "text": [
        "\n",
        "0910 RADAR: LZK RADAR TIME: 0910"
       ]
      },
      {
       "output_type": "stream",
       "stream": "stdout",
       "text": [
        "\n",
        "35.0866666667 -92.8166666667 5.13888888889e-05 -3.47222222222e-06\n",
        "http://mesonet.agron.iastate.edu/json/radar?operation=available&lat=35.0866666667&lon=-92.8166666667&start=2012-08-31T09:15Z\n",
        "http://mesonet.agron.iastate.edu/json/radar?operation=list&radar=LZK&product=N0Q&start=2012-08-31T09:15Z&end=2012-08-31T09:25Z"
       ]
      },
      {
       "output_type": "stream",
       "stream": "stdout",
       "text": [
        "\n",
        "0915 RADAR: LZK RADAR TIME: 0919"
       ]
      },
      {
       "output_type": "stream",
       "stream": "stdout",
       "text": [
        "\n",
        "35.1020833333 -92.8177083333 5.13888888889e-05 -3.47222222222e-06\n",
        "http://mesonet.agron.iastate.edu/json/radar?operation=available&lat=35.1020833333&lon=-92.8177083333&start=2012-08-31T09:20Z\n",
        "http://mesonet.agron.iastate.edu/json/radar?operation=list&radar=LZK&product=N0Q&start=2012-08-31T09:20Z&end=2012-08-31T09:30Z"
       ]
      },
      {
       "output_type": "stream",
       "stream": "stdout",
       "text": [
        "\n",
        "0920 RADAR: LZK RADAR TIME: 0923"
       ]
      },
      {
       "output_type": "stream",
       "stream": "stdout",
       "text": [
        "\n",
        "35.1175 -92.81875 5.13888888889e-05 -3.47222222222e-06\n",
        "http://mesonet.agron.iastate.edu/json/radar?operation=available&lat=35.1175&lon=-92.81875&start=2012-08-31T09:25Z\n",
        "http://mesonet.agron.iastate.edu/json/radar?operation=list&radar=LZK&product=N0Q&start=2012-08-31T09:25Z&end=2012-08-31T09:35Z"
       ]
      },
      {
       "output_type": "stream",
       "stream": "stdout",
       "text": [
        "\n",
        "0925 RADAR: LZK RADAR TIME: 0927"
       ]
      },
      {
       "output_type": "stream",
       "stream": "stdout",
       "text": [
        "\n",
        "35.1329166667 -92.8197916667 5.13888888889e-05 -3.47222222222e-06\n",
        "http://mesonet.agron.iastate.edu/json/radar?operation=available&lat=35.1329166667&lon=-92.8197916667&start=2012-08-31T09:30Z\n",
        "http://mesonet.agron.iastate.edu/json/radar?operation=list&radar=LZK&product=N0Q&start=2012-08-31T09:30Z&end=2012-08-31T09:40Z"
       ]
      },
      {
       "output_type": "stream",
       "stream": "stdout",
       "text": [
        "\n",
        "0930 RADAR: LZK RADAR TIME: 0932"
       ]
      },
      {
       "output_type": "stream",
       "stream": "stdout",
       "text": [
        "\n",
        "35.1483333333 -92.8208333333 5.13888888889e-05 -3.47222222222e-06\n",
        "http://mesonet.agron.iastate.edu/json/radar?operation=available&lat=35.1483333333&lon=-92.8208333333&start=2012-08-31T09:35Z\n",
        "http://mesonet.agron.iastate.edu/json/radar?operation=list&radar=LZK&product=N0Q&start=2012-08-31T09:35Z&end=2012-08-31T09:45Z"
       ]
      },
      {
       "output_type": "stream",
       "stream": "stdout",
       "text": [
        "\n",
        "0935 RADAR: LZK RADAR TIME: 0936"
       ]
      },
      {
       "output_type": "stream",
       "stream": "stdout",
       "text": [
        "\n",
        "35.16375 -92.821875 5.13888888889e-05 -3.47222222222e-06\n",
        "http://mesonet.agron.iastate.edu/json/radar?operation=available&lat=35.16375&lon=-92.821875&start=2012-08-31T09:40Z\n",
        "http://mesonet.agron.iastate.edu/json/radar?operation=list&radar=LZK&product=N0Q&start=2012-08-31T09:40Z&end=2012-08-31T09:50Z"
       ]
      },
      {
       "output_type": "stream",
       "stream": "stdout",
       "text": [
        "\n",
        "0940 RADAR: LZK RADAR TIME: 0940"
       ]
      },
      {
       "output_type": "stream",
       "stream": "stdout",
       "text": [
        "\n",
        "35.1791666667 -92.8229166667 5.13888888889e-05 -3.47222222222e-06\n",
        "http://mesonet.agron.iastate.edu/json/radar?operation=available&lat=35.1791666667&lon=-92.8229166667&start=2012-08-31T09:45Z\n",
        "http://mesonet.agron.iastate.edu/json/radar?operation=list&radar=LZK&product=N0Q&start=2012-08-31T09:45Z&end=2012-08-31T09:55Z"
       ]
      },
      {
       "output_type": "stream",
       "stream": "stdout",
       "text": [
        "\n",
        "0945 RADAR: LZK RADAR TIME: 0949"
       ]
      },
      {
       "output_type": "stream",
       "stream": "stdout",
       "text": [
        "\n",
        "35.1945833333 -92.8239583333 5.13888888889e-05 -3.47222222222e-06\n",
        "http://mesonet.agron.iastate.edu/json/radar?operation=available&lat=35.1945833333&lon=-92.8239583333&start=2012-08-31T09:50Z\n",
        "http://mesonet.agron.iastate.edu/json/radar?operation=list&radar=LZK&product=N0Q&start=2012-08-31T09:50Z&end=2012-08-31T10:00Z"
       ]
      },
      {
       "output_type": "stream",
       "stream": "stdout",
       "text": [
        "\n",
        "0950 RADAR: LZK RADAR TIME: 0953"
       ]
      },
      {
       "output_type": "stream",
       "stream": "stdout",
       "text": [
        "\n",
        "35.21 -92.825 5.13888888889e-05 -3.47222222222e-06\n",
        "http://mesonet.agron.iastate.edu/json/radar?operation=available&lat=35.21&lon=-92.825&start=2012-08-31T09:55Z\n",
        "http://mesonet.agron.iastate.edu/json/radar?operation=list&radar=LZK&product=N0Q&start=2012-08-31T09:55Z&end=2012-08-31T10:05Z"
       ]
      },
      {
       "output_type": "stream",
       "stream": "stdout",
       "text": [
        "\n",
        "0955 RADAR: LZK RADAR TIME: 0957"
       ]
      },
      {
       "output_type": "stream",
       "stream": "stdout",
       "text": [
        "\n",
        "35.2254166667 -92.8260416667 5.13888888889e-05 -3.47222222222e-06\n",
        "http://mesonet.agron.iastate.edu/json/radar?operation=available&lat=35.2254166667&lon=-92.8260416667&start=2012-08-31T10:00Z\n",
        "http://mesonet.agron.iastate.edu/json/radar?operation=list&radar=LZK&product=N0Q&start=2012-08-31T10:00Z&end=2012-08-31T10:10Z"
       ]
      },
      {
       "output_type": "stream",
       "stream": "stdout",
       "text": [
        "\n",
        "1000 RADAR: LZK RADAR TIME: 1002"
       ]
      },
      {
       "output_type": "stream",
       "stream": "stdout",
       "text": [
        "\n",
        "35.2408333333 -92.8270833333 5.13888888889e-05 -3.47222222222e-06\n",
        "http://mesonet.agron.iastate.edu/json/radar?operation=available&lat=35.2408333333&lon=-92.8270833333&start=2012-08-31T10:05Z\n",
        "http://mesonet.agron.iastate.edu/json/radar?operation=list&radar=LZK&product=N0Q&start=2012-08-31T10:05Z&end=2012-08-31T10:15Z"
       ]
      },
      {
       "output_type": "stream",
       "stream": "stdout",
       "text": [
        "\n",
        "1005 RADAR: LZK RADAR TIME: 1006"
       ]
      },
      {
       "output_type": "stream",
       "stream": "stdout",
       "text": [
        "\n",
        "35.25625 -92.828125 5.13888888889e-05 -3.47222222222e-06\n",
        "http://mesonet.agron.iastate.edu/json/radar?operation=available&lat=35.25625&lon=-92.828125&start=2012-08-31T10:10Z\n",
        "http://mesonet.agron.iastate.edu/json/radar?operation=list&radar=LZK&product=N0Q&start=2012-08-31T10:10Z&end=2012-08-31T10:20Z"
       ]
      },
      {
       "output_type": "stream",
       "stream": "stdout",
       "text": [
        "\n",
        "1010 RADAR: LZK RADAR TIME: 1010"
       ]
      },
      {
       "output_type": "stream",
       "stream": "stdout",
       "text": [
        "\n",
        "35.2716666667 -92.8291666667 5.13888888889e-05 -3.47222222222e-06\n",
        "http://mesonet.agron.iastate.edu/json/radar?operation=available&lat=35.2716666667&lon=-92.8291666667&start=2012-08-31T10:15Z\n",
        "http://mesonet.agron.iastate.edu/json/radar?operation=list&radar=LZK&product=N0Q&start=2012-08-31T10:15Z&end=2012-08-31T10:25Z"
       ]
      },
      {
       "output_type": "stream",
       "stream": "stdout",
       "text": [
        "\n",
        "1015 RADAR: LZK RADAR TIME: 1015"
       ]
      },
      {
       "output_type": "stream",
       "stream": "stdout",
       "text": [
        "\n",
        "35.2870833333 -92.8302083333 5.13888888889e-05 -3.47222222222e-06\n",
        "http://mesonet.agron.iastate.edu/json/radar?operation=available&lat=35.2870833333&lon=-92.8302083333&start=2012-08-31T10:20Z\n",
        "http://mesonet.agron.iastate.edu/json/radar?operation=list&radar=LZK&product=N0Q&start=2012-08-31T10:20Z&end=2012-08-31T10:30Z"
       ]
      },
      {
       "output_type": "stream",
       "stream": "stdout",
       "text": [
        "\n",
        "1020 RADAR: LZK RADAR TIME: 1023"
       ]
      },
      {
       "output_type": "stream",
       "stream": "stdout",
       "text": [
        "\n",
        "35.3025 -92.83125 5.13888888889e-05 -3.47222222222e-06\n",
        "http://mesonet.agron.iastate.edu/json/radar?operation=available&lat=35.3025&lon=-92.83125&start=2012-08-31T10:25Z\n",
        "http://mesonet.agron.iastate.edu/json/radar?operation=list&radar=LZK&product=N0Q&start=2012-08-31T10:25Z&end=2012-08-31T10:35Z"
       ]
      },
      {
       "output_type": "stream",
       "stream": "stdout",
       "text": [
        "\n",
        "1025 RADAR: LZK RADAR TIME: 1028"
       ]
      },
      {
       "output_type": "stream",
       "stream": "stdout",
       "text": [
        "\n",
        "35.3179166667 -92.8322916667 5.13888888889e-05 -3.47222222222e-06\n",
        "http://mesonet.agron.iastate.edu/json/radar?operation=available&lat=35.3179166667&lon=-92.8322916667&start=2012-08-31T10:30Z\n",
        "http://mesonet.agron.iastate.edu/json/radar?operation=list&radar=LZK&product=N0Q&start=2012-08-31T10:30Z&end=2012-08-31T10:40Z"
       ]
      },
      {
       "output_type": "stream",
       "stream": "stdout",
       "text": [
        "\n",
        "1030 RADAR: LZK RADAR TIME: 1032"
       ]
      },
      {
       "output_type": "stream",
       "stream": "stdout",
       "text": [
        "\n",
        "35.3333333333 -92.8333333333 5.13888888889e-05 -3.47222222222e-06\n",
        "http://mesonet.agron.iastate.edu/json/radar?operation=available&lat=35.3333333333&lon=-92.8333333333&start=2012-08-31T10:35Z\n",
        "http://mesonet.agron.iastate.edu/json/radar?operation=list&radar=LZK&product=N0Q&start=2012-08-31T10:35Z&end=2012-08-31T10:45Z"
       ]
      },
      {
       "output_type": "stream",
       "stream": "stdout",
       "text": [
        "\n",
        "1035 RADAR: LZK RADAR TIME: 1036"
       ]
      },
      {
       "output_type": "stream",
       "stream": "stdout",
       "text": [
        "\n",
        "35.34875 -92.834375 5.13888888889e-05 -3.47222222222e-06\n",
        "http://mesonet.agron.iastate.edu/json/radar?operation=available&lat=35.34875&lon=-92.834375&start=2012-08-31T10:40Z\n",
        "http://mesonet.agron.iastate.edu/json/radar?operation=list&radar=LZK&product=N0Q&start=2012-08-31T10:40Z&end=2012-08-31T10:50Z"
       ]
      },
      {
       "output_type": "stream",
       "stream": "stdout",
       "text": [
        "\n",
        "1040 RADAR: LZK RADAR TIME: 1040"
       ]
      },
      {
       "output_type": "stream",
       "stream": "stdout",
       "text": [
        "\n",
        "35.3641666667 -92.8354166667 5.13888888889e-05 -3.47222222222e-06\n",
        "http://mesonet.agron.iastate.edu/json/radar?operation=available&lat=35.3641666667&lon=-92.8354166667&start=2012-08-31T10:45Z\n",
        "http://mesonet.agron.iastate.edu/json/radar?operation=list&radar=LZK&product=N0Q&start=2012-08-31T10:45Z&end=2012-08-31T10:55Z"
       ]
      },
      {
       "output_type": "stream",
       "stream": "stdout",
       "text": [
        "\n",
        "1045 RADAR: LZK RADAR TIME: 1045"
       ]
      },
      {
       "output_type": "stream",
       "stream": "stdout",
       "text": [
        "\n",
        "35.3795833333 -92.8364583333 5.13888888889e-05 -3.47222222222e-06\n",
        "http://mesonet.agron.iastate.edu/json/radar?operation=available&lat=35.3795833333&lon=-92.8364583333&start=2012-08-31T10:50Z\n",
        "http://mesonet.agron.iastate.edu/json/radar?operation=list&radar=LZK&product=N0Q&start=2012-08-31T10:50Z&end=2012-08-31T11:00Z"
       ]
      },
      {
       "output_type": "stream",
       "stream": "stdout",
       "text": [
        "\n",
        "1050 RADAR: LZK RADAR TIME: 1053"
       ]
      },
      {
       "output_type": "stream",
       "stream": "stdout",
       "text": [
        "\n",
        "35.395 -92.8375 5.13888888889e-05 -3.47222222222e-06\n",
        "http://mesonet.agron.iastate.edu/json/radar?operation=available&lat=35.395&lon=-92.8375&start=2012-08-31T10:55Z\n",
        "http://mesonet.agron.iastate.edu/json/radar?operation=list&radar=LZK&product=N0Q&start=2012-08-31T10:55Z&end=2012-08-31T11:05Z"
       ]
      },
      {
       "output_type": "stream",
       "stream": "stdout",
       "text": [
        "\n",
        "1055 RADAR: LZK RADAR TIME: 1058"
       ]
      },
      {
       "output_type": "stream",
       "stream": "stdout",
       "text": [
        "\n",
        "35.4104166667 -92.8385416667 5.13888888889e-05 -3.47222222222e-06\n",
        "http://mesonet.agron.iastate.edu/json/radar?operation=available&lat=35.4104166667&lon=-92.8385416667&start=2012-08-31T11:00Z\n",
        "http://mesonet.agron.iastate.edu/json/radar?operation=list&radar=LZK&product=N0Q&start=2012-08-31T11:00Z&end=2012-08-31T11:10Z"
       ]
      },
      {
       "output_type": "stream",
       "stream": "stdout",
       "text": [
        "\n",
        "1100 RADAR: LZK RADAR TIME: 1102"
       ]
      },
      {
       "output_type": "stream",
       "stream": "stdout",
       "text": [
        "\n",
        "35.4258333333 -92.8395833333 5.13888888889e-05 -3.47222222222e-06\n",
        "http://mesonet.agron.iastate.edu/json/radar?operation=available&lat=35.4258333333&lon=-92.8395833333&start=2012-08-31T11:05Z\n",
        "http://mesonet.agron.iastate.edu/json/radar?operation=list&radar=LZK&product=N0Q&start=2012-08-31T11:05Z&end=2012-08-31T11:15Z"
       ]
      },
      {
       "output_type": "stream",
       "stream": "stdout",
       "text": [
        "\n",
        "1105 RADAR: LZK RADAR TIME: 1106"
       ]
      },
      {
       "output_type": "stream",
       "stream": "stdout",
       "text": [
        "\n",
        "35.44125 -92.840625 5.13888888889e-05 -3.47222222222e-06\n",
        "http://mesonet.agron.iastate.edu/json/radar?operation=available&lat=35.44125&lon=-92.840625&start=2012-08-31T11:10Z\n",
        "http://mesonet.agron.iastate.edu/json/radar?operation=list&radar=LZK&product=N0Q&start=2012-08-31T11:10Z&end=2012-08-31T11:20Z"
       ]
      },
      {
       "output_type": "stream",
       "stream": "stdout",
       "text": [
        "\n",
        "1110 RADAR: LZK RADAR TIME: 1111"
       ]
      },
      {
       "output_type": "stream",
       "stream": "stdout",
       "text": [
        "\n",
        "35.4566666667 -92.8416666667 5.13888888889e-05 -3.47222222222e-06\n",
        "http://mesonet.agron.iastate.edu/json/radar?operation=available&lat=35.4566666667&lon=-92.8416666667&start=2012-08-31T11:15Z\n",
        "http://mesonet.agron.iastate.edu/json/radar?operation=list&radar=LZK&product=N0Q&start=2012-08-31T11:15Z&end=2012-08-31T11:25Z"
       ]
      },
      {
       "output_type": "stream",
       "stream": "stdout",
       "text": [
        "\n",
        "1115 RADAR: LZK RADAR TIME: 1115"
       ]
      },
      {
       "output_type": "stream",
       "stream": "stdout",
       "text": [
        "\n",
        "35.4720833333 -92.8427083333 5.13888888889e-05 -3.47222222222e-06\n",
        "http://mesonet.agron.iastate.edu/json/radar?operation=available&lat=35.4720833333&lon=-92.8427083333&start=2012-08-31T11:20Z\n",
        "http://mesonet.agron.iastate.edu/json/radar?operation=list&radar=LZK&product=N0Q&start=2012-08-31T11:20Z&end=2012-08-31T11:30Z"
       ]
      },
      {
       "output_type": "stream",
       "stream": "stdout",
       "text": [
        "\n",
        "1120 RADAR: LZK RADAR TIME: 1124"
       ]
      },
      {
       "output_type": "stream",
       "stream": "stdout",
       "text": [
        "\n",
        "35.4875 -92.84375 5.13888888889e-05 -3.47222222222e-06\n",
        "http://mesonet.agron.iastate.edu/json/radar?operation=available&lat=35.4875&lon=-92.84375&start=2012-08-31T11:25Z\n",
        "http://mesonet.agron.iastate.edu/json/radar?operation=list&radar=LZK&product=N0Q&start=2012-08-31T11:25Z&end=2012-08-31T11:35Z"
       ]
      },
      {
       "output_type": "stream",
       "stream": "stdout",
       "text": [
        "\n",
        "1125 RADAR: LZK RADAR TIME: 1128"
       ]
      },
      {
       "output_type": "stream",
       "stream": "stdout",
       "text": [
        "\n",
        "35.5029166667 -92.8447916667 5.13888888889e-05 -3.47222222222e-06\n",
        "http://mesonet.agron.iastate.edu/json/radar?operation=available&lat=35.5029166667&lon=-92.8447916667&start=2012-08-31T11:30Z\n",
        "http://mesonet.agron.iastate.edu/json/radar?operation=list&radar=LZK&product=N0Q&start=2012-08-31T11:30Z&end=2012-08-31T11:40Z"
       ]
      },
      {
       "output_type": "stream",
       "stream": "stdout",
       "text": [
        "\n",
        "1130 RADAR: LZK RADAR TIME: 1132"
       ]
      },
      {
       "output_type": "stream",
       "stream": "stdout",
       "text": [
        "\n",
        "35.5183333333 -92.8458333333 5.13888888889e-05 -3.47222222222e-06\n",
        "http://mesonet.agron.iastate.edu/json/radar?operation=available&lat=35.5183333333&lon=-92.8458333333&start=2012-08-31T11:35Z\n",
        "http://mesonet.agron.iastate.edu/json/radar?operation=list&radar=LZK&product=N0Q&start=2012-08-31T11:35Z&end=2012-08-31T11:45Z"
       ]
      },
      {
       "output_type": "stream",
       "stream": "stdout",
       "text": [
        "\n",
        "1135 RADAR: LZK RADAR TIME: 1137"
       ]
      },
      {
       "output_type": "stream",
       "stream": "stdout",
       "text": [
        "\n",
        "35.53375 -92.846875 5.13888888889e-05 -3.47222222222e-06\n",
        "http://mesonet.agron.iastate.edu/json/radar?operation=available&lat=35.53375&lon=-92.846875&start=2012-08-31T11:40Z\n",
        "http://mesonet.agron.iastate.edu/json/radar?operation=list&radar=LZK&product=N0Q&start=2012-08-31T11:40Z&end=2012-08-31T11:50Z"
       ]
      },
      {
       "output_type": "stream",
       "stream": "stdout",
       "text": [
        "\n",
        "1140 RADAR: LZK RADAR TIME: 1141"
       ]
      },
      {
       "output_type": "stream",
       "stream": "stdout",
       "text": [
        "\n",
        "35.5491666667 -92.8479166667 5.13888888889e-05 -3.47222222222e-06\n",
        "http://mesonet.agron.iastate.edu/json/radar?operation=available&lat=35.5491666667&lon=-92.8479166667&start=2012-08-31T11:45Z\n",
        "http://mesonet.agron.iastate.edu/json/radar?operation=list&radar=LZK&product=N0Q&start=2012-08-31T11:45Z&end=2012-08-31T11:55Z"
       ]
      },
      {
       "output_type": "stream",
       "stream": "stdout",
       "text": [
        "\n",
        "1145 RADAR: LZK RADAR TIME: 1145"
       ]
      },
      {
       "output_type": "stream",
       "stream": "stdout",
       "text": [
        "\n",
        "35.5645833333 -92.8489583333 5.13888888889e-05 -3.47222222222e-06\n",
        "http://mesonet.agron.iastate.edu/json/radar?operation=available&lat=35.5645833333&lon=-92.8489583333&start=2012-08-31T11:50Z\n",
        "http://mesonet.agron.iastate.edu/json/radar?operation=list&radar=LZK&product=N0Q&start=2012-08-31T11:50Z&end=2012-08-31T12:00Z"
       ]
      },
      {
       "output_type": "stream",
       "stream": "stdout",
       "text": [
        "\n",
        "1150 RADAR: LZK RADAR TIME: 1154"
       ]
      },
      {
       "output_type": "stream",
       "stream": "stdout",
       "text": [
        "\n",
        "35.58 -92.85 5.13888888889e-05 -3.47222222222e-06\n",
        "http://mesonet.agron.iastate.edu/json/radar?operation=available&lat=35.58&lon=-92.85&start=2012-08-31T11:55Z\n",
        "http://mesonet.agron.iastate.edu/json/radar?operation=list&radar=LZK&product=N0Q&start=2012-08-31T11:55Z&end=2012-08-31T12:05Z"
       ]
      },
      {
       "output_type": "stream",
       "stream": "stdout",
       "text": [
        "\n",
        "1155 RADAR: LZK RADAR TIME: 1158"
       ]
      },
      {
       "output_type": "stream",
       "stream": "stdout",
       "text": [
        "\n",
        "35.5954166667 -92.8510416667 5.13888888889e-05 -3.47222222222e-06\n",
        "http://mesonet.agron.iastate.edu/json/radar?operation=available&lat=35.5954166667&lon=-92.8510416667&start=2012-08-31T12:00Z\n",
        "http://mesonet.agron.iastate.edu/json/radar?operation=list&radar=LZK&product=N0Q&start=2012-08-31T12:00Z&end=2012-08-31T12:10Z"
       ]
      },
      {
       "output_type": "stream",
       "stream": "stdout",
       "text": [
        "\n",
        "1200 RADAR: LZK RADAR TIME: 1202"
       ]
      },
      {
       "output_type": "stream",
       "stream": "stdout",
       "text": [
        "\n",
        "35.6108333333 -92.8520833333 5.13888888889e-05 -3.47222222222e-06\n",
        "http://mesonet.agron.iastate.edu/json/radar?operation=available&lat=35.6108333333&lon=-92.8520833333&start=2012-08-31T12:05Z\n",
        "http://mesonet.agron.iastate.edu/json/radar?operation=list&radar=LZK&product=N0Q&start=2012-08-31T12:05Z&end=2012-08-31T12:15Z"
       ]
      },
      {
       "output_type": "stream",
       "stream": "stdout",
       "text": [
        "\n",
        "1205 RADAR: LZK RADAR TIME: 1207"
       ]
      },
      {
       "output_type": "stream",
       "stream": "stdout",
       "text": [
        "\n",
        "35.62625 -92.853125 5.13888888889e-05 -3.47222222222e-06\n",
        "http://mesonet.agron.iastate.edu/json/radar?operation=available&lat=35.62625&lon=-92.853125&start=2012-08-31T12:10Z\n",
        "http://mesonet.agron.iastate.edu/json/radar?operation=list&radar=LZK&product=N0Q&start=2012-08-31T12:10Z&end=2012-08-31T12:20Z"
       ]
      },
      {
       "output_type": "stream",
       "stream": "stdout",
       "text": [
        "\n",
        "1210 RADAR: LZK RADAR TIME: 1211"
       ]
      },
      {
       "output_type": "stream",
       "stream": "stdout",
       "text": [
        "\n",
        "35.6416666667 -92.8541666667 5.13888888889e-05 -3.47222222222e-06\n",
        "http://mesonet.agron.iastate.edu/json/radar?operation=available&lat=35.6416666667&lon=-92.8541666667&start=2012-08-31T12:15Z\n",
        "http://mesonet.agron.iastate.edu/json/radar?operation=list&radar=LZK&product=N0Q&start=2012-08-31T12:15Z&end=2012-08-31T12:25Z"
       ]
      },
      {
       "output_type": "stream",
       "stream": "stdout",
       "text": [
        "\n",
        "1215 RADAR: LZK RADAR TIME: 1215"
       ]
      },
      {
       "output_type": "stream",
       "stream": "stdout",
       "text": [
        "\n",
        "35.6570833333 -92.8552083333 5.13888888889e-05 -3.47222222222e-06\n",
        "http://mesonet.agron.iastate.edu/json/radar?operation=available&lat=35.6570833333&lon=-92.8552083333&start=2012-08-31T12:20Z\n",
        "http://mesonet.agron.iastate.edu/json/radar?operation=list&radar=LZK&product=N0Q&start=2012-08-31T12:20Z&end=2012-08-31T12:30Z"
       ]
      },
      {
       "output_type": "stream",
       "stream": "stdout",
       "text": [
        "\n",
        "1220 RADAR: LZK RADAR TIME: 1220"
       ]
      },
      {
       "output_type": "stream",
       "stream": "stdout",
       "text": [
        "\n",
        "35.6725 -92.85625 5.13888888889e-05 -3.47222222222e-06\n",
        "http://mesonet.agron.iastate.edu/json/radar?operation=available&lat=35.6725&lon=-92.85625&start=2012-08-31T12:25Z\n",
        "http://mesonet.agron.iastate.edu/json/radar?operation=list&radar=LZK&product=N0Q&start=2012-08-31T12:25Z&end=2012-08-31T12:35Z"
       ]
      },
      {
       "output_type": "stream",
       "stream": "stdout",
       "text": [
        "\n",
        "1225 RADAR: LZK RADAR TIME: 1228"
       ]
      },
      {
       "output_type": "stream",
       "stream": "stdout",
       "text": [
        "\n",
        "35.6879166667 -92.8572916667 5.13888888889e-05 -3.47222222222e-06\n",
        "http://mesonet.agron.iastate.edu/json/radar?operation=available&lat=35.6879166667&lon=-92.8572916667&start=2012-08-31T12:30Z\n",
        "http://mesonet.agron.iastate.edu/json/radar?operation=list&radar=LZK&product=N0Q&start=2012-08-31T12:30Z&end=2012-08-31T12:40Z"
       ]
      },
      {
       "output_type": "stream",
       "stream": "stdout",
       "text": [
        "\n",
        "1230 RADAR: LZK RADAR TIME: 1233"
       ]
      },
      {
       "output_type": "stream",
       "stream": "stdout",
       "text": [
        "\n",
        "35.7033333333 -92.8583333333 5.13888888889e-05 -3.47222222222e-06\n",
        "http://mesonet.agron.iastate.edu/json/radar?operation=available&lat=35.7033333333&lon=-92.8583333333&start=2012-08-31T12:35Z\n",
        "http://mesonet.agron.iastate.edu/json/radar?operation=list&radar=LZK&product=N0Q&start=2012-08-31T12:35Z&end=2012-08-31T12:45Z"
       ]
      },
      {
       "output_type": "stream",
       "stream": "stdout",
       "text": [
        "\n",
        "1235 RADAR: LZK RADAR TIME: 1237"
       ]
      },
      {
       "output_type": "stream",
       "stream": "stdout",
       "text": [
        "\n",
        "35.71875 -92.859375 5.13888888889e-05 -3.47222222222e-06\n",
        "http://mesonet.agron.iastate.edu/json/radar?operation=available&lat=35.71875&lon=-92.859375&start=2012-08-31T12:40Z\n",
        "http://mesonet.agron.iastate.edu/json/radar?operation=list&radar=LZK&product=N0Q&start=2012-08-31T12:40Z&end=2012-08-31T12:50Z"
       ]
      },
      {
       "output_type": "stream",
       "stream": "stdout",
       "text": [
        "\n",
        "1240 RADAR: LZK RADAR TIME: 1241"
       ]
      },
      {
       "output_type": "stream",
       "stream": "stdout",
       "text": [
        "\n",
        "35.7341666667 -92.8604166667 5.13888888889e-05 -3.47222222222e-06\n",
        "http://mesonet.agron.iastate.edu/json/radar?operation=available&lat=35.7341666667&lon=-92.8604166667&start=2012-08-31T12:45Z\n",
        "http://mesonet.agron.iastate.edu/json/radar?operation=list&radar=LZK&product=N0Q&start=2012-08-31T12:45Z&end=2012-08-31T12:55Z"
       ]
      },
      {
       "output_type": "stream",
       "stream": "stdout",
       "text": [
        "\n",
        "1245 RADAR: LZK RADAR TIME: 1245"
       ]
      },
      {
       "output_type": "stream",
       "stream": "stdout",
       "text": [
        "\n",
        "35.7495833333 -92.8614583333 5.13888888889e-05 -3.47222222222e-06\n",
        "http://mesonet.agron.iastate.edu/json/radar?operation=available&lat=35.7495833333&lon=-92.8614583333&start=2012-08-31T12:50Z\n",
        "http://mesonet.agron.iastate.edu/json/radar?operation=list&radar=LZK&product=N0Q&start=2012-08-31T12:50Z&end=2012-08-31T13:00Z"
       ]
      },
      {
       "output_type": "stream",
       "stream": "stdout",
       "text": [
        "\n",
        "1250 RADAR: LZK RADAR TIME: 1250"
       ]
      },
      {
       "output_type": "stream",
       "stream": "stdout",
       "text": [
        "\n",
        "35.765 -92.8625 5.13888888889e-05 -3.47222222222e-06\n",
        "http://mesonet.agron.iastate.edu/json/radar?operation=available&lat=35.765&lon=-92.8625&start=2012-08-31T12:55Z\n",
        "http://mesonet.agron.iastate.edu/json/radar?operation=list&radar=LZK&product=N0Q&start=2012-08-31T12:55Z&end=2012-08-31T13:05Z"
       ]
      },
      {
       "output_type": "stream",
       "stream": "stdout",
       "text": [
        "\n",
        "1255 RADAR: LZK RADAR TIME: 1258"
       ]
      },
      {
       "output_type": "stream",
       "stream": "stdout",
       "text": [
        "\n",
        "35.7804166667 -92.8635416667 5.13888888889e-05 -3.47222222222e-06\n",
        "http://mesonet.agron.iastate.edu/json/radar?operation=available&lat=35.7804166667&lon=-92.8635416667&start=2012-08-31T13:00Z\n",
        "http://mesonet.agron.iastate.edu/json/radar?operation=list&radar=LZK&product=N0Q&start=2012-08-31T13:00Z&end=2012-08-31T13:10Z"
       ]
      },
      {
       "output_type": "stream",
       "stream": "stdout",
       "text": [
        "\n",
        "1300 RADAR: LZK RADAR TIME: 1303"
       ]
      },
      {
       "output_type": "stream",
       "stream": "stdout",
       "text": [
        "\n",
        "35.7958333333 -92.8645833333 5.13888888889e-05 -3.47222222222e-06\n",
        "http://mesonet.agron.iastate.edu/json/radar?operation=available&lat=35.7958333333&lon=-92.8645833333&start=2012-08-31T13:05Z\n",
        "http://mesonet.agron.iastate.edu/json/radar?operation=list&radar=LZK&product=N0Q&start=2012-08-31T13:05Z&end=2012-08-31T13:15Z"
       ]
      },
      {
       "output_type": "stream",
       "stream": "stdout",
       "text": [
        "\n",
        "1305 RADAR: LZK RADAR TIME: 1307"
       ]
      },
      {
       "output_type": "stream",
       "stream": "stdout",
       "text": [
        "\n",
        "35.81125 -92.865625 5.13888888889e-05 -3.47222222222e-06\n",
        "http://mesonet.agron.iastate.edu/json/radar?operation=available&lat=35.81125&lon=-92.865625&start=2012-08-31T13:10Z\n",
        "http://mesonet.agron.iastate.edu/json/radar?operation=list&radar=LZK&product=N0Q&start=2012-08-31T13:10Z&end=2012-08-31T13:20Z"
       ]
      },
      {
       "output_type": "stream",
       "stream": "stdout",
       "text": [
        "\n",
        "1310 RADAR: LZK RADAR TIME: 1311"
       ]
      },
      {
       "output_type": "stream",
       "stream": "stdout",
       "text": [
        "\n",
        "35.8266666667 -92.8666666667 5.13888888889e-05 -3.47222222222e-06\n",
        "http://mesonet.agron.iastate.edu/json/radar?operation=available&lat=35.8266666667&lon=-92.8666666667&start=2012-08-31T13:15Z\n",
        "http://mesonet.agron.iastate.edu/json/radar?operation=list&radar=LZK&product=N0Q&start=2012-08-31T13:15Z&end=2012-08-31T13:25Z"
       ]
      },
      {
       "output_type": "stream",
       "stream": "stdout",
       "text": [
        "\n",
        "1315 RADAR: LZK RADAR TIME: 1316"
       ]
      },
      {
       "output_type": "stream",
       "stream": "stdout",
       "text": [
        "\n",
        "35.8420833333 -92.8677083333 5.13888888889e-05 -3.47222222222e-06\n",
        "http://mesonet.agron.iastate.edu/json/radar?operation=available&lat=35.8420833333&lon=-92.8677083333&start=2012-08-31T13:20Z\n",
        "http://mesonet.agron.iastate.edu/json/radar?operation=list&radar=LZK&product=N0Q&start=2012-08-31T13:20Z&end=2012-08-31T13:30Z"
       ]
      },
      {
       "output_type": "stream",
       "stream": "stdout",
       "text": [
        "\n",
        "1320 RADAR: LZK RADAR TIME: 1320"
       ]
      },
      {
       "output_type": "stream",
       "stream": "stdout",
       "text": [
        "\n",
        "35.8575 -92.86875 5.13888888889e-05 -3.47222222222e-06\n",
        "http://mesonet.agron.iastate.edu/json/radar?operation=available&lat=35.8575&lon=-92.86875&start=2012-08-31T13:25Z\n",
        "http://mesonet.agron.iastate.edu/json/radar?operation=list&radar=LZK&product=N0Q&start=2012-08-31T13:25Z&end=2012-08-31T13:35Z"
       ]
      },
      {
       "output_type": "stream",
       "stream": "stdout",
       "text": [
        "\n",
        "1325 RADAR: LZK RADAR TIME: 1328"
       ]
      },
      {
       "output_type": "stream",
       "stream": "stdout",
       "text": [
        "\n",
        "35.8729166667 -92.8697916667 5.13888888889e-05 -3.47222222222e-06\n",
        "http://mesonet.agron.iastate.edu/json/radar?operation=available&lat=35.8729166667&lon=-92.8697916667&start=2012-08-31T13:30Z\n",
        "http://mesonet.agron.iastate.edu/json/radar?operation=list&radar=LZK&product=N0Q&start=2012-08-31T13:30Z&end=2012-08-31T13:40Z"
       ]
      },
      {
       "output_type": "stream",
       "stream": "stdout",
       "text": [
        "\n",
        "1330 RADAR: LZK RADAR TIME: 1333"
       ]
      },
      {
       "output_type": "stream",
       "stream": "stdout",
       "text": [
        "\n",
        "35.8883333333 -92.8708333333 5.13888888889e-05 -3.47222222222e-06\n",
        "http://mesonet.agron.iastate.edu/json/radar?operation=available&lat=35.8883333333&lon=-92.8708333333&start=2012-08-31T13:35Z\n",
        "http://mesonet.agron.iastate.edu/json/radar?operation=list&radar=LZK&product=N0Q&start=2012-08-31T13:35Z&end=2012-08-31T13:45Z"
       ]
      },
      {
       "output_type": "stream",
       "stream": "stdout",
       "text": [
        "\n",
        "1335 RADAR: LZK RADAR TIME: 1337"
       ]
      },
      {
       "output_type": "stream",
       "stream": "stdout",
       "text": [
        "\n",
        "35.90375 -92.871875 5.13888888889e-05 -3.47222222222e-06\n",
        "http://mesonet.agron.iastate.edu/json/radar?operation=available&lat=35.90375&lon=-92.871875&start=2012-08-31T13:40Z\n",
        "http://mesonet.agron.iastate.edu/json/radar?operation=list&radar=LZK&product=N0Q&start=2012-08-31T13:40Z&end=2012-08-31T13:50Z"
       ]
      },
      {
       "output_type": "stream",
       "stream": "stdout",
       "text": [
        "\n",
        "1340 RADAR: LZK RADAR TIME: 1341"
       ]
      },
      {
       "output_type": "stream",
       "stream": "stdout",
       "text": [
        "\n",
        "35.9191666667 -92.8729166667 5.13888888889e-05 -3.47222222222e-06\n",
        "http://mesonet.agron.iastate.edu/json/radar?operation=available&lat=35.9191666667&lon=-92.8729166667&start=2012-08-31T13:45Z\n",
        "http://mesonet.agron.iastate.edu/json/radar?operation=list&radar=LZK&product=N0Q&start=2012-08-31T13:45Z&end=2012-08-31T13:55Z"
       ]
      },
      {
       "output_type": "stream",
       "stream": "stdout",
       "text": [
        "\n",
        "1345 RADAR: LZK RADAR TIME: 1346"
       ]
      },
      {
       "output_type": "stream",
       "stream": "stdout",
       "text": [
        "\n",
        "35.9345833333 -92.8739583333 5.13888888889e-05 -3.47222222222e-06\n",
        "http://mesonet.agron.iastate.edu/json/radar?operation=available&lat=35.9345833333&lon=-92.8739583333&start=2012-08-31T13:50Z\n",
        "http://mesonet.agron.iastate.edu/json/radar?operation=list&radar=LZK&product=N0Q&start=2012-08-31T13:50Z&end=2012-08-31T14:00Z"
       ]
      },
      {
       "output_type": "stream",
       "stream": "stdout",
       "text": [
        "\n",
        "1350 RADAR: LZK RADAR TIME: 1350"
       ]
      },
      {
       "output_type": "stream",
       "stream": "stdout",
       "text": [
        "\n",
        "35.95 -92.875 5.13888888889e-05 -3.47222222222e-06\n",
        "http://mesonet.agron.iastate.edu/json/radar?operation=available&lat=35.95&lon=-92.875&start=2012-08-31T13:55Z\n",
        "http://mesonet.agron.iastate.edu/json/radar?operation=list&radar=LZK&product=N0Q&start=2012-08-31T13:55Z&end=2012-08-31T14:05Z"
       ]
      },
      {
       "output_type": "stream",
       "stream": "stdout",
       "text": [
        "\n",
        "1355 RADAR: LZK RADAR TIME: 1359"
       ]
      },
      {
       "output_type": "stream",
       "stream": "stdout",
       "text": [
        "\n",
        "35.9654166667 -92.8760416667 5.13888888889e-05 -3.47222222222e-06\n",
        "http://mesonet.agron.iastate.edu/json/radar?operation=available&lat=35.9654166667&lon=-92.8760416667&start=2012-08-31T14:00Z\n",
        "http://mesonet.agron.iastate.edu/json/radar?operation=list&radar=LZK&product=N0Q&start=2012-08-31T14:00Z&end=2012-08-31T14:10Z"
       ]
      },
      {
       "output_type": "stream",
       "stream": "stdout",
       "text": [
        "\n",
        "1400 RADAR: LZK RADAR TIME: 1403"
       ]
      },
      {
       "output_type": "stream",
       "stream": "stdout",
       "text": [
        "\n",
        "35.9808333333 -92.8770833333 5.13888888889e-05 -3.47222222222e-06\n",
        "http://mesonet.agron.iastate.edu/json/radar?operation=available&lat=35.9808333333&lon=-92.8770833333&start=2012-08-31T14:05Z\n",
        "http://mesonet.agron.iastate.edu/json/radar?operation=list&radar=LZK&product=N0Q&start=2012-08-31T14:05Z&end=2012-08-31T14:15Z"
       ]
      },
      {
       "output_type": "stream",
       "stream": "stdout",
       "text": [
        "\n",
        "1405 RADAR: LZK RADAR TIME: 1407"
       ]
      },
      {
       "output_type": "stream",
       "stream": "stdout",
       "text": [
        "\n",
        "35.99625 -92.878125 5.13888888889e-05 -3.47222222222e-06\n",
        "http://mesonet.agron.iastate.edu/json/radar?operation=available&lat=35.99625&lon=-92.878125&start=2012-08-31T14:10Z\n",
        "http://mesonet.agron.iastate.edu/json/radar?operation=list&radar=LZK&product=N0Q&start=2012-08-31T14:10Z&end=2012-08-31T14:20Z"
       ]
      },
      {
       "output_type": "stream",
       "stream": "stdout",
       "text": [
        "\n",
        "1410 RADAR: LZK RADAR TIME: 1412"
       ]
      },
      {
       "output_type": "stream",
       "stream": "stdout",
       "text": [
        "\n",
        "36.0116666667 -92.8791666667 5.13888888889e-05 -3.47222222222e-06\n",
        "http://mesonet.agron.iastate.edu/json/radar?operation=available&lat=36.0116666667&lon=-92.8791666667&start=2012-08-31T14:15Z\n",
        "http://mesonet.agron.iastate.edu/json/radar?operation=list&radar=SGF&product=N0Q&start=2012-08-31T14:15Z&end=2012-08-31T14:25Z"
       ]
      },
      {
       "output_type": "stream",
       "stream": "stdout",
       "text": [
        "\n",
        "1415 RADAR: SGF RADAR TIME: 1415"
       ]
      },
      {
       "output_type": "stream",
       "stream": "stdout",
       "text": [
        "\n",
        "36.0270833333 -92.8802083333 5.13888888889e-05 -3.47222222222e-06\n",
        "http://mesonet.agron.iastate.edu/json/radar?operation=available&lat=36.0270833333&lon=-92.8802083333&start=2012-08-31T14:20Z\n",
        "http://mesonet.agron.iastate.edu/json/radar?operation=list&radar=SGF&product=N0Q&start=2012-08-31T14:20Z&end=2012-08-31T14:30Z"
       ]
      },
      {
       "output_type": "stream",
       "stream": "stdout",
       "text": [
        "\n",
        "1420 RADAR: SGF RADAR TIME: 1420"
       ]
      },
      {
       "output_type": "stream",
       "stream": "stdout",
       "text": [
        "\n",
        "36.0425 -92.88125 5.13888888889e-05 -3.47222222222e-06\n",
        "http://mesonet.agron.iastate.edu/json/radar?operation=available&lat=36.0425&lon=-92.88125&start=2012-08-31T14:25Z\n",
        "http://mesonet.agron.iastate.edu/json/radar?operation=list&radar=SGF&product=N0Q&start=2012-08-31T14:25Z&end=2012-08-31T14:35Z"
       ]
      },
      {
       "output_type": "stream",
       "stream": "stdout",
       "text": [
        "\n",
        "1425 RADAR: SGF RADAR TIME: 1428"
       ]
      },
      {
       "output_type": "stream",
       "stream": "stdout",
       "text": [
        "\n",
        "36.0579166667 -92.8822916667 5.13888888889e-05 -3.47222222222e-06\n",
        "http://mesonet.agron.iastate.edu/json/radar?operation=available&lat=36.0579166667&lon=-92.8822916667&start=2012-08-31T14:30Z\n",
        "http://mesonet.agron.iastate.edu/json/radar?operation=list&radar=SGF&product=N0Q&start=2012-08-31T14:30Z&end=2012-08-31T14:40Z"
       ]
      },
      {
       "output_type": "stream",
       "stream": "stdout",
       "text": [
        "\n",
        "1430 RADAR: SGF RADAR TIME: 1432"
       ]
      },
      {
       "output_type": "stream",
       "stream": "stdout",
       "text": [
        "\n",
        "36.0733333333 -92.8833333333 5.13888888889e-05 -3.47222222222e-06\n",
        "http://mesonet.agron.iastate.edu/json/radar?operation=available&lat=36.0733333333&lon=-92.8833333333&start=2012-08-31T14:35Z\n",
        "http://mesonet.agron.iastate.edu/json/radar?operation=list&radar=SGF&product=N0Q&start=2012-08-31T14:35Z&end=2012-08-31T14:45Z"
       ]
      },
      {
       "output_type": "stream",
       "stream": "stdout",
       "text": [
        "\n",
        "1435 RADAR: SGF RADAR TIME: 1436"
       ]
      },
      {
       "output_type": "stream",
       "stream": "stdout",
       "text": [
        "\n",
        "36.08875 -92.884375 5.13888888889e-05 -3.47222222222e-06\n",
        "http://mesonet.agron.iastate.edu/json/radar?operation=available&lat=36.08875&lon=-92.884375&start=2012-08-31T14:40Z\n",
        "http://mesonet.agron.iastate.edu/json/radar?operation=list&radar=SGF&product=N0Q&start=2012-08-31T14:40Z&end=2012-08-31T14:50Z"
       ]
      },
      {
       "output_type": "stream",
       "stream": "stdout",
       "text": [
        "\n",
        "1440 RADAR: SGF RADAR TIME: 1441"
       ]
      },
      {
       "output_type": "stream",
       "stream": "stdout",
       "text": [
        "\n",
        "36.1041666667 -92.8854166667 5.13888888889e-05 -3.47222222222e-06\n",
        "http://mesonet.agron.iastate.edu/json/radar?operation=available&lat=36.1041666667&lon=-92.8854166667&start=2012-08-31T14:45Z\n",
        "http://mesonet.agron.iastate.edu/json/radar?operation=list&radar=SGF&product=N0Q&start=2012-08-31T14:45Z&end=2012-08-31T14:55Z"
       ]
      },
      {
       "output_type": "stream",
       "stream": "stdout",
       "text": [
        "\n",
        "1445 RADAR: SGF RADAR TIME: 1448"
       ]
      },
      {
       "output_type": "stream",
       "stream": "stdout",
       "text": [
        "\n",
        "36.1195833333 -92.8864583333 5.13888888889e-05 -3.47222222222e-06\n",
        "http://mesonet.agron.iastate.edu/json/radar?operation=available&lat=36.1195833333&lon=-92.8864583333&start=2012-08-31T14:50Z\n",
        "http://mesonet.agron.iastate.edu/json/radar?operation=list&radar=SGF&product=N0Q&start=2012-08-31T14:50Z&end=2012-08-31T15:00Z"
       ]
      },
      {
       "output_type": "stream",
       "stream": "stdout",
       "text": [
        "\n",
        "1450 RADAR: SGF RADAR TIME: 1452"
       ]
      },
      {
       "output_type": "stream",
       "stream": "stdout",
       "text": [
        "\n",
        "36.135 -92.8875 5.13888888889e-05 -3.47222222222e-06\n",
        "http://mesonet.agron.iastate.edu/json/radar?operation=available&lat=36.135&lon=-92.8875&start=2012-08-31T14:55Z\n",
        "http://mesonet.agron.iastate.edu/json/radar?operation=list&radar=SGF&product=N0Q&start=2012-08-31T14:55Z&end=2012-08-31T15:05Z"
       ]
      },
      {
       "output_type": "stream",
       "stream": "stdout",
       "text": [
        "\n",
        "1455 RADAR: SGF RADAR TIME: 1456"
       ]
      },
      {
       "output_type": "stream",
       "stream": "stdout",
       "text": [
        "\n",
        "36.1504166667 -92.8885416667 5.13888888889e-05 -3.47222222222e-06\n",
        "http://mesonet.agron.iastate.edu/json/radar?operation=available&lat=36.1504166667&lon=-92.8885416667&start=2012-08-31T15:00Z\n",
        "http://mesonet.agron.iastate.edu/json/radar?operation=list&radar=SGF&product=N0Q&start=2012-08-31T15:00Z&end=2012-08-31T15:10Z"
       ]
      },
      {
       "output_type": "stream",
       "stream": "stdout",
       "text": [
        "\n",
        "1500 RADAR: SGF RADAR TIME: 1500"
       ]
      },
      {
       "output_type": "stream",
       "stream": "stdout",
       "text": [
        "\n",
        "36.1658333333 -92.8895833333 5.13888888889e-05 -3.47222222222e-06\n",
        "http://mesonet.agron.iastate.edu/json/radar?operation=available&lat=36.1658333333&lon=-92.8895833333&start=2012-08-31T15:05Z\n",
        "http://mesonet.agron.iastate.edu/json/radar?operation=list&radar=SGF&product=N0Q&start=2012-08-31T15:05Z&end=2012-08-31T15:15Z"
       ]
      },
      {
       "output_type": "stream",
       "stream": "stdout",
       "text": [
        "\n",
        "1505 RADAR: SGF RADAR TIME: 1508"
       ]
      },
      {
       "output_type": "stream",
       "stream": "stdout",
       "text": [
        "\n",
        "36.18125 -92.890625 5.13888888889e-05 -3.47222222222e-06\n",
        "http://mesonet.agron.iastate.edu/json/radar?operation=available&lat=36.18125&lon=-92.890625&start=2012-08-31T15:10Z\n",
        "http://mesonet.agron.iastate.edu/json/radar?operation=list&radar=SGF&product=N0Q&start=2012-08-31T15:10Z&end=2012-08-31T15:20Z"
       ]
      },
      {
       "output_type": "stream",
       "stream": "stdout",
       "text": [
        "\n",
        "1510 RADAR: SGF RADAR TIME: 1512"
       ]
      },
      {
       "output_type": "stream",
       "stream": "stdout",
       "text": [
        "\n",
        "36.1966666667 -92.8916666667 5.13888888889e-05 -3.47222222222e-06\n",
        "http://mesonet.agron.iastate.edu/json/radar?operation=available&lat=36.1966666667&lon=-92.8916666667&start=2012-08-31T15:15Z\n",
        "http://mesonet.agron.iastate.edu/json/radar?operation=list&radar=SGF&product=N0Q&start=2012-08-31T15:15Z&end=2012-08-31T15:25Z"
       ]
      },
      {
       "output_type": "stream",
       "stream": "stdout",
       "text": [
        "\n",
        "1515 RADAR: SGF RADAR TIME: 1516"
       ]
      },
      {
       "output_type": "stream",
       "stream": "stdout",
       "text": [
        "\n",
        "36.2120833333 -92.8927083333 5.13888888889e-05 -3.47222222222e-06\n",
        "http://mesonet.agron.iastate.edu/json/radar?operation=available&lat=36.2120833333&lon=-92.8927083333&start=2012-08-31T15:20Z\n",
        "http://mesonet.agron.iastate.edu/json/radar?operation=list&radar=SGF&product=N0Q&start=2012-08-31T15:20Z&end=2012-08-31T15:30Z"
       ]
      },
      {
       "output_type": "stream",
       "stream": "stdout",
       "text": [
        "\n",
        "1520 RADAR: SGF RADAR TIME: 1520"
       ]
      },
      {
       "output_type": "stream",
       "stream": "stdout",
       "text": [
        "\n",
        "36.2275 -92.89375 5.13888888889e-05 -3.47222222222e-06\n",
        "http://mesonet.agron.iastate.edu/json/radar?operation=available&lat=36.2275&lon=-92.89375&start=2012-08-31T15:25Z\n",
        "http://mesonet.agron.iastate.edu/json/radar?operation=list&radar=SGF&product=N0Q&start=2012-08-31T15:25Z&end=2012-08-31T15:35Z"
       ]
      },
      {
       "output_type": "stream",
       "stream": "stdout",
       "text": [
        "\n",
        "1525 RADAR: SGF RADAR TIME: 1528"
       ]
      },
      {
       "output_type": "stream",
       "stream": "stdout",
       "text": [
        "\n",
        "36.2429166667 -92.8947916667 5.13888888889e-05 -3.47222222222e-06\n",
        "http://mesonet.agron.iastate.edu/json/radar?operation=available&lat=36.2429166667&lon=-92.8947916667&start=2012-08-31T15:30Z\n",
        "http://mesonet.agron.iastate.edu/json/radar?operation=list&radar=SGF&product=N0Q&start=2012-08-31T15:30Z&end=2012-08-31T15:40Z"
       ]
      },
      {
       "output_type": "stream",
       "stream": "stdout",
       "text": [
        "\n",
        "1530 RADAR: SGF RADAR TIME: 1532"
       ]
      },
      {
       "output_type": "stream",
       "stream": "stdout",
       "text": [
        "\n",
        "36.2583333333 -92.8958333333 5.13888888889e-05 -3.47222222222e-06\n",
        "http://mesonet.agron.iastate.edu/json/radar?operation=available&lat=36.2583333333&lon=-92.8958333333&start=2012-08-31T15:35Z\n",
        "http://mesonet.agron.iastate.edu/json/radar?operation=list&radar=SGF&product=N0Q&start=2012-08-31T15:35Z&end=2012-08-31T15:45Z"
       ]
      },
      {
       "output_type": "stream",
       "stream": "stdout",
       "text": [
        "\n",
        "1535 RADAR: SGF RADAR TIME: 1537"
       ]
      },
      {
       "output_type": "stream",
       "stream": "stdout",
       "text": [
        "\n",
        "36.27375 -92.896875 5.13888888889e-05 -3.47222222222e-06\n",
        "http://mesonet.agron.iastate.edu/json/radar?operation=available&lat=36.27375&lon=-92.896875&start=2012-08-31T15:40Z\n",
        "http://mesonet.agron.iastate.edu/json/radar?operation=list&radar=SGF&product=N0Q&start=2012-08-31T15:40Z&end=2012-08-31T15:50Z"
       ]
      },
      {
       "output_type": "stream",
       "stream": "stdout",
       "text": [
        "\n",
        "1540 RADAR: SGF RADAR TIME: 1541"
       ]
      },
      {
       "output_type": "stream",
       "stream": "stdout",
       "text": [
        "\n",
        "36.2891666667 -92.8979166667 5.13888888889e-05 -3.47222222222e-06\n",
        "http://mesonet.agron.iastate.edu/json/radar?operation=available&lat=36.2891666667&lon=-92.8979166667&start=2012-08-31T15:45Z\n",
        "http://mesonet.agron.iastate.edu/json/radar?operation=list&radar=SGF&product=N0Q&start=2012-08-31T15:45Z&end=2012-08-31T15:55Z"
       ]
      },
      {
       "output_type": "stream",
       "stream": "stdout",
       "text": [
        "\n",
        "1545 RADAR: SGF RADAR TIME: 1546"
       ]
      },
      {
       "output_type": "stream",
       "stream": "stdout",
       "text": [
        "\n",
        "36.3045833333 -92.8989583333 5.13888888889e-05 -3.47222222222e-06\n",
        "http://mesonet.agron.iastate.edu/json/radar?operation=available&lat=36.3045833333&lon=-92.8989583333&start=2012-08-31T15:50Z\n",
        "http://mesonet.agron.iastate.edu/json/radar?operation=list&radar=SGF&product=N0Q&start=2012-08-31T15:50Z&end=2012-08-31T16:00Z"
       ]
      },
      {
       "output_type": "stream",
       "stream": "stdout",
       "text": [
        "\n",
        "1550 RADAR: SGF RADAR TIME: 1550"
       ]
      },
      {
       "output_type": "stream",
       "stream": "stdout",
       "text": [
        "\n",
        "36.32 -92.9 5.13888888889e-05 -3.47222222222e-06\n",
        "http://mesonet.agron.iastate.edu/json/radar?operation=available&lat=36.32&lon=-92.9&start=2012-08-31T15:55Z\n",
        "http://mesonet.agron.iastate.edu/json/radar?operation=list&radar=SGF&product=N0Q&start=2012-08-31T15:55Z&end=2012-08-31T16:05Z"
       ]
      },
      {
       "output_type": "stream",
       "stream": "stdout",
       "text": [
        "\n",
        "1555 RADAR: SGF RADAR TIME: 1555"
       ]
      },
      {
       "output_type": "stream",
       "stream": "stdout",
       "text": [
        "\n",
        "36.3354166667 -92.9010416667 5.13888888889e-05 -3.47222222222e-06\n",
        "http://mesonet.agron.iastate.edu/json/radar?operation=available&lat=36.3354166667&lon=-92.9010416667&start=2012-08-31T16:00Z\n",
        "http://mesonet.agron.iastate.edu/json/radar?operation=list&radar=SGF&product=N0Q&start=2012-08-31T16:00Z&end=2012-08-31T16:10Z"
       ]
      },
      {
       "output_type": "stream",
       "stream": "stdout",
       "text": [
        "\n",
        "1600 RADAR: SGF RADAR TIME: 1604"
       ]
      },
      {
       "output_type": "stream",
       "stream": "stdout",
       "text": [
        "\n",
        "36.3508333333 -92.9020833333 5.13888888889e-05 -3.47222222222e-06\n",
        "http://mesonet.agron.iastate.edu/json/radar?operation=available&lat=36.3508333333&lon=-92.9020833333&start=2012-08-31T16:05Z\n",
        "http://mesonet.agron.iastate.edu/json/radar?operation=list&radar=SGF&product=N0Q&start=2012-08-31T16:05Z&end=2012-08-31T16:15Z"
       ]
      },
      {
       "output_type": "stream",
       "stream": "stdout",
       "text": [
        "\n",
        "1605 RADAR: SGF RADAR TIME: 1608"
       ]
      },
      {
       "output_type": "stream",
       "stream": "stdout",
       "text": [
        "\n",
        "36.36625 -92.903125 5.13888888889e-05 -3.47222222222e-06\n",
        "http://mesonet.agron.iastate.edu/json/radar?operation=available&lat=36.36625&lon=-92.903125&start=2012-08-31T16:10Z\n",
        "http://mesonet.agron.iastate.edu/json/radar?operation=list&radar=SGF&product=N0Q&start=2012-08-31T16:10Z&end=2012-08-31T16:20Z"
       ]
      },
      {
       "output_type": "stream",
       "stream": "stdout",
       "text": [
        "\n",
        "1610 RADAR: SGF RADAR TIME: 1613"
       ]
      },
      {
       "output_type": "stream",
       "stream": "stdout",
       "text": [
        "\n",
        "36.3816666667 -92.9041666667 5.13888888889e-05 -3.47222222222e-06\n",
        "http://mesonet.agron.iastate.edu/json/radar?operation=available&lat=36.3816666667&lon=-92.9041666667&start=2012-08-31T16:15Z\n",
        "http://mesonet.agron.iastate.edu/json/radar?operation=list&radar=SGF&product=N0Q&start=2012-08-31T16:15Z&end=2012-08-31T16:25Z"
       ]
      },
      {
       "output_type": "stream",
       "stream": "stdout",
       "text": [
        "\n",
        "1615 RADAR: SGF RADAR TIME: 1618"
       ]
      },
      {
       "output_type": "stream",
       "stream": "stdout",
       "text": [
        "\n",
        "36.3970833333 -92.9052083333 5.13888888889e-05 -3.47222222222e-06\n",
        "http://mesonet.agron.iastate.edu/json/radar?operation=available&lat=36.3970833333&lon=-92.9052083333&start=2012-08-31T16:20Z\n",
        "http://mesonet.agron.iastate.edu/json/radar?operation=list&radar=SGF&product=N0Q&start=2012-08-31T16:20Z&end=2012-08-31T16:30Z"
       ]
      },
      {
       "output_type": "stream",
       "stream": "stdout",
       "text": [
        "\n",
        "1620 RADAR: SGF RADAR TIME: 1622"
       ]
      },
      {
       "output_type": "stream",
       "stream": "stdout",
       "text": [
        "\n",
        "36.4125 -92.90625 5.13888888889e-05 -3.47222222222e-06\n",
        "http://mesonet.agron.iastate.edu/json/radar?operation=available&lat=36.4125&lon=-92.90625&start=2012-08-31T16:25Z\n",
        "http://mesonet.agron.iastate.edu/json/radar?operation=list&radar=SGF&product=N0Q&start=2012-08-31T16:25Z&end=2012-08-31T16:35Z"
       ]
      },
      {
       "output_type": "stream",
       "stream": "stdout",
       "text": [
        "\n",
        "1625 RADAR: SGF RADAR TIME: 1627"
       ]
      },
      {
       "output_type": "stream",
       "stream": "stdout",
       "text": [
        "\n",
        "36.4279166667 -92.9072916667 5.13888888889e-05 -3.47222222222e-06\n",
        "http://mesonet.agron.iastate.edu/json/radar?operation=available&lat=36.4279166667&lon=-92.9072916667&start=2012-08-31T16:30Z\n",
        "http://mesonet.agron.iastate.edu/json/radar?operation=list&radar=SGF&product=N0Q&start=2012-08-31T16:30Z&end=2012-08-31T16:40Z"
       ]
      },
      {
       "output_type": "stream",
       "stream": "stdout",
       "text": [
        "\n",
        "1630 RADAR: SGF RADAR TIME: 1631"
       ]
      },
      {
       "output_type": "stream",
       "stream": "stdout",
       "text": [
        "\n",
        "36.4433333333 -92.9083333333 5.13888888889e-05 -3.47222222222e-06\n",
        "http://mesonet.agron.iastate.edu/json/radar?operation=available&lat=36.4433333333&lon=-92.9083333333&start=2012-08-31T16:35Z\n",
        "http://mesonet.agron.iastate.edu/json/radar?operation=list&radar=SGF&product=N0Q&start=2012-08-31T16:35Z&end=2012-08-31T16:45Z"
       ]
      },
      {
       "output_type": "stream",
       "stream": "stdout",
       "text": [
        "\n",
        "1635 RADAR: SGF RADAR TIME: 1636"
       ]
      },
      {
       "output_type": "stream",
       "stream": "stdout",
       "text": [
        "\n",
        "36.45875 -92.909375 5.13888888889e-05 -3.47222222222e-06\n",
        "http://mesonet.agron.iastate.edu/json/radar?operation=available&lat=36.45875&lon=-92.909375&start=2012-08-31T16:40Z\n",
        "http://mesonet.agron.iastate.edu/json/radar?operation=list&radar=SGF&product=N0Q&start=2012-08-31T16:40Z&end=2012-08-31T16:50Z"
       ]
      },
      {
       "output_type": "stream",
       "stream": "stdout",
       "text": [
        "\n",
        "1640 RADAR: SGF RADAR TIME: 1640"
       ]
      },
      {
       "output_type": "stream",
       "stream": "stdout",
       "text": [
        "\n",
        "36.4741666667 -92.9104166667 5.13888888889e-05 -3.47222222222e-06\n",
        "http://mesonet.agron.iastate.edu/json/radar?operation=available&lat=36.4741666667&lon=-92.9104166667&start=2012-08-31T16:45Z\n",
        "http://mesonet.agron.iastate.edu/json/radar?operation=list&radar=SGF&product=N0Q&start=2012-08-31T16:45Z&end=2012-08-31T16:55Z"
       ]
      },
      {
       "output_type": "stream",
       "stream": "stdout",
       "text": [
        "\n",
        "1645 RADAR: SGF RADAR TIME: 1645"
       ]
      },
      {
       "output_type": "stream",
       "stream": "stdout",
       "text": [
        "\n",
        "36.4895833333 -92.9114583333 5.13888888889e-05 -3.47222222222e-06\n",
        "http://mesonet.agron.iastate.edu/json/radar?operation=available&lat=36.4895833333&lon=-92.9114583333&start=2012-08-31T16:50Z\n",
        "http://mesonet.agron.iastate.edu/json/radar?operation=list&radar=SGF&product=N0Q&start=2012-08-31T16:50Z&end=2012-08-31T17:00Z"
       ]
      },
      {
       "output_type": "stream",
       "stream": "stdout",
       "text": [
        "\n",
        "1650 RADAR: SGF RADAR TIME: 1650"
       ]
      },
      {
       "output_type": "stream",
       "stream": "stdout",
       "text": [
        "\n",
        "36.505 -92.9125 5.13888888889e-05 -3.47222222222e-06\n",
        "http://mesonet.agron.iastate.edu/json/radar?operation=available&lat=36.505&lon=-92.9125&start=2012-08-31T16:55Z\n",
        "http://mesonet.agron.iastate.edu/json/radar?operation=list&radar=SGF&product=N0Q&start=2012-08-31T16:55Z&end=2012-08-31T17:05Z"
       ]
      },
      {
       "output_type": "stream",
       "stream": "stdout",
       "text": [
        "\n",
        "1655 RADAR: SGF RADAR TIME: 1659"
       ]
      },
      {
       "output_type": "stream",
       "stream": "stdout",
       "text": [
        "\n",
        "36.5204166667 -92.9135416667 5.13888888889e-05 -3.47222222222e-06\n",
        "http://mesonet.agron.iastate.edu/json/radar?operation=available&lat=36.5204166667&lon=-92.9135416667&start=2012-08-31T17:00Z\n",
        "http://mesonet.agron.iastate.edu/json/radar?operation=list&radar=SGF&product=N0Q&start=2012-08-31T17:00Z&end=2012-08-31T17:10Z"
       ]
      },
      {
       "output_type": "stream",
       "stream": "stdout",
       "text": [
        "\n",
        "1700 RADAR: SGF RADAR TIME: 1703"
       ]
      },
      {
       "output_type": "stream",
       "stream": "stdout",
       "text": [
        "\n",
        "36.5358333333 -92.9145833333 5.13888888889e-05 -3.47222222222e-06\n",
        "http://mesonet.agron.iastate.edu/json/radar?operation=available&lat=36.5358333333&lon=-92.9145833333&start=2012-08-31T17:05Z\n",
        "http://mesonet.agron.iastate.edu/json/radar?operation=list&radar=SGF&product=N0Q&start=2012-08-31T17:05Z&end=2012-08-31T17:15Z"
       ]
      },
      {
       "output_type": "stream",
       "stream": "stdout",
       "text": [
        "\n",
        "1705 RADAR: SGF RADAR TIME: 1708"
       ]
      },
      {
       "output_type": "stream",
       "stream": "stdout",
       "text": [
        "\n",
        "36.55125 -92.915625 5.13888888889e-05 -3.47222222222e-06\n",
        "http://mesonet.agron.iastate.edu/json/radar?operation=available&lat=36.55125&lon=-92.915625&start=2012-08-31T17:10Z\n",
        "http://mesonet.agron.iastate.edu/json/radar?operation=list&radar=SGF&product=N0Q&start=2012-08-31T17:10Z&end=2012-08-31T17:20Z"
       ]
      },
      {
       "output_type": "stream",
       "stream": "stdout",
       "text": [
        "\n",
        "1710 RADAR: SGF RADAR TIME: 1713"
       ]
      },
      {
       "output_type": "stream",
       "stream": "stdout",
       "text": [
        "\n",
        "36.5666666667 -92.9166666667 5.13888888889e-05 -3.47222222222e-06\n",
        "http://mesonet.agron.iastate.edu/json/radar?operation=available&lat=36.5666666667&lon=-92.9166666667&start=2012-08-31T17:15Z\n",
        "http://mesonet.agron.iastate.edu/json/radar?operation=list&radar=SGF&product=N0Q&start=2012-08-31T17:15Z&end=2012-08-31T17:25Z"
       ]
      },
      {
       "output_type": "stream",
       "stream": "stdout",
       "text": [
        "\n",
        "1715 RADAR: SGF RADAR TIME: 1717"
       ]
      },
      {
       "output_type": "stream",
       "stream": "stdout",
       "text": [
        "\n",
        "36.5820833333 -92.9177083333 5.13888888889e-05 -3.47222222222e-06\n",
        "http://mesonet.agron.iastate.edu/json/radar?operation=available&lat=36.5820833333&lon=-92.9177083333&start=2012-08-31T17:20Z\n",
        "http://mesonet.agron.iastate.edu/json/radar?operation=list&radar=SGF&product=N0Q&start=2012-08-31T17:20Z&end=2012-08-31T17:30Z"
       ]
      },
      {
       "output_type": "stream",
       "stream": "stdout",
       "text": [
        "\n",
        "1720 RADAR: SGF RADAR TIME: 1722"
       ]
      },
      {
       "output_type": "stream",
       "stream": "stdout",
       "text": [
        "\n",
        "36.5975 -92.91875 5.13888888889e-05 -3.47222222222e-06\n",
        "http://mesonet.agron.iastate.edu/json/radar?operation=available&lat=36.5975&lon=-92.91875&start=2012-08-31T17:25Z\n",
        "http://mesonet.agron.iastate.edu/json/radar?operation=list&radar=SGF&product=N0Q&start=2012-08-31T17:25Z&end=2012-08-31T17:35Z"
       ]
      },
      {
       "output_type": "stream",
       "stream": "stdout",
       "text": [
        "\n",
        "1725 RADAR: SGF RADAR TIME: 1726"
       ]
      },
      {
       "output_type": "stream",
       "stream": "stdout",
       "text": [
        "\n",
        "36.6129166667 -92.9197916667 5.13888888889e-05 -3.47222222222e-06\n",
        "http://mesonet.agron.iastate.edu/json/radar?operation=available&lat=36.6129166667&lon=-92.9197916667&start=2012-08-31T17:30Z\n",
        "http://mesonet.agron.iastate.edu/json/radar?operation=list&radar=SGF&product=N0Q&start=2012-08-31T17:30Z&end=2012-08-31T17:40Z"
       ]
      },
      {
       "output_type": "stream",
       "stream": "stdout",
       "text": [
        "\n",
        "1730 RADAR: SGF RADAR TIME: 1731"
       ]
      },
      {
       "output_type": "stream",
       "stream": "stdout",
       "text": [
        "\n",
        "36.6283333333 -92.9208333333 5.13888888889e-05 -3.47222222222e-06\n",
        "http://mesonet.agron.iastate.edu/json/radar?operation=available&lat=36.6283333333&lon=-92.9208333333&start=2012-08-31T17:35Z\n",
        "http://mesonet.agron.iastate.edu/json/radar?operation=list&radar=SGF&product=N0Q&start=2012-08-31T17:35Z&end=2012-08-31T17:45Z"
       ]
      },
      {
       "output_type": "stream",
       "stream": "stdout",
       "text": [
        "\n",
        "1735 RADAR: SGF RADAR TIME: 1736"
       ]
      },
      {
       "output_type": "stream",
       "stream": "stdout",
       "text": [
        "\n",
        "36.64375 -92.921875 5.13888888889e-05 -3.47222222222e-06\n",
        "http://mesonet.agron.iastate.edu/json/radar?operation=available&lat=36.64375&lon=-92.921875&start=2012-08-31T17:40Z\n",
        "http://mesonet.agron.iastate.edu/json/radar?operation=list&radar=SGF&product=N0Q&start=2012-08-31T17:40Z&end=2012-08-31T17:50Z"
       ]
      },
      {
       "output_type": "stream",
       "stream": "stdout",
       "text": [
        "\n",
        "1740 RADAR: SGF RADAR TIME: 1740"
       ]
      },
      {
       "output_type": "stream",
       "stream": "stdout",
       "text": [
        "\n",
        "36.6591666667 -92.9229166667 5.13888888889e-05 -3.47222222222e-06\n",
        "http://mesonet.agron.iastate.edu/json/radar?operation=available&lat=36.6591666667&lon=-92.9229166667&start=2012-08-31T17:45Z\n",
        "http://mesonet.agron.iastate.edu/json/radar?operation=list&radar=SGF&product=N0Q&start=2012-08-31T17:45Z&end=2012-08-31T17:55Z"
       ]
      },
      {
       "output_type": "stream",
       "stream": "stdout",
       "text": [
        "\n",
        "1745 RADAR: SGF RADAR TIME: 1745"
       ]
      },
      {
       "output_type": "stream",
       "stream": "stdout",
       "text": [
        "\n",
        "36.6745833333 -92.9239583333 5.13888888889e-05 -3.47222222222e-06\n",
        "http://mesonet.agron.iastate.edu/json/radar?operation=available&lat=36.6745833333&lon=-92.9239583333&start=2012-08-31T17:50Z\n",
        "http://mesonet.agron.iastate.edu/json/radar?operation=list&radar=SGF&product=N0Q&start=2012-08-31T17:50Z&end=2012-08-31T18:00Z"
       ]
      },
      {
       "output_type": "stream",
       "stream": "stdout",
       "text": [
        "\n",
        "1750 RADAR: SGF RADAR TIME: 1754"
       ]
      },
      {
       "output_type": "stream",
       "stream": "stdout",
       "text": [
        "\n",
        "36.69 -92.925 5.13888888889e-05 -3.47222222222e-06\n",
        "http://mesonet.agron.iastate.edu/json/radar?operation=available&lat=36.69&lon=-92.925&start=2012-08-31T17:55Z\n",
        "http://mesonet.agron.iastate.edu/json/radar?operation=list&radar=SGF&product=N0Q&start=2012-08-31T17:55Z&end=2012-08-31T18:05Z"
       ]
      },
      {
       "output_type": "stream",
       "stream": "stdout",
       "text": [
        "\n",
        "1755 RADAR: SGF RADAR TIME: 1759"
       ]
      },
      {
       "output_type": "stream",
       "stream": "stdout",
       "text": [
        "\n",
        "36.7054166667 -92.9260416667 5.13888888889e-05 -3.47222222222e-06\n",
        "http://mesonet.agron.iastate.edu/json/radar?operation=available&lat=36.7054166667&lon=-92.9260416667&start=2012-08-31T18:00Z\n",
        "http://mesonet.agron.iastate.edu/json/radar?operation=list&radar=SGF&product=N0Q&start=2012-08-31T18:00Z&end=2012-08-31T18:10Z"
       ]
      },
      {
       "output_type": "stream",
       "stream": "stdout",
       "text": [
        "\n",
        "1800 RADAR: SGF RADAR TIME: 1803"
       ]
      },
      {
       "output_type": "stream",
       "stream": "stdout",
       "text": [
        "\n",
        "36.7208333333 -92.9270833333 5.13888888889e-05 -3.47222222222e-06\n",
        "http://mesonet.agron.iastate.edu/json/radar?operation=available&lat=36.7208333333&lon=-92.9270833333&start=2012-08-31T18:05Z\n",
        "http://mesonet.agron.iastate.edu/json/radar?operation=list&radar=SGF&product=N0Q&start=2012-08-31T18:05Z&end=2012-08-31T18:15Z"
       ]
      },
      {
       "output_type": "stream",
       "stream": "stdout",
       "text": [
        "\n",
        "1805 RADAR: SGF RADAR TIME: 1808"
       ]
      },
      {
       "output_type": "stream",
       "stream": "stdout",
       "text": [
        "\n",
        "36.73625 -92.928125 5.13888888889e-05 -3.47222222222e-06\n",
        "http://mesonet.agron.iastate.edu/json/radar?operation=available&lat=36.73625&lon=-92.928125&start=2012-08-31T18:10Z\n",
        "http://mesonet.agron.iastate.edu/json/radar?operation=list&radar=SGF&product=N0Q&start=2012-08-31T18:10Z&end=2012-08-31T18:20Z"
       ]
      },
      {
       "output_type": "stream",
       "stream": "stdout",
       "text": [
        "\n",
        "1810 RADAR: SGF RADAR TIME: 1812"
       ]
      },
      {
       "output_type": "stream",
       "stream": "stdout",
       "text": [
        "\n",
        "36.7516666667 -92.9291666667 5.13888888889e-05 -3.47222222222e-06\n",
        "http://mesonet.agron.iastate.edu/json/radar?operation=available&lat=36.7516666667&lon=-92.9291666667&start=2012-08-31T18:15Z\n",
        "http://mesonet.agron.iastate.edu/json/radar?operation=list&radar=SGF&product=N0Q&start=2012-08-31T18:15Z&end=2012-08-31T18:25Z"
       ]
      },
      {
       "output_type": "stream",
       "stream": "stdout",
       "text": [
        "\n",
        "1815 RADAR: SGF RADAR TIME: 1817"
       ]
      },
      {
       "output_type": "stream",
       "stream": "stdout",
       "text": [
        "\n",
        "36.7670833333 -92.9302083333 5.13888888889e-05 -3.47222222222e-06\n",
        "http://mesonet.agron.iastate.edu/json/radar?operation=available&lat=36.7670833333&lon=-92.9302083333&start=2012-08-31T18:20Z\n",
        "http://mesonet.agron.iastate.edu/json/radar?operation=list&radar=SGF&product=N0Q&start=2012-08-31T18:20Z&end=2012-08-31T18:30Z"
       ]
      },
      {
       "output_type": "stream",
       "stream": "stdout",
       "text": [
        "\n",
        "1820 RADAR: SGF RADAR TIME: 1821"
       ]
      },
      {
       "output_type": "stream",
       "stream": "stdout",
       "text": [
        "\n",
        "36.7825 -92.93125 5.13888888889e-05 -3.47222222222e-06\n",
        "http://mesonet.agron.iastate.edu/json/radar?operation=available&lat=36.7825&lon=-92.93125&start=2012-08-31T18:25Z\n",
        "http://mesonet.agron.iastate.edu/json/radar?operation=list&radar=SGF&product=N0Q&start=2012-08-31T18:25Z&end=2012-08-31T18:35Z"
       ]
      },
      {
       "output_type": "stream",
       "stream": "stdout",
       "text": [
        "\n",
        "1825 RADAR: SGF RADAR TIME: 1826"
       ]
      },
      {
       "output_type": "stream",
       "stream": "stdout",
       "text": [
        "\n",
        "36.7979166667 -92.9322916667 5.13888888889e-05 -3.47222222222e-06\n",
        "http://mesonet.agron.iastate.edu/json/radar?operation=available&lat=36.7979166667&lon=-92.9322916667&start=2012-08-31T18:30Z\n",
        "http://mesonet.agron.iastate.edu/json/radar?operation=list&radar=SGF&product=N0Q&start=2012-08-31T18:30Z&end=2012-08-31T18:40Z"
       ]
      },
      {
       "output_type": "stream",
       "stream": "stdout",
       "text": [
        "\n",
        "1830 RADAR: SGF RADAR TIME: 1831"
       ]
      },
      {
       "output_type": "stream",
       "stream": "stdout",
       "text": [
        "\n",
        "36.8133333333 -92.9333333333 5.13888888889e-05 -3.47222222222e-06\n",
        "http://mesonet.agron.iastate.edu/json/radar?operation=available&lat=36.8133333333&lon=-92.9333333333&start=2012-08-31T18:35Z\n",
        "http://mesonet.agron.iastate.edu/json/radar?operation=list&radar=SGF&product=N0Q&start=2012-08-31T18:35Z&end=2012-08-31T18:45Z"
       ]
      },
      {
       "output_type": "stream",
       "stream": "stdout",
       "text": [
        "\n",
        "1835 RADAR: SGF RADAR TIME: 1835"
       ]
      },
      {
       "output_type": "stream",
       "stream": "stdout",
       "text": [
        "\n",
        "36.82875 -92.934375 5.13888888889e-05 -3.47222222222e-06\n",
        "http://mesonet.agron.iastate.edu/json/radar?operation=available&lat=36.82875&lon=-92.934375&start=2012-08-31T18:40Z\n",
        "http://mesonet.agron.iastate.edu/json/radar?operation=list&radar=SGF&product=N0Q&start=2012-08-31T18:40Z&end=2012-08-31T18:50Z"
       ]
      },
      {
       "output_type": "stream",
       "stream": "stdout",
       "text": [
        "\n",
        "1840 RADAR: SGF RADAR TIME: 1840"
       ]
      },
      {
       "output_type": "stream",
       "stream": "stdout",
       "text": [
        "\n",
        "36.8441666667 -92.9354166667 5.13888888889e-05 -3.47222222222e-06\n",
        "http://mesonet.agron.iastate.edu/json/radar?operation=available&lat=36.8441666667&lon=-92.9354166667&start=2012-08-31T18:45Z\n",
        "http://mesonet.agron.iastate.edu/json/radar?operation=list&radar=SGF&product=N0Q&start=2012-08-31T18:45Z&end=2012-08-31T18:55Z"
       ]
      },
      {
       "output_type": "stream",
       "stream": "stdout",
       "text": [
        "\n",
        "1845 RADAR: SGF RADAR TIME: 1849"
       ]
      },
      {
       "output_type": "stream",
       "stream": "stdout",
       "text": [
        "\n",
        "36.8595833333 -92.9364583333 5.13888888889e-05 -3.47222222222e-06\n",
        "http://mesonet.agron.iastate.edu/json/radar?operation=available&lat=36.8595833333&lon=-92.9364583333&start=2012-08-31T18:50Z\n",
        "http://mesonet.agron.iastate.edu/json/radar?operation=list&radar=SGF&product=N0Q&start=2012-08-31T18:50Z&end=2012-08-31T19:00Z"
       ]
      },
      {
       "output_type": "stream",
       "stream": "stdout",
       "text": [
        "\n",
        "1850 RADAR: SGF RADAR TIME: 1853"
       ]
      },
      {
       "output_type": "stream",
       "stream": "stdout",
       "text": [
        "\n",
        "36.875 -92.9375 5.13888888889e-05 -3.47222222222e-06\n",
        "http://mesonet.agron.iastate.edu/json/radar?operation=available&lat=36.875&lon=-92.9375&start=2012-08-31T18:55Z\n",
        "http://mesonet.agron.iastate.edu/json/radar?operation=list&radar=SGF&product=N0Q&start=2012-08-31T18:55Z&end=2012-08-31T19:05Z"
       ]
      },
      {
       "output_type": "stream",
       "stream": "stdout",
       "text": [
        "\n",
        "1855 RADAR: SGF RADAR TIME: 1858"
       ]
      },
      {
       "output_type": "stream",
       "stream": "stdout",
       "text": [
        "\n",
        "36.8904166667 -92.9385416667 5.13888888889e-05 -3.47222222222e-06\n",
        "http://mesonet.agron.iastate.edu/json/radar?operation=available&lat=36.8904166667&lon=-92.9385416667&start=2012-08-31T19:00Z\n",
        "http://mesonet.agron.iastate.edu/json/radar?operation=list&radar=SGF&product=N0Q&start=2012-08-31T19:00Z&end=2012-08-31T19:10Z"
       ]
      },
      {
       "output_type": "stream",
       "stream": "stdout",
       "text": [
        "\n",
        "1900 RADAR: SGF RADAR TIME: 1902"
       ]
      },
      {
       "output_type": "stream",
       "stream": "stdout",
       "text": [
        "\n",
        "36.9058333333 -92.9395833333 5.13888888889e-05 -3.47222222222e-06\n",
        "http://mesonet.agron.iastate.edu/json/radar?operation=available&lat=36.9058333333&lon=-92.9395833333&start=2012-08-31T19:05Z\n",
        "http://mesonet.agron.iastate.edu/json/radar?operation=list&radar=SGF&product=N0Q&start=2012-08-31T19:05Z&end=2012-08-31T19:15Z"
       ]
      },
      {
       "output_type": "stream",
       "stream": "stdout",
       "text": [
        "\n",
        "1905 RADAR: SGF RADAR TIME: 1907"
       ]
      },
      {
       "output_type": "stream",
       "stream": "stdout",
       "text": [
        "\n",
        "36.92125 -92.940625 5.13888888889e-05 -3.47222222222e-06\n",
        "http://mesonet.agron.iastate.edu/json/radar?operation=available&lat=36.92125&lon=-92.940625&start=2012-08-31T19:10Z\n",
        "http://mesonet.agron.iastate.edu/json/radar?operation=list&radar=SGF&product=N0Q&start=2012-08-31T19:10Z&end=2012-08-31T19:20Z"
       ]
      },
      {
       "output_type": "stream",
       "stream": "stdout",
       "text": [
        "\n",
        "1910 RADAR: SGF RADAR TIME: 1911"
       ]
      },
      {
       "output_type": "stream",
       "stream": "stdout",
       "text": [
        "\n",
        "36.9366666667 -92.9416666667 5.13888888889e-05 -3.47222222222e-06\n",
        "http://mesonet.agron.iastate.edu/json/radar?operation=available&lat=36.9366666667&lon=-92.9416666667&start=2012-08-31T19:15Z\n",
        "http://mesonet.agron.iastate.edu/json/radar?operation=list&radar=SGF&product=N0Q&start=2012-08-31T19:15Z&end=2012-08-31T19:25Z"
       ]
      },
      {
       "output_type": "stream",
       "stream": "stdout",
       "text": [
        "\n",
        "1915 RADAR: SGF RADAR TIME: 1916"
       ]
      },
      {
       "output_type": "stream",
       "stream": "stdout",
       "text": [
        "\n",
        "36.9520833333 -92.9427083333 5.13888888889e-05 -3.47222222222e-06\n",
        "http://mesonet.agron.iastate.edu/json/radar?operation=available&lat=36.9520833333&lon=-92.9427083333&start=2012-08-31T19:20Z\n",
        "http://mesonet.agron.iastate.edu/json/radar?operation=list&radar=SGF&product=N0Q&start=2012-08-31T19:20Z&end=2012-08-31T19:30Z"
       ]
      },
      {
       "output_type": "stream",
       "stream": "stdout",
       "text": [
        "\n",
        "1920 RADAR: SGF RADAR TIME: 1921"
       ]
      },
      {
       "output_type": "stream",
       "stream": "stdout",
       "text": [
        "\n",
        "36.9675 -92.94375 5.13888888889e-05 -3.47222222222e-06\n",
        "http://mesonet.agron.iastate.edu/json/radar?operation=available&lat=36.9675&lon=-92.94375&start=2012-08-31T19:25Z\n",
        "http://mesonet.agron.iastate.edu/json/radar?operation=list&radar=SGF&product=N0Q&start=2012-08-31T19:25Z&end=2012-08-31T19:35Z"
       ]
      },
      {
       "output_type": "stream",
       "stream": "stdout",
       "text": [
        "\n",
        "1925 RADAR: SGF RADAR TIME: 1925"
       ]
      },
      {
       "output_type": "stream",
       "stream": "stdout",
       "text": [
        "\n",
        "36.9829166667 -92.9447916667 5.13888888889e-05 -3.47222222222e-06\n",
        "http://mesonet.agron.iastate.edu/json/radar?operation=available&lat=36.9829166667&lon=-92.9447916667&start=2012-08-31T19:30Z\n",
        "http://mesonet.agron.iastate.edu/json/radar?operation=list&radar=SGF&product=N0Q&start=2012-08-31T19:30Z&end=2012-08-31T19:40Z"
       ]
      },
      {
       "output_type": "stream",
       "stream": "stdout",
       "text": [
        "\n",
        "1930 RADAR: SGF RADAR TIME: 1930"
       ]
      },
      {
       "output_type": "stream",
       "stream": "stdout",
       "text": [
        "\n",
        "36.9983333333 -92.9458333333 5.13888888889e-05 -3.47222222222e-06\n",
        "http://mesonet.agron.iastate.edu/json/radar?operation=available&lat=36.9983333333&lon=-92.9458333333&start=2012-08-31T19:35Z\n",
        "http://mesonet.agron.iastate.edu/json/radar?operation=list&radar=SGF&product=N0Q&start=2012-08-31T19:35Z&end=2012-08-31T19:45Z"
       ]
      },
      {
       "output_type": "stream",
       "stream": "stdout",
       "text": [
        "\n",
        "1935 RADAR: SGF RADAR TIME: 1939"
       ]
      },
      {
       "output_type": "stream",
       "stream": "stdout",
       "text": [
        "\n",
        "37.01375 -92.946875 5.13888888889e-05 -3.47222222222e-06\n",
        "http://mesonet.agron.iastate.edu/json/radar?operation=available&lat=37.01375&lon=-92.946875&start=2012-08-31T19:40Z\n",
        "http://mesonet.agron.iastate.edu/json/radar?operation=list&radar=SGF&product=N0Q&start=2012-08-31T19:40Z&end=2012-08-31T19:50Z"
       ]
      },
      {
       "output_type": "stream",
       "stream": "stdout",
       "text": [
        "\n",
        "1940 RADAR: SGF RADAR TIME: 1945"
       ]
      },
      {
       "output_type": "stream",
       "stream": "stdout",
       "text": [
        "\n",
        "37.0291666667 -92.9479166667 5.13888888889e-05 -3.47222222222e-06\n",
        "http://mesonet.agron.iastate.edu/json/radar?operation=available&lat=37.0291666667&lon=-92.9479166667&start=2012-08-31T19:45Z\n",
        "http://mesonet.agron.iastate.edu/json/radar?operation=list&radar=SGF&product=N0Q&start=2012-08-31T19:45Z&end=2012-08-31T19:55Z"
       ]
      },
      {
       "output_type": "stream",
       "stream": "stdout",
       "text": [
        "\n",
        "1945 RADAR: SGF RADAR TIME: 1945"
       ]
      },
      {
       "output_type": "stream",
       "stream": "stdout",
       "text": [
        "\n",
        "37.0445833333 -92.9489583333 5.13888888889e-05 -3.47222222222e-06\n",
        "http://mesonet.agron.iastate.edu/json/radar?operation=available&lat=37.0445833333&lon=-92.9489583333&start=2012-08-31T19:50Z\n",
        "http://mesonet.agron.iastate.edu/json/radar?operation=list&radar=SGF&product=N0Q&start=2012-08-31T19:50Z&end=2012-08-31T20:00Z"
       ]
      },
      {
       "output_type": "stream",
       "stream": "stdout",
       "text": [
        "\n",
        "1950 RADAR: SGF RADAR TIME: 1950"
       ]
      },
      {
       "output_type": "stream",
       "stream": "stdout",
       "text": [
        "\n",
        "37.06 -92.95 5.13888888889e-05 -3.47222222222e-06\n",
        "http://mesonet.agron.iastate.edu/json/radar?operation=available&lat=37.06&lon=-92.95&start=2012-08-31T19:55Z\n",
        "http://mesonet.agron.iastate.edu/json/radar?operation=list&radar=SGF&product=N0Q&start=2012-08-31T19:55Z&end=2012-08-31T20:05Z"
       ]
      },
      {
       "output_type": "stream",
       "stream": "stdout",
       "text": [
        "\n",
        "1955 RADAR: SGF RADAR TIME: 1959"
       ]
      },
      {
       "output_type": "stream",
       "stream": "stdout",
       "text": [
        "\n",
        "37.0754166667 -92.9510416667 5.13888888889e-05 -3.47222222222e-06\n",
        "http://mesonet.agron.iastate.edu/json/radar?operation=available&lat=37.0754166667&lon=-92.9510416667&start=2012-08-31T20:00Z\n",
        "http://mesonet.agron.iastate.edu/json/radar?operation=list&radar=SGF&product=N0Q&start=2012-08-31T20:00Z&end=2012-08-31T20:10Z"
       ]
      },
      {
       "output_type": "stream",
       "stream": "stdout",
       "text": [
        "\n",
        "2000 RADAR: SGF RADAR TIME: 2003"
       ]
      },
      {
       "output_type": "stream",
       "stream": "stdout",
       "text": [
        "\n",
        "37.0908333333 -92.9520833333 5.13888888889e-05 -3.47222222222e-06\n",
        "http://mesonet.agron.iastate.edu/json/radar?operation=available&lat=37.0908333333&lon=-92.9520833333&start=2012-08-31T20:05Z\n",
        "http://mesonet.agron.iastate.edu/json/radar?operation=list&radar=SGF&product=N0Q&start=2012-08-31T20:05Z&end=2012-08-31T20:15Z"
       ]
      },
      {
       "output_type": "stream",
       "stream": "stdout",
       "text": [
        "\n",
        "2005 RADAR: SGF RADAR TIME: 2007"
       ]
      },
      {
       "output_type": "stream",
       "stream": "stdout",
       "text": [
        "\n",
        "37.10625 -92.953125 5.13888888889e-05 -3.47222222222e-06\n",
        "http://mesonet.agron.iastate.edu/json/radar?operation=available&lat=37.10625&lon=-92.953125&start=2012-08-31T20:10Z\n",
        "http://mesonet.agron.iastate.edu/json/radar?operation=list&radar=SGF&product=N0Q&start=2012-08-31T20:10Z&end=2012-08-31T20:20Z"
       ]
      },
      {
       "output_type": "stream",
       "stream": "stdout",
       "text": [
        "\n",
        "2010 RADAR: SGF RADAR TIME: 2012"
       ]
      },
      {
       "output_type": "stream",
       "stream": "stdout",
       "text": [
        "\n",
        "37.1216666667 -92.9541666667 5.13888888889e-05 -3.47222222222e-06\n",
        "http://mesonet.agron.iastate.edu/json/radar?operation=available&lat=37.1216666667&lon=-92.9541666667&start=2012-08-31T20:15Z\n",
        "http://mesonet.agron.iastate.edu/json/radar?operation=list&radar=SGF&product=N0Q&start=2012-08-31T20:15Z&end=2012-08-31T20:25Z"
       ]
      },
      {
       "output_type": "stream",
       "stream": "stdout",
       "text": [
        "\n",
        "2015 RADAR: SGF RADAR TIME: 2016"
       ]
      },
      {
       "output_type": "stream",
       "stream": "stdout",
       "text": [
        "\n",
        "37.1370833333 -92.9552083333 5.13888888889e-05 -3.47222222222e-06\n",
        "http://mesonet.agron.iastate.edu/json/radar?operation=available&lat=37.1370833333&lon=-92.9552083333&start=2012-08-31T20:20Z\n",
        "http://mesonet.agron.iastate.edu/json/radar?operation=list&radar=SGF&product=N0Q&start=2012-08-31T20:20Z&end=2012-08-31T20:30Z"
       ]
      },
      {
       "output_type": "stream",
       "stream": "stdout",
       "text": [
        "\n",
        "2020 RADAR: SGF RADAR TIME: 2020"
       ]
      },
      {
       "output_type": "stream",
       "stream": "stdout",
       "text": [
        "\n",
        "37.1525 -92.95625 5.13888888889e-05 -3.47222222222e-06\n",
        "http://mesonet.agron.iastate.edu/json/radar?operation=available&lat=37.1525&lon=-92.95625&start=2012-08-31T20:25Z\n",
        "http://mesonet.agron.iastate.edu/json/radar?operation=list&radar=SGF&product=N0Q&start=2012-08-31T20:25Z&end=2012-08-31T20:35Z"
       ]
      },
      {
       "output_type": "stream",
       "stream": "stdout",
       "text": [
        "\n",
        "2025 RADAR: SGF RADAR TIME: 2029"
       ]
      },
      {
       "output_type": "stream",
       "stream": "stdout",
       "text": [
        "\n",
        "37.1679166667 -92.9572916667 5.13888888889e-05 -3.47222222222e-06\n",
        "http://mesonet.agron.iastate.edu/json/radar?operation=available&lat=37.1679166667&lon=-92.9572916667&start=2012-08-31T20:30Z\n",
        "http://mesonet.agron.iastate.edu/json/radar?operation=list&radar=SGF&product=N0Q&start=2012-08-31T20:30Z&end=2012-08-31T20:40Z"
       ]
      },
      {
       "output_type": "stream",
       "stream": "stdout",
       "text": [
        "\n",
        "2030 RADAR: SGF RADAR TIME: 2033"
       ]
      },
      {
       "output_type": "stream",
       "stream": "stdout",
       "text": [
        "\n",
        "37.1833333333 -92.9583333333 5.13888888889e-05 -3.47222222222e-06\n",
        "http://mesonet.agron.iastate.edu/json/radar?operation=available&lat=37.1833333333&lon=-92.9583333333&start=2012-08-31T20:35Z\n",
        "http://mesonet.agron.iastate.edu/json/radar?operation=list&radar=SGF&product=N0Q&start=2012-08-31T20:35Z&end=2012-08-31T20:45Z"
       ]
      },
      {
       "output_type": "stream",
       "stream": "stdout",
       "text": [
        "\n",
        "2035 RADAR: SGF RADAR TIME: 2038"
       ]
      },
      {
       "output_type": "stream",
       "stream": "stdout",
       "text": [
        "\n",
        "37.19875 -92.959375 5.13888888889e-05 -3.47222222222e-06\n",
        "http://mesonet.agron.iastate.edu/json/radar?operation=available&lat=37.19875&lon=-92.959375&start=2012-08-31T20:40Z\n",
        "http://mesonet.agron.iastate.edu/json/radar?operation=list&radar=SGF&product=N0Q&start=2012-08-31T20:40Z&end=2012-08-31T20:50Z"
       ]
      },
      {
       "output_type": "stream",
       "stream": "stdout",
       "text": [
        "\n",
        "2040 RADAR: SGF RADAR TIME: 2042"
       ]
      },
      {
       "output_type": "stream",
       "stream": "stdout",
       "text": [
        "\n",
        "37.2141666667 -92.9604166667 5.13888888889e-05 -3.47222222222e-06\n",
        "http://mesonet.agron.iastate.edu/json/radar?operation=available&lat=37.2141666667&lon=-92.9604166667&start=2012-08-31T20:45Z\n",
        "http://mesonet.agron.iastate.edu/json/radar?operation=list&radar=SGF&product=N0Q&start=2012-08-31T20:45Z&end=2012-08-31T20:55Z"
       ]
      },
      {
       "output_type": "stream",
       "stream": "stdout",
       "text": [
        "\n",
        "2045 RADAR: SGF RADAR TIME: 2046"
       ]
      },
      {
       "output_type": "stream",
       "stream": "stdout",
       "text": [
        "\n",
        "37.2295833333 -92.9614583333 5.13888888889e-05 -3.47222222222e-06\n",
        "http://mesonet.agron.iastate.edu/json/radar?operation=available&lat=37.2295833333&lon=-92.9614583333&start=2012-08-31T20:50Z\n",
        "http://mesonet.agron.iastate.edu/json/radar?operation=list&radar=SGF&product=N0Q&start=2012-08-31T20:50Z&end=2012-08-31T21:00Z"
       ]
      },
      {
       "output_type": "stream",
       "stream": "stdout",
       "text": [
        "\n",
        "2050 RADAR: SGF RADAR TIME: 2051"
       ]
      },
      {
       "output_type": "stream",
       "stream": "stdout",
       "text": [
        "\n",
        "37.245 -92.9625 5.13888888889e-05 -3.47222222222e-06\n",
        "http://mesonet.agron.iastate.edu/json/radar?operation=available&lat=37.245&lon=-92.9625&start=2012-08-31T20:55Z\n",
        "http://mesonet.agron.iastate.edu/json/radar?operation=list&radar=SGF&product=N0Q&start=2012-08-31T20:55Z&end=2012-08-31T21:05Z"
       ]
      },
      {
       "output_type": "stream",
       "stream": "stdout",
       "text": [
        "\n",
        "2055 RADAR: SGF RADAR TIME: 2055"
       ]
      },
      {
       "output_type": "stream",
       "stream": "stdout",
       "text": [
        "\n",
        "37.2604166667 -92.9635416667 5.13888888889e-05 -3.47222222222e-06\n",
        "http://mesonet.agron.iastate.edu/json/radar?operation=available&lat=37.2604166667&lon=-92.9635416667&start=2012-08-31T21:00Z\n",
        "http://mesonet.agron.iastate.edu/json/radar?operation=list&radar=SGF&product=N0Q&start=2012-08-31T21:00Z&end=2012-08-31T21:10Z"
       ]
      },
      {
       "output_type": "stream",
       "stream": "stdout",
       "text": [
        "\n",
        "2100 RADAR: SGF RADAR TIME: 2104"
       ]
      },
      {
       "output_type": "stream",
       "stream": "stdout",
       "text": [
        "\n",
        "37.2758333333 -92.9645833333 5.13888888889e-05 -3.47222222222e-06\n",
        "http://mesonet.agron.iastate.edu/json/radar?operation=available&lat=37.2758333333&lon=-92.9645833333&start=2012-08-31T21:05Z\n",
        "http://mesonet.agron.iastate.edu/json/radar?operation=list&radar=SGF&product=N0Q&start=2012-08-31T21:05Z&end=2012-08-31T21:15Z"
       ]
      },
      {
       "output_type": "stream",
       "stream": "stdout",
       "text": [
        "\n",
        "2105 RADAR: SGF RADAR TIME: 2108"
       ]
      },
      {
       "output_type": "stream",
       "stream": "stdout",
       "text": [
        "\n",
        "37.29125 -92.965625 5.13888888889e-05 -3.47222222222e-06\n",
        "http://mesonet.agron.iastate.edu/json/radar?operation=available&lat=37.29125&lon=-92.965625&start=2012-08-31T21:10Z\n",
        "http://mesonet.agron.iastate.edu/json/radar?operation=list&radar=SGF&product=N0Q&start=2012-08-31T21:10Z&end=2012-08-31T21:20Z"
       ]
      },
      {
       "output_type": "stream",
       "stream": "stdout",
       "text": [
        "\n",
        "2110 RADAR: SGF RADAR TIME: 2113"
       ]
      },
      {
       "output_type": "stream",
       "stream": "stdout",
       "text": [
        "\n",
        "37.3066666667 -92.9666666667 5.13888888889e-05 -3.47222222222e-06\n",
        "http://mesonet.agron.iastate.edu/json/radar?operation=available&lat=37.3066666667&lon=-92.9666666667&start=2012-08-31T21:15Z\n",
        "http://mesonet.agron.iastate.edu/json/radar?operation=list&radar=SGF&product=N0Q&start=2012-08-31T21:15Z&end=2012-08-31T21:25Z"
       ]
      },
      {
       "output_type": "stream",
       "stream": "stdout",
       "text": [
        "\n",
        "2115 RADAR: SGF RADAR TIME: 2117"
       ]
      },
      {
       "output_type": "stream",
       "stream": "stdout",
       "text": [
        "\n",
        "37.3220833333 -92.9677083333 5.13888888889e-05 -3.47222222222e-06\n",
        "http://mesonet.agron.iastate.edu/json/radar?operation=available&lat=37.3220833333&lon=-92.9677083333&start=2012-08-31T21:20Z\n",
        "http://mesonet.agron.iastate.edu/json/radar?operation=list&radar=SGF&product=N0Q&start=2012-08-31T21:20Z&end=2012-08-31T21:30Z"
       ]
      },
      {
       "output_type": "stream",
       "stream": "stdout",
       "text": [
        "\n",
        "2120 RADAR: SGF RADAR TIME: 2122"
       ]
      },
      {
       "output_type": "stream",
       "stream": "stdout",
       "text": [
        "\n",
        "37.3375 -92.96875 5.13888888889e-05 -3.47222222222e-06\n",
        "http://mesonet.agron.iastate.edu/json/radar?operation=available&lat=37.3375&lon=-92.96875&start=2012-08-31T21:25Z\n",
        "http://mesonet.agron.iastate.edu/json/radar?operation=list&radar=SGF&product=N0Q&start=2012-08-31T21:25Z&end=2012-08-31T21:35Z"
       ]
      },
      {
       "output_type": "stream",
       "stream": "stdout",
       "text": [
        "\n",
        "2125 RADAR: SGF RADAR TIME: 2127"
       ]
      },
      {
       "output_type": "stream",
       "stream": "stdout",
       "text": [
        "\n",
        "37.3529166667 -92.9697916667 5.13888888889e-05 -3.47222222222e-06\n",
        "http://mesonet.agron.iastate.edu/json/radar?operation=available&lat=37.3529166667&lon=-92.9697916667&start=2012-08-31T21:30Z\n",
        "http://mesonet.agron.iastate.edu/json/radar?operation=list&radar=SGF&product=N0Q&start=2012-08-31T21:30Z&end=2012-08-31T21:40Z"
       ]
      },
      {
       "output_type": "stream",
       "stream": "stdout",
       "text": [
        "\n",
        "2130 RADAR: SGF RADAR TIME: 2131"
       ]
      },
      {
       "output_type": "stream",
       "stream": "stdout",
       "text": [
        "\n",
        "37.3683333333 -92.9708333333 5.13888888889e-05 -3.47222222222e-06\n",
        "http://mesonet.agron.iastate.edu/json/radar?operation=available&lat=37.3683333333&lon=-92.9708333333&start=2012-08-31T21:35Z\n",
        "http://mesonet.agron.iastate.edu/json/radar?operation=list&radar=SGF&product=N0Q&start=2012-08-31T21:35Z&end=2012-08-31T21:45Z"
       ]
      },
      {
       "output_type": "stream",
       "stream": "stdout",
       "text": [
        "\n",
        "2135 RADAR: SGF RADAR TIME: 2136"
       ]
      },
      {
       "output_type": "stream",
       "stream": "stdout",
       "text": [
        "\n",
        "37.38375 -92.971875 5.13888888889e-05 -3.47222222222e-06\n",
        "http://mesonet.agron.iastate.edu/json/radar?operation=available&lat=37.38375&lon=-92.971875&start=2012-08-31T21:40Z\n",
        "http://mesonet.agron.iastate.edu/json/radar?operation=list&radar=SGF&product=N0Q&start=2012-08-31T21:40Z&end=2012-08-31T21:50Z"
       ]
      },
      {
       "output_type": "stream",
       "stream": "stdout",
       "text": [
        "\n",
        "2140 RADAR: SGF RADAR TIME: 2140"
       ]
      },
      {
       "output_type": "stream",
       "stream": "stdout",
       "text": [
        "\n",
        "37.3991666667 -92.9729166667 5.13888888889e-05 -3.47222222222e-06\n",
        "http://mesonet.agron.iastate.edu/json/radar?operation=available&lat=37.3991666667&lon=-92.9729166667&start=2012-08-31T21:45Z\n",
        "http://mesonet.agron.iastate.edu/json/radar?operation=list&radar=SGF&product=N0Q&start=2012-08-31T21:45Z&end=2012-08-31T21:55Z"
       ]
      },
      {
       "output_type": "stream",
       "stream": "stdout",
       "text": [
        "\n",
        "2145 RADAR: SGF RADAR TIME: 2145"
       ]
      },
      {
       "output_type": "stream",
       "stream": "stdout",
       "text": [
        "\n",
        "37.4145833333 -92.9739583333 5.13888888889e-05 -3.47222222222e-06\n",
        "http://mesonet.agron.iastate.edu/json/radar?operation=available&lat=37.4145833333&lon=-92.9739583333&start=2012-08-31T21:50Z\n",
        "http://mesonet.agron.iastate.edu/json/radar?operation=list&radar=SGF&product=N0Q&start=2012-08-31T21:50Z&end=2012-08-31T22:00Z"
       ]
      },
      {
       "output_type": "stream",
       "stream": "stdout",
       "text": [
        "\n",
        "2150 RADAR: SGF RADAR TIME: 2150"
       ]
      },
      {
       "output_type": "stream",
       "stream": "stdout",
       "text": [
        "\n",
        "37.43 -92.975 5.13888888889e-05 -3.47222222222e-06\n",
        "http://mesonet.agron.iastate.edu/json/radar?operation=available&lat=37.43&lon=-92.975&start=2012-08-31T21:55Z\n",
        "http://mesonet.agron.iastate.edu/json/radar?operation=list&radar=SGF&product=N0Q&start=2012-08-31T21:55Z&end=2012-08-31T22:05Z"
       ]
      },
      {
       "output_type": "stream",
       "stream": "stdout",
       "text": [
        "\n",
        "2155 RADAR: SGF RADAR TIME: 2159"
       ]
      },
      {
       "output_type": "stream",
       "stream": "stdout",
       "text": [
        "\n",
        "37.4454166667 -92.9760416667 5.13888888889e-05 -3.47222222222e-06\n",
        "http://mesonet.agron.iastate.edu/json/radar?operation=available&lat=37.4454166667&lon=-92.9760416667&start=2012-08-31T22:00Z\n",
        "http://mesonet.agron.iastate.edu/json/radar?operation=list&radar=SGF&product=N0Q&start=2012-08-31T22:00Z&end=2012-08-31T22:10Z"
       ]
      },
      {
       "output_type": "stream",
       "stream": "stdout",
       "text": [
        "\n",
        "2200 RADAR: SGF RADAR TIME: 2203"
       ]
      },
      {
       "output_type": "stream",
       "stream": "stdout",
       "text": [
        "\n",
        "37.4608333333 -92.9770833333 5.13888888889e-05 -3.47222222222e-06\n",
        "http://mesonet.agron.iastate.edu/json/radar?operation=available&lat=37.4608333333&lon=-92.9770833333&start=2012-08-31T22:05Z\n",
        "http://mesonet.agron.iastate.edu/json/radar?operation=list&radar=SGF&product=N0Q&start=2012-08-31T22:05Z&end=2012-08-31T22:15Z"
       ]
      },
      {
       "output_type": "stream",
       "stream": "stdout",
       "text": [
        "\n",
        "2205 RADAR: SGF RADAR TIME: 2208"
       ]
      },
      {
       "output_type": "stream",
       "stream": "stdout",
       "text": [
        "\n",
        "37.47625 -92.978125 5.13888888889e-05 -3.47222222222e-06\n",
        "http://mesonet.agron.iastate.edu/json/radar?operation=available&lat=37.47625&lon=-92.978125&start=2012-08-31T22:10Z\n",
        "http://mesonet.agron.iastate.edu/json/radar?operation=list&radar=SGF&product=N0Q&start=2012-08-31T22:10Z&end=2012-08-31T22:20Z"
       ]
      },
      {
       "output_type": "stream",
       "stream": "stdout",
       "text": [
        "\n",
        "2210 RADAR: SGF RADAR TIME: 2213"
       ]
      },
      {
       "output_type": "stream",
       "stream": "stdout",
       "text": [
        "\n",
        "37.4916666667 -92.9791666667 5.13888888889e-05 -3.47222222222e-06\n",
        "http://mesonet.agron.iastate.edu/json/radar?operation=available&lat=37.4916666667&lon=-92.9791666667&start=2012-08-31T22:15Z\n",
        "http://mesonet.agron.iastate.edu/json/radar?operation=list&radar=SGF&product=N0Q&start=2012-08-31T22:15Z&end=2012-08-31T22:25Z"
       ]
      },
      {
       "output_type": "stream",
       "stream": "stdout",
       "text": [
        "\n",
        "2215 RADAR: SGF RADAR TIME: 2217"
       ]
      },
      {
       "output_type": "stream",
       "stream": "stdout",
       "text": [
        "\n",
        "37.5070833333 -92.9802083333 5.13888888889e-05 -3.47222222222e-06\n",
        "http://mesonet.agron.iastate.edu/json/radar?operation=available&lat=37.5070833333&lon=-92.9802083333&start=2012-08-31T22:20Z\n",
        "http://mesonet.agron.iastate.edu/json/radar?operation=list&radar=SGF&product=N0Q&start=2012-08-31T22:20Z&end=2012-08-31T22:30Z"
       ]
      },
      {
       "output_type": "stream",
       "stream": "stdout",
       "text": [
        "\n",
        "2220 RADAR: SGF RADAR TIME: 2222"
       ]
      },
      {
       "output_type": "stream",
       "stream": "stdout",
       "text": [
        "\n",
        "37.5225 -92.98125 5.13888888889e-05 -3.47222222222e-06\n",
        "http://mesonet.agron.iastate.edu/json/radar?operation=available&lat=37.5225&lon=-92.98125&start=2012-08-31T22:25Z\n",
        "http://mesonet.agron.iastate.edu/json/radar?operation=list&radar=SGF&product=N0Q&start=2012-08-31T22:25Z&end=2012-08-31T22:35Z"
       ]
      },
      {
       "output_type": "stream",
       "stream": "stdout",
       "text": [
        "\n",
        "2225 RADAR: SGF RADAR TIME: 2226"
       ]
      },
      {
       "output_type": "stream",
       "stream": "stdout",
       "text": [
        "\n",
        "37.5379166667 -92.9822916667 5.13888888889e-05 -3.47222222222e-06\n",
        "http://mesonet.agron.iastate.edu/json/radar?operation=available&lat=37.5379166667&lon=-92.9822916667&start=2012-08-31T22:30Z\n",
        "http://mesonet.agron.iastate.edu/json/radar?operation=list&radar=SGF&product=N0Q&start=2012-08-31T22:30Z&end=2012-08-31T22:40Z"
       ]
      },
      {
       "output_type": "stream",
       "stream": "stdout",
       "text": [
        "\n",
        "2230 RADAR: SGF RADAR TIME: 2231"
       ]
      },
      {
       "output_type": "stream",
       "stream": "stdout",
       "text": [
        "\n",
        "37.5533333333 -92.9833333333 5.13888888889e-05 -3.47222222222e-06\n",
        "http://mesonet.agron.iastate.edu/json/radar?operation=available&lat=37.5533333333&lon=-92.9833333333&start=2012-08-31T22:35Z\n",
        "http://mesonet.agron.iastate.edu/json/radar?operation=list&radar=SGF&product=N0Q&start=2012-08-31T22:35Z&end=2012-08-31T22:45Z"
       ]
      },
      {
       "output_type": "stream",
       "stream": "stdout",
       "text": [
        "\n",
        "2235 RADAR: SGF RADAR TIME: 2236"
       ]
      },
      {
       "output_type": "stream",
       "stream": "stdout",
       "text": [
        "\n",
        "37.56875 -92.984375 5.13888888889e-05 -3.47222222222e-06\n",
        "http://mesonet.agron.iastate.edu/json/radar?operation=available&lat=37.56875&lon=-92.984375&start=2012-08-31T22:40Z\n",
        "http://mesonet.agron.iastate.edu/json/radar?operation=list&radar=SGF&product=N0Q&start=2012-08-31T22:40Z&end=2012-08-31T22:50Z"
       ]
      },
      {
       "output_type": "stream",
       "stream": "stdout",
       "text": [
        "\n",
        "2240 RADAR: SGF RADAR TIME: 2240"
       ]
      },
      {
       "output_type": "stream",
       "stream": "stdout",
       "text": [
        "\n",
        "37.5841666667 -92.9854166667 5.13888888889e-05 -3.47222222222e-06\n",
        "http://mesonet.agron.iastate.edu/json/radar?operation=available&lat=37.5841666667&lon=-92.9854166667&start=2012-08-31T22:45Z\n",
        "http://mesonet.agron.iastate.edu/json/radar?operation=list&radar=SGF&product=N0Q&start=2012-08-31T22:45Z&end=2012-08-31T22:55Z"
       ]
      },
      {
       "output_type": "stream",
       "stream": "stdout",
       "text": [
        "\n",
        "2245 RADAR: SGF RADAR TIME: 2245"
       ]
      },
      {
       "output_type": "stream",
       "stream": "stdout",
       "text": [
        "\n",
        "37.5995833333 -92.9864583333 5.13888888889e-05 -3.47222222222e-06\n",
        "http://mesonet.agron.iastate.edu/json/radar?operation=available&lat=37.5995833333&lon=-92.9864583333&start=2012-08-31T22:50Z\n",
        "http://mesonet.agron.iastate.edu/json/radar?operation=list&radar=SGF&product=N0Q&start=2012-08-31T22:50Z&end=2012-08-31T23:00Z"
       ]
      },
      {
       "output_type": "stream",
       "stream": "stdout",
       "text": [
        "\n",
        "2250 RADAR: SGF RADAR TIME: 2254"
       ]
      },
      {
       "output_type": "stream",
       "stream": "stdout",
       "text": [
        "\n",
        "37.615 -92.9875 5.13888888889e-05 -3.47222222222e-06\n",
        "http://mesonet.agron.iastate.edu/json/radar?operation=available&lat=37.615&lon=-92.9875&start=2012-08-31T22:55Z\n",
        "http://mesonet.agron.iastate.edu/json/radar?operation=list&radar=SGF&product=N0Q&start=2012-08-31T22:55Z&end=2012-08-31T23:05Z"
       ]
      },
      {
       "output_type": "stream",
       "stream": "stdout",
       "text": [
        "\n",
        "2255 RADAR: SGF RADAR TIME: 2258"
       ]
      },
      {
       "output_type": "stream",
       "stream": "stdout",
       "text": [
        "\n",
        "37.6304166667 -92.9885416667 5.13888888889e-05 -3.47222222222e-06\n",
        "http://mesonet.agron.iastate.edu/json/radar?operation=available&lat=37.6304166667&lon=-92.9885416667&start=2012-08-31T23:00Z\n",
        "http://mesonet.agron.iastate.edu/json/radar?operation=list&radar=SGF&product=N0Q&start=2012-08-31T23:00Z&end=2012-08-31T23:10Z"
       ]
      },
      {
       "output_type": "stream",
       "stream": "stdout",
       "text": [
        "\n",
        "2300 RADAR: SGF RADAR TIME: 2303"
       ]
      },
      {
       "output_type": "stream",
       "stream": "stdout",
       "text": [
        "\n",
        "37.6458333333 -92.9895833333 5.13888888889e-05 -3.47222222222e-06\n",
        "http://mesonet.agron.iastate.edu/json/radar?operation=available&lat=37.6458333333&lon=-92.9895833333&start=2012-08-31T23:05Z\n",
        "http://mesonet.agron.iastate.edu/json/radar?operation=list&radar=SGF&product=N0Q&start=2012-08-31T23:05Z&end=2012-08-31T23:15Z"
       ]
      },
      {
       "output_type": "stream",
       "stream": "stdout",
       "text": [
        "\n",
        "2305 RADAR: SGF RADAR TIME: 2308"
       ]
      },
      {
       "output_type": "stream",
       "stream": "stdout",
       "text": [
        "\n",
        "37.66125 -92.990625 5.13888888889e-05 -3.47222222222e-06\n",
        "http://mesonet.agron.iastate.edu/json/radar?operation=available&lat=37.66125&lon=-92.990625&start=2012-08-31T23:10Z\n",
        "http://mesonet.agron.iastate.edu/json/radar?operation=list&radar=SGF&product=N0Q&start=2012-08-31T23:10Z&end=2012-08-31T23:20Z"
       ]
      },
      {
       "output_type": "stream",
       "stream": "stdout",
       "text": [
        "\n",
        "2310 RADAR: SGF RADAR TIME: 2312"
       ]
      },
      {
       "output_type": "stream",
       "stream": "stdout",
       "text": [
        "\n",
        "37.6766666667 -92.9916666667 5.13888888889e-05 -3.47222222222e-06\n",
        "http://mesonet.agron.iastate.edu/json/radar?operation=available&lat=37.6766666667&lon=-92.9916666667&start=2012-08-31T23:15Z\n",
        "http://mesonet.agron.iastate.edu/json/radar?operation=list&radar=SGF&product=N0Q&start=2012-08-31T23:15Z&end=2012-08-31T23:25Z"
       ]
      },
      {
       "output_type": "stream",
       "stream": "stdout",
       "text": [
        "\n",
        "2315 RADAR: SGF RADAR TIME: 2317"
       ]
      },
      {
       "output_type": "stream",
       "stream": "stdout",
       "text": [
        "\n",
        "37.6920833333 -92.9927083333 5.13888888889e-05 -3.47222222222e-06\n",
        "http://mesonet.agron.iastate.edu/json/radar?operation=available&lat=37.6920833333&lon=-92.9927083333&start=2012-08-31T23:20Z\n",
        "http://mesonet.agron.iastate.edu/json/radar?operation=list&radar=SGF&product=N0Q&start=2012-08-31T23:20Z&end=2012-08-31T23:30Z"
       ]
      },
      {
       "output_type": "stream",
       "stream": "stdout",
       "text": [
        "\n",
        "2320 RADAR: SGF RADAR TIME: 2321"
       ]
      },
      {
       "output_type": "stream",
       "stream": "stdout",
       "text": [
        "\n",
        "37.7075 -92.99375 5.13888888889e-05 -3.47222222222e-06\n",
        "http://mesonet.agron.iastate.edu/json/radar?operation=available&lat=37.7075&lon=-92.99375&start=2012-08-31T23:25Z\n",
        "http://mesonet.agron.iastate.edu/json/radar?operation=list&radar=SGF&product=N0Q&start=2012-08-31T23:25Z&end=2012-08-31T23:35Z"
       ]
      },
      {
       "output_type": "stream",
       "stream": "stdout",
       "text": [
        "\n",
        "2325 RADAR: SGF RADAR TIME: 2326"
       ]
      },
      {
       "output_type": "stream",
       "stream": "stdout",
       "text": [
        "\n",
        "37.7229166667 -92.9947916667 5.13888888889e-05 -3.47222222222e-06\n",
        "http://mesonet.agron.iastate.edu/json/radar?operation=available&lat=37.7229166667&lon=-92.9947916667&start=2012-08-31T23:30Z\n",
        "http://mesonet.agron.iastate.edu/json/radar?operation=list&radar=SGF&product=N0Q&start=2012-08-31T23:30Z&end=2012-08-31T23:40Z"
       ]
      },
      {
       "output_type": "stream",
       "stream": "stdout",
       "text": [
        "\n",
        "2330 RADAR: SGF RADAR TIME: 2331"
       ]
      },
      {
       "output_type": "stream",
       "stream": "stdout",
       "text": [
        "\n",
        "37.7383333333 -92.9958333333 5.13888888889e-05 -3.47222222222e-06\n",
        "http://mesonet.agron.iastate.edu/json/radar?operation=available&lat=37.7383333333&lon=-92.9958333333&start=2012-08-31T23:35Z\n",
        "http://mesonet.agron.iastate.edu/json/radar?operation=list&radar=SGF&product=N0Q&start=2012-08-31T23:35Z&end=2012-08-31T23:45Z"
       ]
      }
     ],
     "prompt_number": "*"
    },
    {
     "cell_type": "code",
     "collapsed": false,
     "input": [
      "# generate movie using system ffmpeg tool\n",
      "# If this fails, it is not the end of the world\n",
      "subprocess.call(\"ffmpeg -r 4 -i images/%05d.png -b 2000k out.mov\", shell=True)"
     ],
     "language": "python",
     "metadata": {},
     "outputs": [
      {
       "output_type": "pyout",
       "prompt_number": 3,
       "text": [
        "0"
       ]
      }
     ],
     "prompt_number": 3
    },
    {
     "cell_type": "markdown",
     "metadata": {},
     "source": [
      "## And we are done.  Exciting!"
     ]
    }
   ],
   "metadata": {}
  }
 ]
}