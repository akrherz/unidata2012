{
 "metadata": {
  "name": "nexrad_animation"
 },
 "nbformat": 3,
 "nbformat_minor": 0,
 "worksheets": [
  {
   "cells": [
    {
     "cell_type": "markdown",
     "metadata": {},
     "source": [
      "# NEXRAD animation (movie) using IEM Web Image + Metadata Services\n",
      "\n",
      "Python is a very powerful language that makes binding a workflow fun\n",
      "and inituitive.  Generating eye-candy for presentations is often one of\n",
      "the most time consuming components.  Some folks will take 10s or 100s of\n",
      "screen captures and then use an arcaine method to generate a timelapse movie.\n",
      "Have you done this?!?\n",
      "In this example, we will build a timelapse of the 29 June 2012 Derecho.\n",
      "\n",
      "This example also demonstrates how to query a [metadata service](http://mesonet.agron.iastate.edu/GIS/ridge.phtml) emitting JSON\n",
      "and a simple [web service](http://mesonet.agron.iastate.edu/GIS/radmap_api.phtml) generating images. \n",
      "\n",
      "### Knowledge Requirements\n",
      "\n",
      "This example uses Python dictionaries and some object oriented features\n",
      "related to *datetime* objects.  The user should understand some of these, but\n",
      "manually hacking this script is not that hard either.\n",
      "\n",
      "### Python Requirements\n",
      "\n",
      "This example requires python 2.6 and higher for built in JSON support.  We also make\n",
      "use of the [PIL](http://www.pythonware.com/products/pil/) library.  At the end of the \n",
      "script, we combine the individual images into a movie using [ffmpeg](http://ffmpeg.org/).\n",
      "\n",
      "\n",
      "### Goals\n",
      "\n",
      "1. Illustrate an example of intelligent looping over time \n",
      "2. Query an IEM provided web service for metadata and imagery\n",
      "3. Make operating system calls to other applications."
     ]
    },
    {
     "cell_type": "code",
     "collapsed": true,
     "input": [
      "# Python Standard Lib\n",
      "import datetime\n",
      "import subprocess\n",
      "import os\n",
      "import urllib2\n",
      "import json # python2.6 and higher\n",
      "from PIL import Image, ImageDraw, ImageFont\n",
      "\n",
      "# Make sure we have a directory to dump temporary images to...\n",
      "if not os.path.isdir(\"images\"):\n",
      "    os.mkdir(\"images\")\n"
     ],
     "language": "python",
     "metadata": {},
     "outputs": [],
     "prompt_number": 5
    },
    {
     "cell_type": "code",
     "collapsed": false,
     "input": [
      "WSURL = \"http://mesonet.agron.iastate.edu/json/radar?\"\n",
      "RADMAPURL = \"http://mesonet.agron.iastate.edu/GIS/radmap.php?\"\n",
      "# Define waypoints\n",
      "time0 = datetime.datetime(2012,6,29,14,0) # UTC\n",
      "time1 = datetime.datetime(2012,6,30,4,0) # UTC\n",
      "(lon0, lat0) = (-90.70, 42.39) # DBQ\n",
      "(lon1, lat1) = (-77.03, 38.84) # DCA\n",
      "scale0 = 1.8 # units are roughly decimal degrees\n",
      "scale1 = 3.0\n",
      "# Compute dxdt and dydt (in deg/sec)\n",
      "dxdt = (lon1 - lon0) / (time1 - time0).seconds\n",
      "dydt = (lat1 - lat0) / (time1 - time0).seconds \n",
      "dt = 5 * 60  # seconds\n",
      "dscaledt = (scale1 - scale0) / (time1 - time0).seconds"
     ],
     "language": "python",
     "metadata": {},
     "outputs": [],
     "prompt_number": 2
    },
    {
     "cell_type": "code",
     "collapsed": false,
     "input": [
      "# We are ready to loop!\n",
      "start_time = datetime.datetime(2012,6,29,14,0)\n",
      "end_time = datetime.datetime(2012,6,30,6,0)\n",
      "\n",
      "# Compute our start point\n",
      "lat = lat0 + (dydt * (start_time - time0).seconds)\n",
      "lon = lon0 + (dxdt * (start_time - time0).seconds)\n",
      "scale = scale0 + (dscaledt * (start_time - time0).seconds)\n",
      "\n",
      "counter = 0\n",
      "now = start_time\n",
      "while now <= end_time:\n",
      "    lat += (dydt * dt)\n",
      "    lon += (dxdt * dt)\n",
      "    scale += (dscaledt * dt)\n",
      "    # Step 1: Get an *estimate* of NEXRADs available at this location, time \n",
      "    uri = \"%soperation=available&lat=%s&lon=%s&start=%s\" % (WSURL,\n",
      "                        lat, lon, now.strftime(\"%Y-%m-%dT%H:%MZ\"))\n",
      "    res = urllib2.urlopen(uri)\n",
      "    jdict = json.loads( res.read() )\n",
      "    nexrad = None\n",
      "    # Step 2: Assume N0Q is available\n",
      "    # Step 3: Get available scans\n",
      "    jdict2 = {}\n",
      "    jdict2['scans'] = []\n",
      "    while len(jdict2['scans']) == 0:\n",
      "        # Find next NEXRAD\n",
      "        for entry in jdict['radars']:\n",
      "            if entry['type'] == 'NEXRAD':\n",
      "                nexrad = entry['id']\n",
      "                jdict['radars'].remove(entry)\n",
      "                break\n",
      "   \n",
      "        uri = \"%soperation=list&radar=%s&product=N0Q&start=%s&end=%s\" % (WSURL,\n",
      "                        nexrad, now.strftime(\"%Y-%m-%dT%H:%MZ\"),\n",
      "                (now + datetime.timedelta(minutes=10)).strftime(\"%Y-%m-%dT%H:%MZ\")) \n",
      "        res = urllib2.urlopen(uri)\n",
      "        jdict2 = json.loads( res.read() )\n",
      "        \n",
      "    nexrad_valid = datetime.datetime.strptime(jdict2['scans'][0]['ts'] , \"%Y-%m-%dT%H:%MZ\" )\n",
      "    \n",
      "    # We are now ready to call the Radmap API!, we will create one image per Level III product\n",
      "    for prod in ['N0Q', 'N0U']:\n",
      "        uri = \"%s&layers[]=sbw&layers[]=ridge&ridge_product=%s&\" % (RADMAPURL, prod)\n",
      "        uri += \"bbox=%.3f,%.3f,%.3f,%.3f&\" % (lon - scale, lat - scale, lon + scale, lat + scale)\n",
      "        uri += \"ridge_radar=%s&ts=%s&width=360&height=480\" % (nexrad, nexrad_valid.strftime(\"%Y%m%d%H%M\") )\n",
      "        res = urllib2.urlopen( uri )\n",
      "        image = open('images/%05i%s.png' % (counter, prod), 'w')\n",
      "        image.write( res.read() )\n",
      "        image.close()\n",
      "    \n",
      "    # Switch together into one larger image\n",
      "    image = Image.new('RGB', (720,480))\n",
      "    n0q = Image.open('images/%05iN0Q.png' % (counter,))\n",
      "    image.paste(n0q, (0,0))\n",
      "    n0u = Image.open('images/%05iN0U.png' % (counter,))\n",
      "    image.paste(n0u, (362,0))\n",
      "    image.save('images/%05i.png' % (counter,))\n",
      "    del image, n0u, n0q\n",
      "    \n",
      "    print '%s RADAR: %s RADAR TIME: %s' % (now.strftime(\"%H%M\"), nexrad, nexrad_valid.strftime(\"%H%M\"))\n",
      "    counter += 1\n",
      "    now += datetime.timedelta(seconds=dt)"
     ],
     "language": "python",
     "metadata": {},
     "outputs": [
      {
       "output_type": "stream",
       "stream": "stdout",
       "text": [
        "1400 RADAR: DVN RADAR TIME: 1403\n",
        "1405 RADAR: DVN RADAR TIME: 1407"
       ]
      },
      {
       "output_type": "stream",
       "stream": "stdout",
       "text": [
        "\n",
        "1410 RADAR: DVN RADAR TIME: 1412"
       ]
      },
      {
       "output_type": "stream",
       "stream": "stdout",
       "text": [
        "\n",
        "1415 RADAR: DVN RADAR TIME: 1416"
       ]
      },
      {
       "output_type": "stream",
       "stream": "stdout",
       "text": [
        "\n",
        "1420 RADAR: DVN RADAR TIME: 1420"
       ]
      },
      {
       "output_type": "stream",
       "stream": "stdout",
       "text": [
        "\n",
        "1425 RADAR: DVN RADAR TIME: 1425"
       ]
      },
      {
       "output_type": "stream",
       "stream": "stdout",
       "text": [
        "\n",
        "1430 RADAR: DVN RADAR TIME: 1433"
       ]
      },
      {
       "output_type": "stream",
       "stream": "stdout",
       "text": [
        "\n",
        "1435 RADAR: DVN RADAR TIME: 1438"
       ]
      },
      {
       "output_type": "stream",
       "stream": "stdout",
       "text": [
        "\n",
        "1440 RADAR: DVN RADAR TIME: 1442"
       ]
      },
      {
       "output_type": "stream",
       "stream": "stdout",
       "text": [
        "\n",
        "1445 RADAR: DVN RADAR TIME: 1446"
       ]
      },
      {
       "output_type": "stream",
       "stream": "stdout",
       "text": [
        "\n",
        "1450 RADAR: DVN RADAR TIME: 1451"
       ]
      },
      {
       "output_type": "stream",
       "stream": "stdout",
       "text": [
        "\n",
        "1455 RADAR: DVN RADAR TIME: 1455"
       ]
      },
      {
       "output_type": "stream",
       "stream": "stdout",
       "text": [
        "\n",
        "1500 RADAR: DVN RADAR TIME: 1500"
       ]
      },
      {
       "output_type": "stream",
       "stream": "stdout",
       "text": [
        "\n",
        "1505 RADAR: DVN RADAR TIME: 1508"
       ]
      },
      {
       "output_type": "stream",
       "stream": "stdout",
       "text": [
        "\n",
        "1510 RADAR: DVN RADAR TIME: 1513"
       ]
      },
      {
       "output_type": "stream",
       "stream": "stdout",
       "text": [
        "\n",
        "1515 RADAR: MKX RADAR TIME: 1515"
       ]
      },
      {
       "output_type": "stream",
       "stream": "stdout",
       "text": [
        "\n",
        "1520 RADAR: MKX RADAR TIME: 1521"
       ]
      },
      {
       "output_type": "stream",
       "stream": "stdout",
       "text": [
        "\n",
        "1525 RADAR: MKX RADAR TIME: 1526"
       ]
      },
      {
       "output_type": "stream",
       "stream": "stdout",
       "text": [
        "\n",
        "1530 RADAR: LOT RADAR TIME: 1533"
       ]
      },
      {
       "output_type": "stream",
       "stream": "stdout",
       "text": [
        "\n",
        "1535 RADAR: LOT RADAR TIME: 1538"
       ]
      },
      {
       "output_type": "stream",
       "stream": "stdout",
       "text": [
        "\n",
        "1540 RADAR: LOT RADAR TIME: 1543"
       ]
      },
      {
       "output_type": "stream",
       "stream": "stdout",
       "text": [
        "\n",
        "1545 RADAR: LOT RADAR TIME: 1547"
       ]
      },
      {
       "output_type": "stream",
       "stream": "stdout",
       "text": [
        "\n",
        "1550 RADAR: LOT RADAR TIME: 1552"
       ]
      },
      {
       "output_type": "stream",
       "stream": "stdout",
       "text": [
        "\n",
        "1555 RADAR: LOT RADAR TIME: 1556"
       ]
      },
      {
       "output_type": "stream",
       "stream": "stdout",
       "text": [
        "\n",
        "1600 RADAR: LOT RADAR TIME: 1601"
       ]
      },
      {
       "output_type": "stream",
       "stream": "stdout",
       "text": [
        "\n",
        "1605 RADAR: LOT RADAR TIME: 1605"
       ]
      },
      {
       "output_type": "stream",
       "stream": "stdout",
       "text": [
        "\n",
        "1610 RADAR: LOT RADAR TIME: 1610"
       ]
      },
      {
       "output_type": "stream",
       "stream": "stdout",
       "text": [
        "\n",
        "1615 RADAR: LOT RADAR TIME: 1615"
       ]
      },
      {
       "output_type": "stream",
       "stream": "stdout",
       "text": [
        "\n",
        "1620 RADAR: LOT RADAR TIME: 1624"
       ]
      },
      {
       "output_type": "stream",
       "stream": "stdout",
       "text": [
        "\n",
        "1625 RADAR: LOT RADAR TIME: 1629"
       ]
      },
      {
       "output_type": "stream",
       "stream": "stdout",
       "text": [
        "\n",
        "1630 RADAR: LOT RADAR TIME: 1633"
       ]
      },
      {
       "output_type": "stream",
       "stream": "stdout",
       "text": [
        "\n",
        "1635 RADAR: LOT RADAR TIME: 1638"
       ]
      },
      {
       "output_type": "stream",
       "stream": "stdout",
       "text": [
        "\n",
        "1640 RADAR: LOT RADAR TIME: 1643"
       ]
      },
      {
       "output_type": "stream",
       "stream": "stdout",
       "text": [
        "\n",
        "1645 RADAR: LOT RADAR TIME: 1647"
       ]
      },
      {
       "output_type": "stream",
       "stream": "stdout",
       "text": [
        "\n",
        "1650 RADAR: LOT RADAR TIME: 1652"
       ]
      },
      {
       "output_type": "stream",
       "stream": "stdout",
       "text": [
        "\n",
        "1655 RADAR: LOT RADAR TIME: 1657"
       ]
      },
      {
       "output_type": "stream",
       "stream": "stdout",
       "text": [
        "\n",
        "1700 RADAR: LOT RADAR TIME: 1701"
       ]
      },
      {
       "output_type": "stream",
       "stream": "stdout",
       "text": [
        "\n",
        "1705 RADAR: LOT RADAR TIME: 1706"
       ]
      },
      {
       "output_type": "stream",
       "stream": "stdout",
       "text": [
        "\n",
        "1710 RADAR: LOT RADAR TIME: 1711"
       ]
      },
      {
       "output_type": "stream",
       "stream": "stdout",
       "text": [
        "\n",
        "1715 RADAR: LOT RADAR TIME: 1715"
       ]
      },
      {
       "output_type": "stream",
       "stream": "stdout",
       "text": [
        "\n",
        "1720 RADAR: LOT RADAR TIME: 1720"
       ]
      },
      {
       "output_type": "stream",
       "stream": "stdout",
       "text": [
        "\n",
        "1725 RADAR: LOT RADAR TIME: 1725"
       ]
      },
      {
       "output_type": "stream",
       "stream": "stdout",
       "text": [
        "\n",
        "1730 RADAR: LOT RADAR TIME: 1734"
       ]
      },
      {
       "output_type": "stream",
       "stream": "stdout",
       "text": [
        "\n",
        "1735 RADAR: LOT RADAR TIME: 1739"
       ]
      },
      {
       "output_type": "stream",
       "stream": "stdout",
       "text": [
        "\n",
        "1740 RADAR: LOT RADAR TIME: 1743"
       ]
      },
      {
       "output_type": "stream",
       "stream": "stdout",
       "text": [
        "\n",
        "1745 RADAR: LOT RADAR TIME: 1748"
       ]
      },
      {
       "output_type": "stream",
       "stream": "stdout",
       "text": [
        "\n",
        "1750 RADAR: IWX RADAR TIME: 1750"
       ]
      },
      {
       "output_type": "stream",
       "stream": "stdout",
       "text": [
        "\n",
        "1755 RADAR: IWX RADAR TIME: 1759"
       ]
      },
      {
       "output_type": "stream",
       "stream": "stdout",
       "text": [
        "\n",
        "1800 RADAR: IWX RADAR TIME: 1804"
       ]
      },
      {
       "output_type": "stream",
       "stream": "stdout",
       "text": [
        "\n",
        "1805 RADAR: IWX RADAR TIME: 1808"
       ]
      },
      {
       "output_type": "stream",
       "stream": "stdout",
       "text": [
        "\n",
        "1810 RADAR: IWX RADAR TIME: 1813"
       ]
      },
      {
       "output_type": "stream",
       "stream": "stdout",
       "text": [
        "\n",
        "1815 RADAR: IWX RADAR TIME: 1818"
       ]
      },
      {
       "output_type": "stream",
       "stream": "stdout",
       "text": [
        "\n",
        "1820 RADAR: IWX RADAR TIME: 1822"
       ]
      },
      {
       "output_type": "stream",
       "stream": "stdout",
       "text": [
        "\n",
        "1825 RADAR: IWX RADAR TIME: 1827"
       ]
      },
      {
       "output_type": "stream",
       "stream": "stdout",
       "text": [
        "\n",
        "1830 RADAR: IWX RADAR TIME: 1831"
       ]
      },
      {
       "output_type": "stream",
       "stream": "stdout",
       "text": [
        "\n",
        "1835 RADAR: IWX RADAR TIME: 1836"
       ]
      },
      {
       "output_type": "stream",
       "stream": "stdout",
       "text": [
        "\n",
        "1840 RADAR: IWX RADAR TIME: 1841"
       ]
      },
      {
       "output_type": "stream",
       "stream": "stdout",
       "text": [
        "\n",
        "1845 RADAR: IWX RADAR TIME: 1845"
       ]
      },
      {
       "output_type": "stream",
       "stream": "stdout",
       "text": [
        "\n",
        "1850 RADAR: IWX RADAR TIME: 1850"
       ]
      },
      {
       "output_type": "stream",
       "stream": "stdout",
       "text": [
        "\n",
        "1855 RADAR: IWX RADAR TIME: 1859"
       ]
      },
      {
       "output_type": "stream",
       "stream": "stdout",
       "text": [
        "\n",
        "1900 RADAR: IWX RADAR TIME: 1904"
       ]
      },
      {
       "output_type": "stream",
       "stream": "stdout",
       "text": [
        "\n",
        "1905 RADAR: IWX RADAR TIME: 1908"
       ]
      },
      {
       "output_type": "stream",
       "stream": "stdout",
       "text": [
        "\n",
        "1910 RADAR: IWX RADAR TIME: 1913"
       ]
      },
      {
       "output_type": "stream",
       "stream": "stdout",
       "text": [
        "\n",
        "1915 RADAR: IWX RADAR TIME: 1918"
       ]
      },
      {
       "output_type": "stream",
       "stream": "stdout",
       "text": [
        "\n",
        "1920 RADAR: IWX RADAR TIME: 1922"
       ]
      },
      {
       "output_type": "stream",
       "stream": "stdout",
       "text": [
        "\n",
        "1925 RADAR: IWX RADAR TIME: 1927"
       ]
      },
      {
       "output_type": "stream",
       "stream": "stdout",
       "text": [
        "\n",
        "1930 RADAR: IWX RADAR TIME: 1931"
       ]
      },
      {
       "output_type": "stream",
       "stream": "stdout",
       "text": [
        "\n",
        "1935 RADAR: IWX RADAR TIME: 1936"
       ]
      },
      {
       "output_type": "stream",
       "stream": "stdout",
       "text": [
        "\n",
        "1940 RADAR: IWX RADAR TIME: 1941"
       ]
      },
      {
       "output_type": "stream",
       "stream": "stdout",
       "text": [
        "\n",
        "1945 RADAR: IWX RADAR TIME: 1945"
       ]
      },
      {
       "output_type": "stream",
       "stream": "stdout",
       "text": [
        "\n",
        "1950 RADAR: IWX RADAR TIME: 1950"
       ]
      },
      {
       "output_type": "stream",
       "stream": "stdout",
       "text": [
        "\n",
        "1955 RADAR: IWX RADAR TIME: 1959"
       ]
      },
      {
       "output_type": "stream",
       "stream": "stdout",
       "text": [
        "\n",
        "2000 RADAR: IWX RADAR TIME: 2004"
       ]
      },
      {
       "output_type": "stream",
       "stream": "stdout",
       "text": [
        "\n",
        "2005 RADAR: IWX RADAR TIME: 2008"
       ]
      },
      {
       "output_type": "stream",
       "stream": "stdout",
       "text": [
        "\n",
        "2010 RADAR: IWX RADAR TIME: 2013"
       ]
      },
      {
       "output_type": "stream",
       "stream": "stdout",
       "text": [
        "\n",
        "2015 RADAR: IWX RADAR TIME: 2018"
       ]
      },
      {
       "output_type": "stream",
       "stream": "stdout",
       "text": [
        "\n",
        "2020 RADAR: IWX RADAR TIME: 2022"
       ]
      },
      {
       "output_type": "stream",
       "stream": "stdout",
       "text": [
        "\n",
        "2025 RADAR: ILN RADAR TIME: 2027"
       ]
      },
      {
       "output_type": "stream",
       "stream": "stdout",
       "text": [
        "\n",
        "2030 RADAR: ILN RADAR TIME: 2032"
       ]
      },
      {
       "output_type": "stream",
       "stream": "stdout",
       "text": [
        "\n",
        "2035 RADAR: ILN RADAR TIME: 2036"
       ]
      },
      {
       "output_type": "stream",
       "stream": "stdout",
       "text": [
        "\n",
        "2040 RADAR: ILN RADAR TIME: 2040"
       ]
      },
      {
       "output_type": "stream",
       "stream": "stdout",
       "text": [
        "\n",
        "2045 RADAR: ILN RADAR TIME: 2045"
       ]
      },
      {
       "output_type": "stream",
       "stream": "stdout",
       "text": [
        "\n",
        "2050 RADAR: ILN RADAR TIME: 2050"
       ]
      },
      {
       "output_type": "stream",
       "stream": "stdout",
       "text": [
        "\n",
        "2055 RADAR: ILN RADAR TIME: 2059"
       ]
      },
      {
       "output_type": "stream",
       "stream": "stdout",
       "text": [
        "\n",
        "2100 RADAR: ILN RADAR TIME: 2103"
       ]
      },
      {
       "output_type": "stream",
       "stream": "stdout",
       "text": [
        "\n",
        "2105 RADAR: ILN RADAR TIME: 2108"
       ]
      },
      {
       "output_type": "stream",
       "stream": "stdout",
       "text": [
        "\n",
        "2110 RADAR: ILN RADAR TIME: 2113"
       ]
      },
      {
       "output_type": "stream",
       "stream": "stdout",
       "text": [
        "\n",
        "2115 RADAR: ILN RADAR TIME: 2117"
       ]
      },
      {
       "output_type": "stream",
       "stream": "stdout",
       "text": [
        "\n",
        "2120 RADAR: ILN RADAR TIME: 2122"
       ]
      },
      {
       "output_type": "stream",
       "stream": "stdout",
       "text": [
        "\n",
        "2125 RADAR: ILN RADAR TIME: 2126"
       ]
      },
      {
       "output_type": "stream",
       "stream": "stdout",
       "text": [
        "\n",
        "2130 RADAR: ILN RADAR TIME: 2131"
       ]
      },
      {
       "output_type": "stream",
       "stream": "stdout",
       "text": [
        "\n",
        "2135 RADAR: ILN RADAR TIME: 2136"
       ]
      },
      {
       "output_type": "stream",
       "stream": "stdout",
       "text": [
        "\n",
        "2140 RADAR: ILN RADAR TIME: 2140"
       ]
      },
      {
       "output_type": "stream",
       "stream": "stdout",
       "text": [
        "\n",
        "2145 RADAR: ILN RADAR TIME: 2145"
       ]
      },
      {
       "output_type": "stream",
       "stream": "stdout",
       "text": [
        "\n",
        "2150 RADAR: ILN RADAR TIME: 2154"
       ]
      },
      {
       "output_type": "stream",
       "stream": "stdout",
       "text": [
        "\n",
        "2155 RADAR: ILN RADAR TIME: 2159"
       ]
      },
      {
       "output_type": "stream",
       "stream": "stdout",
       "text": [
        "\n",
        "2200 RADAR: ILN RADAR TIME: 2203"
       ]
      },
      {
       "output_type": "stream",
       "stream": "stdout",
       "text": [
        "\n",
        "2205 RADAR: CLE RADAR TIME: 2205"
       ]
      },
      {
       "output_type": "stream",
       "stream": "stdout",
       "text": [
        "\n",
        "2210 RADAR: CLE RADAR TIME: 2214"
       ]
      },
      {
       "output_type": "stream",
       "stream": "stdout",
       "text": [
        "\n",
        "2215 RADAR: CLE RADAR TIME: 2218"
       ]
      },
      {
       "output_type": "stream",
       "stream": "stdout",
       "text": [
        "\n",
        "2220 RADAR: CLE RADAR TIME: 2223"
       ]
      },
      {
       "output_type": "stream",
       "stream": "stdout",
       "text": [
        "\n",
        "2225 RADAR: CLE RADAR TIME: 2227"
       ]
      },
      {
       "output_type": "stream",
       "stream": "stdout",
       "text": [
        "\n",
        "2230 RADAR: CLE RADAR TIME: 2232"
       ]
      },
      {
       "output_type": "stream",
       "stream": "stdout",
       "text": [
        "\n",
        "2235 RADAR: CLE RADAR TIME: 2236"
       ]
      },
      {
       "output_type": "stream",
       "stream": "stdout",
       "text": [
        "\n",
        "2240 RADAR: CLE RADAR TIME: 2240"
       ]
      },
      {
       "output_type": "stream",
       "stream": "stdout",
       "text": [
        "\n",
        "2245 RADAR: CLE RADAR TIME: 2245"
       ]
      },
      {
       "output_type": "stream",
       "stream": "stdout",
       "text": [
        "\n",
        "2250 RADAR: CLE RADAR TIME: 2254"
       ]
      },
      {
       "output_type": "stream",
       "stream": "stdout",
       "text": [
        "\n",
        "2255 RADAR: CLE RADAR TIME: 2258"
       ]
      },
      {
       "output_type": "stream",
       "stream": "stdout",
       "text": [
        "\n",
        "2300 RADAR: CLE RADAR TIME: 2303"
       ]
      },
      {
       "output_type": "stream",
       "stream": "stdout",
       "text": [
        "\n",
        "2305 RADAR: CLE RADAR TIME: 2307"
       ]
      },
      {
       "output_type": "stream",
       "stream": "stdout",
       "text": [
        "\n",
        "2310 RADAR: CLE RADAR TIME: 2312"
       ]
      },
      {
       "output_type": "stream",
       "stream": "stdout",
       "text": [
        "\n",
        "2315 RADAR: CLE RADAR TIME: 2316"
       ]
      },
      {
       "output_type": "stream",
       "stream": "stdout",
       "text": [
        "\n",
        "2320 RADAR: PBZ RADAR TIME: 2321"
       ]
      },
      {
       "output_type": "stream",
       "stream": "stdout",
       "text": [
        "\n",
        "2325 RADAR: PBZ RADAR TIME: 2325"
       ]
      },
      {
       "output_type": "stream",
       "stream": "stdout",
       "text": [
        "\n",
        "2330 RADAR: PBZ RADAR TIME: 2334"
       ]
      },
      {
       "output_type": "stream",
       "stream": "stdout",
       "text": [
        "\n",
        "2335 RADAR: PBZ RADAR TIME: 2338"
       ]
      },
      {
       "output_type": "stream",
       "stream": "stdout",
       "text": [
        "\n",
        "2340 RADAR: PBZ RADAR TIME: 2342"
       ]
      },
      {
       "output_type": "stream",
       "stream": "stdout",
       "text": [
        "\n",
        "2345 RADAR: PBZ RADAR TIME: 2347"
       ]
      },
      {
       "output_type": "stream",
       "stream": "stdout",
       "text": [
        "\n",
        "2350 RADAR: PBZ RADAR TIME: 2351"
       ]
      },
      {
       "output_type": "stream",
       "stream": "stdout",
       "text": [
        "\n",
        "2355 RADAR: PBZ RADAR TIME: 2355"
       ]
      },
      {
       "output_type": "stream",
       "stream": "stdout",
       "text": [
        "\n",
        "0000 RADAR: PBZ RADAR TIME: 0004"
       ]
      },
      {
       "output_type": "stream",
       "stream": "stdout",
       "text": [
        "\n",
        "0005 RADAR: PBZ RADAR TIME: 0008"
       ]
      },
      {
       "output_type": "stream",
       "stream": "stdout",
       "text": [
        "\n",
        "0010 RADAR: PBZ RADAR TIME: 0012"
       ]
      },
      {
       "output_type": "stream",
       "stream": "stdout",
       "text": [
        "\n",
        "0015 RADAR: PBZ RADAR TIME: 0017"
       ]
      },
      {
       "output_type": "stream",
       "stream": "stdout",
       "text": [
        "\n",
        "0020 RADAR: PBZ RADAR TIME: 0021"
       ]
      },
      {
       "output_type": "stream",
       "stream": "stdout",
       "text": [
        "\n",
        "0025 RADAR: PBZ RADAR TIME: 0025"
       ]
      },
      {
       "output_type": "stream",
       "stream": "stdout",
       "text": [
        "\n",
        "0030 RADAR: PBZ RADAR TIME: 0030"
       ]
      },
      {
       "output_type": "stream",
       "stream": "stdout",
       "text": [
        "\n",
        "0035 RADAR: PBZ RADAR TIME: 0038"
       ]
      },
      {
       "output_type": "stream",
       "stream": "stdout",
       "text": [
        "\n",
        "0040 RADAR: PBZ RADAR TIME: 0042"
       ]
      },
      {
       "output_type": "stream",
       "stream": "stdout",
       "text": [
        "\n",
        "0045 RADAR: PBZ RADAR TIME: 0047"
       ]
      },
      {
       "output_type": "stream",
       "stream": "stdout",
       "text": [
        "\n",
        "0050 RADAR: PBZ RADAR TIME: 0051"
       ]
      },
      {
       "output_type": "stream",
       "stream": "stdout",
       "text": [
        "\n",
        "0055 RADAR: PBZ RADAR TIME: 0055"
       ]
      },
      {
       "output_type": "stream",
       "stream": "stdout",
       "text": [
        "\n",
        "0100 RADAR: PBZ RADAR TIME: 0100"
       ]
      },
      {
       "output_type": "stream",
       "stream": "stdout",
       "text": [
        "\n",
        "0105 RADAR: PBZ RADAR TIME: 0108"
       ]
      },
      {
       "output_type": "stream",
       "stream": "stdout",
       "text": [
        "\n",
        "0110 RADAR: PBZ RADAR TIME: 0112"
       ]
      },
      {
       "output_type": "stream",
       "stream": "stdout",
       "text": [
        "\n",
        "0115 RADAR: PBZ RADAR TIME: 0117"
       ]
      },
      {
       "output_type": "stream",
       "stream": "stdout",
       "text": [
        "\n",
        "0120 RADAR: PBZ RADAR TIME: 0121"
       ]
      },
      {
       "output_type": "stream",
       "stream": "stdout",
       "text": [
        "\n",
        "0125 RADAR: PBZ RADAR TIME: 0125"
       ]
      },
      {
       "output_type": "stream",
       "stream": "stdout",
       "text": [
        "\n",
        "0130 RADAR: PBZ RADAR TIME: 0130"
       ]
      },
      {
       "output_type": "stream",
       "stream": "stdout",
       "text": [
        "\n",
        "0135 RADAR: PBZ RADAR TIME: 0138"
       ]
      },
      {
       "output_type": "stream",
       "stream": "stdout",
       "text": [
        "\n",
        "0140 RADAR: PBZ RADAR TIME: 0142"
       ]
      },
      {
       "output_type": "stream",
       "stream": "stdout",
       "text": [
        "\n",
        "0145 RADAR: PBZ RADAR TIME: 0147"
       ]
      },
      {
       "output_type": "stream",
       "stream": "stdout",
       "text": [
        "\n",
        "0150 RADAR: PBZ RADAR TIME: 0151"
       ]
      },
      {
       "output_type": "stream",
       "stream": "stdout",
       "text": [
        "\n",
        "0155 RADAR: LWX RADAR TIME: 0156"
       ]
      },
      {
       "output_type": "stream",
       "stream": "stdout",
       "text": [
        "\n",
        "0200 RADAR: LWX RADAR TIME: 0201"
       ]
      },
      {
       "output_type": "stream",
       "stream": "stdout",
       "text": [
        "\n",
        "0205 RADAR: LWX RADAR TIME: 0205"
       ]
      },
      {
       "output_type": "stream",
       "stream": "stdout",
       "text": [
        "\n",
        "0210 RADAR: LWX RADAR TIME: 0214"
       ]
      },
      {
       "output_type": "stream",
       "stream": "stdout",
       "text": [
        "\n",
        "0215 RADAR: LWX RADAR TIME: 0218"
       ]
      },
      {
       "output_type": "stream",
       "stream": "stdout",
       "text": [
        "\n",
        "0220 RADAR: LWX RADAR TIME: 0222"
       ]
      },
      {
       "output_type": "stream",
       "stream": "stdout",
       "text": [
        "\n",
        "0225 RADAR: LWX RADAR TIME: 0226"
       ]
      },
      {
       "output_type": "stream",
       "stream": "stdout",
       "text": [
        "\n",
        "0230 RADAR: LWX RADAR TIME: 0231"
       ]
      },
      {
       "output_type": "stream",
       "stream": "stdout",
       "text": [
        "\n",
        "0235 RADAR: LWX RADAR TIME: 0235"
       ]
      },
      {
       "output_type": "stream",
       "stream": "stdout",
       "text": [
        "\n",
        "0240 RADAR: LWX RADAR TIME: 0243"
       ]
      },
      {
       "output_type": "stream",
       "stream": "stdout",
       "text": [
        "\n",
        "0245 RADAR: LWX RADAR TIME: 0248"
       ]
      },
      {
       "output_type": "stream",
       "stream": "stdout",
       "text": [
        "\n",
        "0250 RADAR: LWX RADAR TIME: 0252"
       ]
      },
      {
       "output_type": "stream",
       "stream": "stdout",
       "text": [
        "\n",
        "0255 RADAR: LWX RADAR TIME: 0256"
       ]
      },
      {
       "output_type": "stream",
       "stream": "stdout",
       "text": [
        "\n",
        "0300 RADAR: LWX RADAR TIME: 0301"
       ]
      },
      {
       "output_type": "stream",
       "stream": "stdout",
       "text": [
        "\n",
        "0305 RADAR: LWX RADAR TIME: 0305"
       ]
      },
      {
       "output_type": "stream",
       "stream": "stdout",
       "text": [
        "\n",
        "0310 RADAR: LWX RADAR TIME: 0313"
       ]
      },
      {
       "output_type": "stream",
       "stream": "stdout",
       "text": [
        "\n",
        "0315 RADAR: LWX RADAR TIME: 0318"
       ]
      },
      {
       "output_type": "stream",
       "stream": "stdout",
       "text": [
        "\n",
        "0320 RADAR: LWX RADAR TIME: 0322"
       ]
      },
      {
       "output_type": "stream",
       "stream": "stdout",
       "text": [
        "\n",
        "0325 RADAR: LWX RADAR TIME: 0326"
       ]
      },
      {
       "output_type": "stream",
       "stream": "stdout",
       "text": [
        "\n",
        "0330 RADAR: LWX RADAR TIME: 0330"
       ]
      },
      {
       "output_type": "stream",
       "stream": "stdout",
       "text": [
        "\n",
        "0335 RADAR: LWX RADAR TIME: 0335"
       ]
      },
      {
       "output_type": "stream",
       "stream": "stdout",
       "text": [
        "\n",
        "0340 RADAR: LWX RADAR TIME: 0343"
       ]
      },
      {
       "output_type": "stream",
       "stream": "stdout",
       "text": [
        "\n",
        "0345 RADAR: LWX RADAR TIME: 0348"
       ]
      },
      {
       "output_type": "stream",
       "stream": "stdout",
       "text": [
        "\n",
        "0350 RADAR: LWX RADAR TIME: 0352"
       ]
      },
      {
       "output_type": "stream",
       "stream": "stdout",
       "text": [
        "\n",
        "0355 RADAR: LWX RADAR TIME: 0356"
       ]
      },
      {
       "output_type": "stream",
       "stream": "stdout",
       "text": [
        "\n",
        "0400 RADAR: LWX RADAR TIME: 0400"
       ]
      },
      {
       "output_type": "stream",
       "stream": "stdout",
       "text": [
        "\n",
        "0405 RADAR: LWX RADAR TIME: 0405"
       ]
      },
      {
       "output_type": "stream",
       "stream": "stdout",
       "text": [
        "\n",
        "0410 RADAR: LWX RADAR TIME: 0413"
       ]
      },
      {
       "output_type": "stream",
       "stream": "stdout",
       "text": [
        "\n",
        "0415 RADAR: LWX RADAR TIME: 0418"
       ]
      },
      {
       "output_type": "stream",
       "stream": "stdout",
       "text": [
        "\n",
        "0420 RADAR: LWX RADAR TIME: 0422"
       ]
      },
      {
       "output_type": "stream",
       "stream": "stdout",
       "text": [
        "\n",
        "0425 RADAR: LWX RADAR TIME: 0426"
       ]
      },
      {
       "output_type": "stream",
       "stream": "stdout",
       "text": [
        "\n",
        "0430 RADAR: DOX RADAR TIME: 0431"
       ]
      },
      {
       "output_type": "stream",
       "stream": "stdout",
       "text": [
        "\n",
        "0435 RADAR: DOX RADAR TIME: 0436"
       ]
      },
      {
       "output_type": "stream",
       "stream": "stdout",
       "text": [
        "\n",
        "0440 RADAR: DOX RADAR TIME: 0440"
       ]
      },
      {
       "output_type": "stream",
       "stream": "stdout",
       "text": [
        "\n",
        "0445 RADAR: DOX RADAR TIME: 0449"
       ]
      },
      {
       "output_type": "stream",
       "stream": "stdout",
       "text": [
        "\n",
        "0450 RADAR: DOX RADAR TIME: 0453"
       ]
      },
      {
       "output_type": "stream",
       "stream": "stdout",
       "text": [
        "\n",
        "0455 RADAR: DOX RADAR TIME: 0457"
       ]
      },
      {
       "output_type": "stream",
       "stream": "stdout",
       "text": [
        "\n",
        "0500 RADAR: DOX RADAR TIME: 0501"
       ]
      },
      {
       "output_type": "stream",
       "stream": "stdout",
       "text": [
        "\n",
        "0505 RADAR: DOX RADAR TIME: 0506"
       ]
      },
      {
       "output_type": "stream",
       "stream": "stdout",
       "text": [
        "\n",
        "0510 RADAR: DOX RADAR TIME: 0510"
       ]
      },
      {
       "output_type": "stream",
       "stream": "stdout",
       "text": [
        "\n",
        "0515 RADAR: DOX RADAR TIME: 0519"
       ]
      },
      {
       "output_type": "stream",
       "stream": "stdout",
       "text": [
        "\n",
        "0520 RADAR: DOX RADAR TIME: 0523"
       ]
      },
      {
       "output_type": "stream",
       "stream": "stdout",
       "text": [
        "\n",
        "0525 RADAR: DOX RADAR TIME: 0527"
       ]
      },
      {
       "output_type": "stream",
       "stream": "stdout",
       "text": [
        "\n",
        "0530 RADAR: DOX RADAR TIME: 0532"
       ]
      },
      {
       "output_type": "stream",
       "stream": "stdout",
       "text": [
        "\n",
        "0535 RADAR: DOX RADAR TIME: 0536"
       ]
      },
      {
       "output_type": "stream",
       "stream": "stdout",
       "text": [
        "\n",
        "0540 RADAR: DOX RADAR TIME: 0540"
       ]
      },
      {
       "output_type": "stream",
       "stream": "stdout",
       "text": [
        "\n",
        "0545 RADAR: DOX RADAR TIME: 0549"
       ]
      },
      {
       "output_type": "stream",
       "stream": "stdout",
       "text": [
        "\n",
        "0550 RADAR: DOX RADAR TIME: 0553"
       ]
      },
      {
       "output_type": "stream",
       "stream": "stdout",
       "text": [
        "\n",
        "0555 RADAR: DOX RADAR TIME: 0557"
       ]
      },
      {
       "output_type": "stream",
       "stream": "stdout",
       "text": [
        "\n",
        "0600 RADAR: DOX RADAR TIME: 0602"
       ]
      },
      {
       "output_type": "stream",
       "stream": "stdout",
       "text": [
        "\n"
       ]
      }
     ],
     "prompt_number": 3
    },
    {
     "cell_type": "code",
     "collapsed": false,
     "input": [
      "os.chdir(\"images\")\n",
      "subprocess.call(\"ffmpeg -r 4 -i %05d.png -b 2000k out.mov\", shell=True)"
     ],
     "language": "python",
     "metadata": {},
     "outputs": []
    },
    {
     "cell_type": "markdown",
     "metadata": {},
     "source": [
      "## And we are done.  Exciting!"
     ]
    }
   ],
   "metadata": {}
  }
 ]
}