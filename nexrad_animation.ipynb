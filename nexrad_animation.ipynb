{
 "metadata": {
  "name": "nexrad_animation"
 },
 "nbformat": 3,
 "nbformat_minor": 0,
 "worksheets": [
  {
   "cells": [
    {
     "cell_type": "markdown",
     "metadata": {},
     "source": [
      "# NEXRAD animation (movie) using IEM Web Image + Metadata Services\n",
      "\n",
      "Python is a very powerful language that makes binding a workflow fun\n",
      "and inituitive.  Generating eye-candy for presentations is often one of\n",
      "the most time consuming components.  Some folks will take 10s or 100s of\n",
      "screen captures and then use an arcaine method to generate a timelapse movie.\n",
      "In this example, we will build a timelapse of the 29 June 2012 Derecho.\n",
      "\n",
      "### Knowledge Requirements\n",
      "\n",
      "This example uses Python dictionaries and some object oriented features\n",
      "related to `datetime` objects.  The user should understand some of these, but\n",
      "manually hacking this script is not that hard either.\n",
      "\n",
      "### Python Requirements\n",
      "\n",
      "This example requires python 2.6 and higher, but nothing else!\n",
      "\n",
      "### Goals\n",
      "\n",
      "1. Illustrate an example of intelligent looping over time \n",
      "2. Query an IEM provided web service for metadata and imagery\n",
      "3. Make operating system calls to other applications."
     ]
    },
    {
     "cell_type": "code",
     "collapsed": true,
     "input": [
      "# Python Standard Lib\n",
      "import datetime\n",
      "import urllib2\n",
      "import json # python2.6 and higher\n"
     ],
     "language": "python",
     "metadata": {},
     "outputs": [],
     "prompt_number": 15
    },
    {
     "cell_type": "code",
     "collapsed": false,
     "input": [
      "WSURL = \"http://mesonet.agron.iastate.edu/json/radar?\"\n",
      "RADMAPURL = \"http://mesonet.agron.iastate.edu/GIS/radmap.php?\"\n",
      "# Define some settings for the loop path\n",
      "start_time = datetime.datetime(2012,6,29,14,0) # UTC\n",
      "end_time = datetime.datetime(2012,6,30,4,0) # UTC\n",
      "(start_lon, start_lat) = (-90.57, 41.60) # Davenport, IA\n",
      "(end_lon, end_lat) = (-77.32, 37.51) # Richmond, VA\n",
      "# Compute dxdt and dydt (in deg/sec)\n",
      "dxdt = (end_lon - start_lon) / (end_time - start_time).seconds\n",
      "dydt = (end_lat - start_lat) / (end_time - start_time).seconds \n",
      "dt = 5 * 60  # seconds"
     ],
     "language": "python",
     "metadata": {},
     "outputs": [],
     "prompt_number": 21
    },
    {
     "cell_type": "code",
     "collapsed": false,
     "input": [
      "# We are ready to loop!\n",
      "now = start_time\n",
      "lat = start_lat\n",
      "lon = start_lon\n",
      "counter = 0\n",
      "end_time = datetime.datetime(2012,6,30,6,0)\n",
      "while now <= end_time:\n",
      "    lat += (dydt * dt)\n",
      "    lon += (dxdt * dt)\n",
      "    # Step 1: Get an *estimate* of NEXRADs available at this location, time \n",
      "    uri = \"%soperation=available&lat=%s&lon=%s&start=%s\" % (WSURL,\n",
      "                        lat, lon, now.strftime(\"%Y-%m-%dT%H:%MZ\"))\n",
      "    res = urllib2.urlopen(uri)\n",
      "    jdict = json.loads( res.read() )\n",
      "    nexrad = None\n",
      "    # Step 2: Assume N0Q is available\n",
      "    # Step 3: Get available scans\n",
      "    jdict2 = {}\n",
      "    jdict2['scans'] = []\n",
      "    while len(jdict2['scans']) == 0:\n",
      "        # Find next NEXRAD\n",
      "        for entry in jdict['radars']:\n",
      "            if entry['type'] == 'NEXRAD':\n",
      "                nexrad = entry['id']\n",
      "                jdict['radars'].remove(entry)\n",
      "                break\n",
      "   \n",
      "        uri = \"%soperation=list&radar=%s&product=N0Q&start=%s&end=%s\" % (WSURL,\n",
      "                        nexrad, now.strftime(\"%Y-%m-%dT%H:%MZ\"),\n",
      "                (now + datetime.timedelta(minutes=10)).strftime(\"%Y-%m-%dT%H:%MZ\")) \n",
      "        res = urllib2.urlopen(uri)\n",
      "        jdict2 = json.loads( res.read() )\n",
      "        \n",
      "    nexrad_valid = datetime.datetime.strptime(jdict2['scans'][0]['ts'] , \"%Y-%m-%dT%H:%MZ\" )\n",
      "    \n",
      "    # We are now ready to call the Radmap API!\n",
      "    uri = \"%s&layers[]=sbw&layers[]=ridge&ridge_product=N0Q\" % (RADMAPURL,)\n",
      "    uri += \"bbox=%.3f,%.3f,%.3f,%.3f&\" % (lon - 2.2, lat - 2.2, lon + 2.2, lat + 2.2)\n",
      "    uri += \"ridge_radar=%s&ts=%s\" % (nexrad, nexrad_valid.strftime(\"%Y%m%d%H%M\") )\n",
      "    res = urllib2.urlopen( uri )\n",
      "    image = open('images/%05i.png' % (counter,), 'w')\n",
      "    image.write( res.read() )\n",
      "    image.close()\n",
      "    \n",
      "    print '%s RADAR: %s RADAR TIME: %s' % (now.strftime(\"%H%M\"), nexrad, nexrad_valid.strftime(\"%H%M\"))\n",
      "    counter += 1\n",
      "    now += datetime.timedelta(seconds=dt)"
     ],
     "language": "python",
     "metadata": {},
     "outputs": [
      {
       "output_type": "stream",
       "stream": "stdout",
       "text": [
        "1400 RADAR: DVN RADAR TIME: 1403\n",
        "1405 RADAR: DVN RADAR TIME: 1407"
       ]
      },
      {
       "output_type": "stream",
       "stream": "stdout",
       "text": [
        "\n",
        "1410 RADAR: DVN RADAR TIME: 1412"
       ]
      },
      {
       "output_type": "stream",
       "stream": "stdout",
       "text": [
        "\n",
        "1415 RADAR: DVN RADAR TIME: 1416"
       ]
      },
      {
       "output_type": "stream",
       "stream": "stdout",
       "text": [
        "\n",
        "1420 RADAR: DVN RADAR TIME: 1420"
       ]
      },
      {
       "output_type": "stream",
       "stream": "stdout",
       "text": [
        "\n",
        "1425 RADAR: DVN RADAR TIME: 1425"
       ]
      },
      {
       "output_type": "stream",
       "stream": "stdout",
       "text": [
        "\n",
        "1430 RADAR: DVN RADAR TIME: 1433"
       ]
      },
      {
       "output_type": "stream",
       "stream": "stdout",
       "text": [
        "\n",
        "1435 RADAR: DVN RADAR TIME: 1438"
       ]
      },
      {
       "output_type": "stream",
       "stream": "stdout",
       "text": [
        "\n",
        "1440 RADAR: DVN RADAR TIME: 1442"
       ]
      },
      {
       "output_type": "stream",
       "stream": "stdout",
       "text": [
        "\n",
        "1445 RADAR: DVN RADAR TIME: 1446"
       ]
      },
      {
       "output_type": "stream",
       "stream": "stdout",
       "text": [
        "\n",
        "1450 RADAR: DVN RADAR TIME: 1451"
       ]
      },
      {
       "output_type": "stream",
       "stream": "stdout",
       "text": [
        "\n",
        "1455 RADAR: DVN RADAR TIME: 1455"
       ]
      },
      {
       "output_type": "stream",
       "stream": "stdout",
       "text": [
        "\n",
        "1500 RADAR: DVN RADAR TIME: 1500"
       ]
      },
      {
       "output_type": "stream",
       "stream": "stdout",
       "text": [
        "\n",
        "1505 RADAR: ILX RADAR TIME: 1507"
       ]
      },
      {
       "output_type": "stream",
       "stream": "stdout",
       "text": [
        "\n",
        "1510 RADAR: ILX RADAR TIME: 1512"
       ]
      },
      {
       "output_type": "stream",
       "stream": "stdout",
       "text": [
        "\n",
        "1515 RADAR: ILX RADAR TIME: 1518"
       ]
      },
      {
       "output_type": "stream",
       "stream": "stdout",
       "text": [
        "\n",
        "1520 RADAR: ILX RADAR TIME: 1523"
       ]
      },
      {
       "output_type": "stream",
       "stream": "stdout",
       "text": [
        "\n",
        "1525 RADAR: ILX RADAR TIME: 1529"
       ]
      },
      {
       "output_type": "stream",
       "stream": "stdout",
       "text": [
        "\n",
        "1530 RADAR: ILX RADAR TIME: 1535"
       ]
      },
      {
       "output_type": "stream",
       "stream": "stdout",
       "text": [
        "\n",
        "1535 RADAR: ILX RADAR TIME: 1535"
       ]
      },
      {
       "output_type": "stream",
       "stream": "stdout",
       "text": [
        "\n",
        "1540 RADAR: LOT RADAR TIME: 1543"
       ]
      },
      {
       "output_type": "stream",
       "stream": "stdout",
       "text": [
        "\n",
        "1545 RADAR: LOT RADAR TIME: 1547"
       ]
      },
      {
       "output_type": "stream",
       "stream": "stdout",
       "text": [
        "\n",
        "1550 RADAR: LOT RADAR TIME: 1552"
       ]
      },
      {
       "output_type": "stream",
       "stream": "stdout",
       "text": [
        "\n",
        "1555 RADAR: LOT RADAR TIME: 1556"
       ]
      },
      {
       "output_type": "stream",
       "stream": "stdout",
       "text": [
        "\n",
        "1600 RADAR: LOT RADAR TIME: 1601"
       ]
      },
      {
       "output_type": "stream",
       "stream": "stdout",
       "text": [
        "\n",
        "1605 RADAR: LOT RADAR TIME: 1605"
       ]
      },
      {
       "output_type": "stream",
       "stream": "stdout",
       "text": [
        "\n",
        "1610 RADAR: LOT RADAR TIME: 1610"
       ]
      },
      {
       "output_type": "stream",
       "stream": "stdout",
       "text": [
        "\n",
        "1615 RADAR: LOT RADAR TIME: 1615"
       ]
      },
      {
       "output_type": "stream",
       "stream": "stdout",
       "text": [
        "\n",
        "1620 RADAR: LOT RADAR TIME: 1624"
       ]
      },
      {
       "output_type": "stream",
       "stream": "stdout",
       "text": [
        "\n",
        "1625 RADAR: LOT RADAR TIME: 1629"
       ]
      },
      {
       "output_type": "stream",
       "stream": "stdout",
       "text": [
        "\n",
        "1630 RADAR: LOT RADAR TIME: 1633"
       ]
      },
      {
       "output_type": "stream",
       "stream": "stdout",
       "text": [
        "\n",
        "1635 RADAR: LOT RADAR TIME: 1638"
       ]
      },
      {
       "output_type": "stream",
       "stream": "stdout",
       "text": [
        "\n",
        "1640 RADAR: LOT RADAR TIME: 1643"
       ]
      },
      {
       "output_type": "stream",
       "stream": "stdout",
       "text": [
        "\n",
        "1645 RADAR: LOT RADAR TIME: 1647"
       ]
      },
      {
       "output_type": "stream",
       "stream": "stdout",
       "text": [
        "\n",
        "1650 RADAR: LOT RADAR TIME: 1652"
       ]
      },
      {
       "output_type": "stream",
       "stream": "stdout",
       "text": [
        "\n",
        "1655 RADAR: LOT RADAR TIME: 1657"
       ]
      },
      {
       "output_type": "stream",
       "stream": "stdout",
       "text": [
        "\n",
        "1700 RADAR: LOT RADAR TIME: 1701"
       ]
      },
      {
       "output_type": "stream",
       "stream": "stdout",
       "text": [
        "\n",
        "1705 RADAR: LOT RADAR TIME: 1706"
       ]
      },
      {
       "output_type": "stream",
       "stream": "stdout",
       "text": [
        "\n",
        "1710 RADAR: LOT RADAR TIME: 1711"
       ]
      },
      {
       "output_type": "stream",
       "stream": "stdout",
       "text": [
        "\n",
        "1715 RADAR: LOT RADAR TIME: 1715"
       ]
      },
      {
       "output_type": "stream",
       "stream": "stdout",
       "text": [
        "\n",
        "1720 RADAR: LOT RADAR TIME: 1720"
       ]
      },
      {
       "output_type": "stream",
       "stream": "stdout",
       "text": [
        "\n",
        "1725 RADAR: LOT RADAR TIME: 1725"
       ]
      },
      {
       "output_type": "stream",
       "stream": "stdout",
       "text": [
        "\n",
        "1730 RADAR: IND RADAR TIME: 1730"
       ]
      },
      {
       "output_type": "stream",
       "stream": "stdout",
       "text": [
        "\n",
        "1735 RADAR: IND RADAR TIME: 1735"
       ]
      },
      {
       "output_type": "stream",
       "stream": "stdout",
       "text": [
        "\n",
        "1740 RADAR: IND RADAR TIME: 1744"
       ]
      },
      {
       "output_type": "stream",
       "stream": "stdout",
       "text": [
        "\n",
        "1745 RADAR: IND RADAR TIME: 1749"
       ]
      },
      {
       "output_type": "stream",
       "stream": "stdout",
       "text": [
        "\n",
        "1750 RADAR: IND RADAR TIME: 1753"
       ]
      },
      {
       "output_type": "stream",
       "stream": "stdout",
       "text": [
        "\n",
        "1755 RADAR: IND RADAR TIME: 1758"
       ]
      },
      {
       "output_type": "stream",
       "stream": "stdout",
       "text": [
        "\n",
        "1800 RADAR: IND RADAR TIME: 1803"
       ]
      },
      {
       "output_type": "stream",
       "stream": "stdout",
       "text": [
        "\n",
        "1805 RADAR: IND RADAR TIME: 1807"
       ]
      },
      {
       "output_type": "stream",
       "stream": "stdout",
       "text": [
        "\n",
        "1810 RADAR: IND RADAR TIME: 1812"
       ]
      },
      {
       "output_type": "stream",
       "stream": "stdout",
       "text": [
        "\n",
        "1815 RADAR: IND RADAR TIME: 1816"
       ]
      },
      {
       "output_type": "stream",
       "stream": "stdout",
       "text": [
        "\n",
        "1820 RADAR: IND RADAR TIME: 1821"
       ]
      },
      {
       "output_type": "stream",
       "stream": "stdout",
       "text": [
        "\n",
        "1825 RADAR: IND RADAR TIME: 1826"
       ]
      },
      {
       "output_type": "stream",
       "stream": "stdout",
       "text": [
        "\n",
        "1830 RADAR: IND RADAR TIME: 1830"
       ]
      },
      {
       "output_type": "stream",
       "stream": "stdout",
       "text": [
        "\n",
        "1835 RADAR: IND RADAR TIME: 1835"
       ]
      },
      {
       "output_type": "stream",
       "stream": "stdout",
       "text": [
        "\n",
        "1840 RADAR: IND RADAR TIME: 1840"
       ]
      },
      {
       "output_type": "stream",
       "stream": "stdout",
       "text": [
        "\n",
        "1845 RADAR: IND RADAR TIME: 1849"
       ]
      },
      {
       "output_type": "stream",
       "stream": "stdout",
       "text": [
        "\n",
        "1850 RADAR: IND RADAR TIME: 1854"
       ]
      },
      {
       "output_type": "stream",
       "stream": "stdout",
       "text": [
        "\n",
        "1855 RADAR: IND RADAR TIME: 1858"
       ]
      },
      {
       "output_type": "stream",
       "stream": "stdout",
       "text": [
        "\n",
        "1900 RADAR: IND RADAR TIME: 1903"
       ]
      },
      {
       "output_type": "stream",
       "stream": "stdout",
       "text": [
        "\n",
        "1905 RADAR: IND RADAR TIME: 1908"
       ]
      },
      {
       "output_type": "stream",
       "stream": "stdout",
       "text": [
        "\n",
        "1910 RADAR: IND RADAR TIME: 1912"
       ]
      },
      {
       "output_type": "stream",
       "stream": "stdout",
       "text": [
        "\n",
        "1915 RADAR: IND RADAR TIME: 1917"
       ]
      },
      {
       "output_type": "stream",
       "stream": "stdout",
       "text": [
        "\n",
        "1920 RADAR: IND RADAR TIME: 1922"
       ]
      },
      {
       "output_type": "stream",
       "stream": "stdout",
       "text": [
        "\n",
        "1925 RADAR: IND RADAR TIME: 1926"
       ]
      },
      {
       "output_type": "stream",
       "stream": "stdout",
       "text": [
        "\n",
        "1930 RADAR: IND RADAR TIME: 1931"
       ]
      },
      {
       "output_type": "stream",
       "stream": "stdout",
       "text": [
        "\n",
        "1935 RADAR: IND RADAR TIME: 1935"
       ]
      },
      {
       "output_type": "stream",
       "stream": "stdout",
       "text": [
        "\n",
        "1940 RADAR: IND RADAR TIME: 1940"
       ]
      },
      {
       "output_type": "stream",
       "stream": "stdout",
       "text": [
        "\n",
        "1945 RADAR: IND RADAR TIME: 1945"
       ]
      },
      {
       "output_type": "stream",
       "stream": "stdout",
       "text": [
        "\n",
        "1950 RADAR: ILN RADAR TIME: 1951"
       ]
      },
      {
       "output_type": "stream",
       "stream": "stdout",
       "text": [
        "\n",
        "1955 RADAR: ILN RADAR TIME: 1958"
       ]
      },
      {
       "output_type": "stream",
       "stream": "stdout",
       "text": [
        "\n",
        "2000 RADAR: ILN RADAR TIME: 2002"
       ]
      },
      {
       "output_type": "stream",
       "stream": "stdout",
       "text": [
        "\n",
        "2005 RADAR: ILN RADAR TIME: 2006"
       ]
      },
      {
       "output_type": "stream",
       "stream": "stdout",
       "text": [
        "\n",
        "2010 RADAR: ILN RADAR TIME: 2010"
       ]
      },
      {
       "output_type": "stream",
       "stream": "stdout",
       "text": [
        "\n",
        "2015 RADAR: ILN RADAR TIME: 2015"
       ]
      },
      {
       "output_type": "stream",
       "stream": "stdout",
       "text": [
        "\n",
        "2020 RADAR: ILN RADAR TIME: 2023"
       ]
      },
      {
       "output_type": "stream",
       "stream": "stdout",
       "text": [
        "\n",
        "2025 RADAR: ILN RADAR TIME: 2027"
       ]
      },
      {
       "output_type": "stream",
       "stream": "stdout",
       "text": [
        "\n",
        "2030 RADAR: ILN RADAR TIME: 2032"
       ]
      },
      {
       "output_type": "stream",
       "stream": "stdout",
       "text": [
        "\n",
        "2035 RADAR: ILN RADAR TIME: 2036"
       ]
      },
      {
       "output_type": "stream",
       "stream": "stdout",
       "text": [
        "\n",
        "2040 RADAR: ILN RADAR TIME: 2040"
       ]
      },
      {
       "output_type": "stream",
       "stream": "stdout",
       "text": [
        "\n",
        "2045 RADAR: ILN RADAR TIME: 2045"
       ]
      },
      {
       "output_type": "stream",
       "stream": "stdout",
       "text": [
        "\n",
        "2050 RADAR: ILN RADAR TIME: 2050"
       ]
      },
      {
       "output_type": "stream",
       "stream": "stdout",
       "text": [
        "\n",
        "2055 RADAR: ILN RADAR TIME: 2059"
       ]
      },
      {
       "output_type": "stream",
       "stream": "stdout",
       "text": [
        "\n",
        "2100 RADAR: ILN RADAR TIME: 2103"
       ]
      },
      {
       "output_type": "stream",
       "stream": "stdout",
       "text": [
        "\n",
        "2105 RADAR: ILN RADAR TIME: 2108"
       ]
      },
      {
       "output_type": "stream",
       "stream": "stdout",
       "text": [
        "\n",
        "2110 RADAR: ILN RADAR TIME: 2113"
       ]
      },
      {
       "output_type": "stream",
       "stream": "stdout",
       "text": [
        "\n",
        "2115 RADAR: ILN RADAR TIME: 2117"
       ]
      },
      {
       "output_type": "stream",
       "stream": "stdout",
       "text": [
        "\n",
        "2120 RADAR: ILN RADAR TIME: 2122"
       ]
      },
      {
       "output_type": "stream",
       "stream": "stdout",
       "text": [
        "\n",
        "2125 RADAR: ILN RADAR TIME: 2126"
       ]
      },
      {
       "output_type": "stream",
       "stream": "stdout",
       "text": [
        "\n",
        "2130 RADAR: ILN RADAR TIME: 2131"
       ]
      },
      {
       "output_type": "stream",
       "stream": "stdout",
       "text": [
        "\n",
        "2135 RADAR: ILN RADAR TIME: 2136"
       ]
      },
      {
       "output_type": "stream",
       "stream": "stdout",
       "text": [
        "\n",
        "2140 RADAR: ILN RADAR TIME: 2140"
       ]
      },
      {
       "output_type": "stream",
       "stream": "stdout",
       "text": [
        "\n",
        "2145 RADAR: ILN RADAR TIME: 2145"
       ]
      },
      {
       "output_type": "stream",
       "stream": "stdout",
       "text": [
        "\n",
        "2150 RADAR: ILN RADAR TIME: 2154"
       ]
      },
      {
       "output_type": "stream",
       "stream": "stdout",
       "text": [
        "\n",
        "2155 RADAR: ILN RADAR TIME: 2159"
       ]
      },
      {
       "output_type": "stream",
       "stream": "stdout",
       "text": [
        "\n",
        "2200 RADAR: ILN RADAR TIME: 2203"
       ]
      },
      {
       "output_type": "stream",
       "stream": "stdout",
       "text": [
        "\n",
        "2205 RADAR: ILN RADAR TIME: 2208"
       ]
      },
      {
       "output_type": "stream",
       "stream": "stdout",
       "text": [
        "\n",
        "2210 RADAR: ILN RADAR TIME: 2212"
       ]
      },
      {
       "output_type": "stream",
       "stream": "stdout",
       "text": [
        "\n",
        "2215 RADAR: ILN RADAR TIME: 2217"
       ]
      },
      {
       "output_type": "stream",
       "stream": "stdout",
       "text": [
        "\n",
        "2220 RADAR: RLX RADAR TIME: 2222"
       ]
      },
      {
       "output_type": "stream",
       "stream": "stdout",
       "text": [
        "\n",
        "2225 RADAR: RLX RADAR TIME: 2227"
       ]
      },
      {
       "output_type": "stream",
       "stream": "stdout",
       "text": [
        "\n",
        "2230 RADAR: RLX RADAR TIME: 2231"
       ]
      },
      {
       "output_type": "stream",
       "stream": "stdout",
       "text": [
        "\n",
        "2235 RADAR: RLX RADAR TIME: 2236"
       ]
      },
      {
       "output_type": "stream",
       "stream": "stdout",
       "text": [
        "\n",
        "2240 RADAR: RLX RADAR TIME: 2241"
       ]
      },
      {
       "output_type": "stream",
       "stream": "stdout",
       "text": [
        "\n",
        "2245 RADAR: RLX RADAR TIME: 2245"
       ]
      },
      {
       "output_type": "stream",
       "stream": "stdout",
       "text": [
        "\n",
        "2250 RADAR: RLX RADAR TIME: 2250"
       ]
      },
      {
       "output_type": "stream",
       "stream": "stdout",
       "text": [
        "\n",
        "2255 RADAR: RLX RADAR TIME: 2259"
       ]
      },
      {
       "output_type": "stream",
       "stream": "stdout",
       "text": [
        "\n",
        "2300 RADAR: RLX RADAR TIME: 2303"
       ]
      },
      {
       "output_type": "stream",
       "stream": "stdout",
       "text": [
        "\n",
        "2305 RADAR: RLX RADAR TIME: 2308"
       ]
      },
      {
       "output_type": "stream",
       "stream": "stdout",
       "text": [
        "\n",
        "2310 RADAR: RLX RADAR TIME: 2313"
       ]
      },
      {
       "output_type": "stream",
       "stream": "stdout",
       "text": [
        "\n",
        "2315 RADAR: RLX RADAR TIME: 2317"
       ]
      },
      {
       "output_type": "stream",
       "stream": "stdout",
       "text": [
        "\n",
        "2320 RADAR: RLX RADAR TIME: 2322"
       ]
      },
      {
       "output_type": "stream",
       "stream": "stdout",
       "text": [
        "\n",
        "2325 RADAR: RLX RADAR TIME: 2326"
       ]
      },
      {
       "output_type": "stream",
       "stream": "stdout",
       "text": [
        "\n",
        "2330 RADAR: RLX RADAR TIME: 2331"
       ]
      },
      {
       "output_type": "stream",
       "stream": "stdout",
       "text": [
        "\n",
        "2335 RADAR: RLX RADAR TIME: 2335"
       ]
      },
      {
       "output_type": "stream",
       "stream": "stdout",
       "text": [
        "\n",
        "2340 RADAR: RLX RADAR TIME: 2340"
       ]
      },
      {
       "output_type": "stream",
       "stream": "stdout",
       "text": [
        "\n",
        "2345 RADAR: RLX RADAR TIME: 2345"
       ]
      },
      {
       "output_type": "stream",
       "stream": "stdout",
       "text": [
        "\n",
        "2350 RADAR: RLX RADAR TIME: 2354"
       ]
      },
      {
       "output_type": "stream",
       "stream": "stdout",
       "text": [
        "\n",
        "2355 RADAR: FCX RADAR TIME: 2355"
       ]
      },
      {
       "output_type": "stream",
       "stream": "stdout",
       "text": [
        "\n",
        "0000 RADAR: FCX RADAR TIME: 0003"
       ]
      },
      {
       "output_type": "stream",
       "stream": "stdout",
       "text": [
        "\n",
        "0005 RADAR: FCX RADAR TIME: 0008"
       ]
      },
      {
       "output_type": "stream",
       "stream": "stdout",
       "text": [
        "\n",
        "0010 RADAR: FCX RADAR TIME: 0012"
       ]
      },
      {
       "output_type": "stream",
       "stream": "stdout",
       "text": [
        "\n",
        "0015 RADAR: FCX RADAR TIME: 0016"
       ]
      },
      {
       "output_type": "stream",
       "stream": "stdout",
       "text": [
        "\n",
        "0020 RADAR: FCX RADAR TIME: 0020"
       ]
      },
      {
       "output_type": "stream",
       "stream": "stdout",
       "text": [
        "\n",
        "0025 RADAR: FCX RADAR TIME: 0025"
       ]
      },
      {
       "output_type": "stream",
       "stream": "stdout",
       "text": [
        "\n",
        "0030 RADAR: FCX RADAR TIME: 0030"
       ]
      },
      {
       "output_type": "stream",
       "stream": "stdout",
       "text": [
        "\n",
        "0035 RADAR: FCX RADAR TIME: 0035"
       ]
      },
      {
       "output_type": "stream",
       "stream": "stdout",
       "text": [
        "\n",
        "0040 RADAR: FCX RADAR TIME: 0043"
       ]
      },
      {
       "output_type": "stream",
       "stream": "stdout",
       "text": [
        "\n",
        "0045 RADAR: FCX RADAR TIME: 0047"
       ]
      },
      {
       "output_type": "stream",
       "stream": "stdout",
       "text": [
        "\n",
        "0050 RADAR: FCX RADAR TIME: 0052"
       ]
      },
      {
       "output_type": "stream",
       "stream": "stdout",
       "text": [
        "\n",
        "0055 RADAR: FCX RADAR TIME: 0056"
       ]
      },
      {
       "output_type": "stream",
       "stream": "stdout",
       "text": [
        "\n",
        "0100 RADAR: FCX RADAR TIME: 0100"
       ]
      },
      {
       "output_type": "stream",
       "stream": "stdout",
       "text": [
        "\n",
        "0105 RADAR: FCX RADAR TIME: 0109"
       ]
      },
      {
       "output_type": "stream",
       "stream": "stdout",
       "text": [
        "\n",
        "0110 RADAR: FCX RADAR TIME: 0113"
       ]
      },
      {
       "output_type": "stream",
       "stream": "stdout",
       "text": [
        "\n",
        "0115 RADAR: FCX RADAR TIME: 0117"
       ]
      },
      {
       "output_type": "stream",
       "stream": "stdout",
       "text": [
        "\n",
        "0120 RADAR: FCX RADAR TIME: 0121"
       ]
      },
      {
       "output_type": "stream",
       "stream": "stdout",
       "text": [
        "\n",
        "0125 RADAR: FCX RADAR TIME: 0126"
       ]
      },
      {
       "output_type": "stream",
       "stream": "stdout",
       "text": [
        "\n",
        "0130 RADAR: FCX RADAR TIME: 0130"
       ]
      },
      {
       "output_type": "stream",
       "stream": "stdout",
       "text": [
        "\n",
        "0135 RADAR: FCX RADAR TIME: 0138"
       ]
      },
      {
       "output_type": "stream",
       "stream": "stdout",
       "text": [
        "\n",
        "0140 RADAR: FCX RADAR TIME: 0143"
       ]
      },
      {
       "output_type": "stream",
       "stream": "stdout",
       "text": [
        "\n",
        "0145 RADAR: FCX RADAR TIME: 0147"
       ]
      },
      {
       "output_type": "stream",
       "stream": "stdout",
       "text": [
        "\n",
        "0150 RADAR: FCX RADAR TIME: 0151"
       ]
      },
      {
       "output_type": "stream",
       "stream": "stdout",
       "text": [
        "\n",
        "0155 RADAR: FCX RADAR TIME: 0156"
       ]
      },
      {
       "output_type": "stream",
       "stream": "stdout",
       "text": [
        "\n",
        "0200 RADAR: FCX RADAR TIME: 0200"
       ]
      },
      {
       "output_type": "stream",
       "stream": "stdout",
       "text": [
        "\n",
        "0205 RADAR: FCX RADAR TIME: 0208"
       ]
      },
      {
       "output_type": "stream",
       "stream": "stdout",
       "text": [
        "\n",
        "0210 RADAR: FCX RADAR TIME: 0213"
       ]
      },
      {
       "output_type": "stream",
       "stream": "stdout",
       "text": [
        "\n",
        "0215 RADAR: FCX RADAR TIME: 0217"
       ]
      },
      {
       "output_type": "stream",
       "stream": "stdout",
       "text": [
        "\n",
        "0220 RADAR: LWX RADAR TIME: 0222"
       ]
      },
      {
       "output_type": "stream",
       "stream": "stdout",
       "text": [
        "\n",
        "0225 RADAR: LWX RADAR TIME: 0226"
       ]
      },
      {
       "output_type": "stream",
       "stream": "stdout",
       "text": [
        "\n",
        "0230 RADAR: LWX RADAR TIME: 0231"
       ]
      },
      {
       "output_type": "stream",
       "stream": "stdout",
       "text": [
        "\n",
        "0235 RADAR: LWX RADAR TIME: 0235"
       ]
      },
      {
       "output_type": "stream",
       "stream": "stdout",
       "text": [
        "\n",
        "0240 RADAR: LWX RADAR TIME: 0243"
       ]
      },
      {
       "output_type": "stream",
       "stream": "stdout",
       "text": [
        "\n",
        "0245 RADAR: LWX RADAR TIME: 0248"
       ]
      },
      {
       "output_type": "stream",
       "stream": "stdout",
       "text": [
        "\n",
        "0250 RADAR: LWX RADAR TIME: 0252"
       ]
      },
      {
       "output_type": "stream",
       "stream": "stdout",
       "text": [
        "\n",
        "0255 RADAR: LWX RADAR TIME: 0256"
       ]
      },
      {
       "output_type": "stream",
       "stream": "stdout",
       "text": [
        "\n",
        "0300 RADAR: LWX RADAR TIME: 0301"
       ]
      },
      {
       "output_type": "stream",
       "stream": "stdout",
       "text": [
        "\n",
        "0305 RADAR: AKQ RADAR TIME: 0306"
       ]
      },
      {
       "output_type": "stream",
       "stream": "stdout",
       "text": [
        "\n",
        "0310 RADAR: AKQ RADAR TIME: 0310"
       ]
      },
      {
       "output_type": "stream",
       "stream": "stdout",
       "text": [
        "\n",
        "0315 RADAR: AKQ RADAR TIME: 0315"
       ]
      },
      {
       "output_type": "stream",
       "stream": "stdout",
       "text": [
        "\n",
        "0320 RADAR: AKQ RADAR TIME: 0324"
       ]
      },
      {
       "output_type": "stream",
       "stream": "stdout",
       "text": [
        "\n",
        "0325 RADAR: AKQ RADAR TIME: 0328"
       ]
      },
      {
       "output_type": "stream",
       "stream": "stdout",
       "text": [
        "\n",
        "0330 RADAR: AKQ RADAR TIME: 0333"
       ]
      },
      {
       "output_type": "stream",
       "stream": "stdout",
       "text": [
        "\n",
        "0335 RADAR: AKQ RADAR TIME: 0337"
       ]
      },
      {
       "output_type": "stream",
       "stream": "stdout",
       "text": [
        "\n",
        "0340 RADAR: AKQ RADAR TIME: 0341"
       ]
      },
      {
       "output_type": "stream",
       "stream": "stdout",
       "text": [
        "\n",
        "0345 RADAR: AKQ RADAR TIME: 0346"
       ]
      },
      {
       "output_type": "stream",
       "stream": "stdout",
       "text": [
        "\n",
        "0350 RADAR: AKQ RADAR TIME: 0350"
       ]
      },
      {
       "output_type": "stream",
       "stream": "stdout",
       "text": [
        "\n",
        "0355 RADAR: AKQ RADAR TIME: 0355"
       ]
      },
      {
       "output_type": "stream",
       "stream": "stdout",
       "text": [
        "\n",
        "0400 RADAR: AKQ RADAR TIME: 0404"
       ]
      },
      {
       "output_type": "stream",
       "stream": "stdout",
       "text": [
        "\n",
        "0405 RADAR: AKQ RADAR TIME: 0408"
       ]
      },
      {
       "output_type": "stream",
       "stream": "stdout",
       "text": [
        "\n",
        "0410 RADAR: AKQ RADAR TIME: 0413"
       ]
      },
      {
       "output_type": "stream",
       "stream": "stdout",
       "text": [
        "\n",
        "0415 RADAR: AKQ RADAR TIME: 0419"
       ]
      },
      {
       "output_type": "stream",
       "stream": "stdout",
       "text": [
        "\n",
        "0420 RADAR: AKQ RADAR TIME: 0423"
       ]
      },
      {
       "output_type": "stream",
       "stream": "stdout",
       "text": [
        "\n",
        "0425 RADAR: AKQ RADAR TIME: 0428"
       ]
      },
      {
       "output_type": "stream",
       "stream": "stdout",
       "text": [
        "\n",
        "0430 RADAR: AKQ RADAR TIME: 0432"
       ]
      },
      {
       "output_type": "stream",
       "stream": "stdout",
       "text": [
        "\n",
        "0435 RADAR: AKQ RADAR TIME: 0437"
       ]
      },
      {
       "output_type": "stream",
       "stream": "stdout",
       "text": [
        "\n",
        "0440 RADAR: AKQ RADAR TIME: 0441"
       ]
      },
      {
       "output_type": "stream",
       "stream": "stdout",
       "text": [
        "\n",
        "0445 RADAR: AKQ RADAR TIME: 0446"
       ]
      },
      {
       "output_type": "stream",
       "stream": "stdout",
       "text": [
        "\n",
        "0450 RADAR: AKQ RADAR TIME: 0450"
       ]
      },
      {
       "output_type": "stream",
       "stream": "stdout",
       "text": [
        "\n",
        "0455 RADAR: AKQ RADAR TIME: 0459"
       ]
      },
      {
       "output_type": "stream",
       "stream": "stdout",
       "text": [
        "\n",
        "0500 RADAR: AKQ RADAR TIME: 0503"
       ]
      },
      {
       "output_type": "stream",
       "stream": "stdout",
       "text": [
        "\n",
        "0505 RADAR: AKQ RADAR TIME: 0508"
       ]
      },
      {
       "output_type": "stream",
       "stream": "stdout",
       "text": [
        "\n",
        "0510 RADAR: AKQ RADAR TIME: 0512"
       ]
      },
      {
       "output_type": "stream",
       "stream": "stdout",
       "text": [
        "\n",
        "0515 RADAR: AKQ RADAR TIME: 0517"
       ]
      },
      {
       "output_type": "stream",
       "stream": "stdout",
       "text": [
        "\n",
        "0520 RADAR: AKQ RADAR TIME: 0521"
       ]
      },
      {
       "output_type": "stream",
       "stream": "stdout",
       "text": [
        "\n",
        "0525 RADAR: AKQ RADAR TIME: 0525"
       ]
      },
      {
       "output_type": "stream",
       "stream": "stdout",
       "text": [
        "\n",
        "0530 RADAR: AKQ RADAR TIME: 0530"
       ]
      },
      {
       "output_type": "stream",
       "stream": "stdout",
       "text": [
        "\n",
        "0535 RADAR: AKQ RADAR TIME: 0539"
       ]
      },
      {
       "output_type": "stream",
       "stream": "stdout",
       "text": [
        "\n",
        "0540 RADAR: AKQ RADAR TIME: 0543"
       ]
      },
      {
       "output_type": "stream",
       "stream": "stdout",
       "text": [
        "\n",
        "0545 RADAR: AKQ RADAR TIME: 0548"
       ]
      },
      {
       "output_type": "stream",
       "stream": "stdout",
       "text": [
        "\n",
        "0550 RADAR: AKQ RADAR TIME: 0552"
       ]
      },
      {
       "output_type": "stream",
       "stream": "stdout",
       "text": [
        "\n",
        "0555 RADAR: AKQ RADAR TIME: 0557"
       ]
      },
      {
       "output_type": "stream",
       "stream": "stdout",
       "text": [
        "\n",
        "0600 RADAR: AKQ RADAR TIME: 0601"
       ]
      },
      {
       "output_type": "stream",
       "stream": "stdout",
       "text": [
        "\n"
       ]
      }
     ],
     "prompt_number": 25
    },
    {
     "cell_type": "markdown",
     "metadata": {},
     "source": [
      "## And we are done.  Exciting!"
     ]
    }
   ],
   "metadata": {}
  }
 ]
}