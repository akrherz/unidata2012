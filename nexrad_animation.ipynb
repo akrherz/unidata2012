{
 "metadata": {
  "name": "nexrad_animation"
 },
 "nbformat": 3,
 "nbformat_minor": 0,
 "worksheets": [
  {
   "cells": [
    {
     "cell_type": "markdown",
     "metadata": {},
     "source": [
      "# NEXRAD animation (movie) using IEM Web Image + Metadata Services\n",
      "\n",
      "Python is a very powerful language that makes binding a workflow fun\n",
      "and inituitive.  Generating eye-candy for presentations is often one of\n",
      "the most time consuming components.  Some folks will take 10s or 100s of\n",
      "screen captures and then use an arcaine method to generate a timelapse movie.\n",
      "Have you done this?!?\n",
      "In this example, we will build a timelapse of the 29 June 2012 Derecho.\n",
      "\n",
      "This example also demonstrates how to query a [metadata service](http://mesonet.agron.iastate.edu/GIS/ridge.phtml) emitting JSON\n",
      "and a simple [web service](http://mesonet.agron.iastate.edu/GIS/radmap_api.phtml) generating images. \n",
      "\n",
      "### Knowledge Requirements\n",
      "\n",
      "This example uses Python dictionaries and some object oriented features\n",
      "related to *datetime* objects.  The user should understand some of these, but\n",
      "manually hacking this script is not that hard either.\n",
      "\n",
      "### Python and System Requirements\n",
      "\n",
      "This example requires python 2.6 and higher for built in JSON support.  We also make\n",
      "use of the [PIL](http://www.pythonware.com/products/pil/) library.  At the end of the \n",
      "script, we combine the individual images into a movie using [ffmpeg](http://ffmpeg.org/).\n",
      "\n",
      "\n",
      "### Goals\n",
      "\n",
      "1. Illustrate an example of intelligent looping over time \n",
      "2. Query an IEM provided web service for metadata and imagery\n",
      "3. Make operating system calls to other applications."
     ]
    },
    {
     "cell_type": "code",
     "collapsed": true,
     "input": [
      "# Python Standard Lib\n",
      "import datetime\n",
      "import subprocess\n",
      "import os\n",
      "import urllib2\n",
      "import json # python2.6 and higher\n",
      "# Third party\n",
      "from PIL import Image, ImageDraw, ImageFont\n",
      "\n",
      "# Make sure we have a directory to dump temporary images to...\n",
      "if not os.path.isdir(\"images\"):\n",
      "    os.mkdir(\"images\")\n"
     ],
     "language": "python",
     "metadata": {},
     "outputs": [],
     "prompt_number": 2
    },
    {
     "cell_type": "code",
     "collapsed": false,
     "input": [
      "WSURL = \"http://mesonet.agron.iastate.edu/json/radar?\"\n",
      "RADMAPURL = \"http://mesonet.agron.iastate.edu/GIS/radmap.php?\"\n",
      "# Define waypoints\n",
      "time0 = datetime.datetime(2012,6,29,14,0) # UTC\n",
      "time1 = datetime.datetime(2012,6,30,4,0) # UTC\n",
      "(lon0, lat0) = (-90.70, 42.39) # DBQ\n",
      "(lon1, lat1) = (-77.03, 38.84) # DCA\n",
      "scale0 = 1.8 # units are roughly decimal degrees\n",
      "scale1 = 3.0\n",
      "# Compute dxdt and dydt (in deg/sec)\n",
      "dxdt = (lon1 - lon0) / (time1 - time0).seconds\n",
      "dydt = (lat1 - lat0) / (time1 - time0).seconds \n",
      "dt = 5 * 60  # seconds\n",
      "dscaledt = (scale1 - scale0) / (time1 - time0).seconds"
     ],
     "language": "python",
     "metadata": {},
     "outputs": [],
     "prompt_number": 2
    },
    {
     "cell_type": "code",
     "collapsed": false,
     "input": [
      "# We are ready to loop!\n",
      "start_time = datetime.datetime(2012,6,29,14,0)\n",
      "end_time = datetime.datetime(2012,6,30,6,0)\n",
      "\n",
      "# Compute our start point\n",
      "lat = lat0 + (dydt * (start_time - time0).seconds)\n",
      "lon = lon0 + (dxdt * (start_time - time0).seconds)\n",
      "scale = scale0 + (dscaledt * (start_time - time0).seconds)\n",
      "\n",
      "counter = 0\n",
      "now = start_time\n",
      "while now <= end_time:\n",
      "    lat += (dydt * dt)\n",
      "    lon += (dxdt * dt)\n",
      "    scale += (dscaledt * dt)\n",
      "    # Step 1: Get an *estimate* of NEXRADs available \n",
      "    # at this location, time \n",
      "    uri = \"%soperation=available&lat=%s&lon=%s&start=%s\" % (\n",
      "            WSURL, lat, lon, now.strftime(\"%Y-%m-%dT%H:%MZ\"))\n",
      "    res = urllib2.urlopen(uri)\n",
      "    jdict = json.loads( res.read() )\n",
      "    nexrad = None\n",
      "    # Step 2: Assume N0Q is available\n",
      "    # Step 3: Get available scans\n",
      "    jdict3 = {}\n",
      "    jdict3['scans'] = []\n",
      "    while len(jdict3['scans']) == 0:\n",
      "        # Find next NEXRAD\n",
      "        for entry in jdict['radars']:\n",
      "            if entry['type'] == 'NEXRAD':\n",
      "                nexrad = entry['id']\n",
      "                jdict['radars'].remove(entry)\n",
      "                break\n",
      "   \n",
      "        uri = \"%soperation=list&radar=%s&product=N0Q&start=%s&end=%s\" % (\n",
      "            WSURL, nexrad, now.strftime(\"%Y-%m-%dT%H:%MZ\"),\n",
      "            (now + datetime.timedelta(minutes=10)).strftime(\"%Y-%m-%dT%H:%MZ\")) \n",
      "        res = urllib2.urlopen(uri)\n",
      "        jdict3 = json.loads( res.read() )\n",
      "        \n",
      "    nexrad_valid = datetime.datetime.strptime(jdict3['scans'][0]['ts'] , \"%Y-%m-%dT%H:%MZ\" )\n",
      "    \n",
      "    # We are now ready to call the Radmap API!, \n",
      "    # we will create one image per Level III product\n",
      "    for prod in ['N0Q', 'N0U']:\n",
      "        uri = \"%s&layers[]=sbw&layers[]=ridge&ridge_product=%s&\" % (RADMAPURL, prod)\n",
      "        uri += \"bbox=%.3f,%.3f,%.3f,%.3f&\" % (lon - scale, lat - scale, lon + scale, lat + scale)\n",
      "        uri += \"ridge_radar=%s&ts=%s&width=360&height=480\" % (nexrad, nexrad_valid.strftime(\"%Y%m%d%H%M\") )\n",
      "        res = urllib2.urlopen( uri )\n",
      "        # Write to a temporary file\n",
      "        image = open('images/%05i%s.png' % (\n",
      "                       counter, prod), 'w')\n",
      "        image.write( res.read() )\n",
      "        image.close()\n",
      "    \n",
      "    # Switch together into one larger image\n",
      "    image = Image.new('RGB', (720,480))\n",
      "    n0q = Image.open('images/%05iN0Q.png' % (counter,))\n",
      "    image.paste(n0q, (0,0))\n",
      "    n0u = Image.open('images/%05iN0U.png' % (counter,))\n",
      "    image.paste(n0u, (362,0))\n",
      "    image.save('images/%05i.png' % (counter,))\n",
      "    del image, n0u, n0q\n",
      "    \n",
      "    print '%s RADAR: %s RADAR TIME: %s' % (now.strftime(\"%H%M\"), nexrad, nexrad_valid.strftime(\"%H%M\"))\n",
      "    # Increment our counters\n",
      "    counter += 1\n",
      "    now += datetime.timedelta(seconds=dt)"
     ],
     "language": "python",
     "metadata": {},
     "outputs": [
      {
       "output_type": "stream",
       "stream": "stdout",
       "text": [
        "1400 RADAR: DVN RADAR TIME: 1403\n",
        "1405 RADAR: DVN RADAR TIME: 1407"
       ]
      },
      {
       "output_type": "stream",
       "stream": "stdout",
       "text": [
        "\n",
        "1410 RADAR: DVN RADAR TIME: 1412"
       ]
      },
      {
       "output_type": "stream",
       "stream": "stdout",
       "text": [
        "\n",
        "1415 RADAR: DVN RADAR TIME: 1416"
       ]
      },
      {
       "output_type": "stream",
       "stream": "stdout",
       "text": [
        "\n",
        "1420 RADAR: DVN RADAR TIME: 1420"
       ]
      },
      {
       "output_type": "stream",
       "stream": "stdout",
       "text": [
        "\n",
        "1425 RADAR: DVN RADAR TIME: 1425"
       ]
      },
      {
       "output_type": "stream",
       "stream": "stdout",
       "text": [
        "\n",
        "1430 RADAR: DVN RADAR TIME: 1433"
       ]
      },
      {
       "output_type": "stream",
       "stream": "stdout",
       "text": [
        "\n",
        "1435 RADAR: DVN RADAR TIME: 1438"
       ]
      },
      {
       "output_type": "stream",
       "stream": "stdout",
       "text": [
        "\n",
        "1440 RADAR: DVN RADAR TIME: 1442"
       ]
      },
      {
       "output_type": "stream",
       "stream": "stdout",
       "text": [
        "\n",
        "1445 RADAR: DVN RADAR TIME: 1446"
       ]
      }
     ],
     "prompt_number": "*"
    },
    {
     "cell_type": "code",
     "collapsed": false,
     "input": [
      "# generate movie using system ffmpeg tool\n",
      "# If this fails, it is not the end of the world\n",
      "subprocess.call(\"ffmpeg -r 4 -i images/%05d.png -b 2000k out.mov\", shell=True)"
     ],
     "language": "python",
     "metadata": {},
     "outputs": [
      {
       "output_type": "pyout",
       "prompt_number": 3,
       "text": [
        "0"
       ]
      }
     ],
     "prompt_number": 3
    },
    {
     "cell_type": "markdown",
     "metadata": {},
     "source": [
      "## And we are done.  Exciting!"
     ]
    }
   ],
   "metadata": {}
  }
 ]
}