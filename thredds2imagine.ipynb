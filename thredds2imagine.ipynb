{
 "metadata": {
  "name": "thredds2imagine"
 },
 "nbformat": 3,
 "nbformat_minor": 0,
 "worksheets": [
  {
   "cells": [
    {
     "cell_type": "markdown",
     "metadata": {},
     "source": [
      "# Thredds netCDF to ERDAS Imagine format\n",
      "\n",
      "For meteorology, Unidata's netCDF format is a wonderful format for passing\n",
      "data around between applications.  Unfortunately, the main software package\n",
      "in the GIS world (ArcGIS) struggles with this format.  In this example, we\n",
      "convert a grid of netcdf near surface temperatures provided by the Unidata\n",
      "Thredds service into an [ERDAS Imagine](http://en.wikipedia.org/wiki/Erdas_Imagine) image file.  This file is easily read\n",
      "into ArcGIS.\n",
      "\n",
      "### Knowledge Requirements\n",
      "\n",
      "The user should have a general understanding of object oriented Python and\n",
      "a basic understanding of GIS formats and projections.  \n",
      "\n",
      "### Python Requirements\n",
      "\n",
      "This example uses the python interface to [GDAL](http://www.gdal.org/) and\n",
      "Jeff Whitaker's excellent python interface to \n",
      "[netCDF](http://code.google.com/p/netcdf4-python/).  Unfortunately, getting\n",
      "these packages installed is non-trivial, but can be done! \n",
      "\n",
      "### Goals\n",
      "\n",
      "1. Download a subsampled netCDF file from Unidata's Thredds service.\n",
      "2. Read netcdf data from python\n",
      "3. Create and write to an ERDAS Imagine file"
     ]
    },
    {
     "cell_type": "code",
     "collapsed": false,
     "input": [
      "# python stdlib stuff\n",
      "import urllib2\n",
      "# Third Party\n",
      "import netCDF4\n",
      "from osgeo import gdal as gdal"
     ],
     "language": "python",
     "metadata": {},
     "outputs": [],
     "prompt_number": 1
    },
    {
     "cell_type": "code",
     "collapsed": false,
     "input": [
      "uri = \"http://motherlode.ucar.edu/thredds/ncss/grid/fmrc/NCEP/GFS/\"\n",
      "uri += \"CONUS_80km/runs/NCEP-GFS-CONUS_80km_RUN_2012-07-04T00:00:00Z?\"\n",
      "uri += \"var=Temperature_height_above_ground&spatial=all&temporal=all\"\n",
      "\n",
      "res = urllib2.urlopen(uri)\n",
      "# Write the response from the webserver to a temp file\n",
      "fp = open('temp.nc', 'w')\n",
      "fp.write( res.read() )\n",
      "fp.close()"
     ],
     "language": "python",
     "metadata": {},
     "outputs": [],
     "prompt_number": 2
    },
    {
     "cell_type": "code",
     "collapsed": false,
     "input": [
      "# Open the netcdf file\n",
      "nc = netCDF4.Dataset('temp.nc', 'r')\n",
      "lc = nc.variables['Lambert_Conformal']\n",
      "data = nc.variables['Temperature_height_above_ground']\n",
      "nc_x = nc.variables['x']\n",
      "nc_y = nc.variables['y']"
     ],
     "language": "python",
     "metadata": {},
     "outputs": [],
     "prompt_number": 3
    },
    {
     "cell_type": "code",
     "collapsed": false,
     "input": [
      "# Initialize an output driver \n",
      "drv = gdal.GetDriverByName('HFA')\n",
      "# Create a destination dataset\n",
      "ds = drv.Create('GFS_TMPK.img', len(nc.dimensions['x']), \n",
      "        len(nc.dimensions['y']), 1, \n",
      "        gdal.GDT_Float32, options = [ 'COMPRESS=YES' ])\n",
      "\n",
      "# Manual projection hack here, hold yer nose\n",
      "srs = \"\"\"PROJCS[\"North_America_Lambert_Conformal_Conic\",\n",
      "    GEOGCS[\"GCS_North_American_1983\",\n",
      "        DATUM[\"North_American_Datum_1983\",\n",
      "            SPHEROID[\"GRS_1980\",6378137.0,298.257222101]],\n",
      "        PRIMEM[\"Greenwich\",0.0],\n",
      "        UNIT[\"Degree\",0.017453292519943295]],\n",
      "    PROJECTION[\"Lambert_Conformal_Conic_2SP\"],\n",
      "    PARAMETER[\"False_Easting\",0.0],\n",
      "    PARAMETER[\"False_Northing\",0.0],\n",
      "    PARAMETER[\"Central_Meridian\",%s],\n",
      "    PARAMETER[\"Standard_Parallel_1\",%s],\n",
      "    PARAMETER[\"Standard_Parallel_2\",%s],\n",
      "    PARAMETER[\"Latitude_Of_Origin\",%s],\n",
      "    UNIT[\"Meter\",1.0]]\"\"\" % (\n",
      "        lc.longitude_of_central_meridian,\n",
      "        lc.standard_parallel, \n",
      "        lc.standard_parallel, lc.standard_parallel)\n",
      "\n",
      "# Assign projection information to the destination \n",
      "ds.SetProjection( srs  )\n",
      "# Gotcha, need to flip the data up/down\n",
      "ds.GetRasterBand(1).WriteArray( numpy.flipud(data[0,0,:,:]) )\n",
      "ds.GetRasterBand(1).SetDescription('GFS 2m TMPK')\n",
      "# Optional, allows ArcGIS to auto show a legend\n",
      "ds.GetRasterBand(1).ComputeStatistics(True)\n",
      "\n",
      "# top left x, w-e pixel resolution, rotation, top left y, rotation, n-s pixel resolution\n",
      "ds.SetGeoTransform( [ nc_x[0] * 1000.0, lc.GRIB_param_Dx, 0, \n",
      "                     nc_y[-1] * 1000.0, 0, 0 - lc.GRIB_param_Dy ] )\n",
      "print 'We wrote:', ds.GetRasterBand(1).ComputeRasterMinMax()\n",
      "# Close the files by destroying the objects\n",
      "del ds\n",
      "del srs\n",
      "\n",
      "# Reopen the file to show our committment to fidelity\n",
      "ds = gdal.Open('test.img')\n",
      "print 'We read: ', ds.GetRasterBand(1).ComputeRasterMinMax()\n",
      "del ds\n",
      "\n",
      "print 'We rocked it'"
     ],
     "language": "python",
     "metadata": {},
     "outputs": [
      {
       "output_type": "stream",
       "stream": "stdout",
       "text": [
        "We wrote: (273.89999389648438, 313.29998779296875)\n",
        "We read:  (273.89999389648438, 313.29998779296875)\n",
        "We rocked it\n"
       ]
      }
     ],
     "prompt_number": 6
    },
    {
     "cell_type": "markdown",
     "metadata": {},
     "source": [
      "# All done!"
     ]
    }
   ],
   "metadata": {}
  }
 ]
}