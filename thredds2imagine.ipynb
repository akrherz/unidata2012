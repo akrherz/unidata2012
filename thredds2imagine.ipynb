{
 "metadata": {
  "name": "thredds2imagine"
 },
 "nbformat": 3,
 "nbformat_minor": 0,
 "worksheets": [
  {
   "cells": [
    {
     "cell_type": "code",
     "collapsed": false,
     "input": [
      "import netCDF4\n",
      "from osgeo import gdal as gdal"
     ],
     "language": "python",
     "metadata": {},
     "outputs": [],
     "prompt_number": 1
    },
    {
     "cell_type": "code",
     "collapsed": false,
     "input": [
      "nc = netCDF4.Dataset('NCEP-GFS-CONUS_80km_RUN_2012-07-04T00-00-00Z.nc', 'r')\n",
      "lc = nc.variables['Lambert_Conformal']\n",
      "data = nc.variables['Temperature_height_above_ground']\n",
      "nc_x = nc.variables['x']\n",
      "nc_y = nc.variables['y']"
     ],
     "language": "python",
     "metadata": {},
     "outputs": [],
     "prompt_number": 2
    },
    {
     "cell_type": "code",
     "collapsed": false,
     "input": [
      "drv = gdal.GetDriverByName('HFA')\n",
      "ds = drv.Create('test.img', len(nc.dimensions['x']), len(nc.dimensions['y']), 1, \n",
      "        gdal.GDT_Float32, options = [ 'COMPRESS=YES' ])\n",
      "\n",
      "srs = \"\"\"PROJCS[\"North_America_Lambert_Conformal_Conic\",\n",
      "    GEOGCS[\"GCS_North_American_1983\",\n",
      "        DATUM[\"North_American_Datum_1983\",\n",
      "            SPHEROID[\"GRS_1980\",6378137.0,298.257222101]],\n",
      "        PRIMEM[\"Greenwich\",0.0],\n",
      "        UNIT[\"Degree\",0.017453292519943295]],\n",
      "    PROJECTION[\"Lambert_Conformal_Conic_2SP\"],\n",
      "    PARAMETER[\"False_Easting\",0.0],\n",
      "    PARAMETER[\"False_Northing\",0.0],\n",
      "    PARAMETER[\"Central_Meridian\",%s],\n",
      "    PARAMETER[\"Standard_Parallel_1\",%s],\n",
      "    PARAMETER[\"Standard_Parallel_2\",%s],\n",
      "    PARAMETER[\"Latitude_Of_Origin\",%s],\n",
      "    UNIT[\"Meter\",1.0]]\"\"\" % (lc.longitude_of_central_meridian,\n",
      "    lc.standard_parallel, lc.standard_parallel, lc.standard_parallel)\n",
      "\n",
      "\n",
      "ds.SetProjection( srs  )\n",
      "ds.GetRasterBand(1).WriteArray( numpy.flipud(data[0,0,:,:]) )\n",
      "ds.GetRasterBand(1).SetDescription('GFS 2m TMPK')\n",
      "ds.GetRasterBand(1).ComputeStatistics(True)\n",
      "\n",
      "# top left x, w-e pixel resolution, rotation, top left y, rotation, n-s pixel resolution\n",
      "ds.SetGeoTransform( [ nc_x[0] * 1000.0, lc.GRIB_param_Dx, 0, \n",
      "                     nc_y[-1] * 1000.0, 0, 0 - lc.GRIB_param_Dy ] )\n",
      "print 'Outputted', ds.GetRasterBand(1).ComputeRasterMinMax()\n",
      "del ds\n",
      "del srs\n",
      "\n",
      "ds = gdal.Open('test.img')\n",
      "print 'Test Read', ds.GetRasterBand(1).ComputeRasterMinMax()\n",
      "del ds"
     ],
     "language": "python",
     "metadata": {},
     "outputs": [
      {
       "output_type": "stream",
       "stream": "stdout",
       "text": [
        "Outputted (273.89999389648438, 313.29998779296875)\n",
        "Test Read (273.89999389648438, 313.29998779296875)\n"
       ]
      }
     ],
     "prompt_number": 14
    },
    {
     "cell_type": "code",
     "collapsed": false,
     "input": [],
     "language": "python",
     "metadata": {},
     "outputs": []
    }
   ],
   "metadata": {}
  }
 ]
}