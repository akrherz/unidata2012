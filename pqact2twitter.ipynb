{
 "metadata": {
  "name": "pqact2twitter"
 },
 "nbformat": 3,
 "nbformat_minor": 0,
 "worksheets": [
  {
   "cells": [
    {
     "cell_type": "code",
     "collapsed": false,
     "input": [
      "from twisted.internet import reactor\n",
      "import ldmbridge \n",
      "from twittytwister import twitter\n",
      "from oauth import oauth\n",
      "import secret\n",
      "\n",
      "OAUTH_CONSUMER = oauth.OAuthConsumer(secret.consumer_key, secret.consumer_secret)\n",
      "OAUTH_TOKEN = oauth.OAuthToken(secret.usertoken, secret.usersecret)\n",
      "\n",
      "def real_processor( text ):\n",
      "    text = text.replace(\"\\r\\r\\n\", \"\\n\") # Convert to Unix LF\n",
      "    lines = text.split(\"\\n\")\n",
      "    afos = lines[3]\n",
      "    wfo = afos[3:] # char 3 and to the end\n",
      "    \n",
      "    tweet = \"%s issues Area Forecast Discussion\" % (wfo,)\n",
      "    tw = twitter.Twitter(consumer=OAUTH_CONSUMER, token=OAUTH_TOKEN)\n",
      "    tw.update( tweet )\n",
      "    \n",
      "class myProductIngestor(ldmbridge.LDMProductReceiver):\n",
      "\n",
      "    def process_data(self, text):\n",
      "        real_processor( text )\n",
      "    \n",
      "    def connectionLost(self, reason):\n",
      "        print 'connectionLost', reason\n",
      "        reactor.callLater(5, self.shutdown)\n",
      "\n",
      "    def shutdown(self):\n",
      "        reactor.callWhenRunning(reactor.stop)\n",
      "\n",
      "\n",
      "PI = myProductIngestor()\n",
      "# For demonstration purposes\n",
      "PI.process_data( open('AFDOUN.txt').read() )\n",
      "\n",
      "# This is how it would work in real-life\n",
      "#ldm = ldmbridge.LDMProductFactory( PI )\n",
      "# Necessary to get ipython to return\n",
      "reactor.callLater(10, reactor.stop)\n",
      "reactor.run()\n"
     ],
     "language": "python",
     "metadata": {},
     "outputs": [],
     "prompt_number": "*"
    },
    {
     "cell_type": "code",
     "collapsed": false,
     "input": [],
     "language": "python",
     "metadata": {},
     "outputs": []
    }
   ],
   "metadata": {}
  }
 ]
}