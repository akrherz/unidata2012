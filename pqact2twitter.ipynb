{
 "metadata": {
  "name": "pqact2twitter"
 },
 "nbformat": 3,
 "nbformat_minor": 0,
 "worksheets": [
  {
   "cells": [
    {
     "cell_type": "markdown",
     "metadata": {},
     "source": [
      "# Asynchronos bridge from LDM's pqact to Twitter\n",
      "\n",
      "One of the really cool things about meteorology is the live stream of \n",
      "realtime data we get from the US National Weather Service.  This firehose\n",
      "of data is always on and full of hard to process data files.  Unidata \n",
      "developed software called [Local Data Manager](http://www.unidata.ucar.edu/software/ldm/)\n",
      "that helps manage this data stream and feed it to other requesting hosts.\n",
      "\n",
      "Data arriving at the LDM host is optionally processed by a local queue monitoring\n",
      "process called 'pqact'.  This \"product queue actions\" software can be configured to\n",
      "process products based on match feed types and product IDs.  This example presents\n",
      "an asychronos pqact processing tool written in python.\n",
      " \n",
      "### Knowledge Requirements\n",
      "\n",
      "The user should have an understanding of how LDM works and configuring pqact to \n",
      "execute scripts.  The python code presented in this tutorial is a bit advanced\n",
      "as well and takes advantage of the very slick [Twisted](http://twistedmatrix.com)\n",
      "library.\n",
      "\n",
      "### Python Requirements\n",
      "\n",
      "This example requires Twisted Python to be installed and optionally the \n",
      "[Twitty Twister](https://github.com/dustin/twitty-twister/) for routing of\n",
      "messages to Twitter.  This source tree also provides a copy of daryl's \n",
      "async ldmbridge package.\n",
      "\n",
      "### Goals\n",
      "\n",
      "1. Show how to parse products from LDM's pqact\n",
      "2. Do some crude text parsing to determine metadata inside\n",
      "3. Send a simple message to twitter."
     ]
    },
    {
     "cell_type": "code",
     "collapsed": false,
     "input": [
      "from twisted.internet import reactor\n",
      "import ldmbridge \n",
      "from twittytwister import twitter\n",
      "from oauth import oauth\n",
      "import secret\n",
      "\n",
      "OAUTH_CONSUMER = oauth.OAuthConsumer(secret.consumer_key, secret.consumer_secret)\n",
      "OAUTH_TOKEN = oauth.OAuthToken(secret.usertoken, secret.usersecret)\n",
      "\n",
      "def real_processor( text ):\n",
      "    text = text.replace(\"\\r\\r\\n\", \"\\n\") # Convert to Unix LF\n",
      "    lines = text.split(\"\\n\")\n",
      "    afos = lines[3]\n",
      "    wfo = afos[3:] # char 3 and to the end\n",
      "    \n",
      "    tweet = \"%s issues Area Forecast Discussion\" % (wfo,)\n",
      "    tw = twitter.Twitter(consumer=OAUTH_CONSUMER, token=OAUTH_TOKEN)\n",
      "    tw.update( tweet )\n",
      "    \n",
      "class myProductIngestor(ldmbridge.LDMProductReceiver):\n",
      "\n",
      "    def process_data(self, text):\n",
      "        real_processor( text )\n",
      "    \n",
      "    def connectionLost(self, reason):\n",
      "        print 'connectionLost', reason\n",
      "        reactor.callLater(5, self.shutdown)\n",
      "\n",
      "    def shutdown(self):\n",
      "        reactor.callWhenRunning(reactor.stop)\n",
      "\n",
      "\n",
      "PI = myProductIngestor()\n",
      "# For demonstration purposes\n",
      "PI.process_data( open('AFDOUN.txt').read() )\n",
      "\n",
      "# This is how it would work in real-life\n",
      "#ldm = ldmbridge.LDMProductFactory( PI )\n",
      "# Necessary to get ipython to return\n",
      "reactor.callLater(10, reactor.stop)\n",
      "reactor.run()\n"
     ],
     "language": "python",
     "metadata": {},
     "outputs": [
      {
       "ename": "ReactorNotRestartable",
       "evalue": "",
       "output_type": "pyerr",
       "traceback": [
        "\u001b[1;31m---------------------------------------------------------------------------\u001b[0m\n\u001b[1;31mReactorNotRestartable\u001b[0m                     Traceback (most recent call last)",
        "\u001b[1;32m<ipython-input-2-cc5ec0ebb89e>\u001b[0m in \u001b[0;36m<module>\u001b[1;34m()\u001b[0m\n\u001b[0;32m     39\u001b[0m \u001b[1;31m# Necessary to get ipython to return\u001b[0m\u001b[1;33m\u001b[0m\u001b[1;33m\u001b[0m\u001b[0m\n\u001b[0;32m     40\u001b[0m \u001b[0mreactor\u001b[0m\u001b[1;33m.\u001b[0m\u001b[0mcallLater\u001b[0m\u001b[1;33m(\u001b[0m\u001b[1;36m10\u001b[0m\u001b[1;33m,\u001b[0m \u001b[0mreactor\u001b[0m\u001b[1;33m.\u001b[0m\u001b[0mstop\u001b[0m\u001b[1;33m)\u001b[0m\u001b[1;33m\u001b[0m\u001b[0m\n\u001b[1;32m---> 41\u001b[1;33m \u001b[0mreactor\u001b[0m\u001b[1;33m.\u001b[0m\u001b[0mrun\u001b[0m\u001b[1;33m(\u001b[0m\u001b[1;33m)\u001b[0m\u001b[1;33m\u001b[0m\u001b[0m\n\u001b[0m",
        "\u001b[1;32m/usr/lib/python2.6/site-packages/twisted/internet/base.pyc\u001b[0m in \u001b[0;36mrun\u001b[1;34m(self, installSignalHandlers)\u001b[0m\n\u001b[0;32m   1166\u001b[0m \u001b[1;33m\u001b[0m\u001b[0m\n\u001b[0;32m   1167\u001b[0m     \u001b[1;32mdef\u001b[0m \u001b[0mrun\u001b[0m\u001b[1;33m(\u001b[0m\u001b[0mself\u001b[0m\u001b[1;33m,\u001b[0m \u001b[0minstallSignalHandlers\u001b[0m\u001b[1;33m=\u001b[0m\u001b[0mTrue\u001b[0m\u001b[1;33m)\u001b[0m\u001b[1;33m:\u001b[0m\u001b[1;33m\u001b[0m\u001b[0m\n\u001b[1;32m-> 1168\u001b[1;33m         \u001b[0mself\u001b[0m\u001b[1;33m.\u001b[0m\u001b[0mstartRunning\u001b[0m\u001b[1;33m(\u001b[0m\u001b[0minstallSignalHandlers\u001b[0m\u001b[1;33m=\u001b[0m\u001b[0minstallSignalHandlers\u001b[0m\u001b[1;33m)\u001b[0m\u001b[1;33m\u001b[0m\u001b[0m\n\u001b[0m\u001b[0;32m   1169\u001b[0m         \u001b[0mself\u001b[0m\u001b[1;33m.\u001b[0m\u001b[0mmainLoop\u001b[0m\u001b[1;33m(\u001b[0m\u001b[1;33m)\u001b[0m\u001b[1;33m\u001b[0m\u001b[0m\n\u001b[0;32m   1170\u001b[0m \u001b[1;33m\u001b[0m\u001b[0m\n",
        "\u001b[1;32m/usr/lib/python2.6/site-packages/twisted/internet/base.pyc\u001b[0m in \u001b[0;36mstartRunning\u001b[1;34m(self, installSignalHandlers)\u001b[0m\n\u001b[0;32m   1146\u001b[0m         \"\"\"\n\u001b[0;32m   1147\u001b[0m         \u001b[0mself\u001b[0m\u001b[1;33m.\u001b[0m\u001b[0m_installSignalHandlers\u001b[0m \u001b[1;33m=\u001b[0m \u001b[0minstallSignalHandlers\u001b[0m\u001b[1;33m\u001b[0m\u001b[0m\n\u001b[1;32m-> 1148\u001b[1;33m         \u001b[0mReactorBase\u001b[0m\u001b[1;33m.\u001b[0m\u001b[0mstartRunning\u001b[0m\u001b[1;33m(\u001b[0m\u001b[0mself\u001b[0m\u001b[1;33m)\u001b[0m\u001b[1;33m\u001b[0m\u001b[0m\n\u001b[0m\u001b[0;32m   1149\u001b[0m \u001b[1;33m\u001b[0m\u001b[0m\n\u001b[0;32m   1150\u001b[0m \u001b[1;33m\u001b[0m\u001b[0m\n",
        "\u001b[1;32m/usr/lib/python2.6/site-packages/twisted/internet/base.pyc\u001b[0m in \u001b[0;36mstartRunning\u001b[1;34m(self)\u001b[0m\n\u001b[0;32m    678\u001b[0m             \u001b[1;32mraise\u001b[0m \u001b[0merror\u001b[0m\u001b[1;33m.\u001b[0m\u001b[0mReactorAlreadyRunning\u001b[0m\u001b[1;33m(\u001b[0m\u001b[1;33m)\u001b[0m\u001b[1;33m\u001b[0m\u001b[0m\n\u001b[0;32m    679\u001b[0m         \u001b[1;32mif\u001b[0m \u001b[0mself\u001b[0m\u001b[1;33m.\u001b[0m\u001b[0m_startedBefore\u001b[0m\u001b[1;33m:\u001b[0m\u001b[1;33m\u001b[0m\u001b[0m\n\u001b[1;32m--> 680\u001b[1;33m             \u001b[1;32mraise\u001b[0m \u001b[0merror\u001b[0m\u001b[1;33m.\u001b[0m\u001b[0mReactorNotRestartable\u001b[0m\u001b[1;33m(\u001b[0m\u001b[1;33m)\u001b[0m\u001b[1;33m\u001b[0m\u001b[0m\n\u001b[0m\u001b[0;32m    681\u001b[0m         \u001b[0mself\u001b[0m\u001b[1;33m.\u001b[0m\u001b[0m_started\u001b[0m \u001b[1;33m=\u001b[0m \u001b[0mTrue\u001b[0m\u001b[1;33m\u001b[0m\u001b[0m\n\u001b[0;32m    682\u001b[0m         \u001b[0mself\u001b[0m\u001b[1;33m.\u001b[0m\u001b[0m_stopped\u001b[0m \u001b[1;33m=\u001b[0m \u001b[0mFalse\u001b[0m\u001b[1;33m\u001b[0m\u001b[0m\n",
        "\u001b[1;31mReactorNotRestartable\u001b[0m: "
       ]
      }
     ],
     "prompt_number": 2
    },
    {
     "cell_type": "code",
     "collapsed": false,
     "input": [],
     "language": "python",
     "metadata": {},
     "outputs": []
    }
   ],
   "metadata": {}
  }
 ]
}