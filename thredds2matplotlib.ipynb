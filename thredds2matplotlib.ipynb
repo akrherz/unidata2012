{
 "metadata": {
  "name": "thredds2matplotlib"
 },
 "nbformat": 3,
 "nbformat_minor": 0,
 "worksheets": [
  {
   "cells": [
    {
     "cell_type": "markdown",
     "metadata": {},
     "source": [
      "# Generate a simple timeseries plot from Unidata Thredds Web Service\n",
      "\n",
      "\n",
      "### Knowledge Requirements\n",
      "\n",
      "\n",
      "### Python Requirements\n",
      "\n",
      "\n",
      "### Goals\n",
      "\n",
      "1. Show simple parsing of string data into arrays\n",
      "2. Show how you can write Excel formatted data files\n",
      "3. Then read this data back for a test"
     ]
    },
    {
     "cell_type": "code",
     "collapsed": true,
     "input": [
      "# Standard Python Stuff\n",
      "import urllib2\n",
      "from xml.etree.ElementTree import ElementTree\n",
      "import datetime"
     ],
     "language": "python",
     "metadata": {},
     "outputs": [],
     "prompt_number": 1
    },
    {
     "cell_type": "code",
     "collapsed": false,
     "input": [
      "uri = \"http://motherlode.ucar.edu:9080/thredds/ncss/grid/grib/NCEP/\"\n",
      "uri += \"RAP/CONUS_13km/files/RR_CONUS_13km_20120619_1900.grib2?\"\n",
      "uri += \"var=Relative_humidity_height_above_ground&var=Temperature_height_above_ground&\"\n",
      "uri += \"latitude=42.11&longitude=-95.11&time_start=2012-06-19T19%3A00%3A00.000Z&\"\n",
      "uri += \"time_end=2012-06-20T04%3A00%3A00.000Z&&vertCoord=&accept=xml\"\n",
      "\n",
      "res = urllib2.urlopen(uri)\n",
      "tree = ElementTree()\n",
      "tree.parse(res)\n",
      "times = []\n",
      "relh = []\n",
      "tmpk = []\n",
      "for elem in tree.findall('point'):\n",
      "    for data in elem.findall('data'):\n",
      "        name = data.get(\"name\")\n",
      "        if name == 'Temperature_height_above_ground':\n",
      "            tmpk.append( float(data.text) )\n",
      "        elif name == 'Relative_humidity_height_above_ground':\n",
      "            relh.append( float(data.text) )\n",
      "        elif name == 'date':\n",
      "            times.append( datetime.datetime.strptime(data.text, \"%Y-%m-%dT%H:%M:%S.000Z\") )\n",
      "\n",
      "print times"
     ],
     "language": "python",
     "metadata": {},
     "outputs": [
      {
       "output_type": "stream",
       "stream": "stdout",
       "text": [
        "[datetime.datetime(2012, 6, 19, 19, 0), datetime.datetime(2012, 6, 19, 20, 0), datetime.datetime(2012, 6, 19, 21, 0), datetime.datetime(2012, 6, 19, 22, 0), datetime.datetime(2012, 6, 19, 23, 0), datetime.datetime(2012, 6, 20, 0, 0), datetime.datetime(2012, 6, 20, 1, 0), datetime.datetime(2012, 6, 20, 2, 0), datetime.datetime(2012, 6, 20, 3, 0), datetime.datetime(2012, 6, 20, 4, 0)]\n"
       ]
      }
     ],
     "prompt_number": 2
    },
    {
     "cell_type": "code",
     "collapsed": false,
     "input": [
      "# Now we plot!\n",
      "(fig, ax) = plt.subplots(1, 1)\n",
      "\n",
      "ax.set_title(\"Hello World!\")\n",
      "ax.plot(times, tmpk)"
     ],
     "language": "python",
     "metadata": {},
     "outputs": [
      {
       "output_type": "pyout",
       "prompt_number": 4,
       "text": [
        "[<matplotlib.lines.Line2D at 0x2626410>]"
       ]
      },
      {
       "output_type": "display_data",
       "png": "[encoded data removed]"
      }
     ],
     "prompt_number": 4
    },
    {
     "cell_type": "markdown",
     "metadata": {},
     "source": [
      "## And we are done.  Exciting!"
     ]
    }
   ],
   "metadata": {}
  }
 ]
}